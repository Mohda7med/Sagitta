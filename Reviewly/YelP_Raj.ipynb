{
 "cells": [
  {
   "cell_type": "code",
   "execution_count": 22,
   "metadata": {},
   "outputs": [],
   "source": [
    "import pandas as pd\n",
    "import numpy as np\n",
    "from gensim.models import Phrases\n",
    "from gensim.models.word2vec import LineSentence\n",
    "import spacy\n",
    "import itertools as it\n",
    "import os"
   ]
  },
  {
   "cell_type": "code",
   "execution_count": null,
   "metadata": {},
   "outputs": [],
   "source": [
    "import nltk\n",
    "from gensim import corpora\n",
    "from collections import defaultdict\n",
    "from pprint import pprint\n",
    "import codecs"
   ]
  },
  {
   "cell_type": "code",
   "execution_count": null,
   "metadata": {},
   "outputs": [],
   "source": [
    "pd.set_option('display.max_colwidth', 100)"
   ]
  },
  {
   "cell_type": "code",
   "execution_count": 4,
   "metadata": {},
   "outputs": [],
   "source": [
    "nlp = spacy.load('en') \n",
    "## python -m spacy download en"
   ]
  },
  {
   "cell_type": "code",
   "execution_count": 5,
   "metadata": {},
   "outputs": [],
   "source": [
    "review = pd.read_csv(\"/Volumes/Transcend/MDS_Yelp/yelp_review.csv\")"
   ]
  },
  {
   "cell_type": "code",
   "execution_count": 6,
   "metadata": {},
   "outputs": [
    {
     "data": {
      "text/html": [
       "<div>\n",
       "<style scoped>\n",
       "    .dataframe tbody tr th:only-of-type {\n",
       "        vertical-align: middle;\n",
       "    }\n",
       "\n",
       "    .dataframe tbody tr th {\n",
       "        vertical-align: top;\n",
       "    }\n",
       "\n",
       "    .dataframe thead th {\n",
       "        text-align: right;\n",
       "    }\n",
       "</style>\n",
       "<table border=\"1\" class=\"dataframe\">\n",
       "  <thead>\n",
       "    <tr style=\"text-align: right;\">\n",
       "      <th></th>\n",
       "      <th>review_id</th>\n",
       "      <th>user_id</th>\n",
       "      <th>business_id</th>\n",
       "      <th>stars</th>\n",
       "      <th>date</th>\n",
       "      <th>text</th>\n",
       "      <th>useful</th>\n",
       "      <th>funny</th>\n",
       "      <th>cool</th>\n",
       "      <th>parsed_text</th>\n",
       "    </tr>\n",
       "  </thead>\n",
       "  <tbody>\n",
       "    <tr>\n",
       "      <th>1155267</th>\n",
       "      <td>s9GBl-WBsCJrl49llUfTig</td>\n",
       "      <td>psaaZ3Ulc3EFGv37UpxxRg</td>\n",
       "      <td>SOoNoV7_YJcuWgVfetspfg</td>\n",
       "      <td>2</td>\n",
       "      <td>2015-08-04</td>\n",
       "      <td>I would be giving zero stars if my second experience was my only experience. On this second occa...</td>\n",
       "      <td>5</td>\n",
       "      <td>1</td>\n",
       "      <td>0</td>\n",
       "      <td>None</td>\n",
       "    </tr>\n",
       "    <tr>\n",
       "      <th>3007981</th>\n",
       "      <td>NMz3UJtl4ruL39QQGDv5ZQ</td>\n",
       "      <td>TudUls_yRpkZoDe9m9O_tg</td>\n",
       "      <td>7svPiqFz7ad82VcdDbBcJw</td>\n",
       "      <td>5</td>\n",
       "      <td>2017-07-04</td>\n",
       "      <td>I love this Starbucks, nice peeps and the service is outstanding.\\nThey know their business that...</td>\n",
       "      <td>0</td>\n",
       "      <td>0</td>\n",
       "      <td>0</td>\n",
       "      <td>None</td>\n",
       "    </tr>\n",
       "    <tr>\n",
       "      <th>1921077</th>\n",
       "      <td>6fNzrwuJyUnDtR8BcqNRfQ</td>\n",
       "      <td>5MChqlj0L3DzVi5-cS_xvg</td>\n",
       "      <td>CZKHXlDuy3IagC2W881fyA</td>\n",
       "      <td>5</td>\n",
       "      <td>2017-12-11</td>\n",
       "      <td>So I've never been big on cocktails. I know they're good but i never really raves about how good...</td>\n",
       "      <td>0</td>\n",
       "      <td>0</td>\n",
       "      <td>0</td>\n",
       "      <td>None</td>\n",
       "    </tr>\n",
       "    <tr>\n",
       "      <th>788957</th>\n",
       "      <td>4YU22XKLI9z8oHOIur-c9w</td>\n",
       "      <td>iQbqQwF6ttvdMbpbqEGIaQ</td>\n",
       "      <td>onoZsIFPJXumpV_ndxcGTQ</td>\n",
       "      <td>2</td>\n",
       "      <td>2007-04-08</td>\n",
       "      <td>When I first came to town, I was stuck going here for my internet access.\\n\\nI had to pay for a ...</td>\n",
       "      <td>2</td>\n",
       "      <td>1</td>\n",
       "      <td>0</td>\n",
       "      <td>None</td>\n",
       "    </tr>\n",
       "    <tr>\n",
       "      <th>274477</th>\n",
       "      <td>NbNhfEJoqLcqnz6dfwHeTQ</td>\n",
       "      <td>lSjdYb2wussdNmj5XvN45Q</td>\n",
       "      <td>01fuY2NNscttoTxOYbuZXw</td>\n",
       "      <td>5</td>\n",
       "      <td>2015-06-10</td>\n",
       "      <td>I have only had the opportunity to eat here a couple times but it is on the top of the list for ...</td>\n",
       "      <td>0</td>\n",
       "      <td>1</td>\n",
       "      <td>0</td>\n",
       "      <td>None</td>\n",
       "    </tr>\n",
       "  </tbody>\n",
       "</table>\n",
       "</div>"
      ],
      "text/plain": [
       "                      review_id                 user_id  \\\n",
       "1155267  s9GBl-WBsCJrl49llUfTig  psaaZ3Ulc3EFGv37UpxxRg   \n",
       "3007981  NMz3UJtl4ruL39QQGDv5ZQ  TudUls_yRpkZoDe9m9O_tg   \n",
       "1921077  6fNzrwuJyUnDtR8BcqNRfQ  5MChqlj0L3DzVi5-cS_xvg   \n",
       "788957   4YU22XKLI9z8oHOIur-c9w  iQbqQwF6ttvdMbpbqEGIaQ   \n",
       "274477   NbNhfEJoqLcqnz6dfwHeTQ  lSjdYb2wussdNmj5XvN45Q   \n",
       "\n",
       "                    business_id  stars        date  \\\n",
       "1155267  SOoNoV7_YJcuWgVfetspfg      2  2015-08-04   \n",
       "3007981  7svPiqFz7ad82VcdDbBcJw      5  2017-07-04   \n",
       "1921077  CZKHXlDuy3IagC2W881fyA      5  2017-12-11   \n",
       "788957   onoZsIFPJXumpV_ndxcGTQ      2  2007-04-08   \n",
       "274477   01fuY2NNscttoTxOYbuZXw      5  2015-06-10   \n",
       "\n",
       "                                                                                                        text  \\\n",
       "1155267  I would be giving zero stars if my second experience was my only experience. On this second occa...   \n",
       "3007981  I love this Starbucks, nice peeps and the service is outstanding.\\nThey know their business that...   \n",
       "1921077  So I've never been big on cocktails. I know they're good but i never really raves about how good...   \n",
       "788957   When I first came to town, I was stuck going here for my internet access.\\n\\nI had to pay for a ...   \n",
       "274477   I have only had the opportunity to eat here a couple times but it is on the top of the list for ...   \n",
       "\n",
       "         useful  funny  cool parsed_text  \n",
       "1155267       5      1     0        None  \n",
       "3007981       0      0     0        None  \n",
       "1921077       0      0     0        None  \n",
       "788957        2      1     0        None  \n",
       "274477        0      1     0        None  "
      ]
     },
     "execution_count": 6,
     "metadata": {},
     "output_type": "execute_result"
    }
   ],
   "source": [
    "nv_reviews = review.sample(5000)\n",
    "nv_reviews['parsed_text'] = None\n",
    "nv_reviews.head()"
   ]
  },
  {
   "cell_type": "code",
   "execution_count": 7,
   "metadata": {},
   "outputs": [
    {
     "data": {
      "text/plain": [
       "str"
      ]
     },
     "execution_count": 7,
     "metadata": {},
     "output_type": "execute_result"
    }
   ],
   "source": [
    "type(nv_reviews['text'].values[0])"
   ]
  },
  {
   "cell_type": "code",
   "execution_count": 8,
   "metadata": {},
   "outputs": [],
   "source": [
    "def punct_space(token):\n",
    "    \"\"\"\n",
    "    helper function to eliminate tokens\n",
    "    that are pure punctuation or whitespace\n",
    "    \"\"\"\n",
    "    \n",
    "    return token.is_punct or token.is_space\n",
    "\n",
    "def line_review(filename):\n",
    "    \"\"\"\n",
    "    generator function to read in reviews from the file\n",
    "    and un-escape the original line breaks in the text\n",
    "    \"\"\"\n",
    "    \n",
    "    with codecs.open(filename, encoding='utf_8') as f:\n",
    "        for review in f:\n",
    "            yield review.replace('\\\\n', '\\n')\n",
    "            \n",
    "def lemmatized_sentence_corpus(filename):\n",
    "    \"\"\"\n",
    "    generator function to use spaCy to parse reviews,\n",
    "    lemmatize the text, and yield sentences\n",
    "    \"\"\"\n",
    "    \n",
    "    for parsed_review in nlp.pipe(line_review(filename),\n",
    "                                  batch_size=10000, n_threads=4):\n",
    "        \n",
    "        for sent in parsed_review.sents:\n",
    "            yield u' '.join([token.lemma_ for token in sent\n",
    "                             if not punct_space(token)])"
   ]
  },
  {
   "cell_type": "code",
   "execution_count": 9,
   "metadata": {},
   "outputs": [],
   "source": [
    "documents = nv_reviews['text'].tolist()"
   ]
  },
  {
   "cell_type": "code",
   "execution_count": 10,
   "metadata": {},
   "outputs": [],
   "source": [
    "docs = []\n",
    "for i in range(len(documents)):\n",
    "    docs.append(nlp(documents[i]))"
   ]
  },
  {
   "cell_type": "code",
   "execution_count": 11,
   "metadata": {},
   "outputs": [
    {
     "data": {
      "text/plain": [
       "'I would be giving zero stars if my second experience was my only experience. On this second occasion I had barely walked in when told \"the guy that cuts your kind of hair isn\\'t here, come back tomorrow.\" \\n\\nMy haircut is so simple that any barber can do it. Any. Same length all the way around with a little extra left on the front top. No fades, no special shapes cut into the side of my head. Real simple. \\n\\nThe heavyset man there didn\\'t ask what style I wanted, just presumed black guy wants a black guy haircut. I was coming here because it was closer to my place than my regular place, Nate\\'s Barber Shop on 7th Ave. \\n\\nThank you for reminding me why it\\'s worth it to me to go to my regular place and stay the loyal customer I am. I\\'ll never go back to Steve\\'s Barber Shop. \\n\\nLest anyone think I\\'m implying racism, I\\'m not. You can come to your own conclusions. I\\'m invoking Hanlon\\'s Razor: never presume malice where stupidity is more likely.'"
      ]
     },
     "execution_count": 11,
     "metadata": {},
     "output_type": "execute_result"
    }
   ],
   "source": [
    "documents[0]"
   ]
  },
  {
   "cell_type": "code",
   "execution_count": 12,
   "metadata": {},
   "outputs": [
    {
     "data": {
      "text/plain": [
       "I would be giving zero stars if my second experience was my only experience. On this second occasion I had barely walked in when told \"the guy that cuts your kind of hair isn't here, come back tomorrow.\" \n",
       "\n",
       "My haircut is so simple that any barber can do it. Any. Same length all the way around with a little extra left on the front top. No fades, no special shapes cut into the side of my head. Real simple. \n",
       "\n",
       "The heavyset man there didn't ask what style I wanted, just presumed black guy wants a black guy haircut. I was coming here because it was closer to my place than my regular place, Nate's Barber Shop on 7th Ave. \n",
       "\n",
       "Thank you for reminding me why it's worth it to me to go to my regular place and stay the loyal customer I am. I'll never go back to Steve's Barber Shop. \n",
       "\n",
       "Lest anyone think I'm implying racism, I'm not. You can come to your own conclusions. I'm invoking Hanlon's Razor: never presume malice where stupidity is more likely."
      ]
     },
     "execution_count": 12,
     "metadata": {},
     "output_type": "execute_result"
    }
   ],
   "source": [
    "docs[0]"
   ]
  },
  {
   "cell_type": "code",
   "execution_count": 13,
   "metadata": {},
   "outputs": [],
   "source": [
    "token_lemma = [token.lemma_ for token in docs[1]]"
   ]
  },
  {
   "cell_type": "code",
   "execution_count": 14,
   "metadata": {},
   "outputs": [],
   "source": [
    "unigram_review = [token.lemma_ for token in docs[0] if not punct_space(token)]"
   ]
  },
  {
   "cell_type": "code",
   "execution_count": 15,
   "metadata": {},
   "outputs": [],
   "source": [
    "# remove any remaining stopwords\n",
    "unigram_review = [term for term in unigram_review if term not in spacy.lang.en.STOP_WORDS]\n",
    "# nlp.Defaults.stop_words works as well"
   ]
  },
  {
   "cell_type": "code",
   "execution_count": 16,
   "metadata": {},
   "outputs": [
    {
     "data": {
      "text/plain": [
       "['-PRON-',\n",
       " 'zero',\n",
       " 'star',\n",
       " '-PRON-',\n",
       " 'second',\n",
       " 'experience',\n",
       " '-PRON-',\n",
       " 'experience',\n",
       " 'second',\n",
       " 'occasion',\n",
       " '-PRON-',\n",
       " 'barely',\n",
       " 'walk',\n",
       " 'tell',\n",
       " 'guy',\n",
       " 'cut',\n",
       " '-PRON-',\n",
       " 'kind',\n",
       " 'hair',\n",
       " 'come',\n",
       " 'tomorrow',\n",
       " '-PRON-',\n",
       " 'haircut',\n",
       " 'simple',\n",
       " 'barber',\n",
       " '-PRON-',\n",
       " 'length',\n",
       " 'way',\n",
       " 'little',\n",
       " 'extra',\n",
       " 'left',\n",
       " 'fade',\n",
       " 'special',\n",
       " 'shape',\n",
       " 'cut',\n",
       " '-PRON-',\n",
       " 'head',\n",
       " 'real',\n",
       " 'simple',\n",
       " 'heavyset',\n",
       " 'man',\n",
       " 'ask',\n",
       " 'style',\n",
       " '-PRON-',\n",
       " 'want',\n",
       " 'presume',\n",
       " 'black',\n",
       " 'guy',\n",
       " 'want',\n",
       " 'black',\n",
       " 'guy',\n",
       " 'haircut',\n",
       " '-PRON-',\n",
       " 'come',\n",
       " '-PRON-',\n",
       " 'close',\n",
       " '-PRON-',\n",
       " 'place',\n",
       " '-PRON-',\n",
       " 'regular',\n",
       " 'place',\n",
       " 'nate',\n",
       " \"'s\",\n",
       " 'barber',\n",
       " 'shop',\n",
       " '7th',\n",
       " 'ave',\n",
       " 'thank',\n",
       " '-PRON-',\n",
       " 'remind',\n",
       " '-PRON-',\n",
       " '-PRON-',\n",
       " 'worth',\n",
       " '-PRON-',\n",
       " '-PRON-',\n",
       " '-PRON-',\n",
       " 'regular',\n",
       " 'place',\n",
       " 'stay',\n",
       " 'loyal',\n",
       " 'customer',\n",
       " '-PRON-',\n",
       " '-PRON-',\n",
       " 'steve',\n",
       " \"'s\",\n",
       " 'barber',\n",
       " 'shop',\n",
       " 'lest',\n",
       " 'think',\n",
       " '-PRON-',\n",
       " 'imply',\n",
       " 'racism',\n",
       " '-PRON-',\n",
       " '-PRON-',\n",
       " 'come',\n",
       " '-PRON-',\n",
       " 'conclusion',\n",
       " '-PRON-',\n",
       " 'invoke',\n",
       " 'hanlon',\n",
       " \"'s\",\n",
       " 'razor',\n",
       " 'presume',\n",
       " 'malice',\n",
       " 'stupidity',\n",
       " 'likely']"
      ]
     },
     "execution_count": 16,
     "metadata": {},
     "output_type": "execute_result"
    }
   ],
   "source": [
    "unigram_review"
   ]
  },
  {
   "cell_type": "code",
   "execution_count": 17,
   "metadata": {},
   "outputs": [],
   "source": [
    "from gensim.test.utils import datapath\n",
    "from gensim.models.word2vec import Text8Corpus\n",
    "from gensim.models.phrases import Phrases, Phraser\n",
    "\n",
    "sentences = Text8Corpus(datapath('testcorpus.txt'))"
   ]
  },
  {
   "cell_type": "code",
   "execution_count": 18,
   "metadata": {},
   "outputs": [
    {
     "data": {
      "text/plain": [
       "<gensim.models.word2vec.Text8Corpus at 0x1a198d6390>"
      ]
     },
     "execution_count": 18,
     "metadata": {},
     "output_type": "execute_result"
    }
   ],
   "source": [
    "sentences"
   ]
  },
  {
   "cell_type": "code",
   "execution_count": 19,
   "metadata": {},
   "outputs": [
    {
     "data": {
      "text/plain": [
       "'/anaconda3/lib/python3.6/site-packages/gensim/test/test_data/testcorpus.txt'"
      ]
     },
     "execution_count": 19,
     "metadata": {},
     "output_type": "execute_result"
    }
   ],
   "source": [
    "datapath('testcorpus.txt')"
   ]
  },
  {
   "cell_type": "code",
   "execution_count": 20,
   "metadata": {},
   "outputs": [
    {
     "data": {
      "text/plain": [
       "<_io.TextIOWrapper name='/anaconda3/lib/python3.6/site-packages/gensim/test/test_data/testcorpus.txt' mode='r' encoding='UTF-8'>"
      ]
     },
     "execution_count": 20,
     "metadata": {},
     "output_type": "execute_result"
    }
   ],
   "source": [
    "open('/anaconda3/lib/python3.6/site-packages/gensim/test/test_data/testcorpus.txt')"
   ]
  },
  {
   "cell_type": "code",
   "execution_count": 21,
   "metadata": {},
   "outputs": [
    {
     "data": {
      "text/plain": [
       "<gensim.models.phrases.Phrases at 0x1a198d6ac8>"
      ]
     },
     "execution_count": 21,
     "metadata": {},
     "output_type": "execute_result"
    }
   ],
   "source": [
    "phrases = Phrases(sentences, min_count=1, threshold=1)\n",
    "phrases\n",
    "#https://stackoverflow.com/questions/35716121/how-to-extract-phrases-from-corpus-using-gensim"
   ]
  },
  {
   "cell_type": "code",
   "execution_count": 22,
   "metadata": {},
   "outputs": [
    {
     "name": "stderr",
     "output_type": "stream",
     "text": [
      "/anaconda3/lib/python3.6/site-packages/gensim/models/phrases.py:598: UserWarning: For a faster implementation, use the gensim.models.phrases.Phraser class\n",
      "  warnings.warn(\"For a faster implementation, use the gensim.models.phrases.Phraser class\")\n"
     ]
    },
    {
     "data": {
      "text/plain": [
       "['trees_graph', 'minors']"
      ]
     },
     "execution_count": 22,
     "metadata": {},
     "output_type": "execute_result"
    }
   ],
   "source": [
    "phrases[[u'trees', u'graph', u'minors']]"
   ]
  },
  {
   "cell_type": "code",
   "execution_count": 23,
   "metadata": {},
   "outputs": [
    {
     "data": {
      "text/html": [
       "<div>\n",
       "<style scoped>\n",
       "    .dataframe tbody tr th:only-of-type {\n",
       "        vertical-align: middle;\n",
       "    }\n",
       "\n",
       "    .dataframe tbody tr th {\n",
       "        vertical-align: top;\n",
       "    }\n",
       "\n",
       "    .dataframe thead th {\n",
       "        text-align: right;\n",
       "    }\n",
       "</style>\n",
       "<table border=\"1\" class=\"dataframe\">\n",
       "  <thead>\n",
       "    <tr style=\"text-align: right;\">\n",
       "      <th></th>\n",
       "      <th>review_id</th>\n",
       "      <th>user_id</th>\n",
       "      <th>business_id</th>\n",
       "      <th>stars</th>\n",
       "      <th>date</th>\n",
       "      <th>text</th>\n",
       "      <th>useful</th>\n",
       "      <th>funny</th>\n",
       "      <th>cool</th>\n",
       "      <th>parsed_text</th>\n",
       "    </tr>\n",
       "  </thead>\n",
       "  <tbody>\n",
       "    <tr>\n",
       "      <th>0</th>\n",
       "      <td>s9GBl-WBsCJrl49llUfTig</td>\n",
       "      <td>psaaZ3Ulc3EFGv37UpxxRg</td>\n",
       "      <td>SOoNoV7_YJcuWgVfetspfg</td>\n",
       "      <td>2</td>\n",
       "      <td>2015-08-04</td>\n",
       "      <td>I would be giving zero stars if my second experience was my only experience. On this second occa...</td>\n",
       "      <td>5</td>\n",
       "      <td>1</td>\n",
       "      <td>0</td>\n",
       "      <td>None</td>\n",
       "    </tr>\n",
       "    <tr>\n",
       "      <th>1</th>\n",
       "      <td>NMz3UJtl4ruL39QQGDv5ZQ</td>\n",
       "      <td>TudUls_yRpkZoDe9m9O_tg</td>\n",
       "      <td>7svPiqFz7ad82VcdDbBcJw</td>\n",
       "      <td>5</td>\n",
       "      <td>2017-07-04</td>\n",
       "      <td>I love this Starbucks, nice peeps and the service is outstanding.\\nThey know their business that...</td>\n",
       "      <td>0</td>\n",
       "      <td>0</td>\n",
       "      <td>0</td>\n",
       "      <td>None</td>\n",
       "    </tr>\n",
       "    <tr>\n",
       "      <th>2</th>\n",
       "      <td>6fNzrwuJyUnDtR8BcqNRfQ</td>\n",
       "      <td>5MChqlj0L3DzVi5-cS_xvg</td>\n",
       "      <td>CZKHXlDuy3IagC2W881fyA</td>\n",
       "      <td>5</td>\n",
       "      <td>2017-12-11</td>\n",
       "      <td>So I've never been big on cocktails. I know they're good but i never really raves about how good...</td>\n",
       "      <td>0</td>\n",
       "      <td>0</td>\n",
       "      <td>0</td>\n",
       "      <td>None</td>\n",
       "    </tr>\n",
       "    <tr>\n",
       "      <th>3</th>\n",
       "      <td>4YU22XKLI9z8oHOIur-c9w</td>\n",
       "      <td>iQbqQwF6ttvdMbpbqEGIaQ</td>\n",
       "      <td>onoZsIFPJXumpV_ndxcGTQ</td>\n",
       "      <td>2</td>\n",
       "      <td>2007-04-08</td>\n",
       "      <td>When I first came to town, I was stuck going here for my internet access.\\n\\nI had to pay for a ...</td>\n",
       "      <td>2</td>\n",
       "      <td>1</td>\n",
       "      <td>0</td>\n",
       "      <td>None</td>\n",
       "    </tr>\n",
       "    <tr>\n",
       "      <th>4</th>\n",
       "      <td>NbNhfEJoqLcqnz6dfwHeTQ</td>\n",
       "      <td>lSjdYb2wussdNmj5XvN45Q</td>\n",
       "      <td>01fuY2NNscttoTxOYbuZXw</td>\n",
       "      <td>5</td>\n",
       "      <td>2015-06-10</td>\n",
       "      <td>I have only had the opportunity to eat here a couple times but it is on the top of the list for ...</td>\n",
       "      <td>0</td>\n",
       "      <td>1</td>\n",
       "      <td>0</td>\n",
       "      <td>None</td>\n",
       "    </tr>\n",
       "  </tbody>\n",
       "</table>\n",
       "</div>"
      ],
      "text/plain": [
       "                review_id                 user_id             business_id  \\\n",
       "0  s9GBl-WBsCJrl49llUfTig  psaaZ3Ulc3EFGv37UpxxRg  SOoNoV7_YJcuWgVfetspfg   \n",
       "1  NMz3UJtl4ruL39QQGDv5ZQ  TudUls_yRpkZoDe9m9O_tg  7svPiqFz7ad82VcdDbBcJw   \n",
       "2  6fNzrwuJyUnDtR8BcqNRfQ  5MChqlj0L3DzVi5-cS_xvg  CZKHXlDuy3IagC2W881fyA   \n",
       "3  4YU22XKLI9z8oHOIur-c9w  iQbqQwF6ttvdMbpbqEGIaQ  onoZsIFPJXumpV_ndxcGTQ   \n",
       "4  NbNhfEJoqLcqnz6dfwHeTQ  lSjdYb2wussdNmj5XvN45Q  01fuY2NNscttoTxOYbuZXw   \n",
       "\n",
       "   stars        date  \\\n",
       "0      2  2015-08-04   \n",
       "1      5  2017-07-04   \n",
       "2      5  2017-12-11   \n",
       "3      2  2007-04-08   \n",
       "4      5  2015-06-10   \n",
       "\n",
       "                                                                                                  text  \\\n",
       "0  I would be giving zero stars if my second experience was my only experience. On this second occa...   \n",
       "1  I love this Starbucks, nice peeps and the service is outstanding.\\nThey know their business that...   \n",
       "2  So I've never been big on cocktails. I know they're good but i never really raves about how good...   \n",
       "3  When I first came to town, I was stuck going here for my internet access.\\n\\nI had to pay for a ...   \n",
       "4  I have only had the opportunity to eat here a couple times but it is on the top of the list for ...   \n",
       "\n",
       "   useful  funny  cool parsed_text  \n",
       "0       5      1     0        None  \n",
       "1       0      0     0        None  \n",
       "2       0      0     0        None  \n",
       "3       2      1     0        None  \n",
       "4       0      1     0        None  "
      ]
     },
     "execution_count": 23,
     "metadata": {},
     "output_type": "execute_result"
    }
   ],
   "source": [
    "nv_reviews = nv_reviews.reset_index(drop=True)\n",
    "nv_reviews.head()"
   ]
  },
  {
   "cell_type": "code",
   "execution_count": 24,
   "metadata": {},
   "outputs": [
    {
     "name": "stdout",
     "output_type": "stream",
     "text": [
      "Text from 5,000 restaurant reviews written to the new txt file.\n"
     ]
    }
   ],
   "source": [
    "review_txt_filepath = os.path.join('review_text_all.txt')\n",
    "\n",
    "review_count = 0\n",
    "\n",
    "# create & open a new file in write mode\n",
    "with codecs.open(review_txt_filepath, 'w', encoding='utf_8') as review_txt_file:\n",
    "    # if this review is not about a restaurant, skip to the next one\n",
    "    # write the restaurant review as a line in the new file\n",
    "    # escape newline characters in the original review text\n",
    "    for i in range(len(nv_reviews['text'])):\n",
    "        review_txt_file.write(nv_reviews['text'][i].replace('\\n', '\\\\n') + '\\n')\n",
    "        review_count += 1\n",
    "\n",
    "print(u'''Text from {:,} restaurant reviews written to the new txt file.'''.format(review_count))"
   ]
  },
  {
   "cell_type": "code",
   "execution_count": 25,
   "metadata": {},
   "outputs": [
    {
     "data": {
      "text/plain": [
       "0       I would be giving zero stars if my second experience was my only experience. On this second occa...\n",
       "1       I love this Starbucks, nice peeps and the service is outstanding.\\nThey know their business that...\n",
       "2       So I've never been big on cocktails. I know they're good but i never really raves about how good...\n",
       "3       When I first came to town, I was stuck going here for my internet access.\\n\\nI had to pay for a ...\n",
       "4       I have only had the opportunity to eat here a couple times but it is on the top of the list for ...\n",
       "5       Best Thai food! Always fresh and consistent. Food is always hot and made to order. Lunch special...\n",
       "6       We absolutely love Delux - especially the sweet potato fries and the Delux Burger.  It's not unc...\n",
       "7       Dr Budd and his team are the best. You will never regret getting orthodontic care by him. He is ...\n",
       "8       Excellent calamari and Cal Italia pizza!! Sat in the sports bar area.  Conveniently located by F...\n",
       "9       I was so happy I got the chance to visit Lufa Farms sewing that I've been a member for over a ye...\n",
       "10      My husband and I were so taken with the beauty of the live edge wood. We had a coffee table top ...\n",
       "11      Food City is terrific!  When you go (and you should) think \"fresh\" - skipping the jars, cans, an...\n",
       "12      I pay 5$, took a sip and this is what is leftover. Just....just.... ridiculous!!! And look at th...\n",
       "13      I liked the chicken quesadillas at Margaritaville. Very cheesy and meaty. My friend had the beef...\n",
       "14      As with the other Chipotles I've been to, it was GREAT! Came here for lunch in between baseball ...\n",
       "15      Love European Wax!! I've been to a 3 locations & I like them all. I have found a technician in e...\n",
       "16      Excited to check this place out. Love bahn mi and French macaroons, and in one joint was golden....\n",
       "17                   Excellent food, beautiful interior and good music! I LOVE their kabobs! Another A+++++\n",
       "18      Take it from a real live Indian who used to live in New Delhi: this is the best, most authentic,...\n",
       "19      Over a month ago, I had a bad experience when I got stuck in the tunnel due to the manager negle...\n",
       "20      We hit this place about 3 AM after some clubbing.  They have lots of tasty drink selections as w...\n",
       "21      Things started off great until I noticed more and more that my daughter was getting hurt. It wen...\n",
       "22      The food is always consistent and very good. The only thing that is a down fall is they don't de...\n",
       "23      Skip is an old dog, they were so sweet and gentle with him. I appreciated the extra time they to...\n",
       "24      Hey People...\\nThis Place Ain't Nothing Like Coyote Ugly.\\nCause Coyote Ugly NO MATTER HOW HARD ...\n",
       "25      Every time I take my car in, they tell me something is wrong with my car that is not wrong. Then...\n",
       "26      Was very excited to try this, who doesn't like cinnamon rolls.  I only tried the mini cini and m...\n",
       "27      I am struggling with exactly what to say about this place because I see so many rave reviews on ...\n",
       "28      HUGE! Friendly service. Peaceful atmosphere.\\n\\n I wish I could remember the name of the gentlem...\n",
       "29      Excellent experiences at the Avon location, getting my hair cut by Cami. She's fantastic and ver...\n",
       "                                                       ...                                                 \n",
       "4970    First off, let me say that I'm glad this place exists in bloomfield as the only other passable a...\n",
       "4971    This is a really cool place to drink with friends. We love the atmosphere of this bar. Very cool...\n",
       "4972    I love this place. I have been coming here for years. Best place to get your nails done and pedi...\n",
       "4973    My breakfast joint?\\n\\nYou mean the one that serves up a decent breakfast special (under 7 buck)...\n",
       "4974    I waited a few minutes at the counter to be helped at about 2:30 pm. I knocked on the counter. I...\n",
       "4975    This place has authentic kaachi gohst ki biryani, and it's absolutely divine! I've searched high...\n",
       "4976    The Yard is like a big recess for adults at night so it seems.So weird to see three restaurants ...\n",
       "4977    We stayed at this resort. Only downside, if you consider it a downside, it's about 10miles from ...\n",
       "4978    I wanted a second opinion on an inspection I received on my car and Joe did an awesome job and e...\n",
       "4979    Worst drive through experience, will avoid this place at all cost. Rude and unprofessional worke...\n",
       "4980    I'm not a fan of running to write a review of salons until I trust them implicitly. I've been bu...\n",
       "4981    I wish we had a Shake Shack back in Hawaii, but until then, I got my fill in Vegas.\\n\\nLocated r...\n",
       "4982    I came here because they have an on site window chip repair guy. My husband had recently come he...\n",
       "4983     A rip off ,staff is not friendly ,food and drinks overpriced,golf overrated.  And rooms are small.\n",
       "4984    Ok, so this place is a big box dental corporation. This is not your average individually owned\\/...\n",
       "4985    I found this place to be ok. The biggest problem is there is always a little queue on weekends. ...\n",
       "4986    I took my 2 dogs to this clinic on a recommendation and am glad I did. The support staff is know...\n",
       "4987    Excellent wings with more flavors than just 'mild' or 'hot'. I ordered garlic parm and lemon gar...\n",
       "4988    Overrated. Both food and service were wanting- there are several superior choices for Italian fa...\n",
       "4989           Always support your local USO even if you're not active duty or retired!  God Bless America!\n",
       "4990    Visiting Champaign on business and stumbled onto this great Irish pub.   First of all the decor ...\n",
       "4991    Food is good and delivery is quick. Eat from here often and have never had a bad experience. Try...\n",
       "4992    a surprising Thai place in the small town of Brunswick OH.  I was impressed with the décor here ...\n",
       "4993    Usually when I order fish and chips at a place I end up with something that is more batter (see:...\n",
       "4994    This store has generally had good service but recently I wanted to purchase some window screens....\n",
       "4995    I recently took a cross country road trip and plotted out a few brewpubs to visit on beermapping...\n",
       "4996    This place is a joke. They make an appointment for you and then you have to wait 2 hours to be s...\n",
       "4997    The customer service and professionalism is terrible. I ordered items for a wedding. They gave m...\n",
       "4998    I got takeaway here the other night because I just moved into my flat and had no cooking supplie...\n",
       "4999    Sure, you could hate on LGO for:\\n-the difficulty of finding a parking spot (although people are...\n",
       "Name: text, Length: 5000, dtype: object"
      ]
     },
     "execution_count": 25,
     "metadata": {},
     "output_type": "execute_result"
    }
   ],
   "source": [
    "nv_reviews['text']"
   ]
  },
  {
   "cell_type": "code",
   "execution_count": 26,
   "metadata": {},
   "outputs": [
    {
     "data": {
      "text/plain": [
       "'/Users/rajeshpothamsetty/Sagitta/Reviewly'"
      ]
     },
     "execution_count": 26,
     "metadata": {},
     "output_type": "execute_result"
    }
   ],
   "source": [
    "os.getcwd()"
   ]
  },
  {
   "cell_type": "code",
   "execution_count": 27,
   "metadata": {},
   "outputs": [],
   "source": [
    "# filepaths# filepat \n",
    "unigram_sentences_filepath = os.path.join('unigram.txt')\n",
    "bigram_sentences_filepath = os.path.join('bigrams.txt')\n",
    "bigram_model_filepath = os.path.join('bigram_model_all')\n",
    "trigram_sentences_filepath = os.path.join('trigrams.txt')\n",
    "trigram_model_filepath = os.path.join('trigram_model_all')"
   ]
  },
  {
   "cell_type": "code",
   "execution_count": 28,
   "metadata": {},
   "outputs": [],
   "source": [
    "#unigrams\n",
    "with codecs.open(unigram_sentences_filepath, 'w', encoding='utf_8') as f:\n",
    "    for sentence in lemmatized_sentence_corpus(review_txt_filepath):\n",
    "        f.write(sentence + '\\n')\n",
    "\n",
    "unigram_sentences = LineSentence(unigram_sentences_filepath)\n",
    "\n"
   ]
  },
  {
   "cell_type": "code",
   "execution_count": 29,
   "metadata": {},
   "outputs": [
    {
     "name": "stdout",
     "output_type": "stream",
     "text": [
      "2\n",
      "3\n",
      "4\n"
     ]
    }
   ],
   "source": [
    "data1 = range(10)\n",
    "\n",
    "# This creates a NEW list\n",
    "data1[2:5]\n",
    "\n",
    "# This creates an iterator that iterates over the EXISTING list\n",
    "for x in it.islice(data1, 2, 5):\n",
    "    print(x)"
   ]
  },
  {
   "cell_type": "code",
   "execution_count": 30,
   "metadata": {},
   "outputs": [
    {
     "name": "stdout",
     "output_type": "stream",
     "text": [
      "CPU times: user 1.43 s, sys: 54.6 ms, total: 1.49 s\n",
      "Wall time: 1.49 s\n"
     ]
    }
   ],
   "source": [
    "%%time\n",
    "use_model = 'no'\n",
    "# this is a bit time consuming - make the if statement True# this is \n",
    "# if you want to execute modeling yourself.\n",
    "if use_model == 'no':\n",
    "    bigram_model = Phrases(unigram_sentences)\n",
    "    bigram_model.save(bigram_model_filepath)\n",
    "else:    \n",
    "    # load the finished model from disk\n",
    "    bigram_model = Phrases.load(bigram_model_filepath)"
   ]
  },
  {
   "cell_type": "code",
   "execution_count": 31,
   "metadata": {},
   "outputs": [
    {
     "name": "stderr",
     "output_type": "stream",
     "text": [
      "/anaconda3/lib/python3.6/site-packages/gensim/models/phrases.py:598: UserWarning: For a faster implementation, use the gensim.models.phrases.Phraser class\n",
      "  warnings.warn(\"For a faster implementation, use the gensim.models.phrases.Phraser class\")\n"
     ]
    },
    {
     "name": "stdout",
     "output_type": "stream",
     "text": [
      "CPU times: user 3.34 s, sys: 59.1 ms, total: 3.4 s\n",
      "Wall time: 3.48 s\n"
     ]
    }
   ],
   "source": [
    "%%time\n",
    "\n",
    "# this is a bit time consuming - make the if statement True\n",
    "# if you want to execute data prep yourself.\n",
    "if use_model == 'no':\n",
    "    with codecs.open(bigram_sentences_filepath, 'w', encoding='utf_8') as f:\n",
    "        for unigram_sentence in unigram_sentences:\n",
    "            bigram_sentence = u' '.join(bigram_model[unigram_sentence]) \n",
    "            f.write(bigram_sentence + '\\n')"
   ]
  },
  {
   "cell_type": "code",
   "execution_count": 32,
   "metadata": {},
   "outputs": [],
   "source": [
    "bigram_sentences  = LineSentence(bigram_sentences_filepath)"
   ]
  },
  {
   "cell_type": "code",
   "execution_count": 33,
   "metadata": {},
   "outputs": [
    {
     "name": "stdout",
     "output_type": "stream",
     "text": [
      "CPU times: user 1.44 s, sys: 59.2 ms, total: 1.5 s\n",
      "Wall time: 1.58 s\n"
     ]
    }
   ],
   "source": [
    "%%time\n",
    "\n",
    "use_model = 'no'\n",
    "# this is a bit time consuming - make the if statement True\n",
    "# if you want to execute modeling yourself.\n",
    "if use_model == 'no':\n",
    "    trigram_model = Phrases(bigram_sentences)\n",
    "    trigram_model.save(trigram_model_filepath)\n",
    "else:    \n",
    "    # load the finished model from disk\n",
    "    trigram_model = Phrases.load(trigram_model_filepath)"
   ]
  },
  {
   "cell_type": "code",
   "execution_count": 34,
   "metadata": {},
   "outputs": [
    {
     "name": "stderr",
     "output_type": "stream",
     "text": [
      "/anaconda3/lib/python3.6/site-packages/gensim/models/phrases.py:598: UserWarning: For a faster implementation, use the gensim.models.phrases.Phraser class\n",
      "  warnings.warn(\"For a faster implementation, use the gensim.models.phrases.Phraser class\")\n"
     ]
    },
    {
     "name": "stdout",
     "output_type": "stream",
     "text": [
      "CPU times: user 3.2 s, sys: 41.5 ms, total: 3.24 s\n",
      "Wall time: 3.27 s\n"
     ]
    }
   ],
   "source": [
    "%%time\n",
    "\n",
    "# this is a bit time consuming - make the if statement True\n",
    "# if you want to execute data prep yourself.\n",
    "if use_model == 'no':\n",
    "    with codecs.open(trigram_sentences_filepath, 'w', encoding='utf_8') as f:  \n",
    "        for bigram_sentence in bigram_sentences:        \n",
    "            trigram_sentence = u' '.join(trigram_model[bigram_sentence])       \n",
    "            f.write(trigram_sentence + '\\n')"
   ]
  },
  {
   "cell_type": "code",
   "execution_count": 35,
   "metadata": {},
   "outputs": [],
   "source": [
    "trigram_sentences = LineSentence(trigram_sentences_filepath)"
   ]
  },
  {
   "cell_type": "code",
   "execution_count": 36,
   "metadata": {},
   "outputs": [],
   "source": [
    "trigram_reviews_filepath  = os.path.join('trigram_transformed_reviews_all.txt')"
   ]
  },
  {
   "cell_type": "code",
   "execution_count": 37,
   "metadata": {},
   "outputs": [
    {
     "name": "stderr",
     "output_type": "stream",
     "text": [
      "/anaconda3/lib/python3.6/site-packages/gensim/models/phrases.py:598: UserWarning: For a faster implementation, use the gensim.models.phrases.Phraser class\n",
      "  warnings.warn(\"For a faster implementation, use the gensim.models.phrases.Phraser class\")\n"
     ]
    },
    {
     "name": "stdout",
     "output_type": "stream",
     "text": [
      "CPU times: user 2min 58s, sys: 48 s, total: 3min 46s\n",
      "Wall time: 2min 22s\n"
     ]
    }
   ],
   "source": [
    "%%time\n",
    "\n",
    "use_model_trigram = 'no'\n",
    "# this is a bit time consuming - make the if statement True\n",
    "# if you want to execute data prep yourself.\n",
    "if use_model_trigram == 'no':\n",
    "    with codecs.open(trigram_reviews_filepath, 'w', encoding='utf_8') as f:\n",
    "        for parsed_review in nlp.pipe(line_review(review_txt_filepath), batch_size=10000, n_threads=4):\n",
    "            \n",
    "            # lemmatize the text, removing punctuation and whitespace\n",
    "            unigram_review = [token.lemma_ for token in parsed_review if not punct_space(token)]\n",
    "            \n",
    "            # apply the first-order and second-order phrase models\n",
    "            bigram_review = bigram_model[unigram_review]\n",
    "            trigram_review = trigram_model[bigram_review]\n",
    "            \n",
    "            # remove any remaining stopwords\n",
    "            trigram_review = [term for term in trigram_review if term not in spacy.lang.en.STOP_WORDS]\n",
    "            \n",
    "            # write the transformed review as a line in the new file\n",
    "            trigram_review = u' '.join(trigram_review)\n",
    "            f.write(trigram_review + '\\n')"
   ]
  },
  {
   "cell_type": "code",
   "execution_count": 38,
   "metadata": {
    "scrolled": true
   },
   "outputs": [
    {
     "name": "stdout",
     "output_type": "stream",
     "text": [
      "Original:\n",
      "\n",
      "My husband and I were so taken with the beauty of the live edge wood. We had a coffee table top made and they even attached our mesquite legs to the top. It is so beautiful. Bjorn made the process so simple. I have been down there many times now and they always show the same interest in what you want to do.  They also do commercial work and some of their projects are just amazing. I plan to go to some of their DIY workshops. Terry Schuman\n",
      "\n",
      "<class 'str'>\n",
      "----\n",
      "\n",
      "Transformed:\n",
      "\n",
      "-PRON- husband -PRON- beauty live edge wood -PRON- coffee table -PRON- attach -PRON- mesquite leg -PRON- beautiful bjorn process simple -PRON- many_time -PRON- interest -PRON- want -PRON- commercial work -PRON- project amazing -PRON- plan -PRON- diy workshop terry schuman\n",
      "\n",
      "<class 'str'>\n"
     ]
    }
   ],
   "source": [
    "print(u'Original:' + u'\\n')\n",
    "\n",
    "for review in it.islice(line_review(review_txt_filepath), 10, 11):\n",
    "    print(review)\n",
    "    print(type(review))\n",
    "\n",
    "print(u'----' + u'\\n')\n",
    "print(u'Transformed:' + u'\\n')\n",
    "\n",
    "with codecs.open(trigram_reviews_filepath, encoding='utf_8') as f:\n",
    "    for review in it.islice(f, 10, 11):\n",
    "        temp = review\n",
    "        print(review)\n",
    "        print(type(review))"
   ]
  },
  {
   "cell_type": "code",
   "execution_count": 39,
   "metadata": {},
   "outputs": [
    {
     "data": {
      "text/plain": [
       "'-PRON- husband -PRON- beauty live edge wood -PRON- coffee table -PRON- attach -PRON- mesquite leg -PRON- beautiful bjorn process simple -PRON- many_time -PRON- interest -PRON- want -PRON- commercial work -PRON- project amazing -PRON- plan -PRON- diy workshop terry schuman\\n'"
      ]
     },
     "execution_count": 39,
     "metadata": {},
     "output_type": "execute_result"
    }
   ],
   "source": [
    "temp"
   ]
  },
  {
   "cell_type": "code",
   "execution_count": 40,
   "metadata": {},
   "outputs": [],
   "source": [
    "import pandas as pd\n",
    "import re\n",
    "import string\n",
    "import nltk\n",
    "pd.set_option('display.max_colwidth', 100)\n",
    "\n",
    "stopwords = nltk.corpus.stopwords.words('english')\n",
    "ps = nltk.PorterStemmer()\n",
    "\n",
    "def clean_text(text):\n",
    "    text = \"\".join([word.lower() for word in text if word not in string.punctuation])\n",
    "    tokens = re.split('\\W+', text)\n",
    "    text = [ps.stem(word) for word in tokens if word not in stopwords]\n",
    "    return text"
   ]
  },
  {
   "cell_type": "code",
   "execution_count": 41,
   "metadata": {},
   "outputs": [
    {
     "data": {
      "text/plain": [
       "['pron',\n",
       " 'husband',\n",
       " 'pron',\n",
       " 'beauti',\n",
       " 'live',\n",
       " 'edg',\n",
       " 'wood',\n",
       " 'pron',\n",
       " 'coffe',\n",
       " 'tabl',\n",
       " 'pron',\n",
       " 'attach',\n",
       " 'pron',\n",
       " 'mesquit',\n",
       " 'leg',\n",
       " 'pron',\n",
       " 'beauti',\n",
       " 'bjorn',\n",
       " 'process',\n",
       " 'simpl',\n",
       " 'pron',\n",
       " 'manytim',\n",
       " 'pron',\n",
       " 'interest',\n",
       " 'pron',\n",
       " 'want',\n",
       " 'pron',\n",
       " 'commerci',\n",
       " 'work',\n",
       " 'pron',\n",
       " 'project',\n",
       " 'amaz',\n",
       " 'pron',\n",
       " 'plan',\n",
       " 'pron',\n",
       " 'diy',\n",
       " 'workshop',\n",
       " 'terri',\n",
       " 'schuman',\n",
       " '']"
      ]
     },
     "execution_count": 41,
     "metadata": {},
     "output_type": "execute_result"
    }
   ],
   "source": [
    "# from linkedin course\n",
    "# not a great combination with tri-gram\n",
    "# should try independently\n",
    "x_temp = temp.replace('_', \" \")\n",
    "clean_text(temp) \n",
    "# remove 'pron'\n",
    "# add spell Checker\n",
    "# "
   ]
  },
  {
   "cell_type": "code",
   "execution_count": 42,
   "metadata": {},
   "outputs": [
    {
     "data": {
      "text/plain": [
       "['pron',\n",
       " 'husband',\n",
       " 'pron',\n",
       " 'beauti',\n",
       " 'live',\n",
       " 'edg',\n",
       " 'wood',\n",
       " 'pron',\n",
       " 'coffe',\n",
       " 'tabl',\n",
       " 'pron',\n",
       " 'attach',\n",
       " 'pron',\n",
       " 'mesquit',\n",
       " 'leg',\n",
       " 'pron',\n",
       " 'beauti',\n",
       " 'bjorn',\n",
       " 'process',\n",
       " 'simpl',\n",
       " 'pron',\n",
       " 'mani',\n",
       " 'time',\n",
       " 'pron',\n",
       " 'interest',\n",
       " 'pron',\n",
       " 'want',\n",
       " 'pron',\n",
       " 'commerci',\n",
       " 'work',\n",
       " 'pron',\n",
       " 'project',\n",
       " 'amaz',\n",
       " 'pron',\n",
       " 'plan',\n",
       " 'pron',\n",
       " 'diy',\n",
       " 'workshop',\n",
       " 'terri',\n",
       " 'schuman',\n",
       " '']"
      ]
     },
     "execution_count": 42,
     "metadata": {},
     "output_type": "execute_result"
    }
   ],
   "source": [
    "clean_text(x_temp)"
   ]
  },
  {
   "cell_type": "code",
   "execution_count": 43,
   "metadata": {},
   "outputs": [],
   "source": [
    "acac = open('trigram_transformed_reviews_all.txt', \"r\")\n",
    "lines = list(acac)\n",
    "lines_ = pd.Series(lines)"
   ]
  },
  {
   "cell_type": "code",
   "execution_count": 44,
   "metadata": {},
   "outputs": [
    {
     "data": {
      "text/plain": [
       "0       -PRON- zero_star -PRON- second experience -PRON- experience second occasion -PRON- barely walk_i...\n",
       "1       -PRON- love starbucks nice peep service outstanding -PRON- know -PRON- business sure -PRON- -PRO...\n",
       "2       -PRON- big cocktail -PRON- know -PRON- good rave_about good -PRON- come brickyard downtown -PRON...\n",
       "3       -PRON- come town -PRON- stick -PRON- internet access -PRON- pay monthly subscription use wired c...\n",
       "4       -PRON- opportunity eat_here couple time -PRON- list place go_back last_time -PRON- -PRON- pimp'n...\n",
       "5       good thai food fresh consistent food hot order lunch_special $ 6.95 come choice rice soup salad ...\n",
       "6       -PRON- absolutely_love delux especially sweet_potato_fry delux burger -PRON- uncommon -PRON- com...\n",
       "7       dr budd -PRON- team good -PRON- will_never regret orthodontic care -PRON- -PRON- patient kind -P...\n",
       "8       excellent calamari cal italia pizza sat sport_bar area conveniently_locate fremont street experi...\n",
       "9       -PRON- happy -PRON- chance visit lufa farms sew -PRON- member year disappoint service quality -P...\n",
       "10      -PRON- husband -PRON- beauty live edge wood -PRON- coffee table -PRON- attach -PRON- mesquite le...\n",
       "11      food city terrific -PRON- -PRON- think fresh skip jar prepackag stuff food literally of_course d...\n",
       "12                                                    -PRON- pay 5 $ sip leftover ridiculous look_at size\\n\n",
       "13      -PRON- like chicken quesadilla margaritaville cheesy meaty -PRON- friend beef -PRON- awful guaca...\n",
       "14      chipotles -PRON- -PRON- great come_here lunch baseball game padre field sport complex -PRON- sta...\n",
       "15      love european wax -PRON- 3 location -PRON- like -PRON- -PRON- find technician location -PRON- li...\n",
       "16      excited check this_place love bahn mi french macaroon joint golden a_bit disappointed macaroon -...\n",
       "17                           excellent food beautiful interior good music -PRON- love -PRON- kabob a+++++\\n\n",
       "18      -PRON- real live indian use live new delhi good authentic like mom -PRON- food in_phoenix grocer...\n",
       "19      month_ago -PRON- bad_experience -PRON- stick tunnel due_to manager neglect -PRON- duty ensure ex...\n",
       "20      -PRON- hit this_place 3 clubbing -PRON- lot_of tasty drink selection as_well_as clock breakfast ...\n",
       "21      thing start_off great -PRON- notice -PRON- daughter hurt -PRON- from_scratch bite bruise straw b...\n",
       "22      food consistent good only_thing fall -PRON- do_not deliver 5 other_than_that food great staff pl...\n",
       "23                  skip an_old dog -PRON- sweet gentle -PRON- -PRON- appreciate extra time -PRON- -PRON-\\n\n",
       "24      hey people this_place like coyote ugly cause coyote ugly no_matter hard they\"ve try will_never h...\n",
       "25      every_time -PRON- -PRON- car -PRON- tell -PRON- wrong -PRON- car wrong -PRON- proceed -PRON- rid...\n",
       "26      excited try do_not like cinnamon_roll -PRON- try mini cini maybe -PRON- different -PRON- cream_c...\n",
       "27      -PRON- struggle exactly_what this_place -PRON- so_many rave_review fabulous -PRON- pizza -PRON- ...\n",
       "28      huge friendly service peaceful atmosphere -PRON- wish -PRON- remember gentleman take_care_of -PR...\n",
       "29      excellent experience avon location -PRON- hair_cut cami -PRON- fantastic skilled mediocre cut -P...\n",
       "                                                       ...                                                 \n",
       "4970    first_off let -PRON- -PRON- glad this_place exist bloomfield passable alternative umi -PRON- upd...\n",
       "4971    really_cool place drink friend -PRON- love atmosphere bar cool jukebox bartender awesome friendl...\n",
       "4972                         -PRON- love_this_place -PRON- come_here year good place -PRON- nail pedicure\\n\n",
       "4973    -PRON- breakfast joint -PRON- mean serve decent breakfast special 7 buck 6 10 mon fri place spec...\n",
       "4974    -PRON- wait few_minute counter help 2:30 pm -PRON- knock counter -PRON- shout hello -PRON- shout...\n",
       "4975    this_place authentic kaachi gohst ki biryani -PRON- absolutely divine -PRON- search high low pla...\n",
       "4976    yard like big recess adult night -PRON- weird restaurant place -PRON- work -PRON- work -PRON- pa...\n",
       "4977    -PRON- stay_at resort only_downside -PRON- consider -PRON- downside -PRON- 10miles strip -PRON- ...\n",
       "4978    -PRON- want second opinion inspection -PRON- receive -PRON- car joe an_awesome job explain_every...\n",
       "4979       bad drive_through experience avoid this_place cost rude unprofessional worker food eh fry cold\\n\n",
       "4980    -PRON- fan_of run write review salon -PRON- trust -PRON- implicitly -PRON- burn -PRON- choose th...\n",
       "4981    -PRON- wish -PRON- shake shack hawaii -PRON- -PRON- fill in_vegas located right outside new_york...\n",
       "4982    -PRON- come_here -PRON- on_site window chip repair guy -PRON- husband recently come_here receive...\n",
       "4983                                rip_off staff friendly food drink overpriced golf overrate room small\\n\n",
       "4984    ok this_place big box dental corporation -PRON- average individually owned\\/family dental practi...\n",
       "4985    -PRON- find this_place ok big problem little queue weekend -PRON- egg good toronto many_other go...\n",
       "4986    -PRON- -PRON- 2 dog clinic recommendation glad -PRON- support staff knowledgeable caring -PRON- ...\n",
       "4987    excellent wing flavor mild hot -PRON- order garlic parm lemon garlic delicious fry surprisingly ...\n",
       "4988                  overrate food service wanting- superior choice italian fare pizza ft mill\\/tega cay\\n\n",
       "4989                                 support -PRON- local uso -PRON- active duty retire god bless america\\n\n",
       "4990    visit champaign business stumble great irish pub decor traditional irish second more_importantly...\n",
       "4991               food good delivery quick eat bad_experience try singapore rice noodles -PRON- eat_here\\n\n",
       "4992    surprising thai place small town brunswick oh -PRON- impressed_with décor fact_that -PRON- famil...\n",
       "4993    usually -PRON- order fish chip place -PRON- end_up batter greasy dark brown crusty fish -PRON- s...\n",
       "4994    store generally good service recently -PRON- want purchase window screen -PRON- promptly receive...\n",
       "4995    -PRON- recently cross country road trip plot a_few brewpub visit beermapping.com -PRON- must_say...\n",
       "4996    this_place joke -PRON- make_an_appointment -PRON- -PRON- wait 2_hour -PRON- appointment -PRON- d...\n",
       "4997    customer_service professionalism terrible -PRON- order item wedding -PRON- -PRON- time date pick...\n",
       "4998    -PRON- takeaway night -PRON- -PRON- flat cook supply ok -PRON- do_not think -PRON- need an_excus...\n",
       "4999    sure -PRON- hate lgo -the difficulty find parking spot people come wait 2 minute vacate spot par...\n",
       "Length: 5000, dtype: object"
      ]
     },
     "execution_count": 44,
     "metadata": {},
     "output_type": "execute_result"
    }
   ],
   "source": [
    "lines_"
   ]
  },
  {
   "cell_type": "code",
   "execution_count": 45,
   "metadata": {},
   "outputs": [
    {
     "name": "stdout",
     "output_type": "stream",
     "text": [
      "(5000, 17114)\n",
      "['', '0', '000', '002', '007', '02142015', '025', '047ounc', '06', '060', '062316', '071615', '080', '09', '0951', '0jrucdobl4pqsig2gfnon3lz37s2wh0khkrvmwbvm', '0star', '1', '10', '100', '1000', '10000', '100000', '1000000x', '1000x', '100139', '100c', '100calori', '100stm', '100th', '1010', '1015', '1015minut', '1016', '102', '1020', '10200', '1027', '1028pm', '103', '1030', '1030am', '1030pm', '1040', '1040am', '1045', '1045am', '1045pm', '105', '1050', '106', '107thmcdowel', '108', '10800', '109', '1095', '1099', '10am', '10mile', '10min', '10minut', '10minutebefor', '10minutelat', '10month', '10per', '10pm', '10th', '10x', '10year', '10yo', '11', '110', '1100', '11042017', '110person', '111', '1110', '11152011', '11216', '11272017', '113', '1130', '1130am', '114', '1140am', '1145', '1145am', '115', '1150', '1150am', '1155', '11616the', '117', '11746', '119', '1195', '1199', '11am', '11ish', '11min', '11pm', '12', '120', '1200', '1205', '120ish', '1210', '1212015', '1214', '1215', '1223', '1225', '1227', '1230', '1230am', '1230pm', '125', '129', '1295pound', '1299', '12am6am', '12hour', '12hr', '12k15k', '12minut', '12pm', '12pm5pm', '12star', '12yr', '13', '130', '1300', '130person', '130pm', '1316', '132', '1320', '1346', '1350', '139', '1395', '13999', '13th', '13yo', '14', '140', '1400', '1435', '1450', '14500', '149', '1495', '1499', '14k', '14th', '15', '150', '1500', '1511', '1517', '1520', '15min', '15minut', '15person', '15star', '15xx', '15year', '16', '160', '1609', '16101', '16499', '165', '1650', '1675', '169', '1695', '1699', '16999', '16th', '17', '1700', '170000', '17000000', '1735', '1745', '175', '1750', '1754', '1764', '1780', '179', '1795', '1799', '17yo', '18', '180', '1800', '182', '1820', '182010', '1821', '1825', '1830hr', '1864', '18999', '18th', '18yr', '19', '190', '1916', '1917', '1919', '1930', '1941', '1944', '1945', '1949', '195', '1950', '1957', '1960', '1971', '1972', '1974', '1980', '1986', '1988', '199', '1990', '1991', '1995', '1997', '1998', '19985', '1999', '19th', '1am', '1am2am', '1day', '1hour', '1hr', '1lb', '1or', '1person', '1pm4pm', '1st', '1star', '1th', '2', '20', '200', '2000', '20000', '2003', '2004', '2006', '2008', '2009', '200am', '2010', '2011', '2012', '2013', '2014', '2015', '2016', '2017', '2018', '2020', '2022', '2085', '20day', '20min', '20minut', '20minutelat', '20someth', '20year', '21', '2100', '213', '215', '218', '21hr', '22', '2200', '220pm', '2225', '225', '227', '2295', '22h', '22nd', '23', '230', '230000', '230pm', '23305', '2399', '23rd', '24', '240', '2400', '247', '249', '24h', '24hour', '24hr', '24th', '24year', '25', '250', '2500', '250gallon', '2550', '25day', '25per', '25pp', '25th', '25year', '26', '2600', '26100', '2695', '26th', '27', '270', '274', '275', '27500', '27600', '2799', '28', '2800', '28800', '289', '28th', '28x', '29', '2934', '295', '29800', '299', '29th', '2am', '2buck', '2d', '2day', '2hour', '2hr', '2lb', '2m2', '2month', '2nd', '2nie', '2p', '2person', '2s', '2slice', '2star', '2week', '2x', '2yearago', '3', '30', '300', '3000', '300pm', '30day', '30hour', '30k', '30min', '30minut', '30person', '30someth', '30th', '31', '3199', '31st', '32', '3200', '320i', '320pm', '325', '326', '32nd', '32x34', '33', '330', '330am', '330pm', '337', '34', '340', '3400', '3407', '345', '345pm', '3495', '35', '350', '3500', '358', '3599', '35cent', '35minut', '35pp', '35star', '35th', '36', '360', '365', '36per', '37', '371', '37th', '38', '39', '3900', '3933', '395', '399', '3999', '3alarm', '3bacon', '3d', '3flavouredcolour', '3one', '3peppercorn', '3rd', '3river', '3star', '3way', '3week', '3x', '3xyear', '3year', '4', '40', '400', '4000', '40000', '400yard', '401', '40315', '40min', '40minut', '40s50', '40th', '410', '411', '4132014', '415', '416', '417', '4172', '42', '420', '423', '4230', '43', '430', '432', '432015', '4323', '44', '4400per', '440pm', '445pm', '449', '44th', '45', '450', '455', '45min', '45minut', '45star', '46', '47', '470mil', '48', '480', '4803', '49', '495', '499', '49th', '4am', '4cours', '4d', '4k', '4lane', '4p', '4peopl', '4runner', '4slic', '4star', '4th', '4x', '4xx', '5', '50', '500', '5000', '501', '505', '5050', '50hr', '50oo', '50s60', '50th', '51', '510', '510pm', '515pm', '5180', '52', '52015', '520pm', '521', '52216', '525', '529', '52917', '53', '530', '530am', '530pm', '530pm730pm', '54', '545', '549', '55', '550', '551', '555', '555pm', '56', '57', '575', '58', '582016', '5899', '59', '595', '599', '5c', '5day', '5ish', '5k', '5meat', '5min', '5minut', '5oo', '5p', '5pm', '5s', '5star', '5th', '5year', '5yo', '5yr', '6', '60', '600', '6000', '60000', '600pm', '605oo', '60day', '60ml', '60someth', '61', '610', '615', '61814', '62', '620', '625pm', '62815', '63', '630', '630bi', '630pm', '64', '6411', '6452', '65', '650', '65000', '6510', '66', '660', '66minut', '684', '69', '695', '699', '6995', '6am', '6hour', '6month', '6pm', '6s', '7', '70', '700', '7000', '702', '702619', '704', '704am', '70oo', '710', '7196', '72', '720', '7215', '725am', '7265', '729', '72nd', '73', '730', '74', '740', '740am', '744', '745', '745pm', '749', '75', '750', '7500', '7588500', '75cent', '75night', '7700', '777', '78', '780', '791', '795', '795the', '799', '7aa', '7cours', '7euro', '7g', '7layer', '7minut', '7n', '7pm', '7second', '7th', '7up', '8', '80', '800', '8000', '800am', '800pm', '806', '808', '81', '810', '81116', '825ish', '830', '8309ish', '830am', '830pm', '83rd', '840', '8417', '844', '845', '845pm', '85', '8500', '85022', '850pm', '895', '899', '8minut', '8p', '8pm', '8th', '9', '90', '900', '900am', '90min', '91', '910', '911', '912', '915', '923pm', '925am', '93', '930', '930noon', '930pm', '931', '940', '940am', '9411', '945', '945am', '95', '950', '9500', '96', '97', '975', '98', '99', '995', '99800', '9am', '9each', '9ish', '9pm', '9th', '9year', 'a1', 'a3', 'aa', 'aaa', 'aaaasssighyeeeeeeee', 'aaai', 'aah', 'aardvark', 'aaron', 'abandon', 'abartig', 'abbey', 'abbott', 'abbrevi', 'abc', 'abc15', 'abdomin', 'abduct', 'abend', 'aber', 'abgerundet', 'abgesagt', 'abhor', 'abil', 'abit', 'abitmor', 'abl', 'ableto', 'abletohelp', 'aboard', 'abomin', 'abondant', 'abord', 'abound', 'about10', 'about10minut', 'about15', 'about15minut', 'aboutanhour', 'aboveaverag', 'abras', 'abroad', 'abrupt', 'abruptli', 'abruzzo', 'abräumgeschwindigkeit', 'absenc', 'absent', 'absinth', 'absolu', 'absolut', 'absolutefavorit', 'absolutelyamaz', 'absolutelydelici', 'absolutelyhorr', 'absolutelylov', 'absorb', 'absurd', 'abuelo', 'abugida', 'abund', 'abus', 'abut', 'abvi', 'abysm', 'abzug', 'ac', 'acacia', 'academi', 'acai', 'acceler', 'accent', 'accentu', 'accept', 'acces', 'access', 'accessori', 'accid', 'accident', 'acclaim', 'accolad', 'accommod', 'accomod', 'accomodat', 'accompagn', 'accompagné', 'accompani', 'accomplish', 'accord', 'accordingli', 'accost', 'account', 'accredit', 'acct', 'accueil', 'accumul', 'accur', 'accuraci', 'accus', 'accustom', 'acdc', 'ace', 'ach', 'achi', 'achiev', 'acia', 'acid', 'ack', 'acknowledg', 'acl', 'acn', 'acommin', 'acorn', 'acoust', 'acqua', 'acquir', 'acr', 'acrlyic', 'acrobat', 'acrosstown', 'acryl', 'act', 'action', 'activ', 'actlik', 'actor', 'actual', 'actuali', 'acupunctur', 'acura', 'acustom', 'acuvu', 'ad', 'ada', 'adam', 'adana', 'adapat', 'add', 'addendum', 'addict', 'addit', 'address', 'adela', 'adelaid', 'adept', 'adeptli', 'adequ', 'adher', 'adio', 'adjac', 'adject', 'adjoin', 'adjust', 'adler', 'admin', 'administ', 'administr', 'admir', 'admiss', 'admit', 'admittedli', 'ado', 'adobo', 'adopt', 'ador', 'adorn', 'adoron', 'adovada', 'adrenalin', 'adrenn', 'adressen', 'adriana', 'adrienn', 'adult', 'advanc', 'advantag', 'adventur', 'adventuredom', 'adventurist', 'advers', 'advert', 'advertis', 'advic', 'advis', 'advisor', 'advoc', 'adword', 'ae', 'aerat', 'aerial', 'aeroplan', 'aesthet', 'aesthetician', 'aey', 'af1', 'afb', 'afc', 'afew', 'affabl', 'affair', 'affect', 'affi', 'affirm', 'affogato', 'afford', 'affront', 'aficionado', 'afloat', 'afoot', 'aforement', 'afqjcne9ywt1mnwjbmzdhx6rcxzjykpprasig2pwyj6cnmr', 'afqjcnfbkfaozgbdopyu6', 'afqjcnfrkxnpvfmftpdzrwwoxyxfjrkjsqsig2s0i1sgattqrkvmmehebpwbvm', 'afqjcnfxsvxqzzmxfguhquwdvfuatoitiasig2zhpusjfuxkmgfmp64hq0kqbvm', 'afqjcngd4ziwivtpogz74u5bi7krcpibuasig2hgptcugtkusyrpd', 'afqjcngvejvfbp2wzsioh9p0ukko86zasig2oz8e9auh33c1nrtw2jynwbvm', 'afraid', 'african', 'afro', 'afrocentr', 'afrojack', 'afteral', 'aftermath', 'afternoon', 'afternooneven', 'afterread', 'aftertast', 'afterthought', 'afterward', 'afterword', 'agav', 'age', 'agedashi', 'agenc', 'agenda', 'agent', 'aggrav', 'aggress', 'agit', 'agiu', 'agnolotti', 'ago', 'agon', 'agora', 'agrad', 'agrandi', 'agre', 'agreeabl', 'agreement', 'agress', 'agréabl', 'agt', 'agua', 'aguachil', 'ah', 'aha', 'ahahahahaha', 'ahe', 'ahead', 'ahem', 'ahh', 'ahhh', 'ahhhh', 'ahhhhmaz', 'ahi', 'ahituna', 'ahv', 'ahwatuke', 'ai', 'aid', 'aiello', 'ailment', 'aim', 'aime', 'aimez', 'aimé', 'ainsi', 'aioli', 'aip', 'air', 'aircraft', 'airfar', 'airflow', 'airi', 'airlin', 'airport', 'airprot', 'airway', 'aisl', 'aj', 'aji', 'ajisen', 'ajwain', 'ak', 'aka', 'akaihana', 'akami', 'akc', 'akin', 'akorcough', 'akron', 'al', 'ala', 'aladdin', 'aladdinscedarfairmount', 'alan', 'alarm', 'alaska', 'alaskan', 'alba', 'albacor', 'albarino', 'albeit', 'albert', 'albertan', 'albertson', 'album', 'alchimist', 'alcohol', 'alcoholespressoladyfing', 'aldent', 'aldo', 'ale', 'alec', 'alejandr', 'alentour', 'alergi', 'alert', 'alex', 'alexi', 'alexsharon', 'alfakh', 'alfr', 'alfredo', 'ali', 'alic', 'alicia', 'alien', 'align', 'alignmentbalancerot', 'alik', 'alimentair', 'alisa', 'alisha', 'alittl', 'alittlebit', 'aliv', 'alkohol', 'all', 'alla', 'allday', 'allegra', 'allem', 'allemand', 'allen', 'aller', 'allerd', 'allerg', 'allergi', 'allevi', 'alley', 'allez', 'alli', 'allison', 'allix', 'alll', 'allll', 'allllll', 'allmost', 'allo', 'alloc', 'allot', 'allow', 'alloy', 'allstat', 'allud', 'allur', 'allway', 'allzu', 'allé', 'alma', 'almond', 'almosteveri', 'alo', 'aloha', 'alongsid', 'alongwith', 'aloof', 'alor', 'alot', 'aloud', 'alpin', 'alright', 'alrightif', 'alsac', 'altenativen', 'alter', 'alterc', 'altern', 'altho', 'althoug', 'alto', 'altogeth', 'altogether', 'aluminum', 'alumnu', 'alway', 'alyssa', 'alzheim', 'amaaaz', 'amabl', 'amadio', 'amado', 'amaiz', 'amalgam', 'amanda', 'amann', 'amaretto', 'amateur', 'amateurish', 'amaz', 'amazingjob', 'amazingli', 'amazinh', 'amazon', 'amber', 'amberjack', 'ambianc', 'ambiancedécor', 'ambianceloc', 'ambienc', 'ambient', 'ambival', 'ambros', 'amc', 'amd', 'ameli', 'amen', 'amend', 'america', 'american', 'americana', 'americanitalian', 'americano', 'amerika', 'amerikanischen', 'amex', 'amf', 'ami', 'amid', 'amidst', 'amigo', 'amino', 'amish', 'ammmaazzz', 'amor', 'amountof', 'amoureux', 'amp', 'ampl', 'amplifi', 'ampm', 'amstel', 'amsterdam', 'amus', 'ana', 'anabsolut', 'anaccid', 'anaddit', 'anadult', 'anago', 'anaheim', 'anal', 'analog', 'analyz', 'anamaz', 'anamazingjob', 'anappet', 'anappoint', 'anappt', 'anatolia', 'anawesom', 'anbietet', 'anchor', 'anchovi', 'ancient', 'andaz', 'ander', 'anderen', 'anderson', 'andi', 'andiron', 'andof', 'andor', 'andouil', 'andrea', 'andrew', 'anearli', 'anem', 'anemploye', 'anestim', 'anexcel', 'anexcus', 'anextra', 'ang', 'angebunden', 'angel', 'angela', 'angemessen', 'angenehm', 'angi', 'angl', 'anglais', 'angri', 'angrili', 'angrycareless', 'angu', 'anhour', 'anialdoicwbqusg', 'anic', 'anim', 'animalhospit', 'animos', 'anincred', 'anissu', 'aniston', 'ankam', 'ankl', 'ann', 'anna', 'annabel', 'annaliza', 'annandoro', 'anni', 'annihil', 'anniversair', 'anniversari', 'announc', 'annoy', 'annual', 'anné', 'anold', 'anorex', 'anotherch', 'anotherreview', 'anreis', 'anschliessen', 'ansich', 'ansonsten', 'anspruch', 'anstatt', 'answer', 'answerani', 'answeranyquest', 'ant', 'anthoni', 'anti', 'antibiot', 'anticip', 'anticlimat', 'antioxid', 'antipasti', 'antipasto', 'antiqu', 'antithesi', 'antler', 'anton', 'antonio', 'antwan', 'anxieti', 'anxiou', 'anxious', 'anybodi', 'anyhoo', 'anymor', 'anyon', 'anyoneels', 'anyonewho', 'anyoth', 'anyquest', 'anyth', 'anyther', 'anythingels', 'anytim', 'anytimesoon', 'anyway', 'anywaysss', 'anywhereels', 'anywho', 'anywhoo', 'anzutanzen', 'aok', 'aoki', 'aoli', 'ap', 'apa', 'apach', 'apal', 'apart', 'apathet', 'ape', 'aperitif', 'aperol', 'apetit', 'api', 'apiec', 'aplenti', 'apn', 'apocalyps', 'apollo', 'apolog', 'apologet', 'app', 'appal', 'appar', 'appareil', 'appeal', 'appear', 'appeas', 'appectiz', 'apper', 'apperit', 'appet', 'appetis', 'appetit', 'appetitlich', 'appetizersdrink', 'appetizersextra', 'appi', 'appl', 'applaud', 'applebe', 'applesauc', 'applewood', 'appli', 'applianc', 'applic', 'appoint', 'appointmt', 'apportez', 'appos', 'apprais', 'appreci', 'approach', 'appropri', 'approv', 'approx', 'approxim', 'apprécié', 'appt', 'apricot', 'april', 'apron', 'aprè', 'apéritif', 'aqua', 'aquachil', 'aquarium', 'arab', 'aram', 'arancini', 'arbeiten', 'arbi', 'arbor', 'arboretum', 'arborist', 'arcad', 'arcadia', 'arch', 'archaic', 'architectur', 'architektur', 'arco', 'arctic', 'arduou', 'area', 'arena', 'arent', 'arepa', 'areperia', 'argan', 'argent', 'argu', 'arguabl', 'arguewith', 'argument', 'aria', 'aris', 'arizona', 'arjuna', 'arlen', 'arlo', 'arm', 'armani', 'armenian', 'armer', 'armez', 'armi', 'armoir', 'armor', 'aroma', 'aromat', 'aromatherapi', 'aroud', 'aroundtown', 'arrabbiata', 'arrang', 'array', 'arrest', 'arriv', 'arriveearli', 'arrog', 'arrow', 'arrowhead', 'ars', 'arsen', 'art', 'arteri', 'arthriti', 'arthur', 'arti', 'artic', 'artichok', 'articl', 'articul', 'artifact', 'artifici', 'artisan', 'artist', 'artistri', 'artsi', 'artwork', 'arugaua', 'arugula', 'arugulath', 'arvand', 'asada', 'asadero', 'asanappet', 'asap', 'asari', 'asfar', 'ash', 'asham', 'ashevil', 'ashley', 'ashton', 'ashtray', 'asia', 'asiago', 'asian', 'asianchines', 'asiankorean', 'asianloc', 'asiansushi', 'asiatiqu', 'asid', 'asidefrom', 'asist', 'ask', 'asl', 'asoppos', 'aspara', 'asparagu', 'aspect', 'aspirin', 'asposs', 'ass', 'assaisonné', 'assault', 'assembl', 'asseri', 'assess', 'asset', 'assez', 'asshat', 'asshol', 'assi', 'assiett', 'assign', 'assist', 'associ', 'associatesinclud', 'assoon', 'assoona', 'assort', 'assortmentof', 'assum', 'assumpt', 'assur', 'assuredli', 'assurez', 'astair', 'asterino', 'asthma', 'astigmat', 'astonish', 'astonishingli', 'astor', 'astound', 'astray', 'asu', 'asusu', 'aswel', 'aswella', 'asylum', 'at11am', 'atari', 'ate', 'ateas', 'atencion', 'athlet', 'atir', 'atlant', 'atleast', 'atleastonc', 'atm', 'atmosepher', 'atmoshper', 'atmosp', 'atmospher', 'atmospherevib', 'atmosphär', 'atom', 'atrium', 'atroci', 'att', 'attach', 'attack', 'attempt', 'attend', 'attende', 'attent', 'attentivemayb', 'attest', 'atthisloc', 'attic', 'attir', 'attitud', 'attitudeso', 'attn', 'attract', 'attribut', 'atv', 'au', 'aubrey', 'auch', 'aucun', 'audac', 'audi', 'audienc', 'audio', 'audit', 'auditorium', 'auf', 'auffüllen', 'aufgehoben', 'aufmerksam', 'aufzuessen', 'aufzustehen', 'aug', 'augment', 'august', 'augustien', 'aujourdhui', 'aunt', 'aunti', 'aura', 'aureol', 'aurez', 'aurora', 'ausgeben', 'ausgegeben', 'ausgeschenkt', 'ausgestattet', 'ausgezeichnet', 'ausgiebig', 'ausprobieren', 'ausschließlich', 'ausserdem', 'aussi', 'auster', 'austin', 'austria', 'austrian', 'auswahl', 'authent', 'authenticmexican', 'authenticmexicanfood', 'authentiqu', 'author', 'auto', 'autoansw', 'autobahnausfahrt', 'autoimmun', 'autom', 'automat', 'automobil', 'automot', 'autopay', 'autozon', 'autr', 'autumn', 'aux', 'außen', 'außenbestuhlung', 'außenterrass', 'außer', 'av', 'avabl', 'avacado', 'avaiabl', 'avail', 'avait', 'avant', 'ave', 'avec', 'avecun', 'avenu', 'averag', 'averagebelow', 'avez', 'avg', 'avi', 'aviat', 'avid', 'avil', 'avion', 'avl', 'avocado', 'avoid', 'avoir', 'avon', 'avouer', 'aw', 'await', 'awaken', 'awar', 'award', 'awardcelebr', 'awatuke', 'away', 'awayfrom', 'awe', 'awesom', 'awestruck', 'awhil', 'awkward', 'awkwardli', 'awn', 'awseufoknaa7igliy4c4bausg', 'awsom', 'axe', 'axiom', 'axx', 'ay', 'ayana', 'ayant', 'ayc', 'aycd', 'az', 'azaria', 'azria', 'azteca', 'azzo', 'b', 'b4', 'b9', 'ba', 'bab', 'baba', 'babaganoush', 'babaluu', 'babbl', 'babbo', 'babe', 'babi', 'babka', 'babyback', 'babygirl', 'babystack', 'bac', 'baccarat', 'bacchan', 'bachab', 'bachan', 'bachelor', 'bacheloretteparti', 'bachi', 'bacio', 'back', 'background', 'backhip', 'backlogg', 'backpack', 'backroom', 'backstori', 'backtrack', 'backward', 'backyard', 'bacon', 'baconswiss', 'bacteri', 'bacteria', 'bad', 'badass', 'badexperi', 'badger', 'badli', 'bae', 'baffl', 'bafun', 'bag', 'bagbowl', 'bagel', 'baggag', 'baghdad', 'bagi', 'bagley', 'baguett', 'bah', 'bahama', 'bahn', 'bail', 'bailey', 'bairley', 'bairrada', 'bait', 'baja', 'bak', 'bake', 'bakedpotato', 'bakehous', 'baker', 'bakeri', 'bakersfield', 'bakeryyogurt', 'baklava', 'baku', 'balad', 'balanc', 'balancé', 'balconi', 'baldwin', 'ball', 'ballantyn', 'baller', 'ballet', 'balli', 'balloon', 'ballpark', 'ballroom', 'ballyspari', 'balsalm', 'balsam', 'baltimor', 'bam', 'bamboo', 'bamiyan', 'ban', 'banal', 'banana', 'banch', 'banchan', 'banchen', 'band', 'bandana', 'bandera', 'bandwagon', 'banfield', 'bang', 'banger', 'banh', 'banhan', 'bank', 'banker', 'bankerlawyergener', 'bankruptci', 'banoffe', 'banquet', 'banquett', 'banquis', 'banter', 'banzai', 'banzo', 'bao', 'bap', 'baptis', 'baptiz', 'bar', 'bararea', 'barb', 'barbacoa', 'barbara', 'barbecu', 'barbellsdumbel', 'barbequ', 'barber', 'barbershop', 'barbq', 'barcasino', 'barclub', 'barcod', 'bare', 'bareburg', 'barefoot', 'barelyani', 'barg', 'bargain', 'bargastropub', 'barista', 'bark', 'barley', 'barn', 'barney', 'barnum', 'baron', 'barr', 'barramundi', 'barrel', 'barren', 'barrestaur', 'barrier', 'barrington', 'barrio', 'barro', 'barsrestaur', 'barstow', 'bartend', 'bartendar', 'bartenderserv', 'barter', 'barwar', 'bascul', 'base', 'basebal', 'baseboard', 'baselin', 'basement', 'baseon', 'bash', 'basha', 'basi', 'basic', 'basil', 'basin', 'bask', 'basket', 'basketbal', 'baskin', 'basmashkat', 'basmati', 'bass', 'bassinet', 'bast', 'bastard', 'baster', 'basterd', 'bastion', 'bat', 'batch', 'bate', 'bath', 'bathous', 'bathroom', 'bathtub', 'batista', 'batman', 'baton', 'batter', 'batteri', 'battersbi', 'battl', 'battlefield', 'batura', 'bau', 'bavarian', 'baxk', 'bay', 'bayarea', 'bb', 'bball', 'bbb', 'bbborg', 'bbq', 'bbqhawaiian', 'bbqpork', 'bbqsauc', 'bbt', 'bbtea', 'bc', 'bcaa', 'bcbg', 'bday', 'beach', 'beachland', 'beacon', 'beacus', 'bead', 'beagl', 'beam', 'bean', 'beani', 'beansprout', 'bear', 'bearabl', 'beard', 'bearli', 'bearnais', 'beast', 'beat', 'beaten', 'beati', 'beatl', 'beau', 'beaucoup', 'beauti', 'beautician', 'beautif', 'beautifi', 'beaver', 'bebo', 'beckett', 'becki', 'beckon', 'bed', 'bedienung', 'bedienungen', 'bedroom', 'bedroombathroom', 'bedsid', 'bedspillow', 'bedt', 'bee', 'beech', 'beed', 'beef', 'beefeat', 'beefhash', 'beefi', 'beefsmok', 'beefstro', 'beer', 'beercid', 'beermappingcom', 'beerontap', 'beerscid', 'beerselect', 'beet', 'beetroot', 'beetsalad', 'befand', 'befindet', 'beforeaft', 'beg', 'begger', 'begin', 'beginn', 'beginnen', 'bego', 'begrenzt', 'beh', 'behalf', 'behaupten', 'behav', 'behavior', 'behaviour', 'behold', 'bei', 'beid', 'beig', 'beignet', 'beij', 'beim', 'bekah', 'bekaman', 'bekannt', 'bekommt', 'belacan', 'belat', 'belgian', 'belgium', 'belief', 'believ', 'belittl', 'belk', 'bell', 'bella', 'bellafornia', 'bellagio', 'bellagiobuffet', 'bellagiomit', 'belli', 'bellini', 'bellman', 'bellyband', 'bellè', 'belong', 'belongin', 'belov', 'belowaverag', 'belt', 'belveder', 'bemerkt', 'bemoan', 'ben', 'bench', 'benchbooth', 'benchcouch', 'bend', 'bender', 'beneath', 'benedict', 'benefit', 'benihana', 'benni', 'benson', 'bent', 'bento', 'bentobox', 'benz', 'benötigt', 'beobachteten', 'bequem', 'beratung', 'berber', 'beretta', 'berger', 'berkshir', 'bernardin', 'berni', 'berri', 'berrrrrrri', 'bertha', 'berto', 'bertram', 'berücksichtigt', 'besitz', 'besond', 'besonder', 'besorgen', 'bespok', 'besser', 'besseren', 'best', 'best5', 'besteck', 'besteht', 'bestellen', 'bestellt', 'bestellten', 'bestellung', 'besten', 'besti', 'bestow', 'besuch', 'besucht', 'bet', 'bete', 'beth', 'betroth', 'betsey', 'betsi', 'betta', 'bettelnden', 'bettelt', 'better', 'betterthan', 'betti', 'betweeen', 'betwixt', 'beurteilen', 'bev', 'beverag', 'bevor', 'bewar', 'bewerten', 'bewertung', 'bewundern', 'beysim', 'bf', 'bfast', 'bff', 'bhaji', 'bhajji', 'bhatura', 'bhel', 'bi', 'bia', 'biali', 'bianco', 'bias', 'bibb', 'bibimbab', 'bibimbap', 'bibl', 'bichon', 'bicycl', 'bid', 'bien', 'bier', 'biergarten', 'biet', 'bietet', 'bifin', 'bifoc', 'big', 'big10', 'bigass', 'bigdeal', 'bigfan', 'bigfanof', 'bigge', 'biggi', 'bigscreen', 'bihari', 'bike', 'biker', 'bikini', 'bikram', 'bilingu', 'bilk', 'bill', 'billi', 'billingaccount', 'billionair', 'biltmor', 'bim', 'bimbimbap', 'bimbimbup', 'bimbipap', 'bin', 'bind', 'binder', 'bing', 'bingo', 'bink', 'binkley', 'binocular', 'bio', 'biochemistri', 'biofin', 'biolog', 'biopsi', 'bird', 'birdito', 'birfday', 'birria', 'birth', 'birthday', 'birthdaycelebr', 'birthdayour', 'birton', 'biryani', 'biscotti', 'biscuit', 'biscut', 'bismal', 'bison', 'bisqu', 'bisquecorn', 'bistec', 'bistro', 'bit', 'bitch', 'bitdri', 'bite', 'biteinto', 'bitmor', 'bitoverpr', 'bitpricey', 'bitsgril', 'bitsi', 'bitten', 'bitter', 'bittet', 'bizarr', 'biziq', 'bièr', 'bj', 'bjorn', 'bk', 'black', 'blackbean', 'blackberri', 'blackbird', 'blackcamel', 'blacken', 'blackhead', 'blackjack', 'blackown', 'blackston', 'blade', 'blah', 'blame', 'blanca', 'blanch', 'blanco', 'bland', 'blandest', 'blandstal', 'blank', 'blanket', 'blankli', 'blanton', 'blast', 'blatant', 'blaze', 'blazer', 'blazin', 'blb', 'bld', 'bldg', 'bleach', 'bleacher', 'bleak', 'bleedin', 'bleh', 'blehhh', 'blend', 'blendini', 'bless', 'bleu', 'bli', 'blick', 'blind', 'blindli', 'blini', 'blink', 'blintz', 'bliss', 'blister', 'blizzard', 'blk', 'bloat', 'blob', 'block', 'blockhous', 'blog', 'blond', 'blondi', 'blood', 'bloodi', 'bloodwork', 'bloodymari', 'bloomberg', 'bloomfield', 'bloor', 'bloorcourt', 'blooryong', 'blossom', 'blot', 'blow', 'blowaway', 'blowawaybi', 'blowdri', 'blowdryer', 'blower', 'blowgwbvm', 'blowjob', 'blown', 'blowout', 'blt', 'blta', 'blu', 'blue', 'blueberri', 'blueberrypomegran', 'bluechees', 'bluepoint', 'bluetooth', 'blunder', 'blunt', 'bluntli', 'blurri', 'blush', 'blusteri', 'blvd', 'bmw', 'bo', 'boa', 'board', 'boarder', 'boardwalk', 'boast', 'boat', 'boater', 'boatersailor', 'boatload', 'bob', 'boba', 'bobbett', 'bobbi', 'bobcat', 'boca', 'bocc', 'bodi', 'bodybuild', 'bodyguard', 'boeuf', 'bogey', 'boggl', 'bogo', 'bohemian', 'boi', 'boil', 'boiler', 'boink', 'boisson', 'bojangl', 'bokchoy', 'bokki', 'bol', 'boland', 'bold', 'bologna', 'bolognais', 'bolognes', 'bolsa', 'bolt', 'bomb', 'bombcom', 'bomber', 'bombshel', 'bon', 'bonaci', 'bonapart', 'bond', 'bone', 'bonefish', 'boneless', 'bonemarrow', 'bonfir', 'bong', 'bonheur', 'bonita', 'bonn', 'bonu', 'bonuspoint', 'boo', 'boob', 'boohyah', 'book', 'bookmark', 'bookshelf', 'bookstor', 'boom', 'booom', 'boooo', 'booooo', 'boost', 'booster', 'boot', 'booth', 'booz', 'boozelol', 'bordeaux', 'border', 'borderlin', 'bore', 'borek', 'borg', 'boringthi', 'borough', 'borrow', 'borsht', 'bosa', 'boss', 'boston', 'botan', 'botch', 'bother', 'bothersom', 'boti', 'botox', 'botti', 'bottl', 'bottleof', 'bottomless', 'bottomlin', 'bouch', 'bouchon', 'bouché', 'bouff', 'bougoulgi', 'bouillabas', 'bouillon', 'boul', 'boulangeri', 'boulangèr', 'boulder', 'boulot', 'bounc', 'bouncer', 'bounci', 'bounti', 'bouquet', 'bourbon', 'bout', 'bouteil', 'boutiqu', 'boutiquebar', 'boutteev', 'bowflex', 'bowi', 'bowl', 'bowler', 'bowlingalley', 'bowlmad', 'bowman', 'box', 'boxi', 'boy', 'boycott', 'boyd', 'boyfriend', 'boylan', 'boyz', 'bplahfish', 'bra', 'brace', 'bracelet', 'bracket', 'brad', 'braddock', 'bradford', 'bradi', 'brag', 'braid', 'braider', 'brain', 'brainer', 'brainwash', 'brais', 'braisé', 'brake', 'brampton', 'branch', 'brand', 'brandi', 'brandnew', 'brandon', 'branzino', 'brasil', 'brass', 'brassaii', 'brassi', 'brat', 'bratwurst', 'bratwvrst', 'braucht', 'brava', 'brave', 'bravo', 'bray', 'brazil', 'brazilian', 'brb', 'bread', 'breadcrumb', 'breadi', 'breadingbatt', 'breadpud', 'breadsmith', 'breadstick', 'breadthey', 'break', 'breakag', 'breakdown', 'breaker', 'breakfast', 'breakfastbrunch', 'breakfastburrito', 'breakfastlunch', 'breakout', 'breakthrough', 'breast', 'breath', 'breather', 'breathless', 'breathtak', 'brechend', 'breckenridg', 'breed', 'breez', 'breezi', 'bref', 'brenagh', 'brenda', 'brendan', 'brennan', 'breproperti', 'breuningerland', 'breuvag', 'brew', 'brewer', 'breweri', 'brewewi', 'brewpub', 'brgr', 'brian', 'bribe', 'brick', 'brickwork', 'brickyard', 'bridal', 'bride', 'bridesmaid', 'bridg', 'brie', 'brief', 'briefcas', 'briefli', 'bright', 'brighten', 'brighter', 'brightli', 'brilliant', 'brilliantli', 'brim', 'brine', 'bring', 'bringout', 'bringthejumbocrumbcaketolv', 'brini', 'brio', 'brioch', 'brioché', 'brise', 'brisket', 'british', 'britney', 'brittani', 'brittl', 'brixx', 'brizza', 'brkfst', 'bro', 'broad', 'broadband', 'broadview', 'broadway', 'broast', 'broccoli', 'brochett', 'brochur', 'brocoli', 'brodi', 'broil', 'broke', 'broken', 'broker', 'bronco', 'bront', 'bronx', 'brooch', 'brook', 'brooki', 'brooklin', 'brooklyn', 'brookpark', 'broth', 'brother', 'brought', 'brow', 'brown', 'browni', 'brownric', 'brows', 'bru', 'bruce', 'bruchetta', 'bruddah', 'bruegger', 'bruell', 'bruh', 'bruin', 'bruis', 'brule', 'brunch', 'brunett', 'bruno', 'brunswick', 'bruschetta', 'brusetta', 'brush', 'brusqu', 'brussel', 'brusselsprout', 'brutal', 'bryan', 'bryant', 'bryson', 'brûlur', 'brûlée', 'bs', 'btw', 'bu', 'bub', 'bubbl', 'bubbletea', 'buc', 'buca', 'bucca', 'bucco', 'buchung', 'buck', 'bucket', 'buckl', 'buckwheat', 'buco', 'bud', 'budd', 'buddha', 'buddi', 'budg', 'budget', 'budino', 'budlight', 'bueno', 'bufala', 'buff', 'buffalo', 'buffer', 'buffest', 'buffet', 'buffetcafeteria', 'buffett', 'bug', 'buger', 'buggah', 'bugger', 'buggi', 'build', 'builder', 'buldak', 'bulg', 'bulgogi', 'bulk', 'bulki', 'bull', 'bulldog', 'bullet', 'bulletproof', 'bulli', 'bullshit', 'bullshoot', 'bultur', 'bulwark', 'bum', 'bumbl', 'bummer', 'bump', 'bumper', 'bumpi', 'bun', 'bunbohu', 'bunch', 'bunchof', 'bundl', 'bundt', 'bunge', 'bunion', 'bunk', 'bunless', 'bunni', 'bunsbread', 'burbon', 'burden', 'bureau', 'burg', 'burgatori', 'burger', 'burgh', 'burgr', 'buri', 'burk', 'burl', 'burlap', 'burlesqu', 'burli', 'burlington', 'burn', 'burner', 'burnhamthorp', 'burnt', 'burpe', 'burrata', 'burrito', 'burritom', 'burro', 'burst', 'busboy', 'buse', 'bush', 'bushi', 'busi', 'businesss', 'busperson', 'buss', 'busser', 'busservic', 'bussl', 'bust', 'bustl', 'busy', 'buta', 'butaniku', 'butcher', 'buthey', 'butm', 'butt', 'butter', 'butterchicken', 'buttercream', 'butterfish', 'butterfli', 'buttergemüs', 'butteri', 'buttermilk', 'butternut', 'buttock', 'button', 'buttonhol', 'bux', 'buy', 'buyer', 'buyingexperi', 'buzz', 'buzzer', 'bv45645796dcge', 'bv45960087dcge', 'bw', 'bww', 'byblo', 'bye', 'byfar', 'byo', 'byob', 'bypass', 'byu', 'bzw', 'bäder', 'böblingen', 'bügelbrett', 'bügeleisen', 'büro', 'c', 'c3', 'c5', 'c6', 'cab', 'caballero', 'cabana', 'cabarru', 'cabazon', 'cabb', 'cabbag', 'cabbi', 'cabeza', 'cabi', 'cabin', 'cabinet', 'cabl', 'cabo', 'cacao', 'cach', 'cacti', 'cactu', 'cad', 'cadillac', 'cadr', 'caesar', 'caesarsalad', 'cafe', 'cafebakeri', 'cafecoffe', 'caferesto', 'cafetera', 'cafeteria', 'caff', 'caffein', 'caffeinat', 'café', 'cage', 'caio', 'caipirinha', 'caitlin', 'cajun', 'cake', 'cakeri', 'cakey', 'cal', 'calabash', 'calabres', 'calamar', 'calamari', 'calcul', 'caleb', 'calendar', 'calf', 'cali', 'calib', 'california', 'californian', 'californiarol', 'calimari', 'callahead', 'caller', 'calligraphi', 'callu', 'calm', 'calmar', 'calmari', 'calmdownguy', 'calmli', 'calor', 'calori', 'calphalon', 'calpico', 'calvado', 'calvin', 'calzon', 'calzonn', 'cam', 'camacho', 'camaraderi', 'camaron', 'camden', 'came', 'camel', 'camelback', 'cameo', 'camera', 'cameraderi', 'cami', 'camp', 'campaign', 'camper', 'campero', 'campfir', 'campground', 'campsit', 'campu', 'camri', 'can', 'canada', 'canadatoronto', 'canadian', 'canal', 'canard', 'cancel', 'cancer', 'candi', 'candid', 'candl', 'candler', 'candlestick', 'candycooki', 'cane', 'canh', 'canimagin', 'canin', 'canist', 'cannel', 'cannelloni', 'canneloni', 'cannett', 'canning', 'cannoli', 'cannon', 'cannot', 'canoli', 'canon', 'canonita', 'cant', 'cantaloup', 'cantina', 'cantones', 'canva', 'canyon', 'cao', 'cap', 'capabl', 'capac', 'caper', 'capicola', 'capit', 'capitain', 'cappachino', 'cappuccino', 'capres', 'capri', 'capriotti', 'captain', 'captiv', 'captur', 'car', 'cara', 'caraf', 'caramel', 'caramelchocol', 'caramélisé', 'carb', 'carbanera', 'carbi', 'carbon', 'carcinogen', 'card', 'cardamom', 'cardboard', 'cardin', 'cardio', 'cardiolog', 'cardstock', 'cardwis', 'care', 'careabout', 'career', 'carefre', 'caregiv', 'careless', 'caremor', 'carey', 'carfax', 'carglass', 'cargo', 'carib', 'caribbean', 'carl', 'carlo', 'carmel', 'carmeliz', 'carn', 'carneasada', 'carnegi', 'carnevino', 'carnita', 'carniv', 'carnivor', 'carol', 'carolin', 'carolina', 'carpaccio', 'carpet', 'carrera', 'carri', 'carrier', 'carrot', 'carrotcak', 'carrowind', 'carryout', 'carsen', 'carson', 'cart', 'cartag', 'carton', 'cartoon', 'cartridg', 'carv', 'carver', 'carwash', 'casa', 'casablanca', 'casalingo', 'casanova', 'casbah', 'cascara', 'case', 'cash', 'cashew', 'cashier', 'cashierbarista', 'cashierfront', 'cashierserv', 'cashonli', 'casino', 'casinohotel', 'casinoit', 'cask', 'casserol', 'cassidi', 'cast', 'castl', 'castlehttpwwwgooglecomurlsa', 'casual', 'casualti', 'cat', 'catalina', 'catalog', 'catch', 'catcher', 'catchup', 'categor', 'categori', 'cater', 'caterpillar', 'catfish', 'catfishveggi', 'cathous', 'catrina', 'catti', 'cattl', 'catu', 'cau', 'caucasian', 'caught', 'cauliflow', 'caulk', 'caus', 'caution', 'cautiou', 'cav', 'cavali', 'cavatappi', 'cavatelli', 'cave', 'caveat', 'caveman', 'caviar', 'caviti', 'cay', 'cb', 'cbw', 'cc', 'ccw', 'cd', 'cdl', 'cdsdvd', 'ce', 'ceasar', 'ceaser', 'cebu', 'cecelia', 'cedar', 'ceil', 'cela', 'celeb', 'celebr', 'celeri', 'celeriac', 'celest', 'celiac', 'cell', 'cellar', 'cellphon', 'cement', 'cemeteri', 'cent', 'centenni', 'center', 'centr', 'central', 'centrallyloc', 'centric', 'centsgallon', 'centuri', 'cereal', 'cerebr', 'ceremoni', 'ceresto', 'cerna', 'cert', 'certain', 'certainli', 'certif', 'certifi', 'cervic', 'cervich', 'cesar', 'cest', 'cet', 'cetera', 'cett', 'ceux', 'cevich', 'cf', 'cfi', 'ch', 'cha', 'chacun', 'chadol', 'chae', 'chagrin', 'chahan', 'chai', 'chain', 'chair', 'chaith', 'chako', 'chalet', 'chalk', 'challah', 'challeng', 'chambana', 'chamber', 'chambl', 'champ', 'champagn', 'champaign', 'champang', 'champion', 'championship', 'champro', 'chan', 'chana', 'chanc', 'chandeli', 'chandler', 'chanel', 'chang', 'changer', 'channel', 'chantel', 'chanter', 'chanterel', 'chantilli', 'chao', 'chaotic', 'chaotisch', 'chap', 'chapel', 'chaperon', 'chapman', 'chaqu', 'char', 'charact', 'character', 'characterist', 'charan', 'charbroil', 'charburg', 'charcoal', 'charcol', 'charcuteri', 'chardonnay', 'charg', 'charger', 'chargril', 'charisma', 'charismat', 'chariti', 'charl', 'charleston', 'charli', 'charlott', 'charm', 'charmant', 'charr', 'charro', 'charsear', 'charsimat', 'chart', 'charter', 'chartown', 'chase', 'chastis', 'chat', 'chateau', 'chatim', 'chatter', 'chatti', 'chattingsoci', 'chaud', 'chaz', 'cheap', 'cheaper', 'cheapli', 'cheapo', 'cheapparti', 'cheapthan', 'cheat', 'cheater', 'cheba', 'check', 'checkbook', 'checken', 'checker', 'checkin', 'checkout', 'checkup', 'cheddar', 'cheef', 'cheek', 'cheer', 'cheeri', 'cheerwin', 'chees', 'cheeseburg', 'cheesecak', 'cheesecurd', 'cheesedessert', 'cheeseless', 'cheesemilkbutt', 'cheeser', 'cheesesteak', 'cheesewrapguacbeansric', 'cheesi', 'cheesier', 'cheetah', 'chef', 'chefco', 'cheferi', 'cheff', 'chefin', 'chefköchin', 'chefown', 'chelsea', 'chemdri', 'chemic', 'chen', 'chequ', 'cher', 'cheri', 'cherish', 'cherri', 'cherrington', 'chest', 'chestnut', 'cheval', 'chevi', 'chevrolet', 'chew', 'chewi', 'chewier', 'chex', 'cheyenn', 'chez', 'chia', 'chianti', 'chic', 'chica', 'chicago', 'chicharron', 'chichen', 'chick', 'chicken', 'chickenbreast', 'chickenegg', 'chickenfing', 'chickenmushroom', 'chickensalmon', 'chickenthat', 'chickenveggi', 'chickenw', 'chickpea', 'chicori', 'chief', 'chilaquil', 'child', 'childhood', 'childish', 'children', 'chile', 'chilean', 'chilequellita', 'chilhuli', 'chili', 'chilichees', 'chilisoß', 'chilitomato', 'chill', 'chiller', 'chilli', 'chimay', 'chime', 'chimi', 'chimichanga', 'chimichurri', 'chimney', 'china', 'chinatown', 'chines', 'chinesefood', 'chinesen', 'chineserestaur', 'chinesisch', 'ching', 'chip', 'chipmunk', 'chipol', 'chipolt', 'chipotl', 'chipsguacamol', 'chipssalsa', 'chipssometh', 'chipsstick', 'chirashi', 'chirashibowl', 'chiropract', 'chiropractor', 'chirp', 'chirpi', 'chit', 'chitter', 'chiu', 'chive', 'chivken', 'chix', 'chkn', 'chloe', 'chlorin', 'cho', 'choc', 'chock', 'chockablock', 'chocol', 'chocolat', 'chocolatecak', 'chocolatechip', 'chocolatecov', 'chocolati', 'choic', 'choix', 'choke', 'chole', 'cholesterol', 'chomp', 'chomper', 'chompi', 'chon', 'choos', 'choosefrom', 'chooser', 'chop', 'choppi', 'chopstick', 'chore', 'choreographi', 'chorizo', 'chorizobeef', 'choruriço', 'chose', 'chosen', 'chouriço', 'choux', 'chow', 'chowd', 'chowder', 'chowfun', 'chri', 'chrissi', 'christ', 'christi', 'christian', 'christin', 'christina', 'christma', 'christmastim', 'christoph', 'chrome', 'chronic', 'chronolog', 'chrysanthemum', 'chrysler', 'chu', 'chua', 'chuan', 'chub', 'chubbi', 'chuck', 'chuf', 'chug', 'chuli', 'chun', 'chunk', 'chunki', 'church', 'churn', 'churo', 'churrasco', 'churrasqueira', 'churro', 'chutney', 'chx', 'ci2e6mpruh3k0wqopkuma3oxil0t0q0pytyjjg4jbg', 'ci2e6mpruh3k0wqopkumaci2e6mpruh3k0wqopkuma', 'ci2e6mpruh3k0wqopkumahoqvox8j6kcmxhy5dsjbpq', 'ciabatta', 'ciara', 'cibo', 'cider', 'cie', 'ciel', 'cig', 'cigar', 'cigarett', 'cigarettesmok', 'cilantro', 'cinch', 'cincinnati', 'cinco', 'cini', 'cinnabunstatu', 'cinnamon', 'cinnamonrol', 'cioppino', 'circa', 'circl', 'circu', 'circuit', 'circul', 'circular', 'circumfer', 'circumst', 'cirqu', 'cirqueshow', 'citi', 'citizen', 'citronella', 'citru', 'citrusi', 'civic', 'civil', 'civilian', 'cj', 'ck', 'ckn', 'cla', 'claim', 'clair', 'clam', 'clamchowd', 'clamor', 'clap', 'clarendon', 'clarifi', 'clarin', 'clarion', 'clark', 'clash', 'class', 'classesmembership', 'classi', 'classic', 'classier', 'classiest', 'classifi', 'classiqu', 'classless', 'classmat', 'classroomart', 'claustrob', 'claustrophob', 'claustrophobia', 'claw', 'clay', 'cle', 'clean', 'cleaner', 'cleanest', 'cleaningexam', 'cleanli', 'cleans', 'cleanup', 'clear', 'clearanc', 'clearcut', 'clearli', 'clement', 'cleo', 'clerk', 'cleveland', 'clever', 'cleverli', 'clich', 'cliché', 'click', 'clicker', 'client', 'clientcustomerpati', 'clientel', 'climat', 'climax', 'climb', 'climber', 'clinc', 'clinic', 'clip', 'clipper', 'cliqu', 'clo', 'clock', 'clog', 'close', 'closer', 'closet', 'closeup', 'cloth', 'cloud', 'cloudi', 'clown', 'cloy', 'clt', 'club', 'clubbar', 'clubbin', 'cluck', 'clue', 'clueless', 'clump', 'clumpi', 'cluster', 'clutch', 'clutter', 'cm', 'cmon', 'cmu', 'cmuth', 'cmye', 'cn', 'co', 'coach', 'coal', 'coalahol', 'coast', 'coastal', 'coaster', 'coat', 'cob', 'cobb', 'cobbler', 'coca', 'cocain', 'cochinita', 'cochran', 'cock', 'cocki', 'cockroach', 'cocktail', 'coco', 'cocoa', 'cocon', 'coconut', 'coconutmad', 'coctail', 'cod', 'coddl', 'code', 'codi', 'coe', 'coeur', 'coffe', 'coffeepastri', 'coffer', 'cogburn', 'cognac', 'coin', 'coincid', 'coincident', 'coital', 'cojito', 'coke', 'cola', 'colada', 'colcannon', 'cold', 'coldchil', 'coldli', 'cole', 'coleslaw', 'colicchio', 'colin', 'coliti', 'collag', 'collaps', 'collar', 'collard', 'collarsleash', 'colleagu', 'collect', 'collector', 'colleg', 'collegi', 'collegu', 'collett', 'colli', 'collichio', 'collin', 'collinwood', 'collis', 'collègu', 'cologn', 'colomb', 'colombian', 'colon', 'coloni', 'color', 'colorado', 'colorbleach', 'colorist', 'colorless', 'colour', 'colt', 'columbu', 'com', 'coma', 'comb', 'combin', 'combo', 'come', 'comeacross', 'comeback', 'comebackagain', 'comed', 'comedi', 'comedian', 'comeher', 'comeout', 'comeoutquickli', 'comer', 'comfi', 'comfort', 'comfortbl', 'comfortfood', 'comic', 'comida', 'comingsinc', 'comm', 'command', 'commandé', 'commemor', 'commenc', 'commencé', 'commend', 'commens', 'comment', 'commentair', 'commentari', 'commenton', 'commençait', 'commerci', 'commis', 'commiss', 'commit', 'committe', 'commod', 'common', 'commonli', 'commons1630044htmlixzz2pcl9kakk', 'commonsens', 'commonwealth', 'commun', 'commut', 'como', 'comp', 'compact', 'compair', 'compani', 'companion', 'compar', 'comparado', 'comparis', 'comparison', 'compass', 'compassion', 'compd', 'compel', 'compens', 'compet', 'competit', 'competitor', 'complac', 'complain', 'complainabout', 'complaint', 'complement', 'complementari', 'complet', 'complex', 'complexion', 'compli', 'compliant', 'complic', 'compliment', 'complimentari', 'compon', 'compos', 'compost', 'composur', 'compot', 'compound', 'comprabl', 'comprehend', 'comprehens', 'compren', 'comprendr', 'compress', 'compressor', 'compris', 'comprobar', 'compromis', 'compté', 'comput', 'computer', 'computergesteuerten', 'comrad', 'comsum', 'con', 'conant', 'conceal', 'conceiv', 'concentr', 'concentra', 'concept', 'conceptu', 'concern', 'concert', 'concess', 'conchita', 'concierag', 'concierg', 'concis', 'conclud', 'conclus', 'concoct', 'concord', 'concordia', 'concours', 'concret', 'concur', 'condemn', 'condens', 'condensé', 'condescend', 'condescent', 'condiment', 'condit', 'condition', 'condo', 'conduc', 'conduct', 'cone', 'coney', 'confect', 'confectioneri', 'confer', 'confess', 'confetti', 'confid', 'confidenti', 'confin', 'confirm', 'conflict', 'confort', 'confront', 'confus', 'congac', 'conge', 'congeni', 'congrat', 'congreg', 'conioisseur', 'conjectur', 'conjur', 'connai', 'connaîtr', 'connect', 'connoisseur', 'conquer', 'conscienc', 'consciou', 'conseil', 'consequ', 'conserv', 'consid', 'consider', 'consign', 'consist', 'consistof', 'consol', 'conspicu', 'conspiraci', 'constant', 'constantli', 'constitut', 'constraint', 'construct', 'constructivist', 'consult', 'consultaion', 'consum', 'consumm', 'consumpt', 'contact', 'contactsglass', 'contain', 'contamin', 'contempl', 'contemporari', 'contend', 'contenir', 'content', 'contest', 'context', 'continent', 'continu', 'contour', 'contract', 'contractor', 'contradict', 'contrari', 'contrast', 'contribut', 'control', 'conveni', 'convenientlyloc', 'convent', 'convers', 'convert', 'convey', 'conveyor', 'convienn', 'convinc', 'convivi', 'convo', 'cook', 'cookbook', 'cooki', 'cookiegram', 'cookout', 'cookperfectli', 'cooktop', 'cool', 'coolata', 'cooler', 'coolest', 'cooper', 'cooperstown', 'coor', 'coordin', 'cop', 'copay', 'copi', 'copierscann', 'copieu', 'copieux', 'copin', 'copiou', 'copper', 'copperfield', 'copyright', 'cora', 'coral', 'cordial', 'cordon', 'cordova', 'core', 'cori', 'coriand', 'cork', 'corkag', 'corktown', 'corn', 'cornbeef', 'cornbread', 'corndog', 'cornedbeef', 'corneliu', 'corner', 'cornholebag', 'corni', 'cornish', 'cornmeal', 'corntortilla', 'corona', 'corpor', 'corps', 'corral', 'correct', 'correctli', 'correl', 'correspond', 'corrod', 'corrupt', 'cortez', 'cortney', 'coréenn', 'cosi', 'cosmet', 'cosmo', 'cosmopolitan', 'cosmpolitan', 'cost', 'costa', 'costco', 'costcoa', 'costcocom', 'costli', 'costum', 'cotta', 'cottag', 'cotto', 'cottoncandi', 'coté', 'couch', 'coucou', 'cougar', 'cough', 'coughroka', 'coulda', 'couldbar', 'couldnot', 'couldnt', 'couldt', 'couleur', 'counselor', 'count', 'counter', 'counterpart', 'countersub', 'countertop', 'counti', 'countless', 'countri', 'coup', 'coupl', 'coupon', 'cour', 'courag', 'courant', 'couronné', 'cours', 'court', 'courteou', 'courtesi', 'courtoi', 'courtyard', 'cous', 'couscou', 'cousin', 'coutur', 'cove', 'coventri', 'cover', 'coverag', 'covet', 'covina', 'cow', 'coward', 'cowboy', 'cowork', 'cox', 'coyot', 'cozi', 'coûté', 'cpa', 'cpk', 'cra', 'crab', 'crabcak', 'crabdip', 'crableg', 'crabmeat', 'crack', 'cracker', 'crackin', 'crackl', 'crackpi', 'craf', 'craft', 'craftbeer', 'craftfood', 'crafti', 'craftsmanship', 'craftsteak', 'craig', 'craigslist', 'craint', 'cram', 'cramp', 'crampp', 'cranberri', 'crane', 'cranial', 'crank', 'cranki', 'cranni', 'crap', 'crappi', 'crapshoot', 'crash', 'crate', 'cravabl', 'cravatta', 'crave', 'crawfish', 'crawford', 'crawl', 'crawlspac', 'cray', 'crayon', 'crazi', 'creaki', 'cream', 'creamchees', 'creamer', 'creameri', 'creami', 'creamic', 'creampuff', 'creamsauc', 'creamsorbet', 'creat', 'creatin', 'creation', 'creationista', 'creativ', 'creativeskimpi', 'credenc', 'credenti', 'credibl', 'credit', 'creditcard', 'creditdebit', 'creek', 'creep', 'creepi', 'crema', 'creme', 'cremebrule', 'cremebrûlé', 'crepe', 'crepepancak', 'crest', 'crevic', 'crew', 'cri', 'crime', 'crimin', 'crimp', 'cring', 'crinkl', 'crisi', 'crisp', 'crisper', 'crispi', 'crispier', 'crispli', 'crispycrunchi', 'crispyeveryth', 'criss', 'cristal', 'cristano', 'cristo', 'criterion', 'critic', 'critiqu', 'critter', 'croatian', 'crock', 'croissant', 'crolla', 'cronut', 'crook', 'crop', 'croqu', 'croqueta', 'croquett', 'cross', 'crossfit', 'crossfitto', 'crostini', 'crotch', 'crouch', 'crouton', 'croutron', 'crowd', 'crowdwhich', 'crowley', 'crown', 'crownjewelshtmlei', 'crowsfeet', 'croût', 'croûton', 'crp', 'crucial', 'cruddi', 'cruditeaka', 'crudo', 'cruis', 'crumb', 'crumbl', 'crunch', 'crunchdoughi', 'crunchi', 'crunchifi', 'crunchwrap', 'crush', 'crust', 'crustacean', 'crusti', 'cruz', 'cryin', 'crystal', 'crème', 'cs', 'csr', 'ct', 'cu', 'cuas', 'cub', 'cuba', 'cuban', 'cubano', 'cubbi', 'cube', 'cubic', 'cubicl', 'cuckoo', 'cucumb', 'cucumbersalad', 'cue', 'cugino', 'cuisin', 'cuisiné', 'cuisson', 'culinari', 'cult', 'cultur', 'culturefriend', 'cum', 'cumbersom', 'cumin', 'cumquat', 'cuon', 'cup', 'cupcak', 'cupcraz', 'cupsh', 'cupso', 'curat', 'curb', 'curd', 'curdl', 'cure', 'curios', 'curiou', 'curl', 'curli', 'curlyfri', 'currenc', 'current', 'curri', 'curricular', 'currychicken', 'currywurst', 'curs', 'curt', 'curtain', 'curti', 'curtido', 'curv', 'cushion', 'custard', 'custardic', 'custardit', 'custem', 'custom', 'customari', 'customerpati', 'customerservic', 'customerserviceskil', 'cut', 'cutcolor', 'cute', 'cutelittl', 'cutesi', 'cuti', 'cuticl', 'cutleri', 'cutlet', 'cutsom', 'cutter', 'cuz', 'cv', 'cwru', 'cx9', 'cycl', 'cyclabl', 'cyclist', 'cylind', 'cyru', 'câpre', 'cétait', 'côte', 'côté', 'da', 'dab', 'dabbl', 'dabei', 'dac', 'dachalandag', 'dad', 'daddi', 'dadurch', 'daenjang', 'dafür', 'daher', 'daikon', 'daili', 'dailleur', 'dailyspeci', 'dainti', 'dairi', 'daisi', 'daith', 'daiya', 'dakota', 'dal', 'dale', 'dalla', 'dalli', 'dalmationbulldog', 'dam', 'damag', 'dami', 'damit', 'dammann', 'damn', 'damnit', 'dampen', 'damsel', 'dan', 'dana', 'danc', 'dancefloor', 'dancer', 'dandelion', 'dane', 'daneben', 'dang', 'danger', 'dangl', 'danica', 'daniel', 'daniella', 'danish', 'dank', 'dann', 'danni', 'dans', 'dap', 'dare', 'dariu', 'dark', 'darkchocol', 'darken', 'darkli', 'darkmysteriouscasu', 'darn', 'darrel', 'darren', 'darriv', 'dart', 'darunt', 'darwin', 'darüber', 'dasessen', 'dash', 'dashboard', 'dass', 'dastardli', 'date', 'datenight', 'dattendr', 'datum', 'dauber', 'dauert', 'daughter', 'daunt', 'dautr', 'davanc', 'dave', 'davi', 'david', 'davidson', 'davisvil', 'davoir', 'dawn', 'dawson', 'day', 'dayago', 'daybreak', 'daycar', 'daylat', 'daynight', 'dayron', 'daysnight', 'dayssss', 'daytim', 'daytona', 'dayum', 'dazu', 'dback', 'dbg', 'dc', 'dd', 'ddd', 'de', 'dead', 'deadliest', 'deadspac', 'deaf', 'deafen', 'deal', 'dealer', 'dealership', 'dealth', 'dean', 'dear', 'dearli', 'death', 'debacl', 'debat', 'debaucheri', 'debbi', 'debeppo', 'debit', 'debitcard', 'debitcredit', 'debitvisa', 'debo', 'debri', 'debt', 'debut', 'dec', 'dec14', 'decad', 'decatur', 'decaturwagon', 'decco', 'deceas', 'deceiv', 'decemb', 'decenc', 'decent', 'decentlypric', 'decept', 'decid', 'decim', 'decir', 'decis', 'deck', 'decker', 'deckeroni', 'declar', 'declin', 'deco', 'deconstruct', 'decor', 'decour', 'decreas', 'dedic', 'deduct', 'deed', 'deeelici', 'deem', 'deep', 'deepdish', 'deeper', 'deepfri', 'deepli', 'deer', 'def', 'default', 'defeat', 'defeatist', 'defec', 'defect', 'defenantli', 'defend', 'defens', 'defer', 'deff', 'defi', 'defiantli', 'defin', 'definatley', 'definetli', 'definit', 'definitelycomeback', 'definitelyrecommend', 'definitelyrecommendthisplac', 'definitelyreturn', 'definitelyworth', 'deflat', 'defnit', 'defrost', 'degener', 'degrad', 'degre', 'dehor', 'dehydr', 'deja', 'dekorativen', 'del', 'dela', 'delay', 'delect', 'delet', 'delhi', 'deli', 'delia', 'delibakeri', 'deliber', 'delic', 'delicaci', 'delici', 'delicici', 'delicioso', 'delight', 'delilah', 'delish', 'deliv', 'deliveri', 'delix', 'delmonico', 'delori', 'deluca', 'delux', 'delv', 'delà', 'dem', 'demand', 'demandé', 'demean', 'demeanor', 'demetr', 'demi', 'demichel', 'demo', 'demograph', 'demolish', 'demon', 'demonstr', 'demot', 'den', 'deni', 'denis', 'denizen', 'denk', 'denn', 'denni', 'dennoch', 'dens', 'dent', 'dental', 'dentist', 'denver', 'deodor', 'depart', 'departur', 'depend', 'dependon', 'deplor', 'deponga', 'deposit', 'deposithold', 'depot', 'depreci', 'depress', 'depriv', 'dept', 'depth', 'depui', 'der', 'derek', 'deriv', 'dermatologist', 'derogatori', 'derrièr', 'derwin', 'descend', 'descent', 'describ', 'descript', 'desert', 'deserv', 'desh', 'desi', 'design', 'designerboutiquen', 'desir', 'desire', 'desk', 'desper', 'despis', 'despit', 'dessert', 'dessertt', 'dessu', 'destin', 'destini', 'destress', 'destroy', 'desweiteren', 'detail', 'detangl', 'detect', 'detector', 'deter', 'deterg', 'determin', 'deterr', 'deti', 'detox', 'detoxif', 'detr', 'detract', 'detroit', 'deuc', 'deutlich', 'deutschland', 'deux', 'deuxièm', 'devacurl', 'devast', 'devein', 'develop', 'deviat', 'devic', 'devil', 'devin', 'devot', 'devour', 'devout', 'devrait', 'dg', 'dh', 'dhn4ggfu52wlist', 'dhôte', 'di', 'dia', 'diabet', 'diabol', 'diagnos', 'diagnosefix', 'diagnosi', 'diagnost', 'diagon', 'dial', 'dialogu', 'diamanté', 'diamet', 'diamond', 'dian', 'dianna', 'diaper', 'diappoint', 'diarrhea', 'diaz', 'dice', 'dicey', 'dick', 'dickey', 'dictat', 'diddli', 'didnt', 'die', 'diejenigen', 'dierdr', 'dies', 'diesem', 'diesen', 'dieser', 'diesi', 'diet', 'dietari', 'dieu', 'differ', 'differencebetween', 'differenti', 'differentthan', 'differenttyp', 'differenttypeof', 'difficult', 'difficulti', 'difficulté', 'diffus', 'différent', 'dig', 'digest', 'digestif', 'digg', 'diggiti', 'digit', 'digiti', 'digniti', 'digress', 'dijon', 'dilig', 'dill', 'dilli', 'dilworth', 'dim', 'dime', 'dimens', 'diminish', 'dimli', 'dimsum', 'din', 'dine', 'dineen', 'dinein', 'diner', 'dinerd', 'dinfluenc', 'ding', 'dingi', 'diningarea', 'diningexperi', 'diningopt', 'diningroom', 'dink', 'dinki', 'dinner', 'dinnerappet', 'dinnerl', 'dinnet', 'dino', 'dinosaur', 'dinuguan', 'dior', 'dip', 'diploma', 'dippingsauc', 'dirait', 'dire', 'direct', 'directli', 'director', 'directori', 'direkt', 'dirt', 'dirtbag', 'dirti', 'dirtstain', 'disabl', 'disadvantag', 'disant', 'disapoint', 'disappear', 'disappiont', 'disappoint', 'disappointingli', 'disast', 'disbelief', 'disc', 'discard', 'discharg', 'disclaim', 'disclos', 'disclosur', 'disco', 'discolor', 'discolour', 'discomfort', 'disconcert', 'disconnect', 'discont', 'discontinu', 'discotechno', 'discount', 'discourag', 'discov', 'discreetli', 'discrep', 'discret', 'discrimin', 'discrimmin', 'discuss', 'disdain', 'diseas', 'diseaseperiodont', 'disengag', 'disgrac', 'disgruntl', 'disguis', 'disgust', 'disgustoh', 'dish', 'dishevel', 'dishonest', 'dishonesti', 'dishplat', 'dishwash', 'disinfect', 'disintegr', 'disjoint', 'disk', 'dislik', 'disloc', 'dismal', 'dismay', 'dismiss', 'disney', 'disneyland', 'disord', 'disorgan', 'disori', 'disparag', 'dispatch', 'dispens', 'dispensari', 'dispers', 'display', 'displeas', 'dispon', 'dispos', 'disposit', 'disput', 'disregard', 'disrepair', 'disrespect', 'disrupt', 'diss', 'dissapoint', 'dissatisfi', 'dissect', 'disservic', 'disspoint', 'distain', 'distanc', 'distant', 'distast', 'distinct', 'distinctli', 'distinguish', 'distract', 'distraught', 'distress', 'distribut', 'distributo', 'district', 'distrito', 'disturb', 'dit', 'ditto', 'ditzi', 'divalisci', 'dive', 'divebar', 'diver', 'divers', 'diversifi', 'diverti', 'divey', 'divid', 'divin', 'divino', 'divis', 'dixon', 'diy', 'diyer', 'dizain', 'dizzi', 'dj', 'dlish', 'dmall', 'dmv', 'dnr', 'do', 'doabl', 'doanamaz', 'dobbi', 'doberman', 'doc', 'docg', 'dock', 'doctor', 'doctorpati', 'document', 'documentari', 'dodg', 'dodger', 'doesnt', 'dog', 'dogfish', 'doggi', 'doi', 'doit', 'dolar', 'dolc', 'dole', 'doll', 'dollar', 'dollop', 'dolmad', 'dolphin', 'dolsat', 'dolsot', 'dom', 'domain', 'domest', 'dominick', 'dominiert', 'domino', 'donald', 'donassort', 'donat', 'donc', 'done', 'doner', 'dong', 'doni', 'donkeyload', 'donna', 'donnez', 'donné', 'donor', 'donot', 'donotaccept', 'donotcar', 'donotdisappoint', 'donotknow', 'donotknowhow', 'donotknowwhat', 'donotknowwhi', 'donotmatt', 'donotmind', 'donotskimpon', 'donotwast', 'dont', 'dontcant', 'donut', 'donutspastri', 'doo', 'doodl', 'doogh', 'doohicki', 'doom', 'door', 'doorbel', 'doorman', 'doorway', 'doosey', 'dop', 'dope', 'dopey', 'dorado', 'dorito', 'dorm', 'dort', 'dorval', 'dosa', 'dose', 'dosnt', 'dot', 'dote', 'doubl', 'doublecheck', 'doublegross', 'doubletre', 'doublewid', 'doubt', 'douch', 'douchebag', 'douchebaggeri', 'douchey', 'doug', 'dough', 'doughbird', 'doughi', 'doughnut', 'dous', 'doux', 'douzain', 'dove', 'down', 'downblown', 'downer', 'downey', 'downfal', 'downhil', 'download', 'downright', 'downsid', 'downsiz', 'downstair', 'downtown', 'downtownphoenix', 'downward', 'dozen', 'dr', 'drab', 'drabbi', 'draft', 'draftbeer', 'drag', 'dragon', 'drain', 'drake', 'dram', 'dramat', 'drank', 'drape', 'drastic', 'draught', 'draussen', 'draußen', 'draw', 'drawback', 'drawer', 'drbakerink', 'drbonaci', 'dre', 'dread', 'dream', 'dreamcast', 'dreamscap', 'dreari', 'drei', 'drench', 'dress', 'dresser', 'dressler', 'drew', 'dreyer', 'drhous', 'dri', 'drier', 'drift', 'drill', 'driller', 'drink', 'drinkand', 'drinker', 'drinkinglotteri', 'drinksdesert', 'drinksdessert', 'drinksfood', 'drip', 'dripirrig', 'drivabl', 'drive', 'drivebi', 'drivepast', 'driver', 'drivethrough', 'drivethru', 'driveway', 'drizzl', 'drizzli', 'drmoretski', 'drnave', 'droit', 'drool', 'droop', 'drop', 'dropoff', 'dropout', 'dropper', 'drown', 'drug', 'drum', 'drummer', 'drummett', 'drunk', 'drunkard', 'drunken', 'drunkennoodl', 'drunkin', 'drunktard', 'drunkupstumblestonemarbl', 'dryer', 'drywal', 'drôlement', 'ds', 'dt', 'dtw', 'du', 'dual', 'dub', 'dubiou', 'duck', 'duckconfit', 'ducki', 'duct', 'dud', 'dude', 'dueto', 'dufferin', 'dufflet', 'duftig', 'duh', 'dui', 'duk', 'dukbogi', 'duke', 'dulc', 'duli', 'dull', 'duluth', 'dum', 'dumb', 'dummi', 'dump', 'dumpi', 'dumpl', 'dumpster', 'dun', 'duncan', 'dunda', 'dune', 'dungeon', 'dungeonmast', 'dunk', 'dunkin', 'dunkler', 'dunlap', 'dunno', 'duo', 'dupe', 'duper', 'duplic', 'duquesn', 'durango', 'durant', 'durat', 'durch', 'durchau', 'durchschnitt', 'durft', 'durham', 'durian', 'duringhappyhour', 'duringlunch', 'durn', 'dusk', 'dust', 'dusti', 'dustin', 'dutch', 'duti', 'dvd', 'dvdscdsetc', 'dvine', 'dvr', 'dwarf', 'dwell', 'dy', 'dye', 'dylan', 'dynam', 'dynamit', 'dysania', 'dysport', 'début', 'débuté', 'décevant', 'déconstruit', 'décor', 'décorat', 'découvert', 'découvrir', 'définitiv', 'déguster', 'déjà', 'délice', 'délicieus', 'délicieux', 'déposer', 'désaltérer', 'désirer', 'déçue', 'dîné', 'dönerfleisch', 'dû', 'dœuvr', 'e', 'e30', 'ea', 'eachoth', 'eachtim', 'eag', 'eager', 'eagerli', 'eagl', 'ear', 'earbud', 'earl', 'earli', 'earlier', 'earn', 'earnhardt', 'earni', 'earringsnecklac', 'earshot', 'earth', 'earthi', 'eas', 'easi', 'easier', 'easili', 'east', 'eastcoast', 'easter', 'eastern', 'eastlak', 'eastman', 'eastsid', 'eastvalley', 'eastwind', 'eastwood', 'easypark', 'easypeasi', 'eat', 'eatcom', 'eatdrink', 'eater', 'eateri', 'eateryit', 'eather', 'eatheretwic', 'eaton', 'eatten', 'eben', 'ebenfal', 'ebenso', 'ebi', 'ebt', 'ec', 'ecel', 'echelon', 'echh', 'echl', 'echo', 'echt', 'echter', 'eckel', 'eclair', 'eclect', 'eco', 'ecoli', 'ecommerc', 'econom', 'economi', 'económico', 'ect', 'ecuador', 'ed', 'edamam', 'edamm', 'edc', 'eddi', 'edg', 'edgar', 'edgewat', 'edgewood', 'edgi', 'edgier', 'edibl', 'edinburgh', 'edit', 'edm', 'eduardo', 'educ', 'edward', 'ee', 'eeeeyyyi', 'eeekk', 'eeg', 'eek', 'eel', 'eeri', 'eff', 'effect', 'effici', 'effort', 'effortlessli', 'effus', 'eficient', 'eg', 'egad', 'egal', 'egg', 'eggbenedict', 'eggdrop', 'eggdropsoup', 'eggi', 'eggnogrumchampagn', 'eggplant', 'eggrol', 'eggsbacon', 'eggshel', 'eggsmart', 'eggwhit', 'eggwich', 'eggwork', 'eglinton', 'ego', 'egyptian', 'eh', 'eher', 'ehh', 'ehhh', 'ehrlich', 'ei', 'eid', 'eigen', 'eigenem', 'eigentlich', 'ein', 'eindeutig', 'einem', 'einen', 'einer', 'einfach', 'einfachen', 'eingang', 'eingangshal', 'eingecheckt', 'eingerichtet', 'einkaufen', 'einlass', 'einmal', 'einrichtung', 'einstein', 'eintreten', 'eintritt', 'einwandfrei', 'einzigartigen', 'einzigen', 'eisbech', 'eisdiel', 'eitherway', 'eklig', 'ekmek', 'el', 'elabor', 'elbow', 'elderberri', 'elderli', 'electr', 'electrician', 'electrik', 'electron', 'electrostat', 'eleg', 'element', 'elementari', 'eleph', 'elev', 'elf', 'eli', 'elicit', 'elimin', 'eliot', 'elisa', 'elit', 'elizabeth', 'ellen', 'elli', 'elliot', 'ellipt', 'elm', 'elmwood', 'elop', 'elot', 'els', 'elus', 'elvi', 'em', 'ema', 'email', 'ematei', 'emballé', 'embark', 'embarras', 'embarrass', 'embarrassingli', 'embassi', 'embeard', 'embellish', 'embodi', 'embrac', 'embroid', 'embroideri', 'emcc', 'emce', 'emceehost', 'emerald', 'emerg', 'emeri', 'emeril', 'emili', 'emin', 'emm', 'emma', 'emmené', 'emoji', 'emot', 'emp', 'empanada', 'empfehl', 'empfehlen', 'empfehlenswert', 'emphas', 'emphasi', 'employ', 'employe', 'employeesmanagersown', 'empor', 'emport', 'empow', 'empoye', 'empti', 'emptor', 'empura', 'emul', 'emulsifi', 'en', 'enabl', 'enact', 'enamel', 'encapsul', 'encebollado', 'enchilada', 'enci', 'enclos', 'enclosur', 'encompass', 'encor', 'encount', 'encourag', 'end', 'endear', 'endeavor', 'endem', 'endless', 'endors', 'endroit', 'endup', 'endur', 'enemi', 'energ', 'energet', 'energi', 'enfant', 'enfin', 'enforc', 'engag', 'engin', 'england', 'english', 'englishirish', 'englishmuffin', 'engrav', 'enhanc', 'enjoy', 'enlevé', 'enlighten', 'enoki', 'enoodl', 'enorm', 'enoteca', 'enrobé', 'enrol', 'ensenada', 'ensur', 'entail', 'entdeckt', 'entendon', 'enter', 'enterpris', 'entertain', 'entfernt', 'entfernten', 'entgegenkaman', 'enthusiasm', 'enthusiast', 'enti', 'entic', 'entier', 'entir', 'entirelif', 'entiti', 'entièr', 'entr', 'entranc', 'entre', 'entrecôteribey', 'entri', 'entrust', 'entrywayhallway', 'entré', 'enttäuscht', 'entwin', 'enunci', 'envelop', 'enver', 'envi', 'environ', 'envis', 'enyaesqu', 'eo', 'eor9ufpseej5igk8r4gwcwusg', 'epic', 'epicentr', 'epicurean', 'epiphani', 'episod', 'epitom', 'epoch', 'equal', 'equalless', 'equat', 'equip', 'equival', 'er', 'era', 'erachten', 'erafhrung', 'erdnusssoß', 'ergebni', 'ergonom', 'ergänzung', 'erheblich', 'eri', 'eric', 'erica', 'erik', 'erika', 'erin', 'erlebt', 'ernest', 'erni', 'errand', 'erreichen', 'error', 'erst', 'erstaunlich', 'erstbestellt', 'ersten', 'erster', 'erupt', 'eröffnet', 'es', 'esca', 'escal', 'escap', 'escapad', 'escargot', 'eschew', 'escimo', 'escobar', 'escolar', 'escort', 'esl', 'esophagu', 'esp', 'espa', 'español', 'especi', 'especiallydur', 'especiallysinc', 'esplanad', 'espn', 'espresso', 'esqu', 'essay', 'essen', 'essenc', 'essenti', 'essi', 'est', 'establish', 'estat', 'este', 'esteem', 'esthet', 'estim', 'et', 'etai', 'etc', 'etch', 'etern', 'ethan', 'ethel', 'ether', 'ethernet', 'ethic', 'ethiopian', 'ethnic', 'etiquett', 'etl', 'etlich', 'etobicok', 'etsi', 'etwa', 'eu', 'eucalyptu', 'euchr', 'euclid', 'euphoria', 'eur', 'euro', 'europ', 'european', 'européenn', 'eurostund', 'ev', 'eva', 'eval', 'evalu', 'eve', 'even', 'evenboth', 'evenli', 'event', 'eventco', 'eventho', 'eventhough', 'eventu', 'ever', 'evergreen', 'everybit', 'everybodi', 'everyday', 'everyoneels', 'everypenni', 'everysingl', 'everysingletim', 'everyt', 'everythingels', 'everytim', 'everyweek', 'eveyon', 'evid', 'evil', 'evod', 'evok', 'evolv', 'evoo', 'evryth', 'evtl', 'ew', 'ewe', 'ex', 'exact', 'exactingli', 'exactli', 'exactlywhat', 'exagger', 'exam', 'examin', 'exampl', 'exasper', 'excalibur', 'exceed', 'exceedingli', 'excel', 'excelent', 'excellent', 'excellentjob', 'excempt', 'except', 'exceptionalcustomerservic', 'excers', 'excess', 'exchang', 'excit', 'excitedli', 'exclaim', 'exclud', 'exclus', 'excruci', 'excruciatingli', 'excurs', 'excus', 'execut', 'exemplari', 'exercis', 'exfoli', 'exhaust', 'exhibit', 'exist', 'exit', 'exorbit', 'exot', 'expain', 'expand', 'expans', 'expat', 'expect', 'expedia', 'expedit', 'expediti', 'expens', 'experi', 'experienc', 'experienceexpertis', 'experiment', 'expert', 'expertis', 'expertli', 'expir', 'explain', 'explaineveryth', 'explainhow', 'explan', 'explanatori', 'explicit', 'explicitli', 'explod', 'explor', 'explos', 'expo', 'exponentiel', 'expos', 'exposur', 'express', 'expresso', 'expérienc', 'exquisit', 'ext', 'extem', 'extend', 'extens', 'extent', 'exterior', 'extermin', 'extra', 'extracharg', 'extract', 'extraordinari', 'extravag', 'extrawünsch', 'extreamli', 'extrem', 'extremelyfriendli', 'extremelyrud', 'extremem', 'extrêmement', 'exud', 'exxon', 'exécuté', 'eyc', 'eye', 'eyebal', 'eyebrow', 'eyelash', 'eyewear', 'ez', 'ezlinkscom', 'ezo', 'f', 'f5', 'fa', 'faa', 'faaaaar', 'fab', 'fabarnak', 'fabio', 'fabric', 'fabul', 'fabulous', 'facad', 'face', 'facebook', 'facelift', 'facial', 'facil', 'fact', 'factor', 'factori', 'factthat', 'factur', 'fade', 'faf', 'fai', 'fail', 'failur', 'failx10', 'faint', 'fair', 'fairen', 'fairfield', 'fairi', 'fairli', 'fairlyquickli', 'fairmount', 'fairpric', 'fairway', 'faisait', 'faisant', 'fait', 'faith', 'faithworksautocom', 'fajita', 'fake', 'falafel', 'falaffel', 'falafn', 'fall', 'fallapart', 'fallasleep', 'fallic', 'fallingwat', 'fallinto', 'falloff', 'fals', 'falsehood', 'fam', 'fame', 'fameux', 'famili', 'familiar', 'familiarwith', 'familymemb', 'familyown', 'famoso', 'famou', 'fan', 'fanat', 'fanci', 'fanco', 'fand', 'fanden', 'fandom', 'fanni', 'fanof', 'fantabul', 'fantasi', 'fantasma', 'fantast', 'fantastickind', 'far', 'fara', 'farah', 'faraway', 'fare', 'farewel', 'farfrom', 'fargo', 'farm', 'farmer', 'farsuperior', 'farther', 'fascin', 'fashion', 'fashionista', 'fast', 'faster', 'fastfood', 'fastforward', 'fastidi', 'faszinierend', 'fat', 'fatburg', 'fate', 'father', 'fatigu', 'fatten', 'fatti', 'fattier', 'faucet', 'fault', 'faulti', 'faut', 'faux', 'fav', 'fave', 'favor', 'favori', 'favorit', 'favorito', 'favoritt', 'favour', 'favourit', 'fawn', 'fax', 'fazit', 'façad', 'fb', 'fck', 'fe', 'fear', 'fearlessli', 'feast', 'feat', 'feather', 'featur', 'feb', 'februari', 'fed', 'feder', 'fee', 'feed', 'feedback', 'feei', 'feel', 'feelcomfort', 'feelin', 'feellik', 'feelrush', 'feelwelcom', 'feet', 'fehlt', 'feierabend', 'feiertagen', 'fella', 'fellow', 'fellowyelp', 'felt', 'femal', 'feminin', 'femur', 'fenc', 'fencebord', 'fender', 'fenderlin', 'fennel', 'fenêtr', 'fera', 'ferai', 'ferengi', 'ferment', 'fernseh', 'feroci', 'ferrari', 'ferrero', 'ferri', 'fertig', 'fervent', 'fess', 'fest', 'festiv', 'festiva', 'feta', 'fetch', 'fete', 'fetoosh', 'fettuccin', 'fetu', 'fever', 'fewbit', 'fewminut', 'fewmonth', 'fewmonthago', 'fewtim', 'fewweek', 'fewweekago', 'fewyear', 'fewyearago', 'fez', 'ffl', 'ffw', 'fg', 'fi', 'fiamma', 'fianc', 'fiance', 'fiancé', 'fiasco', 'fibromyalgiachron', 'fiction', 'fidel', 'fidget', 'field', 'fierc', 'fieri', 'fiesta', 'fife', 'fifteenminut', 'fifth', 'fight', 'fighter', 'figur', 'figureout', 'figureoutwhat', 'fil', 'file', 'filer', 'filet', 'filetmignon', 'fili', 'filiberto', 'filipino', 'filipinoasian', 'fill', 'fillaseat', 'filler', 'fillet', 'filli', 'fillup', 'film', 'filter', 'filthi', 'fin', 'final', 'financ', 'financi', 'finch', 'find', 'finden', 'findet', 'findingsresult', 'findlay', 'fine', 'finedin', 'finger', 'fingerl', 'fingernail', 'fingerscross', 'fingersstrip', 'fingertip', 'fini', 'finir', 'finish', 'finnish', 'fino', 'fio', 'fior', 'fiori', 'fir', 'fire', 'firearm', 'firebal', 'firecrack', 'firepit', 'fireplac', 'fireston', 'firestonecom', 'firework', 'firm', 'firstbit', 'firstimpress', 'firstli', 'firstoff', 'firsttim', 'firstvisit', 'fischgerichten', 'fish', 'fishcak', 'fisherman', 'fishhous', 'fishi', 'fishmong', 'fishnet', 'fishopen', 'fishtaco', 'fit', 'fitnessspa', 'fitnessspxpil', 'five50', 'fiveminut', 'fivestar', 'fix', 'fixabl', 'fixin', 'fixler', 'fixtur', 'fiyaaaaah', 'fiyah', 'fizz', 'fizzl', 'fk', 'fking', 'fl', 'flabergasté', 'flaccid', 'flaco', 'flag', 'flagdown', 'flagship', 'flair', 'flake', 'flakey', 'flaki', 'flame', 'flamenco', 'flamingo', 'flan', 'flander', 'flank', 'flap', 'flapper', 'flare', 'flash', 'flashback', 'flashi', 'flat', 'flatbread', 'flatscreen', 'flatter', 'flattop', 'flavor', 'flavordepth', 'flavorless', 'flavour', 'flavourless', 'flaw', 'flawless', 'flawlessli', 'flax', 'flay', 'flea', 'fleck', 'fledg', 'flee', 'fleet', 'fleischqualität', 'flem', 'fleme', 'flemish', 'flesh', 'fleur', 'fleuv', 'flexibl', 'fli', 'flick', 'flicker', 'flier', 'flight', 'flimsi', 'flinch', 'flintston', 'flip', 'flippin', 'flirt', 'flitter', 'float', 'flock', 'flockig', 'flocon', 'flood', 'floor', 'flop', 'floppi', 'floral', 'flore', 'florenc', 'florentin', 'floret', 'florida', 'florist', 'floss', 'flotat', 'flott', 'flounder', 'flour', 'flourless', 'flow', 'flower', 'floweri', 'flu', 'fluctuat', 'fluenci', 'fluent', 'fluff', 'fluffi', 'flughafen', 'fluid', 'fluke', 'fluorid', 'fluster', 'flyer', 'fn', 'fnb', 'fni', 'fo', 'foam', 'focaccia', 'focacia', 'foccacia', 'focu', 'focus', 'focuson', 'fog', 'fogo', 'foi', 'foie', 'foiegra', 'foiiiii', 'foil', 'fold', 'folder', 'folk', 'follow', 'followbi', 'followup', 'fond', 'fondant', 'fondli', 'fondu', 'fone', 'font', 'fontin', 'food', 'foodatmospher', 'fooddrink', 'foodi', 'foodora', 'foodpric', 'foodrunn', 'fool', 'foolish', 'foot', 'footag', 'footbal', 'footballgam', 'footi', 'footwear', 'foray', 'forb', 'forbidden', 'forc', 'ford', 'forearm', 'forebod', 'foreeeevvverrrr', 'forefath', 'forehead', 'foreign', 'forel', 'foremost', 'forese', 'forest', 'forev', 'forewarn', 'forexampl', 'forget', 'forgett', 'forgiv', 'forgo', 'forgot', 'fork', 'form', 'forma', 'formal', 'formalcasu', 'format', 'formica', 'formid', 'formula', 'forno', 'forrest', 'forsur', 'fort', 'forth', 'forthcom', 'fortifi', 'fortun', 'forum', 'forward', 'foster', 'foul', 'found', 'foundat', 'founder', 'fountain', 'fourchett', 'fourré', 'fourstar', 'fourteen', 'fourth', 'fourthli', 'fowl', 'fox', 'fox8com', 'foxi', 'foyer', 'fphrerschein', 'frack', 'fraction', 'fractur', 'fradiavolo', 'fragen', 'fragrant', 'frai', 'fraich', 'frais', 'frambois', 'frame', 'franc', 'francai', 'franchasis', 'franchis', 'franci', 'francisco', 'frango', 'frank', 'frankenstein', 'franki', 'frankli', 'frankll', 'franni', 'françai', 'frap', 'frapp', 'frappent', 'frappé', 'fraser', 'frat', 'fraud', 'fraudul', 'frauen', 'fray', 'frazzl', 'fraîch', 'freak', 'freakin', 'fred', 'freddi', 'free', 'freebi', 'freekeh', 'freelanc', 'freeli', 'freeload', 'freeorgan', 'freepark', 'freerang', 'freestyl', 'freeway', 'freewifi', 'freez', 'freezer', 'frei', 'freind', 'freindli', 'freitag', 'fremont', 'french', 'frenchdip', 'frenchfri', 'frenchi', 'frenchman', 'frenchonion', 'frenchonionsoup', 'frenchtoast', 'freon', 'frequent', 'fresca', 'fresco', 'fresh', 'freshen', 'fresher', 'freshingredi', 'freshish', 'freshli', 'freshtast', 'freshwat', 'freundlich', 'fri', 'fricasse', 'frick', 'friction', 'friday', 'fridayafternoon', 'fridaynight', 'fridaysaturday', 'fridg', 'friedchicken', 'friend', 'friendhusbandcarpool', 'friendli', 'friendlist', 'friendly', 'friendlygood', 'friendlystaff', 'friendsfamilysomeon', 'friendship', 'friendwho', 'frig', 'friggin', 'frighten', 'frigid', 'frigin', 'frigo', 'frill', 'frilli', 'fring', 'frisch', 'frisco', 'frise', 'frit', 'frite', 'frittata', 'fritter', 'fritz', 'frizz', 'fro', 'frog', 'frolic', 'fromag', 'fromagin', 'fromhawaii', 'fromscratch', 'frontag', 'frontdesk', 'frontdeskstaff', 'frontdoor', 'frontman', 'frost', 'frostbit', 'frown', 'froyo', 'frozeharden', 'frozen', 'frozenyogurt', 'fru', 'fructos', 'fruit', 'fruiti', 'fruition', 'fruitless', 'fruitveg', 'fruitychocolatymilkyboba', 'fruityflor', 'frustrat', 'frustratingli', 'frutti', 'fruz', 'frybread', 'frychicken', 'fryer', 'frypickl', 'fryric', 'frysteak', 'fréquent', 'früher', 'frühstück', 'frühstücken', 'frühstücksbüffet', 'ft', 'ftc', 'fuck', 'fucker', 'fuddruck', 'fudg', 'fuel', 'fuer', 'fugg', 'fugli', 'fujian', 'fuku', 'fulfil', 'fulli', 'fullll', 'fumari', 'fumoir', 'fumé', 'fun', 'function', 'fund', 'funday', 'fundido', 'fundrais', 'funer', 'fungu', 'funk', 'funki', 'funko', 'funkyedgi', 'funn', 'funni', 'funniest', 'funvib', 'fuq', 'fur', 'furbabi', 'furiou', 'furnitur', 'furri', 'furthermor', 'furthest', 'fusetv', 'fusion', 'fuss', 'fut', 'futbol', 'futon', 'futur', 'fuzzi', 'fuzzili', 'fuži', 'fwiw', 'fyi', 'fällen', 'fèv', 'féru', 'fête', 'förmlich', 'fût', 'für', 'fürein', 'füßen', 'g', 'g2', 'g37', 'g53449d6106981r358008828tenpenni', 'ga', 'gabbi', 'gabe', 'gabesoto006', 'gabi', 'gabriel', 'gad', 'gade', 'gadget', 'gadgetri', 'gag', 'gagnant', 'gai', 'gaia', 'gain', 'gal', 'galaxi', 'galbi', 'galett', 'galileo', 'galleri', 'galleria', 'galliano', 'gallo', 'gallon', 'galor', 'galvan', 'gambl', 'game', 'gameday', 'gamer', 'gamesif', 'gamey', 'gammag', 'ganach', 'ganesha', 'gang', 'ganja', 'ganoush', 'ganz', 'ganzen', 'ganzer', 'gao', 'gap', 'gar', 'garag', 'garagedoor', 'garageg', 'garanti', 'garbag', 'garcia', 'gardein', 'garden', 'gardner', 'garlic', 'garlicbread', 'garlicchees', 'garlicki', 'garlicknot', 'garlicsauc', 'garner', 'garni', 'garnish', 'garnitur', 'garret', 'garron', 'gasket', 'gasp', 'gasstat', 'gastonia', 'gastro', 'gastroloung', 'gastronomi', 'gate', 'gategarag', 'gateway', 'gather', 'gatheringdinn', 'gaucho', 'gaufr', 'gaug', 'gauz', 'gave', 'gawd', 'gawk', 'gay', 'gaze', 'gazebo', 'gazett', 'gazettecompg113481196759', 'gazonga', 'gazpacho', 'gb', 'gday', 'gear', 'geat', 'gebastelt', 'geben', 'geburtstunden', 'gecko', 'ged', 'gedanken', 'gediegen', 'geduld', 'gee', 'geeignet', 'geek', 'geez', 'gefunden', 'gefüllt', 'gegen', 'gegessen', 'gehen', 'geht', 'gehören', 'gehört', 'gekocht', 'gel', 'gelatin', 'gelato', 'gelatto', 'gelaufen', 'gelegen', 'gellato', 'gelmanicur', 'gelpolish', 'gelungen', 'geländ', 'gem', 'gemeint', 'gemtim', 'gemüs', 'gen', 'genau', 'gender', 'gene', 'gener', 'generalmanag', 'generos', 'generousamount', 'generousport', 'genesi', 'genet', 'geneviev', 'genial', 'geniu', 'genomman', 'genr', 'gent', 'gentil', 'gentl', 'gentleman', 'gentlemanli', 'gentlemanwho', 'gentlemen', 'gentli', 'gentrifi', 'genuin', 'genuinli', 'geograph', 'georg', 'georgetown', 'georgi', 'georgia', 'geparkt', 'geppetto', 'ger', 'gerad', 'gerald', 'geraldin', 'gerber', 'gerecht', 'gericht', 'germ', 'german', 'germani', 'germaphob', 'gern', 'gerrard', 'gerätschaften', 'gesagt', 'geschafft', 'geschirrspül', 'geschlagen', 'geschmacklich', 'geschmackvol', 'geschmeckt', 'geschnitten', 'geschäftsessen', 'gesetzten', 'gespielt', 'gestellt', 'gestellten', 'gestern', 'gestur', 'gesund', 'getaway', 'getridof', 'getränk', 'getränkebestellungen', 'getränken', 'gettabl', 'gettibg', 'gettin', 'getto', 'gewechselt', 'gewesen', 'gewinn', 'gewürzt', 'gezogen', 'gf', 'ggf', 'ghandi', 'ghanoush', 'ghee', 'ghengi', 'ghetto', 'ghosht', 'ghost', 'ghostli', 'ghoulish', 'gi', 'giacana', 'giada', 'gian', 'giant', 'giantsfan', 'gibberish', 'gibson', 'gibt', 'giddi', 'gift', 'giftcard', 'giftshop', 'giftsidea', 'gig', 'gigant', 'giggl', 'gilbert', 'gilcreas', 'gilead', 'gill', 'gilt', 'gimm', 'gimmick', 'gimmicki', 'gin', 'gina', 'ginger', 'gingerbread', 'ginorm', 'ginton', 'gio', 'giodarno', 'giorgio', 'girl', 'girlfriend', 'gitana', 'giveaway', 'gizzard', 'giò', 'glace', 'glad', 'gladli', 'gladston', 'glam', 'glamor', 'glamour', 'glanc', 'gland', 'glare', 'glasgow', 'glass', 'glasswar', 'glaze', 'glee', 'glendal', 'glide', 'glimmer', 'glimps', 'glitch', 'glitter', 'glitz', 'glo', 'gloat', 'global', 'globalist', 'gloomi', 'glori', 'glorifi', 'gloriou', 'gloss', 'glove', 'glow', 'glucos', 'glue', 'glum', 'glutamatfrei', 'gluten', 'glutenfre', 'glutten', 'glutton', 'gluttoni', 'gläschen', 'gläser', 'glück', 'glücklich', 'gm', 'gmc', 'gnocchi', 'go', 'goabov', 'goahead', 'goal', 'goanywhereels', 'goat', 'goatchees', 'goback', 'goblet', 'gochujang', 'god', 'goddammit', 'goddamn', 'goddess', 'gode', 'godevil', 'godfath', 'godiva', 'godli', 'godsend', 'goer', 'goggl', 'gogh', 'gohst', 'goi', 'gold', 'golden', 'goldfish', 'goldi', 'golf', 'golfer', 'golli', 'goncha', 'gondola', 'goo', 'gooaaaaallll', 'good', 'goodauthent', 'goodaverag', 'goodbadindiffer', 'goodby', 'goodclass', 'goodhandi', 'goodi', 'goodlif', 'goodluck', 'goodsasemi', 'goodthan', 'goodwil', 'goodyear', 'gooey', 'goofbal', 'goofi', 'googl', 'gooood', 'gooooood', 'goos', 'gopro', 'gordita', 'gordo', 'gordon', 'gorgeou', 'gorgonzola', 'gorillaz', 'gosh', 'gosomewher', 'gosomewhereels', 'gossip', 'got', 'gothrough', 'goto', 'gotya', 'gouda', 'gough', 'gourd', 'gourmand', 'gourmet', 'gout', 'govern', 'gow', 'gown', 'gowrong', 'gowrongwith', 'goyisha', 'goût', 'goûté', 'gp', 'gr', 'gra', 'grab', 'grabber', 'grace', 'graceperiod', 'graciou', 'gracious', 'grad', 'grade', 'grader', 'gradi', 'gradual', 'graduat', 'graffiti', 'graham', 'grail', 'grain', 'graini', 'gram', 'grammi', 'grana', 'grand', 'grandad', 'grandio', 'grandma', 'grandmoth', 'grandopen', 'grandpa', 'grandpar', 'granit', 'granité', 'granni', 'granola', 'grant', 'grape', 'grapefruit', 'grass', 'grasshopp', 'grassi', 'grassland', 'grate', 'grati', 'gratin', 'gratitud', 'gratuiti', 'gratul', 'grauenhaft', 'grave', 'graveyard', 'gravi', 'graviti', 'gray', 'graze', 'greas', 'greasi', 'great', 'greatchicken', 'greatjob', 'greatli', 'greatsimpl', 'grec', 'greec', 'greed', 'greedi', 'greek', 'green', 'greenbean', 'greenberg', 'greencurri', 'greeneri', 'greenest', 'greenfield', 'greenfor', 'greenland', 'greenonion', 'greensburg', 'greenspan', 'greentea', 'greenway', 'greet', 'greetbi', 'greeter', 'greg', 'grenadin', 'gretzki', 'grey', 'greygreen', 'greyhound', 'greystar', 'griddl', 'grief', 'grigio', 'grill', 'grillchees', 'grillchicken', 'grillisland', 'grillé', 'grimac', 'grimaldi', 'grin', 'grind', 'grinder', 'grindz', 'gringa', 'gringo', 'grip', 'gripe', 'grissl', 'gristl', 'grit', 'gritti', 'grnd', 'groan', 'grob', 'grocer', 'groceri', 'grocerystor', 'groom', 'groomer', 'groov', 'groovi', 'gross', 'grossman', 'grotto', 'grouchi', 'ground', 'groundskeep', 'grouo', 'group', 'grouper', 'groupfamili', 'groupof', 'groupon', 'grouponfor', 'grout', 'grove', 'grover', 'grow', 'growl', 'growler', 'grown', 'grownup', 'growup', 'große', 'großem', 'großen', 'großer', 'grrr', 'grrrrrooooaaaannnn', 'grrrrrrrrrr', 'grt', 'grub', 'grudg', 'gruel', 'grumpi', 'grung', 'grunt', 'grupp', 'gruppen', 'gruyer', 'grâce', 'grösste', 'größer', 'größere', 'größten', 'größter', 'gs', 'gt', 'gta', 'gto', 'guac', 'guacamol', 'guadalup', 'guarante', 'guard', 'guardian', 'guava', 'gucci', 'guerin', 'guess', 'guesstim', 'guesswhat', 'guest', 'guestlist', 'gui', 'guid', 'guidanc', 'guidelin', 'guidlin', 'guilt', 'guilti', 'guin', 'guinea', 'guiness', 'guis', 'guitar', 'guitarist', 'guliti', 'gulsen', 'gulzeth', 'gum', 'gumbal', 'gumbo', 'gummi', 'gump', 'gun', 'gunard', 'gung', 'gurken', 'gurkenkaltschal', 'gush', 'gust', 'gusta', 'gustavo', 'gusto', 'gut', 'gute', 'guten', 'guthri', 'gutscheinbuch', 'gutscheinen', 'gutter', 'guy', 'guysgal', 'guywho', 'guzzler', 'gvr', 'gwen', 'gym', 'gymnast', 'gynecolog', 'gynecologist', 'gyoku', 'gyotaku', 'gyoza', 'gyp', 'gypsi', 'gyro', 'gyu', 'gyudon', 'gyugyuya', 'gâteau', 'gästen', 'génial', 'générale', 'généralement', 'généreu', 'généreus', 'généreux', 'günstig', 'günstiger', 'h', 'h2o', 'ha', 'haa', 'habachisushi', 'habana', 'habanero', 'habbit', 'habe', 'haben', 'haberno', 'habit', 'habitat', 'habitu', 'habitué', 'habla', 'hachi', 'hack', 'haddock', 'hade', 'haemul', 'hafta', 'haggen', 'haggi', 'hah', 'haha', 'hahaha', 'hainan', 'hair', 'haircut', 'hairdress', 'hairi', 'hairlin', 'hairremov', 'hairsalon', 'hairspray', 'hairstylist', 'hakka', 'hakkasan', 'hakkassan', 'halal', 'halau', 'halb', 'half', 'halfanhour', 'halfdozen', 'halfhour', 'halftim', 'halfway', 'halibut', 'hall', 'hallelujah', 'hallmark', 'hallo', 'halloween', 'hallway', 'halo', 'haloumi', 'ham', 'hamachi', 'hamburg', 'hamentashen', 'hamlet', 'hammer', 'hampton', 'hand', 'handbag', 'handcraft', 'handcut', 'handdown', 'handedli', 'handelt', 'handi', 'handicap', 'handili', 'handl', 'handmad', 'handpick', 'handrol', 'handshak', 'handsom', 'handtücher', 'handwritten', 'handyman', 'hang', 'hanger', 'hangin', 'hangout', 'hangov', 'hangri', 'hangup', 'hangupon', 'hanker', 'hanley', 'hanlon', 'hansel', 'hapa', 'happen', 'happi', 'happig', 'happigen', 'happili', 'happyhour', 'happymess', 'har', 'harass', 'harbor', 'harbourfront', 'hard', 'hardcar', 'hardcor', 'hardearn', 'harden', 'harder', 'hardest', 'hardi', 'hardli', 'hardrock', 'hardwar', 'hardwood', 'hardwork', 'harken', 'harkin', 'harley', 'harm', 'harmon', 'harmoni', 'harold', 'harrah', 'harrass', 'harri', 'harrisburg', 'harsh', 'harter', 'harvest', 'harvey', 'harwick', 'hash', 'hashbrown', 'hasher', 'hashtag', 'hassl', 'hassleinconveni', 'hast', 'hat', 'hatch', 'hate', 'hater', 'hatt', 'hatten', 'hau', 'hauck', 'haul', 'hauler', 'haunt', 'hauseigenen', 'haut', 'hauteur', 'havana', 'havasu', 'havehad', 'havenoidea', 'havent', 'havoc', 'havr', 'haw', 'hawaii', 'hawaiian', 'hawaiianscom', 'hawk', 'hawker', 'hayden', 'haymak', 'hazard', 'haze', 'hazel', 'hazelnut', 'hazelton', 'hcg', 'hd', 'head', 'headach', 'headcount', 'headi', 'headlight', 'headlin', 'headphon', 'headquart', 'headwind', 'heal', 'healer', 'health', 'healthcar', 'healthi', 'healthiest', 'heap', 'hear', 'hearabout', 'heard', 'heart', 'heartach', 'heartbeat', 'heartbreak', 'heartbroken', 'heartfelt', 'hearti', 'heartili', 'heartless', 'heartwarm', 'heat', 'heatedenclo', 'heater', 'heaven', 'heavenli', 'heavi', 'heavier', 'heavili', 'heavyset', 'hebraic', 'heck', 'hecka', 'hectic', 'hector', 'hedgehog', 'heed', 'heeeeeeell', 'heel', 'heeney', 'hefe', 'hefti', 'heh', 'hehe', 'heheheh', 'hehheheh', 'heidi', 'heifer', 'height', 'heillo', 'heineken', 'heinen', 'heinz', 'heirloom', 'heist', 'heistat', 'heiß', 'heißgetränk', 'helen', 'helicopt', 'helix', 'hell', 'hella', 'hellisteri', 'hello', 'helmet', 'help', 'helper', 'helpless', 'hem', 'hemingway', 'hemp', 'hen', 'henderson', 'hendrick', 'henri', 'her', 'herb', 'herbac', 'herbal', 'herberg', 'herbert', 'herbi', 'herbsveggi', 'herd', 'heresay', 'hereseveraltim', 'heretwic', 'herew', 'heritag', 'herm', 'hermion', 'hermosa', 'herniat', 'hernur', 'hero', 'heroin', 'heron', 'herum', 'hervorragend', 'hervorragendem', 'herzstück', 'hesh', 'hesit', 'hesitantli', 'hesitatingli', 'het', 'heuss', 'hewat', 'hey', 'heyyy', 'heyyyyyyyyyyyi', 'hgtv', 'hh', 'hhelllow', 'hi', 'hibachi', 'hibachiteppan', 'hibatchi', 'hibiscu', 'hic', 'hiccup', 'hickori', 'hidden', 'hiddengem', 'hide', 'hier', 'hifi', 'high', 'highchair', 'highend', 'higher', 'highest', 'highexpect', 'highland', 'highlevel', 'highli', 'highlight', 'highlin', 'highlyenough', 'highlyrecommend', 'highlysuggest', 'highqual', 'highrat', 'highschool', 'highstandard', 'highthan', 'highway', 'hike', 'hilari', 'hill', 'hillston', 'hilton', 'hime', 'hin', 'hinau', 'hinder', 'hindsight', 'hine', 'hingehen', 'hinsid', 'hint', 'hinten', 'hintof', 'hinziehen', 'hip', 'hiphop', 'hipper', 'hippi', 'hipster', 'hira', 'hire', 'hirsch', 'hisher', 'hispan', 'histor', 'histori', 'hit', 'hitachino', 'hitch', 'hitchhik', 'hive', 'hk', 'hlb', 'hlk', 'hm', 'hmm', 'hmmm', 'hmmmm', 'ho', 'hoa', 'hoagi', 'hob', 'hobak', 'hobbi', 'hobo', 'hoboken', 'hochelaga', 'hochzeitskapellen', 'hockey', 'hodgepodg', 'hoe', 'hof', 'hofbrauhau', 'hog', 'hogan', 'hoggi', 'hoisin', 'hokkaido', 'hola', 'hold', 'holder', 'hole', 'holein', 'holi', 'holiday', 'holist', 'holland', 'hollandais', 'holler', 'holli', 'hollow', 'hollywood', 'hologramm', 'holster', 'holycrap', 'holzofen', 'home', 'homead', 'homebuy', 'homecom', 'homeless', 'homemad', 'homemadeloc', 'homeown', 'homer', 'homesick', 'homestyl', 'hometown', 'homework', 'homey', 'homoerot', 'homogen', 'hon', 'honda', 'hone', 'honest', 'honesti', 'honestli', 'honey', 'honeydew', 'honeygarl', 'honeywalnut', 'hongkong', 'honigman', 'honnêt', 'honnêtement', 'honolulu', 'honor', 'honour', 'hoo', 'hood', 'hoodi', 'hoodlum', 'hoof', 'hook', 'hookah', 'hooow', 'hoop', 'hoorah', 'hooray', 'hooter', 'hoover', 'hop', 'hopdoddi', 'hope', 'hoppi', 'hoppin', 'hoppy', 'hor', 'horchata', 'horizon', 'horizont', 'hormon', 'horn', 'hornemazda', 'horrend', 'horribl', 'horrid', 'horrif', 'horrifi', 'horrifyingli', 'horror', 'hors', 'horseradish', 'horseshit', 'horton', 'hose', 'hospic', 'hospit', 'hoss', 'host', 'hostag', 'hostel', 'hostess', 'hostesswaitress', 'hostil', 'hostwaitress', 'hot', 'hotchocol', 'hotcold', 'hotdog', 'hotel', 'hotelausstattung', 'hotelcasino', 'hotelmotel', 'hotelscom', 'hotlist', 'hotpot', 'hotsauc', 'hotspot', 'hottoo', 'hottub', 'hotw', 'hotwir', 'hough', 'hound', 'hour', 'hourlat', 'hourli', 'hourno', 'hoursmi', 'hous', 'household', 'housekeep', 'housemad', 'housewar', 'houston', 'hover', 'howard', 'howi', 'howmuch', 'hr', 'hrc', 'hsmcore', 'ht', 'hto', 'http3a2f2fenwikipediaorg2fwiki2fmonsmegei', 'http3a2f2fenwikipediaorg2fwiki2fneuschwansteincastleei', 'http3a2f2fenwikipediaorg2fwiki2froyaledinburghmilitarytattooei', 'http3a2f2fwwwedinburgh', 'http3a2f2fwwwroy', 'https3a2f2fenwikipediaorg2fwiki2fjabbathehuttei', 'httpsenwikipediaorgwikicrownjewelsoftheunitedkingdom', 'httpsevenmagicmountainscom', 'httpsmyoutubecomwatchv', 'httpswwwfacebookcombjsrestaur', 'httpswwwtripadvisorcomshowuserreview', 'httpswwwyoutubecomwatchv', 'httpwwwapartmentratingscomratepa', 'httpwwwdieuducielcomenlodgingphp', 'httpwwwgooglecomurlsa', 'httpwwwhokkaidoseafoodcomlocationshtml', 'httpwwwichotelsgroupcom', 'httpwwwlasvegassuncomblogskat', 'httpwwwpost', 'httpwwwsmartlocalshopperscomstoreviewpromotions1055', 'httpwwwteakwoodstaverncom', 'httpwwwyelpcabizmus', 'httpwwwyelpcombizmexico', 'httpwwwyelpcombizphotos808hawaii', 'httpwwwyelpcombizpok', 'hub', 'hubbi', 'hubbl', 'hubert', 'hudson', 'huebner', 'huevo', 'huey', 'huff', 'hug', 'huge', 'hugedisappoint', 'hugefan', 'hugefanof', 'hugeselect', 'hugest', 'hugh', 'hugo', 'huh', 'huicho', 'huil', 'hula', 'hum', 'human', 'humber', 'humbl', 'humbug', 'humid', 'humidor', 'humili', 'humm', 'hummingbird', 'hummu', 'humong', 'humor', 'humou', 'humour', 'humu', 'humve', 'hunan', 'hund', 'hungarian', 'hunger', 'hungov', 'hungri', 'hunk', 'hunni', 'hunt', 'huntington', 'hurl', 'hurri', 'hurrican', 'hurt', 'husband', 'hush', 'hushpuppi', 'husk', 'huski', 'hustl', 'hut', 'hutt', 'huîtr', 'hvac', 'hwaro', 'hwedup', 'hwi', 'hwy7warden', 'hyatt', 'hybrid', 'hyderabad', 'hydrat', 'hydrotherapi', 'hyena', 'hygenist', 'hyggelig', 'hygien', 'hygienist', 'hype', 'hypnotist', 'hypocrisi', 'hyster', 'hysterectomi', 'hyundai', 'hyve', 'hähnchen', 'hälfte', 'hätte', 'héla', 'hésiter', 'höchst', 'höchstem', 'höchsten', 'i15', 'i17', 'i2pa', 'i71', 'i77', 'iamsmash', 'ian', 'ibc', 'iblowdri', 'ice', 'iceberg', 'icecoffe', 'icecream', 'icecustard', 'icedtea', 'icetea', 'ich', 'ici', 'icicl', 'icjuk', 'ick', 'icloud', 'icon', 'id', 'ide', 'idea', 'ideal', 'ident', 'identif', 'identifi', 'idgaf', 'idiot', 'idk', 'idol', 'ie', 'iem', 'iffi', 'ifwhen', 'ig', 'ignit', 'ignor', 'ihop', 'ihr', 'ihrem', 'ii', 'iii', 'ikano', 'ikind', 'ikura', 'il', 'iliopsoa', 'ilk', 'ill', 'illeg', 'illi', 'illini', 'illinoi', 'illprob', 'illumilatt', 'illumin', 'illuminati', 'illus', 'illustr', 'im', 'imag', 'imagin', 'imbal', 'imbib', 'imho', 'imit', 'immacul', 'immatur', 'immedi', 'immens', 'immer', 'immergé', 'immers', 'immigr', 'immun', 'imo', 'impact', 'impala', 'impass', 'impati', 'impecc', 'imped', 'imper', 'imperfect', 'imperfectionsinsecuriti', 'imperi', 'imperson', 'implant', 'implement', 'impli', 'implicitli', 'implor', 'impolit', 'import', 'importé', 'imposant', 'imposs', 'impress', 'impressedbi', 'impressedwith', 'impromptu', 'improp', 'improperli', 'improv', 'impuls', 'impur', 'in', 'inabl', 'inaccur', 'inaddit', 'inadequ', 'inadequaci', 'inadv', 'inan', 'inappropri', 'inari', 'inattent', 'inbetween', 'inc', 'incaffein', 'incas', 'incent', 'inch', 'incharlott', 'incid', 'incident', 'inclement', 'inclin', 'inclu', 'includ', 'includetax', 'includingon', 'inclus', 'incoher', 'incom', 'incompar', 'incompet', 'inconclus', 'inconsider', 'inconsist', 'inconveni', 'incorpor', 'incorrect', 'incorrectli', 'increas', 'increasingli', 'incred', 'increíbl', 'inda', 'indecis', 'indefinit', 'indent', 'independ', 'inder', 'indescrib', 'indi', 'india', 'indian', 'indianfood', 'indianpakistani', 'indianrestaur', 'indic', 'indiffer', 'indigest', 'indigo', 'indirectli', 'indisch', 'individu', 'indo', 'indoor', 'indooroutdoor', 'indooroutdoorpatio', 'indopak', 'induc', 'indulg', 'industri', 'industriel', 'ined', 'inedd', 'ineffici', 'inept', 'inexcus', 'inexist', 'inexpens', 'inexperi', 'inexperienc', 'infact', 'infam', 'infant', 'infect', 'inferior', 'inferno', 'infest', 'infin', 'infinit', 'inflat', 'inflex', 'influenc', 'influenti', 'influx', 'info', 'inform', 'informationdocument', 'infrar', 'infront', 'infuri', 'infus', 'ing', 'ingener', 'ingeni', 'inglori', 'ingram', 'ingredi', 'ingredri', 'ingrown', 'ingrédient', 'inhab', 'inhaberin', 'inhal', 'inher', 'inhuman', 'initi', 'injanuari', 'inject', 'injunct', 'injur', 'injuri', 'injustic', 'ink', 'inkcolor', 'inlasvega', 'inlaw', 'inmadison', 'inn', 'innard', 'innen', 'innenansichten', 'inneneinrichtung', 'innenstadt', 'inner', 'innerhalb', 'inning', 'innov', 'innuendo', 'inocul', 'inordin', 'inout', 'inphoenix', 'inplay', 'input', 'inputt', 'inquir', 'inquiri', 'insan', 'insecur', 'insensit', 'insert', 'insgesamt', 'insid', 'insist', 'insofern', 'inspect', 'inspector', 'inspir', 'inspit', 'insta', 'instagram', 'instal', 'instanc', 'instant', 'instantli', 'instd', 'instead', 'insteadof', 'institut', 'instruct', 'instructor', 'instrument', 'insul', 'insult', 'insur', 'insurancecompani', 'intact', 'intak', 'integr', 'intellig', 'intend', 'intens', 'intent', 'interac', 'interact', 'intercontinent', 'interess', 'interest', 'interestedin', 'interestingli', 'interim', 'interior', 'interject', 'interlibrari', 'interm', 'intermedi', 'intermezzo', 'intermiss', 'intermitt', 'intermof', 'intern', 'internationalen', 'internet', 'interpret', 'interraci', 'interrupt', 'intersect', 'intertwin', 'interven', 'interview', 'interviewe', 'intim', 'intimid', 'intoler', 'intoronto', 'intown', 'intox', 'intoxicatingdelici', 'intrepid', 'intric', 'intrigu', 'intrins', 'intro', 'introduc', 'intrus', 'intuit', 'intéress', 'inund', 'invad', 'invari', 'invega', 'invent', 'inventif', 'inventori', 'invert', 'invest', 'investig', 'investor', 'invicta', 'invis', 'invisalign', 'invit', 'invoic', 'invok', 'involv', 'ion', 'ionic', 'iowa', 'ip', 'ipa', 'ipad', 'iphon', 'ipod', 'iran', 'irgenwi', 'iri', 'irish', 'irma', 'irn', 'iron', 'ironictacki', 'irregular', 'irregularli', 'irrelev', 'irrepar', 'irrespons', 'irrig', 'irrit', 'irvin', 'isabel', 'isakaya', 'isaki', 'ish', 'isl', 'islam', 'island', 'isnt', 'isol', 'isoleucin', 'israel', 'issu', 'issuefeesetc', 'ist', 'istanbul', 'isthmu', 'itali', 'italia', 'italian', 'italyunivers', 'itch', 'itchi', 'item', 'iter', 'itg', 'itll', 'itomg', 'itouch', 'itsi', 'itslef', 'ittl', 'itwhat', 'iud', 'iv', 'ivan', 'ive', 'ivori', 'iwould', 'izakaya', 'izikaya', 'j', 'ja', 'jab', 'jabba', 'jabba20the20hutt20sourc', 'jaburrito', 'jack', 'jacket', 'jackfruit', 'jacki', 'jackpot', 'jacksonvil', 'jaclyn', 'jacob', 'jacquelin', 'jacuzzi', 'jade', 'jador', 'jag', 'jahr', 'jahren', 'jai', 'jaie', 'jail', 'jailhous', 'jaim', 'jajangmyeon', 'jake', 'jakobsmuscheln', 'jalapeno', 'jalapeño', 'jalfrazi', 'jam', 'jamai', 'jamaican', 'jambalaya', 'jamberri', 'jambo', 'jame', 'jamel', 'jameson', 'jami', 'jamid', 'jamm', 'jammi', 'jampack', 'jan', 'jane', 'janel', 'janey', 'janin', 'janitor', 'janki', 'januari', 'jap', 'japa', 'japan', 'japanern', 'japanes', 'japaneseteppanyaki', 'japcha', 'jaqu', 'jar', 'jardin', 'jarrett', 'jasmin', 'jason', 'jaunt', 'jaurai', 'java', 'javai', 'javiar', 'javier', 'jaw', 'jawaiian', 'jay', 'jayd', 'jazz', 'jazzi', 'jd', 'je', 'jealou', 'jean', 'jeanett', 'jeden', 'jedoch', 'jeep', 'jeez', 'jefe', 'jeff', 'jell', 'jelli', 'jello', 'jellyfish', 'jemanden', 'jen', 'jenif', 'jenkin', 'jenna', 'jenni', 'jennif', 'jeopard', 'jeremi', 'jerk', 'jerkchicken', 'jerker', 'jerkey', 'jerki', 'jermann', 'jerom', 'jerri', 'jersey', 'jerusalem', 'jess', 'jessi', 'jessica', 'jesu', 'jet', 'jetta', 'jetzt', 'jewel', 'jeweleri', 'jewelleri', 'jewelr', 'jewelri', 'jewish', 'jh', 'ji', 'jib', 'jidori', 'jiffi', 'jill', 'jillyz', 'jim', 'jimaca', 'jimmi', 'jimmyjam', 'jingl', 'jinya', 'jip', 'jipp', 'jiro', 'jj', 'jjango', 'jjiga', 'jjim', 'jk', 'jo', 'joann', 'joansen', 'job', 'jobcleanup', 'jockey', 'jodi', 'joe', 'joel', 'joey', 'jog', 'john', 'johnni', 'johnson', 'johntel', 'join', 'joint', 'joke', 'joker', 'joli', 'jolt', 'jon', 'jonah', 'jonathan', 'jonathon', 'jone', 'jordan', 'jorg', 'jose', 'joseph', 'josh', 'joshua', 'joue', 'jour', 'journal', 'journey', 'journé', 'joué', 'jovan', 'jovial', 'joy', 'joyner', 'joynt', 'joël', 'jp', 'jr', 'js', 'jt', 'ju', 'juan', 'jubile', 'juci', 'judg', 'judgement', 'judgment', 'judi', 'juenck', 'juevo', 'jug', 'juggl', 'juic', 'juicer', 'juici', 'juke', 'jukebox', 'jul', 'juli', 'julio', 'jumbo', 'jump', 'jumper', 'jumpsuit', 'jun', 'junction', 'june', 'jung', 'jungl', 'junior', 'junip', 'junk', 'junki', 'jupit', 'jusqu', 'jusquà', 'just', 'justic', 'justif', 'justifi', 'justin', 'juut', 'jw', 'jy', 'k', 'ka', 'kaachi', 'kabab', 'kabob', 'kabobsget', 'kabocha', 'kabuki', 'kabuto', 'kadi', 'kadu', 'kaffe', 'kahla', 'kai', 'kaiseki', 'kaisen', 'kaka', 'kaken', 'kaki', 'kalani', 'kalbi', 'kaldbord', 'kale', 'kaleidoscop', 'kalifornia', 'kalua', 'kaluha', 'kam', 'kama', 'kaman', 'kamayan', 'kamehameha', 'kan', 'kanburi', 'kane', 'kani', 'kanji', 'kann', 'kansa', 'kao', 'karaag', 'karaahi', 'karahi', 'karai', 'karako', 'karaok', 'karat', 'kare', 'karen', 'karg', 'karin', 'karli', 'karsh', 'kart', 'kartenvergleich', 'kartoffel', 'kasino', 'kass', 'kasseri', 'kassi', 'kate', 'katerina', 'katherin', 'kathi', 'kathleen', 'kati', 'katlin', 'katsu', 'katsuya', 'katt', 'kaufmann', 'kaukau', 'kaum', 'kawaii', 'kawartha', 'kayak', 'kayakcanoeanyth', 'kayce', 'kbbq', 'kc', 'kdka', 'kebab', 'kebob', 'kee', 'keel', 'keen', 'keenli', 'keep', 'keeper', 'keepin', 'keepsak', 'kefalotiri', 'keg', 'kein', 'keinen', 'keith', 'kele', 'keller', 'kelli', 'kellner', 'kellnerin', 'kellogg', 'kelsey', 'ken', 'kennedi', 'kennel', 'kenni', 'keno', 'kensington', 'kentg', 'kentucki', 'kept', 'keratin', 'kerela', 'kermit', 'kern', 'kernel', 'kessler', 'ketchup', 'kettl', 'kevin', 'key', 'keyboard', 'kfc', 'kha', 'khaki', 'khao', 'khingspici', 'khoi', 'ki', 'kia', 'kick', 'kicker', 'kickin', 'kickoff', 'kid', 'kiddi', 'kiddo', 'kidnap', 'kidney', 'kierland', 'kifta', 'kifto', 'kill', 'killer', 'kilo', 'kilt', 'kim', 'kimbab', 'kimberli', 'kimche', 'kimchi', 'kimchilettuc', 'kimi', 'kimono', 'kin', 'kind', 'kinda', 'kindenough', 'kinder', 'kindergarten', 'kindergartn', 'kindli', 'kindof', 'kindr', 'kine', 'king', 'kingcrab', 'kingdom', 'kingfish', 'kink', 'kinki', 'kinney', 'kinsey', 'kinton', 'kiosk', 'kirsti', 'kiss', 'kit', 'kitchen', 'kitchenesqu', 'kitchenett', 'kitchenwar', 'kitchi', 'kite', 'kitkat', 'kitsch', 'kitschi', 'kitten', 'kitti', 'kiwi', 'kjzz', 'kk', 'kkl', 'kkotdeungsim', 'klar', 'klass', 'klassischen', 'kleben', 'klein', 'kleinen', 'kline', 'klingon', 'km', 'knack', 'knallroten', 'knead', 'kneader', 'knee', 'knick', 'knife', 'knight', 'knish', 'knit', 'knoblauch', 'knock', 'knockoff', 'knockout', 'knot', 'knotz', 'know', 'knowabl', 'knowhow', 'knowingli', 'knowledg', 'knowledgeableabout', 'knowleg', 'known', 'knowwhat', 'knowwhi', 'knusprig', 'ko', 'kobe', 'kobebeef', 'kochkunst', 'kochujang', 'kogan', 'kogi', 'kohada', 'koi', 'koko', 'kollegen', 'koma', 'komandogehab', 'kombiniererei', 'kombucha', 'komisch', 'komm', 'komman', 'kommt', 'komol', 'kona', 'kong', 'konkurrenzfähigkeit', 'konnten', 'konzentrationen', 'koobadeh', 'koobideh', 'kopi', 'kor', 'korea', 'korean', 'koreatown', 'korianderblätt', 'korma', 'korner', 'kosher', 'koss', 'kosten', 'kostenlo', 'kostenlos', 'kostet', 'kouign', 'kourabieth', 'kpop', 'krack', 'krayv', 'kreme', 'kremey', 'kreno', 'kri', 'krimin', 'krispi', 'kriss', 'kristi', 'kristin', 'kritik', 'kritikpunkt', 'kritikpunkten', 'krous', 'krug', 'krystal', 'kräftig', 'ktown', 'ku', 'kuchen', 'kudo', 'kuerig', 'kuliss', 'kultladen', 'kumamoto', 'kumar', 'kumomoto', 'kumon', 'kung', 'kungfu', 'kuro', 'kurt', 'kurti', 'kurz', 'kurzerhand', 'kushi', 'kushiag', 'kushiyaki', 'kutcher', 'kway', 'kyle', 'käse', 'königsbau', 'können', 'könnte', 'küche', 'kühl', 'kühlschrank', 'l', 'la', 'lab', 'label', 'labneh', 'labor', 'laboratori', 'labori', 'lacart', 'laccord', 'lace', 'lachin', 'lack', 'lacklust', 'lacklustr', 'lacquer', 'lactivité', 'lactos', 'ladder', 'laden', 'ladenpassag', 'ladi', 'ladl', 'ladywho', 'lag', 'lagass', 'lage', 'lager', 'lagoon', 'lagre', 'lagunita', 'lahb', 'lahvosh', 'laid', 'lair', 'laiss', 'lait', 'lake', 'lakewood', 'laksa', 'lamb', 'lambianc', 'lambic', 'lambo', 'lamborn', 'lame', 'lameo', 'lamin', 'lammmmm', 'lamp', 'lana', 'lanc', 'lancast', 'land', 'landmark', 'landri', 'landscap', 'landschaft', 'landsdown', 'landshark', 'lane', 'laneway', 'lang', 'langen', 'langer', 'langsam', 'languag', 'lani', 'lantern', 'lao', 'laoganma', 'lap', 'lappert', 'laprè', 'laps', 'laptop', 'laquel', 'larb', 'lard', 'larg', 'largegroup', 'largement', 'largeport', 'largeselect', 'largest', 'larri', 'larson', 'lasagna', 'laser', 'lash', 'lasik', 'lassi', 'lassiett', 'last', 'lastli', 'lastminut', 'lastnight', 'lasttim', 'lastvisit', 'lastweek', 'lastweekend', 'lastyear', 'lasvega', 'late', 'latenight', 'later', 'latern', 'lather', 'latin', 'latina', 'latt', 'latti', 'lattic', 'lauder', 'lauer', 'laugh', 'laughabl', 'laughin', 'laughlin', 'laughter', 'launch', 'laundri', 'laundromat', 'laura', 'lauren', 'laurent', 'laut', 'lav', 'lava', 'lavarock', 'laveen', 'lavend', 'lavi', 'lavish', 'lavosh', 'law', 'lawerencevil', 'lawmast', 'lawn', 'lawrenc', 'lawyer', 'lax', 'lay', 'layback', 'layer', 'layout', 'layov', 'lazelar', 'lazer', 'lazi', 'lb', 'lbarouf', 'lbt', 'lc', 'lcbo', 'lcd', 'ldw', 'le', 'lead', 'leader', 'leadership', 'leaf', 'leagu', 'leak', 'leaki', 'lean', 'leap', 'learn', 'leas', 'leash', 'leather', 'leau', 'leav', 'lebanes', 'lebanon', 'lebron', 'lech', 'leck', 'lecker', 'lectur', 'led', 'lederhosen', 'ledg', 'lee', 'leek', 'leele', 'leer', 'leeri', 'left', 'leftov', 'leg', 'legal', 'legend', 'legendari', 'legendären', 'legit', 'legitim', 'lego', 'lehr', 'lei', 'leicht', 'leid', 'leider', 'leighton', 'leistungsverhältni', 'leisur', 'leith', 'lemiuex', 'lemm', 'lemon', 'lemonad', 'lemongrass', 'lemoni', 'lemonyol', 'len', 'lena', 'lend', 'lender', 'lendroit', 'lenea', 'length', 'lengthi', 'lengua', 'lenni', 'lenoir', 'lensembl', 'lentil', 'lentre', 'lentré', 'leo', 'leopard', 'lequel', 'leroy', 'lesa', 'lesbian', 'lesli', 'leslievil', 'lesson', 'lessthan', 'lest', 'lestomac', 'let', 'letalon', 'letdown', 'lethal', 'letorney', 'letter', 'letti', 'lettuc', 'lettucewrap', 'letzten', 'leucin', 'leur', 'leut', 'level', 'levi', 'lexu', 'leyna', 'lg', 'lgbt', 'lgbtq', 'lgo', 'lheur', 'lhuil', 'li', 'liabil', 'liar', 'libat', 'libbi', 'liber', 'liberti', 'librari', 'licens', 'liciou', 'lick', 'licoric', 'lid', 'lidia', 'lie', 'lieben', 'lieer', 'lief', 'liefen', 'liegt', 'lien', 'lieu', 'life', 'lifeless', 'lifesav', 'lifestyl', 'lifetim', 'lift', 'lifter', 'ligament', 'light', 'lightbulb', 'lighten', 'lighter', 'lightfan', 'lighthead', 'lightli', 'lightn', 'lightslamp', 'lightsmh', 'likabl', 'like', 'likelihood', 'likewel', 'likewis', 'lil', 'lili', 'limb', 'limbo', 'lime', 'limit', 'limo', 'limoncello', 'limp', 'limpid', 'limpio', 'limpress', 'lin', 'lincoln', 'linda', 'lindo', 'lindsay', 'lindsey', 'line', 'linen', 'liner', 'lineup', 'linewait', 'linfini', 'linger', 'lingeri', 'linguini', 'link', 'linndal', 'linner', 'linq', 'lint', 'lion', 'lip', 'liqourli', 'liqueur', 'liquid', 'liquor', 'lire', 'lisa', 'lise', 'lish', 'liss', 'list', 'listen', 'lit', 'litchi', 'lite', 'liter', 'litig', 'litl', 'litter', 'littl', 'littlegem', 'littlepricey', 'littleslow', 'littlesteep', 'live', 'liveinphoenix', 'livemus', 'liver', 'livestock', 'liveup', 'livid', 'livingsoci', 'livr', 'lizard', 'lloyd', 'lmao', 'lo', 'load', 'loaf', 'loafer', 'loan', 'loaner', 'lobbi', 'lobe', 'lobenswert', 'loberac', 'loblaw', 'lobsicl', 'lobster', 'lobsterbisqu', 'lobstertail', 'locaiton', 'local', 'localbusi', 'locat', 'locatein', 'locationdriv', 'locationspot', 'lock', 'locker', 'lockmast', 'locksmith', 'loco', 'lodg', 'loe', 'log', 'logan', 'logic', 'login', 'logist', 'logo', 'lohan', 'lohnt', 'loignon', 'loin', 'loiter', 'lokal', 'lokat', 'lokey', 'loki', 'lol', 'lola', 'lole', 'lollicup', 'lollipop', 'lolo', 'lolol', 'london', 'lone', 'loneli', 'long', 'longer', 'longhorn', 'longingli', 'longlin', 'longneck', 'longoverdu', 'longstoryshort', 'longterm', 'longtim', 'longu', 'longwait', 'look', 'lookat', 'lookfeel', 'lookforward', 'lookforwardto', 'looklik', 'lookout', 'lookplay', 'looksfeel', 'loong', 'looni', 'looong', 'looonnggg', 'loooong', 'looooooong', 'looooovv', 'loooov', 'loop', 'loos', 'lopez', 'lord', 'loren', 'lorena', 'lori', 'loriel', 'lorrain', 'lorsqu', 'lose', 'loss', 'lost', 'lot', 'lothian', 'lotion', 'lotof', 'lotsa', 'lotto', 'lotu', 'lou', 'loud', 'louder', 'loudli', 'loui', 'louie', 'louisiana', 'loukoumad', 'loukoumia', 'loung', 'lounger', 'loungey', 'lousi', 'loutish', 'love', 'loveee', 'lover', 'loveseat', 'loveseatsofab', 'lovethisplac', 'lovey', 'lovin', 'low', 'lowel', 'lower', 'lowercas', 'lowkey', 'lowli', 'lox', 'loyal', 'loyalcustom', 'loyalti', 'lpd', 'lpn', 'ls', 'lsb', 'lt', 'lu', 'luau', 'lube', 'lubric', 'lucca', 'luchita', 'luci', 'lucia', 'lucid', 'lucil', 'luck', 'lucki', 'luckili', 'luckyenough', 'ludwigsburg', 'lufa', 'luftig', 'lugar', 'luggag', 'lui', 'luke', 'lukewarm', 'lululemon', 'lulz', 'lumber', 'lumberjack', 'lumberyard', 'luminari', 'luminesc', 'lump', 'lumpia', 'luna', 'lunch', 'lunchbrunch', 'lunchdinn', 'luncheon', 'luncher', 'lunchspeci', 'lunchtim', 'lunchtoday', 'lung', 'lunpi', 'lure', 'lurk', 'lusciou', 'luscious', 'lush', 'lusin', 'lust', 'luster', 'lustlo', 'lustlosigkeit', 'luv', 'lux', 'luxor', 'luxuri', 'luxushotel', 'lv', 'lvac', 'lvg', 'lwcdufxxmqloigki04cycausg', 'lyche', 'lyftub', 'lyin', 'lynett', 'lynn', 'lyon', 'lyric', 'lzd8uadia', 'là', 'läden', 'länger', 'lässiger', 'lässt', 'léger', 'léquip', 'lévénement', 'm9a3', 'ma', 'maam', 'mabel', 'mac', 'macadamia', 'macarena', 'macaron', 'macaroni', 'macaroon', 'macbook', 'macchees', 'macdonald', 'mace', 'machaca', 'machin', 'machineri', 'macho', 'macht', 'maci', 'mackerel', 'macn', 'macnchees', 'macroon', 'mad', 'madam', 'madelein', 'madelin', 'madhous', 'madison', 'madrid', 'madwoman', 'mafia', 'mag', 'magazin', 'magenta', 'maggi', 'magi', 'magic', 'magician', 'magnet', 'magnifi', 'magnific', 'magnifiqu', 'magnum', 'magret', 'mahal', 'mahi', 'mahmood', 'mai', 'maia', 'maial', 'maid', 'maiden', 'mail', 'mailbox', 'mailer', 'mailtomgabriel411info', 'main', 'maincours', 'mainli', 'mainreason', 'mainstay', 'mainstream', 'mainstreet', 'maintain', 'mainten', 'maintenancerepair', 'maison', 'maisonneuv', 'maiz', 'majeur', 'major', 'majorityof', 'majorli', 'make', 'makeanappoint', 'makeov', 'maker', 'makereserv', 'makesens', 'makesur', 'makeup', 'maki', 'makin', 'mal', 'malabar', 'malai', 'malasada', 'malaya', 'malaysian', 'malbac', 'male', 'malfoof', 'malgré', 'mali', 'malic', 'malino', 'malk', 'mall', 'malley', 'malnourish', 'malon', 'malpequ', 'malt', 'maltes', 'mam', 'mama', 'mamma', 'mammo', 'mamosa', 'man', 'manag', 'managesown', 'mancha', 'manchego', 'manchurian', 'mancini', 'mandala', 'mandalay', 'mandalaybay', 'mandali', 'mandarin', 'mandatori', 'mandi', 'mane', 'manera', 'maneuv', 'mangement', 'manger', 'mango', 'mangu', 'mangé', 'manhandl', 'manhattan', 'mani', 'mania', 'manicur', 'manicurepedicur', 'manicurist', 'manifest', 'manipedi', 'manipul', 'manispedi', 'mankind', 'manmad', 'manner', 'manni', 'mannn', 'manolo', 'manor', 'manqu', 'mansaf', 'mansion', 'manual', 'manufactur', 'manyoth', 'manypeopl', 'manytim', 'manyyear', 'mao', 'map', 'mapl', 'mar', 'marbl', 'marc', 'marcela', 'marcella', 'march', 'march2', 'marco', 'marconi', 'marcu', 'mardi', 'mare', 'marg', 'margaret', 'margarita', 'margaritavil', 'margaritha', 'margharita', 'margherita', 'margi', 'margin', 'marguerita', 'mari', 'maria', 'mariachi', 'mariah', 'maricopa', 'marijuana', 'marilyn', 'marin', 'marinad', 'marinara', 'mariné', 'mario', 'marioduckhunt', 'marisco', 'marissa', 'mark', 'markdown', 'market', 'marketplac', 'markham', 'marktplatz', 'markup', 'marlen', 'marley', 'marlin', 'marocain', 'marque', 'marquett', 'marrakech', 'marri', 'marriag', 'marriot', 'marriott', 'marrow', 'marsala', 'marsalla', 'marshal', 'marshmallow', 'marshmellow', 'mart', 'marti', 'martial', 'martin', 'martinez', 'martini', 'marvel', 'maryland', 'marzano', 'masa', 'masago', 'masala', 'mascara', 'mash', 'mashpotato', 'mask', 'mason', 'masqu', 'masquerad', 'mass', 'massacr', 'massag', 'massageenvi', 'massaman', 'masseus', 'massiv', 'master', 'mastercard', 'masteri', 'masterpiec', 'mastro', 'mat', 'matalan', 'match', 'matcha', 'mate', 'materi', 'math', 'mathieu', 'mathnasiam', 'matrade', 'matschig', 'matt', 'mattar', 'matter', 'matthew', 'mattress', 'matur', 'matzo', 'matzoh', 'maui', 'maul', 'maultaschen', 'maverick', 'mavi', 'max', 'maxim', 'maximillion', 'maximum', 'maxwel', 'maxx', 'maya', 'mayb', 'mayfield', 'mayn', 'mayo', 'mayonais', 'mayonnais', 'maytal', 'maz', 'mazda', 'maze', 'mazeroski', 'mb', 'mc', 'mcarthur', 'mcbroom', 'mccafe', 'mccarran', 'mccarron', 'mcclain', 'mcclintock', 'mccormick', 'mcdonald', 'mcdoubl', 'mcdowel', 'mchugh', 'md', 'mdw', 'me', 'meaaaaan', 'meager', 'meal', 'mean', 'meander', 'meantim', 'measli', 'measur', 'meat', 'meatbal', 'meatcarv', 'meati', 'meatloaf', 'mecca', 'mechado', 'mechan', 'meckern', 'med', 'medallion', 'media', 'mediamarkt', 'medic', 'medicin', 'medicinehealinghealth', 'medicinehealth', 'medina', 'mediocor', 'mediocr', 'medit', 'mediterranean', 'medium', 'mediumrar', 'medley', 'meeee', 'meeplevil', 'meet', 'meetin', 'meetup', 'meg', 'mega', 'megadr', 'megan', 'meh', 'mehh', 'mehhh', 'mehr', 'mehran', 'mehrmal', 'mei', 'meilleur', 'mein', 'meinek', 'meinem', 'meisten', 'mel', 'melba', 'meld', 'melinda', 'melissa', 'mellow', 'melod', 'melon', 'melt', 'melti', 'meltin', 'member', 'membership', 'meme', 'memeb', 'memo', 'memor', 'memorabilia', 'memori', 'memphi', 'men', 'menag', 'menard', 'mend', 'mendota', 'mental', 'mentalist', 'menth', 'mention', 'mentionn', 'menu', 'menudo', 'menuitem', 'menuswait', 'menü', 'merc', 'mercado', 'merced', 'merch', 'merchandis', 'merchant', 'merci', 'merciless', 'mercredi', 'mere', 'merg', 'merguez', 'meringu', 'merit', 'merlot', 'merri', 'mesa', 'mesh', 'mesmer', 'mesquit', 'mess', 'messag', 'messehallen', 'messeng', 'messetag', 'messi', 'messup', 'met', 'metabol', 'metal', 'metamorphosi', 'metaphor', 'meter', 'methi', 'method', 'methodolog', 'meticul', 'metro', 'metropark', 'metropoli', 'metropolitan', 'mett', 'mex', 'mexi', 'mexican', 'mexicanfood', 'mexicanrestaur', 'mexico', 'mexpliqu', 'mexx', 'meyer', 'mezzanin', 'mg', 'mgm', 'mgmt', 'mgr', 'mi', 'mia', 'miami', 'mic', 'mich', 'michael', 'michaelangelo', 'michalad', 'michel', 'michelada', 'michelin', 'michigan', 'michoacan', 'michoacán', 'michter', 'mickey', 'micki', 'micro', 'microblad', 'microbrasseri', 'microbrew', 'microbreweri', 'microcosm', 'microgreen', 'microneedl', 'microphon', 'microwav', 'mid', 'mida', 'midday', 'middl', 'middleag', 'middleeastern', 'middleof', 'middleton', 'midi', 'midnight', 'midnit', 'midol', 'midori', 'midrang', 'midst', 'midw', 'midweek', 'midwest', 'midwood', 'miel', 'mieux', 'mif', 'mighti', 'mightili', 'mignardi', 'mignon', 'migrain', 'miguel', 'mijito', 'mike', 'mikki', 'mikrowel', 'mikrowellenfood', 'mil', 'milanes', 'milanesa', 'mild', 'milder', 'mildew', 'mildewi', 'mildli', 'mildr', 'mile', 'mileag', 'milecom2fcastle2fcastl', 'mileston', 'milestonesmoxi', 'miley', 'milion', 'militari', 'milk', 'milkfish', 'milki', 'milkshak', 'milktea', 'mill', 'millen', 'miller', 'million', 'milltega', 'milwauke', 'mimi', 'mimosa', 'min', 'mina', 'minc', 'mind', 'mindblow', 'mindbodi', 'mindesten', 'mindset', 'miner', 'minestron', 'mingl', 'mingo', 'mini', 'miniatur', 'minim', 'minimal', 'minimalist', 'minimum', 'minion', 'ministeress', 'minneapoli', 'minor', 'mint', 'minti', 'minu', 'minuet', 'minuscul', 'minut', 'minutebefor', 'minutelat', 'minuten', 'minuteno', 'minutes20', 'minz', 'mir', 'miracl', 'mirag', 'mirch', 'miriam', 'mirin', 'mirna', 'mirror', 'mirvish', 'misalign', 'miscalcul', 'miscellan', 'miscommun', 'miscommunicat', 'misdiagnosi', 'mise', 'miser', 'misfortun', 'mishap', 'mislead', 'mismatch', 'miso', 'misoraman', 'misosoup', 'misplac', 'miss', 'misshapen', 'missingwrong', 'mission', 'mississauga', 'mississippi', 'missouri', 'misspel', 'misstep', 'missu', 'mistak', 'mistaken', 'mistakenli', 'mistamerica', 'mister', 'misti', 'mistook', 'mistreat', 'misunderstand', 'mit', 'mitarbeit', 'mitbringen', 'mitchel', 'mitnehman', 'mitraillett', 'mittag', 'mittagessen', 'mittagskart', 'mittagstel', 'mittel', 'mittelmäßig', 'mix', 'mixedpl', 'mixer', 'mixologist', 'mixthey', 'mixtur', 'mixtureof', 'miyagi', 'mizutako', 'mj', 'ml', 'mlg', 'mm', 'mmm', 'mmmh', 'mmmm', 'mmmmm', 'mmmmmm', 'mmmmmmmm', 'mmmmmmmmmm', 'mn', 'mob', 'mobil', 'mobster', 'mocha', 'mochi', 'mock', 'moco', 'mod', 'modd', 'mode', 'model', 'modelo', 'modem', 'moder', 'moderaten', 'modern', 'modernartsi', 'modernclass', 'modest', 'modestli', 'modeum', 'modif', 'modifi', 'moe', 'moelleux', 'moen', 'moffett', 'moh', 'moham', 'mohan', 'mohawk', 'moi', 'moin', 'moist', 'moistur', 'mojado', 'mojito', 'molar', 'molcajet', 'mold', 'moldi', 'mole', 'molecular', 'moli', 'molina', 'moll', 'molli', 'molten', 'molv', 'mom', 'moment', 'momentari', 'momentarili', 'momma', 'mommi', 'momo', 'momocho', 'momolooov', 'mompop', 'mon', 'monaco', 'monarch', 'monarchi', 'moncopain', 'mond', 'monday', 'mondaymorn', 'mondaynight', 'money', 'mongolian', 'moni', 'monica', 'monitor', 'monitron', 'monk', 'monkey', 'monkfish', 'monohydr', 'monopol', 'monopoli', 'monorail', 'monoton', 'monotron', 'monroevil', 'monsieur', 'monsoon', 'monster', 'monstrou', 'mont', 'monta', 'montag', 'montauk', 'montelucia', 'monterey', 'month', 'monthago', 'monthli', 'montreal', 'montréal', 'moo', 'mood', 'moodambi', 'moodi', 'moon', 'moonen', 'moor', 'mop', 'moral', 'morceaux', 'mordor', 'morebett', 'moreimportantli', 'moreoften', 'morethan', 'morethanenough', 'moretski', 'morganit', 'morimoto', 'mormon', 'morn', 'morningsid', 'moro', 'moroccan', 'moron', 'morph', 'morri', 'morrison', 'morrissey', 'morsel', 'mort', 'mortadella', 'mortar', 'mortgag', 'morti', 'mortim', 'morton', 'mosaic', 'moscow', 'mose', 'mosey', 'moshi', 'mosqu', 'mosquito', 'moss', 'mostexpens', 'mostimport', 'mostimportantli', 'mostlik', 'mostpart', 'mostrec', 'mostrecenttrip', 'mot', 'motel', 'motel6', 'mother', 'mothereffin', 'motif', 'motion', 'motiv', 'motor', 'motorcycl', 'motto', 'mouille', 'mound', 'mount', 'mountain', 'mous', 'mouss', 'moussaka', 'moutard', 'mouth', 'mouthwat', 'move', 'moveforward', 'movement', 'mover', 'movi', 'movietheat', 'mower', 'moxley', 'mozarella', 'mozz', 'mozzarella', 'mozzerala', 'mp', 'mph', 'mpix', 'mr', 'mra', 'mri', 'ms', 'msg', 'msyonaissey', 'mtl', 'muahaha', 'muchfun', 'muchless', 'muchmor', 'mucho', 'muchroom', 'mucou', 'mud', 'muddi', 'muddl', 'mudslid', 'muenster', 'muerto', 'muffalata', 'muffin', 'muffl', 'muffuletta', 'mug', 'mujer', 'mule', 'mulita', 'mull', 'mullet', 'multi', 'multia', 'multicultur', 'multipl', 'multipletim', 'multitask', 'multitud', 'multre', 'mum', 'mumbl', 'munch', 'munchi', 'munchin', 'munchkin', 'mundan', 'munich', 'mural', 'murder', 'murray', 'muscl', 'muscular', 'museen', 'museum', 'mush', 'mushi', 'mushroom', 'music', 'musicaltern', 'musician', 'musik', 'musiqu', 'muslim', 'muss', 'mussel', 'mustachio', 'mustafa', 'mustang', 'mustard', 'musti', 'mustsay', 'musttri', 'mustwa', 'mutat', 'mutt', 'mutter', 'mutton', 'mutual', 'muy', 'mvd', 'mwkeuzvpccjxiqkqm4hybwusg', 'mx870', 'myer', 'mygod', 'mylar', 'mylisa', 'myriad', 'myrtl', 'myslef', 'myster', 'mysteri', 'mystic', 'myth', 'mythic', 'm²', 'mädchen', 'männer', 'mélang', 'métonnerait', 'même', 'möchte', 'möchten', 'möglichen', 'n', 'n64', 'na', 'naan', 'nab', 'nabe', 'nach', 'nachempfunden', 'nacho', 'nachschauen', 'nachschlag', 'nachtisch', 'nack', 'nada', 'nadeg', 'nadin', 'nag', 'nage', 'nahe', 'nahelegen', 'nahezu', 'nahhh', 'nahverkehr', 'nai', 'nail', 'nailsalon', 'nailtech', 'nailtechnician', 'nailz', 'naim', 'naiv', 'naja', 'nakama', 'nake', 'nal', 'nam', 'nameless', 'namenumb', 'namesak', 'namesownership', 'nami', 'namkeen', 'nan', 'nana', 'nando', 'nanyang', 'nap', 'napier', 'napkin', 'napoleon', 'napoli', 'narr', 'narrow', 'narshal', 'nasa', 'nasal', 'nascar', 'nashvil', 'nasti', 'nata', 'natali', 'nate', 'nathan', 'nation', 'nationwid', 'nativ', 'natur', 'naturopath', 'natürlich', 'nausea', 'nauseat', 'nautic', 'navait', 'navajo', 'nave', 'navi', 'navig', 'navrant', 'nay', 'nba', 'nc', 'ncaa', 'nchees', 'nco', 'ne', 'near', 'nearbi', 'nearest', 'nearli', 'neat', 'neatli', 'necessari', 'necessarili', 'necessit', 'neck', 'necklac', 'neckor', 'neckti', 'nectar', 'neddi', 'nee', 'need', 'needi', 'needl', 'needlesstosay', 'neezi', 'neg', 'negativereview', 'negativestar', 'negimaki', 'neglect', 'neglig', 'negoti', 'negra', 'negro', 'neig', 'neighbor', 'neighborhood', 'neighborli', 'neighbourhood', 'neiman', 'nelli', 'nelson', 'nem', 'nemesi', 'nen', 'nena', 'neo', 'neon', 'neopolitan', 'nephew', 'neptun', 'neriju', 'nero', 'nerv', 'nervou', 'ness', 'nest', 'nestl', 'net', 'netflix', 'netizen', 'nett', 'netten', 'network', 'neu20shwantsteinsourc', 'neue', 'neuen', 'neushwanstein', 'neushwantstein', 'neuton', 'neutral', 'neutron', 'nevada', 'nevarez', 'neverdisappoint', 'neverfail', 'nevergoback', 'new', 'newbi', 'newborn', 'newcastl', 'newcom', 'newer', 'newerplush', 'newfavorit', 'newli', 'newmarket', 'neworlean', 'newpati', 'newport', 'news', 'newspap', 'newyork', 'nextday', 'nextdoor', 'nextmorn', 'nexttim', 'nextvisit', 'nextyear', 'nfl', 'ni', 'niagara', 'nibbl', 'nice', 'nicest', 'nicestgenuin', 'nicetouch', 'nich', 'nicht', 'nichtmehr', 'nick', 'nickel', 'nicki', 'nico', 'nicol', 'nie', 'niec', 'nielsen', 'niemand', 'niev', 'night', 'nightclub', 'nightli', 'nightlif', 'nightmar', 'nightsi', 'nightstand', 'nighttim', 'nigiri', 'nigori', 'nike', 'nikki', 'nikon', 'nilla', 'nimbu', 'nimmt', 'ninja', 'nintendo', 'nippon', 'nissan', 'nite', 'nitrat', 'nitrogen', 'niveau', 'nix', 'nj', 'njc', 'nl', 'nng', 'no9', 'noah', 'noapolog', 'nob', 'nobel', 'nobl', 'nobu', 'nobuya', 'nocciola', 'noch', 'nochmal', 'nocomplaint', 'nod', 'noda', 'noddl', 'nodini', 'noic', 'noidea', 'noideawhat', 'noir', 'nois', 'noisi', 'noisier', 'nola', 'nolen', 'nolong', 'nom', 'nomatt', 'nomatterwhat', 'nombr', 'nomenclatur', 'nomin', 'nomé', 'non', 'nondescript', 'noneof', 'nonetheless', 'nonexist', 'nonna', 'nononono', 'nonpay', 'nonperish', 'nonpluss', 'nonsens', 'nonstop', 'nont', 'noodl', 'noodledish', 'noodlehead', 'noodlesa', 'noodlesoup', 'noodlespasta', 'nook', 'noon', 'noori', 'nopal', 'nope', 'nopressur', 'noproblem', 'nora', 'nordic', 'nori', 'norm', 'normal', 'norman', 'north', 'northbound', 'northeast', 'northern', 'northnorthwest', 'northstar', 'northwest', 'nose', 'nosi', 'nostalg', 'nostalgia', 'nostril', 'not', 'notabl', 'notat', 'notch', 'notchvarieti', 'note', 'notepad', 'noteworthi', 'notgowrong', 'nothingf', 'nothingspeci', 'nothingspectacular', 'notic', 'notif', 'notifi', 'notion', 'notori', 'notoverli', 'notr', 'notsur', 'notsurewhi', 'notth', 'nottoobad', 'nottoocrowd', 'nou', 'nought', 'nouill', 'nourritur', 'nousavon', 'noussomm', 'nout', 'nouvel', 'nov', 'nova', 'nove', 'novel', 'novelti', 'novemb', 'novic', 'novocain', 'nowait', 'npr', 'nth', 'nuag', 'nuanc', 'nuclear', 'nude', 'nudeln', 'nuevo', 'nuff', 'nuget', 'nugget', 'nuggett', 'nuisanc', 'nuke', 'null', 'num', 'numb', 'number', 'numberof', 'numbskul', 'numer', 'numeroustim', 'numériqu', 'nun', 'nunzi', 'nuoc', 'nuong', 'nur', 'nurs', 'nurseri', 'nut', 'nutella', 'nutmeg', 'nutrit', 'nutshel', 'nuvo', 'nv', 'nw', 'nxne', 'ny', 'nyc', 'nye', 'nygiant', 'nyish', 'nyni', 'nyquil', 'nystyl', 'nystylepizza', 'nächsten', 'négatif', 'nétait', 'o7kmp89porq', 'oak', 'oakvil', 'oana', 'oasi', 'oat', 'oatmeal', 'oaxaca', 'ob', 'obama', 'oberen', 'obgyn', 'obiv', 'object', 'objectifi', 'oblig', 'obligatori', 'obliqu', 'oblivi', 'obnoxi', 'obscur', 'observ', 'observatori', 'obsess', 'obstacl', 'obtain', 'obtrus', 'obtus', 'obvi', 'obviou', 'obvious', 'obwohl', 'ocass', 'ocassion', 'occais', 'occaision', 'occas', 'occasion', 'occass', 'occassionali', 'occup', 'occupi', 'occur', 'ocd', 'ocean', 'ocha', 'ocho', 'ochsentrog', 'oclock', 'octob', 'octopu', 'od', 'odd', 'odder', 'odditi', 'oddli', 'oder', 'odeur', 'odor', 'oem', 'oeuf', 'oeuvr', 'ofcours', 'ofen', 'ofenkartoffel', 'offen', 'offend', 'offenen', 'offens', 'offensichtlich', 'offer', 'offeronli', 'offert', 'offfer', 'offic', 'offici', 'offonto', 'offr', 'ofrecen', 'oft', 'oftenno', 'og', 'oh', 'ohana', 'ohh', 'ohhh', 'ohio', 'ohip', 'ohjah', 'ohmi', 'ohn', 'ohwel', 'ohyeah', 'oil', 'oilbutt', 'oilchang', 'oili', 'oj', 'ok', 'okay', 'okayish', 'okinawa', 'okonomiyaki', 'okra', 'oktoberfest', 'old', 'olddaught', 'oldfashion', 'oldschool', 'oldtown', 'ole', 'olfactori', 'oliv', 'olivegarden', 'oliveoil', 'olymp', 'olympu', 'omakas', 'ombré', 'omelet', 'omelett', 'ometim', 'omfg', 'omg', 'omggg', 'omlet', 'omlett', 'omnia', 'omnivor', 'onceagain', 'oncedont', 'one', 'onesin', 'onestar', 'ong', 'ongo', 'oni', 'onion', 'onioncilantro', 'onionr', 'onionsoup', 'onlin', 'onlycomplaint', 'onlydownsid', 'onlygrip', 'onlyneg', 'onlyreason', 'onlyth', 'onmonday', 'ono', 'onoir', 'onolici', 'onpar', 'onsit', 'onslaught', 'ont', 'ontap', 'ontario', 'ontop', 'ontopof', 'ontuesday', 'onvac', 'onward', 'onwork', 'onyelp', 'oo', 'oodham', 'ooey', 'ooh', 'ook', 'oolong', 'oomph', 'oop', 'ooz', 'op', 'open', 'open24', 'open24hour', 'openkitchen', 'openl', 'openli', 'opent', 'opentablecom', 'oper', 'opera', 'opi', 'opinion', 'opp', 'opportun', 'oppos', 'opposit', 'opt', 'optfor', 'optic', 'optician', 'optim', 'optimist', 'option', 'optionalen', 'optisch', 'optometrist', 'opté', 'opu', 'opul', 'opusx', 'opèr', 'oral', 'orang', 'orangeglowbanana', 'orangejuic', 'orangey', 'orangeâtr', 'orangi', 'orc', 'orchard', 'orchestr', 'orchestra', 'orchid', 'ordeal', 'ordentlich', 'order', 'orderedon', 'orderli', 'orderthey', 'ordin', 'ordinari', 'ordnung', 'ordr', 'ordrer', 'ordwr', 'orea', 'orecchiett', 'oregano', 'oreo', 'organ', 'organica', 'organis', 'orgasm', 'orgi', 'orient', 'origin', 'original', 'originalität', 'orin', 'orlean', 'ornament', 'ornat', 'orricheit', 'orrin', 'orrrrrrrrrrrrr', 'ortho', 'orthod', 'orthodont', 'orthodontist', 'orthoped', 'orthot', 'orwhatev', 'orzo', 'os', 'osaka', 'osbourn', 'oscar', 'osgood', 'osso', 'ostrich', 'ostro', 'ot', 'otani', 'otc', 'otea', 'oter', 'otherhand', 'otherreview', 'otherthan', 'otherthanthat', 'otoro', 'otro', 'ottawa', 'otto', 'ou', 'ouch', 'oui', 'ounc', 'outback', 'outcom', 'outdat', 'outdo', 'outdoor', 'outdoorpatio', 'outdoors', 'outer', 'outfield', 'outfit', 'outi', 'outing', 'outlandish', 'outlay', 'outleast', 'outlet', 'outlin', 'outnumb', 'output', 'outrag', 'outshin', 'outsid', 'outsides', 'outstand', 'outta', 'outthey', 'outward', 'ouvert', 'ova', 'oven', 'over', 'over10year', 'overal', 'overanhour', 'overbatt', 'overbear', 'overboard', 'overbook', 'overchar', 'overcharg', 'overcom', 'overcook', 'overcrowd', 'overdo', 'overdos', 'overdu', 'overeat', 'overfil', 'overflow', 'overgrown', 'overhaul', 'overhead', 'overhear', 'overheard', 'overhyp', 'overjoy', 'overlap', 'overli', 'overload', 'overlook', 'overlysweet', 'overnight', 'overord', 'overpay', 'overpow', 'overpr', 'overpric', 'overr', 'overrid', 'overs', 'overse', 'oversea', 'overseason', 'overseed', 'oversel', 'overshadow', 'overstat', 'overstuff', 'overthrown', 'overtli', 'overwhelm', 'overwhelmingconfus', 'overwhelmingli', 'overwork', 'overzeal', 'owe', 'owi', 'owl', 'ownedfamili', 'owner', 'ownerbartend', 'ownerdoctor', 'ownermanag', 'ownermanagerinvestor', 'ownersemploye', 'ownerserv', 'ownership', 'ownersstaff', 'ownerswork', 'ownpac', 'ownrunori', 'ox', 'oxley', 'oxtail', 'oxygen', 'oy', 'oyshi', 'oyst', 'oyster', 'oz', 'ozeki', 'ozzi', 'où', 'p', 'p206', 'p3', 'p90x', 'pa', 'pablo', 'pac', 'pace', 'pacetim', 'pacif', 'pack', 'packag', 'packer', 'packet', 'paco', 'pad', 'padano', 'paddl', 'padr', 'padseeew', 'padthai', 'paella', 'pagail', 'pagan', 'page', 'pager', 'pai', 'paid', 'paig', 'pain', 'paina', 'painless', 'painstak', 'painsvil', 'paint', 'paintain', 'painter', 'paintnit', 'pair', 'paisibl', 'pajeon', 'pak', 'pakistanaisindien', 'pakora', 'pal', 'palac', 'palaccio', 'palat', 'palati', 'palatt', 'palazzo', 'pale', 'palet', 'palett', 'pallazzo', 'pallet', 'palm', 'palma', 'palmsdrink', 'palo', 'palomar', 'palsi', 'pamela', 'pamper', 'pan', 'pana', 'panaderiacarniceriataqueria', 'panang', 'panaram', 'pancak', 'pancetta', 'pancho', 'pancit', 'panda', 'pane', 'paneer', 'panel', 'panera', 'panetton', 'pang', 'panic', 'panick', 'panini', 'panko', 'panna', 'pano', 'pant', 'panti', 'panton', 'pantri', 'panucho', 'pao', 'pap', 'papa', 'papago', 'papaya', 'paper', 'papercanva', 'paperwork', 'papil', 'papillon', 'pappardel', 'papperadelleribbon', 'paprika', 'paprikastreifen', 'par', 'para', 'parad', 'paradis', 'parador', 'paraffin', 'paragraph', 'parait', 'paraleg', 'parallel', 'paramount', 'parasol', 'paratha', 'parboil', 'parc', 'pardon', 'parent', 'parfait', 'pari', 'parisian', 'parisien', 'park', 'parker', 'parkhau', 'parkhausgebühr', 'parkinggarag', 'parkinglot', 'parkmöglichkeiten', 'parkrocki', 'parliament', 'parloir', 'parlor', 'parlour', 'parm', 'parma', 'parmesan', 'parmigiana', 'parodi', 'parol', 'parotta', 'parquet', 'parrot', 'parsley', 'parsnip', 'part', 'partag', 'partak', 'parti', 'partial', 'particip', 'particleboard', 'particular', 'particularli', 'partiesev', 'partli', 'partner', 'partook', 'pasadena', 'pasdor', 'paseo', 'paso', 'pass', 'passabl', 'passagen', 'passant', 'passbi', 'passcod', 'passeng', 'passent', 'passer', 'passerbi', 'passez', 'passif', 'passion', 'passiv', 'passport', 'passthrough', 'password', 'passé', 'past', 'pasta', 'pastei', 'pastel', 'pasteri', 'pastfew', 'pastfewyear', 'pasti', 'pasticciogreek', 'pastor', 'pastosa', 'pastrami', 'pastri', 'pat', 'pata', 'patch', 'pate', 'patel', 'path', 'pathet', 'pathway', 'pathwayoutdoor', 'patienc', 'patient', 'patio', 'patiobalconi', 'patisseri', 'patrick', 'patriot', 'patrol', 'patron', 'patronag', 'patt', 'pattern', 'patti', 'paul', 'pauper', 'paus', 'pauvr', 'pavement', 'paver', 'paw', 'pax', 'pay', 'payattent', 'paycheck', 'payin', 'payless', 'payment', 'payout', 'payrol', 'payé', 'paz', 'pb', 'pb2', 'pbchocol', 'pbj', 'pbr', 'pc', 'pcp', 'pdq', 'pea', 'peabo', 'peac', 'peach', 'peachi', 'peacoat', 'peacock', 'peak', 'peameal', 'peanut', 'peanutbutt', 'peanutsauc', 'pear', 'pearl', 'pebbl', 'pec', 'pecan', 'peckish', 'pecora', 'peculiar', 'pedal', 'peddl', 'pedestrian', 'pedi', 'pediatr', 'pediatrician', 'pedicur', 'pedro', 'pee', 'peel', 'peep', 'peepshow', 'peer', 'peev', 'pei', 'peic', 'pein', 'pekanbrowni', 'peke', 'pekinges', 'pekora', 'pelican', 'pellegrino', 'peluch', 'pen', 'pena', 'penal', 'penalti', 'pencil', 'pencilwatercolor', 'pend', 'pendant', 'peng', 'penguin', 'peninsula', 'penn', 'penni', 'pennsylvania', 'penser', 'penspencilseras', 'peon', 'peopl', 'peoplewatch', 'peoplewho', 'peoria', 'pep', 'pepp', 'peppadew', 'pepper', 'peppercorn', 'pepperi', 'pepperjack', 'peppermil', 'peppermint', 'pepperoni', 'pepperonipizza', 'peppersonion', 'peppi', 'pepporoni', 'pepsi', 'pepto', 'pequeñita', 'percent', 'percentag', 'percept', 'perchas', 'perci', 'percuss', 'perect', 'perfect', 'perfectamount', 'perfectbal', 'perfecti', 'perfectionist', 'perfectli', 'perfectlycook', 'perfekt', 'perfor', 'perform', 'perfum', 'peri', 'peril', 'perio', 'period', 'periodont', 'periodontist', 'periogi', 'peripher', 'perish', 'perk', 'perkin', 'permagrin', 'perman', 'permeat', 'permit', 'permut', 'pernil', 'pero', 'perogi', 'peroni', 'perperson', 'perpetu', 'perplex', 'perri', 'persever', 'persian', 'persist', 'person', 'personalbl', 'personalfavorit', 'personali', 'personen', 'personn', 'personnel', 'personwho', 'perspect', 'persuad', 'persuas', 'persönlich', 'pertain', 'pertin', 'perus', 'peruvian', 'pescado', 'pescetarian', 'peski', 'pest', 'pesto', 'pet', 'petal', 'petcardca', 'petco', 'pete', 'peter', 'petit', 'petoncl', 'petsmart', 'peu', 'peut', 'peuvent', 'peux', 'pew', 'peyot', 'peyton', 'pf', 'pft', 'pg13', 'pgh', 'ph', 'phaedra', 'pham', 'pharmaci', 'pharmacist', 'phat', 'pheasant', 'phelp', 'phen', 'phenomen', 'phenomenon', 'phenomin', 'phew', 'phil', 'philidelphia', 'philippin', 'philli', 'philosophi', 'pho', 'phoenix', 'phoenixarea', 'phone', 'phoneat', 'phonecal', 'phonegreat', 'phonenumb', 'photo', 'photogen', 'photograph', 'photographi', 'phrase', 'phunnel', 'phx', 'phyical', 'physic', 'physician', 'physiotherapist', 'physiqu', 'phó', 'phö', 'pianist', 'piano', 'pibil', 'pic', 'pica', 'picadillo', 'picant', 'picasso', 'picatta', 'pichet', 'pici', 'pick', 'pickford', 'picki', 'pickin', 'pickl', 'pickup', 'pickyeat', 'picnic', 'pico', 'pictur', 'pie', 'piec', 'pieceof', 'piemontes', 'pieolog', 'piepasti', 'pier', 'pierc', 'piercer', 'pierna', 'pierogi', 'pierr', 'pieuvr', 'piffl', 'pig', 'pigeon', 'piggi', 'pignoli', 'pignolli', 'pika', 'pike', 'pilar', 'pilat', 'pile', 'pill', 'pillar', 'pillow', 'pillowi', 'pilot', 'pilsner', 'pimento', 'pimentochees', 'pimiento', 'pimm', 'pimp', 'pimpin', 'pimpl', 'pimpli', 'pimpn', 'pin', 'pina', 'pinbal', 'pinceau', 'pinch', 'pine', 'pineappl', 'pineappley', 'pinett', 'pinevil', 'ping', 'pingu', 'pinienkernen', 'pink', 'pinkberri', 'pinki', 'pinot', 'pinpoint', 'pint', 'pioneer', 'pip', 'pipe', 'piper', 'piphot', 'pipin', 'pirat', 'piri', 'piss', 'pist', 'pistachio', 'pistol', 'pit', 'pita', 'pitbul', 'pitch', 'pitcher', 'piti', 'pitt', 'pittsburgh', 'pittsburghpennsylvaniahtml', 'pittsburghphiladelphia', 'pivot', 'pixel', 'pixelat', 'pizza', 'pizzaiolo', 'pizzajoint', 'pizzavil', 'pizzeria', 'piña', 'pkw', 'place', 'placebo', 'placement', 'placesit', 'plagu', 'plaid', 'plain', 'plainli', 'plais', 'plaisant', 'plaisir', 'plan', 'planahead', 'plancha', 'plane', 'planet', 'planetarium', 'plank', 'planner', 'plant', 'planta', 'plantain', 'planter', 'plaqu', 'plaster', 'plastic', 'plasticki', 'plat', 'plate', 'plateau', 'platingdecorwhipp', 'platinum', 'plato', 'platter', 'platz', 'plavac', 'play', 'playa', 'player', 'playground', 'playin', 'playlist', 'playoff', 'playstat', 'plaza', 'pleaaas', 'plead', 'pleas', 'pleasant', 'pleasantli', 'pleasantlysurpris', 'pleasantri', 'pleasedwith', 'pleasent', 'pleaser', 'pleasur', 'pleather', 'plein', 'plenti', 'plentyof', 'plethora', 'plllt', 'pllt', 'plop', 'plot', 'plotless', 'ploy', 'plu', 'pluck', 'plug', 'plum', 'plumb', 'plumber', 'plummet', 'plump', 'plung', 'plupart', 'pluse', 'plush', 'plusher', 'plusieur', 'plutôt', 'pläne', 'pm', 'pnc', 'po', 'poach', 'poblano', 'poboy', 'pocket', 'pocki', 'pod', 'podium', 'podunk', 'poet', 'poetic', 'pog', 'poid', 'point', 'pointer', 'pointless', 'poison', 'poisson', 'poitin', 'poke', 'pokemon', 'poker', 'pokey', 'poki', 'poké', 'polar', 'pole', 'polenta', 'polic', 'polici', 'polish', 'polit', 'politi', 'polk', 'pollo', 'pollut', 'polo', 'pomegran', 'pomeranian', 'pomm', 'pomodoro', 'pomplett', 'pompou', 'poncho', 'pond', 'ponder', 'pong', 'poni', 'ponytail', 'ponzu', 'poo', 'poof', 'pool', 'poolsid', 'poolspa', 'pooltabl', 'poop', 'poor', 'poorcustomerservic', 'poorli', 'poorqual', 'pop', 'popcorn', 'pope', 'popey', 'popo', 'popper', 'poppi', 'poppin', 'popsicl', 'popul', 'populair', 'popular', 'popup', 'porc', 'porcelain', 'porcetta', 'porch', 'porchetta', 'porcini', 'pore', 'pork', 'porkbeef', 'porkbelli', 'porkchicken', 'porkchop', 'porki', 'porktropoli', 'porsch', 'port', 'portabella', 'portabl', 'portehous', 'porter', 'porterhous', 'portfolio', 'portifino', 'portion', 'portionen', 'portions', 'portionsgerecht', 'portlandia', 'portobello', 'portrait', 'portraitur', 'portug', 'portugai', 'portugais', 'pose', 'posesform', 'posh', 'posit', 'positif', 'positiv', 'possess', 'possibilité', 'possibl', 'post', 'postal', 'postcard', 'poster', 'posthum', 'postino', 'postmat', 'postoffic', 'postur', 'pot', 'potabl', 'potag', 'potato', 'potatofri', 'potatosalad', 'potbelli', 'potenc', 'potent', 'potenti', 'potion', 'potiron', 'potspansutensil', 'potstick', 'potter', 'potteri', 'pouchong', 'pouf', 'poul', 'poulet', 'poultri', 'pounc', 'pound', 'pounder', 'pour', 'pouralway', 'pourboir', 'pourrai', 'pourtant', 'poutin', 'pouvez', 'pow', 'powder', 'powderi', 'power', 'pozol', 'pp', 'pph', 'ppl', 'ppo', 'pr', 'practic', 'praction', 'practition', 'prada', 'prairi', 'prais', 'pralin', 'prawn', 'pray', 'prayer', 'pre', 'preach', 'preambl', 'precaut', 'prece', 'preced', 'precheck', 'preciou', 'precis', 'preconc', 'preconceiv', 'precursor', 'predict', 'predisposit', 'predominantli', 'prefac', 'prefect', 'prefer', 'preggo', 'pregnant', 'prei', 'preis', 'preisen', 'prejud', 'prejudic', 'preliminari', 'premad', 'premak', 'premier', 'premis', 'premium', 'premiumjumbo', 'premièr', 'prendr', 'preorder', 'prep', 'prepackag', 'prepaid', 'prepar', 'prepay', 'prepp', 'prepurcha', 'prerequisit', 'presal', 'prescipt', 'prescott', 'prescrib', 'prescript', 'presenc', 'present', 'preserv', 'presid', 'presidenti', 'presqu', 'press', 'pressur', 'presum', 'pretenc', 'pretend', 'pretenti', 'pretentiousexpens', 'pretti', 'prettti', 'prettycool', 'prettydarn', 'prettydec', 'prettygood', 'prettymuch', 'prettyquickli', 'prettysur', 'pretzel', 'prevail', 'preval', 'prevent', 'preview', 'previou', 'previous', 'prey', 'prezel', 'pri', 'price', 'priceno', 'pricerang', 'pricesopt', 'pricetag', 'pricevalu', 'pricey', 'prichard', 'prici', 'prickli', 'pride', 'prik', 'primanti', 'primari', 'primarili', 'prime', 'primerib', 'primp', 'princ', 'princess', 'princip', 'principal', 'principaux', 'principl', 'print', 'printabl', 'printer', 'prior', 'prioriti', 'prison', 'prisonslashga', 'prisscella', 'pristin', 'pristiney', 'priu', 'privaci', 'privat', 'privi', 'privileg', 'prix', 'prixfix', 'prize', 'pro', 'proactiv', 'prob', 'probabki', 'probabl', 'probat', 'probezeit', 'probieren', 'probiert', 'problem', 'problemat', 'problemo', 'procedur', 'proceed', 'process', 'prochain', 'proclaim', 'procuitto', 'produc', 'product', 'produit', 'produkt', 'profesion', 'profess', 'profession', 'professor', 'proffession', 'profici', 'profil', 'profit', 'profound', 'prognosi', 'program', 'programm', 'progress', 'prohibit', 'project', 'prolog', 'prolong', 'promenad', 'promin', 'promis', 'promo', 'promot', 'prompt', 'promptli', 'pron', 'pronounc', 'proof', 'prop', 'propaganda', 'proper', 'properli', 'properti', 'propo', 'proporcionaron', 'proport', 'propos', 'propr', 'proprietari', 'proprietor', 'propriétair', 'prosciutto', 'prosecco', 'prospect', 'prosthet', 'protect', 'protector', 'protein', 'protest', 'protip', 'protocol', 'prototyp', 'proud', 'proudli', 'proustian', 'prove', 'proven', 'proverbi', 'provid', 'provolon', 'proxim', 'prpare', 'prude', 'prè', 'précédent', 'préparé', 'présent', 'présentat', 'prête', 'prívate', 'ps', 'ps1', 'ps2', 'ps3', 'psa', 'pssi', 'psych', 'psycho', 'psychot', 'pt', 'pterodactyl', 'ptsd', 'pu', 'pub', 'public', 'publican', 'publicli', 'publikum', 'publiqu', 'publish', 'pubrestaur', 'puck', 'puckn', 'pud', 'puddl', 'puebla', 'pueyo', 'puff', 'pug', 'puisqu', 'puke', 'pull', 'pulley', 'pullpork', 'pullporksandwich', 'pullup', 'puls', 'pumbaa', 'pumic', 'pump', 'pumpkin', 'pun', 'punch', 'punctual', 'pungent', 'punish', 'punk', 'punni', 'punta', 'pup', 'pupcak', 'puppet', 'puppetri', 'puppi', 'purchas', 'purchaseleas', 'pure', 'purgatori', 'puri', 'purifi', 'purist', 'purpl', 'purpos', 'purs', 'pursebag', 'puré', 'push', 'pushi', 'puss', 'pussi', 'pussycat', 'put', 'putin', 'puzzl', 'pv', 'pvbc', 'pvc', 'pyramid', 'python', 'pzazz', 'pâte', 'pâtisserieboulangeri', 'på', 'q', 'qdoba', 'qe', 'qm', 'qoola', 'qpr', 'qu', 'quad', 'quail', 'quaint', 'quaker', 'qualif', 'qualifi', 'qualit', 'qualiti', 'qualität', 'qualité', 'qualm', 'quand', 'quantit', 'quantiti', 'quantityqu', 'quantité', 'quarrel', 'quart', 'quarter', 'quarterback', 'quarterli', 'quartier', 'quay', 'que', 'queasi', 'quebec', 'queen', 'queenstreetwest', 'queer', 'quel', 'quell', 'quelqu', 'quelquun', 'quentchen', 'queri', 'quesadilla', 'queso', 'quest', 'question', 'questionnair', 'questionsconcern', 'queue', 'qui', 'quibbl', 'quich', 'quick', 'quickbit', 'quicker', 'quickli', 'quicktrip', 'quiet', 'quieter', 'quietli', 'quik', 'quiktrip', 'quil', 'quilt', 'quilti', 'quinc', 'quinoa', 'quinta', 'quintet', 'quip', 'quirki', 'quit', 'quiteposs', 'quitter', 'quitté', 'quiver', 'quiz', 'quizno', 'quizzic', 'quoi', 'quon', 'quot', 'quun', 'québécoi', 'r', 'r1', 'r3hab', 'r9', 'ra', 'rabbit', 'race', 'rachel', 'racial', 'racism', 'racist', 'rack', 'racket', 'rad', 'radar', 'radianc', 'radiant', 'radiat', 'radient', 'radio', 'radioact', 'radioalarm', 'radish', 'radisson', 'radiu', 'radler', 'rafael', 'raffl', 'rafiki', 'rafraîchiss', 'rafter', 'rag', 'rage', 'ragoon', 'ragout', 'ragret', 'rai', 'raid', 'raider', 'rail', 'railfan', 'railroad', 'rain', 'raina', 'rainbow', 'rainbowrol', 'raini', 'rais', 'raison', 'raisonn', 'raj', 'raja', 'rajin', 'raku', 'ralli', 'ram', 'rama', 'raman', 'rambl', 'rambuncti', 'ramekin', 'ramen', 'ramif', 'ramona', 'ramp', 'rampant', 'ramsay', 'ramsey', 'ranch', 'ranchero', 'rancho', 'rancid', 'randi', 'random', 'randomli', 'rang', 'rangefrom', 'ranger', 'rangoon', 'rania', 'rank', 'rant', 'rao', 'rap', 'rapid', 'rapidité', 'rapidli', 'rapido', 'rappel', 'rar', 'rare', 'rariti', 'rasberri', 'rash', 'rasher', 'raspberri', 'rasputin', 'rat', 'ratatouil', 'rate', 'ratherthan', 'ratio', 'ration', 'rattl', 'rattler', 'rattlesnak', 'rau', 'raunchi', 'ravag', 'rave', 'raveabout', 'raven', 'ravereview', 'ravioli', 'raw', 'rawbar', 'rawfish', 'rawker', 'ray', 'raymond', 'raysconsult', 'raze', 'razor', 'rb', 'rc', 'rd', 'rdx', 're', 'reach', 'reacquaint', 'react', 'reaction', 'reactionari', 'reactiv', 'reactor', 'read', 'reader', 'readi', 'readili', 'readjust', 'real', 'realest', 'realign', 'realis', 'realist', 'realiti', 'realiz', 'reallyappreci', 'reallycareabout', 'reallycool', 'reallyenjoy', 'reallyy', 'realm', 'realment', 'realtor', 'ream', 'rear', 'reason', 'reasonablepric', 'reasonablypric', 'reasonwhi', 'reassess', 'reassur', 'reattach', 'rebat', 'rebecca', 'rebel', 'rebellion', 'rebook', 'reboot', 'rebouchon', 'rebuild', 'rec', 'recal', 'reccom', 'reccomend', 'reccommend', 'receipt', 'receiv', 'recent', 'recenti', 'recentlymov', 'recentlypurchas', 'recenttrip', 'recentvisit', 'recept', 'receptacl', 'receptioncocktail', 'receptionist', 'recess', 'recett', 'recharg', 'rechnen', 'recht', 'reciev', 'recip', 'recipi', 'reckon', 'reclin', 'recogn', 'recognis', 'recognit', 'recogniz', 'recoil', 'recollect', 'recomend', 'recommand', 'recommandé', 'recommend', 'recommendthisplac', 'recondit', 'reconnaîtr', 'reconsid', 'recoomend', 'record', 'recov', 'recoveri', 'rectangl', 'rectangular', 'rectif', 'rectifi', 'recumb', 'recycl', 'red', 'redbean', 'redbox', 'redcurri', 'redeem', 'redempt', 'redesign', 'redfish', 'redfork', 'redhead', 'redicul', 'rediscov', 'redo', 'redon', 'redondo', 'redonion', 'redonkul', 'redpath', 'redpepp', 'redsauc', 'reduc', 'reduct', 'redund', 'redvelvet', 'reef', 'reek', 'reel', 'refer', 'referr', 'refil', 'refin', 'refir', 'reflect', 'reflexolog', 'reform', 'refresh', 'refreshingli', 'refri', 'refriger', 'refrigeratedfrozen', 'refuel', 'refuge', 'refund', 'refurbish', 'refus', 'regal', 'regard', 'regardless', 'regatoni', 'regatta', 'regelmäßig', 'regenc', 'regent', 'regim', 'region', 'regist', 'registr', 'regret', 'regretton', 'regular', 'regularcustom', 'regularli', 'rehab', 'rehears', 'reheat', 'rehgoulasch', 'rei', 'reimburs', 'rein', 'reinforc', 'reinigung', 'reinlichkeit', 'reinvent', 'reisblatt', 'reisl', 'reiter', 'reject', 'rejoic', 'rejuven', 'rekey', 'rel', 'relat', 'relationship', 'relax', 'relaxedatmospher', 'relaxingdin', 'relay', 'releas', 'relev', 'reli', 'reliabl', 'relic', 'relief', 'reliev', 'religi', 'religion', 'relinquish', 'rellano', 'relleno', 'reloc', 'reluct', 'reluctantli', 'remad', 'remain', 'remaind', 'remak', 'remark', 'rematch', 'remedi', 'rememb', 'remembr', 'remi', 'remind', 'reminisc', 'remiss', 'remnant', 'remo', 'remodel', 'remon', 'remot', 'remov', 'removaltrimm', 'rempli', 'renam', 'renaud', 'rendang', 'render', 'rendezv', 'rendit', 'rendr', 'renew', 'reno', 'renov', 'renoviert', 'rent', 'rental', 'rentalcar', 'rentr', 'reoccurr', 'reopen', 'rep', 'repa', 'repaint', 'repair', 'repairinstal', 'repar', 'repeat', 'repeatedli', 'repel', 'repetit', 'replac', 'replay', 'replenish', 'repli', 'report', 'report2013jun25it', 'reportedli', 'reposado', 'repres', 'represent', 'reprint', 'reproduc', 'reproduct', 'reprogram', 'reptil', 'republ', 'repuls', 'repurchas', 'reput', 'request', 'requir', 'rescann', 'reschedul', 'rescu', 'research', 'resembl', 'resent', 'reserv', 'reserven', 'reserviert', 'reset', 'reshap', 'resid', 'residenti', 'residu', 'resign', 'resignol', 'resist', 'resiz', 'reso', 'resolut', 'resolv', 'resort', 'resortfe', 'resourc', 'respect', 'respekt', 'respit', 'respond', 'respondfix', 'respons', 'ressembl', 'rest', 'restait', 'restak', 'restat', 'restaur', 'restaurantcom', 'restaurantscom', 'restaurantsmarket', 'restcom', 'resteraunt', 'resto', 'restoboutiqu', 'restock', 'restockfe', 'restof', 'restoqui', 'restor', 'restrain', 'restraint', 'restrauant', 'restraunt', 'restrict', 'restroom', 'restructur', 'restuar', 'restur', 'resturaun', 'result', 'resum', 'resurfx', 'resurrect', 'retail', 'retailmenotcom', 'retain', 'retard', 'retent', 'rethink', 'retir', 'retire', 'retournerai', 'retourneron', 'retourné', 'retrain', 'retreat', 'retriev', 'retro', 'return', 'reuben', 'reunion', 'reus', 'revamp', 'revampedrestyl', 'reve', 'reveal', 'revenir', 'revenu', 'revers', 'revert', 'review', 'reviewonyelp', 'revis', 'revisit', 'reviv', 'revolt', 'revolut', 'revu', 'rew', 'reward', 'rex', 'reyan', 'reçu', 'rf', 'rhe', 'rhey', 'rhonda', 'rhubarb', 'rib', 'ribbon', 'ribey', 'ric', 'rice', 'ricenoodl', 'ricesalad', 'rich', 'richard', 'richardson', 'richli', 'richman', 'richmond', 'richtig', 'rick', 'ricki', 'ricotta', 'rid', 'riddanc', 'ride', 'ridg', 'ridick', 'ridicul', 'riecht', 'rien', 'riesigen', 'riesl', 'rifl', 'rigatoni', 'right', 'rightacross', 'rightamount', 'rightamountof', 'rightaway', 'rightli', 'rightnext', 'rightnow', 'rigor', 'riley', 'rim', 'ring', 'ringer', 'rins', 'rio', 'riot', 'rip', 'ripoff', 'rise', 'riser', 'risk', 'riski', 'risotto', 'risqué', 'rissotto', 'rita', 'ritaspric', 'ritchi', 'rite', 'ritual', 'ritz', 'riva', 'rival', 'river', 'riverview', 'riz', 'rj', 'rm3', 'rn', 'roa', 'roach', 'road', 'roadhous', 'roadway', 'roam', 'roar', 'roast', 'roaster', 'rob', 'robberi', 'robbin', 'robe', 'robert', 'roberto', 'robertosfaustosamigo', 'robin', 'robitussin', 'robot', 'robuchon', 'robust', 'rocher', 'rock', 'rockbar', 'rocker', 'rocket', 'rocki', 'rockin', 'rocksaaasalut', 'rockstar', 'rockwel', 'rodeo', 'rodi', 'rodney', 'roe', 'roeder', 'rogan', 'roger', 'rogu', 'roh', 'rojan', 'rojo', 'roku', 'rol', 'role', 'rolex', 'roll', 'rollaway', 'roller', 'rollerbal', 'rollercoast', 'rollin', 'rolodex', 'rom', 'roma', 'romain', 'romanc', 'romano', 'romant', 'romantisch', 'rome', 'romeo', 'romero', 'romesco', 'romp', 'ron', 'roncesval', 'ronceval', 'rondinon', 'ronni', 'roof', 'rooftop', 'rooki', 'room', 'roomi', 'roommat', 'roompittsburgh', 'rooney', 'roosevelt', 'root', 'rootcan', 'ropa', 'rope', 'ropelead', 'rosa', 'rosati', 'rosbif', 'rose', 'rosemari', 'rosewat', 'rosewood', 'ross', 'rostbraten', 'rosé', 'rot', 'rotat', 'roten', 'roter', 'rothelisberg', 'roti', 'rotisseri', 'rotor', 'rotten', 'rottiseri', 'rottweil', 'roug', 'rough', 'roughli', 'roulett', 'round', 'rout', 'router', 'routin', 'routingacct', 'row', 'rowdi', 'roxburgh', 'roxburi', 'roxi', 'roy', 'royal', 'royal20milesourc', 'royalmilecom2fei', 'royalti', 'rsvp', 'rt', 'rta', 'rub', 'rubber', 'rubberi', 'rubbish', 'ruben', 'rubi', 'rubin', 'rubio', 'ruckess', 'rucku', 'rucola', 'rude', 'ruder', 'rudest', 'rudi', 'rue', 'rueban', 'rueben', 'rug', 'rugbi', 'rugelach', 'rugelah', 'ruin', 'rule', 'rum', 'rumbi', 'rumbl', 'rumgucken', 'run', 'runaround', 'rundown', 'rung', 'runlat', 'runner', 'runni', 'runsown', 'ruptur', 'rural', 'rusan', 'rush', 'rushi', 'russel', 'russian', 'rust', 'rusti', 'rustic', 'rutabaga', 'rutger', 'ruth', 'ruthless', 'ruuuuuuuuud', 'rv', 'rw', 'rx', 'ryan', 'rye', 'ryu', 'râpé', 'räume', 'räumlichkeit', 'räumlichkeiten', 'règle', 'réalis', 'réchauff', 'réellement', 'régal', 'régalé', 'réputat', 'réserver', 'réservé', 'réussi', 'rêve', 's3', 'sa', 'saag', 'saal', 'saba', 'sabol', 'sacco', 'sach', 'sacr', 'sacrific', 'sad', 'sadden', 'saddl', 'sadli', 'safari', 'safe', 'safeti', 'safeway', 'saffron', 'saga', 'sage', 'sagen', 'saggi', 'sago', 'saguaro', 'sah', 'sahara', 'sai', 'said', 'saigon', 'sail', 'sailor', 'saimen', 'saimin', 'saint', 'saison', 'sak', 'sakana', 'sake', 'saki', 'sakura', 'sala', 'salad', 'saladbar', 'saladcheeseol', 'saladddddd', 'saladmiso', 'saladsoupdessert', 'sale', 'saleperson', 'salesman', 'salesmanship', 'salesmembership', 'salespeopl', 'salesperson', 'saleswoman', 'saliv', 'saliva', 'sall', 'salli', 'salmon', 'salmonella', 'salmonprawn', 'salon', 'salonspa', 'saloon', 'salsa', 'salsabar', 'salsatop', 'salt', 'saltcaramel', 'salti', 'saltieregg', 'saltseason', 'saltwat', 'salut', 'salvag', 'salé', 'sam', 'sambalatt', 'sameday', 'samedi', 'sameth', 'sammi', 'sammich', 'samo', 'samoan', 'samosa', 'sampl', 'sampler', 'samstag', 'samuel', 'san', 'sand', 'sandal', 'sandi', 'sandia', 'sandiego', 'sando', 'sandwhich', 'sandwich', 'sandwichesdonut', 'sandwicheswrap', 'sandwichtortilla', 'sanfrancisco', 'sanfratello', 'sangria', 'sangrita', 'sangweeech', 'sanit', 'sanitari', 'saniti', 'sansotei', 'santa', 'santisma', 'santosuosso', 'santouka', 'santucci', 'sapphir', 'sappi', 'sapporo', 'saq', 'sara', 'sarafino', 'sarah', 'saran', 'sarcast', 'sardin', 'sargent', 'sashimi', 'sasquatch', 'sassi', 'sat', 'satay', 'sate', 'satiat', 'satifi', 'satin', 'satini', 'satisfact', 'satisfactori', 'satisfi', 'satisfyingli', 'satisifi', 'sato', 'satt', 'sattendait', 'saturday', 'saturdayafternoon', 'saturdaynight', 'saturn', 'sauber', 'sauberkeit', 'sauc', 'sauce1995', 'saucedemi', 'saucefruit', 'saucemix', 'saucepan', 'sauci', 'sauer', 'sauerkraut', 'sauna', 'sauron', 'saus', 'sausag', 'sausagegravi', 'saut', 'saute', 'sauté', 'savannah', 'save', 'saveur', 'savoit', 'savor', 'savori', 'savoriz', 'savoureus', 'savoureux', 'savouri', 'savoy', 'saw', 'sawara', 'sawzal', 'saxophon', 'say', 'saybi', 'sayegh', 'sayer', 'sayin', 'sayonara', 'saysher', 'sb', 'sbarro', 'sbirthday', 'sc', 'scab', 'scale', 'scalemodifi', 'scallap', 'scallion', 'scallop', 'scaloppin', 'scaloppini', 'scalp', 'scam', 'scamm', 'scammer', 'scamorza', 'scampi', 'scan', 'scandal', 'scandalisé', 'scandinavia', 'scant', 'scantili', 'scar', 'scarborough', 'scarc', 'scare', 'scaredi', 'scarf', 'scarfag', 'scari', 'scarpa', 'scarpetta', 'scatter', 'scenario', 'scene', 'scenehardcoremet', 'sceneri', 'scenic', 'scent', 'scepter', 'schade', 'schedul', 'scheib', 'schemat', 'scheme', 'scher', 'schick', 'schief', 'schiefgehen', 'schiester', 'schlaf', 'schlecht', 'schlicht', 'schließlich', 'schloemp', 'schluss', 'schmecken', 'schmeckt', 'schmeckten', 'schmitt', 'schnell', 'schnitzel', 'schon', 'schonmal', 'school', 'schooler', 'schreiner', 'schuba', 'schuman', 'schwanger', 'schwarma', 'schwestergeschäft', 'schwäbisch', 'schön', 'schöne', 'schönen', 'schönere', 'sci', 'scialatielli', 'scienc', 'scientif', 'scissor', 'scoff', 'scold', 'scone', 'scoop', 'scooper', 'scoot', 'scooter', 'scope', 'scorch', 'score', 'scoreboard', 'scorpion', 'scotch', 'scotland', 'scott', 'scottish', 'scottish20cannonsourc', 'scottish20honourssourc', 'scottsdal', 'scottsdalechandl', 'scour', 'scout', 'scovil', 'scrambl', 'scrambleegg', 'scrap', 'scrape', 'scraper', 'scratch', 'scratchi', 'scream', 'screamshriek', 'screech', 'screen', 'screen20', 'screenshot', 'screentv', 'screw', 'screwdriv', 'screwup', 'scribe', 'script', 'scroll', 'scroung', 'scrub', 'scruffi', 'scrum', 'scrumptiou', 'scrutini', 'scuff', 'sd', 'se', 'sea', 'seabass', 'seablu', 'seafood', 'seafooddim', 'seal', 'seali', 'seam', 'seamless', 'sean', 'sear', 'search', 'searsuck', 'seasalt', 'season', 'seat', 'seatimmedi', 'seatingit', 'seatrightaway', 'seattl', 'seawe', 'seaweedsalad', 'sec', 'seclud', 'second', 'secondfloor', 'secondli', 'secondtim', 'secondvisit', 'secret', 'secretari', 'secretpizza', 'section', 'sectionfirst', 'secur', 'sedari', 'sedat', 'seed', 'seedhummu', 'seedi', 'seeet', 'seehow', 'seek', 'seeker', 'seemingli', 'seemlik', 'seg', 'sega', 'segment', 'sehr', 'sei', 'sein', 'seinem', 'seinen', 'seit', 'seitan', 'seiz', 'sel', 'selber', 'selbst', 'selbstverständlich', 'select', 'self', 'selfi', 'selfserv', 'sell', 'seller', 'selpoivr', 'selten', 'seltsamst', 'selwyn', 'semain', 'semana', 'semani', 'semant', 'sembl', 'semi', 'seminar', 'semolina', 'sen', 'send', 'senior', 'senor', 'sens', 'sensat', 'sensei', 'sensi', 'sensibl', 'sensit', 'sensor', 'sensori', 'sensual', 'sentenc', 'sentiment', 'seo', 'seoul', 'separ', 'seper', 'sephora', 'sept', 'septemb', 'septum', 'sequenti', 'serait', 'seren', 'serena', 'seri', 'serious', 'serpentin', 'serrano', 'serum', 'serv', 'server', 'serverhost', 'serversservic', 'serveur', 'serveus', 'servi', 'servic', 'serviceclean', 'servicelousi', 'serviceman', 'servicet', 'servicetribut', 'servicio', 'servieren', 'serviert', 'sesam', 'sesamese', 'session', 'sest', 'set', 'setback', 'settebello', 'settl', 'setup', 'setzten', 'seul', 'seven', 'sever', 'severaltim', 'sevic', 'sevich', 'sevil', 'sew', 'sewag', 'sewer', 'sex', 'sexi', 'sexual', 'sf', 'sfo', 'shabbi', 'shabu', 'shack', 'shad', 'shade', 'shadi', 'shadow', 'shadysid', 'shag', 'shahi', 'shak', 'shake', 'shaker', 'shakespear', 'shali', 'shall', 'shallot', 'shallow', 'shame', 'shampoo', 'shana', 'shane', 'shanghai', 'shank', 'shannon', 'shape', 'shapm', 'sharabl', 'share', 'shareabl', 'sharedtapa', 'shark', 'sharma', 'sharon', 'sharp', 'sharwarma', 'shashimi', 'shasta', 'shatter', 'shave', 'shaven', 'shawarma', 'shawerma', 'shawn', 'shchnitzel', 'shea', 'shear', 'shed', 'sheen', 'sheer', 'sheesh', 'sheet', 'shelf', 'shell', 'shellac', 'shelley', 'shelli', 'shelter', 'shenanigan', 'shepard', 'shepherd', 'sheppard', 'sherbet', 'sheridan', 'sheris', 'sherman', 'sherri', 'shhhh', 'shi', 'shield', 'shiflet', 'shift', 'shih', 'shiitak', 'shimmi', 'shin', 'shine', 'shini', 'shinto', 'shio', 'ship', 'shirazi', 'shire', 'shirley', 'shirmp', 'shirt', 'shirtless', 'shirtyoung', 'shish', 'shisha', 'shishito', 'shit', 'shitak', 'shitti', 'shiu', 'shiznit', 'shizz', 'shlep', 'sho', 'shock', 'shockingli', 'shoddi', 'shoe', 'shoesbagsaccessori', 'shoestr', 'shoo', 'shoot', 'shooter', 'shop', 'shopabl', 'shopbakeri', 'shopcoffe', 'shopper', 'shoppingcent', 'shopton', 'shore', 'short', 'shortag', 'shortbread', 'shortchang', 'shorten', 'shortli', 'shortlist', 'shortlyaft', 'shortrib', 'shot', 'shoulda', 'shoulder', 'shout', 'shouter', 'shoutout', 'shove', 'shovel', 'show', 'showca', 'showcas', 'showclair', 'shower', 'showerhead', 'showertub', 'showroom', 'showup', 'shoyu', 'shred', 'shreddedbeef', 'shredder', 'shrimp', 'shrimpeggl', 'shrimptaco', 'shrine', 'shroom', 'shroomin', 'shrub', 'shrug', 'sht', 'shu', 'shuck', 'shudder', 'shuffl', 'shuffleboard', 'shugarman', 'shultz', 'shumai', 'shut', 'shutdown', 'shutoff', 'shutterfli', 'shuttl', 'shwarmer', 'si', 'siam', 'siaxzz2yurbjroy', 'siberian', 'sibl', 'sich', 'sicherheit', 'sicherlich', 'sichuan', 'sicili', 'sicilian', 'siciliana', 'sick', 'sickli', 'side', 'sidedish', 'sidelin', 'sidenot', 'sider', 'sidewalk', 'sie', 'siegel', 'sierra', 'sig', 'sigh', 'sight', 'sign', 'signag', 'signal', 'signatur', 'signer', 'signific', 'significantli', 'signup', 'sil', 'silenc', 'silghtli', 'silk', 'silki', 'sill', 'silli', 'silver', 'silverst', 'silverwar', 'silvia', 'sim', 'simba', 'simi', 'similar', 'similarli', 'simmer', 'simmon', 'simon', 'simpl', 'simplement', 'simpli', 'simplic', 'simplist', 'simul', 'simultan', 'sin', 'sinagang', 'sinbad', 'sincer', 'sind', 'sindelfingen', 'sine', 'sinewi', 'sing', 'singapor', 'singaporean', 'singer', 'singerssongwrit', 'singl', 'sink', 'sinkvan', 'sinn', 'sinon', 'sinstal', 'sinu', 'sip', 'sir', 'sire', 'siren', 'siriachi', 'sirloin', 'sister', 'sit', 'sitat', 'sitdown', 'site', 'sitoutsid', 'sitronterten', 'sitt', 'sitter', 'situat', 'situé', 'sitzplätz', 'siu', 'sixteenth', 'sixth', 'sizabl', 'size', 'sizedport', 'sizefeel', 'sizzl', 'sj', 'skate', 'skateboard', 'skee', 'skeleton', 'skeptic', 'sketch', 'sketcher', 'sketchi', 'skew', 'skewer', 'skill', 'skillcustom', 'skillet', 'skim', 'skimp', 'skimpi', 'skin', 'skincar', 'skinni', 'skinnydip', 'skinnyfat', 'skintuit', 'skip', 'skirt', 'skool', 'skull', 'sky', 'skylin', 'skyrocket', 'sl', 'slab', 'slack', 'slaint', 'slam', 'slant', 'slap', 'slat', 'slate', 'slather', 'slaughter', 'slaveri', 'slavic', 'slaw', 'sleaz', 'sleazi', 'sleek', 'sleeker', 'sleeman', 'sleep', 'sleeper', 'sleepov', 'sleuth', 'slice', 'slicer', 'sliceslava', 'slide', 'slider', 'slideshow', 'slight', 'slightli', 'slim', 'slimi', 'sling', 'slip', 'slipper', 'slipperi', 'sliver', 'sloan', 'slooooooow', 'sloooooow', 'sloooow', 'slop', 'sloppi', 'slot', 'slow', 'slower', 'slowest', 'slowli', 'slowpok', 'slug', 'sluggishli', 'sluggo', 'slump', 'slur', 'slurp', 'slurpe', 'slush', 'slushi', 'slut', 'slutti', 'smack', 'small', 'smallcrowd', 'smaller', 'smallert', 'smallish', 'smallplat', 'smallport', 'smart', 'smartphon', 'smash', 'smashburg', 'smashmouth', 'smear', 'smeek', 'smell', 'smelli', 'smh', 'smile', 'smirk', 'smite', 'smith', 'smithereen', 'smithsonian', 'smogcheck', 'smoke', 'smokemeat', 'smoker', 'smokey', 'smoki', 'smooth', 'smoothi', 'smoothli', 'smore', 'smother', 'smriti', 'smudg', 'smug', 'sn', 'sna', 'snack', 'snafu', 'snag', 'snail', 'snake', 'snakebit', 'snakey', 'snap', 'snapdragon', 'snapper', 'snappi', 'snarki', 'snatch', 'snazzi', 'snd', 'sne', 'sneak', 'sneaker', 'sneaki', 'sneez', 'snicker', 'snide', 'sniff', 'sniffl', 'snip', 'snippeti', 'snippi', 'snitch', 'snob', 'snobberi', 'snobbi', 'snooki', 'snoop', 'snooti', 'snooz', 'snore', 'snot', 'snotti', 'snottili', 'snow', 'snowbird', 'snowflak', 'snowi', 'snuck', 'snuggli', 'soak', 'soap', 'soapi', 'sob', 'soba', 'sobald', 'soban', 'sober', 'socal', 'soccer', 'sociabl', 'social', 'socialit', 'societi', 'sock', 'sod', 'soda', 'sodaicedt', 'sodatea', 'sodium', 'soem', 'soexcit', 'sofa', 'sofar', 'sofern', 'soft', 'softcreami', 'soften', 'softner', 'softserv', 'softshel', 'softshellcrab', 'soggi', 'soglad', 'soho', 'soi', 'soil', 'soir', 'soiré', 'soit', 'soju', 'sol', 'solanti', 'solarium', 'sold', 'soldier', 'sole', 'soleil', 'solemn', 'solicit', 'solid', 'solidifi', 'solidli', 'solitud', 'soll', 'sollt', 'solo', 'solomon', 'solon', 'solut', 'solv', 'som', 'somani', 'somber', 'sombrero', 'somburro', 'somebodi', 'someday', 'someoneels', 'someonewho', 'someplac', 'somereason', 'somersault', 'somesort', 'somesortof', 'somethingdiffer', 'somethingels', 'somewhat', 'somewhereels', 'somm', 'sommeli', 'sommer', 'sommerabend', 'sommerrol', 'somuch', 'somuchfun', 'son', 'sonata', 'sondern', 'song', 'sonic', 'sonni', 'sonntag', 'sonogram', 'sonoma', 'sonoran', 'sonst', 'sont', 'soo', 'soometim', 'soon', 'soona', 'sooner', 'soontofu', 'sooo', 'soooo', 'sooooo', 'soooooo', 'sooooooo', 'soooooooo', 'soooooooooooo', 'soooooooooooooo', 'sooth', 'sophia', 'sophist', 'soprano', 'sopressata', 'sora', 'sorbet', 'sore', 'sorgt', 'soror', 'sorri', 'sort', 'sorta', 'sorti', 'sortof', 'sossaman', 'sot', 'sou', 'souc', 'souffl', 'soufflé', 'soul', 'sound', 'soundlik', 'soundproof', 'soundsystem', 'soup', 'soupi', 'soupsalad', 'sour', 'sourbitt', 'sourc', 'sourcream', 'sourdough', 'souriant', 'sourir', 'soursoup', 'south', 'southbound', 'southend', 'southern', 'southsid', 'southw', 'southwel', 'southwest', 'southwestern', 'souvenir', 'souvent', 'souvlaki', 'sow', 'sowa', 'soweit', 'sowi', 'sox', 'soy', 'soya', 'soysauc', 'soyu', 'soße', 'sp', 'spa', 'spacco', 'space', 'spacey', 'spaci', 'spaciou', 'spade', 'spadina', 'spaet', 'spaghetti', 'spain', 'spam', 'span', 'spanakopita', 'spanakopitaand', 'spandex', 'spaniard', 'spanish', 'spar', 'spare', 'sparerib', 'sparingli', 'spark', 'sparki', 'sparkl', 'sparkli', 'sparrow', 'spars', 'spartan', 'spatzel', 'spayneut', 'spca', 'spd', 'speach', 'speak', 'speakeasi', 'speakenglish', 'speaker', 'spear', 'spearhead', 'spec', 'speci', 'special', 'specialis', 'specialist', 'specializein', 'specialoccas', 'specialti', 'specif', 'specifi', 'speciman', 'speck', 'spectacl', 'spectacular', 'spectrum', 'speech', 'speechless', 'speed', 'speedi', 'speisekamm', 'speisekart', 'spektakulär', 'spell', 'spellcheck', 'spend', 'spendi', 'spew', 'spg', 'sphere', 'spi', 'spic', 'spice', 'spiceheat', 'spicelevel', 'spicer', 'spici', 'spicier', 'spicyi', 'spicytuna', 'spicytunarol', 'spider', 'spiedini', 'spieltischen', 'spike', 'spill', 'spin', 'spinach', 'spinachkal', 'spine', 'spiral', 'spirit', 'spise', 'spit', 'spite', 'spittin', 'splash', 'splatter', 'splenda', 'splendid', 'splendido', 'split', 'splitabl', 'splotchi', 'splurg', 'spoil', 'spoke', 'spoken', 'spong', 'spongi', 'sponsor', 'spontan', 'spoof', 'spooki', 'spoon', 'sport', 'sportbar', 'sportbook', 'sporti', 'sportsbook', 'sportswear', 'spot', 'spotless', 'spotlessli', 'spotti', 'spous', 'spout', 'sprain', 'sprawl', 'spray', 'spread', 'spri', 'sprig', 'spring', 'springfield', 'springhil', 'springrol', 'springsdurango', 'sprinkl', 'sprinkler', 'sprint', 'sprit', 'sprite', 'spritz', 'sprout', 'spruce', 'spud', 'spumoni', 'spur', 'spätesten', 'spätzle', 'spécial', 'spécifiqu', 'spüren', 'sq', 'squad', 'squad702', 'squar', 'squash', 'squat', 'squeak', 'squeaki', 'squeege', 'squeez', 'squid', 'squidgi', 'squirrel', 'squirt', 'squish', 'squishi', 'sriracha', 'sro', 'srp', 'srta', 'ss', 'ssllooww', 'ssr', 'st', 'stabl', 'stacey', 'staci', 'stack', 'stadium', 'staf', 'staff', 'staffgaucho', 'staffmemb', 'stage', 'stagger', 'stain', 'stainless', 'stair', 'staircas', 'stairmast', 'stairway', 'stairwel', 'stake', 'stale', 'stalk', 'stalkerish', 'stall', 'stallion', 'stamina', 'stammkund', 'stamp', 'stamped', 'stamper', 'stancato', 'stand', 'standard', 'standbi', 'standoffish', 'standout', 'stanley', 'stapl', 'stapley', 'star', 'star5', 'starbuck', 'starbuzz', 'starch', 'stare', 'stark', 'starrat', 'starrer', 'start', 'startch', 'starter', 'startl', 'startoff', 'starv', 'starz', 'stash', 'state', 'statelin', 'statement', 'static', 'station', 'stationari', 'stationmeat', 'statist', 'statt', 'statu', 'statut', 'stay', 'stayat', 'stayaway', 'stayawayfrom', 'staycat', 'stayher', 'stayhereagain', 'steadi', 'steadili', 'steak', 'steakburg', 'steakclos', 'steakhous', 'steal', 'steam', 'steamer', 'steami', 'stebi', 'steel', 'steeler', 'steep', 'steepingli', 'steer', 'stefan', 'stehen', 'steht', 'stella', 'stellar', 'stellzeit', 'stem', 'stench', 'stencil', 'step', 'steph', 'stephain', 'stephani', 'stephen', 'stepmoth', 'stereo', 'steril', 'stern', 'sternen', 'steroid', 'stet', 'steve', 'steven', 'stew', 'stewart', 'sth', 'stick', 'sticker', 'sticki', 'stickyric', 'stiegl', 'stiff', 'stigma', 'stilton', 'stimman', 'stimul', 'sting', 'stingi', 'stingray', 'stink', 'stinki', 'stinkin', 'stint', 'stipe', 'stir', 'stirfri', 'stirrer', 'stirrup', 'stitch', 'stix', 'stll', 'stock', 'stockton', 'stockwerk', 'stockyard', 'stodgi', 'stoic', 'stoke', 'stomach', 'stomp', 'stone', 'stonecrest', 'stool', 'stop', 'stopbi', 'stopper', 'storag', 'store', 'storefront', 'stori', 'storm', 'storylin', 'stouffvil', 'stout', 'stove', 'stow', 'stoßzeiten', 'stracci', 'strada', 'strahlt', 'straight', 'straightaway', 'straighten', 'straightforward', 'strain', 'strainer', 'strand', 'strang', 'stranger', 'strap', 'strateg', 'strategi', 'stratospher', 'stratum', 'straw', 'strawberri', 'strawberrybanana', 'strawberryish', 'stray', 'strayhorn', 'streak', 'streaki', 'stream', 'streamlin', 'street', 'streetcar', 'streetshak', 'strength', 'stress', 'stretch', 'stretchi', 'streusel', 'strew', 'strickli', 'strictli', 'stride', 'strike', 'strikingli', 'string', 'stringi', 'strip', 'stripe', 'stripjidori', 'striploin', 'stripmal', 'stripper', 'stripsteak', 'strive', 'stroganoff', 'stroll', 'stroller', 'stromboli', 'strong', 'strongli', 'structur', 'struggl', 'strukturiert', 'strut', 'stuart', 'stub', 'stubborn', 'stuck', 'stud', 'student', 'studentenhotel', 'studenti', 'studentyoung', 'studi', 'studio', 'studioaufbau', 'stuf', 'stuff', 'stuffi', 'stuffysnooti', 'stumbl', 'stumbleupon', 'stump', 'stun', 'stund', 'stunden', 'stupid', 'stupidli', 'sturdi', 'sturgi', 'stuttgart', 'stwich', 'style', 'stylecutcolor', 'stylish', 'stylishmodern', 'stylist', 'styrofoam', 'ständig', 'stéphani', 'stöbern', 'stückchen', 'su', 'sub', 'subaru', 'subfram', 'subframetrail', 'subject', 'sublim', 'submit', 'subpar', 'subscript', 'subsequ', 'substanc', 'substandard', 'substanti', 'substitut', 'subtl', 'subtract', 'suburb', 'suburban', 'subway', 'subwaybu', 'subwoof', 'succeed', 'success', 'succul', 'succulent', 'succumb', 'succursal', 'succè', 'such', 'sucha', 'sucht', 'suck', 'sucker', 'sucki', 'suckier', 'suckl', 'sucrésalé', 'suction', 'sud', 'sudden', 'suddenli', 'sue', 'suey', 'suffer', 'suffic', 'suffici', 'suffoc', 'sugai', 'sugar', 'sugari', 'sugarlip', 'suggest', 'suggéré', 'sui', 'suicid', 'suit', 'suitabl', 'suitcas', 'suki', 'sum', 'sumayya', 'summar', 'summari', 'summer', 'summerlici', 'summerliciouswinterlici', 'summerlin', 'summertim', 'summit', 'summon', 'sumner', 'sumptuou', 'sun', 'sunbru', 'sunburn', 'sunchain', 'suncoast', 'sunda', 'sunday', 'sundayafternoon', 'sundaybrunch', 'sundaymorn', 'sundaynight', 'sundri', 'sunflow', 'sunglass', 'sunhat', 'sunken', 'sunkiss', 'sunkist', 'sunlight', 'sunni', 'sunnybrook', 'sunroom', 'sunscreen', 'sunset', 'sunshin', 'suntan', 'sup', 'super', 'superb', 'superbowl', 'supercut', 'superexcit', 'superfast', 'superflu', 'superfood', 'superfriendli', 'superhelp', 'superhighway', 'superior', 'supermarket', 'supermarkt', 'supermodel', 'supernic', 'superservic', 'supershuttl', 'superson', 'superstar', 'supervis', 'supervisor', 'superwhit', 'supo', 'supp', 'supper', 'suppl', 'supplement', 'suppli', 'support', 'supportrespect', 'suppos', 'supposedli', 'supposedto', 'suprem', 'supress', 'supri', 'sur', 'surcharg', 'sure', 'surewhi', 'surf', 'surfac', 'surg', 'surgeon', 'surgeri', 'surgic', 'surimi', 'surla', 'surli', 'surpass', 'surpis', 'surplu', 'surpren', 'surpri', 'surpris', 'surpriseand', 'surprisedamu', 'surprisingli', 'surpriz', 'surreal', 'surrend', 'surround', 'surroundbi', 'surtout', 'survey', 'surviv', 'susan', 'sushi', 'sushidim', 'sushirol', 'suspect', 'suspici', 'sustain', 'susten', 'sutl', 'suuuuper', 'suv', 'suya', 'suzi', 'suzieq', 'svar', 'swag', 'swallow', 'swamp', 'swank', 'swanki', 'swanson', 'swap', 'swatch', 'sway', 'swear', 'sweat', 'sweater', 'sweati', 'sweatpant', 'sweatshirt', 'swedish', 'sweep', 'sweet', 'sweetbread', 'sweeten', 'sweeter', 'sweetest', 'sweetheart', 'sweetli', 'sweetner', 'sweetpotato', 'sweetpotatofri', 'sweettangi', 'sweettangysaucythick', 'sweettea', 'sweettooth', 'swell', 'swift', 'swiftli', 'swim', 'swine', 'swing', 'swinger', 'swipe', 'swirl', 'swish', 'swiss', 'swissval', 'switch', 'swmexico', 'swollen', 'swoon', 'swoop', 'sword', 'swordfish', 'sy', 'sylvia', 'symbol', 'sympa', 'sympathi', 'sympathiqu', 'sympatiqu', 'symptom', 'syn', 'sync', 'syndrom', 'synthet', 'syrup', 'syrupi', 'system', 'sze', 'szechuan', 'séoul', 'séparément', 'sétendait', 'sûre', 'sûrement', 'ta', 'tab', 'tabasco', 'tabl', 'tabledecor', 'tablesid', 'tablespoon', 'tablet', 'tabletop', 'taboo', 'tabouleh', 'tabouli', 'tabul', 'tac', 'tack', 'tacki', 'tackl', 'taco', 'tacobel', 'tacotuesday', 'tact', 'tactic', 'tad', 'tag', 'tagblatt', 'tage', 'tagliatel', 'tagliatelli', 'taglin', 'tahini', 'tahiti', 'tahki', 'tai', 'taiko', 'tail', 'taillight', 'tailor', 'taint', 'taiwan', 'taiwanes', 'taj', 'takeadvantageof', 'takeaway', 'takeawayfrom', 'takeawhil', 'takecar', 'takecareof', 'takeforev', 'takeoff', 'takeout', 'takepridein', 'taki', 'takingmak', 'tako', 'takoyaki', 'tal', 'tale', 'talent', 'talk', 'talkabout', 'talker', 'tall', 'tallapia', 'talli', 'tallyho', 'talon', 'tam', 'tamal', 'tamara', 'tamarind', 'tambien', 'tame', 'tammi', 'tan', 'tandoori', 'tang', 'tangi', 'tangibl', 'tangl', 'tangli', 'tank', 'tankstel', 'tant', 'tantal', 'tanto', 'tanya', 'tanzen', 'tao', 'tap', 'tapa', 'tape', 'tapenad', 'taper', 'tapioca', 'tapper', 'taqueria', 'tara', 'taramosalata', 'tard', 'target', 'taro', 'taror', 'tarragon', 'tart', 'tartan', 'tartar', 'tartelett', 'tartin', 'tasca', 'tasha', 'task', 'tast', 'tastebud', 'tasteless', 'tastelik', 'taster', 'tastether', 'tastey', 'tasti', 'tastic', 'tastingmenu', 'tastingsclass', 'tataki', 'tatami', 'tatasti', 'tatertot', 'tato', 'tattoo', 'tau', 'tavarua', 'tavern', 'tavernwhiskey', 'tax', 'taxi', 'tay', 'taylor', 'taz', 'tazer', 'tb', 'tbh', 'tcg', 'td', 'tdot', 'tea', 'teach', 'teacher', 'teal', 'team', 'tear', 'tearoom', 'teas', 'teaser', 'teavana', 'tech', 'techartist', 'techi', 'technic', 'technician', 'techniqu', 'techno', 'technolog', 'tecumseth', 'ted', 'teddi', 'tediou', 'tee', 'teen', 'teenag', 'teeni', 'teeter', 'tega', 'tei', 'teigwaren', 'teil', 'telephon', 'televis', 'telitzanosalata', 'tell', 'tellement', 'teller', 'telur', 'temp', 'tempatur', 'tempeh', 'temper', 'temperatur', 'temperaturen', 'templat', 'temporari', 'tempt', 'temptat', 'tempura', 'tempurped', 'températur', 'tenanc', 'tenant', 'tenaya', 'tend', 'tendenc', 'tender', 'tenderloin', 'tendon', 'tendou', 'tendr', 'tendto', 'tenminut', 'tenner', 'tenni', 'tenpoint5', 'tension', 'tent', 'tentacl', 'teow', 'tepid', 'teppanayaki', 'teppanyaki', 'teppenyaki', 'tequila', 'terass', 'teresa', 'teri', 'teriaki', 'teriyaki', 'term', 'termin', 'terminix', 'terminolog', 'terminé', 'termit', 'terr', 'terra', 'terrac', 'terrain', 'terri', 'terribl', 'terrier', 'terrif', 'terrifi', 'terroni', 'tesfagab', 'test', 'testament', 'testdriv', 'tester', 'testicl', 'tether', 'tetra', 'tetrazzini', 'tetsu', 'teuer', 'teufel', 'teurer', 'teureren', 'teva', 'texa', 'texan', 'texaz', 'texmex', 'text', 'textbook', 'textur', 'tg', 'tgif', 'th', 'tha', 'thaaaat', 'thad', 'thai', 'thaijapanes', 'thailand', 'thairestaur', 'thaitea', 'thali', 'thalia', 'thang', 'thanh', 'thank', 'thankgod', 'thankgood', 'thanksgiv', 'thanmost', 'thao', 'thar', 'that', 'thatbeingsay', 'thatthey', 'thaw', 'thay', 'thayer', 'the20military20tattoosourc', 'theater', 'theaterseat', 'theatr', 'theatric', 'thebuzzkil', 'thee', 'theft', 'theh', 'thehotel', 'theirself', 'themat', 'thembut', 'theme', 'thenofunhotel', 'thenproce', 'theo', 'theori', 'ther', 'therapeut', 'therapi', 'therapist', 'there', 'thereabout', 'theresa', 'thermador', 'thermidor', 'thermostat', 'theseguy', 'thesepeopl', 'thete', 'theyr', 'theyv', 'thi', 'thick', 'thicken', 'thickli', 'thicknoodl', 'thief', 'thigh', 'thin', 'thincrust', 'thing', 'thingabout', 'thingi', 'think', 'thinli', 'thirdli', 'thirdtim', 'thirsti', 'thirti', 'thiscompani', 'thisestablish', 'thisiswhyimfat', 'thisloc', 'thispastweekend', 'thisplac', 'thistl', 'thisworld', 'thit', 'tho', 'thom', 'thoma', 'thomasyn', 'thon', 'thorn', 'thornhil', 'thorough', 'thoroughli', 'thoroughlyenjoy', 'thosewho', 'thou', 'thought', 'thoughtless', 'thousand', 'thr', 'thread', 'threat', 'threaten', 'threediffer', 'threee', 'threestar', 'threetim', 'threshhold', 'threshold', 'thrift', 'thrifti', 'thrill', 'thriller', 'thrive', 'thro', 'throat', 'throne', 'throttl', 'throughli', 'througout', 'throw', 'throwback', 'thru', 'ththat', 'thu', 'thum', 'thumb', 'thumbup', 'thunder', 'thunderstorm', 'thur', 'thursday', 'thursdaynight', 'thursfrisat', 'thyme', 'thyroid', 'thé', 'ti', 'tia', 'tiana', 'tibit', 'tick', 'ticket', 'tickl', 'tid', 'tidbit', 'tide', 'tidi', 'tie', 'tiefgarag', 'tier', 'tiffani', 'tiger', 'tight', 'tighten', 'tightli', 'tiiiiini', 'tijuana', 'tiki', 'tikka', 'tikkamasala', 'til', 'tilapia', 'tile', 'till', 'tilt', 'tim', 'timbit', 'time', 'timefram', 'timeless', 'timelin', 'timelymann', 'timer', 'timeshar', 'timex', 'timhorton', 'timid', 'timidli', 'timon', 'tin', 'tina', 'ting', 'tinga', 'tingl', 'tini', 'tint', 'tip', 'tipper', 'tipsi', 'tipto', 'tiramisu', 'tire', 'tirelessli', 'tiresautomot', 'tiropita', 'tisa', 'tisch', 'tissu', 'tit', 'titil', 'titl', 'tito', 'tix', 'tj', 'tje', 'tk', 'tlc', 'tldr', 'tn', 'toad', 'toast', 'toaster', 'toasti', 'toastpotato', 'tobacco', 'tobi', 'tobpick', 'tochoosefrom', 'tocino', 'tod', 'today', 'todaysea', 'toddi', 'toddler', 'toe', 'toenail', 'toffe', 'tofrom', 'tofu', 'togarashi', 'togeth', 'togo', 'toilet', 'tok', 'tokyo', 'toler', 'toll', 'tollen', 'tolleson', 'toluca', 'tom', 'tomal', 'tomatillo', 'tomato', 'tomatochipotl', 'tomatoey', 'tomatosauc', 'tomber', 'tombston', 'tommi', 'tomo', 'tomohawk', 'tomorrow', 'ton', 'tone', 'toner', 'tong', 'tongu', 'toni', 'tonic', 'tonight', 'tonkatsu', 'tonkontsu', 'tonkosu', 'tonkotsu', 'tonn', 'tonof', 'tonsil', 'tonto', 'tonya', 'toobad', 'toobusi', 'toocrowd', 'tooexpens', 'toofar', 'toofor', 'took', 'tool', 'toolong', 'tooloud', 'toomani', 'toomuch', 'toonot', 'tooooo', 'toosalti', 'toosweet', 'toot', 'tooth', 'toothbrush', 'toothpast', 'toothpick', 'toothsom', 'tootsi', 'top', 'topgolf', 'topic', 'topless', 'topman', 'topnotch', 'topographi', 'topper', 'topshop', 'topshopman', 'torch', 'torchon', 'tori', 'toric', 'torilla', 'tornado', 'toro', 'toronto', 'torontonian', 'torpedo', 'torri', 'torso', 'tort', 'torta', 'tortellini', 'torti', 'tortia', 'tortilla', 'tortois', 'tortur', 'toss', 'tostada', 'tostito', 'toston', 'tot', 'total', 'totallyworth', 'tote', 'totebag', 'totez', 'totsfri', 'totti', 'tou', 'toubouken', 'touch', 'touchscreen', 'tough', 'toujour', 'toum', 'tour', 'tourism', 'tourist', 'touristi', 'tournament', 'tout', 'toutefoi', 'tovisit', 'tow', 'towbin', 'towel', 'towelett', 'tower', 'town', 'towner', 'townhous', 'towni', 'townsley', 'toxic', 'toy', 'toyota', 'tr', 'trace', 'traci', 'track', 'tracker', 'trade', 'trader', 'tradion', 'tradit', 'traditionalfamili', 'traditionnel', 'trafalgar', 'traffic', 'tragu', 'traicy', 'trail', 'trailer', 'train', 'traine', 'trainer', 'trait', 'trajectori', 'tram', 'trama', 'trampl', 'trampolin', 'tran', 'tranc', 'trank', 'tranquil', 'tranquillité', 'transact', 'transcend', 'transfer', 'transform', 'transit', 'transluc', 'transmiss', 'transpar', 'transpir', 'transplant', 'transport', 'trap', 'trapez', 'trash', 'trashi', 'tratar', 'tratment', 'trauma', 'traumat', 'travailleur', 'travel', 'traveloc', 'travelzoo', 'travers', 'travi', 'trax', 'tray', 'trctjq', 'tre', 'treadmil', 'treasur', 'treat', 'treatcar', 'treatment', 'treck', 'tree', 'treehous', 'treffend', 'treffpunkt', 'trek', 'trembl', 'treme', 'tremend', 'tremont', 'trend', 'trendi', 'trendymodern', 'trenn', 'trent', 'trepid', 'treval', 'treviso', 'tri', 'triag', 'trial', 'triangl', 'tribal', 'tribe', 'trick', 'tricki', 'trickl', 'trifecta', 'trigger', 'trike', 'trim', 'triniti', 'trinket', 'trio', 'trip', 'tripe', 'tripl', 'trippin', 'trivia', 'trivial', 'trivium', 'trocken', 'troff', 'troi', 'tromp', 'tron', 'trop', 'tropf', 'trophi', 'tropic', 'tropicana', 'tropizienn', 'trottoir', 'trotz', 'trotzdem', 'troubl', 'troubleshoot', 'troublesom', 'troup', 'trout', 'trouv', 'trouver', 'trouvé', 'tru', 'truck', 'true', 'trueli', 'truffl', 'trufflefri', 'truli', 'trump', 'trunk', 'trust', 'trusti', 'trustworthi', 'trutech', 'truth', 'tryon', 'trysomethingdiffer', 'trysomethingels', 'tryst', 'trè', 'tsa', 'tsao', 'tsca', 'tshirt', 'tso', 'tsoynami', 'tsukiji', 'tt', 'ttc', 'tu', 'tuango', 'tub', 'tube', 'tubshow', 'tubular', 'tuck', 'tuckaway', 'tucker', 'tucson', 'tude', 'tue', 'tuesday', 'tuesdaynight', 'tuk', 'tummi', 'tumor', 'tun', 'tuna', 'tunarol', 'tune', 'tuneup', 'tunnel', 'tupelo', 'turbo', 'turd', 'turf', 'turkey', 'turkish', 'turn', 'turnaround', 'turninto', 'turnip', 'turnoff', 'turnout', 'turnov', 'turnpik', 'turnstil', 'turrentin', 'turtl', 'tuscan', 'tuscani', 'tuscon', 'tut', 'tutor', 'tutto', 'tutu', 'tv', 'tv2', 'twa', 'twang', 'tweak', 'tweez', 'twentyminut', 'twice', 'twicenow', 'twin', 'twirl', 'twist', 'twitch', 'twitter', 'two', 'twostar', 'twothre', 'tx', 'ty', 'tyler', 'type', 'typeof', 'typic', 'tzatziki', 'tzu', 'tür', 'tüte', 'u', 'uakeufg7h4fyigkp1iggaqusg', 'ube', 'uber', 'ubereat', 'ubiquit', 'ucla', 'uconnect', 'udon', 'udong', 'ufc', 'ugh', 'ughh', 'ughhh', 'ugli', 'ugo', 'uh', 'uhaul', 'uhh', 'uhr', 'uk', 'ukrain', 'ukranian', 'ulcer', 'ulta', 'ulterior', 'ultherapi', 'ultim', 'ultra', 'ultrasound', 'um', 'umami', 'umbau', 'umbrella', 'umc', 'umfangreich', 'umfassend', 'umgehauen', 'umi', 'umimasu', 'umkrei', 'umm', 'ummc', 'ummm', 'ummmm', 'ummmmmm', 'ummmmmmm', 'umptiou', 'un', 'una', 'unabl', 'unaccept', 'unaccommod', 'unacquaint', 'unadulter', 'unagi', 'unami', 'unapologet', 'unapp', 'unappet', 'unassum', 'unattent', 'unauthor', 'unavail', 'unawar', 'unbalanc', 'unbath', 'unbean', 'unbear', 'unbeat', 'unbeliev', 'uncanni', 'unceremoni', 'uncertain', 'unchang', 'uncl', 'unclean', 'unclear', 'unclog', 'uncomfort', 'uncommon', 'unconscion', 'uncontrol', 'unconvinc', 'uncook', 'uncork', 'uncov', 'uncultur', 'und', 'unddi', 'undeni', 'undepend', 'underarm', 'undercarriag', 'undercook', 'underdon', 'undergo', 'underground', 'underneath', 'underp', 'underpaid', 'underpay', 'underr', 'underseason', 'undersid', 'understaf', 'understaff', 'understanbl', 'understand', 'understandgreat', 'understandwhi', 'understat', 'undertrain', 'underwat', 'underwear', 'underwhelm', 'underwood', 'undiscov', 'undivid', 'undo', 'undoubt', 'undoubtedli', 'undress', 'undrink', 'une', 'uneasi', 'uneaten', 'unemploy', 'unend', 'unenjoy', 'unenthusiast', 'uneven', 'unevenli', 'unexpect', 'unexpectedli', 'unexplain', 'unfamiliar', 'unfavor', 'unfil', 'unfilt', 'unfinish', 'unfit', 'unflavor', 'unflinchingli', 'unfold', 'unforgett', 'unforgiv', 'unfortun', 'unfreundlich', 'unfriendli', 'unfulfil', 'ungefähr', 'ungemütlich', 'ungenießbar', 'ungewürzt', 'ungrat', 'unhappi', 'unharm', 'unhealthi', 'unheard', 'unhelp', 'unhind', 'uni', 'unibroug', 'uniform', 'uniformli', 'unimport', 'unimpress', 'uninform', 'uninspir', 'uninterest', 'unintrus', 'union', 'uniqu', 'unit', 'univ', 'univers', 'unkempt', 'unkept', 'unlik', 'unlimit', 'unload', 'unlock', 'unlucki', 'unlv', 'unmanag', 'unmatch', 'unmistak', 'unnatur', 'unnecessari', 'unnecessarili', 'unneed', 'unnot', 'unnotic', 'uno', 'unobstruct', 'unobtrus', 'unoffici', 'unopen', 'unorgan', 'unorganiersiert', 'unpaid', 'unparal', 'unparallel', 'unpav', 'unplan', 'unpleas', 'unplug', 'unpretenti', 'unprofession', 'unravel', 'unreach', 'unreal', 'unreason', 'unrel', 'unreli', 'unremark', 'unrequest', 'unruh', 'unsaf', 'unsanitari', 'unsatisfactori', 'unsatisfi', 'unsavori', 'unscath', 'unschedul', 'unscheinbar', 'unsdurch', 'unseason', 'unser', 'unsettl', 'unsexi', 'unsicherem', 'unsophist', 'unsortiert', 'unspeak', 'unspectacular', 'unstabl', 'unsteadi', 'unsual', 'unsuccess', 'unsur', 'unsurpass', 'unsweeten', 'unsympathet', 'untend', 'unter', 'unterdurchschnittlich', 'unterschiedlichen', 'unthink', 'untidi', 'untouch', 'untradit', 'untrain', 'unturn', 'unus', 'unusu', 'unwant', 'unwarr', 'unwarrantedw', 'unwatch', 'unwelcom', 'unwichtig', 'unwind', 'unwrap', 'unübertroffen', 'up', 'upbeat', 'upcharg', 'upcom', 'updat', 'upfront', 'upgrad', 'upkeep', 'uplight', 'upmarket', 'uponarriv', 'uponent', 'upotherwis', 'upper', 'upright', 'upsal', 'upscal', 'upsel', 'upset', 'upsid', 'upstair', 'uptight', 'uptown', 'upward', 'ur', 'uraguayo', 'urban', 'urbana', 'urbex', 'urchin', 'urg', 'urgenc', 'urgent', 'urin', 'urinari', 'url', 'us', 'usa', 'usaa', 'usabl', 'usag', 'usc', 'use', 'useless', 'user', 'usethiscompani', 'usher', 'uso', 'uspsa', 'usual', 'utah', 'utensil', 'utensilien', 'uthappam', 'uti', 'util', 'utmost', 'utter', 'utterli', 'uturn', 'uu5yabtoxoyqefeeqaw6jia', 'uv', 'uy', 'uye', 'v', 'va', 'vacant', 'vacat', 'vaccin', 'vaccum', 'vacuum', 'vagina', 'vagu', 'vai', 'vaireti', 'valait', 'valdez', 'vale', 'valentin', 'valentinesday', 'valeri', 'valet', 'valeur', 'valid', 'valin', 'vallet', 'valley', 'valpak', 'valu', 'valuabl', 'valuepric', 'valv', 'valvolin', 'valvona', 'vamp', 'vampir', 'van', 'vancouv', 'vanglori', 'vanhorn', 'vanilla', 'vanish', 'vaniti', 'vantag', 'vape', 'vapor', 'var', 'vari', 'varianc', 'variant', 'variat', 'varieti', 'varietyof', 'varietypric', 'varnish', 'vase', 'vast', 'vastli', 'vater', 'vault', 'vb', 'vdara', 'vdn', 'veal', 'veau', 'veeeeeeeeerrrreryyyyyyyy', 'veg', 'vega', 'vegan', 'veganopt', 'veganveggi', 'vegasm', 'vegasselect', 'vege', 'vegen', 'veget', 'vegetarian', 'vegetarianopt', 'vegetarianvegan', 'vegetarisch', 'veggi', 'veggiesmeatnoodl', 'vegi', 'vehicl', 'velvet', 'velveti', 'venaient', 'venant', 'vend', 'vendor', 'vener', 'venetian', 'venetian24', 'venezia', 'venison', 'vennegjengen', 'vent', 'venti', 'ventil', 'ventr', 'ventur', 'ventura', 'venu', 'veracruz', 'veranda', 'verbal', 'verbringen', 'verbund', 'verd', 'verdicchio', 'verdict', 'verdutzt', 'vereinfacht', 'verfügbar', 'verfügt', 'verfügung', 'verg', 'vergangenheit', 'vergessen', 'vergisst', 'vergnügen', 'verifi', 'verifon', 'verit', 'verizon', 'verkocht', 'vermacelli', 'vermicelli', 'vermouth', 'verona', 'veronica', 'verpackt', 'verri', 'vers', 'versatil', 'version', 'versionof', 'versu', 'vert', 'verteilt', 'vertic', 'verwinkelt', 'veryattent', 'verydisappoint', 'veryflavor', 'veryfriendli', 'verygener', 'veryhelp', 'veryimpress', 'veryimpressedwith', 'veryknowledg', 'verylimit', 'verynic', 'veryperson', 'verypleas', 'verypleasedwith', 'verypopular', 'veryprofession', 'veryreason', 'veryreasonablepric', 'verytasti', 'verythorough', 'verywelcom', 'verändert', 'vest', 'vet', 'veteran', 'veterinarian', 'veulent', 'vey', 'vianca', 'viand', 'viatnames', 'vib', 'vibe', 'vibeenergi', 'vibrant', 'vibrat', 'vicari', 'vice', 'vichi', 'vicin', 'vicotria', 'victori', 'victoria', 'victorian', 'victorvil', 'vide', 'video', 'vidé', 'vie', 'viejo', 'viel', 'vielen', 'vielleicht', 'vien', 'vienna', 'viennois', 'vientian', 'viertelstund', 'viet', 'vietnam', 'vietnames', 'vietnamesisch', 'view', 'viewabl', 'vig', 'vigilantli', 'viki', 'vill', 'villag', 'vin', 'vinagirett', 'vinaigr', 'vinaigrett', 'vinc', 'vincaff', 'vindaloo', 'vine', 'vinegar', 'vinegarett', 'vinni', 'vintag', 'vintage70', 'vinyasa', 'vinyl', 'violat', 'violenc', 'violent', 'violet', 'violett', 'vip', 'virgen', 'virgil', 'virgin', 'virginia', 'virkelig', 'virtu', 'virtual', 'virtú', 'viru', 'visa', 'viscer', 'visibl', 'vision', 'visit', 'visitinf', 'visitng', 'visitor', 'visité', 'visor', 'vist', 'vista', 'visual', 'visualit', 'vita', 'vital', 'vitali', 'vitamin', 'vitasoy', 'vite', 'vitelli', 'vitess', 'viva', 'vivian', 'vivid', 'vividli', 'vivr', 'vladimir', 'vlaue', 'vlog', 'vo', 'vocal', 'vodka', 'vodska', 'vogu', 'voic', 'voicemail', 'voici', 'void', 'voila', 'voir', 'volcano', 'voll', 'vollen', 'volley', 'volleybal', 'voltaggio', 'volum', 'voluma', 'volunt', 'vom', 'vomit', 'von', 'vont', 'voodoo', 'vor', 'vorfeld', 'vorführungen', 'vorgänger', 'vorher', 'vorneweg', 'vorrätig', 'vorschicken', 'vortex', 'vosler', 'vote', 'votr', 'vou', 'vouch', 'voucher', 'voulai', 'voulu', 'vow', 'vrai', 'vraiment', 'vs', 'vsg', 'vt', 'vu', 'vulcan', 'vulner', 'vw', 'vwfore', 'végétarienn', 'vérifiez', 'véritabl', 'w', 'wa', 'waaaaaay', 'waaaayyy', 'waaay', 'waaayyyyyyy', 'waayyy', 'wac', 'wacki', 'wad', 'waddl', 'wade', 'wafer', 'waff', 'waffel', 'waffl', 'waft', 'wag', 'wage', 'wagon', 'wagyu', 'wah', 'wahlburg', 'wahoo', 'wahrscheinlich', 'waiblingen', 'waif', 'waist', 'waistlin', 'wait', 'waiter', 'waitersserv', 'waiterswaitress', 'waiterwaitress', 'waitforev', 'waitin', 'waitlist', 'waitress', 'waitressserv', 'waitstaff', 'waitwhich', 'waiv', 'wakam', 'wake', 'wakeup', 'wal', 'walduck', 'wale', 'walgreen', 'walk', 'walkabl', 'walkaround', 'walkaway', 'walker', 'walkin', 'walkingdist', 'walkinto', 'walkout', 'walkthrough', 'walkway', 'wall', 'wallac', 'wallet', 'walley', 'walli', 'wallmart', 'wallpap', 'wallsno', 'walmart', 'walnut', 'walnutshrimp', 'walt', 'walter', 'waltz', 'wander', 'wang', 'wanna', 'wannab', 'want', 'war', 'ward', 'wardel', 'warden', 'wardrob', 'ware', 'warehous', 'waren', 'warhol', 'warm', 'warman', 'warmer', 'warmli', 'warmth', 'warn', 'warner', 'warp', 'warrant', 'warranti', 'warrantyfin', 'warrantyyik', 'warrior', 'wartezeit', 'wartezeiten', 'wasabi', 'wash', 'washabl', 'washer', 'washington', 'washroom', 'washveri', 'wassershow', 'wasserspiel', 'wassup', 'wast', 'wasteland', 'watch', 'watchabl', 'water', 'waterdown', 'waterfal', 'waterfront', 'waterglass', 'wateri', 'waterlog', 'waterloo', 'watermark', 'watermelon', 'waterproof', 'watertea', 'waunake', 'waupoo', 'wave', 'wavi', 'wax', 'way', 'waygu', 'wayn', 'waysid', 'waythrough', 'waytoo', 'waytoomuch', 'waytoosalti', 'wayyy', 'wayyyi', 'wayyyyy', 'wayyyyyi', 'wayyyyyyyyy', 'wbc', 'wd40', 'we', 'weak', 'weaksauc', 'wealth', 'wealthi', 'weapon', 'wear', 'weari', 'weather', 'weatlth', 'weav', 'web', 'webcd1ved0cdaqfjaaurl', 'webcd1ved0cdeqfjaaurl', 'webcd2ved0cd0qfjaburl', 'webcd2ved0cd4qfjaburl', 'webcd3ved0ceuqfjacurl', 'webcd3ved0ceyqfjacurl', 'websit', 'websitesaccount', 'wechselnd', 'wed', 'wed2', 'weder', 'wedg', 'wednesday', 'wee', 'weed', 'week', 'weekago', 'weekday', 'weekend', 'weeklat', 'weekli', 'weeknight', 'weera', 'weg', 'wegen', 'wegman', 'wei', 'weigh', 'weight', 'weightlift', 'weil', 'weinen', 'weiner', 'weird', 'weirdli', 'weiss', 'weiter', 'welbi', 'welch', 'welcom', 'weld', 'weleda', 'well', 'wellesley', 'wellfleet', 'wellfresh', 'wellington', 'wellmaintain', 'wellprepar', 'wellseason', 'wellworth', 'welp', 'welt', 'wendi', 'wenig', 'wenn', 'went', 'werd', 'werden', 'wesentlich', 'west', 'westcoast', 'western', 'westgat', 'westin', 'weston', 'westsid', 'wet', 'weve', 'wfriend', 'wgravi', 'whaaaat', 'whaat', 'whabam', 'whack', 'whale', 'whataburg', 'whatev', 'whateva', 'whathappen', 'whatnot', 'whatsoev', 'whe', 'wheat', 'wheatgray', 'wheeeew', 'wheel', 'wheelchair', 'whelm', 'whereels', 'wherxeqvktogbvm', 'whet', 'whichev', 'whilm', 'whilst', 'whim', 'whimpi', 'whimsic', 'whine', 'whiney', 'whip', 'whipcream', 'whippin', 'whirl', 'whirlwind', 'whisk', 'whiskey', 'whiski', 'whisper', 'whistl', 'whistlepig', 'white', 'whitechocol', 'whiteric', 'whitewat', 'whitewin', 'whitey', 'whitney', 'whittier', 'whittl', 'whiz', 'whoa', 'wholeexperi', 'wholefood', 'wholeheartedli', 'wholesal', 'wholesom', 'whomev', 'whoo', 'whoop', 'whop', 'whst', 'wi', 'wich', 'wick', 'wickedli', 'wickedspoon', 'wicker', 'wide', 'wider', 'widescreen', 'wideselect', 'wideselectionof', 'widevarieti', 'wie', 'wieder', 'wielandshöh', 'wield', 'wierd', 'wife', 'wifey', 'wifi', 'wig', 'wiitala', 'wil', 'wild', 'wildboar', 'wildeb', 'wilderton', 'wildfir', 'wildli', 'wildspezialitäten', 'wildw', 'wilkinson', 'willadmit', 'willcontinu', 'willdefinit', 'willdefinitelycomeback', 'willdefinitelyreturn', 'willi', 'william', 'willing', 'willingli', 'willingto', 'willingtohelp', 'willlik', 'willnev', 'willoughbi', 'wilmington', 'wilson', 'wilt', 'wimp', 'wimpi', 'win', 'winchel', 'wind', 'winder', 'windi', 'windmil', 'window', 'windowdrap', 'windowsglass', 'windowsil', 'windscreen', 'windshield', 'windsor', 'windtab', 'wine', 'wineb', 'winehous', 'winelist', 'wineri', 'wineselect', 'wing', 'winkl', 'winnah', 'winner', 'winter', 'winterlici', 'wipe', 'wipedown', 'wiper', 'wir', 'wird', 'wire', 'wireless', 'wirklich', 'wirkt', 'wisconsin', 'wisdom', 'wise', 'wish', 'wit', 'with', 'withdraw', 'withhold', 'withinminut', 'withoutani', 'witt', 'witti', 'witz', 'wiz', 'wizard', 'wknd', 'wmac', 'wmi', 'wnw', 'wo', 'wobbl', 'wobei', 'wohl', 'wohlfühlen', 'wohlfühllok', 'wohlgefühlt', 'wohnzimm', 'wok', 'woke', 'wolf', 'wolfgang', 'wollen', 'wollten', 'woman', 'womanwho', 'wonder', 'wonderful', 'wonderfuli', 'wonderif', 'wonderland', 'wonderpho', 'wondert', 'wonderwhat', 'wonderwhi', 'wondrou', 'wong', 'wonton', 'wontonsoup', 'woo', 'wood', 'wooden', 'woodfir', 'woodi', 'woodlot', 'woodman', 'woof', 'woofl', 'woohoo', 'wool', 'woooot', 'woooow', 'woosley', 'woot', 'wor', 'word', 'wordless', 'work', 'workday', 'worker', 'workin', 'workman', 'workmanship', 'workout', 'workplac', 'workshop', 'workstat', 'workweek', 'world', 'worldwid', 'worlk', 'worn', 'worri', 'worryabout', 'wors', 'worsen', 'worship', 'worst', 'worth', 'worthcheckout', 'wortheveri', 'wortheverypenni', 'worthi', 'worthless', 'worthwhil', 'wot', 'woukd', 'would', 'woulda', 'woulddefinitelyrecommend', 'wouldhighli', 'wouldhighlyrecommend', 'wouldrath', 'wouldrecommend', 'wound', 'wout', 'wow', 'wowglamour', 'wowwwwwwwwwwwwwwww', 'wowza', 'wrangler', 'wrap', 'wraparound', 'wrapper', 'wrapsecur', 'wreak', 'wreck', 'wrench', 'wright', 'wrinkl', 'wrist', 'wristband', 'write', 'writehomeabout', 'writin', 'writt', 'wrong', 'wrongway', 'ws', 'wsop', 'wspinach', 'wswiss', 'wtax', 'wtf', 'wtfh', 'wth', 'wtruffl', 'wunderbar', 'wurd', 'wurden', 'wwh', 'wwii', 'wwwtravelingcococom', 'wy', 'wychwood', 'wyndam', 'wynn', 'während', 'wäre', 'wärmer', 'wärmsten', 'wünsche', 'würde', 'würden', 'würze', 'x', 'xbox', 'xbox360', 'xd', 'xenophob', 'xeo', 'xie', 'xlb', 'xle', 'xma', 'xo', 'xocai', 'xola', 'xray', 'xs', 'xx', 'xxl', 'ya', 'yaateeh', 'yabrak', 'yacht', 'yada', 'yadayadayad', 'yah', 'yaki', 'yakisoba', 'yakitori', 'yaknow', 'yakuboff', 'yall', 'yam', 'yamasaki', 'yamato', 'yan', 'yang', 'yanke', 'yao', 'yap', 'yard', 'yardbird', 'yarder', 'yardhous', 'yarn', 'yassss', 'yasu', 'yawn', 'yay', 'yc', 'ye', 'yea', 'yeaaaaar', 'yeah', 'yeap', 'year', 'yearago', 'yearli', 'yearold', 'yeh', 'yell', 'yellat', 'yellow', 'yellowfin', 'yellowtail', 'yelp', 'yelpcom', 'yelpdeal', 'yelper', 'yelpreview', 'yen', 'yep', 'yessir', 'yesss', 'yessss', 'yesterday', 'yike', 'yin', 'ymmv', 'yness', 'yo', 'yoforia', 'yoga', 'yogaspac', 'yogatre', 'yogen', 'yogourt', 'yogurt', 'yogurtcrepestoastappl', 'yogurtini', 'yogurtland', 'yogurtolog', 'yolk', 'yolo', 'yong', 'yoooooooo', 'yoplait', 'york', 'yorkdal', 'yorker', 'yorkshir', 'yorkvil', 'yoroi', 'yoself', 'yoshi', 'yougurt', 'youll', 'young', 'youngladi', 'youngman', 'youngster', 'your', 'youth', 'youtub', 'yoyo', 'yr', 'ys', 'yst', 'yucca', 'yuck', 'yucki', 'yue', 'yuengl', 'yukon', 'yum', 'yuma', 'yumand', 'yume', 'yumi', 'yumm', 'yummi', 'yummm', 'yummmm', 'yummmmm', 'yummmmmm', 'yummmmmmm', 'yumyum', 'yup', 'yuppi', 'yuummmmmmm', 'yuzu', 'yve', 'yvett', 'yvonn', 'yvr', 'z', 'zach', 'zackig', 'zagat', 'zagatmichelin', 'zagg', 'zagro', 'zaher', 'zane', 'zanzibar', 'zarkana', 'zarra', 'zaru', 'zaxbi', 'zaxbysth', 'zaziki', 'zd', 'zealand', 'zedd', 'zeffirino', 'zeit', 'zelda', 'zen', 'zero', 'zerostar', 'zesti', 'zeu', 'zi', 'ziemlich', 'zig', 'zimmer', 'zimmern', 'zimzilbang', 'zin', 'zing', 'zingerman', 'zio', 'ziploc', 'zipp', 'zipper', 'zippo', 'zippsgilbert', 'ziti', 'zitron', 'zoey', 'zombieland', 'zone', 'zoo', 'zu', 'zubereitet', 'zucchini', 'zuchini', 'zudem', 'zuerst', 'zufrieden', 'zufällig', 'zum', 'zuman', 'zumba', 'zunächst', 'zupa', 'zuppa', 'zur', 'zusammen', 'zusammenhängen', 'zusammenstellen', 'zutaten', 'zuvorkommend', 'zweckmäßig', 'zwei', 'zweit', 'zügig', 'à', 'àce', 'àla', 'ähnlich', 'äußerst', 'å', 'ça', 'écran', 'électroniqu', 'élément', 'émi', 'énorm', 'époustouflant', 'étaient', 'était', 'étion', 'étoil', 'étouffé', 'étrang', 'été', 'évolué', 'événement', 'ête', 'être', 'öffentlichen', 'über', 'überfordert', 'überlastet', 'übernachten', 'überschaubar', 'überteuert', 'übertrieben', 'überzeugen', 'überzogenen', 'übrige', 'übrigen', '川北凉粉', '牛腩河']\n"
     ]
    }
   ],
   "source": [
    "from sklearn.feature_extraction.text import TfidfVectorizer\n",
    "\n",
    "tfidf_vect = TfidfVectorizer(analyzer=clean_text)\n",
    "X_tfidf = tfidf_vect.fit_transform(lines_)\n",
    "print(X_tfidf.shape)\n",
    "print(tfidf_vect.get_feature_names())"
   ]
  },
  {
   "cell_type": "code",
   "execution_count": 46,
   "metadata": {},
   "outputs": [
    {
     "name": "stdout",
     "output_type": "stream",
     "text": [
      "(20, 534)\n",
      "['', '10', '1000', '2', '2star', '3', '5', '5star', '695', '7th', 'abit', 'ableto', 'about10minut', 'absolutelylov', 'access', 'accommod', 'actual', 'add', 'alright', 'amaz', 'anyway', 'appetit', 'appoint', 'appreci', 'area', 'arjuna', 'artisan', 'asian', 'ask', 'astonishingli', 'aswel', 'atmospher', 'attach', 'attent', 'audienc', 'authent', 'avail', 'ave', 'averag', 'aw', 'awesom', 'babbl', 'bacon', 'bad', 'badexperi', 'bag', 'bahn', 'band', 'bar', 'barber', 'barbershop', 'bare', 'bartend', 'basebal', 'basket', 'beauti', 'beef', 'beer', 'begin', 'best', 'bhel', 'big', 'bite', 'bjorn', 'black', 'bland', 'bomb', 'bowl', 'bread', 'brickyard', 'budd', 'burger', 'burrito', 'busi', 'buy', 'cafe', 'cal', 'calamari', 'cannot', 'capit', 'captiv', 'car', 'care', 'careabout', 'carrot', 'centrallyloc', 'chain', 'chanc', 'chandler', 'check', 'cheesi', 'chicken', 'chile', 'chipotl', 'chocolatecak', 'choic', 'cilantro', 'citi', 'close', 'cocktail', 'coffe', 'come', 'comeback', 'comeher', 'commerci', 'compani', 'compar', 'complaint', 'complex', 'conclus', 'connect', 'consist', 'convenientlyloc', 'convers', 'cook', 'corndog', 'corps', 'counter', 'coupl', 'credit', 'crispi', 'cuban', 'cucumb', 'custom', 'cut', 'da', 'daikon', 'damag', 'day', 'decent', 'decid', 'delhi', 'delici', 'delilah', 'deliv', 'deliveri', 'delux', 'detail', 'dial', 'disappoint', 'diy', 'document', 'donot', 'donotknowwhat', 'donotknowwhi', 'door', 'downtown', 'dr', 'drop', 'dueto', 'duti', 'easi', 'eat', 'eather', 'edg', 'enjoy', 'ensur', 'entre', 'especi', 'european', 'excel', 'excit', 'exist', 'exit', 'experi', 'extra', 'fade', 'faf', 'fair', 'fan', 'fantast', 'farm', 'favorit', 'fb', 'feedback', 'feel', 'field', 'find', 'fire', 'flavor', 'flight', 'fluenci', 'food', 'forget', 'free', 'freewifi', 'fremont', 'french', 'frequent', 'fresh', 'fri', 'friend', 'frontdeskstaff', 'fun', 'game', 'gasstat', 'giant', 'girl', 'giveaway', 'goback', 'golden', 'good', 'great', 'green', 'grillchees', 'grillchicken', 'groceri', 'grocerystor', 'grow', 'guacamol', 'guess', 'guy', 'hair', 'haircut', 'hanlon', 'happen', 'happi', 'hardli', 'harvest', 'hatch', 'havenoidea', 'head', 'heaven', 'heavyset', 'highschool', 'hit', 'home', 'homemad', 'hot', 'hour', 'hous', 'husband', 'impli', 'inan', 'indian', 'inexpens', 'ingredi', 'inphoenix', 'inspect', 'interest', 'interior', 'internet', 'invok', 'italia', 'jam', 'jar', 'job', 'joint', 'kabob', 'kerela', 'kid', 'kind', 'kindof', 'know', 'knowwhat', 'lack', 'lasttim', 'late', 'leav', 'left', 'leftov', 'leg', 'length', 'lest', 'life', 'light', 'like', 'lime', 'limit', 'line', 'list', 'liter', 'littl', 'live', 'local', 'locat', 'long', 'lookat', 'lotof', 'love', 'low', 'loyalcustom', 'lufa', 'lunch', 'lunchspeci', 'macaroon', 'mainstream', 'major', 'malic', 'man', 'manag', 'manypeopl', 'manytim', 'margaritavil', 'mariachi', 'mayb', 'meat', 'meati', 'medium', 'melt', 'member', 'mention', 'mesquit', 'messag', 'mi', 'mid', 'miss', 'mom', 'monthago', 'monthli', 'montreal', 'morn', 'moron', 'music', 'namkeen', 'nate', 'natur', 'nearbi', 'neglect', 'new', 'nice', 'notif', 'occas', 'ofcours', 'offer', 'ok', 'old', 'open', 'opportun', 'order', 'organ', 'orthodont', 'outstand', 'overal', 'overbear', 'pack', 'padr', 'partner', 'patient', 'pay', 'payment', 'peep', 'peoplewho', 'persian', 'person', 'pick', 'pickin', 'pickup', 'pimento', 'pimentochees', 'pimp', 'pimpn', 'pizza', 'place', 'plain', 'plan', 'planahead', 'point', 'pointless', 'possibl', 'prepackag', 'prerequisit', 'presum', 'pretti', 'prettymuch', 'price', 'probabl', 'process', 'produc', 'product', 'project', 'pron', 'provid', 'pumpkin', 'puri', 'qualiti', 'quesadilla', 'quick', 'racism', 'ranch', 'raveabout', 'razor', 'real', 'realiz', 'reallyenjoy', 'receiv', 'regard', 'regist', 'regret', 'regular', 'reimburs', 'remind', 'resid', 'residu', 'respons', 'reveal', 'review', 'reviv', 'rice', 'ridicul', 'roast', 'rooftop', 'run', 'salad', 'salti', 'sandwhich', 'sat', 'sauc', 'schuman', 'scottsdal', 'scratch', 'season', 'second', 'secondtim', 'section', 'select', 'serious', 'servic', 'sew', 'shape', 'shop', 'simpl', 'sip', 'sitat', 'size', 'skinni', 'skip', 'small', 'smile', 'smooth', 'snack', 'soap', 'sound', 'soup', 'southwestern', 'spanish', 'special', 'split', 'sport', 'sportbar', 'spot', 'spread', 'squish', 'staff', 'standard', 'starbuck', 'stay', 'steak', 'steve', 'stick', 'store', 'strand', 'street', 'stuff', 'stupid', 'style', 'subscript', 'sunbru', 'suppos', 'sure', 'sustain', 'swamp', 'sweet', 'sweetpotatofri', 'tabl', 'talk', 'tast', 'team', 'technician', 'teenag', 'tell', 'terri', 'terrif', 'thai', 'thang', 'thank', 'thenproce', 'thing', 'think', 'thiscompani', 'thisloc', 'thisplac', 'thum', 'time', 'tomorrow', 'tooloud', 'topic', 'tortilla', 'town', 'treat', 'tri', 'trophi', 'truck', 'tunnel', 'typeof', 'uncommon', 'untrain', 'updat', 'uponent', 'use', 'valley', 'valu', 'varietyof', 'veggi', 'veryfriendli', 'verygener', 'visit', 'voila', 'waffl', 'wait', 'walkin', 'want', 'wash', 'washveri', 'wax', 'way', 'week', 'weekday', 'weekli', 'welcom', 'wife', 'willnev', 'win', 'wine', 'wire', 'wish', 'wood', 'work', 'workshop', 'world', 'worth', 'ye', 'year', 'zerostar']\n"
     ]
    },
    {
     "data": {
      "text/html": [
       "<div>\n",
       "<style scoped>\n",
       "    .dataframe tbody tr th:only-of-type {\n",
       "        vertical-align: middle;\n",
       "    }\n",
       "\n",
       "    .dataframe tbody tr th {\n",
       "        vertical-align: top;\n",
       "    }\n",
       "\n",
       "    .dataframe thead th {\n",
       "        text-align: right;\n",
       "    }\n",
       "</style>\n",
       "<table border=\"1\" class=\"dataframe\">\n",
       "  <thead>\n",
       "    <tr style=\"text-align: right;\">\n",
       "      <th></th>\n",
       "      <th></th>\n",
       "      <th>10</th>\n",
       "      <th>1000</th>\n",
       "      <th>2</th>\n",
       "      <th>2star</th>\n",
       "      <th>3</th>\n",
       "      <th>5</th>\n",
       "      <th>5star</th>\n",
       "      <th>695</th>\n",
       "      <th>7th</th>\n",
       "      <th>...</th>\n",
       "      <th>wire</th>\n",
       "      <th>wish</th>\n",
       "      <th>wood</th>\n",
       "      <th>work</th>\n",
       "      <th>workshop</th>\n",
       "      <th>world</th>\n",
       "      <th>worth</th>\n",
       "      <th>ye</th>\n",
       "      <th>year</th>\n",
       "      <th>zerostar</th>\n",
       "    </tr>\n",
       "  </thead>\n",
       "  <tbody>\n",
       "    <tr>\n",
       "      <th>0</th>\n",
       "      <td>0.023722</td>\n",
       "      <td>0.000000</td>\n",
       "      <td>0.000000</td>\n",
       "      <td>0.000000</td>\n",
       "      <td>0.000000</td>\n",
       "      <td>0.000000</td>\n",
       "      <td>0.000000</td>\n",
       "      <td>0.000000</td>\n",
       "      <td>0.000000</td>\n",
       "      <td>0.0795</td>\n",
       "      <td>...</td>\n",
       "      <td>0.000000</td>\n",
       "      <td>0.000000</td>\n",
       "      <td>0.00000</td>\n",
       "      <td>0.000000</td>\n",
       "      <td>0.00000</td>\n",
       "      <td>0.000000</td>\n",
       "      <td>0.069882</td>\n",
       "      <td>0.000000</td>\n",
       "      <td>0.000000</td>\n",
       "      <td>0.0795</td>\n",
       "    </tr>\n",
       "    <tr>\n",
       "      <th>1</th>\n",
       "      <td>0.093115</td>\n",
       "      <td>0.000000</td>\n",
       "      <td>0.000000</td>\n",
       "      <td>0.000000</td>\n",
       "      <td>0.000000</td>\n",
       "      <td>0.000000</td>\n",
       "      <td>0.000000</td>\n",
       "      <td>0.000000</td>\n",
       "      <td>0.000000</td>\n",
       "      <td>0.0000</td>\n",
       "      <td>...</td>\n",
       "      <td>0.000000</td>\n",
       "      <td>0.000000</td>\n",
       "      <td>0.00000</td>\n",
       "      <td>0.195412</td>\n",
       "      <td>0.00000</td>\n",
       "      <td>0.000000</td>\n",
       "      <td>0.000000</td>\n",
       "      <td>0.000000</td>\n",
       "      <td>0.000000</td>\n",
       "      <td>0.0000</td>\n",
       "    </tr>\n",
       "    <tr>\n",
       "      <th>2</th>\n",
       "      <td>0.048609</td>\n",
       "      <td>0.000000</td>\n",
       "      <td>0.162907</td>\n",
       "      <td>0.000000</td>\n",
       "      <td>0.000000</td>\n",
       "      <td>0.000000</td>\n",
       "      <td>0.000000</td>\n",
       "      <td>0.000000</td>\n",
       "      <td>0.000000</td>\n",
       "      <td>0.0000</td>\n",
       "      <td>...</td>\n",
       "      <td>0.000000</td>\n",
       "      <td>0.000000</td>\n",
       "      <td>0.00000</td>\n",
       "      <td>0.000000</td>\n",
       "      <td>0.00000</td>\n",
       "      <td>0.000000</td>\n",
       "      <td>0.000000</td>\n",
       "      <td>0.000000</td>\n",
       "      <td>0.000000</td>\n",
       "      <td>0.0000</td>\n",
       "    </tr>\n",
       "    <tr>\n",
       "      <th>3</th>\n",
       "      <td>0.027549</td>\n",
       "      <td>0.000000</td>\n",
       "      <td>0.000000</td>\n",
       "      <td>0.000000</td>\n",
       "      <td>0.000000</td>\n",
       "      <td>0.000000</td>\n",
       "      <td>0.000000</td>\n",
       "      <td>0.000000</td>\n",
       "      <td>0.000000</td>\n",
       "      <td>0.0000</td>\n",
       "      <td>...</td>\n",
       "      <td>0.092326</td>\n",
       "      <td>0.000000</td>\n",
       "      <td>0.00000</td>\n",
       "      <td>0.000000</td>\n",
       "      <td>0.00000</td>\n",
       "      <td>0.000000</td>\n",
       "      <td>0.081156</td>\n",
       "      <td>0.000000</td>\n",
       "      <td>0.000000</td>\n",
       "      <td>0.0000</td>\n",
       "    </tr>\n",
       "    <tr>\n",
       "      <th>4</th>\n",
       "      <td>0.042605</td>\n",
       "      <td>0.000000</td>\n",
       "      <td>0.000000</td>\n",
       "      <td>0.000000</td>\n",
       "      <td>0.000000</td>\n",
       "      <td>0.000000</td>\n",
       "      <td>0.000000</td>\n",
       "      <td>0.000000</td>\n",
       "      <td>0.000000</td>\n",
       "      <td>0.0000</td>\n",
       "      <td>...</td>\n",
       "      <td>0.000000</td>\n",
       "      <td>0.000000</td>\n",
       "      <td>0.00000</td>\n",
       "      <td>0.000000</td>\n",
       "      <td>0.00000</td>\n",
       "      <td>0.000000</td>\n",
       "      <td>0.000000</td>\n",
       "      <td>0.000000</td>\n",
       "      <td>0.000000</td>\n",
       "      <td>0.0000</td>\n",
       "    </tr>\n",
       "    <tr>\n",
       "      <th>5</th>\n",
       "      <td>0.071840</td>\n",
       "      <td>0.000000</td>\n",
       "      <td>0.000000</td>\n",
       "      <td>0.000000</td>\n",
       "      <td>0.000000</td>\n",
       "      <td>0.000000</td>\n",
       "      <td>0.000000</td>\n",
       "      <td>0.000000</td>\n",
       "      <td>0.240764</td>\n",
       "      <td>0.0000</td>\n",
       "      <td>...</td>\n",
       "      <td>0.000000</td>\n",
       "      <td>0.000000</td>\n",
       "      <td>0.00000</td>\n",
       "      <td>0.000000</td>\n",
       "      <td>0.00000</td>\n",
       "      <td>0.000000</td>\n",
       "      <td>0.000000</td>\n",
       "      <td>0.000000</td>\n",
       "      <td>0.000000</td>\n",
       "      <td>0.0000</td>\n",
       "    </tr>\n",
       "    <tr>\n",
       "      <th>6</th>\n",
       "      <td>0.041834</td>\n",
       "      <td>0.000000</td>\n",
       "      <td>0.000000</td>\n",
       "      <td>0.000000</td>\n",
       "      <td>0.000000</td>\n",
       "      <td>0.000000</td>\n",
       "      <td>0.000000</td>\n",
       "      <td>0.000000</td>\n",
       "      <td>0.000000</td>\n",
       "      <td>0.0000</td>\n",
       "      <td>...</td>\n",
       "      <td>0.000000</td>\n",
       "      <td>0.000000</td>\n",
       "      <td>0.00000</td>\n",
       "      <td>0.000000</td>\n",
       "      <td>0.00000</td>\n",
       "      <td>0.000000</td>\n",
       "      <td>0.000000</td>\n",
       "      <td>0.000000</td>\n",
       "      <td>0.000000</td>\n",
       "      <td>0.0000</td>\n",
       "    </tr>\n",
       "    <tr>\n",
       "      <th>7</th>\n",
       "      <td>0.046833</td>\n",
       "      <td>0.000000</td>\n",
       "      <td>0.000000</td>\n",
       "      <td>0.000000</td>\n",
       "      <td>0.000000</td>\n",
       "      <td>0.000000</td>\n",
       "      <td>0.000000</td>\n",
       "      <td>0.000000</td>\n",
       "      <td>0.000000</td>\n",
       "      <td>0.0000</td>\n",
       "      <td>...</td>\n",
       "      <td>0.000000</td>\n",
       "      <td>0.000000</td>\n",
       "      <td>0.00000</td>\n",
       "      <td>0.098285</td>\n",
       "      <td>0.00000</td>\n",
       "      <td>0.000000</td>\n",
       "      <td>0.000000</td>\n",
       "      <td>0.000000</td>\n",
       "      <td>0.000000</td>\n",
       "      <td>0.0000</td>\n",
       "    </tr>\n",
       "    <tr>\n",
       "      <th>8</th>\n",
       "      <td>0.088414</td>\n",
       "      <td>0.000000</td>\n",
       "      <td>0.000000</td>\n",
       "      <td>0.000000</td>\n",
       "      <td>0.000000</td>\n",
       "      <td>0.000000</td>\n",
       "      <td>0.000000</td>\n",
       "      <td>0.000000</td>\n",
       "      <td>0.000000</td>\n",
       "      <td>0.0000</td>\n",
       "      <td>...</td>\n",
       "      <td>0.000000</td>\n",
       "      <td>0.000000</td>\n",
       "      <td>0.00000</td>\n",
       "      <td>0.000000</td>\n",
       "      <td>0.00000</td>\n",
       "      <td>0.000000</td>\n",
       "      <td>0.000000</td>\n",
       "      <td>0.000000</td>\n",
       "      <td>0.000000</td>\n",
       "      <td>0.0000</td>\n",
       "    </tr>\n",
       "    <tr>\n",
       "      <th>9</th>\n",
       "      <td>0.018280</td>\n",
       "      <td>0.000000</td>\n",
       "      <td>0.000000</td>\n",
       "      <td>0.000000</td>\n",
       "      <td>0.000000</td>\n",
       "      <td>0.000000</td>\n",
       "      <td>0.000000</td>\n",
       "      <td>0.000000</td>\n",
       "      <td>0.000000</td>\n",
       "      <td>0.0000</td>\n",
       "      <td>...</td>\n",
       "      <td>0.000000</td>\n",
       "      <td>0.000000</td>\n",
       "      <td>0.00000</td>\n",
       "      <td>0.038362</td>\n",
       "      <td>0.00000</td>\n",
       "      <td>0.000000</td>\n",
       "      <td>0.000000</td>\n",
       "      <td>0.000000</td>\n",
       "      <td>0.061262</td>\n",
       "      <td>0.0000</td>\n",
       "    </tr>\n",
       "    <tr>\n",
       "      <th>10</th>\n",
       "      <td>0.046208</td>\n",
       "      <td>0.000000</td>\n",
       "      <td>0.000000</td>\n",
       "      <td>0.000000</td>\n",
       "      <td>0.000000</td>\n",
       "      <td>0.000000</td>\n",
       "      <td>0.000000</td>\n",
       "      <td>0.000000</td>\n",
       "      <td>0.000000</td>\n",
       "      <td>0.0000</td>\n",
       "      <td>...</td>\n",
       "      <td>0.000000</td>\n",
       "      <td>0.000000</td>\n",
       "      <td>0.15486</td>\n",
       "      <td>0.096972</td>\n",
       "      <td>0.15486</td>\n",
       "      <td>0.000000</td>\n",
       "      <td>0.000000</td>\n",
       "      <td>0.000000</td>\n",
       "      <td>0.000000</td>\n",
       "      <td>0.0000</td>\n",
       "    </tr>\n",
       "    <tr>\n",
       "      <th>11</th>\n",
       "      <td>0.037219</td>\n",
       "      <td>0.000000</td>\n",
       "      <td>0.000000</td>\n",
       "      <td>0.000000</td>\n",
       "      <td>0.000000</td>\n",
       "      <td>0.000000</td>\n",
       "      <td>0.000000</td>\n",
       "      <td>0.000000</td>\n",
       "      <td>0.000000</td>\n",
       "      <td>0.0000</td>\n",
       "      <td>...</td>\n",
       "      <td>0.000000</td>\n",
       "      <td>0.000000</td>\n",
       "      <td>0.00000</td>\n",
       "      <td>0.000000</td>\n",
       "      <td>0.00000</td>\n",
       "      <td>0.124734</td>\n",
       "      <td>0.000000</td>\n",
       "      <td>0.000000</td>\n",
       "      <td>0.000000</td>\n",
       "      <td>0.0000</td>\n",
       "    </tr>\n",
       "    <tr>\n",
       "      <th>12</th>\n",
       "      <td>0.114290</td>\n",
       "      <td>0.000000</td>\n",
       "      <td>0.000000</td>\n",
       "      <td>0.000000</td>\n",
       "      <td>0.000000</td>\n",
       "      <td>0.000000</td>\n",
       "      <td>0.383029</td>\n",
       "      <td>0.000000</td>\n",
       "      <td>0.000000</td>\n",
       "      <td>0.0000</td>\n",
       "      <td>...</td>\n",
       "      <td>0.000000</td>\n",
       "      <td>0.000000</td>\n",
       "      <td>0.00000</td>\n",
       "      <td>0.000000</td>\n",
       "      <td>0.00000</td>\n",
       "      <td>0.000000</td>\n",
       "      <td>0.000000</td>\n",
       "      <td>0.000000</td>\n",
       "      <td>0.000000</td>\n",
       "      <td>0.0000</td>\n",
       "    </tr>\n",
       "    <tr>\n",
       "      <th>13</th>\n",
       "      <td>0.053705</td>\n",
       "      <td>0.000000</td>\n",
       "      <td>0.000000</td>\n",
       "      <td>0.000000</td>\n",
       "      <td>0.000000</td>\n",
       "      <td>0.000000</td>\n",
       "      <td>0.000000</td>\n",
       "      <td>0.000000</td>\n",
       "      <td>0.000000</td>\n",
       "      <td>0.0000</td>\n",
       "      <td>...</td>\n",
       "      <td>0.000000</td>\n",
       "      <td>0.000000</td>\n",
       "      <td>0.00000</td>\n",
       "      <td>0.000000</td>\n",
       "      <td>0.00000</td>\n",
       "      <td>0.000000</td>\n",
       "      <td>0.000000</td>\n",
       "      <td>0.000000</td>\n",
       "      <td>0.000000</td>\n",
       "      <td>0.0000</td>\n",
       "    </tr>\n",
       "    <tr>\n",
       "      <th>14</th>\n",
       "      <td>0.036709</td>\n",
       "      <td>0.000000</td>\n",
       "      <td>0.000000</td>\n",
       "      <td>0.000000</td>\n",
       "      <td>0.000000</td>\n",
       "      <td>0.000000</td>\n",
       "      <td>0.000000</td>\n",
       "      <td>0.000000</td>\n",
       "      <td>0.000000</td>\n",
       "      <td>0.0000</td>\n",
       "      <td>...</td>\n",
       "      <td>0.000000</td>\n",
       "      <td>0.000000</td>\n",
       "      <td>0.00000</td>\n",
       "      <td>0.000000</td>\n",
       "      <td>0.00000</td>\n",
       "      <td>0.000000</td>\n",
       "      <td>0.000000</td>\n",
       "      <td>0.000000</td>\n",
       "      <td>0.000000</td>\n",
       "      <td>0.0000</td>\n",
       "    </tr>\n",
       "    <tr>\n",
       "      <th>15</th>\n",
       "      <td>0.039737</td>\n",
       "      <td>0.000000</td>\n",
       "      <td>0.000000</td>\n",
       "      <td>0.000000</td>\n",
       "      <td>0.000000</td>\n",
       "      <td>0.117063</td>\n",
       "      <td>0.000000</td>\n",
       "      <td>0.000000</td>\n",
       "      <td>0.000000</td>\n",
       "      <td>0.0000</td>\n",
       "      <td>...</td>\n",
       "      <td>0.000000</td>\n",
       "      <td>0.000000</td>\n",
       "      <td>0.00000</td>\n",
       "      <td>0.000000</td>\n",
       "      <td>0.00000</td>\n",
       "      <td>0.000000</td>\n",
       "      <td>0.000000</td>\n",
       "      <td>0.000000</td>\n",
       "      <td>0.000000</td>\n",
       "      <td>0.0000</td>\n",
       "    </tr>\n",
       "    <tr>\n",
       "      <th>16</th>\n",
       "      <td>0.028971</td>\n",
       "      <td>0.097092</td>\n",
       "      <td>0.000000</td>\n",
       "      <td>0.194184</td>\n",
       "      <td>0.097092</td>\n",
       "      <td>0.085345</td>\n",
       "      <td>0.000000</td>\n",
       "      <td>0.000000</td>\n",
       "      <td>0.000000</td>\n",
       "      <td>0.0000</td>\n",
       "      <td>...</td>\n",
       "      <td>0.000000</td>\n",
       "      <td>0.097092</td>\n",
       "      <td>0.00000</td>\n",
       "      <td>0.060799</td>\n",
       "      <td>0.00000</td>\n",
       "      <td>0.000000</td>\n",
       "      <td>0.000000</td>\n",
       "      <td>0.000000</td>\n",
       "      <td>0.000000</td>\n",
       "      <td>0.0000</td>\n",
       "    </tr>\n",
       "    <tr>\n",
       "      <th>17</th>\n",
       "      <td>0.121927</td>\n",
       "      <td>0.000000</td>\n",
       "      <td>0.000000</td>\n",
       "      <td>0.000000</td>\n",
       "      <td>0.000000</td>\n",
       "      <td>0.000000</td>\n",
       "      <td>0.000000</td>\n",
       "      <td>0.000000</td>\n",
       "      <td>0.000000</td>\n",
       "      <td>0.0000</td>\n",
       "      <td>...</td>\n",
       "      <td>0.000000</td>\n",
       "      <td>0.000000</td>\n",
       "      <td>0.00000</td>\n",
       "      <td>0.000000</td>\n",
       "      <td>0.00000</td>\n",
       "      <td>0.000000</td>\n",
       "      <td>0.000000</td>\n",
       "      <td>0.000000</td>\n",
       "      <td>0.000000</td>\n",
       "      <td>0.0000</td>\n",
       "    </tr>\n",
       "    <tr>\n",
       "      <th>18</th>\n",
       "      <td>0.040070</td>\n",
       "      <td>0.000000</td>\n",
       "      <td>0.000000</td>\n",
       "      <td>0.000000</td>\n",
       "      <td>0.000000</td>\n",
       "      <td>0.000000</td>\n",
       "      <td>0.000000</td>\n",
       "      <td>0.000000</td>\n",
       "      <td>0.000000</td>\n",
       "      <td>0.0000</td>\n",
       "      <td>...</td>\n",
       "      <td>0.000000</td>\n",
       "      <td>0.000000</td>\n",
       "      <td>0.00000</td>\n",
       "      <td>0.084091</td>\n",
       "      <td>0.00000</td>\n",
       "      <td>0.000000</td>\n",
       "      <td>0.000000</td>\n",
       "      <td>0.134289</td>\n",
       "      <td>0.000000</td>\n",
       "      <td>0.0000</td>\n",
       "    </tr>\n",
       "    <tr>\n",
       "      <th>19</th>\n",
       "      <td>0.032135</td>\n",
       "      <td>0.000000</td>\n",
       "      <td>0.000000</td>\n",
       "      <td>0.000000</td>\n",
       "      <td>0.000000</td>\n",
       "      <td>0.000000</td>\n",
       "      <td>0.000000</td>\n",
       "      <td>0.107696</td>\n",
       "      <td>0.000000</td>\n",
       "      <td>0.0000</td>\n",
       "      <td>...</td>\n",
       "      <td>0.000000</td>\n",
       "      <td>0.000000</td>\n",
       "      <td>0.00000</td>\n",
       "      <td>0.000000</td>\n",
       "      <td>0.00000</td>\n",
       "      <td>0.000000</td>\n",
       "      <td>0.000000</td>\n",
       "      <td>0.000000</td>\n",
       "      <td>0.000000</td>\n",
       "      <td>0.0000</td>\n",
       "    </tr>\n",
       "  </tbody>\n",
       "</table>\n",
       "<p>20 rows × 534 columns</p>\n",
       "</div>"
      ],
      "text/plain": [
       "                    10      1000         2     2star         3         5  \\\n",
       "0   0.023722  0.000000  0.000000  0.000000  0.000000  0.000000  0.000000   \n",
       "1   0.093115  0.000000  0.000000  0.000000  0.000000  0.000000  0.000000   \n",
       "2   0.048609  0.000000  0.162907  0.000000  0.000000  0.000000  0.000000   \n",
       "3   0.027549  0.000000  0.000000  0.000000  0.000000  0.000000  0.000000   \n",
       "4   0.042605  0.000000  0.000000  0.000000  0.000000  0.000000  0.000000   \n",
       "5   0.071840  0.000000  0.000000  0.000000  0.000000  0.000000  0.000000   \n",
       "6   0.041834  0.000000  0.000000  0.000000  0.000000  0.000000  0.000000   \n",
       "7   0.046833  0.000000  0.000000  0.000000  0.000000  0.000000  0.000000   \n",
       "8   0.088414  0.000000  0.000000  0.000000  0.000000  0.000000  0.000000   \n",
       "9   0.018280  0.000000  0.000000  0.000000  0.000000  0.000000  0.000000   \n",
       "10  0.046208  0.000000  0.000000  0.000000  0.000000  0.000000  0.000000   \n",
       "11  0.037219  0.000000  0.000000  0.000000  0.000000  0.000000  0.000000   \n",
       "12  0.114290  0.000000  0.000000  0.000000  0.000000  0.000000  0.383029   \n",
       "13  0.053705  0.000000  0.000000  0.000000  0.000000  0.000000  0.000000   \n",
       "14  0.036709  0.000000  0.000000  0.000000  0.000000  0.000000  0.000000   \n",
       "15  0.039737  0.000000  0.000000  0.000000  0.000000  0.117063  0.000000   \n",
       "16  0.028971  0.097092  0.000000  0.194184  0.097092  0.085345  0.000000   \n",
       "17  0.121927  0.000000  0.000000  0.000000  0.000000  0.000000  0.000000   \n",
       "18  0.040070  0.000000  0.000000  0.000000  0.000000  0.000000  0.000000   \n",
       "19  0.032135  0.000000  0.000000  0.000000  0.000000  0.000000  0.000000   \n",
       "\n",
       "       5star       695     7th    ...         wire      wish     wood  \\\n",
       "0   0.000000  0.000000  0.0795    ...     0.000000  0.000000  0.00000   \n",
       "1   0.000000  0.000000  0.0000    ...     0.000000  0.000000  0.00000   \n",
       "2   0.000000  0.000000  0.0000    ...     0.000000  0.000000  0.00000   \n",
       "3   0.000000  0.000000  0.0000    ...     0.092326  0.000000  0.00000   \n",
       "4   0.000000  0.000000  0.0000    ...     0.000000  0.000000  0.00000   \n",
       "5   0.000000  0.240764  0.0000    ...     0.000000  0.000000  0.00000   \n",
       "6   0.000000  0.000000  0.0000    ...     0.000000  0.000000  0.00000   \n",
       "7   0.000000  0.000000  0.0000    ...     0.000000  0.000000  0.00000   \n",
       "8   0.000000  0.000000  0.0000    ...     0.000000  0.000000  0.00000   \n",
       "9   0.000000  0.000000  0.0000    ...     0.000000  0.000000  0.00000   \n",
       "10  0.000000  0.000000  0.0000    ...     0.000000  0.000000  0.15486   \n",
       "11  0.000000  0.000000  0.0000    ...     0.000000  0.000000  0.00000   \n",
       "12  0.000000  0.000000  0.0000    ...     0.000000  0.000000  0.00000   \n",
       "13  0.000000  0.000000  0.0000    ...     0.000000  0.000000  0.00000   \n",
       "14  0.000000  0.000000  0.0000    ...     0.000000  0.000000  0.00000   \n",
       "15  0.000000  0.000000  0.0000    ...     0.000000  0.000000  0.00000   \n",
       "16  0.000000  0.000000  0.0000    ...     0.000000  0.097092  0.00000   \n",
       "17  0.000000  0.000000  0.0000    ...     0.000000  0.000000  0.00000   \n",
       "18  0.000000  0.000000  0.0000    ...     0.000000  0.000000  0.00000   \n",
       "19  0.107696  0.000000  0.0000    ...     0.000000  0.000000  0.00000   \n",
       "\n",
       "        work  workshop     world     worth        ye      year  zerostar  \n",
       "0   0.000000   0.00000  0.000000  0.069882  0.000000  0.000000    0.0795  \n",
       "1   0.195412   0.00000  0.000000  0.000000  0.000000  0.000000    0.0000  \n",
       "2   0.000000   0.00000  0.000000  0.000000  0.000000  0.000000    0.0000  \n",
       "3   0.000000   0.00000  0.000000  0.081156  0.000000  0.000000    0.0000  \n",
       "4   0.000000   0.00000  0.000000  0.000000  0.000000  0.000000    0.0000  \n",
       "5   0.000000   0.00000  0.000000  0.000000  0.000000  0.000000    0.0000  \n",
       "6   0.000000   0.00000  0.000000  0.000000  0.000000  0.000000    0.0000  \n",
       "7   0.098285   0.00000  0.000000  0.000000  0.000000  0.000000    0.0000  \n",
       "8   0.000000   0.00000  0.000000  0.000000  0.000000  0.000000    0.0000  \n",
       "9   0.038362   0.00000  0.000000  0.000000  0.000000  0.061262    0.0000  \n",
       "10  0.096972   0.15486  0.000000  0.000000  0.000000  0.000000    0.0000  \n",
       "11  0.000000   0.00000  0.124734  0.000000  0.000000  0.000000    0.0000  \n",
       "12  0.000000   0.00000  0.000000  0.000000  0.000000  0.000000    0.0000  \n",
       "13  0.000000   0.00000  0.000000  0.000000  0.000000  0.000000    0.0000  \n",
       "14  0.000000   0.00000  0.000000  0.000000  0.000000  0.000000    0.0000  \n",
       "15  0.000000   0.00000  0.000000  0.000000  0.000000  0.000000    0.0000  \n",
       "16  0.060799   0.00000  0.000000  0.000000  0.000000  0.000000    0.0000  \n",
       "17  0.000000   0.00000  0.000000  0.000000  0.000000  0.000000    0.0000  \n",
       "18  0.084091   0.00000  0.000000  0.000000  0.134289  0.000000    0.0000  \n",
       "19  0.000000   0.00000  0.000000  0.000000  0.000000  0.000000    0.0000  \n",
       "\n",
       "[20 rows x 534 columns]"
      ]
     },
     "execution_count": 46,
     "metadata": {},
     "output_type": "execute_result"
    }
   ],
   "source": [
    "data_sample = lines_[0:20]\n",
    "\n",
    "tfidf_vect_sample = TfidfVectorizer(analyzer=clean_text)\n",
    "X_tfidf_sample = tfidf_vect_sample.fit_transform(data_sample)\n",
    "print(X_tfidf_sample.shape)\n",
    "print(tfidf_vect_sample.get_feature_names())\n",
    "\n",
    "X_tfidf_df = pd.DataFrame(X_tfidf_sample.toarray())\n",
    "X_tfidf_df.columns = tfidf_vect_sample.get_feature_names()\n",
    "X_tfidf_df"
   ]
  },
  {
   "cell_type": "code",
   "execution_count": 47,
   "metadata": {},
   "outputs": [],
   "source": [
    "from collections import defaultdict\n",
    "dict_series = [0]*len(lines_)\n",
    "i = 0\n",
    "for rev in lines_:\n",
    "    fq= defaultdict(int)\n",
    "    for w in rev.split():\n",
    "        fq[w] += 1\n",
    "    dict_series[i] = fq\n",
    "    i += 1"
   ]
  },
  {
   "cell_type": "code",
   "execution_count": 48,
   "metadata": {},
   "outputs": [
    {
     "data": {
      "text/plain": [
       "defaultdict(int,\n",
       "            {'-PRON-': 18,\n",
       "             '-the': 3,\n",
       "             '2': 1,\n",
       "             '5_min': 1,\n",
       "             '5_star': 1,\n",
       "             'amazing': 1,\n",
       "             'and\\\\/or': 1,\n",
       "             'anymore': 1,\n",
       "             'anything_else': 1,\n",
       "             'astray': 1,\n",
       "             'bar': 1,\n",
       "             'base': 1,\n",
       "             'big': 1,\n",
       "             'blow': 1,\n",
       "             'breakfast_burrito': 1,\n",
       "             'cake': 1,\n",
       "             'choice': 1,\n",
       "             'coe': 1,\n",
       "             'coffee': 1,\n",
       "             'come': 1,\n",
       "             'commuter': 1,\n",
       "             'complaint': 1,\n",
       "             'confection': 1,\n",
       "             'cookie': 1,\n",
       "             'crowd': 1,\n",
       "             'cupcake': 2,\n",
       "             'dangerous': 1,\n",
       "             'dare': 1,\n",
       "             'daunting': 1,\n",
       "             'delicious': 1,\n",
       "             'difficulty': 1,\n",
       "             'dish': 1,\n",
       "             'do_not': 4,\n",
       "             'earth': 1,\n",
       "             'equally': 1,\n",
       "             'even_though': 1,\n",
       "             'experience': 1,\n",
       "             'feel': 1,\n",
       "             'finally': 1,\n",
       "             'find': 1,\n",
       "             'food': 2,\n",
       "             'friendly': 1,\n",
       "             'gelato': 1,\n",
       "             'gluten_free': 1,\n",
       "             'good': 3,\n",
       "             'gooey': 2,\n",
       "             'great': 1,\n",
       "             'green_tea': 1,\n",
       "             'hate': 1,\n",
       "             'high': 1,\n",
       "             'highlight': 1,\n",
       "             'hostess': 1,\n",
       "             'ice_cream': 1,\n",
       "             'iced': 1,\n",
       "             'kind_of': 1,\n",
       "             'know': 1,\n",
       "             'lead': 1,\n",
       "             'learn': 1,\n",
       "             'lgo': 2,\n",
       "             'line': 1,\n",
       "             'live': 1,\n",
       "             'look': 3,\n",
       "             'look_like': 1,\n",
       "             'mind': 1,\n",
       "             'minute': 1,\n",
       "             'more_often': 1,\n",
       "             'more_than': 1,\n",
       "             'mother': 1,\n",
       "             'occasional': 1,\n",
       "             'old_fashioned': 1,\n",
       "             'ooey': 2,\n",
       "             'order': 2,\n",
       "             'parking': 2,\n",
       "             'pastry': 2,\n",
       "             'people': 2,\n",
       "             'person': 1,\n",
       "             'pizza': 2,\n",
       "             'potatoe': 1,\n",
       "             'price': 1,\n",
       "             'red_velvet': 1,\n",
       "             'resist': 1,\n",
       "             'rest_of': 1,\n",
       "             'restaurant': 1,\n",
       "             'review': 1,\n",
       "             'sandwich': 2,\n",
       "             'shelf': 1,\n",
       "             'shop': 1,\n",
       "             'snobby': 1,\n",
       "             'south': 1,\n",
       "             'splendid': 1,\n",
       "             'spot': 2,\n",
       "             'street': 1,\n",
       "             'sure': 1,\n",
       "             'sushi_roll': 1,\n",
       "             'sweet': 1,\n",
       "             'tammie': 1,\n",
       "             'taste': 1,\n",
       "             'trust': 1,\n",
       "             'turkey': 1,\n",
       "             'vacate': 1,\n",
       "             'veg': 1,\n",
       "             'vegan': 1,\n",
       "             'vegetarian': 2,\n",
       "             'wait': 2,\n",
       "             'wonderful': 1,\n",
       "             'worker': 1})"
      ]
     },
     "execution_count": 48,
     "metadata": {},
     "output_type": "execute_result"
    }
   ],
   "source": [
    "fq"
   ]
  },
  {
   "cell_type": "code",
   "execution_count": 49,
   "metadata": {},
   "outputs": [
    {
     "data": {
      "text/plain": [
       "[defaultdict(int,\n",
       "             {\"'s\": 3,\n",
       "              '-PRON-': 26,\n",
       "              '7th': 1,\n",
       "              'ask': 1,\n",
       "              'ave': 1,\n",
       "              'barber': 1,\n",
       "              'barber_shop': 2,\n",
       "              'barely': 1,\n",
       "              'black': 2,\n",
       "              'close': 1,\n",
       "              'come': 1,\n",
       "              'come_back': 1,\n",
       "              'come_here': 1,\n",
       "              'conclusion': 1,\n",
       "              'cut': 2,\n",
       "              'do_not': 1,\n",
       "              'experience': 2,\n",
       "              'extra': 1,\n",
       "              'fade': 1,\n",
       "              'go_back': 1,\n",
       "              'guy': 3,\n",
       "              'hair': 1,\n",
       "              'haircut': 2,\n",
       "              'hanlon': 1,\n",
       "              'head': 1,\n",
       "              'heavyset': 1,\n",
       "              'imply': 1,\n",
       "              'invoke': 1,\n",
       "              'kind_of': 1,\n",
       "              'left': 1,\n",
       "              'length': 1,\n",
       "              'lest': 1,\n",
       "              'likely': 1,\n",
       "              'little': 1,\n",
       "              'loyal_customer': 1,\n",
       "              'malice': 1,\n",
       "              'man': 1,\n",
       "              'nate': 1,\n",
       "              'occasion': 1,\n",
       "              'place': 3,\n",
       "              'presume': 2,\n",
       "              'racism': 1,\n",
       "              'razor': 1,\n",
       "              'real': 1,\n",
       "              'regular': 2,\n",
       "              'remind': 1,\n",
       "              'second': 2,\n",
       "              'shape': 1,\n",
       "              'simple': 2,\n",
       "              'special': 1,\n",
       "              'stay': 1,\n",
       "              'steve': 1,\n",
       "              'stupidity': 1,\n",
       "              'style': 1,\n",
       "              'tell': 1,\n",
       "              'thank': 1,\n",
       "              'think': 1,\n",
       "              'tomorrow': 1,\n",
       "              'walk_in': 1,\n",
       "              'want': 2,\n",
       "              'way': 1,\n",
       "              'will_never': 1,\n",
       "              'worth': 1,\n",
       "              'zero_star': 1}),\n",
       " defaultdict(int,\n",
       "             {'-PRON-': 5,\n",
       "              'business': 1,\n",
       "              'know': 1,\n",
       "              'love': 1,\n",
       "              'nice': 1,\n",
       "              'outstanding': 1,\n",
       "              'peep': 1,\n",
       "              'service': 1,\n",
       "              'starbucks': 1,\n",
       "              'sure': 1,\n",
       "              'work': 1}),\n",
       " defaultdict(int,\n",
       "             {'-PRON-': 7,\n",
       "              '1000': 1,\n",
       "              'as_well': 1,\n",
       "              'atmosphere': 1,\n",
       "              'attentive': 1,\n",
       "              'bartender': 1,\n",
       "              'big': 1,\n",
       "              'brickyard': 1,\n",
       "              'chandler': 1,\n",
       "              'cocktail': 2,\n",
       "              'come': 1,\n",
       "              'conversation': 1,\n",
       "              'corpses': 1,\n",
       "              'downtown': 1,\n",
       "              'easy': 1,\n",
       "              'good': 3,\n",
       "              'great': 2,\n",
       "              'house': 1,\n",
       "              'know': 1,\n",
       "              'light': 1,\n",
       "              'music': 1,\n",
       "              'overall': 1,\n",
       "              'overbearing': 1,\n",
       "              'rave_about': 1,\n",
       "              'revivers': 1,\n",
       "              'second_time': 1,\n",
       "              'smooth': 1,\n",
       "              'spot': 1,\n",
       "              'swamp': 1,\n",
       "              'thang': 1,\n",
       "              'too_loud': 1}),\n",
       " defaultdict(int,\n",
       "             {'-PRON-': 21,\n",
       "              'access': 1,\n",
       "              'alright': 1,\n",
       "              'appreciate': 1,\n",
       "              'astonishingly': 1,\n",
       "              'audience': 1,\n",
       "              'babble': 1,\n",
       "              'bad': 1,\n",
       "              'captive': 1,\n",
       "              'chain': 1,\n",
       "              'coffee': 2,\n",
       "              'come': 2,\n",
       "              'connection': 1,\n",
       "              'conversation': 1,\n",
       "              'do_not': 2,\n",
       "              'enjoyable': 1,\n",
       "              'farm': 1,\n",
       "              'find': 1,\n",
       "              'free': 1,\n",
       "              'free_wifi': 1,\n",
       "              'frequently': 1,\n",
       "              'giant': 1,\n",
       "              'girl': 2,\n",
       "              'good': 1,\n",
       "              'guess': 1,\n",
       "              'have_no_idea': 1,\n",
       "              'high_school': 2,\n",
       "              'hour': 1,\n",
       "              'inane': 1,\n",
       "              'inexpensive': 1,\n",
       "              'internet': 2,\n",
       "              'life': 1,\n",
       "              'live': 1,\n",
       "              'many_people': 1,\n",
       "              'monthly': 1,\n",
       "              'moronic': 1,\n",
       "              'naturally': 1,\n",
       "              'pay': 2,\n",
       "              'people_who': 1,\n",
       "              'place': 2,\n",
       "              'pointless': 1,\n",
       "              'pretty': 1,\n",
       "              'realization': 1,\n",
       "              'scottsdale': 1,\n",
       "              'staff': 1,\n",
       "              'stick': 1,\n",
       "              'subscription': 1,\n",
       "              'suppose': 1,\n",
       "              'talk': 1,\n",
       "              'teenager': 1,\n",
       "              'thing': 2,\n",
       "              'this_place': 1,\n",
       "              'topic': 1,\n",
       "              'town': 1,\n",
       "              'treat': 1,\n",
       "              'trophy': 1,\n",
       "              'untrained': 1,\n",
       "              'use': 1,\n",
       "              'value': 1,\n",
       "              'wife': 1,\n",
       "              'wired': 1,\n",
       "              'worth': 1}),\n",
       " defaultdict(int,\n",
       "             {'-PRON-': 10,\n",
       "              'add': 1,\n",
       "              'appetite': 1,\n",
       "              'bacon': 1,\n",
       "              'big': 1,\n",
       "              'bite': 1,\n",
       "              'bomb': 1,\n",
       "              'burger': 1,\n",
       "              'can_not': 1,\n",
       "              'corndog': 1,\n",
       "              'couple': 2,\n",
       "              'crispy': 1,\n",
       "              'da': 1,\n",
       "              'delicious': 1,\n",
       "              'eat_here': 1,\n",
       "              'fantastic': 1,\n",
       "              'fries': 1,\n",
       "              'fry': 1,\n",
       "              'go_back': 1,\n",
       "              'grill_cheese': 1,\n",
       "              'homemade': 1,\n",
       "              'last_time': 1,\n",
       "              'list': 1,\n",
       "              'melt': 1,\n",
       "              'of_course': 1,\n",
       "              'opportunity': 1,\n",
       "              'order': 1,\n",
       "              'pimento': 1,\n",
       "              'pimento_cheese': 1,\n",
       "              'pimp': 1,\n",
       "              \"pimp'n\": 1,\n",
       "              'place': 1,\n",
       "              'ranch': 1,\n",
       "              'season': 1,\n",
       "              'sound': 1,\n",
       "              'time': 1,\n",
       "              'waffle': 1,\n",
       "              'wait': 1}),\n",
       " defaultdict(int,\n",
       "             {'$': 1,\n",
       "              '-PRON-': 1,\n",
       "              '6.95': 1,\n",
       "              'choice': 2,\n",
       "              'come': 1,\n",
       "              'come_back': 1,\n",
       "              'consistent': 1,\n",
       "              'entree': 1,\n",
       "              'food': 2,\n",
       "              'fresh': 1,\n",
       "              'good': 1,\n",
       "              'hot': 1,\n",
       "              'lunch_special': 1,\n",
       "              'order': 1,\n",
       "              'rice': 1,\n",
       "              'salad': 1,\n",
       "              'soup': 1,\n",
       "              'thai': 1}),\n",
       " defaultdict(int,\n",
       "             {'-PRON-': 7,\n",
       "              'absolutely_love': 1,\n",
       "              'add': 1,\n",
       "              'bar': 1,\n",
       "              'basket': 1,\n",
       "              'beer': 1,\n",
       "              'burger': 2,\n",
       "              'compare': 1,\n",
       "              'cook': 1,\n",
       "              'delux': 4,\n",
       "              'enjoy': 1,\n",
       "              'especially': 1,\n",
       "              'flight': 1,\n",
       "              'forget': 1,\n",
       "              'heaven': 1,\n",
       "              'medium': 1,\n",
       "              'offer': 1,\n",
       "              'order': 2,\n",
       "              'place': 1,\n",
       "              'sauce': 1,\n",
       "              'sit_at': 1,\n",
       "              'southwestern': 1,\n",
       "              'splitting': 1,\n",
       "              'style': 1,\n",
       "              'sunbru': 1,\n",
       "              'sweet_potato_fry': 2,\n",
       "              'uncommon': 1,\n",
       "              'wine': 1}),\n",
       " defaultdict(int,\n",
       "             {'-PRON-': 8,\n",
       "              'budd': 2,\n",
       "              'care': 1,\n",
       "              'centrally_locate': 1,\n",
       "              'dr': 1,\n",
       "              'easy': 1,\n",
       "              'fair': 1,\n",
       "              'find': 1,\n",
       "              'fun': 1,\n",
       "              'giveaway': 1,\n",
       "              'good': 1,\n",
       "              'kid': 1,\n",
       "              'kind': 1,\n",
       "              'location': 1,\n",
       "              'orthodontic': 1,\n",
       "              'patient': 1,\n",
       "              'payment': 1,\n",
       "              'plan': 1,\n",
       "              'pricing': 1,\n",
       "              'provide': 1,\n",
       "              'regard': 1,\n",
       "              'regret': 1,\n",
       "              'smile': 1,\n",
       "              'team': 3,\n",
       "              'welcome': 1,\n",
       "              'will_never': 1,\n",
       "              'win': 1,\n",
       "              'work': 1}),\n",
       " defaultdict(int,\n",
       "             {'area': 1,\n",
       "              'cal': 1,\n",
       "              'calamari': 1,\n",
       "              'conveniently_locate': 1,\n",
       "              'excellent': 1,\n",
       "              'experience': 1,\n",
       "              'fremont': 1,\n",
       "              'italia': 1,\n",
       "              'pizza': 1,\n",
       "              'sat': 1,\n",
       "              'sport_bar': 1,\n",
       "              'street': 1}),\n",
       " defaultdict(int,\n",
       "             {'-PRON-': 34,\n",
       "              'add': 1,\n",
       "              'anyways': 1,\n",
       "              'appreciate': 1,\n",
       "              'arjuna': 1,\n",
       "              'artisan': 1,\n",
       "              'available': 1,\n",
       "              'awesome': 1,\n",
       "              'basket': 3,\n",
       "              'bread': 1,\n",
       "              'chance': 1,\n",
       "              'chocolate_cake': 1,\n",
       "              'company': 1,\n",
       "              'customize': 1,\n",
       "              'damage': 1,\n",
       "              'deliver': 1,\n",
       "              'delivery': 2,\n",
       "              'disappoint': 1,\n",
       "              'drop': 1,\n",
       "              'eat': 1,\n",
       "              'especially': 1,\n",
       "              'farm': 1,\n",
       "              'farms': 1,\n",
       "              'fresh': 1,\n",
       "              'great': 1,\n",
       "              'grocery_store': 1,\n",
       "              'grow': 1,\n",
       "              'happen': 1,\n",
       "              'happy': 1,\n",
       "              'harvest': 1,\n",
       "              'home': 2,\n",
       "              'jam': 1,\n",
       "              'late': 1,\n",
       "              'like': 3,\n",
       "              'limited': 1,\n",
       "              'local': 2,\n",
       "              'location': 1,\n",
       "              'lufa': 3,\n",
       "              'meat': 1,\n",
       "              'member': 1,\n",
       "              'montreal': 1,\n",
       "              'nearby': 1,\n",
       "              'notification': 1,\n",
       "              'offer': 4,\n",
       "              'organic': 1,\n",
       "              'pack': 1,\n",
       "              'partner': 1,\n",
       "              'pick': 1,\n",
       "              'pick_up': 1,\n",
       "              'plan_ahead': 1,\n",
       "              'point': 1,\n",
       "              'product': 6,\n",
       "              'pumpkin': 1,\n",
       "              'quality': 1,\n",
       "              'receive': 1,\n",
       "              'reimbursement': 1,\n",
       "              'rooftop': 1,\n",
       "              'service': 3,\n",
       "              'sew': 1,\n",
       "              'squish': 1,\n",
       "              'sustainable': 2,\n",
       "              'sweet': 1,\n",
       "              'thank': 1,\n",
       "              'try': 1,\n",
       "              'variety_of': 1,\n",
       "              'veggie': 1,\n",
       "              'visit': 3,\n",
       "              'voila': 1,\n",
       "              'week': 1,\n",
       "              'weekly': 1,\n",
       "              'work': 1,\n",
       "              'year': 1})]"
      ]
     },
     "execution_count": 49,
     "metadata": {},
     "output_type": "execute_result"
    }
   ],
   "source": [
    "# https://programminghistorian.org/en/lessons/counting-frequencies\n",
    "dict_series[0:10]"
   ]
  },
  {
   "cell_type": "code",
   "execution_count": 50,
   "metadata": {},
   "outputs": [],
   "source": [
    "def wordListToFreqDict(wordlist):\n",
    "    wordfreq = [wordlist.count(p) for p in wordlist]\n",
    "    return dict(zip(wordlist,wordfreq))\n",
    "\n",
    "review_series = [wordListToFreqDict(wordstring.split()) for wordstring in lines_]"
   ]
  },
  {
   "cell_type": "code",
   "execution_count": 51,
   "metadata": {},
   "outputs": [
    {
     "data": {
      "text/plain": [
       "[{\"'s\": 3,\n",
       "  '-PRON-': 26,\n",
       "  '7th': 1,\n",
       "  'ask': 1,\n",
       "  'ave': 1,\n",
       "  'barber': 1,\n",
       "  'barber_shop': 2,\n",
       "  'barely': 1,\n",
       "  'black': 2,\n",
       "  'close': 1,\n",
       "  'come': 1,\n",
       "  'come_back': 1,\n",
       "  'come_here': 1,\n",
       "  'conclusion': 1,\n",
       "  'cut': 2,\n",
       "  'do_not': 1,\n",
       "  'experience': 2,\n",
       "  'extra': 1,\n",
       "  'fade': 1,\n",
       "  'go_back': 1,\n",
       "  'guy': 3,\n",
       "  'hair': 1,\n",
       "  'haircut': 2,\n",
       "  'hanlon': 1,\n",
       "  'head': 1,\n",
       "  'heavyset': 1,\n",
       "  'imply': 1,\n",
       "  'invoke': 1,\n",
       "  'kind_of': 1,\n",
       "  'left': 1,\n",
       "  'length': 1,\n",
       "  'lest': 1,\n",
       "  'likely': 1,\n",
       "  'little': 1,\n",
       "  'loyal_customer': 1,\n",
       "  'malice': 1,\n",
       "  'man': 1,\n",
       "  'nate': 1,\n",
       "  'occasion': 1,\n",
       "  'place': 3,\n",
       "  'presume': 2,\n",
       "  'racism': 1,\n",
       "  'razor': 1,\n",
       "  'real': 1,\n",
       "  'regular': 2,\n",
       "  'remind': 1,\n",
       "  'second': 2,\n",
       "  'shape': 1,\n",
       "  'simple': 2,\n",
       "  'special': 1,\n",
       "  'stay': 1,\n",
       "  'steve': 1,\n",
       "  'stupidity': 1,\n",
       "  'style': 1,\n",
       "  'tell': 1,\n",
       "  'thank': 1,\n",
       "  'think': 1,\n",
       "  'tomorrow': 1,\n",
       "  'walk_in': 1,\n",
       "  'want': 2,\n",
       "  'way': 1,\n",
       "  'will_never': 1,\n",
       "  'worth': 1,\n",
       "  'zero_star': 1},\n",
       " {'-PRON-': 5,\n",
       "  'business': 1,\n",
       "  'know': 1,\n",
       "  'love': 1,\n",
       "  'nice': 1,\n",
       "  'outstanding': 1,\n",
       "  'peep': 1,\n",
       "  'service': 1,\n",
       "  'starbucks': 1,\n",
       "  'sure': 1,\n",
       "  'work': 1},\n",
       " {'-PRON-': 7,\n",
       "  '1000': 1,\n",
       "  'as_well': 1,\n",
       "  'atmosphere': 1,\n",
       "  'attentive': 1,\n",
       "  'bartender': 1,\n",
       "  'big': 1,\n",
       "  'brickyard': 1,\n",
       "  'chandler': 1,\n",
       "  'cocktail': 2,\n",
       "  'come': 1,\n",
       "  'conversation': 1,\n",
       "  'corpses': 1,\n",
       "  'downtown': 1,\n",
       "  'easy': 1,\n",
       "  'good': 3,\n",
       "  'great': 2,\n",
       "  'house': 1,\n",
       "  'know': 1,\n",
       "  'light': 1,\n",
       "  'music': 1,\n",
       "  'overall': 1,\n",
       "  'overbearing': 1,\n",
       "  'rave_about': 1,\n",
       "  'revivers': 1,\n",
       "  'second_time': 1,\n",
       "  'smooth': 1,\n",
       "  'spot': 1,\n",
       "  'swamp': 1,\n",
       "  'thang': 1,\n",
       "  'too_loud': 1},\n",
       " {'-PRON-': 21,\n",
       "  'access': 1,\n",
       "  'alright': 1,\n",
       "  'appreciate': 1,\n",
       "  'astonishingly': 1,\n",
       "  'audience': 1,\n",
       "  'babble': 1,\n",
       "  'bad': 1,\n",
       "  'captive': 1,\n",
       "  'chain': 1,\n",
       "  'coffee': 2,\n",
       "  'come': 2,\n",
       "  'connection': 1,\n",
       "  'conversation': 1,\n",
       "  'do_not': 2,\n",
       "  'enjoyable': 1,\n",
       "  'farm': 1,\n",
       "  'find': 1,\n",
       "  'free': 1,\n",
       "  'free_wifi': 1,\n",
       "  'frequently': 1,\n",
       "  'giant': 1,\n",
       "  'girl': 2,\n",
       "  'good': 1,\n",
       "  'guess': 1,\n",
       "  'have_no_idea': 1,\n",
       "  'high_school': 2,\n",
       "  'hour': 1,\n",
       "  'inane': 1,\n",
       "  'inexpensive': 1,\n",
       "  'internet': 2,\n",
       "  'life': 1,\n",
       "  'live': 1,\n",
       "  'many_people': 1,\n",
       "  'monthly': 1,\n",
       "  'moronic': 1,\n",
       "  'naturally': 1,\n",
       "  'pay': 2,\n",
       "  'people_who': 1,\n",
       "  'place': 2,\n",
       "  'pointless': 1,\n",
       "  'pretty': 1,\n",
       "  'realization': 1,\n",
       "  'scottsdale': 1,\n",
       "  'staff': 1,\n",
       "  'stick': 1,\n",
       "  'subscription': 1,\n",
       "  'suppose': 1,\n",
       "  'talk': 1,\n",
       "  'teenager': 1,\n",
       "  'thing': 2,\n",
       "  'this_place': 1,\n",
       "  'topic': 1,\n",
       "  'town': 1,\n",
       "  'treat': 1,\n",
       "  'trophy': 1,\n",
       "  'untrained': 1,\n",
       "  'use': 1,\n",
       "  'value': 1,\n",
       "  'wife': 1,\n",
       "  'wired': 1,\n",
       "  'worth': 1},\n",
       " {'-PRON-': 10,\n",
       "  'add': 1,\n",
       "  'appetite': 1,\n",
       "  'bacon': 1,\n",
       "  'big': 1,\n",
       "  'bite': 1,\n",
       "  'bomb': 1,\n",
       "  'burger': 1,\n",
       "  'can_not': 1,\n",
       "  'corndog': 1,\n",
       "  'couple': 2,\n",
       "  'crispy': 1,\n",
       "  'da': 1,\n",
       "  'delicious': 1,\n",
       "  'eat_here': 1,\n",
       "  'fantastic': 1,\n",
       "  'fries': 1,\n",
       "  'fry': 1,\n",
       "  'go_back': 1,\n",
       "  'grill_cheese': 1,\n",
       "  'homemade': 1,\n",
       "  'last_time': 1,\n",
       "  'list': 1,\n",
       "  'melt': 1,\n",
       "  'of_course': 1,\n",
       "  'opportunity': 1,\n",
       "  'order': 1,\n",
       "  'pimento': 1,\n",
       "  'pimento_cheese': 1,\n",
       "  'pimp': 1,\n",
       "  \"pimp'n\": 1,\n",
       "  'place': 1,\n",
       "  'ranch': 1,\n",
       "  'season': 1,\n",
       "  'sound': 1,\n",
       "  'time': 1,\n",
       "  'waffle': 1,\n",
       "  'wait': 1}]"
      ]
     },
     "execution_count": 51,
     "metadata": {},
     "output_type": "execute_result"
    }
   ],
   "source": [
    "review_series[0:5]"
   ]
  },
  {
   "cell_type": "code",
   "execution_count": 52,
   "metadata": {},
   "outputs": [],
   "source": [
    "# find a way to remove words which are not specific to restaurants\n",
    "# idea: pick a business category which has very less similarity to \n",
    "        # restaurants and remove those words from our word lists"
   ]
  },
  {
   "cell_type": "code",
   "execution_count": 53,
   "metadata": {},
   "outputs": [],
   "source": [
    "# Aggregating businesses by combined reviews will help in identifying similar restaurants.\n",
    "    # can use this for recommending new restaurants\n",
    "    # can also use this in identifying similar users (i.e similar restaurants liked by diff users)\n",
    "# Aggregating user's by combining reviews will help in identifying similar restaurants.\n",
    "    # we will get some sort of score\n",
    "# probably could use that for users\n",
    "\n"
   ]
  },
  {
   "cell_type": "code",
   "execution_count": 54,
   "metadata": {},
   "outputs": [
    {
     "name": "stdout",
     "output_type": "stream",
     "text": [
      "finally\n"
     ]
    }
   ],
   "source": [
    "### Spell checking\n",
    "### english words has a max of two repeated letters consecutively\n",
    "def reduce_lengthening(text):\n",
    "    pattern = re.compile(r\"(.)\\1{2,}\")\n",
    "    return pattern.sub(r\"\\1\\1\", text)\n",
    "\n",
    "print(reduce_lengthening( \"finallllllly\" ))"
   ]
  },
  {
   "cell_type": "code",
   "execution_count": 55,
   "metadata": {},
   "outputs": [
    {
     "ename": "IndentationError",
     "evalue": "expected an indented block (tree.py, line 37)",
     "output_type": "error",
     "traceback": [
      "Traceback \u001b[0;36m(most recent call last)\u001b[0m:\n",
      "  File \u001b[1;32m\"/anaconda3/lib/python3.6/site-packages/IPython/core/interactiveshell.py\"\u001b[0m, line \u001b[1;32m2910\u001b[0m, in \u001b[1;35mrun_code\u001b[0m\n    exec(code_obj, self.user_global_ns, self.user_ns)\n",
      "  File \u001b[1;32m\"<ipython-input-55-1e7b493cf37b>\"\u001b[0m, line \u001b[1;32m6\u001b[0m, in \u001b[1;35m<module>\u001b[0m\n    from pattern3.en import spelling, suggest\n",
      "  File \u001b[1;32m\"/anaconda3/lib/python3.6/site-packages/pattern3/text/en/__init__.py\"\u001b[0m, line \u001b[1;32m22\u001b[0m, in \u001b[1;35m<module>\u001b[0m\n    from pattern3.text import (\n",
      "\u001b[0;36m  File \u001b[0;32m\"/anaconda3/lib/python3.6/site-packages/pattern3/text/__init__.py\"\u001b[0;36m, line \u001b[0;32m28\u001b[0;36m, in \u001b[0;35m<module>\u001b[0;36m\u001b[0m\n\u001b[0;31m    from pattern3.text.tree import Tree, Text, Sentence, Slice, Chunk, PNPChunk, Chink, Word, table\u001b[0m\n",
      "\u001b[0;36m  File \u001b[0;32m\"/anaconda3/lib/python3.6/site-packages/pattern3/text/tree.py\"\u001b[0;36m, line \u001b[0;32m37\u001b[0m\n\u001b[0;31m    except:\u001b[0m\n\u001b[0m         ^\u001b[0m\n\u001b[0;31mIndentationError\u001b[0m\u001b[0;31m:\u001b[0m expected an indented block\n"
     ]
    }
   ],
   "source": [
    "#MODULE = '/Users/rajeshpothamsetty/Downloads/pattern-master/pattern'\n",
    "#import sys\n",
    "#if MODULE not in sys.path: sys.path.append(MODULE)\n",
    "#import pattern\n",
    "\n",
    "from pattern3.en import spelling, suggest\n",
    "\n",
    "word = \"amazzziiing\"\n",
    "word_wlf = reduce_lengthening(word) #calling function defined above\n",
    "print(word_wlf) #word lengthening isn't being able to fix it completely\n",
    "\n",
    "correct_word = suggest(word_wlf) \n",
    "print(correct_word)"
   ]
  },
  {
   "cell_type": "code",
   "execution_count": 56,
   "metadata": {},
   "outputs": [],
   "source": [
    "from textblob import TextBlob\n",
    "from textblob import Word\n",
    "\n",
    "temp_textblob = TextBlob(x_temp)\n",
    "#print(temp_textblob.correct())"
   ]
  },
  {
   "cell_type": "code",
   "execution_count": null,
   "metadata": {},
   "outputs": [],
   "source": [
    "temp_correct = temp_textblob.correct()\n",
    "temp_correct"
   ]
  },
  {
   "cell_type": "code",
   "execution_count": 57,
   "metadata": {},
   "outputs": [
    {
     "ename": "NameError",
     "evalue": "name 'temp_correct' is not defined",
     "output_type": "error",
     "traceback": [
      "\u001b[0;31m---------------------------------------------------------------------------\u001b[0m",
      "\u001b[0;31mNameError\u001b[0m                                 Traceback (most recent call last)",
      "\u001b[0;32m<ipython-input-57-8921e2034f92>\u001b[0m in \u001b[0;36m<module>\u001b[0;34m()\u001b[0m\n\u001b[0;32m----> 1\u001b[0;31m \u001b[0mclean_text\u001b[0m\u001b[0;34m(\u001b[0m\u001b[0mtemp_correct\u001b[0m\u001b[0;34m)\u001b[0m \u001b[0;31m#removes 'e' from arrive; why?\u001b[0m\u001b[0;34m\u001b[0m\u001b[0m\n\u001b[0m",
      "\u001b[0;31mNameError\u001b[0m: name 'temp_correct' is not defined"
     ]
    }
   ],
   "source": [
    "clean_text(temp_correct) #removes 'e' from arrive; why?"
   ]
  },
  {
   "cell_type": "code",
   "execution_count": 58,
   "metadata": {},
   "outputs": [
    {
     "data": {
      "text/plain": [
       "TextBlob(\"reserve\")"
      ]
     },
     "execution_count": 58,
     "metadata": {},
     "output_type": "execute_result"
    }
   ],
   "source": [
    "TextBlob('reserv').correct()"
   ]
  },
  {
   "cell_type": "code",
   "execution_count": 59,
   "metadata": {},
   "outputs": [
    {
     "data": {
      "text/plain": [
       "TextBlob(\"arrive\")"
      ]
     },
     "execution_count": 59,
     "metadata": {},
     "output_type": "execute_result"
    }
   ],
   "source": [
    "TextBlob('arriv').correct()"
   ]
  },
  {
   "cell_type": "code",
   "execution_count": 60,
   "metadata": {},
   "outputs": [],
   "source": [
    "## Pyspark Basics\n",
    "## https://www.dezyre.com/apache-spark-tutorial/pyspark-tutorial"
   ]
  },
  {
   "cell_type": "code",
   "execution_count": 87,
   "metadata": {},
   "outputs": [],
   "source": [
    "import findspark\n",
    "findspark.init()"
   ]
  },
  {
   "cell_type": "code",
   "execution_count": 1,
   "metadata": {},
   "outputs": [],
   "source": [
    "from operator import add\n",
    "from pyspark.ml.feature import RegexTokenizer, CountVectorizer\n",
    "from pyspark.ml.feature import StopWordsRemover, VectorAssembler\n",
    "from pyspark.ml.feature import Word2Vec, Word2VecModel\n",
    "from pyspark.ml.feature import IDF\n",
    "from pyspark.ml import Pipeline, PipelineModel\n",
    "\n",
    "from pyspark.sql.functions import *\n",
    "from pyspark.sql.types import *\n",
    "\n",
    "import folium\n",
    "import html"
   ]
  },
  {
   "cell_type": "code",
   "execution_count": 2,
   "metadata": {},
   "outputs": [],
   "source": [
    "data_path = '/Volumes/Transcend/dataset/'\n",
    "model_path = '/Volumes/Transcend/MDS_Yelp/model/'\n",
    "outout_path = '/Volumes/Transcend/MDS_Yelp/output/'"
   ]
  },
  {
   "cell_type": "code",
   "execution_count": 3,
   "metadata": {},
   "outputs": [
    {
     "name": "stdout",
     "output_type": "stream",
     "text": [
      "root\n",
      " |-- business_id: string (nullable = true)\n",
      " |-- business_name: string (nullable = true)\n",
      " |-- neighborhood: string (nullable = true)\n",
      " |-- address: string (nullable = true)\n",
      " |-- city: string (nullable = true)\n",
      " |-- state: string (nullable = true)\n",
      " |-- postal_code: string (nullable = true)\n",
      " |-- latitude: double (nullable = true)\n",
      " |-- longitude: double (nullable = true)\n",
      " |-- stars: double (nullable = true)\n",
      " |-- review_count: long (nullable = true)\n",
      " |-- categories: array (nullable = true)\n",
      " |    |-- element: string (containsNull = true)\n",
      "\n"
     ]
    }
   ],
   "source": [
    "business_df = spark.read.parquet(data_path + 'business-small.parquet')\n",
    "business_df.printSchema()"
   ]
  },
  {
   "cell_type": "code",
   "execution_count": 4,
   "metadata": {},
   "outputs": [
    {
     "name": "stdout",
     "output_type": "stream",
     "text": [
      "root\n",
      " |-- user_id: string (nullable = true)\n",
      " |-- user_name: string (nullable = true)\n",
      " |-- review_count: long (nullable = true)\n",
      " |-- yelping_since: string (nullable = true)\n",
      " |-- useful: long (nullable = true)\n",
      " |-- funny: long (nullable = true)\n",
      " |-- cool: long (nullable = true)\n",
      " |-- fans: long (nullable = true)\n",
      " |-- average_stars: double (nullable = true)\n",
      "\n"
     ]
    }
   ],
   "source": [
    "user_df = spark.read.parquet(data_path + 'user-small.parquet')\n",
    "user_df.printSchema()"
   ]
  },
  {
   "cell_type": "code",
   "execution_count": 5,
   "metadata": {},
   "outputs": [
    {
     "name": "stdout",
     "output_type": "stream",
     "text": [
      "root\n",
      " |-- review_id: string (nullable = true)\n",
      " |-- user_id: string (nullable = true)\n",
      " |-- business_id: string (nullable = true)\n",
      " |-- stars: long (nullable = true)\n",
      " |-- review_date: string (nullable = true)\n",
      " |-- review_text: string (nullable = true)\n",
      " |-- useful: long (nullable = true)\n",
      " |-- funny: long (nullable = true)\n",
      " |-- cool: long (nullable = true)\n",
      "\n"
     ]
    }
   ],
   "source": [
    "review_df = spark.read.parquet(data_path + 'review-small.parquet')\n",
    "review_df.printSchema()"
   ]
  },
  {
   "cell_type": "code",
   "execution_count": 6,
   "metadata": {},
   "outputs": [
    {
     "name": "stdout",
     "output_type": "stream",
     "text": [
      "+--------------------+--------------------+\n",
      "|             user_id|         review_text|\n",
      "+--------------------+--------------------+\n",
      "|u0LXt3Uea_GidxRW1...|Who would have gu...|\n",
      "|u0LXt3Uea_GidxRW1...|Not bad!! Love th...|\n",
      "|u0LXt3Uea_GidxRW1...|This is currently...|\n",
      "+--------------------+--------------------+\n",
      "only showing top 3 rows\n",
      "\n"
     ]
    }
   ],
   "source": [
    "# create SQL view for later queries\n",
    "review_df.createOrReplaceTempView(\"reviews\")\n",
    "\n",
    "# create review text dataframe\n",
    "reviews_text = spark.sql(\"SELECT user_id, review_text FROM reviews\")\n",
    "reviews_text.show(3)"
   ]
  },
  {
   "cell_type": "code",
   "execution_count": 9,
   "metadata": {},
   "outputs": [
    {
     "data": {
      "text/plain": [
       "73041"
      ]
     },
     "execution_count": 9,
     "metadata": {},
     "output_type": "execute_result"
    }
   ],
   "source": [
    "# concatenate all reviews per restuarant\n",
    "\n",
    "reviews_text_rdd = reviews_text.rdd\n",
    "reviews_by_user_rdd = reviews_text_rdd.map(tuple).reduceByKey(add)  \n",
    "reviews_by_user_df = spark.createDataFrame(reviews_by_user_rdd)\n",
    "reviews_by_user_df = reviews_by_user_df \\\n",
    "                            .withColumnRenamed('_1', 'user_id') \\\n",
    "                            .withColumnRenamed('_2', 'text')\n",
    "reviews_by_user_df.count()"
   ]
  },
  {
   "cell_type": "code",
   "execution_count": 10,
   "metadata": {},
   "outputs": [
    {
     "data": {
      "text/plain": [
       "Row(user_id='nOTl4aPC4tKHK35T3bNauQ', text='I give up on this place! I have gotten burritos and other things from this place on several occasions and it\\'s always been sub-par. Bland food, overcooked, sometimes burnt (nachos). As a result, I haven\\'t bothered going or ordering from there in well over a year. Well, today I had a craving for Mexican and since Toronto has a huge lack of Mexican restaurant choices and because I\\'m busy working at home, my husband and myself decided to order from BarBurrito\\'s delivery. I should also mention that if you go to justeat.ca BarBurrito charges $7 delivery. Orderit.ca has no charge. Don\\'t know if that\\'s the ordering website or the restaurant, but it\\'s a tip for anyone who decides to order from this place.  So I went ahead and placed the order...only to have it be \"rejected\" by BarBurrito, because they are busy right now. This restaurant is listed on two different food ordering sites, but they won\\'t deliver if they don\\'t feel inclined?? SERIOUSLY!   So I have learned my lesson. Don\\'t give places second, or even third chances. And this place...don\\'t even give it a first chance. Not worth it at ALL.I think I may have been let down by this place because of all the rave reviews. But the fact is, I\\'ve eaten here twice and neither time was spectacular.   My expectations of a breakfast place are cheap prices, good food (because eggs are hard to mess up), fast turnover and service. This place has prices on the high end of breakfast place, on weekends they are very crowded and it will take some time to be seated and the food is alright.   The last time I went, I was with my husband and we went in the door to a huge crowd. There was no wait to be seated sign, but we guessed correctly and waited. Problem is that you pay and wait in the same place, which meant people were coming and going in a very small area. It was chaos for awhile. Finally we were seated outside at a picnic table and told that other people may be seated with us at the table, because they lacked space.   The waitress took some time to arrive and by then we were ready to give our order. I ordered eggs and bacon and toast. We also each ordered fruit smoothies. I asked for mine without banana. The waitress came back a few minutes later and said with a straight face, \"The guys back there put like three bananas in your smoothie!\"   It took me a minute to realize she was joking....heh....  We played several rounds of Scrabble on an iphone because the food was taking quite awhile and it finally came out. Our drinks were no where to be seen. We had to ask twice for them. By then we were almost done the food!  The food was alright, but I usually go to places like Egg Smart and for the cost, they give you way more food, for a better price and honestly, I think it tastes way better. These famous \"Boom frites\" are just thick, cut potatoes and they give you one slice of toast!   Anyway, if you\\'re in the area and really want some breakfast, it\\'s not terrible, but I think you can do way better!   Oh, and I disagree that it\\'s a good place for a group. Unless you want to wait forever...or make a group by joining another couple at their picnic table!Sometimes it feels SO good to be SO bad...for you. I have been dying to try out an actual poutinerie for a long time and it did not disappoint. I\\'ve been twice now. Once I had the basic poutine and once I had the pulled pork poutine. Both are good, but I really love that pulled pork poutine. The BBQ sauce they have has just a touch of sweetness and it really compliments the fries and cheese curds. A large poutine is more than enough for two people and I liked the little restaurant space with the 80s glam rock playing and quirky pictures on the walls. I guess my only criticism is that they need more seating. Both times I\\'ve been we got lucky and managed to snag seats as someone was leaving, but it\\'s gross out on the street and this summer anyway, it\\'s been SO hot outside. They don\\'t have space for more seats, so this isn\\'t really something they can easily fix, but maybe something to keep in mind for future establishments? Anyway, if you want a very unhealthy treat, it\\'s a go!While I really enjoyed the noodles, their signature pork buns, which seemed to be something everyone orders and raves about, I did not like at all. The pork was pure fat and while it wasn\\'t gristly, it was SO greasy, the grease positively dripped all over your hands. It was hugely unappetizing. I couldn\\'t taste the cucumbers and didn\\'t see any evidence of scallions. It was basically just pure fat, wrapped in a bland \"bun\". So I guess if you enjoy really fatty, greasy appetizers, this is the right deal. (Really, I can\\'t stress enough how fatty the pork was...it was purely, white, greasy fat! Either change the name of the dish to pork fat buns, or please add some actual pork!)  The noodles however, were quite good and I liked the flavour combinations. I had the dan dan noodles, which is spicy pork, dried scallops and peanuts. I enjoyed that you could really taste the peanuts. I was a little disappointed that the pork was ground pork, instead of shredded pork. It made the dish seem cheaper and less inspired.   I liked the atmosphere, but the seating is at long tables and so you share the space with whoever they place next to you. The seats are long benches, so if you\\'re in the middle of the bench, you have to lift your leg over...I saw guys struggling to do this...now imagine being a girl, wearing a skirt and having to do this. No graceful way to go about that!  To be honest, this place just didn\\'t blow me away enough to make a conscious effort to return. It certainly wasn\\'t terrible, but it wasn\\'t really good either.We booked a reservation at Smith for Summerlicious. One of the major problems was finding it though. Almost every one in our party either didn\\'t see it initially (it\\'s sort of nondescript looking), or weren\\'t sure which door/staircase was the proper one to get inside.  Once inside though, it\\'s an eclectic blend of vintage meets white-washed industrial. If you didn\\'t know that was a style, neither did I, but it totally works. There was a great blend of music in the background...it was a mix, probably an employee just made it, but it was great mood music. I want that mix CD!  My brother had called several weeks ago to make a reservation and somehow they didn\\'t have it. Apparently it\\'s an answering service for reservations and they say they call you back if they can\\'t accommodate you. He never received a call back, so the assumption was that the reservation was alright. Unfortunately, as I said, there was no reservation. The staff apologized profusely though and luckily there was space and they set up a table for us right away.  We ordered from the drink menu and I will say that they drinks are very expensive. The wine is what you would expect and the mixed drink (at least the one I had, the Smith Lemonade) was fantastic, but it was also $12, which is steep even for Toronto bar standards.  As I said, we ordered from the Summerlicious menu. I have heard many comments online that people are feeling disillusioned with Summerlicious because so many restaurants give you the cheapest options and it\\'s not worth the cost. This was NOT the case with Smith at all. There were several great options to choose from and the food was excellent. I had the curried carrot soup, which was spicy but great. Every one else in my party also enjoyed their various appetizers. My main course was a Georgian Bay whitefish, which was done perfectly, just crispy enough on the outside and flaky on the inside. The pork chops were also raved about. There was also a risotto, which two of the three people who ordered it really enjoyed. You can\\'t take that last guy (brother again) too seriously, since he\\'s a very picky eater.  The desserts were all good, however the fudge ice cream, is really just chocolate ice cream, nothing special. The lemon curd tasted like lemon pie filling and was delicious and the bread pudding was heavenly! Seriously, it was SO good.  I think everyone left feeling really satisfied.  It did take a long time to get the food. This wasn\\'t a problem for us, since we were there to converse and I understand that great food may take some time, but if you are really hungry, or looking for a quicker meal, this isn\\'t the right choice. Basically it lost of star because of the lost reservation and lack of visibility from the street. Also, we weren\\'t thrilled with the washrooms. Besides the fact that they are co-ed, which is a little weird, there is one, large sink and a foot peddle to operate it. Since only one person can step on it at a time, you have to wait for that person to finish, before you can wash your hands, which starts to cause a bit of a back-up if more than two people are in the washroom. Also, the hand dryers were weak/not working.  That said, I wouldn\\'t let a slightly annoying bathroom stop me from coming here! This is a nice, little place!Okay, so my rating has gone down from the first time I went here.   I came again, with my family, for my birthday, at the beginning of October. Even though we had a reservation, our table wasn\\'t ready. We were finally seated and the waiter introduced himself...and then disappeared. Came back ten minutes later and took drink orders and then disappeared for 15 minutes...this continued the entire time. Our dinner took A LONG time. It took forever for our drinks to be served and even longer for our food to come out. Then when the food came out, we got two plates and then waited five minutes for one more plate...then waited another five minutes for another plate. It took our group 15 minutes just for us all to receive the food! Obviously we couldn\\'t eat until everyone had been served and the food was getting cold at that point.  Oh, the best part?? Someone mentioned it was my birthday and the waiter said, \"Oh, so you\\'re a January baby,\" indicating to when I was conceived...to my parents. Yes...thank you sir. I would really like to be reminded of my parents\\' doing it, right before dinner...because that\\'s completely appropriate.   So yes, the service this time was TERRIBLE!   BUT, everyone enjoyed their food and thought it was really good, so there ya have it. Service hit or miss, but food is good.Poor Hero Burger is getting a lot of flack from people. I\\'ve never had anything but good experiences here. I think the burgers here are heads and tails above many other gourmet burger places, mainly because the diversity of toppings.   I like the fries here, but they\\'re nothing special. Same with the poutine, same with the onion rings (I;ve tried em all). But those burgers are good! No word of a lie!  I think the prices are pretty standard for these types of burger places and service has always been fine for me.  They have a great coke machine...which I know sounds super weird, but you choose your drink...and then can choose the flavour. For example...if I want Fanta, I select that and can then choose any number of Fanta flavours. I always go with a diet cherry coke...where else does that even exist in Canada???! (I\\'ll tell you actually. You can get that at Licks, but they get really confused when you ask for diet coke, instead of regular...they make it themselves).   Criticisms of the small location are valid. This place is very small and cramped. Not nice to eat in...or even to wait. But it is what it is. They have a mounted flat screen for people to watch and they\\'ve done what can can in a super small space.I went here with my husband and another couple as the start to our double date night. I reserved a table on the Wednesday before and I\\'m glad I did, but even still we were originally seats in a less than ideal table. I spoke to the hostess and a manager came out and graciously moved us, which was very nice of them, because apparently many people call and reserve specific seats!   I have walked by this restaurant a million times and never known it was there. It is directly on Bloor, but in a small \"mall\" which houses The Japanese Foundation and some other businesses. The restaurant is on the second floor and there are no readily visible signs on the street, so you would never think to just walk into this place...maybe that\\'s the point!   The decor of the restaurant is really lovely. They have a huge, stain glass ceiling and dark wooden furniture and Art Nouveau decor. The bathrooms are large, individually sectioned off stall, with white and black tiles everywhere and large, vintage, French ads on the walls.   Two of our party ordered from the Winterlicious menu, one ordered from the regular menu and I ordered from their regular Prix Fixe menu, which they have available all the time and is $7 more than the Winterlicious.   They were also offering some Winterlicious cocktails...I had three (the same one) and they were excellent.   Our appetizers included two salads, which looked great and (according to the orderes) were. My husband ordered the onion soup from the Winterlicious menu and it was great and I ordered the mushroom soup from the prix fixe and it was excellent!  The main courses included steak from the regular menu, which were ordered with steak frites. The steak was a nice cut of meat, prepared exactly as asked and the steak frites were served with a garlic aioli (which we all tried) and was really good!  The lasagna and pork belly were ordered from the Winterlicious menu. Lasagna came in a rounded dish, where it had been baked and was on the smaller side, but satisfying within a three course meal. My husband had the pork belly from the Winterlicious menu and I tried that. The sauce on it and the tenderness of the pork were really nice.   I had the pistachio chicken, which was a huge dish! The chicken breast was served on top of another cut of chicken, but in dark meat. Both had pistachios on top and delicious sauces drizzled along the bottom of the plate and a few apple slices as garnish. I couldn\\'t finish two pieces of chicken and I stuck mostly with the white meat, but it was a nice option to have to two and I tried the dark and it was really excellent as well!   The reason I chose the prix fixe menu over the Winterlicious, was because of the dessert. The Winterlicious had the pistachio chicken as a main and the onion soup was an option for the appetizer, but the desserts set the prix fixe apart. On the Winterlicious menu the option was a rhubarb crumble, or chocolate mousse. Neither of which I really cared for, although I tried it from my husband and it was good. On the prix fixe menu you have a choice of creme brule (which I have heard good things about) and a sticky toffee cake. I asked the waitress what she recommended and she said the sticky toffee, because it was such a lovely, winter dessert. I had been set on the creme brule, but you know what....brules are a dime a dozen. How many places have sticky, toffee cake?   I was NOT disappointed. The cake was amazing! It was a small, singular bundt cake, topped with a toffee crisp and a small scoop of caramel ice cream and surrounded on the plate with warm, caramel. It was decadent and delicious.   Finally I\\'ll mention that our server was lovely and attentive and not a single person in our party were disappointed in any way. We all left very happy and satisfied.   This place is a little on the pricier end (would have been less so except for the three drinks myself and my friend had and the beers that the guys had), but it\\'s great for a nice night out, or a romantic date.   I will definitely come back some time in the future.We went here after dinner, simply for drinks. I wanted a cocktail and my sister recommended this place.   Good choice mon soeur!   This cute little bar has nice, clean decor, with some interesting touches, such as a large, metal cross on one wall, that I was a big fan of.   The service was great and the drinks were a good size and were excellent. My husband had scotch and said it was very smooth (that\\'s more a comment on what they offer, as opposed to bar tending), but my sister and my cocktails were great. They are about average price for cocktails, but the size makes it feel more worth it ($10 for our 3 oz drinks), in large martini glasses.   We didn\\'t have food here, but I would be interested in coming back some time and giving it a try!I went here for the first time yesterday night to celebrate something with my family. Several members of my family have been to this place before for Summerlicious and really enjoyed it.   A nice atmosphere and excellent service, everyone ordered a variety of different dishes, many of which I tasted. I myself had a chicken salad and thought it was very good. My sister\\'s pasta dish was amazing though! Our waiter never rushed us out and was quick to refill water and bread and clear dishes, etc. That with an arm brace on!   Prices are a little high, which is why I didn\\'t give this place five stars...I know those amazing places exist out there with great food AND great prices, but this was a nice evening out.I had a craving for Mexican and came here (ie. Yelp) to figure out what we could do, because there is a very real lack of good Mexican food in Toronto. This place had some good reviews and wasn\\'t too far away from us, so off we went.  Parking in Leaside can be pretty brutal, but we finally found a space and luckily, street parking is free.   The restaurant is tacky, stereotypical, but cozy and we were quickly greeted and seated.   The menu has basic Mexican fare, burritos, fajitas, tacos, with your choice of meat. Nothing too outside of the box, but that\\'s not necessarily a bad thing.   We ordered the guacamole to start and I ordered a chicken enchilada and my husband ordered the chimichanga.   The guacamole is very delicious and creamy, but we had to ask for more nachos and even then it felt like not enough. We were really loading up the chips with the guacamole!   The food came out and the was served with rice, a salad (sort of Italian dressing with feta and tomatoes) and refried beans. The salad was pretty generic and the rice was bland, but the actual main courses were great and the refried beans helped with the spice (I\\'m a wimp).   The appetizer and our main courses came to $30 and we were VERY full.   Service was good and food was good and it wasn\\'t too expensive. It wasn\\'t perfect, but we\\'ll totally be back!Never eaten at this place before, but it\\'s always crowded and I decided that must mean something. I was running errands and hadn\\'t eaten the whole day, so decided to finally give this place a shot. I ordered a chicken sandwich and iced tea.  The iced tea doesn\\'t appear to be iced tea. It was a dark reddish colour and tasted like very watered down pomegranate juice. It was inedible. It was super gross. I was thinking that maybe they made a mistake, but I can\\'t see on the menu anything else it might be and the girl who took my order, poured the drink and gave it to me SAID it was iced tea. Sooooo ew.   Sandwich was alright, but just alright. The \"aroma sauce\" which is a garlic mayo of sorts was good and the roasted red peppers and mozzerella on the sandwich were good. The bread was good, but the chicken was the sort of cheap, crappy chicken you find at Subway, where it\\'s a sort of compressed chicken-like white meat, with fake grill marks on it. It had no taste and really took away from the overall sandwich.   There are soups, salads and of course hot beverages served at this place as well, so I\\'m not writing it off just yet, but this was not a good first impression.Solid soup place...has an ever-so-slightly sketchy vibe to it...you order your soup and the woman disappears into the back...usually closes the sliding window so you can\\'t see back there and then eventually emerges with your soup. Also seems to sell a selection of Jamaican movies in DVD from a glass case...sort of random.  Generous with the veggies, less so with dumplings, but all the soups have great flavour and are decently sized for the price. I wish they would offer some bread or crackers for the soup...would be a nice, easy add-on. But this place is what it is and doesn\\'t bother with the bells and whistles. Really deserves a 3.5 stars. The red bean is my fav by far.I would be more inclined to give this place 3-1/2 stars, but since that\\'s not possible, I\\'m rounding down.   I went here for Sunday lunch with a group for Winterlicious. For $15 we got a choice of appetizer, entree and dessert.   We arrived first and our table was waiting for us. The restaurant was not busy at that point and our waiter was very attentive with water and the wine menu.  Once our party finally arrived we all ordered. I had their Chipotle Sweet Potato & Goat Cheese Dip, which was average. The salads looked much better and got better reviews. Same with the soup. The dip was literally a dollap of dip at the side of the plate with some crostinis on the other end and 1 piece of pickled cauliflower and a few slices of onion in the middle. The dip was good, the pickled cauliflower alright. It was nice when all combined on the crostini (pickled veggies, dip on top of crostini).   I had originally wanted to order the double pork slider, but I saw it arrive at someone else\\'s table and it was literally just the one, single mini pork sandwich, with a few thinly cut fries at the side. It looked good, but it was appetizer size, IF THAT. The chicken sandwich was more reasonably sized, so I ordered that. It was good. I really liked the bread. The macaroni was also more reasonably sized. I sampled it and it was fine. Didn\\'t blow me away.   Dessert was the highlight of the meal for everyone I think. Some people ordered the mousse, which I thought was fine, but the people who ordered it loved, so there you have it. My husband loved his apple terrine, which I tried and was good. I liked the flavour of my creme brule very much, but the top was over toasted and had hardened to the consistency of a thin, hard candy. It was hard to break with my spoon and got stuck in my teeth.   The service was consistently good, so no complaints there. None of us had wine with our lunch (although some had other drinks), so I can\\'t comment there.   This is a tapas bar, so I expect sizes to be small. BUT when sizes are small I expect them to be priced accordingly and/or to be in sharable portions. They gave the prices of each dish if you were to purchased them individually. These would all be hard to share and wouldn\\'t really be worth it. They are nice as a Winterlicious meal, but I\\'m not sure this would be my first choice to go back to.I am surprised at the people complaining about the service, because we found the service to be fine. Especially given how busy and cramped it was. There were no tables, but they got us seats at the bar. The music was maybe a little loud, but I enjoyed the 90s throwback that was happening. The place looks like a dive, it\\'s a total hole in the wall, with no signs to speak of, but I liked the weird atmosphere of weird, old \"ghetto blasters\" on the walls and pics of Arnold in Terminator. It\\'s random, just go with it... But the food....OH the FOOD! We were told that the squash poutine was a must have, so I ordered that and the bulgogi cheese steak, while my friend ordered the poutine and the mackerel. The mackerel was served first. It arrived raw, on a platter and a torch was taken to it to sear the outside and that was it. My friend allowed me a bite and it was so fresh tasting, with a delicious marinade. Next came by bulgogi sandwich. Fresh, delicious bread and amazing bulgogi. Was very pleased. Finally the \"poutines\" arrived. I should say that it was not what we were expecting. I assumed it would be squash on top of fries. But in fact the squash was the fries. THey were lightly fried and covered in a variety of sauce \"gravies\" and scallions and some other stuff that I could neither make out, nor even see clearly (dim lighting). It doesn\\'t matter okay....this stuff was HEAVEN! Both my friend and I took a bite and looked at each other...and proclaimed our new favourite food.  Other people in our party got the wings, which looked amazing and they said they were and The Loosey, which was also proclaimed as delicious. So basically there were no wrong moves. The drink menu was very adventurous...more so than we were, because we didn\\'t take the plunge, although it was fun sitting at the bar and watching the bartender creating them. And splitting the bill for my friend with two others (her birthday), my two \"tapas\" and a generic alcoholic beverage came to just under $30. The prices are extremely reasonable...and honestly once you try this stuff...I mean, I don\\'t want to give them any ideas, but I would have paid more for that fine, fine food. I will be back. Need me some more of that poutine!Our friends got the groupon for four people and took us along. I\\'m very pleased we went! Having never had Ethiopian food before, we were curious, but wary. The deal really helped us dive in. It included two appetizers, four main courses and two desserts. We started with two appetizers, one I wasn\\'t a huge fan of (a \"salad\" with a strong vinegar taste and jalapenos, which I found too strong, although other people in my group really liked it). The other appetizer was similar to an Indian samosa (similar name too, but I can\\'t remember exactly what it was called). They were stuff with lentils and had a flaky shell. They were DELICIOUS. BUT, their appetizers were only made for three people, so there were only three of them! Seems silly when you offer a four person deal.  We each ordered a different main course and they brought them on one large platter, so we could all share. We ordered two vegetarian options, one of lentils and one of chickpeas and one of chicken and one of beef. Basically, the meals are more sauces than anything and they are served with injera, which are sort of bland, cold, bread-like stuff, which comes rolled up. They\\'re nothing special, but they\\'re only used as a sort of utensil, because you use it to scoop up the food. The food was delicious! I especially liked the chickpea dish. Every one of us ended up liking a different dish the best! Worked out well. I personally found the beef dish very tough though.  Once we were stuff with the food, we ordered two desserts. We especially liked the cheesecake (which is obviously not Ethiopian).  We asked if they had any Ethiopian coffees and they said yes. THey showed us the beans, as they were being roasted. Then they came back out with a sort of stone earthenware kettle and some small cups. The coffee was so rich, it was almost like chocolate. They also served it with a large basket of popcorn, which was just perfectly prepared. It was such a nice after dinner snack! I would totally come here just to order the coffee!  It would have been a very expensive dinner without the groupon, so I\\'m not sure I would make this a regularly destination, but as I said, the coffee was fantastic and it\\'s a fun thing to try, especially with friends. Make sure they\\'re good ones, that you don\\'t mind getting messy in front of!A little on the pricey end for baked goods, but the baked goods are GOOD. Also their coffee products are great. The set up is annoying (order your desserts on one side and coffee and food on another side), but the service is good and overall they do a good job.My sister told me that Origin was well known for their delicious brunches, so we made a trip there to see if this was the case.  Origin is pretty new in our area and is very large, but nicely decorated. My only comment would be the washrooms, which feature communal sinks, the kind you find in elementary schools, where you step on the thing at the bottom and water comes out all around. Besides not being very effective to quickly wash hands, it\\'s also wasteful if you\\'re the only one there. Strange concept. Throw back, but not necessarily one wants to remember during their brunch.   Now onto the important part...the food and service. Service started out alright and then immediately got very slow. It took some time to get our drink orders and then took a LONG time to get our actual orders.  I ordered their French toast, my sister ordered tostada and my husband skipped brunch and ordered a meal they offered of a burger, fries covered in some chorizo and sauce and a float. I also ordered a side of bacon...and was told that they were out of bacon...which meant any orders that would have come with bacon were out entirely, or would be served without bacon. I\\'m sorry but a brunch restaurant without bacon? Even the waitress admitted it was ridiculous. We also shared a plate of buscuits with their preserves. These were delicious. Apparently my meal was the one that took the longest. The others got their food and we still waited for five minutes before mine came out. Who knew it would take so long to put a couple of pieces of bread on a plate and cover them with blueberry preserves? My sister said her tostada was quite good. My French toast was nothing special. The toast was \"fancy\", rounded pieces, on top of each other with whipped cream and blueberries in between. The \"maple\" which was supposed to be on the plate (maple syrup I\\'m guessing) was barely present. Tasted like something I could have created with some ease. My husband\\'s dish was the best by far. His burger was juicy and this fries were great. The float was a little silly...this big, meaty burger and fries covered in more meat...paired with a cream soda float in pink and white layers. (Not insulting, we just got a laugh).  Nothing was cheap and then we had to wait a long time again to get our bill and pay. This was all strange because the restaurant was not particularly busy. Because the brunch itself didn\\'t blow me away, food shortages and service, I\\'m not sure if I would bother with brunch again. Oliver and Bonicini in the actual mall has a much better brunch. I might try this again for lunch or dinner though.Well, we decided on a whim that we wanted Mexican food and we called around to some places that were highly rated and no seats were available. One of my favs, Chimichanga\\'s, has disappeared, so we got to a point where we were just calling around to see WHO could take us. Finally...La Revolucion answered!  We walked in and were greeted with....a dishwasher, sitting in the middle of the floor. Sort of strange...maybe some kitchen renos? We walked to meet our friends and their table and were informed that the reservations were not made, or were forgotten and the waitress had had to kick out a single guy from the table and he was eating at the bar. Maybe he was lucky, because the table was SO sticky underneath that my shoes were sticking to the ground. I mean STICKING!  She took our drink orders and then gave us our drinks and walked away. It took us another 15 minutes before we could place our order. Around the table we ordered two burritos, one plate of tacos and one quesadilla and guacamole bites (which is basically nachos and guac).   The guac came out fast, and was quite good, but we then waited for almost forty minutes for our food!  Burritos were a bit bland. Needs some sauce in, or on top. Quesadillas were the same...nothing special. The tacos got favorable reviews, but again, nothing to write home about.   The back area houses a sort of club-like atmosphere, which is described in blogto as: \"...dark textured walls and ambient lighting, it is the opposite of its cocina counterpart. Records adorn the walls and instruments lay strewn about, giving it a relaxed basement rec-room vibe...July will see live music on Thursdays and Fridays with open jam Tuesdays. Flamenco Saturdays are in the works...\"  When we were there (on a Saturday) there was a sign out front for a \"dance party\". The lights were down in the back, with a sort of laser light show and early 90s hip hop music was playing. There were about three, older guys there, just hanging out, drinking. It seemed totally out of place. The music didn\\'t match, certainly wasn\\'t flamenco and that\\'s a weird rec room vibe...if that\\'s even something you would want in a restaurant.  I think this place has potential. People in the area like it and it has a nice vibe to it...or would, had we had better service and less stickiness and washers sitting around. I feel like the space is just not being utilized and that\\'s a shame.   I WOULD have giving this place two stars, but the extra star was a result of the sangria, which is their \"secret recipe\" and were amazing. I had two actually.  Anyway, if I was in the area, I might stop in again, as everything was fine, but I don\\'t think I\\'ll be making any special trips to go there in the future. Don\\'t think I\\'ll be going for any dance parties!Went for lunch with a friend who told me that she has had consistently good food here on prior occasions.   My first thought though was that the restaurant was freezing cold inside, but the atmosphere was nice and the waitress was lovely.  She told us the soup of the day, which was potato garlic and said it could be ordered as a side dish. My friend ordered the salad and the soup and I ordered the calamari sandwich and soup as the side. The sandwich had some great aioli on it and the calamari was nicely done, however I wasn\\'t a huge fan of the bun it was in. It had a sort of sweet taste you might enjoy as a french toast, but not with something savoury and some of the calamari was a little tough. THat said, the sauces covered the taste from the bread and the texture was good and overall it was tasty.  The soup I found to have too much black pepper mixed in. The waitress asked and I mentioned and she brought back a small container with grated parmesan cheese and suggested I mix some in, because it cuts the pepper taste.   She was right! It really helped the soup. She said she does this with soups here all the time...which I\\'m not sure if a very complimentary review of the soups.  My friend said her salad was great and she liked the pepper, but agreed the cheese in the soup made it better.   So while everything was overall A-Okay, it wasn\\'t fantastic. It\\'s solid though and I would go back and try something else another time.I can\\'t figure out why this place has so many good reviews. That was why we chose to order from this place and it was a BIG mistake. My husband called and placed the order and we got a call back saying they had taken down his credit card number incorrectly. Then they called back a few minutes later because they needed directions to our place.  We proceeded to get three more calls from a driver asking us where to go. The confusing thing was that he would ask, but then either carry on a conversation on another phone, or with someone who was with him, instead of listening. Then he would ask for my husband to repeat himself. This happened at least twice every call, for three calls.   Turns out they took the address down completely wrong. Big surprise, considering their listening skills.   We finally got our food and they had screwed up the order and given us a wrong sushi roll. Either way the sushi was among the worst we have tasted. It was a mixture of bland and salty! Basically it was terrible.   On a side note, their dragon rolls are actually unagi rolls. Dragon rolls are called dragon rolls (at EVERY other sushi place) because they have avocado on top, making them green. It is very strange that these guys have decided that that\\'s not the way they want to go.   So yeah, terrible service and bad food...you can bet we won\\'t be bothering with this place again EVER!This place is a bit of an adventure...at least for me. I\\'ve never had charcuterie before and I\\'m not generally a big meat eater, so this was a little out of the box. That said, I like trying to be adventurous and trying new things, so when are visiting friends suggested we give it a go, we went for it. Dinner service is open at 6pm, so we agreed we\\'d arrive at 6pm. We got there at about 6:15....there was already a HUGE wait for a table, but we managed to wrangle seats at the bar.   The four of us ordered a bunch of dishes to split between ourselves. We tried the charcuterie (sort of a platter of assorted sliced meats and pâté), horse tar tar, roasted bone marrow, pork carnitas tacos, tongue on brioche and the foie gras and nutella for dessert.   The dishes came out staggered, so we got to sit around chatting and enjoying ourselves and our cocktails. The charcuterie came out first. It was assorted sliced meats arranged on a wood plank and served with bread. It was actually really nice. Next was the horse tar tar. This was a stretch for me. I don\\'t generally like to eat animals that I LIKE. The people I was with convinced me to try a small bit and I must say, it tasted pretty good, but on principle, I just have trouble with it. Sorry! I hate being one of those people who doesn\\'t have a problem killing the \"ugly\" animals, but doesn\\'t want the cute ones to die...but I am.   Next was the bone marrow, which was....well let\\'s just say I had to keep telling myself not to think about what I was eating. Basically, it\\'s a big bone and the marrow is of course in the middle and has been cooked so that it\\'s almost the consistency of warm butter...pretty fatty and oily looking. You scoop it out with a spoon and put it on bread. It\\'s actually delicious, but feels like you\\'re eating something you shouldn\\'t, purely for health reasons if nothing else! It feels like eating pure fat....tastes as good I suppose.   We had the tongue on brioche, which I was only okay with. The tongue was sliced and presented as a sort of Montreal smoked meat. We were told to open it up and eat it like an open faced sandwich. This made it easier to split certainly. The meat itself was very tender and the brioche was great, but the meat had a horseradish (I think) sauce, which was a bit overpowering.   Finally we had the tacos, which was probably the more \"normal\" thing we had. I actually thought those were my favorite. Wish it was one of the more exciting things, but nope. Those tacos were excellent.   The foie gras with nutella was also delicious. It was served on a banana bread, over a nutella spread...but the fois gras was superflous. It didn\\'t add any taste and was overpowered but the nutella and basically didn\\'t add anything to the dish. Could have been served without. Clearly just added to SAY it was there.   So what\\'s the overall opinion? Well, the restaurant is too small. It\\'s REALLY small, but popular. Wish it was in a bigger location. Sitting at the bar was kind of interesting, because all the cooking was done behind the bar, but that was a small workspace and it got hot, because the oven, dishwasher, stove top and so forth were always turned up very hight. Impressive how they work in such a space though.  Overall the food was very good. SOMEONE knows what they are doing. However, it is quite a pricey place and as I said, sometimes the flavours overpower the meat, or the meat just isn\\'t even necessary. Sometimes you\\'re paying extra for fancy meat dishes that don\\'t even need the meat, or where you can\\'t TASTE the meat.   Those are the only criticisms, but I wouldn\\'t let that keep you from trying this place...but only if you\\'re willing to go out on a limb a bit and as something different. This isn\\'t a go-to place, but it\\'s a fun place to have gone to!   Oh...PS - They don\\'t accept credit cards. Only debit or cash.I have been craving schnitzel for a LONG time, so on the night of my birthday, my husband and I decided to come here. Cafe Polonez was in a great little area, with lots of nice, little shops surrounding it and High Park, of course.   The restaurant is clean and trendy looking and we took a seat, against the wall, in the back. We ordered the platter for two. Since we had never been, it felt like a good idea to try it ALL out. GREAT idea! We were delivered a platter of food that included two schnitzels, two cabbage rolls, 6 perogies and some other sides. Everything was great, but the schnitzel and cabbage rolls in particular were excellent! I ordered two gravies to go with the schnitzel, expecting two, little Swiss Chalet-sized gravies, but instead we got two, huge bowls of gravy. Needless to say, one bowl would have been more than enough for 2 people. They were only $1 apiece, so not the end of the world.   Plenty of food for two people and a great sampler platter to see what they have and what you like.  Service was fast and good and everything was excellent. Totally recommend it and I\\'ll be back. Just thinking about it is making me salivate!Okay, I have only ever ordered food from Sushi One, never been to the actual restaurant. I\\'ve had pretty mixed service in terms of delivery time, but they usually tell you when you order the approximate time of delivery.   Anyway, ordering aside, we keep ordering from Sushi One because the food is consistently good.   We have been ordering from them for years and they switched management some time ago (over a year I think at this point). At first we weren\\'t so sure. The food quality sort of lacked, but they\\'ve picked it up and I think the food is great again.   Yeah, so no complaints. Yummy sushi if you\\'re in the North York area. Win-win!So, below is is original review, which was accompanies by 4 stars, however I\\'ve decided to revise it.   As I said below, when I went to Moroco, it was expensive, but very delicious for a treat. So I decided that I wanted to have my birthday dessert there. I called up to make a reservation for about 10 people. I was informed that for groups of over ten, there is a requirement that every person spends $48!   I kept the reservation for a day to see how many people were actually going to confirm coming out, but since everyone confirmed, I had to call back and cancel my reservation, because I do not want my guests to be obliged to spend $50 on dessert, after we have already had dinner! The girl on the phone said that it usually worked out, because once people had dessert and a drink, it worked out to be enough. As I said below, let\\'s round up and say dessert is $20...so she\\'s saying their drinks are $28!??!   I have wanted to go to Moroco for my birthday since the summer, but that was before I realized how pretentious they are! No thanks! Chocolate is great there, but only go with a couple of people, otherwise you\\'ll have to pay the price!  * * * * *  (Original reviews: Oh my gosh, this place is to DIE for. It\\'s also crazy expensive! This isn\\'t a \"daily treat during the work day\" place, it\\'s a \"I\\'m celebrating something and want a very special treat\" place. Deserts are around the $18/person range.  That said, the atmosphere was amazing. The place is all in black and white and looks/feels very trendy. The desserts though....WOW. Amazing! Chocolate fondue that is heavenly!   Anyway, I\\'ve decided that this is where I want to go for my birthday dinner. Forget conventional dinner. I want a sampler platter of desserts and no sharing and no judgment!)I actually think this restaurant deserves a 3-1/2, but that\\'s not possible. The food is good and the atmosphere is good, but it\\'s quite expensive for what you get (especially for drinks) and I found that the service was mediocre.   We had quite a large group, so we got a variety of pizzas and split them. This was tricky because the pizzas were all divided into four pieces each. Even though we said we were splitting them all, no one seemed to think to split them up a bit more.   They were also quite slow with the service, especially taking our order initially.   But, as I said, the pizzas we ordered were very good. Some stranger combinations were a big hit, like the pear pizza, which worked a bit like a dessert.   The atmosphere is nice, I especially like the basement. So overall if you\\'re looking for a nice night out, I would go for it. If you\\'re looking to just find a good place to eat on a whim, or just because, maybe not.Okay, I left a perfectly good, little pub because my sister swore that she knew people who got food poisoning from it, to come here...and get food poisoning.   NOW, I just want to state that I cannot CONFIRM that it was this place that gave it to me, but let\\'s just say that I had only eaten finger foods at a bridal shower prior to coming here and shortly after dinner I got sick in the middle of a concert. Super fun AND convenient!  The service was good and this is why this place got the extra star. The guy was truly nice and the service quite fast.   You wouldn\\'t think the food would make you sick, because it was very bland.  Tasted like something I could have made myself very easily. I ordered the chicken burrito and I found it was quite dry. THey didn\\'t include any sour cream or guacamole, even on the side, so it was just rice and beans and chicken.   The atmosphere was cute enough, so perhaps as a place to go after work for drinks, but be wary.Went in on a whim and was not disappointed. I had the ODB and my husband had the poutine. Poutine was good...had pulled chicken on it and was tasty, although not entirely unique tasting, but that\\'s fine for this type of place. I had the ODB and it was AMAZE-BALLS! The chicken was a huge portion, on a full waffle. The waffle was the perfect blend of sweetness, with just a bit of syrup and the chicken was crispy and great and so tender it just flaked apart. It had a great sauce on top and the slight kick, blended with the sweetness of the waffle, was a great mix. Portion size was good, food was delicious. Came with a little cup of potato salad...liked the peas, nice touch and the potato salad was a refreshing touch for the whole dish. Still thinking about it hours later....thinking and thinking....*sigh*When deciding where to go to Valentine\\'s Day dinner, we decided to try something a little different and have an \"experience\" , instead of just dinner. So we made reservations at O. Noir. Overall, it was a good time and a good laugh.   One recommendation: Maybe don\\'t wear your BEST clothes to this place, as there is a very really possibility that you will drop food on yourself.   THE WAY IT WORKS: For those of you who don\\'t know - You enter into a lounge with brick walls and dim lights. You pre-order your meal and can order drinks from the bar there. THen you are introduced to your waiter(ess), who is visually impaired, and are led into a pitch black room and seated at your table.   And it IS pitch black. You can\\'t see your hand in front of your face. Your eyes never adjust and there is a sort of entrance way into the room, so you never even get light from the door when someone enters the room.   You are then served your food and have to go about the task of trying to eat it, while blind. This is a challenge, because you can\\'t see the food and because even when you THINK you\\'ve finally speared a veggie, for example, when you bring the fork to your mouth, you realized you\\'ve lost it somewhere along the way. Usually into your lap.   This is DEFINITELY an experience, does an interesting job at raising awareness, but here are my issues with this place: The food was good, but not great. This becomes more apparent when you can\\'t even see the presentation of the food and are reliant entirely on taste. It needs to taste GREAT. This was distinctly forgettable food.   I would have liked to see the room we were in at the end of the meal. YES, I know this would require everyone eating at the same time, no new people entering, but I was a little sketched out about never seeing where I was. Basically, you could be in dirty, dank basement storage room and you\\'d never know!   Finally, it\\'s very expensive!   I found that I liked it to try once and say I\\'ve done it, but it\\'s gimmicky and that doesn\\'t translate well into a place that will become a go-to favorite. Once is enough for me!We were in the area and absolutely starving and I had a craving for pub fare, so this seemed to fit the bill, especially because it\\'s had a few good reviews, but I found it only so-so.   Decor: Another reviewer mentions that the decor seems to be missing something and I agree. It\\'s boring. The booths had gaps where the seat meets with the wooden bench part that holds the seat part up. Hard to describe, but looks cheap and crappy, like they\\'re broken. Our table was very unbalanced and the waitress came and stuck a coaster under it so it would stop rocking. It\\'s small and very cramped.   Food: Selection was pretty standard pub fare, but a bit on the expensive side. I ordered a chicken curry dish and when they asked if I wanted it to be spicy or mild I asked for it to be mild. Either their mild is just VERY spicy and I would hate to try their actual spicy, or they made a mistake. The curry comes with the chicken in sauce, rice and a sort of fried crisp, which was nice. The rice was bland however...or the spice from the curry killed my tastebuds.  My husband chose a burger, which was overall very good, although they charged him two dollars each for bacon and cheese on the burger, which is expensive when your burger is already $15. Not sure the bacon added anything, but the cheese, I\\'ll admit was really good on this burger.   Atmosphere and Service: Service was fine. BUT, since this seems to be a trend...or the gods are intent on making me detest children while eating out, we had another loud, rude child/negligent parent situation (see post on Malaysian place). Another situation where children were screaming and running around and parents were sitting off, by themselves, ignoring them, while the rest of the people in the restaurant had to suffer. The group of older individuals across from us kept leaning over to make comments to us and the two ladies nearby grumbled under their breath.   Once again, this was a problem that could easily have been solved by the restaurant. The kids were part of a party and were in a party room, which is adjacent, but separate from the rest of the dining room. This room had doors on it...which CLOSE, but were propped wide open. All the waitress had to do was go and quietly shut the doors. That\\'s it! Problem solved.   We were getting annoyed and so we didn\\'t bother ordering dessert. Too bad, because they actually looked great. The group across from us ordered a few and were commenting on how good they were.  So yeah...I actually would have given this pub 2 stars even without the screaming kid, but if the screaming kid had not been a problem, we probably would have stayed for dessert and who knows, maybe these guys would be getting 3+ stars. That said, it just didn\\'t do it for me. Overpriced, for only okay food and poor atmosphere.I am just perplexed by the good reviews of this place. Granted there are only 4 as I am writing this, but still they seemed pretty consistent.   We have driven by this place a million times and never given it a second glance, but based on the reviews, off we went to give it a try.  First impressions were pretty good. We were seated right away in a large booth. The restaurant was clean and modern looking, although covered in Halloween decorations, despite it being November 10.   Menu looked pretty good, with lots of selection. The front of the menu is the desserts, which seem to be why most people come here. But we wanted dinner as well. I ordered the shrimp wonton soup and my husband ordered chicken and mushrooms with rice.   We both ordered drinks. I ordered a tea and my husband ordered a mango smoothie.   My drink came out...then my soup came out...neither of my husbands orders came. It took another fifteen minutes for his food to come and his drink came after that! No apologies for the wait.   My soup was pretty basic. The noodles had no taste and a sticky texture. It was bland overall, but not terrible. My drink was good, but small, given the $6 price tag for a tea.   My husbands dish was just gross. The chicken were little balls that looked like chicken fetuses. Maybe they were?? Filled with bones, making them very difficult to eat. The taste was bland and salty.   His drink was good, but the straw didn\\'t reach to the bottom of the glass...which wasn\\'t a glass at all, but a wine decanter. He couldn\\'t reach his drink about half-way through and had to borrow my straw.  We finished our meals and started waiting...and waiting and waiting. No one had come to check and see how our meals were and we had to flag someone down to clear the dishes. A girl finally came to go it and did so without looking, or asking if there was anything else she could get for us, or if we wanted refills.   We REALLY wanted to give this place the benefit of the doubt, so we decided to stick it out and order dessert, since it seemed to be what this place was all about.   We flagged someone down and ordered mixed fruit on a waffle. The presentation of the dish was certainly nice, but it\\'s pretty generic. It\\'s a basic belgian waffle with vanilla ice cream, strawberries, bananas and some melon balls and cool whip whipped cream on top and a sort of Aunt Jemima syrup.   It was pretty good, but nothing special.  Once we finished we flagged someone down to get our bill. He said yes and left...and never came back. We saw his give other people bills and get food...he basically completely forgot about us. We waited for 15 minutes. We started looking around to figure out what happened and noticed that the wait staff were just chilling in the back of the restaurant. One girl was staring aimlessly at the ceiling. Two others were holding hands and swinging their arms in time to the music. Two guys were back there chatting away...it was actually weird.   Finally, we managed to flag down yet a DIFFERENT waitress...this was number 6 (one seated us, one took our order, one cleared the dishes, one took the dessert order and one went to get our bill...apparently, and now this one) and asked her to get our bill. She finally did. We paid...we left a tip (we try hard not be be jerks, even if the service is poor) and left...never to return.   So yeah, bland food, generic desserts and TERRIBLE service = not worth it.   One another note, another review says, \"If you\\'re into young asian girls (and guys), this is the place to hang out.\" I KNOW this person meant nothing by this comment, but I swear there is some creepy dude who has done a Google search of \"Places where young Asian girls and boys hang out\" and found this place based on that review...so you know...probably some creepers hanging around as well. Just sayin\\'! (*Note: This comment, as creepy as it was, had no baring on my review).Well, from what I can see from other peoples\\' reviews, this place has been getting a bad rap because of service. Since I have been several times and never had a bad experience, I can only give my review of this place based on what I have experienced.   That said, it seems like so many people have experienced bad service, that even I am wary of this place now. I have never been during \"peak\" hours, which may account for more attentive service.  As mentioned, I have been to this restaurant several times and really enjoyed myself. I love Mexican food and there doesn\\'t seem to be enough good Mexican restaurants around, so I get excited when I find one with food I enjoy.  I have had their nachos, two types of tacos and a burrito at this place and enjoyed all of them. When I went with a girlfriend, we were advised to get two taco plates and share them, since they give you a few, small tacos on each plate. We did this and really enjoyed both dishes.   The nachos were also great, having been piled high with toppings, not just your grated cheese and some tomatoes.   Drinks were also good. I guess my one criticism would be the price, which I do think is a little high given that Mexican food is quite cheap to produce. I am guessing that the extra cost goes towards the atmosphere, which is trendy...but I gave this same review to another Mexican restaurant I went to in Florida and it looked like someone\\'s kitchen, so I guess it\\'s all in the eye of the beholder.This place does burgers. It does them lots and it does them well. And it does them in about a million combos. Try something different. Just go for it. You will be pleasantly surprised. If you\\'re not...please don\\'t blame me!  Nothing crazy to report. Food was good, service was good. Yum.This is a really good find! It\\'s a small, little restaurant with sort of demented decor, but the food is excellent.   I went with my sister and husband and we were sat down in the small space. Ethiopian is eaten with your hands, so I went to the bathroom to wash my hands. The bathroom is upstairs where there is another upper part of the restaurant and a small bar.   The bathroom was clean, although I did notice a cockroach trap in the corner. I want to specify that the washroom was perfectly clean and I never saw any bugs. It was mildly disconcerting, but you\\'d probably be hard pressed to find any restaurant in downtown without a stray roach SOMEWHERE kicking around in it. Let\\'s just be real!  Anyway, myself and my sister ordered a combo dish of a small portion of all of their veggie options, for two. My husband ordered their \"special\",which was a chicken dish, served with a whole, hard boiled egg.  Our meals arrived and my sister and my meal, was served on a large platter, with spoonfuls of the various dishes all around and a small salad in the middle. Certain parts were better than others, but that\\'s probably a personal preference and nothing was bad. Just good and GOODER (yeah, I KNOW it\\'s not a word).  The prices were also extremely reasonable. The portions of injera (the flat bread you eat the food with) were large and we were given 2 pieces each. That\\'s ALL you would need, but if you\\'re REALLY hungry, the food is served on a large piece of it, so you can literally eat your plate.   Those are the good things. Now onto the not so good things.  The service was a little lacking. We ordered their special coffee at the beginning of the meal, as requested in the menu, only to be told they were not serving it anymore that day. We were there at around 8:30 and the restaurant closes at 11pm, according to their website. Why was it no longer being served??  Our waitress seemed sort of displeased with us being there in general. She was not very friendly. She avoided eye contact with us most of the night, which made it really hard to get her attention to get the bill and to pay.   My sister and I were sitting across from each other and when our food was served our injera was on one plate. I asked if I could have another plate, to put my injera on and I got the dirtiest look you could imagine and the waitress turned on her heel without a word. She did get us a plate though.   Normally, this type of service would be a real turn-off, but honestly the food was so damn good and the prices so damn good, I\\'m not even going to let it deter me!   I WILL be back Ethiopian House Waitress! You can\\'t keep me away!A friend and I were looking for a place to eat before a show at the Lower Ossington Theatre. We wanted Lobretto Pizza, but the girl on the phone there said that at 6:30 we wouldn\\'t have a problem getting a table and that turned out to be a lie, so we popped in a couple doors down to this place.  We glanced at the menu and it seemed alright, so we went for it. The host warned us that we needed to like meat and he was not kidding. Everything on the menu had meat.  The menu consists of a lot of pub faire, but at hugely inflated prices. The atmosphere, unlike what you would expect from a \"tavern\" was not dark and cozy, but white and as my friend described \"sort of like a 1950s bathroom\". It had white tile walls and white floors and a sort of mirrored panel across the walls...so yeah a bit bathroom-like. I guess to make it \"saintly\"?   My friend ordered their sandwich of the day, which was a BLT and fries. I have recently given up beef, which limited my choices considerably, so I got the fried chicken. I should mention that the menu includes exactly ZERO explanation of what any of the dishes are. The fried chicken simply says, \"fried chicken\". It did not explain that this came with mashed potatoes and sautéed spinach (or kale??) with it. Potatoes were good, but had big chunks of bacon in them. That should probably be mentioned, since if anyone doesn\\'t eat pork, I don\\'t think it would occur to them to ask the waiter(ess) if their fried chicken includes bacon.   Food was alright. I liked my friend\\'s sandwich better than my dish and her fries were good.  My meal was exactly as it said. No bells and whistles. I sort of felt like for $20 that chicken should have had some twist to it, or something special, but not really. It was chicken, much like you might receive from KFC, but marginally better (less greasy and salty).   The spinach was VERY salty tasting.   Service was good and everyone there was very nice. Overall it\\'s a fine place, but nothing special and I think they charge too much for average food, with nothing special about it. Whenever I go back to the area, I\\'m going to try something else. I feel like it\\'s not worth a second try, though it was fine for one try.I was in an in-service in this area today. When lunch time rolled around my colleagues all started exclaiming about Johnny\\'s. I had never been and they were anxious for me to try it out.  When we drove up to it I recognized it from driving by, but had never been in. The lineup encouraged me that I was at a good place.  Service was fast and friendly. I got a cheeseburger and onion rings. They gave me a number and when I was called up, I chose what to put on my burger.   Now, let\\'s get down to the nitty gritty.  First of all, the toppings are VERY limited. Onions or sautéed onions, pickles, tomato, ketchup, mayo, mustard, relish...I didn\\'t even see lettuce, unless it was hiding in the back.   The burger was large, but nothing special. It wasn\\'t like some fantastic, juicy, seasoned meat or anything. Just a basic burger.   The bun was too soft and got soggy really fast. I mean SOGGY! It had a weird sweetness to it that I wasn\\'t a huge fan of. The onion rings were your basic frozen onion rings...same with the fries. They weren\\'t hand-battered, or homemade...just standard fare.   Honestly, NOTHING about this place warranted the rave reviews from my colleagues and the only thing I could glean from hearing them talk, was that this place has been around Scarborough forever and it\\'s just a staple. You go here based on tradition.   Well, sadly that\\'s not enough of a reason for me to give this a good review. It\\'s also not enough of a reason for me to bother recommending this place. Unless this place has some near and dear meaning in your heart, Hero Burger makes a WAY better burger. I guess if you want your burger made with \"love and memories\" come to this place. I want my burger made with juicy meat, lots of veggies and some sort of mayo-based sauce! If you cannot deliver, I am not interested. Johnny\\'s did not deliver for me on this one!  (PS- If you are the type of person who reads reviews, you\\'ll see one of two camps here...people who love this place based on landmark status and people who haven\\'t been coming here since they were young and therefore are not big fans. Basically THIS \"PS\" could be the review!)I really wanted to be blown away by this place and it WAS good, but it wasn\\'t the best grilled cheese EVER good. Perhaps my expectations were high, seeing as this place has been featured on shows and is number one for grilled cheese on BlogTO.   I had the Grilled Motzy and my husband had the Black Jack. We also had soup, which was tomato and pretty basic.   Both of our sandwiches were good. I\\'d say my husband\\'s was a little more sophisticated in taste. Mine felt like the pesto really overwhelmed any other flavours. It wasn\\'t unpleasant, but I WAS wanting a grilled cheese.   The sandwiches are served in baskets, with some ripple chips and a slice of pickle...really good pickles actually. Chips are just chips. If these guys want to take things up a notch they should charge a dollar or two extra and consider creating a more interesting/homemade side dish. What??! I don\\'t know, I haven\\'t thought that far ahead. People will pay extra for good and creative side dishes that really add to meals though, right??  Oh and in response to people who were commenting that the sandwiches are really greasy, I didn;t find that at all! There was no grease gathering at the bottom of the paper in the basket and my fingers stayed relatively clean! Maybe they changed?? Or maybe some people are nuts...I mean it IS grilled cheese, it\\'s not ....umm.....lettuce.   I wasn\\'t willing to leave without trying ONE last item...but we were full. I ordered a sandwich that\\'s name I don\\'t remember, but it was basically cheese, bacon and mushrooms. The to go sandwiches are in plastic boxes with lids. Great if you want to bring it to work the next day, or something.  In our case I split the sandwich in half and served it with my own soup the next day for dinner. This was definitely more of a traditional grilled cheese, but again, I found the bacon to be a little overpowering. Still good...my soup was heads and tails better though.   Not sure I would bother with the soup here again. I liked everything I had, but nothing compared with the lobster grilled cheese I had the Joey\\'s. The flavours were perfect in that sandwich!  THere are a lot of other options to try and everything was very good. I think that if you\\'re in the area and want a sandwich that costs the same as Subway, but is more creative and more delicious, this is a great choice!   Oh....they only take cash BTW! Make sure you come prepared.Okay, this is not some fine, dinning establishment. This is a diner. Not only that, but apparently it\\'s a 24 hour diner, so that\\'s pretty frigging awesome. Good to know. Those come in handy.  As a diner, it\\'s food was perfectly acceptable and actually very good. The service was excellent! Prices were decent. I don\\'t know what else you need!  I came for lunch with a ground of friends. We wanted drinks, we wanted food, some wanted breakfast food (they have all day breakfast...also awesome) and this fit the bill perfectly.   Our waitress was very sweet and accommodating and fast with the food and drinks. She split up all our bills for us, with no problem (so many places it\\'s like the biggest deal ever).   Everyone enjoyed their food and we certainly got a variety of it. All large portions. Drinks were good, so no complaints there!   The atmosphere is...well let\\'s call it quaint. It has some dated decor and paintings on the wall of a sort of olden-days train station. It\\'s a diner, so it is what it is!  Only criticism of this place is that it only takes cash. They have an ATM in the front, but be prepared.   Otherwise, I would totally come back to this place! They made one mean grilled cheese!This place was recommended to be by other shop keepers in the area, so I went to check it out. First off the staff is SO nice and accommodating. When you walk in, it honestly doesn\\'t look like much and the baked goods look sort of generic and plain. Don\\'t be fooled.  They are very willing to let you try out pieces of their baked goods and you will not be disappointed. I ended up going twice in two days. The first time on the recommendation I picked up a few cookies. They were so good that the next day when I had to go back to the area to return something, I went back again and got some other stuff. Everything I have had there I have really enjoyed. I tried a caramel cookie (sort of shortbread-y, but with a subtle caramel flavour) and just about died!  I ended up bringing home way more than I should and I wasn\\'t the only one. Other patrons are clearly regulars and they were all doing the same thing. Don\\'t be shy! Go on in and say hello and try something out!I sort of want to give this place 3-1/2 stars, but oh well.   This weird little nook, way down on Sheppard, is barely noticeable if you drive by. I\\'ve gotten their take out a few times and also eaten in once.   I\\'ve had their chicken shwarma and falafel pitas and sampled some other dishes. Generally, I find the portions quite large and the food quite good, but it\\'s a bit of a crap shoot with the chicken shwarma. I\\'ve had it a couple of times where it has been very good and another time I thought the meat was chewy, fatty and full of gristle. It\\'s being cut off of a big hunk on a spit, so I guess you get whatever comes off at that time.   The service has always been great and very pleasant.We went here for Summerlicious. For $25 we got an appetizer, main course and dessert. I had tiger shrimp as an appetizer. It came with a delicious peanut sauce. This was the same for the chicken. They were actually very good. My sister had spring rolls and she said they were alright, nothing special. We all got pad thai, however my sister got the vegetarian pad thai, while myself and my husband got the chicken pad thai. It was good, but pretty comparable to pad thai I\\'ve had....well, just about everywhere. The desserts were also alright. There was a special on drinks. Their signature Tiger beers were only $4 and they had excellent margaritas for $6. That was probably my favorite part of the meal. The service was good and the atmosphere was nice, but overall I felt like the food wasn\\'t special enough to warrant the $25 price tag.Really this deserves a 3-1/2 star rating, but we\\'ll just go with this and I\\'ll explain.  So I have been hearing about Pizzeria Libretto for ages and dying to try it and I finally got my chance. We went all out, so I\\'ll go through the stuff I sampled.  We shared an arugula salad with walnuts and pears. Not a huge salad, given the $9 price tag, but was a really good salad. We also tried the ricotta gnocchi fritti. This was disappointing. They basically looked and tasted like tator tots with a sour cream and chive \"sauce\". I don\\'t know where the ricotta comes into play, but these were nothing special, a small portion and not great in general.   NOW for the reason people come to this place. The pizzas. I had the Libretto Margherita (which is $4 more than the regular margherita, presumably because they use buffalo mozzarella, or so it is alluded to on the menu). My husband got the house-made sausage pizza.  These pizzas were excellent. Both reminiscent of what you might find in Italy, very thin, but with perfect crust. I usually go with the margherita, because it\\'s classic and not too many bells and whistles, but I had a piece of my husband\\'s and it was excellent! I\\'m not usually a sausage fan (no pun intended), but this was really good.   Finally, we split their sfingi, which is basically donut holes in cinnamon-sugar and with a strawberry sauce, caramel sauce or lemon sauce to dip them in. The donuts were nothing special. Honestly, I\\'ve had better at Tim Horton\\'s. The sauces added a little something, but not enough to make this something I would order again. The lemon was good, husband liked the strawberry...the caramel, which you would think would be great with donuts, tasted burnt...to the point where it was inedible.   So basically, if you come for the pizza, you\\'re good to go. This place does that really well..everything else...skip it. There are so many awesome little places in the area, I would just get the pizza and go get dessert somewhere else.   That said, because this place IS a pizzeria, I give it 4 stars, because they do the thing they\\'re supposed to, well!You have to go to something like Medieval Times with an open-mind and a sense of fun. Also you HAVE to go with a group. This isn\\'t even something to do with a couple...although I did see it happening.   I went with my loud, boisterous family/friends. There were 8 of us in total.   The last time I went to Medieval Time was in grade 4, so what better time to go, than for your 30th birthday. We bought drinks in advance. Drink prices were average for a bar, although the mixed drinks were particularly delicious. The cups are kind of fun and you can keep them. The whole place reminded me of something you would find in Vegas, with the whole entrance room decorated with medieval flags and armour.   We were finally called in for dinner. Now, I want to preface this by saying that dinner is nothing special. You kind of go for the whole, goofy experience, not really the fine cuisine. You get tomato bisque, garlic bread, half of a chicken, a few potato wedges and a small thing of ribs and then an apple pastry for dessert. Everything is served separately, not all together, so you\\'re eating everything one at a time. They are served to you by your \"wenches\". That said, while nothing was particularly impressive, nothing was bad either. You don\\'t get cutlery, so you pick at everything with your fingers. However, they give you wetnaps and a hot towel at the end. My sister ordered the vegetarian meal and they gave her a veggie shish-kabob, which she said was quite good.   Drinks are water or pepsi, or the drinks you order at the bar.  Now, onto the show. We cheered and yelled like crazy people the entire time. We picked fights with other \"teams\" (people cheering for other knights) and they picked fights back. We laughed and cheered and jeered at the knights. The show consists of some horse tricks, a falcon flying over you and of course the knights battling. Everything is exceedingly cheesy and you just have to enjoy it for what it is.   Anyway, this was a cheesy, good time. I would do this again in an instant...but only with the right crowd.  PS - Our knight won! We think it was because we cheered loudest.')"
      ]
     },
     "execution_count": 10,
     "metadata": {},
     "output_type": "execute_result"
    }
   ],
   "source": [
    "reviews_by_user_df.head()"
   ]
  },
  {
   "cell_type": "code",
   "execution_count": 11,
   "metadata": {},
   "outputs": [
    {
     "name": "stdout",
     "output_type": "stream",
     "text": [
      "+--------------------+--------------------+\n",
      "|             user_id|                text|\n",
      "+--------------------+--------------------+\n",
      "|nOTl4aPC4tKHK35T3...|I give up on this...|\n",
      "|Aj2IZibnWlSD1wWdq...|Love this place m...|\n",
      "|6KM2pWFcsHYf4Nr9c...|Phenomenal brunch...|\n",
      "+--------------------+--------------------+\n",
      "only showing top 3 rows\n",
      "\n"
     ]
    }
   ],
   "source": [
    "reviews_by_user_df.show(3)"
   ]
  },
  {
   "cell_type": "code",
   "execution_count": 72,
   "metadata": {},
   "outputs": [
    {
     "name": "stdout",
     "output_type": "stream",
     "text": [
      "Text: [Hi, I, heard, about, Spark] => \n",
      "Vector: [-0.011087720049545169,-0.04713543206453324,-0.030747681856155396]\n",
      "\n",
      "Text: [I, wish, Java, could, use, case, classes] => \n",
      "Vector: [0.02089989078896386,0.025788720164980204,-0.029980793063129695]\n",
      "\n",
      "Text: [Logistic, regression, models, are, neat] => \n",
      "Vector: [0.03326573260128498,0.010403224825859071,-0.04281422272324562]\n",
      "\n"
     ]
    }
   ],
   "source": [
    "## Example of using Word2vec\n",
    "from pyspark.ml.feature import Word2Vec\n",
    "\n",
    "# Input data: Each row is a bag of words from a sentence or document.\n",
    "documentDF = spark.createDataFrame([\n",
    "    (\"Hi I heard about Spark\".split(\" \"), ),\n",
    "    (\"I wish Java could use case classes\".split(\" \"), ),\n",
    "    (\"Logistic regression models are neat\".split(\" \"), )\n",
    "], [\"text\"])\n",
    "\n",
    "# Learn a mapping from words to Vectors.\n",
    "word2Vec = Word2Vec(vectorSize=3, minCount=0, inputCol=\"text\", outputCol=\"result\")\n",
    "model = word2Vec.fit(documentDF)\n",
    "\n",
    "result = model.transform(documentDF)\n",
    "for row in result.collect():\n",
    "    text, vector = row\n",
    "    print(\"Text: [%s] => \\nVector: %s\\n\" % (\", \".join(text), str(vector)))"
   ]
  },
  {
   "cell_type": "code",
   "execution_count": null,
   "metadata": {},
   "outputs": [],
   "source": [
    "## https://spark.apache.org/docs/latest/api/python/pyspark.ml.html#pyspark.ml.feature.Word2Vec\n",
    "\n",
    "## The minimum number of times a token must appear to be included in the word2vec model's vocabulary\""
   ]
  },
  {
   "cell_type": "markdown",
   "metadata": {},
   "source": [
    "Tuning of vectorSize and minCount required in word2vec model training."
   ]
  },
  {
   "cell_type": "code",
   "execution_count": 79,
   "metadata": {},
   "outputs": [
    {
     "name": "stdout",
     "output_type": "stream",
     "text": [
      "CPU times: user 123 ms, sys: 37.3 ms, total: 160 ms\n",
      "Wall time: 9min 14s\n"
     ]
    }
   ],
   "source": [
    "%%time\n",
    "\n",
    "# create text processing pipeline -- this a lengthy resource-intensive process\n",
    "# Build the pipeline \n",
    "regexTokenizer = RegexTokenizer(gaps = False, pattern = '\\w+', inputCol = 'text', outputCol = 'token')\n",
    "stopWordsRemover = StopWordsRemover(inputCol = 'token', outputCol = 'nostopwrd')\n",
    "countVectorizer = CountVectorizer(inputCol=\"nostopwrd\", outputCol=\"rawFeature\")\n",
    "iDF = IDF(inputCol=\"rawFeature\", outputCol=\"idf_vec\")\n",
    "word2Vec = Word2Vec(vectorSize = 100, minCount = 5, inputCol = 'nostopwrd', outputCol = 'word_vec', seed=123)\n",
    "vectorAssembler = VectorAssembler(inputCols=['idf_vec', 'word_vec'], outputCol='comb_vec')\n",
    "pipeline = Pipeline(stages=[regexTokenizer, stopWordsRemover, countVectorizer, iDF, word2Vec, vectorAssembler])\n",
    "\n",
    "# fit the model\n",
    "pipeline_mdl = pipeline.fit(reviews_by_user_df)\n",
    "\n",
    "#save the pipeline model\n",
    "pipeline_mdl.write().overwrite().save(model_path + 'pipe_txt')"
   ]
  },
  {
   "cell_type": "code",
   "execution_count": 7,
   "metadata": {},
   "outputs": [],
   "source": [
    "# load the text transformation pipeline trained model\n",
    "pipeline_mdl = PipelineModel.load(model_path + 'pipe_txt')"
   ]
  },
  {
   "cell_type": "code",
   "execution_count": 12,
   "metadata": {},
   "outputs": [],
   "source": [
    "# transform the review data\n",
    "reviews_by_user_trf_df = pipeline_mdl.transform(reviews_by_user_df)"
   ]
  },
  {
   "cell_type": "code",
   "execution_count": 13,
   "metadata": {},
   "outputs": [
    {
     "name": "stdout",
     "output_type": "stream",
     "text": [
      "+--------------------+--------------------+--------------------+--------------------+--------------------+\n",
      "|                text|           nostopwrd|             idf_vec|            word_vec|            comb_vec|\n",
      "+--------------------+--------------------+--------------------+--------------------+--------------------+\n",
      "|I give up on this...|[give, place, got...|(128365,[0,1,2,3,...|[-0.0374168294159...|(128465,[0,1,2,3,...|\n",
      "|Love this place m...|[love, place, mak...|(128365,[0,1,2,3,...|[-0.0216792637887...|(128465,[0,1,2,3,...|\n",
      "|Phenomenal brunch...|[phenomenal, brun...|(128365,[0,1,2,3,...|[-0.0473526970104...|(128465,[0,1,2,3,...|\n",
      "|A born and bred T...|[born, bred, toro...|(128365,[0,1,2,3,...|[-0.0298230579082...|(128465,[0,1,2,3,...|\n",
      "|We really enjoyed...|[really, enjoyed,...|(128365,[0,1,2,3,...|[-0.0115986177697...|(128465,[0,1,2,3,...|\n",
      "|I was pretty unim...|[pretty, unimpres...|(128365,[0,1,2,3,...|[-0.0381316097274...|(128465,[0,1,2,3,...|\n",
      "|I have never done...|[never, done, one...|(128365,[2,6,11,1...|[-0.0256846508636...|(128465,[2,6,11,1...|\n",
      "|Seven Lives serve...|[seven, lives, se...|(128365,[0,1,2,3,...|[-0.0140019047037...|(128465,[0,1,2,3,...|\n",
      "|This is the best ...|[best, indian, fo...|(128365,[0,15,24,...|[-0.0584768957037...|(128465,[0,15,24,...|\n",
      "|Good ramen but ha...|[good, ramen, bet...|(128365,[1,9,10,1...|[0.07983644855474...|(128465,[1,9,10,1...|\n",
      "+--------------------+--------------------+--------------------+--------------------+--------------------+\n",
      "only showing top 10 rows\n",
      "\n"
     ]
    }
   ],
   "source": [
    "# show the transformed review data\n",
    "reviews_by_user_trf_df.select( 'text', 'nostopwrd', 'idf_vec', 'word_vec', 'comb_vec').show(10)"
   ]
  },
  {
   "cell_type": "code",
   "execution_count": 14,
   "metadata": {},
   "outputs": [
    {
     "name": "stdout",
     "output_type": "stream",
     "text": [
      "+--------------------+\n",
      "|           nostopwrd|\n",
      "+--------------------+\n",
      "|[give, place, got...|\n",
      "|[love, place, mak...|\n",
      "|[phenomenal, brun...|\n",
      "|[born, bred, toro...|\n",
      "|[really, enjoyed,...|\n",
      "|[pretty, unimpres...|\n",
      "|[never, done, one...|\n",
      "|[seven, lives, se...|\n",
      "|[best, indian, fo...|\n",
      "|[good, ramen, bet...|\n",
      "+--------------------+\n",
      "only showing top 10 rows\n",
      "\n"
     ]
    }
   ],
   "source": [
    "reviews_by_user_trf_df.select( 'nostopwrd').show(10)"
   ]
  },
  {
   "cell_type": "code",
   "execution_count": 15,
   "metadata": {},
   "outputs": [
    {
     "name": "stdout",
     "output_type": "stream",
     "text": [
      "root\n",
      " |-- user_id: string (nullable = true)\n",
      " |-- text: string (nullable = true)\n",
      " |-- token: array (nullable = true)\n",
      " |    |-- element: string (containsNull = true)\n",
      " |-- nostopwrd: array (nullable = true)\n",
      " |    |-- element: string (containsNull = true)\n",
      " |-- rawFeature: vector (nullable = true)\n",
      " |-- idf_vec: vector (nullable = true)\n",
      " |-- word_vec: vector (nullable = true)\n",
      " |-- comb_vec: vector (nullable = true)\n",
      "\n"
     ]
    }
   ],
   "source": [
    "reviews_by_user_trf_df.printSchema()"
   ]
  },
  {
   "cell_type": "code",
   "execution_count": 16,
   "metadata": {},
   "outputs": [
    {
     "ename": "NameError",
     "evalue": "name 'iDF' is not defined",
     "output_type": "error",
     "traceback": [
      "\u001b[0;31m---------------------------------------------------------------------------\u001b[0m",
      "\u001b[0;31mNameError\u001b[0m                                 Traceback (most recent call last)",
      "\u001b[0;32m<ipython-input-16-2a6fac126aed>\u001b[0m in \u001b[0;36m<module>\u001b[0;34m()\u001b[0m\n\u001b[0;32m----> 1\u001b[0;31m \u001b[0mtype\u001b[0m\u001b[0;34m(\u001b[0m\u001b[0miDF\u001b[0m\u001b[0;34m)\u001b[0m\u001b[0;34m\u001b[0m\u001b[0m\n\u001b[0m",
      "\u001b[0;31mNameError\u001b[0m: name 'iDF' is not defined"
     ]
    }
   ],
   "source": [
    "type(iDF)"
   ]
  },
  {
   "cell_type": "code",
   "execution_count": 17,
   "metadata": {},
   "outputs": [],
   "source": [
    "def CosineSim(vec1, vec2): \n",
    "    return np.dot(vec1, vec2) / np.sqrt(np.dot(vec1, vec1)) / np.sqrt(np.dot(vec2, vec2))"
   ]
  },
  {
   "cell_type": "code",
   "execution_count": 18,
   "metadata": {},
   "outputs": [],
   "source": [
    "all_user_vecs = reviews_by_user_trf_df.select('user_id', 'word_vec').rdd.map(lambda x: (x[0], x[1])).collect()"
   ]
  },
  {
   "cell_type": "code",
   "execution_count": 19,
   "metadata": {},
   "outputs": [
    {
     "data": {
      "text/plain": [
       "list"
      ]
     },
     "execution_count": 19,
     "metadata": {},
     "output_type": "execute_result"
    }
   ],
   "source": [
    "type(all_user_vecs)"
   ]
  },
  {
   "cell_type": "code",
   "execution_count": 23,
   "metadata": {},
   "outputs": [
    {
     "data": {
      "text/plain": [
       "0.8652645262685584"
      ]
     },
     "execution_count": 23,
     "metadata": {},
     "output_type": "execute_result"
    }
   ],
   "source": [
    "CosineSim(all_user_vecs[0][1], all_user_vecs[1][1])"
   ]
  },
  {
   "cell_type": "code",
   "execution_count": 24,
   "metadata": {},
   "outputs": [
    {
     "data": {
      "text/plain": [
       "('nOTl4aPC4tKHK35T3bNauQ',\n",
       " DenseVector([-0.0374, -0.0827, -0.0607, 0.0706, 0.0262, -0.0358, -0.0004, -0.009, -0.0103, -0.0207, -0.0211, -0.0439, -0.0347, 0.0174, -0.0089, -0.0437, -0.0669, -0.0098, -0.0301, -0.0068, -0.0761, -0.0492, 0.0009, 0.0052, 0.0626, -0.0469, -0.0064, -0.0302, -0.0117, 0.0336, 0.0578, 0.0054, 0.0243, -0.0307, -0.0272, -0.0705, 0.0969, 0.0265, -0.0284, -0.0408, -0.0362, -0.0576, -0.0311, 0.0778, 0.0081, -0.0428, -0.048, 0.0279, -0.0118, 0.014, 0.0095, -0.0122, -0.0123, -0.0328, -0.0584, 0.0126, 0.0096, 0.0456, 0.0413, 0.0209, -0.0138, -0.0004, 0.0237, -0.0566, -0.0347, 0.0297, 0.0447, 0.0419, -0.0252, 0.0758, 0.0014, -0.0045, 0.0094, 0.0375, 0.0088, -0.0188, -0.0655, 0.0098, -0.0166, 0.0423, 0.001, -0.0137, -0.0024, -0.0112, -0.0131, -0.0028, 0.0135, 0.0187, -0.0107, 0.0014, -0.0016, -0.0062, -0.0262, 0.0269, -0.0136, -0.0092, -0.0441, 0.0108, -0.0502, 0.025]))"
      ]
     },
     "execution_count": 24,
     "metadata": {},
     "output_type": "execute_result"
    }
   ],
   "source": [
    "all_user_vecs[0]\n",
    "# user_id = 'nOTl4aPC4tKHK35T3bNauQ'\n",
    "# DenseVector() - vector respresentation of all the reviews of User"
   ]
  },
  {
   "cell_type": "code",
   "execution_count": null,
   "metadata": {},
   "outputs": [],
   "source": [
    "all_user_vecs[30]"
   ]
  },
  {
   "cell_type": "code",
   "execution_count": null,
   "metadata": {},
   "outputs": [],
   "source": [
    "# To do consider only if the USer had minm. number of reviews\n",
    "# Tuning VectorSize and minCount\n",
    "# maybe removing non-restaurant related words..."
   ]
  },
  {
   "cell_type": "code",
   "execution_count": 25,
   "metadata": {},
   "outputs": [],
   "source": [
    "def getSimilarUsers(b_ids, sim_user_limit=10):\n",
    "    \n",
    "    schema = StructType([   \n",
    "                            StructField(\"user_id\", StringType(), True)\n",
    "                            ,StructField(\"score\", IntegerType(), True)\n",
    "                            ,StructField(\"input_user_id\", StringType(), True)\n",
    "                        ])\n",
    "    \n",
    "    similar_user_df = spark.createDataFrame([], schema)\n",
    "    \n",
    "    for b_id in b_ids:\n",
    "        \n",
    "        input_vec = [(r[1]) for r in all_user_vecs if r[0] == b_id][0]\n",
    "        \n",
    "        similar_user_rdd = sc.parallelize((i[0], float(CosineSim(input_vec, i[1]))) for i in all_user_vecs)\n",
    "        \n",
    "        similar_user_df = spark.createDataFrame(similar_user_rdd) \\\n",
    "            .withColumnRenamed('_1', 'user_id') \\\n",
    "            .withColumnRenamed('_2', 'score') \\\n",
    "            .orderBy(\"score\", ascending = False)\n",
    "            \n",
    "        similar_user_df = similar_user_df.dropna()    \n",
    "        similar_user_df = similar_user_df.filter(col(\"user_id\") != b_id).limit(sim_user_limit)\n",
    "        similar_user_df = similar_user_df.withColumn('input_user_id', lit(b_id))\n",
    "        \n",
    "        similar_user_df = similar_user_df \\\n",
    "                                    .union(similar_user_df)\n",
    "        \n",
    "    \n",
    "    return similar_user_df"
   ]
  },
  {
   "cell_type": "code",
   "execution_count": 26,
   "metadata": {},
   "outputs": [],
   "source": [
    "def getUserDetails(in_bus):\n",
    "    \n",
    "    a = in_bus.alias(\"a\")\n",
    "    b = user_df.alias(\"b\")\n",
    "    \n",
    "    return a.join(b, col(\"a.user_id\") == col(\"b.user_id\"), 'inner') \\\n",
    "             .select([col('a.'+xx) for xx in a.columns] + [col('b.user_id'), col('b.user_name'),col('b.review_count')])"
   ]
  },
  {
   "cell_type": "code",
   "execution_count": 27,
   "metadata": {},
   "outputs": [
    {
     "name": "stdout",
     "output_type": "stream",
     "text": [
      "\n",
      "input user details:\n",
      "+----------------------+---------+------------+\n",
      "|user_id               |user_name|review_count|\n",
      "+----------------------+---------+------------+\n",
      "|nOTl4aPC4tKHK35T3bNauQ|Katherine|148         |\n",
      "|QBac9-Ii6jR-yLsQ5MVTHg|Alex     |13          |\n",
      "+----------------------+---------+------------+\n",
      "\n"
     ]
    },
    {
     "name": "stderr",
     "output_type": "stream",
     "text": [
      "/anaconda3/lib/python3.6/site-packages/ipykernel_launcher.py:2: RuntimeWarning: invalid value encountered in double_scalars\n",
      "  \n"
     ]
    },
    {
     "name": "stdout",
     "output_type": "stream",
     "text": [
      "Top 10 similar Users for each input restaurant are:\"\n"
     ]
    },
    {
     "data": {
      "text/html": [
       "<div>\n",
       "<style scoped>\n",
       "    .dataframe tbody tr th:only-of-type {\n",
       "        vertical-align: middle;\n",
       "    }\n",
       "\n",
       "    .dataframe tbody tr th {\n",
       "        vertical-align: top;\n",
       "    }\n",
       "\n",
       "    .dataframe thead th {\n",
       "        text-align: right;\n",
       "    }\n",
       "</style>\n",
       "<table border=\"1\" class=\"dataframe\">\n",
       "  <thead>\n",
       "    <tr style=\"text-align: right;\">\n",
       "      <th></th>\n",
       "      <th>input_user_id</th>\n",
       "      <th>user_id</th>\n",
       "      <th>user_name</th>\n",
       "      <th>score</th>\n",
       "      <th>review_count</th>\n",
       "    </tr>\n",
       "  </thead>\n",
       "  <tbody>\n",
       "    <tr>\n",
       "      <th>0</th>\n",
       "      <td>QBac9-Ii6jR-yLsQ5MVTHg</td>\n",
       "      <td>MpN81tQOL86GaFse-_tTRQ</td>\n",
       "      <td>Amy</td>\n",
       "      <td>0.913263</td>\n",
       "      <td>46</td>\n",
       "    </tr>\n",
       "    <tr>\n",
       "      <th>1</th>\n",
       "      <td>QBac9-Ii6jR-yLsQ5MVTHg</td>\n",
       "      <td>MpN81tQOL86GaFse-_tTRQ</td>\n",
       "      <td>Amy</td>\n",
       "      <td>0.913263</td>\n",
       "      <td>46</td>\n",
       "    </tr>\n",
       "    <tr>\n",
       "      <th>2</th>\n",
       "      <td>QBac9-Ii6jR-yLsQ5MVTHg</td>\n",
       "      <td>bPUpO-bP6BmAGvSwPyDsng</td>\n",
       "      <td>Michael</td>\n",
       "      <td>0.905848</td>\n",
       "      <td>142</td>\n",
       "    </tr>\n",
       "    <tr>\n",
       "      <th>3</th>\n",
       "      <td>QBac9-Ii6jR-yLsQ5MVTHg</td>\n",
       "      <td>bPUpO-bP6BmAGvSwPyDsng</td>\n",
       "      <td>Michael</td>\n",
       "      <td>0.905848</td>\n",
       "      <td>142</td>\n",
       "    </tr>\n",
       "    <tr>\n",
       "      <th>4</th>\n",
       "      <td>QBac9-Ii6jR-yLsQ5MVTHg</td>\n",
       "      <td>zkKv10FEw-iWJBHvK0mGfA</td>\n",
       "      <td>Paul</td>\n",
       "      <td>0.903733</td>\n",
       "      <td>55</td>\n",
       "    </tr>\n",
       "    <tr>\n",
       "      <th>5</th>\n",
       "      <td>QBac9-Ii6jR-yLsQ5MVTHg</td>\n",
       "      <td>zkKv10FEw-iWJBHvK0mGfA</td>\n",
       "      <td>Paul</td>\n",
       "      <td>0.903733</td>\n",
       "      <td>55</td>\n",
       "    </tr>\n",
       "    <tr>\n",
       "      <th>6</th>\n",
       "      <td>QBac9-Ii6jR-yLsQ5MVTHg</td>\n",
       "      <td>eV5usRjY2cDqNKVv8wXroA</td>\n",
       "      <td>Sam</td>\n",
       "      <td>0.905077</td>\n",
       "      <td>105</td>\n",
       "    </tr>\n",
       "    <tr>\n",
       "      <th>7</th>\n",
       "      <td>QBac9-Ii6jR-yLsQ5MVTHg</td>\n",
       "      <td>eV5usRjY2cDqNKVv8wXroA</td>\n",
       "      <td>Sam</td>\n",
       "      <td>0.905077</td>\n",
       "      <td>105</td>\n",
       "    </tr>\n",
       "    <tr>\n",
       "      <th>8</th>\n",
       "      <td>QBac9-Ii6jR-yLsQ5MVTHg</td>\n",
       "      <td>xcBcIMVWEx1p7V8ACaeHpQ</td>\n",
       "      <td>Rick</td>\n",
       "      <td>0.918668</td>\n",
       "      <td>83</td>\n",
       "    </tr>\n",
       "    <tr>\n",
       "      <th>9</th>\n",
       "      <td>QBac9-Ii6jR-yLsQ5MVTHg</td>\n",
       "      <td>xcBcIMVWEx1p7V8ACaeHpQ</td>\n",
       "      <td>Rick</td>\n",
       "      <td>0.918668</td>\n",
       "      <td>83</td>\n",
       "    </tr>\n",
       "    <tr>\n",
       "      <th>10</th>\n",
       "      <td>QBac9-Ii6jR-yLsQ5MVTHg</td>\n",
       "      <td>_IR48ok0ZkPMWJ2PlRCk0A</td>\n",
       "      <td>Michael</td>\n",
       "      <td>0.907098</td>\n",
       "      <td>82</td>\n",
       "    </tr>\n",
       "    <tr>\n",
       "      <th>11</th>\n",
       "      <td>QBac9-Ii6jR-yLsQ5MVTHg</td>\n",
       "      <td>_IR48ok0ZkPMWJ2PlRCk0A</td>\n",
       "      <td>Michael</td>\n",
       "      <td>0.907098</td>\n",
       "      <td>82</td>\n",
       "    </tr>\n",
       "    <tr>\n",
       "      <th>12</th>\n",
       "      <td>QBac9-Ii6jR-yLsQ5MVTHg</td>\n",
       "      <td>J5Eb7LhJaOa20k0ppcOCOg</td>\n",
       "      <td>Alek</td>\n",
       "      <td>0.907664</td>\n",
       "      <td>34</td>\n",
       "    </tr>\n",
       "    <tr>\n",
       "      <th>13</th>\n",
       "      <td>QBac9-Ii6jR-yLsQ5MVTHg</td>\n",
       "      <td>J5Eb7LhJaOa20k0ppcOCOg</td>\n",
       "      <td>Alek</td>\n",
       "      <td>0.907664</td>\n",
       "      <td>34</td>\n",
       "    </tr>\n",
       "    <tr>\n",
       "      <th>14</th>\n",
       "      <td>QBac9-Ii6jR-yLsQ5MVTHg</td>\n",
       "      <td>cNhHuEQMIpLH_qc9qGz67A</td>\n",
       "      <td>Jay</td>\n",
       "      <td>0.910774</td>\n",
       "      <td>57</td>\n",
       "    </tr>\n",
       "    <tr>\n",
       "      <th>15</th>\n",
       "      <td>QBac9-Ii6jR-yLsQ5MVTHg</td>\n",
       "      <td>cNhHuEQMIpLH_qc9qGz67A</td>\n",
       "      <td>Jay</td>\n",
       "      <td>0.910774</td>\n",
       "      <td>57</td>\n",
       "    </tr>\n",
       "    <tr>\n",
       "      <th>16</th>\n",
       "      <td>QBac9-Ii6jR-yLsQ5MVTHg</td>\n",
       "      <td>g5W7s0n19gvT1Ujy_ITJog</td>\n",
       "      <td>Bria</td>\n",
       "      <td>0.907846</td>\n",
       "      <td>73</td>\n",
       "    </tr>\n",
       "    <tr>\n",
       "      <th>17</th>\n",
       "      <td>QBac9-Ii6jR-yLsQ5MVTHg</td>\n",
       "      <td>g5W7s0n19gvT1Ujy_ITJog</td>\n",
       "      <td>Bria</td>\n",
       "      <td>0.907846</td>\n",
       "      <td>73</td>\n",
       "    </tr>\n",
       "    <tr>\n",
       "      <th>18</th>\n",
       "      <td>QBac9-Ii6jR-yLsQ5MVTHg</td>\n",
       "      <td>kw-YtOKPXrRB2a9wRZlmzQ</td>\n",
       "      <td>Jimmy</td>\n",
       "      <td>0.915453</td>\n",
       "      <td>101</td>\n",
       "    </tr>\n",
       "    <tr>\n",
       "      <th>19</th>\n",
       "      <td>QBac9-Ii6jR-yLsQ5MVTHg</td>\n",
       "      <td>kw-YtOKPXrRB2a9wRZlmzQ</td>\n",
       "      <td>Jimmy</td>\n",
       "      <td>0.915453</td>\n",
       "      <td>101</td>\n",
       "    </tr>\n",
       "  </tbody>\n",
       "</table>\n",
       "</div>"
      ],
      "text/plain": [
       "             input_user_id                 user_id user_name     score  \\\n",
       "0   QBac9-Ii6jR-yLsQ5MVTHg  MpN81tQOL86GaFse-_tTRQ       Amy  0.913263   \n",
       "1   QBac9-Ii6jR-yLsQ5MVTHg  MpN81tQOL86GaFse-_tTRQ       Amy  0.913263   \n",
       "2   QBac9-Ii6jR-yLsQ5MVTHg  bPUpO-bP6BmAGvSwPyDsng   Michael  0.905848   \n",
       "3   QBac9-Ii6jR-yLsQ5MVTHg  bPUpO-bP6BmAGvSwPyDsng   Michael  0.905848   \n",
       "4   QBac9-Ii6jR-yLsQ5MVTHg  zkKv10FEw-iWJBHvK0mGfA      Paul  0.903733   \n",
       "5   QBac9-Ii6jR-yLsQ5MVTHg  zkKv10FEw-iWJBHvK0mGfA      Paul  0.903733   \n",
       "6   QBac9-Ii6jR-yLsQ5MVTHg  eV5usRjY2cDqNKVv8wXroA       Sam  0.905077   \n",
       "7   QBac9-Ii6jR-yLsQ5MVTHg  eV5usRjY2cDqNKVv8wXroA       Sam  0.905077   \n",
       "8   QBac9-Ii6jR-yLsQ5MVTHg  xcBcIMVWEx1p7V8ACaeHpQ      Rick  0.918668   \n",
       "9   QBac9-Ii6jR-yLsQ5MVTHg  xcBcIMVWEx1p7V8ACaeHpQ      Rick  0.918668   \n",
       "10  QBac9-Ii6jR-yLsQ5MVTHg  _IR48ok0ZkPMWJ2PlRCk0A   Michael  0.907098   \n",
       "11  QBac9-Ii6jR-yLsQ5MVTHg  _IR48ok0ZkPMWJ2PlRCk0A   Michael  0.907098   \n",
       "12  QBac9-Ii6jR-yLsQ5MVTHg  J5Eb7LhJaOa20k0ppcOCOg      Alek  0.907664   \n",
       "13  QBac9-Ii6jR-yLsQ5MVTHg  J5Eb7LhJaOa20k0ppcOCOg      Alek  0.907664   \n",
       "14  QBac9-Ii6jR-yLsQ5MVTHg  cNhHuEQMIpLH_qc9qGz67A       Jay  0.910774   \n",
       "15  QBac9-Ii6jR-yLsQ5MVTHg  cNhHuEQMIpLH_qc9qGz67A       Jay  0.910774   \n",
       "16  QBac9-Ii6jR-yLsQ5MVTHg  g5W7s0n19gvT1Ujy_ITJog      Bria  0.907846   \n",
       "17  QBac9-Ii6jR-yLsQ5MVTHg  g5W7s0n19gvT1Ujy_ITJog      Bria  0.907846   \n",
       "18  QBac9-Ii6jR-yLsQ5MVTHg  kw-YtOKPXrRB2a9wRZlmzQ     Jimmy  0.915453   \n",
       "19  QBac9-Ii6jR-yLsQ5MVTHg  kw-YtOKPXrRB2a9wRZlmzQ     Jimmy  0.915453   \n",
       "\n",
       "    review_count  \n",
       "0             46  \n",
       "1             46  \n",
       "2            142  \n",
       "3            142  \n",
       "4             55  \n",
       "5             55  \n",
       "6            105  \n",
       "7            105  \n",
       "8             83  \n",
       "9             83  \n",
       "10            82  \n",
       "11            82  \n",
       "12            34  \n",
       "13            34  \n",
       "14            57  \n",
       "15            57  \n",
       "16            73  \n",
       "17            73  \n",
       "18           101  \n",
       "19           101  "
      ]
     },
     "execution_count": 27,
     "metadata": {},
     "output_type": "execute_result"
    }
   ],
   "source": [
    "# test with two restaurants\n",
    "\n",
    "uids = ['nOTl4aPC4tKHK35T3bNauQ', 'QBac9-Ii6jR-yLsQ5MVTHg']\n",
    "\n",
    "print('\\ninput user details:')\n",
    "user_df.select('user_id','user_name', 'review_count') \\\n",
    "    .filter(user_df.user_id.isin(uids) == True).show(truncate=False)\n",
    "    \n",
    "# get top 10 similar business\n",
    "sim_users = getUserDetails(getSimilarUsers(uids))\n",
    "\n",
    "print('Top 10 similar Users for each input restaurant are:\"')\n",
    "sim_users.select('input_user_id', 'a.user_id', 'user_name', 'score','review_count').toPandas()"
   ]
  },
  {
   "cell_type": "code",
   "execution_count": null,
   "metadata": {},
   "outputs": [],
   "source": [
    "getSimilarUsers(uids)"
   ]
  },
  {
   "cell_type": "code",
   "execution_count": null,
   "metadata": {},
   "outputs": [],
   "source": [
    "getSimilarUsers(uids).head(20)"
   ]
  },
  {
   "cell_type": "code",
   "execution_count": null,
   "metadata": {},
   "outputs": [],
   "source": [
    "schema = StructType([   \n",
    "                        StructField(\"user_id\", StringType(), True)\n",
    "                        ,StructField(\"score\", IntegerType(), True)\n",
    "                        ,StructField(\"input_user_id\", StringType(), True)\n",
    "                    ])\n",
    "\n",
    "similar_user_df = spark.createDataFrame([], schema)"
   ]
  },
  {
   "cell_type": "code",
   "execution_count": null,
   "metadata": {},
   "outputs": [],
   "source": [
    "sim_user_limit = 10\n",
    "\n",
    "for b_id in uids:\n",
    "    print(b_id)\n",
    "    input_vec = [(r[1]) for r in all_user_vecs if r[0] == b_id][0]\n",
    "    #input_vec = reviews_by_business_trf_df.select('word_vec')\\\n",
    "                #.filter(reviews_by_business_trf_df['business_id'] == b_id)\\\n",
    "                #.collect()[0][0]\n",
    "\n",
    "    similar_user_rdd = sc.parallelize((i[0], float(CosineSim(input_vec, i[1]))) for i in all_user_vecs)\n",
    "\n",
    "    similar_user_df = spark.createDataFrame(similar_user_rdd) \\\n",
    "        .withColumnRenamed('_1', 'user_id') \\\n",
    "        .withColumnRenamed('_2', 'score') \\\n",
    "        .orderBy(\"score\", ascending = False)\n",
    "    similar_user_df = similar_user_df.dropna()\n",
    "    #.where(isnan(col(\"a\")))\n",
    "    similar_user_df = similar_user_df.filter(col(\"user_id\") != b_id).limit(sim_user_limit)\n",
    "    similar_user_df = similar_user_df.withColumn('input_user_id', lit(b_id))\n",
    "\n",
    "    similar_user_df = similar_user_df \\\n",
    "                                .union(similar_user_df)\n",
    "\n",
    "    print(\"-------------------------------------\")\n",
    "    print(similar_user_df.take(10))\n",
    "    print(\"-------------------------------------\")"
   ]
  },
  {
   "cell_type": "code",
   "execution_count": null,
   "metadata": {},
   "outputs": [],
   "source": [
    "similar_user_rdd"
   ]
  },
  {
   "cell_type": "code",
   "execution_count": null,
   "metadata": {},
   "outputs": [],
   "source": [
    "print(similar_user_df.take(100))"
   ]
  },
  {
   "cell_type": "code",
   "execution_count": null,
   "metadata": {},
   "outputs": [],
   "source": []
  }
 ],
 "metadata": {
  "kernelspec": {
   "display_name": "Python 3",
   "language": "python",
   "name": "python3"
  },
  "language_info": {
   "codemirror_mode": {
    "name": "ipython",
    "version": 3
   },
   "file_extension": ".py",
   "mimetype": "text/x-python",
   "name": "python",
   "nbconvert_exporter": "python",
   "pygments_lexer": "ipython3",
   "version": "3.6.4"
  },
  "varInspector": {
   "cols": {
    "lenName": 16,
    "lenType": 16,
    "lenVar": 40
   },
   "kernels_config": {
    "python": {
     "delete_cmd_postfix": "",
     "delete_cmd_prefix": "del ",
     "library": "var_list.py",
     "varRefreshCmd": "print(var_dic_list())"
    },
    "r": {
     "delete_cmd_postfix": ") ",
     "delete_cmd_prefix": "rm(",
     "library": "var_list.r",
     "varRefreshCmd": "cat(var_dic_list()) "
    }
   },
   "types_to_exclude": [
    "module",
    "function",
    "builtin_function_or_method",
    "instance",
    "_Feature"
   ],
   "window_display": false
  }
 },
 "nbformat": 4,
 "nbformat_minor": 2
}
