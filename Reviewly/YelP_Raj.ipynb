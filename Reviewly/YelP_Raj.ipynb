{
 "cells": [
  {
   "cell_type": "code",
   "execution_count": 46,
   "metadata": {},
   "outputs": [],
   "source": [
    "import pandas as pd\n",
    "import numpy as np\n",
    "from gensim.models import Phrases\n",
    "from gensim.models.word2vec import LineSentence\n",
    "import spacy\n",
    "import itertools as it\n",
    "import os"
   ]
  },
  {
   "cell_type": "code",
   "execution_count": null,
   "metadata": {},
   "outputs": [],
   "source": [
    "import nltk\n",
    "from gensim import corpora\n",
    "from collections import defaultdict\n",
    "from pprint import pprint\n",
    "import codecs"
   ]
  },
  {
   "cell_type": "code",
   "execution_count": 5,
   "metadata": {},
   "outputs": [],
   "source": [
    "pd.set_option('display.max_colwidth', 100)"
   ]
  },
  {
   "cell_type": "code",
   "execution_count": 6,
   "metadata": {},
   "outputs": [],
   "source": [
    "nlp = spacy.load('en') \n",
    "## python -m spacy download en"
   ]
  },
  {
   "cell_type": "code",
   "execution_count": 7,
   "metadata": {},
   "outputs": [],
   "source": [
    "review = pd.read_csv(\"/Volumes/Transcend/MDS_Yelp/yelp_review.csv\")"
   ]
  },
  {
   "cell_type": "code",
   "execution_count": 8,
   "metadata": {},
   "outputs": [
    {
     "data": {
      "text/html": [
       "<div>\n",
       "<style scoped>\n",
       "    .dataframe tbody tr th:only-of-type {\n",
       "        vertical-align: middle;\n",
       "    }\n",
       "\n",
       "    .dataframe tbody tr th {\n",
       "        vertical-align: top;\n",
       "    }\n",
       "\n",
       "    .dataframe thead th {\n",
       "        text-align: right;\n",
       "    }\n",
       "</style>\n",
       "<table border=\"1\" class=\"dataframe\">\n",
       "  <thead>\n",
       "    <tr style=\"text-align: right;\">\n",
       "      <th></th>\n",
       "      <th>review_id</th>\n",
       "      <th>user_id</th>\n",
       "      <th>business_id</th>\n",
       "      <th>stars</th>\n",
       "      <th>date</th>\n",
       "      <th>text</th>\n",
       "      <th>useful</th>\n",
       "      <th>funny</th>\n",
       "      <th>cool</th>\n",
       "      <th>parsed_text</th>\n",
       "    </tr>\n",
       "  </thead>\n",
       "  <tbody>\n",
       "    <tr>\n",
       "      <th>3904751</th>\n",
       "      <td>_v0ugLEPH8ZK2eRxZIpg0Q</td>\n",
       "      <td>WL_U3MBUfTkeHL9lYxoleg</td>\n",
       "      <td>djW8gh3JJ-__NCxx1YQaHg</td>\n",
       "      <td>5</td>\n",
       "      <td>2010-01-13</td>\n",
       "      <td>Man, Biagio's just has the best donuts ever. Don't talk to me about Krispy Kreme (and those don'...</td>\n",
       "      <td>10</td>\n",
       "      <td>9</td>\n",
       "      <td>7</td>\n",
       "      <td>None</td>\n",
       "    </tr>\n",
       "    <tr>\n",
       "      <th>1957173</th>\n",
       "      <td>WSgR_FbeR7X5vBfjtXv4Pw</td>\n",
       "      <td>--iiD1TQzaXGxePZ1g5S2A</td>\n",
       "      <td>u73j2VQ3TGWdMO-AG7MABw</td>\n",
       "      <td>5</td>\n",
       "      <td>2016-06-01</td>\n",
       "      <td>I had never had chicken and waffles before coming to Lo-Lo's and now it is a staple for my Satur...</td>\n",
       "      <td>2</td>\n",
       "      <td>0</td>\n",
       "      <td>2</td>\n",
       "      <td>None</td>\n",
       "    </tr>\n",
       "    <tr>\n",
       "      <th>3222633</th>\n",
       "      <td>5D0yuk0eirxRbzhTrJDWMw</td>\n",
       "      <td>Vdt1BqSt278sXRtwcMeBwQ</td>\n",
       "      <td>81XqABPROlu8WIER-soVmA</td>\n",
       "      <td>5</td>\n",
       "      <td>2016-08-03</td>\n",
       "      <td>Not all JM's are the same but if you're in the area and are looking for a food option that may n...</td>\n",
       "      <td>0</td>\n",
       "      <td>0</td>\n",
       "      <td>0</td>\n",
       "      <td>None</td>\n",
       "    </tr>\n",
       "    <tr>\n",
       "      <th>2218724</th>\n",
       "      <td>TVQ2Rz17on3EgZmxLxuTuw</td>\n",
       "      <td>b7VnXEb51NBUv2lczurQjg</td>\n",
       "      <td>TgjB-wlAVzol6HoDpE8KYg</td>\n",
       "      <td>3</td>\n",
       "      <td>2017-04-01</td>\n",
       "      <td>Kinda underwhelming. Went for Saturday morning brunch and got the Shepherds biscuit. Sounded int...</td>\n",
       "      <td>0</td>\n",
       "      <td>0</td>\n",
       "      <td>0</td>\n",
       "      <td>None</td>\n",
       "    </tr>\n",
       "    <tr>\n",
       "      <th>3784613</th>\n",
       "      <td>_2Lkx8FUWvGOL6a7weoC9A</td>\n",
       "      <td>R_WixXtQughL_n5G4K97BQ</td>\n",
       "      <td>00Iemn8BmKrwtaFtt829kw</td>\n",
       "      <td>5</td>\n",
       "      <td>2017-01-29</td>\n",
       "      <td>David was awesome. We live in an older home we recently had re-landscaped. We chose Sprinkler Re...</td>\n",
       "      <td>0</td>\n",
       "      <td>0</td>\n",
       "      <td>0</td>\n",
       "      <td>None</td>\n",
       "    </tr>\n",
       "  </tbody>\n",
       "</table>\n",
       "</div>"
      ],
      "text/plain": [
       "                      review_id                 user_id  \\\n",
       "3904751  _v0ugLEPH8ZK2eRxZIpg0Q  WL_U3MBUfTkeHL9lYxoleg   \n",
       "1957173  WSgR_FbeR7X5vBfjtXv4Pw  --iiD1TQzaXGxePZ1g5S2A   \n",
       "3222633  5D0yuk0eirxRbzhTrJDWMw  Vdt1BqSt278sXRtwcMeBwQ   \n",
       "2218724  TVQ2Rz17on3EgZmxLxuTuw  b7VnXEb51NBUv2lczurQjg   \n",
       "3784613  _2Lkx8FUWvGOL6a7weoC9A  R_WixXtQughL_n5G4K97BQ   \n",
       "\n",
       "                    business_id  stars        date  \\\n",
       "3904751  djW8gh3JJ-__NCxx1YQaHg      5  2010-01-13   \n",
       "1957173  u73j2VQ3TGWdMO-AG7MABw      5  2016-06-01   \n",
       "3222633  81XqABPROlu8WIER-soVmA      5  2016-08-03   \n",
       "2218724  TgjB-wlAVzol6HoDpE8KYg      3  2017-04-01   \n",
       "3784613  00Iemn8BmKrwtaFtt829kw      5  2017-01-29   \n",
       "\n",
       "                                                                                                        text  \\\n",
       "3904751  Man, Biagio's just has the best donuts ever. Don't talk to me about Krispy Kreme (and those don'...   \n",
       "1957173  I had never had chicken and waffles before coming to Lo-Lo's and now it is a staple for my Satur...   \n",
       "3222633  Not all JM's are the same but if you're in the area and are looking for a food option that may n...   \n",
       "2218724  Kinda underwhelming. Went for Saturday morning brunch and got the Shepherds biscuit. Sounded int...   \n",
       "3784613  David was awesome. We live in an older home we recently had re-landscaped. We chose Sprinkler Re...   \n",
       "\n",
       "         useful  funny  cool parsed_text  \n",
       "3904751      10      9     7        None  \n",
       "1957173       2      0     2        None  \n",
       "3222633       0      0     0        None  \n",
       "2218724       0      0     0        None  \n",
       "3784613       0      0     0        None  "
      ]
     },
     "execution_count": 8,
     "metadata": {},
     "output_type": "execute_result"
    }
   ],
   "source": [
    "nv_reviews = review.sample(5000)\n",
    "nv_reviews['parsed_text'] = None\n",
    "nv_reviews.head()"
   ]
  },
  {
   "cell_type": "code",
   "execution_count": 9,
   "metadata": {},
   "outputs": [
    {
     "data": {
      "text/plain": [
       "str"
      ]
     },
     "execution_count": 9,
     "metadata": {},
     "output_type": "execute_result"
    }
   ],
   "source": [
    "type(nv_reviews['text'].values[0])"
   ]
  },
  {
   "cell_type": "code",
   "execution_count": 10,
   "metadata": {},
   "outputs": [],
   "source": [
    "def punct_space(token):\n",
    "    \"\"\"\n",
    "    helper function to eliminate tokens\n",
    "    that are pure punctuation or whitespace\n",
    "    \"\"\"\n",
    "    \n",
    "    return token.is_punct or token.is_space\n",
    "\n",
    "def line_review(filename):\n",
    "    \"\"\"\n",
    "    generator function to read in reviews from the file\n",
    "    and un-escape the original line breaks in the text\n",
    "    \"\"\"\n",
    "    \n",
    "    with codecs.open(filename, encoding='utf_8') as f:\n",
    "        for review in f:\n",
    "            yield review.replace('\\\\n', '\\n')\n",
    "            \n",
    "def lemmatized_sentence_corpus(filename):\n",
    "    \"\"\"\n",
    "    generator function to use spaCy to parse reviews,\n",
    "    lemmatize the text, and yield sentences\n",
    "    \"\"\"\n",
    "    \n",
    "    for parsed_review in nlp.pipe(line_review(filename),\n",
    "                                  batch_size=10000, n_threads=4):\n",
    "        \n",
    "        for sent in parsed_review.sents:\n",
    "            yield u' '.join([token.lemma_ for token in sent\n",
    "                             if not punct_space(token)])"
   ]
  },
  {
   "cell_type": "code",
   "execution_count": 11,
   "metadata": {},
   "outputs": [],
   "source": [
    "documents = nv_reviews['text'].tolist()"
   ]
  },
  {
   "cell_type": "code",
   "execution_count": 12,
   "metadata": {},
   "outputs": [],
   "source": [
    "docs = []\n",
    "for i in range(len(documents)):\n",
    "    docs.append(nlp(documents[i]))"
   ]
  },
  {
   "cell_type": "code",
   "execution_count": 13,
   "metadata": {},
   "outputs": [
    {
     "data": {
      "text/plain": [
       "\"Man, Biagio's just has the best donuts ever. Don't talk to me about Krispy Kreme (and those don't even SOUND good, by the way.... donuts are not supposed to be Krispy!!) or Dunkin' or Amy Joy. None of those others can even compare to the lovely donuts made fresh at Biagio's! \\n\\nUnfortunately, my family thinks it's funny to get a few dozen of these babies about once a week. And I always eat 2 of them because... well, I'm tubby and I just cannot resist them. They are the freshest, most delicious donuts you'll ever taste. \\n\\nAnd really, this is all coming from someone who isn't that big of a donut fan in the first place. \\n\\nTotally worth the drive across the river to BFEastlake to get your donut fix.\""
      ]
     },
     "execution_count": 13,
     "metadata": {},
     "output_type": "execute_result"
    }
   ],
   "source": [
    "documents[0]"
   ]
  },
  {
   "cell_type": "code",
   "execution_count": 14,
   "metadata": {},
   "outputs": [
    {
     "data": {
      "text/plain": [
       "Man, Biagio's just has the best donuts ever. Don't talk to me about Krispy Kreme (and those don't even SOUND good, by the way.... donuts are not supposed to be Krispy!!) or Dunkin' or Amy Joy. None of those others can even compare to the lovely donuts made fresh at Biagio's! \n",
       "\n",
       "Unfortunately, my family thinks it's funny to get a few dozen of these babies about once a week. And I always eat 2 of them because... well, I'm tubby and I just cannot resist them. They are the freshest, most delicious donuts you'll ever taste. \n",
       "\n",
       "And really, this is all coming from someone who isn't that big of a donut fan in the first place. \n",
       "\n",
       "Totally worth the drive across the river to BFEastlake to get your donut fix."
      ]
     },
     "execution_count": 14,
     "metadata": {},
     "output_type": "execute_result"
    }
   ],
   "source": [
    "docs[0]"
   ]
  },
  {
   "cell_type": "code",
   "execution_count": 15,
   "metadata": {},
   "outputs": [],
   "source": [
    "token_lemma = [token.lemma_ for token in docs[1]]"
   ]
  },
  {
   "cell_type": "code",
   "execution_count": 16,
   "metadata": {},
   "outputs": [],
   "source": [
    "unigram_review = [token.lemma_ for token in docs[0] if not punct_space(token)]"
   ]
  },
  {
   "cell_type": "code",
   "execution_count": 17,
   "metadata": {},
   "outputs": [],
   "source": [
    "# remove any remaining stopwords\n",
    "unigram_review = [term for term in unigram_review if term not in spacy.lang.en.STOP_WORDS]\n",
    "# nlp.Defaults.stop_words works as well"
   ]
  },
  {
   "cell_type": "code",
   "execution_count": 18,
   "metadata": {},
   "outputs": [
    {
     "data": {
      "text/plain": [
       "['man',\n",
       " 'biagio',\n",
       " \"'s\",\n",
       " 'good',\n",
       " 'donut',\n",
       " 'talk',\n",
       " '-PRON-',\n",
       " 'krispy',\n",
       " 'kreme',\n",
       " 'sound',\n",
       " 'good',\n",
       " 'way',\n",
       " 'donut',\n",
       " 'suppose',\n",
       " 'krispy',\n",
       " 'dunkin',\n",
       " 'amy',\n",
       " 'joy',\n",
       " 'compare',\n",
       " 'lovely',\n",
       " 'donut',\n",
       " 'fresh',\n",
       " 'biagio',\n",
       " \"'s\",\n",
       " 'unfortunately',\n",
       " '-PRON-',\n",
       " 'family',\n",
       " 'think',\n",
       " '-PRON-',\n",
       " 'funny',\n",
       " 'dozen',\n",
       " 'baby',\n",
       " 'week',\n",
       " '-PRON-',\n",
       " 'eat',\n",
       " '2',\n",
       " '-PRON-',\n",
       " '-PRON-',\n",
       " 'tubby',\n",
       " '-PRON-',\n",
       " 'resist',\n",
       " '-PRON-',\n",
       " '-PRON-',\n",
       " 'fresh',\n",
       " 'delicious',\n",
       " 'donut',\n",
       " '-PRON-',\n",
       " 'taste',\n",
       " 'come',\n",
       " 'big',\n",
       " 'donut',\n",
       " 'fan',\n",
       " 'place',\n",
       " 'totally',\n",
       " 'worth',\n",
       " 'drive',\n",
       " 'river',\n",
       " 'bfeastlake',\n",
       " '-PRON-',\n",
       " 'donut',\n",
       " 'fix']"
      ]
     },
     "execution_count": 18,
     "metadata": {},
     "output_type": "execute_result"
    }
   ],
   "source": [
    "unigram_review"
   ]
  },
  {
   "cell_type": "code",
   "execution_count": 19,
   "metadata": {},
   "outputs": [],
   "source": [
    "from gensim.test.utils import datapath\n",
    "from gensim.models.word2vec import Text8Corpus\n",
    "from gensim.models.phrases import Phrases, Phraser\n",
    "\n",
    "sentences = Text8Corpus(datapath('testcorpus.txt'))"
   ]
  },
  {
   "cell_type": "code",
   "execution_count": 20,
   "metadata": {},
   "outputs": [
    {
     "data": {
      "text/plain": [
       "<gensim.models.word2vec.Text8Corpus at 0x1a191847b8>"
      ]
     },
     "execution_count": 20,
     "metadata": {},
     "output_type": "execute_result"
    }
   ],
   "source": [
    "sentences"
   ]
  },
  {
   "cell_type": "code",
   "execution_count": 21,
   "metadata": {},
   "outputs": [
    {
     "data": {
      "text/plain": [
       "'/anaconda3/lib/python3.6/site-packages/gensim/test/test_data/testcorpus.txt'"
      ]
     },
     "execution_count": 21,
     "metadata": {},
     "output_type": "execute_result"
    }
   ],
   "source": [
    "datapath('testcorpus.txt')"
   ]
  },
  {
   "cell_type": "code",
   "execution_count": 22,
   "metadata": {},
   "outputs": [
    {
     "data": {
      "text/plain": [
       "<_io.TextIOWrapper name='/anaconda3/lib/python3.6/site-packages/gensim/test/test_data/testcorpus.txt' mode='r' encoding='UTF-8'>"
      ]
     },
     "execution_count": 22,
     "metadata": {},
     "output_type": "execute_result"
    }
   ],
   "source": [
    "open('/anaconda3/lib/python3.6/site-packages/gensim/test/test_data/testcorpus.txt')"
   ]
  },
  {
   "cell_type": "code",
   "execution_count": 23,
   "metadata": {},
   "outputs": [
    {
     "data": {
      "text/plain": [
       "<gensim.models.phrases.Phrases at 0x1a1912bc18>"
      ]
     },
     "execution_count": 23,
     "metadata": {},
     "output_type": "execute_result"
    }
   ],
   "source": [
    "phrases = Phrases(sentences, min_count=1, threshold=1)\n",
    "phrases\n",
    "#https://stackoverflow.com/questions/35716121/how-to-extract-phrases-from-corpus-using-gensim"
   ]
  },
  {
   "cell_type": "code",
   "execution_count": 24,
   "metadata": {},
   "outputs": [
    {
     "name": "stderr",
     "output_type": "stream",
     "text": [
      "/anaconda3/lib/python3.6/site-packages/gensim/models/phrases.py:598: UserWarning: For a faster implementation, use the gensim.models.phrases.Phraser class\n",
      "  warnings.warn(\"For a faster implementation, use the gensim.models.phrases.Phraser class\")\n"
     ]
    },
    {
     "data": {
      "text/plain": [
       "['trees_graph', 'minors']"
      ]
     },
     "execution_count": 24,
     "metadata": {},
     "output_type": "execute_result"
    }
   ],
   "source": [
    "phrases[[u'trees', u'graph', u'minors']]"
   ]
  },
  {
   "cell_type": "code",
   "execution_count": 25,
   "metadata": {},
   "outputs": [
    {
     "data": {
      "text/html": [
       "<div>\n",
       "<style scoped>\n",
       "    .dataframe tbody tr th:only-of-type {\n",
       "        vertical-align: middle;\n",
       "    }\n",
       "\n",
       "    .dataframe tbody tr th {\n",
       "        vertical-align: top;\n",
       "    }\n",
       "\n",
       "    .dataframe thead th {\n",
       "        text-align: right;\n",
       "    }\n",
       "</style>\n",
       "<table border=\"1\" class=\"dataframe\">\n",
       "  <thead>\n",
       "    <tr style=\"text-align: right;\">\n",
       "      <th></th>\n",
       "      <th>review_id</th>\n",
       "      <th>user_id</th>\n",
       "      <th>business_id</th>\n",
       "      <th>stars</th>\n",
       "      <th>date</th>\n",
       "      <th>text</th>\n",
       "      <th>useful</th>\n",
       "      <th>funny</th>\n",
       "      <th>cool</th>\n",
       "      <th>parsed_text</th>\n",
       "    </tr>\n",
       "  </thead>\n",
       "  <tbody>\n",
       "    <tr>\n",
       "      <th>0</th>\n",
       "      <td>_v0ugLEPH8ZK2eRxZIpg0Q</td>\n",
       "      <td>WL_U3MBUfTkeHL9lYxoleg</td>\n",
       "      <td>djW8gh3JJ-__NCxx1YQaHg</td>\n",
       "      <td>5</td>\n",
       "      <td>2010-01-13</td>\n",
       "      <td>Man, Biagio's just has the best donuts ever. Don't talk to me about Krispy Kreme (and those don'...</td>\n",
       "      <td>10</td>\n",
       "      <td>9</td>\n",
       "      <td>7</td>\n",
       "      <td>None</td>\n",
       "    </tr>\n",
       "    <tr>\n",
       "      <th>1</th>\n",
       "      <td>WSgR_FbeR7X5vBfjtXv4Pw</td>\n",
       "      <td>--iiD1TQzaXGxePZ1g5S2A</td>\n",
       "      <td>u73j2VQ3TGWdMO-AG7MABw</td>\n",
       "      <td>5</td>\n",
       "      <td>2016-06-01</td>\n",
       "      <td>I had never had chicken and waffles before coming to Lo-Lo's and now it is a staple for my Satur...</td>\n",
       "      <td>2</td>\n",
       "      <td>0</td>\n",
       "      <td>2</td>\n",
       "      <td>None</td>\n",
       "    </tr>\n",
       "    <tr>\n",
       "      <th>2</th>\n",
       "      <td>5D0yuk0eirxRbzhTrJDWMw</td>\n",
       "      <td>Vdt1BqSt278sXRtwcMeBwQ</td>\n",
       "      <td>81XqABPROlu8WIER-soVmA</td>\n",
       "      <td>5</td>\n",
       "      <td>2016-08-03</td>\n",
       "      <td>Not all JM's are the same but if you're in the area and are looking for a food option that may n...</td>\n",
       "      <td>0</td>\n",
       "      <td>0</td>\n",
       "      <td>0</td>\n",
       "      <td>None</td>\n",
       "    </tr>\n",
       "    <tr>\n",
       "      <th>3</th>\n",
       "      <td>TVQ2Rz17on3EgZmxLxuTuw</td>\n",
       "      <td>b7VnXEb51NBUv2lczurQjg</td>\n",
       "      <td>TgjB-wlAVzol6HoDpE8KYg</td>\n",
       "      <td>3</td>\n",
       "      <td>2017-04-01</td>\n",
       "      <td>Kinda underwhelming. Went for Saturday morning brunch and got the Shepherds biscuit. Sounded int...</td>\n",
       "      <td>0</td>\n",
       "      <td>0</td>\n",
       "      <td>0</td>\n",
       "      <td>None</td>\n",
       "    </tr>\n",
       "    <tr>\n",
       "      <th>4</th>\n",
       "      <td>_2Lkx8FUWvGOL6a7weoC9A</td>\n",
       "      <td>R_WixXtQughL_n5G4K97BQ</td>\n",
       "      <td>00Iemn8BmKrwtaFtt829kw</td>\n",
       "      <td>5</td>\n",
       "      <td>2017-01-29</td>\n",
       "      <td>David was awesome. We live in an older home we recently had re-landscaped. We chose Sprinkler Re...</td>\n",
       "      <td>0</td>\n",
       "      <td>0</td>\n",
       "      <td>0</td>\n",
       "      <td>None</td>\n",
       "    </tr>\n",
       "  </tbody>\n",
       "</table>\n",
       "</div>"
      ],
      "text/plain": [
       "                review_id                 user_id             business_id  \\\n",
       "0  _v0ugLEPH8ZK2eRxZIpg0Q  WL_U3MBUfTkeHL9lYxoleg  djW8gh3JJ-__NCxx1YQaHg   \n",
       "1  WSgR_FbeR7X5vBfjtXv4Pw  --iiD1TQzaXGxePZ1g5S2A  u73j2VQ3TGWdMO-AG7MABw   \n",
       "2  5D0yuk0eirxRbzhTrJDWMw  Vdt1BqSt278sXRtwcMeBwQ  81XqABPROlu8WIER-soVmA   \n",
       "3  TVQ2Rz17on3EgZmxLxuTuw  b7VnXEb51NBUv2lczurQjg  TgjB-wlAVzol6HoDpE8KYg   \n",
       "4  _2Lkx8FUWvGOL6a7weoC9A  R_WixXtQughL_n5G4K97BQ  00Iemn8BmKrwtaFtt829kw   \n",
       "\n",
       "   stars        date  \\\n",
       "0      5  2010-01-13   \n",
       "1      5  2016-06-01   \n",
       "2      5  2016-08-03   \n",
       "3      3  2017-04-01   \n",
       "4      5  2017-01-29   \n",
       "\n",
       "                                                                                                  text  \\\n",
       "0  Man, Biagio's just has the best donuts ever. Don't talk to me about Krispy Kreme (and those don'...   \n",
       "1  I had never had chicken and waffles before coming to Lo-Lo's and now it is a staple for my Satur...   \n",
       "2  Not all JM's are the same but if you're in the area and are looking for a food option that may n...   \n",
       "3  Kinda underwhelming. Went for Saturday morning brunch and got the Shepherds biscuit. Sounded int...   \n",
       "4  David was awesome. We live in an older home we recently had re-landscaped. We chose Sprinkler Re...   \n",
       "\n",
       "   useful  funny  cool parsed_text  \n",
       "0      10      9     7        None  \n",
       "1       2      0     2        None  \n",
       "2       0      0     0        None  \n",
       "3       0      0     0        None  \n",
       "4       0      0     0        None  "
      ]
     },
     "execution_count": 25,
     "metadata": {},
     "output_type": "execute_result"
    }
   ],
   "source": [
    "nv_reviews = nv_reviews.reset_index(drop=True)\n",
    "nv_reviews.head()"
   ]
  },
  {
   "cell_type": "code",
   "execution_count": 26,
   "metadata": {},
   "outputs": [
    {
     "name": "stdout",
     "output_type": "stream",
     "text": [
      "Text from 5,000 restaurant reviews written to the new txt file.\n"
     ]
    }
   ],
   "source": [
    "review_txt_filepath = os.path.join('review_text_all.txt')\n",
    "\n",
    "review_count = 0\n",
    "\n",
    "# create & open a new file in write mode\n",
    "with codecs.open(review_txt_filepath, 'w', encoding='utf_8') as review_txt_file:\n",
    "    # if this review is not about a restaurant, skip to the next one\n",
    "    # write the restaurant review as a line in the new file\n",
    "    # escape newline characters in the original review text\n",
    "    for i in range(len(nv_reviews['text'])):\n",
    "        review_txt_file.write(nv_reviews['text'][i].replace('\\n', '\\\\n') + '\\n')\n",
    "        review_count += 1\n",
    "\n",
    "print(u'''Text from {:,} restaurant reviews written to the new txt file.'''.format(review_count))"
   ]
  },
  {
   "cell_type": "code",
   "execution_count": 27,
   "metadata": {},
   "outputs": [
    {
     "data": {
      "text/plain": [
       "0       Man, Biagio's just has the best donuts ever. Don't talk to me about Krispy Kreme (and those don'...\n",
       "1       I had never had chicken and waffles before coming to Lo-Lo's and now it is a staple for my Satur...\n",
       "2       Not all JM's are the same but if you're in the area and are looking for a food option that may n...\n",
       "3       Kinda underwhelming. Went for Saturday morning brunch and got the Shepherds biscuit. Sounded int...\n",
       "4       David was awesome. We live in an older home we recently had re-landscaped. We chose Sprinkler Re...\n",
       "5       This is probably my favorite fried chicken place in the valley. Way better than the other big na...\n",
       "6       The staff was great but not so sure I could say the second about the drink I ordered. Perhaps it...\n",
       "7       Very poor service.  Made an appointment for 10 am and brought car in for emissions test and oil ...\n",
       "8       just got two orders of baked mostacciolli.  One was obviously bad by the overwhelming smell when...\n",
       "9       Super fun store to shop at while in Vegas. The chocolate tasting is a neat thing to do while in ...\n",
       "10      I heard on Facebook that its one of the best taco place in Vegas, so I finally tried it. They ha...\n",
       "11      Decided to try them the other night since they are around the corner from the house.  Delicious ...\n",
       "12      So good and so bad at the same time.\\n\\nTHE GOOD:\\n\\nYou can reserve your exact seats in advance...\n",
       "13      I went in just to get my windows tinted but I left with some brand new 22' rims and tires on my ...\n",
       "14      Best maintenance shop I've ever dealt with. They are honest, work quickly, reliable and have ver...\n",
       "15      During my stay at Cosmo, I decided to try Holstein's Shakes & Buns. \\n\\nI decided on The Rising ...\n",
       "16      Awesome job!  I used Justin and Shantell's service for a couple of reasons. The first was becaus...\n",
       "17      I stopped here with my mother for a weekday breakfast. She usually likes the mom and pop greasy ...\n",
       "18      I haven't stayed at this hotel in over a decade, since going on a family trip when the hotel was...\n",
       "19      I am in the f&b business and let's start with the service. So bad. Server not even nice. Felt li...\n",
       "20      Food was great.  Service was friendly and fast.  Drinks were perfect.\\n\\nThe only reason I'm giv...\n",
       "21      Came out with 40 people, all bar industry people from Santa barbara for a bachelor party. The W ...\n",
       "22      i haven't been here in years, but it is the best ice cream i have ever had. even after all this ...\n",
       "23      Our favorite place on the strip.  Great food, great prices and great staff.  Especially Billy, R...\n",
       "24      I've driven by this place hundreds of times and always made a note to check it out sometime.  I ...\n",
       "25      Probably more than I needed to eat. The dog was very good. Fries even better. They have a lemon-...\n",
       "26      I havn't been to Vegas in 6 years or so. i wanted to stay on the strip during EDC. had sum frien...\n",
       "27      I've enjoyed every sandwich I've tried at Mister Brisket. As far as sandwich spots in Cleveland,...\n",
       "28      Used to be good , went there today and ordered 3 lamb souvlaki. \\nThey all came over cooked , we...\n",
       "29      Worst experience ever!\\n\\nWent there after doing some miniature golfing and got seated, and the ...\n",
       "                                                       ...                                                 \n",
       "4970    Love Wingstop.  Gotta order the wings and fries \"well done\" in my opinion.  The food is always c...\n",
       "4971    I experienced the same thing as the previous poster.  The lowest quoted rate was for their own \"...\n",
       "4972    I received the dermaplaning treatment and it was great! Not only was the treatment itself great,...\n",
       "4973    After brunch, we did a little shopping and were debating what to do afterwards when my cous had ...\n",
       "4974    We did the nighttime tour of old Scottsdale tonight and had an awesome time. It was our first ex...\n",
       "4975    Love this place! The first time I went to Caramel was this past trip to Vegas last week, and I d...\n",
       "4976    Wow..... where to start. 1st I am a sandwich junkie. The bread, meats and craftsmanship of these...\n",
       "4977    I found proactive health on the internet and checked out the reviews. Everyone raved about Scott...\n",
       "4978    Love this show! A must if you are in Vegas. You won't be disappointed. The people in the show ar...\n",
       "4979    I am a big Costco fan.  The business model and customer service is superb.  This Costco is extre...\n",
       "4980    We recently moved to Lakewood, and this park is one of the reasons why.  It's vast and beautiful...\n",
       "4981    Awesome little deli. I eat here all the time, and am never let down. Some of the best fresh ital...\n",
       "4982    11 or so years ago, damn I'm getting old, I bought my first handgun from Discount when it was on...\n",
       "4983    I came here to have two teeth removed one which was broken so badly it was almost nothing and a ...\n",
       "4984    Service was good. Selections were average, maybe more selection on seafood. Waiter was attentive...\n",
       "4985    Amazing carpet cleaning company!!!! I called HydroCare Services based on the amazing reviews and...\n",
       "4986    Tried to get a bid on a pool remodel.  Had an appointment set, then get text message 30 min prio...\n",
       "4987    We tried out Circus Circus because they had the cheapest deal for a busy weekend.  On top of tha...\n",
       "4988    I stayed here for the first time over the weekend since they were running one of the best deals ...\n",
       "4989    We happened to be passing by when we saw Hibachi Grill. Thinking it was teppan style, we decided...\n",
       "4990    I got a gel manicure done last week, the next day my top coat bubbled up and two days later star...\n",
       "4991    Dr. Miller and the team are always awesome. My 6 year old had 3 fillings today and she did not s...\n",
       "4992    Been going here for awhile and finally got to putting in a review. Most of what can be said prob...\n",
       "4993    I was a little skeptical of this place based on the fact that it only seats about 20 people.  Th...\n",
       "4994    Kiltlifter: Remains my favorite (and most hangover-inducing) beer.\\n\\nWaitstaff: Remains the mos...\n",
       "4995    My wife and I stopped by Earl's for lunch.  Once we ordered (and it took about 20 minutes to ord...\n",
       "4996    Awesome place to go. Visiting from LA Cali wife had some strange three part thing one was made w...\n",
       "4997    Real good burgers. Though they should step into the 21st century and realize that Tabasco isn't ...\n",
       "4998    Honestly it's like L&L but way over priced. The only thing they have that L&L doesn't is the pok...\n",
       "4999    Most reasonably priced, and delicious Italian food in Chandler. They serve pitchers of beer too!...\n",
       "Name: text, Length: 5000, dtype: object"
      ]
     },
     "execution_count": 27,
     "metadata": {},
     "output_type": "execute_result"
    }
   ],
   "source": [
    "nv_reviews['text']"
   ]
  },
  {
   "cell_type": "code",
   "execution_count": 28,
   "metadata": {},
   "outputs": [
    {
     "data": {
      "text/plain": [
       "'/Users/rajeshpothamsetty/Dropbox/Rajesh_DB/IMP_Dropbox'"
      ]
     },
     "execution_count": 28,
     "metadata": {},
     "output_type": "execute_result"
    }
   ],
   "source": [
    "os.getcwd()"
   ]
  },
  {
   "cell_type": "code",
   "execution_count": 29,
   "metadata": {},
   "outputs": [],
   "source": [
    "# filepaths# filepat \n",
    "unigram_sentences_filepath = os.path.join('unigram.txt')\n",
    "bigram_sentences_filepath = os.path.join('bigrams.txt')\n",
    "bigram_model_filepath = os.path.join('bigram_model_all')\n",
    "trigram_sentences_filepath = os.path.join('trigrams.txt')\n",
    "trigram_model_filepath = os.path.join('trigram_model_all')"
   ]
  },
  {
   "cell_type": "code",
   "execution_count": 30,
   "metadata": {},
   "outputs": [],
   "source": [
    "#unigrams\n",
    "with codecs.open(unigram_sentences_filepath, 'w', encoding='utf_8') as f:\n",
    "    for sentence in lemmatized_sentence_corpus(review_txt_filepath):\n",
    "        f.write(sentence + '\\n')\n",
    "\n",
    "unigram_sentences = LineSentence(unigram_sentences_filepath)\n",
    "\n"
   ]
  },
  {
   "cell_type": "code",
   "execution_count": 31,
   "metadata": {},
   "outputs": [
    {
     "name": "stdout",
     "output_type": "stream",
     "text": [
      "2\n",
      "3\n",
      "4\n"
     ]
    }
   ],
   "source": [
    "data1 = range(10)\n",
    "\n",
    "# This creates a NEW list\n",
    "data1[2:5]\n",
    "\n",
    "# This creates an iterator that iterates over the EXISTING list\n",
    "for x in it.islice(data1, 2, 5):\n",
    "    print(x)"
   ]
  },
  {
   "cell_type": "code",
   "execution_count": 32,
   "metadata": {},
   "outputs": [
    {
     "name": "stdout",
     "output_type": "stream",
     "text": [
      "CPU times: user 1.35 s, sys: 45.1 ms, total: 1.39 s\n",
      "Wall time: 1.41 s\n"
     ]
    }
   ],
   "source": [
    "%%time\n",
    "use_model = 'no'\n",
    "# this is a bit time consuming - make the if statement True# this is \n",
    "# if you want to execute modeling yourself.\n",
    "if use_model == 'no':\n",
    "    bigram_model = Phrases(unigram_sentences)\n",
    "    bigram_model.save(bigram_model_filepath)\n",
    "else:    \n",
    "    # load the finished model from disk\n",
    "    bigram_model = Phrases.load(bigram_model_filepath)"
   ]
  },
  {
   "cell_type": "code",
   "execution_count": 33,
   "metadata": {},
   "outputs": [
    {
     "name": "stderr",
     "output_type": "stream",
     "text": [
      "/anaconda3/lib/python3.6/site-packages/gensim/models/phrases.py:598: UserWarning: For a faster implementation, use the gensim.models.phrases.Phraser class\n",
      "  warnings.warn(\"For a faster implementation, use the gensim.models.phrases.Phraser class\")\n"
     ]
    },
    {
     "name": "stdout",
     "output_type": "stream",
     "text": [
      "CPU times: user 2.84 s, sys: 18.4 ms, total: 2.86 s\n",
      "Wall time: 2.87 s\n"
     ]
    }
   ],
   "source": [
    "%%time\n",
    "\n",
    "# this is a bit time consuming - make the if statement True\n",
    "# if you want to execute data prep yourself.\n",
    "if use_model == 'no':\n",
    "    with codecs.open(bigram_sentences_filepath, 'w', encoding='utf_8') as f:\n",
    "        for unigram_sentence in unigram_sentences:\n",
    "            bigram_sentence = u' '.join(bigram_model[unigram_sentence]) \n",
    "            f.write(bigram_sentence + '\\n')"
   ]
  },
  {
   "cell_type": "code",
   "execution_count": 34,
   "metadata": {},
   "outputs": [],
   "source": [
    "bigram_sentences  = LineSentence(bigram_sentences_filepath)"
   ]
  },
  {
   "cell_type": "code",
   "execution_count": 35,
   "metadata": {},
   "outputs": [
    {
     "name": "stdout",
     "output_type": "stream",
     "text": [
      "CPU times: user 1.3 s, sys: 40.1 ms, total: 1.34 s\n",
      "Wall time: 1.35 s\n"
     ]
    }
   ],
   "source": [
    "%%time\n",
    "\n",
    "use_model = 'no'\n",
    "# this is a bit time consuming - make the if statement True\n",
    "# if you want to execute modeling yourself.\n",
    "if use_model == 'no':\n",
    "    trigram_model = Phrases(bigram_sentences)\n",
    "    trigram_model.save(trigram_model_filepath)\n",
    "else:    \n",
    "    # load the finished model from disk\n",
    "    trigram_model = Phrases.load(trigram_model_filepath)"
   ]
  },
  {
   "cell_type": "code",
   "execution_count": 36,
   "metadata": {},
   "outputs": [
    {
     "name": "stderr",
     "output_type": "stream",
     "text": [
      "/anaconda3/lib/python3.6/site-packages/gensim/models/phrases.py:598: UserWarning: For a faster implementation, use the gensim.models.phrases.Phraser class\n",
      "  warnings.warn(\"For a faster implementation, use the gensim.models.phrases.Phraser class\")\n"
     ]
    },
    {
     "name": "stdout",
     "output_type": "stream",
     "text": [
      "CPU times: user 2.87 s, sys: 20.6 ms, total: 2.89 s\n",
      "Wall time: 2.9 s\n"
     ]
    }
   ],
   "source": [
    "%%time\n",
    "\n",
    "# this is a bit time consuming - make the if statement True\n",
    "# if you want to execute data prep yourself.\n",
    "if use_model == 'no':\n",
    "    with codecs.open(trigram_sentences_filepath, 'w', encoding='utf_8') as f:  \n",
    "        for bigram_sentence in bigram_sentences:        \n",
    "            trigram_sentence = u' '.join(trigram_model[bigram_sentence])       \n",
    "            f.write(trigram_sentence + '\\n')"
   ]
  },
  {
   "cell_type": "code",
   "execution_count": 37,
   "metadata": {},
   "outputs": [],
   "source": [
    "trigram_sentences = LineSentence(trigram_sentences_filepath)"
   ]
  },
  {
   "cell_type": "code",
   "execution_count": 38,
   "metadata": {},
   "outputs": [],
   "source": [
    "trigram_reviews_filepath  = os.path.join('trigram_transformed_reviews_all.txt')"
   ]
  },
  {
   "cell_type": "code",
   "execution_count": 39,
   "metadata": {},
   "outputs": [
    {
     "name": "stderr",
     "output_type": "stream",
     "text": [
      "/anaconda3/lib/python3.6/site-packages/gensim/models/phrases.py:598: UserWarning: For a faster implementation, use the gensim.models.phrases.Phraser class\n",
      "  warnings.warn(\"For a faster implementation, use the gensim.models.phrases.Phraser class\")\n"
     ]
    },
    {
     "name": "stdout",
     "output_type": "stream",
     "text": [
      "CPU times: user 2min 51s, sys: 41.3 s, total: 3min 32s\n",
      "Wall time: 2min 12s\n"
     ]
    }
   ],
   "source": [
    "%%time\n",
    "\n",
    "use_model_trigram = 'no'\n",
    "# this is a bit time consuming - make the if statement True\n",
    "# if you want to execute data prep yourself.\n",
    "if use_model_trigram == 'no':\n",
    "    with codecs.open(trigram_reviews_filepath, 'w', encoding='utf_8') as f:\n",
    "        for parsed_review in nlp.pipe(line_review(review_txt_filepath), batch_size=10000, n_threads=4):\n",
    "            \n",
    "            # lemmatize the text, removing punctuation and whitespace\n",
    "            unigram_review = [token.lemma_ for token in parsed_review if not punct_space(token)]\n",
    "            \n",
    "            # apply the first-order and second-order phrase models\n",
    "            bigram_review = bigram_model[unigram_review]\n",
    "            trigram_review = trigram_model[bigram_review]\n",
    "            \n",
    "            # remove any remaining stopwords\n",
    "            trigram_review = [term for term in trigram_review if term not in spacy.lang.en.STOP_WORDS]\n",
    "            \n",
    "            # write the transformed review as a line in the new file\n",
    "            trigram_review = u' '.join(trigram_review)\n",
    "            f.write(trigram_review + '\\n')"
   ]
  },
  {
   "cell_type": "code",
   "execution_count": 40,
   "metadata": {
    "scrolled": true
   },
   "outputs": [
    {
     "name": "stdout",
     "output_type": "stream",
     "text": [
      "Original:\n",
      "\n",
      "I heard on Facebook that its one of the best taco place in Vegas, so I finally tried it. They have friendly employees. \n",
      "I ordered 4 carne asada tacos to go with \"everything\" on it.  \"Everything\" on it... but it DOES NOT come with Guacamole. \n",
      "They make handmade tortilla... it was good! But the carne asada meat is bland and not juicy. \n",
      "The taco is pretty much tasteless and dry. I \"think\" (not 100% sure) its because they cooked a big batch whenever and just let it sit there, unlike other taco places. \n",
      "$2.50 per taco.... decent price for the size, but I can get with the same price, better seasoned, and freshly cooked carne asada meat with \"Guacamole\" at Pepe's or Tacos el Gordo and they cook the meat there when they get orders and not make big batch.\n",
      "\n",
      "<class 'str'>\n",
      "----\n",
      "\n",
      "Transformed:\n",
      "\n",
      "-PRON- hear facebook -PRON- good taco place in_vegas -PRON- finally try -PRON- -PRON- friendly employee -PRON- order 4 carne_asada taco -PRON- -PRON- -PRON- do_not come guacamole -PRON- handmade tortilla -PRON- good carne_asada meat bland juicy taco pretty_much tasteless dry -PRON- think 100 sure -PRON- -PRON- cook big batch let -PRON- sit unlike_other taco place $_2.50 taco decent price size -PRON- price better season freshly cook carne_asada meat guacamole pepe 's tacos el gordo -PRON- cook meat -PRON- order big batch\n",
      "\n",
      "<class 'str'>\n"
     ]
    }
   ],
   "source": [
    "print(u'Original:' + u'\\n')\n",
    "\n",
    "for review in it.islice(line_review(review_txt_filepath), 10, 11):\n",
    "    print(review)\n",
    "    print(type(review))\n",
    "\n",
    "print(u'----' + u'\\n')\n",
    "print(u'Transformed:' + u'\\n')\n",
    "\n",
    "with codecs.open(trigram_reviews_filepath, encoding='utf_8') as f:\n",
    "    for review in it.islice(f, 10, 11):\n",
    "        temp = review\n",
    "        print(review)\n",
    "        print(type(review))"
   ]
  },
  {
   "cell_type": "code",
   "execution_count": 41,
   "metadata": {},
   "outputs": [
    {
     "data": {
      "text/plain": [
       "\"-PRON- hear facebook -PRON- good taco place in_vegas -PRON- finally try -PRON- -PRON- friendly employee -PRON- order 4 carne_asada taco -PRON- -PRON- -PRON- do_not come guacamole -PRON- handmade tortilla -PRON- good carne_asada meat bland juicy taco pretty_much tasteless dry -PRON- think 100 sure -PRON- -PRON- cook big batch let -PRON- sit unlike_other taco place $_2.50 taco decent price size -PRON- price better season freshly cook carne_asada meat guacamole pepe 's tacos el gordo -PRON- cook meat -PRON- order big batch\\n\""
      ]
     },
     "execution_count": 41,
     "metadata": {},
     "output_type": "execute_result"
    }
   ],
   "source": [
    "temp"
   ]
  },
  {
   "cell_type": "code",
   "execution_count": 42,
   "metadata": {},
   "outputs": [],
   "source": [
    "import pandas as pd\n",
    "import re\n",
    "import string\n",
    "import nltk\n",
    "pd.set_option('display.max_colwidth', 100)\n",
    "\n",
    "stopwords = nltk.corpus.stopwords.words('english')\n",
    "ps = nltk.PorterStemmer()\n",
    "\n",
    "def clean_text(text):\n",
    "    text = \"\".join([word.lower() for word in text if word not in string.punctuation])\n",
    "    tokens = re.split('\\W+', text)\n",
    "    text = [ps.stem(word) for word in tokens if word not in stopwords]\n",
    "    return text"
   ]
  },
  {
   "cell_type": "code",
   "execution_count": 43,
   "metadata": {},
   "outputs": [
    {
     "data": {
      "text/plain": [
       "['pron',\n",
       " 'hear',\n",
       " 'facebook',\n",
       " 'pron',\n",
       " 'good',\n",
       " 'taco',\n",
       " 'place',\n",
       " 'invega',\n",
       " 'pron',\n",
       " 'final',\n",
       " 'tri',\n",
       " 'pron',\n",
       " 'pron',\n",
       " 'friendli',\n",
       " 'employe',\n",
       " 'pron',\n",
       " 'order',\n",
       " '4',\n",
       " 'carneasada',\n",
       " 'taco',\n",
       " 'pron',\n",
       " 'pron',\n",
       " 'pron',\n",
       " 'donot',\n",
       " 'come',\n",
       " 'guacamol',\n",
       " 'pron',\n",
       " 'handmad',\n",
       " 'tortilla',\n",
       " 'pron',\n",
       " 'good',\n",
       " 'carneasada',\n",
       " 'meat',\n",
       " 'bland',\n",
       " 'juici',\n",
       " 'taco',\n",
       " 'prettymuch',\n",
       " 'tasteless',\n",
       " 'dri',\n",
       " 'pron',\n",
       " 'think',\n",
       " '100',\n",
       " 'sure',\n",
       " 'pron',\n",
       " 'pron',\n",
       " 'cook',\n",
       " 'big',\n",
       " 'batch',\n",
       " 'let',\n",
       " 'pron',\n",
       " 'sit',\n",
       " 'unlikeoth',\n",
       " 'taco',\n",
       " 'place',\n",
       " '250',\n",
       " 'taco',\n",
       " 'decent',\n",
       " 'price',\n",
       " 'size',\n",
       " 'pron',\n",
       " 'price',\n",
       " 'better',\n",
       " 'season',\n",
       " 'freshli',\n",
       " 'cook',\n",
       " 'carneasada',\n",
       " 'meat',\n",
       " 'guacamol',\n",
       " 'pepe',\n",
       " 'taco',\n",
       " 'el',\n",
       " 'gordo',\n",
       " 'pron',\n",
       " 'cook',\n",
       " 'meat',\n",
       " 'pron',\n",
       " 'order',\n",
       " 'big',\n",
       " 'batch',\n",
       " '']"
      ]
     },
     "execution_count": 43,
     "metadata": {},
     "output_type": "execute_result"
    }
   ],
   "source": [
    "# from linkedin course\n",
    "# not a great combination with tri-gram\n",
    "# should try independently\n",
    "x_temp = temp.replace('_', \" \")\n",
    "clean_text(temp) \n",
    "# remove 'pron'\n",
    "# add spell Checker\n",
    "# "
   ]
  },
  {
   "cell_type": "code",
   "execution_count": 44,
   "metadata": {},
   "outputs": [
    {
     "data": {
      "text/plain": [
       "['pron',\n",
       " 'hear',\n",
       " 'facebook',\n",
       " 'pron',\n",
       " 'good',\n",
       " 'taco',\n",
       " 'place',\n",
       " 'vega',\n",
       " 'pron',\n",
       " 'final',\n",
       " 'tri',\n",
       " 'pron',\n",
       " 'pron',\n",
       " 'friendli',\n",
       " 'employe',\n",
       " 'pron',\n",
       " 'order',\n",
       " '4',\n",
       " 'carn',\n",
       " 'asada',\n",
       " 'taco',\n",
       " 'pron',\n",
       " 'pron',\n",
       " 'pron',\n",
       " 'come',\n",
       " 'guacamol',\n",
       " 'pron',\n",
       " 'handmad',\n",
       " 'tortilla',\n",
       " 'pron',\n",
       " 'good',\n",
       " 'carn',\n",
       " 'asada',\n",
       " 'meat',\n",
       " 'bland',\n",
       " 'juici',\n",
       " 'taco',\n",
       " 'pretti',\n",
       " 'much',\n",
       " 'tasteless',\n",
       " 'dri',\n",
       " 'pron',\n",
       " 'think',\n",
       " '100',\n",
       " 'sure',\n",
       " 'pron',\n",
       " 'pron',\n",
       " 'cook',\n",
       " 'big',\n",
       " 'batch',\n",
       " 'let',\n",
       " 'pron',\n",
       " 'sit',\n",
       " 'unlik',\n",
       " 'taco',\n",
       " 'place',\n",
       " '250',\n",
       " 'taco',\n",
       " 'decent',\n",
       " 'price',\n",
       " 'size',\n",
       " 'pron',\n",
       " 'price',\n",
       " 'better',\n",
       " 'season',\n",
       " 'freshli',\n",
       " 'cook',\n",
       " 'carn',\n",
       " 'asada',\n",
       " 'meat',\n",
       " 'guacamol',\n",
       " 'pepe',\n",
       " 'taco',\n",
       " 'el',\n",
       " 'gordo',\n",
       " 'pron',\n",
       " 'cook',\n",
       " 'meat',\n",
       " 'pron',\n",
       " 'order',\n",
       " 'big',\n",
       " 'batch',\n",
       " '']"
      ]
     },
     "execution_count": 44,
     "metadata": {},
     "output_type": "execute_result"
    }
   ],
   "source": [
    "clean_text(x_temp)"
   ]
  },
  {
   "cell_type": "code",
   "execution_count": 45,
   "metadata": {},
   "outputs": [],
   "source": [
    "acac = open('trigram_transformed_reviews_all.txt', \"r\")\n",
    "lines = list(acac)\n",
    "lines_ = pd.Series(lines)"
   ]
  },
  {
   "cell_type": "code",
   "execution_count": 46,
   "metadata": {},
   "outputs": [
    {
     "data": {
      "text/plain": [
       "0       man biagio 's good donut do_not talk -PRON- krispy kreme do_not sound good way donut suppose kri...\n",
       "1       -PRON- chicken waffle come lo lo 's -PRON- staple -PRON- saturday_morning hangover routine great...\n",
       "2       jm 's -PRON- area look food option drive_through -PRON- away_from deep fryer -PRON- find 80 -PRO...\n",
       "3       kinda underwhelm saturday_morning brunch shepherds biscuit sound interesting end_up flavorless d...\n",
       "4       david awesome -PRON- live an_old home -PRON- recently landscape -PRON- choose sprinkler repair b...\n",
       "5                    probably -PRON- favorite fry_chicken place valley way better_than big national chain\\n\n",
       "6       staff great sure -PRON- second drink -PRON- order -PRON- strong iced americano -PRON- order extr...\n",
       "7       poor_service make_an_appointment 10 bring car emission test oil_change check_out car an_hour -PR...\n",
       "8       order baked mostacciolli obviously bad overwhelming smell -PRON- open lid -PRON- offer send -PRO...\n",
       "9       super fun store shop in_vegas chocolate tasting neat thing as_well -PRON- eat restaurant super_c...\n",
       "10      -PRON- hear facebook -PRON- good taco place in_vegas -PRON- finally try -PRON- -PRON- friendly e...\n",
       "11      decide try -PRON- night -PRON- corner house delicious food quick service overall good experience...\n",
       "12      good bad time good -PRON- reserve -PRON- exact seat in_advance -PRON- love hate worry -PRON- goo...\n",
       "13      -PRON- -PRON- window tint -PRON- leave brand_new 22 rim tire -PRON- new 2017 dodge charger -PRON...\n",
       "14      good maintenance shop -PRON- deal_with -PRON- honest work quickly reliable very_reasonable_price...\n",
       "15      -PRON- stay_at cosmo -PRON- decide try holstein 's shakes buns -PRON- decide rise sun $_18 kobe ...\n",
       "16      awesome job -PRON- use justin shantell 's service couple_of reason -PRON- small family_own_busin...\n",
       "17      -PRON- stop -PRON- mother weekday breakfast -PRON- usually like mom pop greasy spoon -PRON- able...\n",
       "18      -PRON- stay_at hotel decade family trip hotel new -PRON- adult life -PRON- short experience -PRO...\n",
       "19      -PRON- f&b business let -PRON- start service bad server nice feel_like mad every_time -PRON- ord...\n",
       "20      food great service friendly fast drinks perfect only_reason -PRON- 4\\/5 even_though food good -P...\n",
       "21      come_out 40 people bar industry people santa barbara bachelor party w pool epic joe diggs legend...\n",
       "22      year -PRON- good ice_cream time taste -PRON- greatly miss -PRON- hope someday go_back homemade r...\n",
       "23      -PRON- favorite place strip great food great price great staff especially billy robert diego tha...\n",
       "24      -PRON- drive_by this_place time note check -PRON- -PRON- today impressed cool place very_friendl...\n",
       "25      probably more_than -PRON- need eat dog good fry even_better -PRON- lemon pepper aioli fry dynami...\n",
       "26      -PRON- havn't vegas 6 year want stay strip edc sum friend suite monte_carlo read review think -P...\n",
       "27      -PRON- enjoy sandwich -PRON- try mister brisket as_far_as sandwich spot cleveland -PRON- -PRON- ...\n",
       "28      use good today order 3 lamb souvlaki -PRON- come cook -PRON- return 2 1 come_back better come_ba...\n",
       "29      bad_experience miniature golfing seat waitress promptly -PRON- drink\\/shake order -PRON- come_ba...\n",
       "                                                       ...                                                 \n",
       "4978    love wingstop got order wing fry -PRON- opinion food consistant garlic parm lemon pepper new spi...\n",
       "4979    -PRON- experience same_thing previous poster low quote rate -PRON- ktx insurance agree orally ra...\n",
       "4980    -PRON- receive dermaplan treatment -PRON- great treatment -PRON- great ambience loft add -PRON- ...\n",
       "4981    brunch -PRON- little shopping debate -PRON- cous brilliant idea foot massage\\/reflexology\\/whate...\n",
       "4982    -PRON- nighttime tour old scottsdale tonight an_awesome time -PRON- -PRON- experience segway cam...\n",
       "4983    love_this_place first_time -PRON- caramel past trip vegas last_week -PRON- do_not_know_what -PRO...\n",
       "4984    wow start 1st -PRON- sandwich junkie bread meat craftsmanship sandwich undeniably epic simple cl...\n",
       "4985    -PRON- find proactive health internet check_out review rave_about scott good reason -PRON- today...\n",
       "4986    love -PRON- in_vegas -PRON- disappoint people athlete athletic strong amazing -PRON- stunt very_...\n",
       "4987    -PRON- big costco fan business model customer_service superb costco extremely busy -PRON- can_no...\n",
       "4988    -PRON- recently lakewood park reason_why -PRON- vast beautiful -PRON- walk path lake look binocu...\n",
       "4989    awesome little deli -PRON- eat_here time let_down good fresh italian bread -PRON- -PRON- use -PR...\n",
       "4990    11 year_ago damn -PRON- old -PRON- buy -PRON- handgun discount -PRON- boulder highway hendo -PRO...\n",
       "4991    -PRON- come_here tooth remove break badly -PRON- wisdom tooth way big dr. very_friendly speedy n...\n",
       "4992      service good selection average maybe selection seafood waiter attentive facility use renovation\\n\n",
       "4993    amazing carpet_clean company -PRON- hydrocare services base_on amazing review -PRON- wonderful -...\n",
       "4994    try bid pool remodel an_appointment set text_message 30_min prior asking -PRON- come later know_...\n",
       "4995    -PRON- try circus circus -PRON- cheap deal busy weekend on_top_of -PRON- -PRON- free buffet too_...\n",
       "4996    -PRON- stay_here first_time weekend -PRON- run good deal in_vegas normally rare -PRON- find few_...\n",
       "4997    -PRON- happen pass -PRON- hibachi grill think -PRON- teppan style -PRON- decide check -PRON- -PR...\n",
       "4998    -PRON- gel_manicure last_week next_day -PRON- coat bubble day_later start tear -PRON- bad manicu...\n",
       "4999    dr. miller team awesome -PRON- 6 year_old 3 filling today -PRON- do_not shed tear -PRON- 4 year_...\n",
       "5000    for_awhile finally review probably -PRON- add -PRON- grateful place like locally owner incredibl...\n",
       "5001    -PRON- little skeptical this_place base_on fact_that -PRON- seat 20 people review fantastic -PRO...\n",
       "5002    kiltlifter remain -PRON- favorite hangover inducing beer waitstaff remain attractive valley food...\n",
       "5003    -PRON- wife -PRON- stop_by earl 's lunch -PRON- order -PRON- about_20_minute order -PRON- wait 3...\n",
       "5004    awesome place visit la cali wife strange thing hops need tell -PRON- brother grow -PRON- uk home...\n",
       "5005                            real good burger -PRON- step 21st century realize tabasco hot_sauce brand\\n\n",
       "5006    honestly -PRON- like l&l way price only_thing -PRON- l&l do_not poke restaurant awkward maybe -P...\n",
       "5007    reasonably_price delicious italian_food chandler -PRON- serve pitcher beer bonus pepperoni muffi...\n",
       "Length: 5008, dtype: object"
      ]
     },
     "execution_count": 46,
     "metadata": {},
     "output_type": "execute_result"
    }
   ],
   "source": [
    "lines_"
   ]
  },
  {
   "cell_type": "code",
   "execution_count": 47,
   "metadata": {},
   "outputs": [
    {
     "name": "stdout",
     "output_type": "stream",
     "text": [
      "(5008, 16791)\n",
      "['', '0', '00', '01', '02', '0323', '032512', '04052013', '041111', '050', '05042012', '06', '075', '0900', '1', '10', '100', '1000', '10000', '100000', '1000th', '10067', '100am', '100degre', '100night', '100pm', '100yr', '101', '1010', '1015', '101710', '10211', '1022', '1025', '1027', '1030', '1030pm', '10365', '1045', '1045am', '1045pm', '105', '1050', '105f', '106', '107', '107000', '1079', '108a113', '108f', '1095', '109790', '1099', '10am', '10am11pm', '10am2pm', '10am4pm', '10class', '10extram', '10k', '10min', '10minut', '10off', '10piec', '10pm', '10pp', '10slice', '10star', '10th', '10x', '10year', '11', '110', '1100', '1100am', '1106', '1110pm', '1113', '1115pm', '112', '1120am', '1120pm', '1129', '1130', '113010', '1130am', '1130ish', '1130pm', '1133', '1135pm', '1142am', '1143pm', '1145', '115', '1150', '11511', '1162015', '11620151', '117b', '117th', '11894', '1195', '1199', '11a', '11am', '11great', '11month', '11pm', '11th', '12', '120', '1200', '1210', '1210pm', '1214', '1215', '1215pm', '1217', '1218', '12242015', '1230', '12316', '124mo', '125', '1250', '125hr', '1280', '1299', '12box', '12month', '12th', '12top', '12year', '13', '130', '1300', '130each', '130pm', '132017', '133', '135', '1350', '136', '1386', '1395', '1399', '14', '140', '1400', '1403', '141', '1437', '14399', '14400', '145', '1450', '145pm', '146', '1495', '1499', '14dozen', '14glass', '14th', '15', '150', '1500', '15000', '150300', '150the', '1520', '154mo', '155', '1550sqft', '1599', '15min', '15minut', '15th', '15x', '15year', '16', '160', '1600', '16000', '1624', '16271', '1640', '166mo', '1676', '169400', '1699', '16th', '17', '170', '1700', '17000', '175', '179', '179000', '1799', '18', '180', '1800', '1818', '1819', '1842', '185', '1850', '18c', '18h', '18ish', '18th', '19', '1900', '1900tranquil', '1906', '1928', '193', '1930', '1940', '1946', '1947', '1948', '195', '1950', '1970', '1979', '1980', '1987', '1988', '199', '1990', '1994', '1995', '1998', '1999', '1am', '1hour', '1hr', '1ish', '1l', '1night', '1pli', '1pm', '1s', '1st', '1star', '1sttime', '1take', '1topp', '1x2', '2', '20', '200', '2000', '20000', '2000000', '2002ish', '2004', '2007', '2008', '2009', '200am', '200pm', '200th', '201', '2010', '2011', '2012', '2013', '2014', '2014pdf', '2015', '2016', '2017', '2018', '2020', '2025', '2030', '20329', '204', '20400', '206', '209', '20buck', '20m', '20min', '20minut', '20odd', '20s40', '20someth', '20th', '20year', '21', '2100', '213', '215', '215pm', '219', '21st', '22', '2200', '220hr', '225', '22800', '22nd', '22percent', '23', '230', '2300', '230pm', '2316', '232', '235pm', '236', '239', '23someth', '24', '240', '240v', '247', '2475', '247and', '249', '2499', '24h', '24hour', '24hr', '24th', '25', '250', '2500', '25000', '25052010', '2508', '255', '25day', '25min', '25minut', '25th', '26', '27', '270', '2740', '275', '2777', '279', '27th', '27tip', '28', '280', '28000', '281365', '2899', '28th', '29', '2900', '291', '2945', '299', '2999', '29th', '2b', '2brush', '2hour', '2hr', '2min', '2mo', '2month', '2nd', '2ndtime', '2pac', '2pm', '2seater', '2star', '2x', '3', '30', '300', '3000', '30000', '30000they', '300113', '300lb', '300luxottica', '302', '3082', '3099', '30min', '30minut', '30night', '30person', '30s40', '30second', '30th', '31', '310', '31317', '315pm', '31st', '32', '3200', '325', '328', '32nd', '33', '330', '330pm', '339', '34', '345', '346', '349', '35', '350', '3500', '350pm', '355', '35i', '35minut', '35star', '35th', '36', '36250', '365', '366', '3660', '369', '3713', '375', '3759', '3781', '37th', '38', '386', '388', '39', '390', '39000', '395', '399', '3999', '39day', '3a', '3cours', '3d', '3day', '3ea', '3ingredi', '3month', '3pc', '3pm', '3pm6pm', '3rd', '3star', '3x', '3yo', '3yr', '4', '40', '400', '4000', '400pm', '405', '407', '408415', '40higher', '40ish', '40minut', '40someth', '40th', '41', '410', '415', '415ish', '41mio', '42', '4219', '427pm', '43', '430', '430am', '430pm', '43rd', '44', '440', '445pm', '4495', '45', '450', '45000', '450euro', '454pm', '455', '459', '45min', '45minut', '45night', '45star', '46', '47', '48', '48500', '495', '498', '499', '4999', '4clo', '4hour', '4k', '4pm', '4runner', '4seater', '4star', '4th', '4wk', '4x', '4year', '4yo', '5', '50', '500', '5000', '50000', '5008', '500pm', '5050', '50lb', '50plu', '50th', '510', '5112017', '5115', '515pm', '51916', '51and', '52', '520pm', '525', '530', '530am', '530pm', '539', '54', '540', '5400', '545', '549', '55', '550', '5500', '550pm', '553am', '5578', '56', '5600', '575', '5787', '57th', '58', '59', '595', '599', '59th', '5after', '5am', '5clip', '5er', '5min', '5minut', '5mo', '5month', '5p7p', '5pin', '5pm', '5star', '5th', '5vile', '5x', '5x7', '6', '60', '600', '6000', '600pm', '600tax', '602', '60minut', '60th', '61', '615', '615pm', '61616', '620', '62000', '62016', '62516', '627', '629', '630', '630am', '630am2pm', '630pm', '633', '64', '6410', '645', '648', '64onc', '65', '650', '65th', '66', '660', '67', '68', '686', '69', '690000', '693', '695', '699', '6each', '6ish', '6month', '6pack', '6peopl', '6pm', '6s', '6th', '6x', '6year', '7', '70', '700', '700pm', '70100', '702', '702722', '70nt', '710', '711', '714', '715pm', '718', '72', '7227', '725', '72for', '73', '730', '730am', '730pm', '74', '740', '742016', '745', '75', '750', '7500', '755', '76', '769', '77', '773', '775', '777', '78', '780800', '795', '799', '7999', '7day', '7min', '7mo', '7pm', '7th', '7up', '8', '80', '800', '80000', '8020', '808', '810', '811', '8133', '815', '82', '82408', '825', '8282017', '829', '83', '830', '830am', '830pm', '831', '832017', '835', '83rd', '841', '845', '845am', '845ish', '85', '850', '8500', '8585', '85p', '86', '86d', '87', '88', '887', '89', '8900', '89012', '89169', '895', '899', '8999', '8bowl', '8p', '8pm', '8th', '8x10', '9', '90', '900', '909', '90minut', '90th', '910', '911', '91815', '920pm', '92117', '925', '927', '93', '930', '930p', '930pm', '930pm1030pm', '94', '945pm', '95', '950', '950pm', '9510', '9615', '969', '980', '989', '99', '995', '999', '99999999', '99cent', '99of', '9month', '9pm', 'a1', 'a2d', 'aa5', 'aaa', 'aaaaaaaaaaaaaaaaaaaaaaagesss', 'aaction', 'aaron', 'ab', 'abandon', 'abel', 'abend', 'abendessen', 'aber', 'abfertigung', 'abgeholt', 'abgelegenen', 'abgetan', 'abil', 'abit', 'abl', 'ableto', 'abnorm', 'abolish', 'abomin', 'abonda', 'abort', 'abound', 'about10minut', 'about15', 'about15minut', 'about20minut', 'about5minut', 'abreast', 'abroad', 'abrupt', 'abruptli', 'abschluss', 'absehbar', 'abseit', 'absenc', 'absolu', 'absolut', 'absolutelyamaz', 'absolutelydelici', 'absolutelylov', 'absoluten', 'absolutley', 'absorb', 'absoult', 'abstain', 'abstrich', 'absunday', 'absurd', 'abuela', 'abund', 'aburi', 'abus', 'abwechslung', 'abysm', 'ac', 'academ', 'academia', 'acai', 'acceler', 'accent', 'accept', 'acces', 'access', 'accessori', 'accid', 'accident', 'acclaim', 'accolad', 'accomadat', 'accomadt', 'accommod', 'accomod', 'accomodat', 'accompagn', 'accompani', 'accomplish', 'accord', 'accordingli', 'accordion', 'accost', 'account', 'accumul', 'accupunctur', 'accur', 'accuraci', 'accus', 'accustom', 'acdc', 'ace', 'aceto', 'aceton', 'ach', 'achet', 'acheté', 'achiev', 'achiot', 'achja', 'acid', 'acknowledg', 'acn', 'acommodat', 'acoust', 'acquaint', 'acquir', 'acrid', 'acrobat', 'acrossfrom', 'acrosstown', 'acryl', 'act', 'action', 'activ', 'actlik', 'actor', 'acttogeth', 'actual', 'acupunctur', 'acura', 'acut', 'ad', 'adada', 'adam', 'adana', 'adapt', 'adar', 'adasada', 'adav', 'add', 'addam', 'addict', 'addin', 'addit', 'address', 'adela', 'adelant', 'adequ', 'adher', 'adjac', 'adjust', 'admin', 'administ', 'administr', 'admir', 'admiss', 'admit', 'admitt', 'admittedli', 'adn', 'adob', 'adobada', 'adobado', 'adobo', 'adolfo', 'adopt', 'ador', 'adorn', 'adovada', 'adovado', 'adrenalin', 'adressen', 'adult', 'adulter', 'advanc', 'advantag', 'advantageof', 'advatag', 'adventur', 'advertis', 'advic', 'advis', 'advisor', 'advisori', 'aerial', 'aeroplan', 'aesthet', 'af', 'afanof', 'afew', 'affair', 'affamé', 'affect', 'affection', 'affiché', 'affili', 'affiliat', 'affin', 'afflict', 'affogato', 'afford', 'afghan', 'aficionado', 'afloat', 'afoot', 'aforement', 'afraid', 'africa', 'african', 'afrikan', 'afrikanisch', 'aft', 'afternoon', 'afterread', 'aftershock', 'aftertast', 'aftertax', 'afterthought', 'afterward', 'afterwork', 'agav', 'age', 'agedashi', 'agenc', 'agent', 'aggrav', 'aggress', 'agin', 'agit', 'agn', 'agnalotti', 'agnolotti', 'ago', 'agoi', 'agon', 'agre', 'agreat', 'agreeabl', 'agreement', 'agrement', 'agréabl', 'agt', 'agua', 'ah', 'ahahaha', 'ahead', 'aheadof', 'ahem', 'ahh', 'ahhhhh', 'ahhhmaz', 'ahi', 'ahituna', 'ahold', 'ahunts', 'ahwatuke', 'ai', 'aid', 'aide', 'aiello', 'ail', 'aileen', 'aim', 'aimabl', 'aiment', 'aimer', 'ainsi', 'aioli', 'air', 'airbag', 'airborn', 'airbrush', 'aircondit', 'aircondition', 'airi', 'airlin', 'airman', 'airplan', 'airport', 'airway', 'aisl', 'aisément', 'aj', 'aji', 'ak47', 'aka', 'akin', 'akron', 'aktuel', 'akzeptabel', 'al', 'ala', 'alabama', 'aladdin', 'alamo', 'alarm', 'alarmingli', 'alaskan', 'albacor', 'albani', 'albeit', 'albert', 'alberta', 'alberto', 'albino', 'albondiga', 'album', 'albyn', 'alchol', 'alcohol', 'alcoholi', 'alcov', 'aldent', 'aldi', 'ale', 'alec', 'alejandra', 'alert', 'alessandra', 'alex', 'alexand', 'alexi', 'alfredo', 'alga', 'ali', 'alia', 'aliant', 'alic', 'alicia', 'align', 'alik', 'alittl', 'aliv', 'alixandra', 'all', 'alla', 'alladin', 'allait', 'alleg', 'allegedli', 'allegheni', 'allegi', 'allem', 'allemagn', 'allen', 'aller', 'allerd', 'allerg', 'allergi', 'alley', 'allez', 'alli', 'allig', 'alliter', 'alll', 'allllll', 'alloc', 'allongé', 'allot', 'allotta', 'allow', 'allé', 'alma', 'almond', 'alo', 'aloha', 'alondra', 'alongsid', 'alongwith', 'aloof', 'alor', 'alot', 'alotof', 'alpastor', 'alright', 'alsac', 'also', 'alt', 'alta', 'alter', 'altern', 'altima', 'altogeth', 'alu', 'aluminum', 'alvi', 'alway', 'alyssa', 'ama', 'amaaaz', 'amanda', 'amandin', 'amarillo', 'amateur', 'amaz', 'amazebal', 'amazinggg', 'amazingli', 'amazon', 'amazoncom', 'amazonworst', 'amazzzzziinnng', 'amber', 'amberjack', 'amberley', 'amberli', 'ambianc', 'ambienc', 'ambient', 'ambigu', 'ambival', 'amc', 'amel', 'amen', 'amenagerestaurantclon', 'amend', 'amené', 'america', 'american', 'americano', 'amerika', 'amex', 'amey', 'ami', 'amiabl', 'amic', 'amid', 'amidst', 'amiga', 'amigo', 'amin', 'aminiti', 'amish', 'ammo', 'amo', 'amor', 'amort', 'amountof', 'amphitheat', 'ampl', 'amplifi', 'amstaff', 'amt', 'amus', 'amusebouch', 'amériqu', 'ana', 'anabsolut', 'anaddit', 'anairport', 'analysi', 'analyz', 'anamaz', 'anappet', 'anappoint', 'anatolian', 'anawesom', 'anbieten', 'anbietenimm', 'ancestor', 'anchor', 'anchovi', 'ancienn', 'anddddd', 'ander', 'anderen', 'anderson', 'andi', 'andor', 'andouil', 'andrea', 'andrew', 'andré', 'anecdot', 'anenjoy', 'anesthesia', 'anev', 'anew', 'anexpert', 'anextra', 'anf', 'ang', 'angaben', 'angeblich', 'angebot', 'angedacht', 'angel', 'angela', 'angelina', 'angemacht', 'angemessen', 'angenehm', 'anger', 'angi', 'angl', 'angri', 'angu', 'anhour', 'anhourlat', 'anim', 'anis', 'anissu', 'anjohito', 'ankl', 'anklebit', 'ankorr', 'ann', 'anna', 'annex', 'anni', 'annihil', 'anniversari', 'anniversaryvalentin', 'announc', 'annoy', 'annual', 'annuel', 'anné', 'anoil', 'anoilchang', 'anold', 'anomali', 'anorex', 'anout', 'anselmo', 'ansonsten', 'ansprechpartn', 'ansprüch', 'anstehen', 'anstel', 'answer', 'answeral', 'ant', 'antenna', 'anthem', 'anthoni', 'anti', 'antibiot', 'anticip', 'anticipatori', 'anticucho', 'antinausea', 'antioxid', 'antipasta', 'antipasti', 'antipasto', 'antiqu', 'antiquesvintagethrift', 'antonieta', 'antworten', 'anu', 'anupscal', 'anxieti', 'anxiou', 'anybodi', 'anyflavor', 'anyhoo', 'anykind', 'anykindof', 'anymor', 'anyoneels', 'anyonewho', 'anyoth', 'anyquest', 'anythingels', 'anytim', 'anytimesoon', 'anytypeof', 'anyway', 'anywhereels', 'anywho', 'anzubieten', 'aog', 'aoili', 'aoki', 'aoli', 'ap', 'apach', 'apart', 'apartfrom', 'apathet', 'apatit', 'ape', 'aperitief', 'apex', 'apfelsaft', 'apfelstrudel', 'api', 'apit', 'apl', 'aplog', 'apolog', 'apologet', 'apologis', 'apologiz', 'app', 'appal', 'appar', 'apparantli', 'apparatu', 'apparel', 'apparit', 'appeal', 'appear', 'appet', 'appetit', 'appetitz', 'appetiz', 'appetizerdessert', 'appetizersentreesdessert', 'appl', 'applaud', 'applebe', 'applesauc', 'applesauceminu', 'applewood', 'appli', 'applianc', 'applic', 'appoint', 'apport', 'appreci', 'apprehens', 'approach', 'appropri', 'approv', 'approx', 'approxim', 'appréciabl', 'appt', 'apricot', 'april', 'aprin', 'aproch', 'aprè', 'apt', 'aptmnt', 'aquariu', 'aquarium', 'aqui', 'arab', 'aragosta', 'araguani', 'aramark', 'arancini', 'arbeiterkneip', 'arbi', 'arbitrarili', 'arborist', 'arcad', 'arcadia', 'archi', 'architect', 'architectur', 'arctic', 'arduou', 'area', 'areajacuzzi', 'areal', 'areat', 'arena', 'arepa', 'argentina', 'argentinian', 'argo', 'argu', 'arguabl', 'arguala', 'arguement', 'arguewith', 'argula', 'argument', 'aria', 'arigato', 'arik', 'aril', 'ariou', 'aris', 'arisu', 'arizona', 'ark', 'arlen', 'arlington', 'arm', 'armando', 'armchair', 'armi', 'arnold', 'aroma', 'aromat', 'aromatherapi', 'around11', 'aroundtown', 'arrabiata', 'arrang', 'arrangemt', 'array', 'arrest', 'arriv', 'arrivé', 'arrog', 'arrow', 'arrowhead', 'arrowood', 'arroz', 'ars', 'arsen', 'art', 'arthur', 'artic', 'artichok', 'articl', 'artifact', 'artifici', 'artikel', 'artisan', 'artist', 'artistri', 'artsbox', 'artsi', 'artwork', 'arugula', 'asada', 'asadero', 'asado', 'asahi', 'asana', 'asap', 'ascet', 'asfar', 'asfara', 'ash', 'asham', 'ashel', 'ashevil', 'ashle', 'ashleigh', 'ashley', 'ashtray', 'asia', 'asiago', 'asian', 'asiatisch', 'asid', 'asidefrom', 'asiento', 'ask', 'asleep', 'asoppos', 'asparagu', 'aspect', 'asphalt', 'aspir', 'asposs', 'ass', 'assault', 'assembl', 'assess', 'asset', 'assez', 'asshol', 'assiett', 'assign', 'assist', 'assistantspara', 'associ', 'assoon', 'assoona', 'assort', 'assorti', 'assortmentof', 'assum', 'assumpt', 'assur', 'asterisk', 'aston', 'astonish', 'astonishingli', 'astor', 'astound', 'astoundingli', 'astring', 'astronaut', 'astronom', 'astut', 'asu', 'aswel', 'aswella', 'asymmetr', 'atbelittl', 'ateas', 'atelophobia', 'atención', 'atfirstgl', 'athes', 'athlet', 'atl', 'atla', 'atlant', 'atlanta', 'atlanti', 'atleast', 'atleastonc', 'atm', 'atmosfehr', 'atmosher', 'atmosph', 'atmospher', 'atmosphere1', 'atom', 'atomspher', 'atop', 'atria', 'atrium', 'atroci', 'attach', 'attachant', 'attack', 'atteign', 'attempt', 'attend', 'attende', 'attent', 'attest', 'attic', 'attir', 'attirant', 'attitud', 'attn', 'attorney', 'attract', 'attraktiver', 'attribut', 'atv', 'atwat', 'au', 'auberg', 'aubergin', 'auch', 'auckland', 'auction', 'audac', 'audi', 'audibl', 'audienc', 'audio', 'audit', 'audrey', 'auf', 'aufbau', 'aufgefallen', 'aufgepeppt', 'aufjedenfal', 'aufmerksam', 'aug', 'augment', 'augolemono', 'augstu', 'august', 'augustu', 'aunt', 'aunti', 'aurora', 'ausblick', 'ausgefallen', 'ausgehärtet', 'ausgesprochen', 'ausgestattet', 'ausgesucht', 'ausgetrocknet', 'ausgiebig', 'auslag', 'ausnahm', 'ausprobieren', 'ausreichend', 'aussah', 'aussahen', 'aussehenden', 'aussen', 'ausser', 'aussi', 'aussichtsplattform', 'aussieht', 'austin', 'austoben', 'australia', 'australian', 'australischen', 'auswahl', 'autant', 'authent', 'authenticitalian', 'authenticjapanes', 'authenticmexican', 'authenticmexicanfood', 'author', 'authorthi', 'auto', 'autom', 'automat', 'automaticali', 'automot', 'auton', 'autorespons', 'autour', 'autozubehör', 'autr', 'autumn', 'aux', 'außen', 'außerhausverkauf', 'avacado', 'avai', 'avail', 'availbl', 'availi', 'avait', 'avali', 'avant', 'ave', 'avec', 'aveda', 'aventador', 'avenu', 'averag', 'averagebad', 'avid', 'avocado', 'avoid', 'avoidthisplac', 'avoir', 'avon', 'avondal', 'aw', 'awa', 'await', 'awak', 'awaken', 'awar', 'award', 'away', 'awayfrom', 'awe', 'aweom', 'awesom', 'awhil', 'awk', 'awkward', 'awkwardli', 'awl', 'awn', 'awsom', 'aww', 'awww', 'ax', 'ayc', 'aycesushi', 'az', 'azool', 'aztec', 'b', 'b3', 'ba', 'babbo', 'babe', 'babi', 'babylon', 'babymoon', 'babysitt', 'bac', 'baccha', 'bacchan', 'bachan', 'bachata', 'bachelor', 'bachelorett', 'bachelorettebachelor', 'bacheloretteparti', 'bachi', 'bachleor', 'baci', 'backdoor', 'background', 'backlol', 'backpack', 'backstag', 'backup', 'backward', 'backwaren', 'backyard', 'bacon', 'baconwrap', 'bacteria', 'bad', 'badass', 'badcustomerservic', 'badexperi', 'badli', 'badminton', 'badplu', 'badtast', 'baechl', 'baffl', 'bag', 'bagar', 'bagel', 'baggag', 'bagger', 'baggi', 'bagl', 'baguett', 'bah', 'bahn', 'bahnhofvorhal', 'bahnmi', 'baigan', 'bailey', 'bait', 'baja', 'bake', 'bakedgood', 'bakedpotato', 'baker', 'bakeri', 'bakeshop', 'baklava', 'baklawa', 'bakn', 'balanc', 'balayag', 'balconi', 'bald', 'bali', 'ball', 'ballad', 'ballantyn', 'ballast', 'ballet', 'balli', 'balloon', 'ballpark', 'ballroom', 'balmi', 'baloon', 'balsam', 'balsamico', 'bam', 'bamboo', 'bamburgh', 'ban', 'banana', 'banchan', 'band', 'bandaid', 'bandart', 'bandit', 'banditen', 'bandito', 'bang', 'bangbang', 'banger', 'bangin', 'bangz', 'banh', 'banish', 'banjo', 'bank', 'bankaccount', 'banksvil', 'bannana', 'banner', 'banoffe', 'banquet', 'banter', 'bao', 'bap', 'bar', 'bar7', 'bararea', 'barato', 'barb', 'barbacoa', 'barbar', 'barbara', 'barbari', 'barbecu', 'barbequ', 'barber', 'barbershop', 'barbi', 'barcelona', 'barclub', 'barcount', 'bare', 'barefac', 'barelyani', 'barfri', 'barg', 'bargain', 'bargril', 'bariatr', 'barista', 'bark', 'barkeep', 'barlow', 'barmaid', 'barn', 'barosta', 'barr', 'barrel', 'barrestaur', 'barri', 'barrier', 'barrio', 'barro', 'barsmith', 'barstool', 'bartend', 'bartendar', 'bartenderserv', 'bartendersmixologist', 'bartenderwait', 'bartendress', 'base', 'basebal', 'baseboard', 'baselin', 'basement', 'baseon', 'bash', 'basi', 'basic', 'basil', 'basket', 'basketbal', 'baskin', 'basmati', 'bass', 'bastard', 'bastardizereinterpret', 'bastion', 'bat', 'batali', 'batch', 'batchbrew', 'batchtoronto', 'bath', 'bathrichfieldpeninsulahinckley', 'bathroom', 'bathroomshowersink', 'bathtub', 'batida', 'batista', 'batman', 'baton', 'batter', 'batteri', 'battl', 'battleground', 'battleship', 'bavett', 'baxter', 'bay', 'baydunda', 'baysid', 'bayview', 'bazaar', 'bazz', 'bazzillion', 'bb', 'bbb', 'bbh', 'bbmf', 'bbq', 'bbqsauc', 'bbt', 'bc', 'bcb', 'bday', 'bdb', 'beach', 'beachland', 'beachwood', 'beacon', 'beam', 'bean', 'beansprout', 'beanz', 'bear', 'bearabl', 'bearbrick', 'beard', 'bearnais', 'beast', 'beat', 'beaten', 'beater', 'beatl', 'beaucoup', 'beauregard', 'beauti', 'beaver', 'bebida', 'bec', 'becasu', 'becaua', 'becausr', 'becca', 'bechamel', 'becher', 'becker', 'beckett', 'becki', 'beckon', 'becoz', 'bed', 'bedbug', 'bedda', 'bedient', 'bedienung', 'bedienungen', 'bedingt', 'bedinung', 'bedpan', 'bedroom', 'bedroom2', 'bedsid', 'bee', 'beed', 'beeeotch', 'beef', 'beefal', 'beefbal', 'beefbrisket', 'beefgasm', 'beefjerki', 'beelin', 'beep', 'beer', 'beerontap', 'beerselect', 'beet', 'befindet', 'beg', 'begehrt', 'begeistert', 'begin', 'beginn', 'begleit', 'begrudg', 'begrudgingli', 'begrüsst', 'begrüßt', 'behalf', 'behandlung', 'behav', 'behavior', 'behold', 'behr', 'bei', 'beid', 'beignet', 'beij', 'beim', 'beitrag', 'bekomm', 'bekomman', 'bekommt', 'bel', 'belat', 'belgian', 'belgium', 'belief', 'believ', 'belittl', 'belizean', 'belk', 'bell', 'bella', 'bellagio', 'bellhop', 'belli', 'belliger', 'bellman', 'bellpepp', 'bellwood', 'belong', 'belov', 'belt', 'beltshos', 'ben', 'bench', 'benchmark', 'bend', 'bender', 'bendi', 'bene', 'benedict', 'benefactor', 'benefici', 'benefit', 'beneidet', 'benihana', 'benjmoor', 'benkovitz', 'benni', 'bent', 'bento', 'bentobox', 'benz', 'benzig', 'beratung', 'berechnet', 'bereft', 'bereich', 'bereit', 'berg', 'bergern', 'berichten', 'berkeley', 'berkowitz', 'berkshir', 'bernais', 'bernard', 'berni', 'berri', 'bertolli', 'beryl', 'besart', 'beschamel', 'beschließen', 'besok', 'besond', 'besonder', 'bespok', 'besser', 'besseren', 'best', 'bestehend', 'bestellt', 'besten', 'besti', 'bestimmt', 'bestsel', 'besttttt', 'besuch', 'besuchen', 'bet', 'beta', 'beth', 'better', 'betterthan', 'betwixt', 'beurr', 'beverag', 'beverli', 'bevorzug', 'bevorzugt', 'bevorzugten', 'bewar', 'bewaredont', 'bezahl', 'bezahlen', 'bf', 'bfeastlak', 'bff', 'bhaji', 'bi', 'bia', 'biagio', 'bianco', 'bias', 'bibb', 'bibim', 'bibimbap', 'bibimbop', 'bicker', 'bicycl', 'bid', 'bidd', 'bien', 'bientôt', 'bienveil', 'bier', 'biergarten', 'biertrinken', 'big', 'bigdeal', 'bigelow', 'bigelvi', 'bigelvisshow', 'bigfan', 'bigfanof', 'biggi', 'biggroup', 'bigport', 'bike', 'bikefest', 'biker', 'bikini', 'bikram', 'bildet', 'bildungsroman', 'bill', 'billabl', 'billboard', 'billet', 'billi', 'billion', 'billow', 'billsgambl', 'biltmor', 'bim', 'bimbo', 'bin', 'bind', 'binder', 'bing', 'binocular', 'bio', 'biodegrad', 'bird', 'birdsong', 'biriyani', 'birkdal', 'birth', 'birthday', 'birthdayparti', 'birthplac', 'biryani', 'biscuit', 'bisket', 'bismol', 'bison', 'bisqu', 'bisschen', 'bistec', 'bistro', 'bit', 'bitch', 'bitchen', 'bitchi', 'bite', 'bitpricey', 'bitter', 'bitti', 'bizarr', 'bizneez', 'bièr', 'bj', 'bk', 'bl', 'bla', 'blach', 'black', 'blackbean', 'blackberri', 'blacken', 'blackish', 'blackjack', 'blacktea', 'blackwhit', 'blade', 'blah', 'blake', 'blame', 'blanc', 'blanch', 'bland', 'blank', 'blanket', 'blanki', 'blankli', 'blare', 'blart', 'blast', 'blaster', 'blatant', 'blatantli', 'ble', 'bleach', 'bleed', 'bleeker', 'bleh', 'blemish', 'blend', 'blendedmix', 'bless', 'bleu', 'bleuchees', 'bleue', 'blew', 'blimp', 'blimpi', 'blind', 'bling', 'blink', 'bliss', 'blister', 'blisteringli', 'blizzard', 'bloat', 'blob', 'block', 'blog', 'blond', 'blood', 'blood0', 'bloodi', 'bloodlin', 'bloodsuck', 'bloodymari', 'bloom', 'bloomfield', 'bloor', 'blossom', 'blotchi', 'blotnick', 'blous', 'blow', 'blowaway', 'blowdri', 'blowingli', 'blown', 'blowout', 'blt', 'blu', 'blue', 'blueberri', 'bluechees', 'bluefest', 'bluegreen', 'bluejay', 'bluejaysi', 'bluephi', 'bluetooth', 'bluff', 'blunt', 'blurri', 'blvd', 'blé', 'bm', 'bnb', 'bo', 'boa', 'boar', 'board', 'boardgam', 'boast', 'boat', 'boatload', 'bob', 'boba', 'bobajelli', 'bobbett', 'bobbi', 'bobwa', 'boca', 'bock', 'bodega', 'bodi', 'bodyfac', 'bog', 'boggl', 'bogo', 'bogu', 'boil', 'boister', 'boit', 'bok', 'bokchoy', 'bold', 'boldt', 'bollywood', 'bolognais', 'bolognes', 'bolt', 'bomb', 'bombcom', 'bomber', 'bombero', 'bomboloni', 'bomboloniitalian', 'bombshel', 'bon', 'bona', 'bond', 'bonda', 'bone', 'boneless', 'bong', 'bonita', 'bonito', 'bonker', 'bonn', 'bonni', 'bono', 'bonu', 'bonusbuck', 'boo', 'boob', 'boogan', 'booger', 'book', 'bookah', 'bookanappoint', 'booklet', 'bookmark', 'bookstor', 'boomb', 'boomenden', 'booooo', 'boooss', 'boost', 'booster', 'boot', 'bootcamp', 'booth', 'booti', 'booz', 'boozi', 'bop', 'border', 'borderlin', 'bore', 'bori', 'boroh', 'borrow', 'borsch', 'bosa', 'bosch', 'boss', 'boston', 'botan', 'botch', 'botero', 'bother', 'bothersom', 'botox', 'bottl', 'bottledcann', 'bottledwat', 'bottleneck', 'bottlesjar', 'bottomless', 'bottomlin', 'boucher', 'bouchervil', 'bouchon', 'bouff', 'bought', 'bougi', 'bouillabaiss', 'boulageri', 'boulangeri', 'boulder', 'boulet', 'boulevard', 'bounc', 'bouncer', 'boundari', 'bounti', 'bouquet', 'bourbon', 'bourg', 'bourgeoisi', 'bout', 'boutiqu', 'bow', 'bowi', 'bowl', 'bowler', 'box', 'boxer', 'boxti', 'boy', 'boyd', 'boyfriend', 'boygirl', 'boyhood', 'boylan', 'boyz', 'bozarth', 'boît', 'br', 'brace', 'bracelet', 'bracht', 'braciol', 'brad', 'braddah', 'bradi', 'brag', 'bragg', 'braid', 'brain', 'brainer', 'brais', 'brake', 'brakeman', 'brampton', 'branch', 'brand', 'brandi', 'brandish', 'brandnew', 'brandon', 'branzino', 'brasseri', 'brat', 'bratwurst', 'bratwvrst', 'braucht', 'brava', 'brave', 'bravissimo', 'bravo', 'brawl', 'brazen', 'brazil', 'brazilian', 'bread', 'breadbasket', 'breadcrumb', 'breadpud', 'breadstick', 'break', 'breakag', 'breakdown', 'breaker', 'breakfast', 'breakfastbrunch', 'breakfastburrito', 'breakfastlunch', 'breakfastsandwich', 'breakout', 'breast', 'breastfe', 'breath', 'breather', 'breathless', 'breathtak', 'brebi', 'brecksvil', 'bree', 'breed', 'breeder', 'breez', 'breezi', 'bref', 'breitl', 'brenda', 'brennan', 'brenner', 'brent', 'brentwood', 'bret', 'brett', 'brew', 'brewer', 'breweri', 'brewmosa', 'brewpub', 'breyer', 'brezel', 'brezeln', 'brian', 'brick', 'brickhous', 'bridal', 'bride', 'bridesmaid', 'bridg', 'bridget', 'bridgevil', 'brie', 'brief', 'briefcas', 'briefli', 'bright', 'brighten', 'brightli', 'brighton', 'brilliant', 'brim', 'bring', 'bringbatchhom', 'brini', 'brink', 'brio', 'brioch', 'brisk', 'brisket', 'brit', 'britannia', 'british', 'britney', 'brittani', 'brittl', 'brittney', 'britton', 'bro', 'broad', 'broadcast', 'broaden', 'broadli', 'broadston', 'broadview', 'broadway', 'broccoli', 'broccolini', 'brock', 'broke', 'broken', 'broker', 'brokerag', 'bronchiti', 'bronzini', 'brook', 'brooklyn', 'brot', 'broth', 'brother', 'brotwurst', 'brow', 'brown', 'browni', 'brows', 'bruell', 'bruis', 'brule', 'brulé', 'brunch', 'brunchless', 'brunchlunch', 'bruneaux', 'brunello', 'brunett', 'bruno', 'brunt', 'bruntsfield', 'bruschetta', 'brush', 'brussel', 'brutal', 'brutta', 'brutw', 'bruxi', 'bruyant', 'bryan', 'bryce', 'brûlée', 'brülee', 'bs', 'bsbc', 'bstard', 'btch', 'btw', 'bu', 'bub', 'bubba', 'bubbl', 'bubbletea', 'bubl', 'buc', 'bucco', 'buch', 'buck', 'bucket', 'bucketlist', 'buckwheat', 'buco', 'bud', 'buddha', 'buddi', 'budg', 'budget', 'budino', 'bueno', 'bufalo', 'buff', 'buffalo', 'buffalowildw', 'buffer', 'buffet', 'buffetschines', 'buffett', 'buffwax', 'bug', 'buger', 'bugolgi', 'bugsi', 'buh', 'buick', 'buickgmc', 'build', 'builder', 'buildingdunda', 'buildremodel', 'buk', 'bulaklak', 'bulalo', 'bulb', 'bulg', 'bulgogi', 'bulgoki', 'bulk', 'bulki', 'bull', 'bulldawg', 'bulldog', 'bulldoz', 'bullet', 'bulletproof', 'bullht', 'bulli', 'bullshit', 'bullshitther', 'bullsht', 'bullt', 'bum', 'bumbl', 'bummer', 'bump', 'bumper', 'bumpi', 'bun', 'bunch', 'bunchof', 'bundi', 'bundt', 'bungalow', 'bunni', 'bunyanesqu', 'bunz', 'buono', 'buratta', 'burb', 'burberri', 'burchel', 'burden', 'bureau', 'burg', 'burgatori', 'burgeon', 'burger', 'burgerburg', 'burgerhotdog', 'burgerjoint', 'burgerk', 'burgh', 'burgr', 'burgundi', 'burgunion', 'buri', 'burli', 'burn', 'burner', 'burnt', 'burrata', 'burritio', 'burrito', 'burro', 'burst', 'burton', 'busboy', 'busch', 'bush', 'busi', 'businesscard', 'buss', 'busser', 'bust', 'bustl', 'busydur', 'busynight', 'buta', 'butabara', 'butch', 'butcher', 'buthey', 'butler', 'butt', 'butter', 'buttercream', 'butterd', 'butterfish', 'butterfli', 'butteri', 'buttermilk', 'butternut', 'butteror', 'butterscotch', 'butti', 'button', 'buuuut', 'buy', 'buyer', 'buzz', 'buzzatto', 'buzzfe', 'bvlgari', 'bwl', 'bye', 'byfar', 'bygon', 'bymark', 'byo', 'byob', 'bypass', 'bzw', 'bánh', 'bäcker', 'bäckerei', 'bäumen', 'bécoss', 'bélanger', 'bü', 'bürgerlich', 'bürobedarf', 'c', 'ca', 'cab', 'cabana', 'cabazon', 'cabbag', 'cabbi', 'cabernet', 'cabeza', 'cabin', 'cabinet', 'cabinetri', 'cabint', 'cabl', 'cable1', 'cablecard', 'cableinternetphon', 'cabo', 'cabonara', 'cabra', 'cacciator', 'cacio', 'cacophoni', 'cacti', 'cactu', 'cadeau', 'cadi', 'caesar', 'caesarsalad', 'cafe', 'cafei', 'cafeteria', 'caff', 'caffein', 'caffeinat', 'café', 'cage', 'cagescrowd', 'cailin', 'caipi', 'caiprinha', 'caiss', 'cajeta', 'cajun', 'cake', 'cakelerd', 'cakeri', 'cakey', 'cal', 'calabres', 'calabrian', 'calamari', 'calarmari', 'calcium', 'calcul', 'caledonian', 'calendar', 'calf', 'calgari', 'cali', 'calib', 'calibr', 'california', 'californiarol', 'calip', 'callahead', 'callaway', 'callu', 'calm', 'calmli', 'calori', 'calvin', 'calwer', 'calwerstrass', 'calzon', 'cam', 'camara', 'camaron', 'cambodian', 'came', 'camelback', 'camera', 'cameron', 'camil', 'camp', 'campaign', 'camper', 'campi', 'campu', 'camri', 'can', 'canada', 'canadian', 'canal', 'canard', 'canb', 'cancel', 'cancer', 'cancun', 'candi', 'candic', 'candid', 'candl', 'candlelight', 'cane', 'caneasili', 'caniac', 'cannelloni', 'cannoli', 'cannot', 'cano', 'cant', 'cantaloup', 'canter', 'cantones', 'cantor', 'canu', 'canva', 'canvass', 'canyon', 'cap', 'capabl', 'capac', 'capacitor', 'capas', 'cape', 'capelli', 'capellini', 'caper', 'capirinha', 'capit', 'capitol', 'capn', 'capo', 'cappuccino', 'capres', 'capri', 'capsul', 'captain', 'captiv', 'captur', 'capuccino', 'car', 'cara', 'caraba', 'caraf', 'caramel', 'caramelis', 'carb', 'carbohydr', 'carbon', 'carbonara', 'carbtast', 'carcass', 'card', 'cardamom', 'cardboard', 'cardiac', 'cardigan', 'cardio', 'cardnial', 'care', 'careabout', 'careen', 'career', 'carefre', 'careless', 'carelessli', 'caretak', 'careu', 'carib', 'caribbean', 'carl', 'carleton', 'carli', 'carlo', 'carlton', 'carmaliz', 'carman', 'carmel', 'carmen', 'carmin', 'carn', 'carneasada', 'carnegi', 'carnevino', 'carnita', 'carnitataco', 'carnivor', 'carol', 'carolin', 'carolina', 'carolyn', 'carousel', 'carpaccio', 'carpet', 'carpetclean', 'carpool', 'carrabba', 'carri', 'carrier', 'carrot', 'carrotcak', 'carryout', 'carson', 'carsthink', 'carsvan', 'cart', 'carta', 'cartel', 'cartet', 'cartoonishli', 'carv', 'carver', 'carveri', 'carwash', 'casa', 'casanova', 'case', 'casework', 'cash', 'cashew', 'cashier', 'cashonli', 'casi', 'casino', 'casinofloor', 'casinosmachin', 'casita', 'casquett', 'cassandra', 'cassava', 'casserol', 'cast', 'caster', 'castillo', 'castl', 'casual', 'casualti', 'cat', 'catalyt', 'cataract', 'catch', 'catcher', 'catchi', 'catchup', 'categori', 'cater', 'caterpillar', 'catfish', 'catherin', 'cathi', 'cathol', 'caucasian', 'cauldron', 'cauliflow', 'caulk', 'caus', 'causewaysid', 'caution', 'cautionari', 'cautiou', 'cav', 'cave', 'caveat', 'caveman', 'cavern', 'caviar', 'cb', 'cb500f', 'cc', 'ccf', 'ccsd', 'ccw', 'cd', 'ce', 'ceala', 'ceas', 'ceasar', 'ceaser', 'ceil', 'celbrat', 'celeb', 'celebr', 'celebratori', 'celeri', 'celiac', 'celin', 'cell', 'cellar', 'cellent', 'cellohn', 'cellphon', 'celui', 'cement', 'cemeteri', 'cent', 'centenni', 'center', 'centerfield', 'centerpiec', 'centr', 'central', 'centric', 'centro', 'centrylink', 'centuri', 'cepend', 'ceram', 'cerdo', 'cereal', 'ceremoni', 'cerf', 'cero', 'cerreta', 'cert', 'certain', 'certainli', 'certif', 'certifi', 'cervich', 'cesaer', 'cesar', 'cest', 'cet', 'cetera', 'cett', 'ceux', 'cevich', 'cfeet', 'ch', 'cha', 'chach', 'chad', 'chae', 'chagrin', 'chai', 'chain', 'chainfranchis', 'chaini', 'chainrestaur', 'chair', 'chairman', 'chais', 'chalet', 'chalk', 'chalki', 'challeng', 'chalupa', 'chamango', 'chamber', 'chameleon', 'chamoy', 'champ', 'champagn', 'champaign', 'champignon', 'champion', 'championship', 'champon', 'champong', 'chan', 'chana', 'chanc', 'chandeli', 'chandler', 'chang', 'changa', 'changeabl', 'changedfix', 'changer', 'changes3440', 'chanitz', 'channal', 'channel', 'chanterel', 'chao', 'chaotic', 'chap', 'chapel', 'chapin', 'chapman', 'chapo', 'chapter', 'chaqu', 'char', 'charact', 'characterist', 'charasmat', 'charbroil', 'charcoal', 'charcuteri', 'chardon', 'chardonnay', 'charg', 'chargebr', 'charger', 'chargril', 'charisma', 'chariti', 'charl', 'charleroi', 'charleston', 'charley', 'charli', 'charlott', 'charlotteb', 'charm', 'chart', 'chartreus', 'chase', 'chashu', 'chat', 'chateau', 'chatim', 'chatti', 'chatwith', 'chaud', 'chavez', 'chavira', 'chawanmushi', 'chayot', 'chaîn', 'cheap', 'cheapect', 'cheapest', 'cheapish', 'cheapli', 'cheapo', 'cheapotl', 'cheapskat', 'cheapthan', 'cheat', 'cheater', 'check', 'checker', 'checkin', 'checkout', 'checkpoint', 'checkup', 'chedda', 'cheddar', 'cheddarchees', 'cheddargreen', 'chedder', 'cheee', 'cheek', 'cheekili', 'cheep', 'cheer', 'cheeri', 'cheerless', 'chees', 'cheescak', 'cheeseburg', 'cheesecak', 'cheesecakefactori', 'cheesecurd', 'cheesed', 'cheesel', 'cheesemeat', 'cheesemeatfruit', 'cheeseno', 'cheesesteak', 'cheesi', 'cheez', 'chef', 'chefcook', 'chefsstefano', 'chegnini', 'chek', 'chella', 'chelsea', 'chemex', 'chemic', 'chemo', 'chen', 'chenin', 'cher', 'cheri', 'cherri', 'cherryblossom', 'cherub', 'cheryl', 'chess', 'chessa', 'chest', 'cheuvront', 'chevi', 'chevrolet', 'chevron', 'chew', 'chewey', 'chewi', 'chez', 'chha', 'chi', 'chianti', 'chic', 'chicago', 'chicharon', 'chichi', 'chick', 'chicka', 'chicken', 'chickenbeef', 'chickenbreast', 'chickenenchilada', 'chickenfish', 'chickenless', 'chickenparmesan', 'chickensandwich', 'chickenw', 'chickless', 'chico', 'chide', 'chief', 'chiffonad', 'chikichanga', 'chikuwa', 'chilaquil', 'child', 'childcar', 'childhood', 'children', 'chile', 'chilean', 'chilerelleno', 'chili', 'chill', 'chillaxin', 'chiller', 'chilli', 'chillin', 'chillspot', 'chimac', 'chime', 'chimi', 'chimichanga', 'chimichurri', 'chimpi', 'chin', 'china', 'chinaman', 'chinastar', 'chinato', 'chinatown', 'chines', 'chinesefood', 'chineserestaur', 'chinoi', 'chip', 'chipcooki', 'chipkarten', 'chipotl', 'chipper', 'chipsdip', 'chirashi', 'chiro', 'chiropract', 'chiropractor', 'chit', 'chitown', 'chittlin', 'chiu', 'chive', 'chiwa', 'chlorin', 'cho', 'choc', 'chocal', 'choco', 'chocohol', 'chocol', 'chocolat', 'chocolatecak', 'chocolatechip', 'chocolatechipcooki', 'chocolatey', 'chocolati', 'choic', 'choir', 'choisi', 'choix', 'choke', 'cholesterol', 'chompi', 'choo', 'choos', 'choosefrom', 'choosi', 'chop', 'chopstick', 'choreographi', 'chorizo', 'choru', 'chose', 'chosenforgot', 'chou', 'chow', 'chowd', 'chowder', 'chowhownd', 'choy', 'chremig', 'chri', 'christi', 'christian', 'christin', 'christina', 'christma', 'christmastim', 'chronic', 'chronicl', 'chrysler', 'chubbi', 'chuchuluco', 'chuck', 'chuckl', 'chucuturi', 'chug', 'chugga', 'chunk', 'chunki', 'chunkof', 'church', 'churn', 'churro', 'chutney', 'ci', 'cia', 'ciabatta', 'ciao', 'cibo', 'cici', 'cider', 'cigar', 'cigaret', 'cigarett', 'cilantro', 'cili', 'cimichurri', 'cinch', 'cinderella', 'cindi', 'cinelli', 'cinema', 'cinemark', 'cinestarz', 'cinnabon', 'cinnamon', 'cinquantain', 'cinéma', 'cioppino', 'circa', 'circl', 'circu', 'circul', 'circular', 'circumst', 'cirqu', 'cispi', 'citer', 'citi', 'citian', 'citizen', 'citroen', 'citronnel', 'citru', 'citycent', 'cityscap', 'cityview', 'civic', 'civil', 'ck', 'cla250', 'claiborn', 'claim', 'clair', 'clairton', 'clam', 'clamato', 'clamor', 'clang', 'clarif', 'clarifi', 'clark', 'clarkson', 'class', 'classi', 'classic', 'classicindi', 'classiest', 'classmat', 'claudia', 'claudio', 'claustroph', 'claustrophob', 'claw', 'clay', 'cle', 'clean', 'cleaner', 'cleani', 'cleanli', 'cleans', 'cleanser', 'cleanth', 'cleanup', 'clear', 'clearli', 'cleet', 'clem', 'clerk', 'cleveland', 'clevelandcom', 'clever', 'cleverli', 'clich', 'click', 'clicklist', 'client', 'cliental', 'clientel', 'cliff', 'clifton', 'climat', 'climb', 'clinic', 'cliniqu', 'clinketi', 'clinton', 'clip', 'clipboard', 'clipper', 'clock', 'clog', 'clomp', 'clone', 'close', 'closer', 'closet', 'closur', 'cloth', 'clotheri', 'clothier', 'cloud', 'cloudi', 'clover', 'club', 'clubhous', 'clubsandwich', 'cluck', 'clue', 'clueless', 'clump', 'clumsi', 'clunki', 'cluster', 'clusterfck', 'clutch', 'clutter', 'cmon', 'cn', 'cne', 'cnj', 'cnn', 'co', 'coach', 'coachbuilt', 'coagul', 'coal', 'coast', 'coaster', 'coastlin', 'coat', 'coax', 'cob', 'cobb', 'cobbler', 'cobbsalad', 'coca', 'cocher', 'cockburn', 'cocki', 'cockpit', 'cockroach', 'cocktail', 'cocktel', 'coco', 'coconut', 'coconuti', 'coconutmango', 'coctail', 'cod', 'code', 'codfish', 'codger', 'coe', 'coerc', 'coffe', 'coffeeloc', 'coffeeshop', 'coffeetea', 'coffin', 'cog', 'cogimo', 'cognac', 'cohoot', 'coilov', 'coin', 'coincid', 'coincé', 'cojita', 'coke', 'cola', 'colada', 'cold', 'coldbrew', 'coldest', 'coldli', 'coldplay', 'colectivo', 'coleslaw', 'coleur', 'colibri', 'colin', 'coliseumarena', 'collabor', 'collar', 'collard', 'colleag', 'colleagu', 'collect', 'collector', 'colleen', 'colleg', 'collegestud', 'collin', 'collis', 'cologn', 'colombian', 'color', 'colorhighlight', 'colorrac', 'coloss', 'colour', 'colourist', 'colson', 'columbian', 'columbiana', 'columbu', 'column', 'com', 'coma', 'comb', 'combat', 'combin', 'combo', 'combov', 'come', 'comeacross', 'comeback', 'comebackagain', 'comebackher', 'comedi', 'comedian', 'comeher', 'comeout', 'comet', 'comfi', 'comfort', 'comfortfood', 'comfrot', 'comic', 'comicon', 'comida', 'comig', 'comimo', 'comin', 'comm', 'command', 'commenc', 'commend', 'comment', 'commentabout', 'commentair', 'commente', 'commenton', 'commerc', 'commerci', 'commiss', 'commit', 'commod', 'common', 'commonli', 'commun', 'communinti', 'communiqu', 'commut', 'como', 'comp', 'compact', 'compadr', 'compani', 'companion', 'companyif', 'compar', 'comparison', 'compass', 'compassion', 'compd', 'compel', 'compens', 'compet', 'competit', 'competitor', 'complain', 'complainabout', 'complaint', 'complaintprofession', 'complect', 'complement', 'complementari', 'complet', 'completelydiffer', 'complex', 'compli', 'compliant', 'complic', 'compliment', 'complimentari', 'compon', 'compos', 'compost', 'composé', 'compot', 'comprehens', 'compren', 'comprend', 'compressor', 'compri', 'compris', 'compromis', 'compt', 'comptoir', 'compuls', 'comput', 'comrad', 'con', 'conceal', 'conceirg', 'concentr', 'concept', 'concern', 'concert', 'concess', 'concierg', 'concis', 'conclud', 'conclus', 'concoct', 'concombr', 'concord', 'concour', 'concours', 'concret', 'concurr', 'condens', 'condescend', 'condiment', 'condit', 'condo', 'conduc', 'conduct', 'cone', 'coney', 'confer', 'confess', 'confetti', 'confi', 'confid', 'configur', 'confin', 'confirm', 'confit', 'conflict', 'conform', 'confort', 'confound', 'confront', 'confuddl', 'confus', 'confusedli', 'conge', 'congeal', 'congelé', 'congeni', 'congest', 'congratul', 'congreg', 'congress', 'conlan', 'conn', 'connaiss', 'connect', 'connector', 'connoisseur', 'connot', 'conquer', 'conrad', 'consciou', 'consequ', 'conserv', 'conseulo', 'consid', 'consider', 'consign', 'consist', 'consisti', 'consistof', 'consol', 'constant', 'constantli', 'construct', 'consult', 'consum', 'consumm', 'consumpt', 'contact', 'contagi', 'contagieux', 'contain', 'contamin', 'contempl', 'contemporari', 'contemporarymid', 'contempt', 'content', 'contest', 'contextu', 'contin', 'continent', 'continet', 'continu', 'contour', 'contract', 'contractor', 'contractu', 'contrari', 'contrast', 'contribut', 'contributor', 'contriv', 'control', 'controltrap', 'contstantlysmil', 'conundrum', 'conveni', 'convenientlyloc', 'convent', 'conver', 'convers', 'conversat', 'conversationalist', 'convert', 'convict', 'convient', 'convinc', 'convo', 'convolut', 'conway', 'cook', 'cookbook', 'cooker', 'cooki', 'cookin', 'cookingbak', 'cookmedium', 'cookperfectli', 'cooksi', 'cookwar', 'cool', 'coolant', 'coolcold', 'cooler', 'coon', 'cooper', 'cooperstown', 'coor', 'coordin', 'cop', 'copay', 'copi', 'copic', 'copiou', 'copp', 'copper', 'corbello', 'cord', 'cordelia', 'cordial', 'cordless', 'cordon', 'core', 'coreano', 'cori', 'coriand', 'coriandr', 'cork', 'corkag', 'corktown', 'corn', 'cornbeef', 'cornbeefhash', 'cornbread', 'corndog', 'cornedbeef', 'cornel', 'corner', 'cornerston', 'cornexcel', 'cornf', 'corni', 'cornichon', 'cornish', 'cornmeal', 'cornut', 'corolla', 'corona', 'corp', 'corpor', 'corral', 'correct', 'correctli', 'correl', 'corridor', 'corrin', 'corstorphin', 'cort', 'corvett', 'corwin', 'cosa', 'cosi', 'cosmet', 'cosmeticsdatabasecom', 'cosmic', 'cosmo', 'cosmopolitan', 'cost', 'costa', 'costanza', 'costata', 'costbenefit', 'costco', 'costerm', 'costilla', 'costli', 'costum', 'coti', 'cotta', 'cottag', 'cotton', 'coté', 'cou', 'couch', 'cougar', 'cough', 'coul', 'couldnot', 'couldnt', 'couli', 'counsel', 'counselor', 'count', 'countdown', 'counter', 'counterbar', 'countern', 'countertop', 'counti', 'countless', 'countri', 'countrysid', 'coup', 'coupl', 'coupleof', 'coupon', 'courag', 'courier', 'cours', 'coursetwo', 'court', 'courteou', 'courteous', 'courtesi', 'courthous', 'courtyard', 'courtyardgarden', 'couscou', 'cousel', 'cousin', 'cove', 'coventri', 'cover', 'coverag', 'covet', 'cow', 'cowbel', 'cowboy', 'cowett', 'cowlick', 'cowork', 'cox', 'coyli', 'coz', 'cozi', 'cozumel', 'cpa', 'cph', 'crab', 'crabcak', 'crableg', 'crack', 'cracker', 'crackerbarrel', 'crackl', 'crackli', 'cradl', 'craft', 'craftbeer', 'crafter', 'craftsman', 'craftsmanship', 'craftsteak', 'craic', 'craig', 'craigslist', 'cram', 'cramp', 'cranberri', 'crane', 'crank', 'cranki', 'cranni', 'crap', 'crappi', 'crapshoot', 'craptast', 'crash', 'crate', 'crave', 'cravetv', 'cravin', 'crawdad', 'crawfish', 'crawl', 'crawler', 'craze', 'crazi', 'crazybandz', 'cream', 'creama', 'creamchees', 'creamer', 'creamhot', 'creami', 'creampi', 'creampopsicl', 'creamsauc', 'creamsgelsserum', 'creas', 'creat', 'creation', 'creativ', 'credibl', 'credit', 'creditcard', 'creditdebit', 'cree', 'creek', 'creep', 'creepi', 'crema', 'creme', 'cremebrule', 'cremini', 'creo', 'creol', 'crepe', 'creperi', 'crescent', 'cretan', 'creuset', 'crevett', 'crevic', 'crew', 'cri', 'crime', 'crimin', 'crimson', 'cring', 'crinkl', 'cripsi', 'crisp', 'crispi', 'crispier', 'cristo', 'criterion', 'critic', 'critiqu', 'critter', 'croc', 'crock', 'crocker', 'crockett', 'croissant', 'croker', 'crolla', 'cromwel', 'cronut', 'crook', 'croqu', 'croquant', 'croquett', 'cross', 'crossfit', 'crosshair', 'crossov', 'crostini', 'crouton', 'crow', 'crowd', 'crowdrowdi', 'crowedstaff', 'crown', 'cru', 'crucial', 'cruda', 'crudo', 'crue', 'cruis', 'cruiser', 'crumb', 'crumbl', 'crunch', 'crunchi', 'crush', 'crusher', 'crust', 'crusti', 'crutch', 'cruz', 'crystal', 'crème', 'cs', 'csl', 'csr', 'cuatro', 'cub', 'cuba', 'cuban', 'cubano', 'cubbi', 'cube', 'cubicl', 'cucina', 'cucumb', 'cue', 'cuisin', 'cuiss', 'culinari', 'culmer', 'culprit', 'cult', 'cultiv', 'cultur', 'culturel', 'culver', 'cum', 'cumbersom', 'cup', 'cupboard', 'cupbottl', 'cupcak', 'cupcakeri', 'cupcakescak', 'cupcakescookiesetc', 'cupid', 'curb', 'curd', 'cure', 'curios', 'curiou', 'curl', 'curli', 'curlyhair', 'current', 'curri', 'curriculum', 'currywurst', 'curs', 'curt', 'curtain', 'curtesi', 'curti', 'curv', 'cushion', 'cusin', 'cusotm', 'cuss', 'custard', 'custom', 'customari', 'customerservic', 'customerservicefail', 'customerservicerep', 'customiz', 'cut', 'cutcolour', 'cute', 'cutebizarr', 'cutelittl', 'cutepot', 'cuticl', 'cutleri', 'cutlet', 'cutscolor', 'cutter', 'cuz', 'cv', 'cycl', 'cylind', 'cynthia', 'célébrer', 'cétai', 'côtoyer', 'côté', 'da', 'daaz', 'dab', 'dabbl', 'dabei', 'dacht', 'dad', 'daddi', 'dafür', 'daher', 'daigné', 'daikon', 'daili', 'dailleur', 'dailyspeci', 'dainti', 'daiquiri', 'dairi', 'dak', 'dalitz', 'dall', 'dalla', 'daller', 'dalton', 'dam', 'damag', 'dame', 'damm', 'dammit', 'damn', 'damp', 'dampen', 'damper', 'dan', 'dana', 'danach', 'danc', 'dancefloor', 'dancen', 'dancer', 'dandelion', 'dandi', 'dandruff', 'dane', 'danforth', 'dang', 'dangelo', 'danger', 'daniel', 'daniela', 'danier', 'danish', 'dank', 'dann', 'danni', 'dansak', 'daqiari', 'daquiri', 'dar', 'daran', 'darau', 'dare', 'dariu', 'dark', 'darkchocol', 'darken', 'darl', 'darn', 'darren', 'dart', 'darüber', 'dasessen', 'dash', 'dashboard', 'dass', 'databas', 'date', 'datenight', 'datetim', 'dattent', 'datum', 'dau', 'daughter', 'daunt', 'dave', 'davi', 'david', 'davidson', 'davidstea', 'davina', 'davoir', 'dawg', 'dawn', 'day', 'daycar', 'dayeven', 'daylat', 'daylight', 'daylong', 'dayserv', 'daysinn', 'daysweek', 'daytim', 'dazu', 'dazzl', 'db', 'dback', 'dbg', 'dc', 'dcfm', 'dcranch', 'dd', 'dd1', 'ddddddddd', 'dduk', 'de', 'dead', 'deadbeat', 'deadli', 'deadlin', 'deal', 'dealbreak', 'dealer', 'dealership', 'deali', 'dealwith', 'dean', 'dear', 'deari', 'dearsentiment', 'death', 'deathli', 'deau', 'deb', 'debat', 'debaucheri', 'debbi', 'debilit', 'debit', 'debitcredit', 'debri', 'debt', 'dec', 'decad', 'decaf', 'decasa', 'decatur', 'decay', 'dece', 'deceit', 'deceiv', 'decemb', 'decent', 'decept', 'decibel', 'decid', 'decidedli', 'decient', 'decim', 'deciph', 'decipher', 'decir', 'decis', 'deck', 'declar', 'declin', 'decliou', 'declutt', 'deco', 'deconstruct', 'decor', 'decorambi', 'decorcouch', 'decour', 'decreas', 'dedic', 'deduc', 'deduct', 'dee', 'deeelish', 'deep', 'deepfri', 'deer', 'def', 'default', 'defeat', 'defect', 'defend', 'defenitli', 'defens', 'deff', 'deffinitli', 'defiant', 'defiantli', 'defici', 'defin', 'definetli', 'definit', 'definitelycomeback', 'definitelyrecommend', 'definitelyrecommendthisplac', 'definitelyreturn', 'definitelyworth', 'definitli', 'deflat', 'defnit', 'defunct', 'deg', 'degre', 'deh', 'dehydr', 'deign', 'deihl', 'dejaban', 'deject', 'dekoratin', 'del', 'dela', 'delani', 'delay', 'delciou', 'delect', 'delet', 'deli', 'deliber', 'delic', 'delicaci', 'delicatessen', 'delici', 'delicia', 'delicioso', 'deliciouuuuu', 'delight', 'deligroceri', 'delint', 'delisciouso', 'delish', 'deliv', 'deliveri', 'deliverysometh', 'deliverysuck', 'delta', 'delug', 'delusion', 'delux', 'dem', 'demand', 'demeanor', 'demi', 'demo', 'demograph', 'demonstr', 'demot', 'dempsey', 'den', 'denali', 'dendroit', 'deni', 'denim', 'denis', 'denkbar', 'denn', 'denney', 'denni', 'denomin', 'dens', 'denser', 'densiti', 'dent', 'dental', 'dentist', 'dentistdent', 'dentur', 'denver', 'deodor', 'depart', 'departur', 'depend', 'dependon', 'deplor', 'deploy', 'deposit', 'depress', 'depriv', 'dept', 'depth', 'der', 'derbi', 'derek', 'deren', 'deriv', 'derm', 'dermaplan', 'dermaßen', 'dernièr', 'derogatori', 'derrick', 'descend', 'descent', 'descib', 'describ', 'descript', 'desert', 'deserv', 'deshalb', 'desi', 'design', 'desir', 'desire', 'desk', 'desol', 'desper', 'despit', 'dessay', 'dessert', 'dessertthre', 'dessi', 'destin', 'destini', 'destitut', 'destroy', 'detail', 'detailedclean', 'detangl', 'detect', 'deter', 'determin', 'deterr', 'detest', 'detour', 'detox', 'detract', 'detriment', 'detroit', 'deuc', 'deutlich', 'deuxièm', 'deva', 'devalu', 'devast', 'develop', 'devenir', 'deviat', 'devic', 'devil', 'devilegg', 'devin', 'devoid', 'devot', 'devour', 'dew', 'dh', 'di', 'diaarira', 'diabet', 'diabla', 'diagnos', 'diagnosi', 'diagnost', 'diahrrea', 'dial', 'dialat', 'dialogu', 'diamet', 'diamon', 'diamond', 'dian', 'diana', 'diarrhea', 'diaz', 'dice', 'dick', 'dicken', 'dictat', 'didnt', 'die', 'diebedienung', 'diego', 'diem', 'dies', 'diesem', 'diesen', 'dieser', 'diet', 'dietari', 'diff', 'differ', 'differencebetween', 'differenti', 'differenttyp', 'differenttypeof', 'differnet', 'difficil', 'difficult', 'difficulti', 'diffus', 'difinit', 'dig', 'digest', 'digg', 'diggiti', 'digit', 'digress', 'dijon', 'dilapid', 'dilemma', 'dilig', 'dill', 'dilli', 'dilut', 'dilver', 'dilworth', 'dim', 'dime', 'dimens', 'dimension', 'diminish', 'dimli', 'dimsum', 'din', 'dine', 'diner', 'ding', 'dingen', 'dingi', 'diniguan', 'diningarea', 'diningexperi', 'diningroom', 'dinki', 'dinner', 'dinner7', 'dinnerdrink', 'dino', 'dinosaur', 'dinspir', 'dinuguan', 'dip', 'diplomat', 'dippedsimm', 'dipper', 'dippin', 'dippingsauc', 'dirai', 'dire', 'direct', 'directedmat', 'directli', 'director', 'directv', 'dirk', 'dirt', 'dirti', 'disabl', 'disagre', 'disapoint', 'disappear', 'disappoint', 'disappointingli', 'disast', 'disastr', 'disbelief', 'disc', 'discern', 'discharg', 'disciplin', 'disclaim', 'disclos', 'disclosur', 'disco', 'discomfort', 'disconnect', 'discontinu', 'discount', 'discourag', 'discov', 'discover', 'discoveri', 'discreet', 'discrep', 'discret', 'discrimat', 'discriminatori', 'discuss', 'disdain', 'diseas', 'disfruto', 'disgrac', 'disgruntl', 'disgust', 'disgustingli', 'dish', 'dishearten', 'dishevel', 'dishonest', 'dishonesti', 'dishwash', 'disinfect', 'disint', 'disintegr', 'disinterest', 'dislik', 'dismay', 'dismiss', 'disney', 'disneyland', 'disorderli', 'disorgan', 'disori', 'dispens', 'dispensari', 'display', 'displeas', 'displeasur', 'dispos', 'disposit', 'disput', 'disregard', 'disrespect', 'disrupt', 'diss', 'dissapoint', 'dissappoint', 'dissatisfact', 'dissatisfi', 'dissect', 'dissert', 'disservic', 'dissip', 'disspiat', 'dissuad', 'distanc', 'distant', 'distast', 'distgust', 'distilleri', 'distincitv', 'distinct', 'distinctli', 'distort', 'distract', 'distress', 'distribut', 'distributor', 'district', 'disturb', 'dit', 'ditch', 'ditto', 'dive', 'divebar', 'diver', 'divers', 'diversifi', 'divert', 'divey', 'divid', 'divin', 'divorc', 'divot', 'diy', 'dizzi', 'dj', 'dk', 'dlish', 'dlux', 'dmo', 'dmv', 'dnd', 'do', 'doabl', 'dobson', 'doc', 'doch', 'dock', 'doctor', 'document', 'documentvouch', 'dodg', 'dodgi', 'dodnt', 'doenst', 'doesnt', 'doeuvr', 'dog', 'dogfish', 'doggi', 'dogwood', 'doh', 'dolc', 'dolcet', 'doll', 'dollar', 'dollhous', 'dollop', 'dolma', 'dolor', 'dome', 'domest', 'domin', 'dominiert', 'dominiqu', 'domino', 'dommag', 'domo', 'domoniqu', 'domur', 'donald', 'donat', 'donburi', 'donc', 'done', 'donecom', 'doneghan', 'dong', 'donkatsu', 'donkey', 'donn', 'donna', 'donor', 'donot', 'donotboth', 'donotcar', 'donotdisappoint', 'donotknow', 'donotknowhow', 'donotknowwhat', 'donotmind', 'donotunderstand', 'donotunderstandwhi', 'dont', 'donut', 'doodl', 'door', 'doorbel', 'doordash', 'doorman', 'doorstep', 'dor', 'dora', 'doreen', 'dori', 'dorm', 'dormant', 'dormitori', 'dort', 'dortigen', 'dosa', 'dose', 'dosnt', 'dot', 'doubl', 'doubledoor', 'doubt', 'doubtless', 'douch', 'douchebag', 'doug', 'dough', 'doughi', 'doughnut', 'dous', 'douvert', 'downer', 'downfal', 'downgrad', 'downhil', 'download', 'downplay', 'downright', 'downsid', 'downstair', 'downtim', 'downtown', 'downtownuptown', 'dozen', 'dozo', 'dr', 'drab', 'draconian', 'draft', 'drafti', 'draftsman', 'drag', 'dragon', 'dragoon', 'drai', 'drain', 'drainag', 'drainiv', 'drake', 'drama', 'dramat', 'drank', 'drape', 'drastic', 'draught', 'draw', 'drawback', 'drawer', 'dread', 'dream', 'dreami', 'dreamsicl', 'dreamworthi', 'dreari', 'drench', 'dress', 'dresser', 'dressingssauc', 'drew', 'dri', 'drift', 'driftwood', 'drill', 'drink', 'drinkabl', 'drinker', 'drinkinglol', 'drinksdinn', 'drinksfar', 'drinkshak', 'drip', 'drippi', 'drive', 'drivebi', 'drivedown', 'driver', 'drivethrough', 'drivethru', 'driveway', 'drizzl', 'drogerieartikel', 'drool', 'drop', 'dropbi', 'dropbox', 'dropoff', 'dropout', 'drought', 'drown', 'drpractition', 'drug', 'drum', 'drumstick', 'drumsticksi', 'drunchi', 'drunk', 'drunken', 'drunkerd', 'dryer', 'dryingstyl', 'dryli', 'dryovercook', 'drywal', 'dryzon', 'dt', 'du', 'dual', 'dubiou', 'dubu', 'duce', 'duck', 'duct', 'duda', 'dudd', 'dude', 'duel', 'dueto', 'duey', 'duff', 'dufferin', 'duftet', 'dufu', 'duh', 'duhhhhh', 'duke', 'dulc', 'dull', 'dumb', 'dumbbel', 'dummi', 'dump', 'dumpl', 'dumpster', 'dun', 'dunda', 'dune', 'dunfermlin', 'dung', 'dunk', 'dunkin', 'dunlap', 'dunno', 'duno', 'duo', 'dup', 'duper', 'duplic', 'durabl', 'durango', 'durant', 'durch', 'durchgebraten', 'durchschnittlich', 'durchwachsen', 'durian', 'duringpeak', 'dusit', 'dust', 'dusti', 'dutch', 'duti', 'duy', 'dvd', 'dvp', 'dw', 'dwarf', 'dweller', 'dwight', 'dwindl', 'dx', 'dye', 'dynam', 'dynamit', 'dynasti', 'déco', 'décor', 'découvriez', 'découvrir', 'décran', 'décriss', 'dédiée', 'définitiv', 'déjà', 'délicieus', 'délicieux', 'déplaisant', 'désillus', 'déçu', 'döner', 'dönerladen', 'dünn', 'dünner', 'dürfen', 'e', 'e550', 'ea', 'eachoth', 'eachtim', 'eager', 'eagl', 'ear', 'earbud', 'earl', 'earlgrey', 'earli', 'earlier', 'earn', 'earner', 'earnhardt', 'earphon', 'earplug', 'earr', 'earth', 'earthi', 'earthquak', 'earwhick', 'eas', 'easi', 'easier', 'easili', 'east', 'eastcoast', 'easter', 'eastern', 'eastvalley', 'eastwood', 'easygo', 'eat', 'eatcrest', 'eaten', 'eater', 'eateri', 'eather', 'eatomg', 'eaton', 'eatsdrink', 'eatt', 'eau', 'ebay', 'eben', 'ebenfal', 'ebenso', 'eccentr', 'echo', 'echoey', 'echt', 'eclair', 'eclect', 'eco', 'ecohol', 'econo', 'econom', 'economi', 'económico', 'ecosystem', 'ecstat', 'ect', 'ed', 'edamam', 'edanam', 'edc', 'eddi', 'eden', 'edg', 'edgar', 'edgewood', 'edgier', 'edibl', 'edin', 'edinburgh', 'edit', 'ediyorum', 'edm', 'educ', 'edward', 'eeehh', 'eeek', 'eek', 'eel', 'eerili', 'ef', 'eff', 'effeci', 'effect', 'effectiv', 'effffffffffffff', 'efficac', 'effici', 'effort', 'effortless', 'effortlessli', 'eg', 'egal', 'egg', 'eggcit', 'eggggg', 'eggi', 'eggless', 'eggnog', 'eggplant', 'eggplantparmesan', 'eggrol', 'eggslut', 'eggspect', 'eggwaffl', 'eglinton', 'eglintondavisvil', 'ego', 'egregi', 'egyptian', 'eh', 'eher', 'ehh', 'ehhh', 'ehhhh', 'eiffel', 'eigen', 'eigenartig', 'eigentlich', 'eighteen', 'ein', 'einarmigen', 'eindruck', 'einem', 'einen', 'einer', 'einfach', 'eingang', 'eingegangen', 'eingehen', 'eingerichtet', 'einig', 'einigermaßen', 'einigst', 'einkauf', 'einkaufen', 'einladend', 'einladung', 'einpaar', 'einplanen', 'einrichtung', 'einstein', 'einstufen', 'eintrittsprei', 'einzeln', 'einzig', 'einzigen', 'eisenbahng', 'eitherway', 'eject', 'el', 'elabor', 'elain', 'elara', 'elast', 'elat', 'elbow', 'elderflow', 'elderli', 'elect', 'electr', 'electricalfus', 'electrician', 'electron', 'eleen', 'eleg', 'elegantli', 'eleman', 'element', 'elena', 'eleph', 'elev', 'elevador', 'eli', 'elia', 'elimin', 'elit', 'elitest', 'elitist', 'elizabeth', 'elk', 'elot', 'elsa', 'elud', 'elvi', 'elvispresley', 'email', 'emailtextcal', 'embark', 'embarrass', 'ember', 'emblazon', 'embrac', 'emer', 'emerald', 'emerg', 'emeril', 'emili', 'emilia', 'emilio', 'emiss', 'emmanuel', 'emoji', 'emot', 'empanada', 'empanda', 'empathet', 'empathi', 'empenada', 'emperor', 'empfang', 'empfangen', 'empfehlen', 'empfehlenswert', 'empfehlung', 'empfängt', 'emphas', 'emphasi', 'empir', 'employ', 'employe', 'employé', 'emtala', 'emuls', 'en', 'enabl', 'encanto', 'enchant', 'enchilada', 'enclos', 'encompass', 'encor', 'encorewynn', 'encount', 'encourag', 'encyclopedia', 'end', 'endeavor', 'endev', 'endless', 'endlessli', 'endlich', 'endof', 'endors', 'endresult', 'endulg', 'endup', 'endur', 'energet', 'energi', 'enforc', 'eng', 'engag', 'engin', 'england', 'english', 'engrish', 'engross', 'enhanc', 'enjoy', 'enlighten', 'enoki', 'enorm', 'enquir', 'enrag', 'enrich', 'enrol', 'ensembl', 'ensur', 'entail', 'entdeckt', 'entendon', 'entendu', 'enter', 'enterpris', 'entertain', 'entertainingdepress', 'entfernt', 'enthral', 'enthus', 'enthusiasm', 'enthusiast', 'enthusiat', 'enti', 'entic', 'entir', 'entireti', 'entiti', 'entitl', 'entr', 'entranc', 'entre', 'entreé', 'entri', 'entrust', 'entryway', 'entré', 'entscheidung', 'entschieden', 'entschädigt', 'entsprechend', 'entstanden', 'enttäuscht', 'enttäuschung', 'entwed', 'entworfen', 'enuf', 'enver', 'envi', 'environ', 'environment', 'envis', 'ep', 'epi', 'epic', 'epicent', 'epicentr', 'episod', 'epitom', 'equal', 'equat', 'equinox', 'equip', 'equival', 'er', 'era', 'eras', 'ergebni', 'ergo', 'eric', 'erick', 'erik', 'erin', 'eringi', 'erinnert', 'erlebni', 'erlebnispark', 'erlebt', 'erloschen', 'ermiril', 'ernhadt', 'err', 'errand', 'errant', 'erreur', 'error', 'errrrrr', 'erschienen', 'erschwinglichen', 'erst', 'erstaunlicherweis', 'ersten', 'erwarten', 'es', 'esa', 'escal', 'escap', 'escargot', 'escolar', 'escort', 'escroqueri', 'eska', 'esp', 'espac', 'esparza', 'especailli', 'especi', 'espectacular', 'esperanza', 'espresso', 'esqu', 'esquir', 'ess', 'essen', 'essenc', 'essensauswahl', 'essenti', 'essert', 'essi', 'est', 'esta', 'estaba', 'estaban', 'establish', 'estat', 'esthetician', 'estim', 'estuviera', 'et', 'etant', 'etc', 'etcetc', 'etch', 'ethic', 'ethiopian', 'ethnic', 'etiquett', 'etoufe', 'etouffe', 'etr', 'ettik', 'ettouff', 'etwa', 'eucalyptu', 'euclid', 'euro', 'europ', 'european', 'eva', 'evahali', 'evahhhhhhhhh', 'evalu', 'evan', 'evangelist', 'evas', 'eve', 'eveeeeer', 'even', 'evenbett', 'evenli', 'event', 'eventhough', 'eventu', 'ever', 'everr', 'everth', 'everworst', 'everybit', 'everybodi', 'everyday', 'everyoneels', 'everypenni', 'everyrh', 'everysingl', 'everystep', 'everythingels', 'everytim', 'everyyear', 'evid', 'evil', 'evit', 'evo', 'evok', 'evolv', 'evoo', 'ew', 'ewe', 'eww', 'ewww', 'ewwwww', 'ex', 'exact', 'exactli', 'exactlywhat', 'exagger', 'exam', 'examin', 'exampl', 'exasper', 'excalibur', 'exceed', 'excel', 'excelk', 'except', 'excess', 'exchang', 'excit', 'excitedabout', 'exclaim', 'exclam', 'exclud', 'exclus', 'excurs', 'excus', 'excuse10', 'execut', 'exemplari', 'exemplifi', 'exempt', 'exercis', 'exert', 'exfoli', 'exhaust', 'exhibit', 'exhilar', 'exhorbirt', 'exil', 'exist', 'exit', 'exot', 'expand', 'expans', 'expect', 'expectationshyp', 'expedia', 'expedit', 'expeienc', 'expeir', 'expens', 'exper', 'experi', 'experieinc', 'experienc', 'expert', 'expertis', 'expertli', 'expir', 'explain', 'explaineveryth', 'explainwhi', 'explan', 'explanatori', 'explet', 'explin', 'explod', 'explor', 'explos', 'expo', 'expos', 'express', 'expresso', 'expérienc', 'expérimentaux', 'exquisit', 'exspens', 'exsperi', 'extend', 'extens', 'extent', 'exterior', 'extortion', 'extra', 'extramil', 'extraordinair', 'extraordinari', 'extraordinarili', 'extravag', 'extrem', 'extremelyfriendli', 'extremelyhelp', 'extremelyknowledg', 'extremelyrud', 'exécut', 'ey', 'eye', 'eyebal', 'eyebrow', 'eyecandi', 'eyecontact', 'eyelash', 'eyem', 'eyeshadow', 'eyesight', 'eyesor', 'eyeswrinkl', 'eyewear', 'ezz', 'f', 'fab', 'fabl', 'fabo', 'fabric', 'fabul', 'face', 'facebook', 'facepl', 'facial', 'facialist', 'facil', 'facilit', 'facon', 'fact', 'factli', 'facto', 'factor', 'factori', 'factthat', 'fade', 'faf', 'fagan', 'fagioli', 'fahrenheit', 'fai', 'faibl', 'fail', 'failur', 'faint', 'fair', 'fairen', 'fairfax', 'fairi', 'fairli', 'fairmont', 'fairpric', 'fairytal', 'fait', 'faita', 'faith', 'fajita', 'fajitasth', 'fake', 'fakeov', 'falafel', 'falken', 'fall', 'fallapart', 'falloff', 'fallu', 'fals', 'falsch', 'fame', 'famili', 'familiar', 'familiarwith', 'familien', 'familienausflug', 'familienf', 'familymemb', 'familyown', 'familyownbusi', 'familystyl', 'famou', 'fan', 'fanat', 'fanci', 'fanof', 'fantabul', 'fantasi', 'fantast', 'fantasticjob', 'far', 'farang', 'fare', 'farewel', 'farfal', 'farfrom', 'fargo', 'farm', 'farmer', 'farmhous', 'farren', 'farther', 'fascin', 'fashion', 'fashionista', 'fast', 'faster', 'fastfood', 'fat', 'fatass', 'fatburg', 'father', 'fathom', 'fatteh', 'fatten', 'fatti', 'fattoush', 'faucet', 'fault', 'faulti', 'faux', 'fav', 'fava', 'fave', 'favoit', 'favor', 'favori', 'favorit', 'favorita', 'favour', 'favourit', 'fawh', 'fawn', 'fax', 'fazit', 'fb', 'fck', 'fd', 'fear', 'feasibl', 'feast', 'feat', 'feather', 'featur', 'feb', 'febreez', 'februari', 'fed', 'fedex', 'fee', 'feed', 'feedback', 'feeeeh', 'feel', 'feelbyou', 'feelcomfort', 'feelin', 'feellik', 'feelwelcom', 'feetleg', 'fehlt', 'feign', 'felix', 'fellow', 'fellowship', 'feloni', 'felt', 'femal', 'feminin', 'femm', 'fen', 'fenc', 'fender', 'fenetr', 'feng', 'fennel', 'fenster', 'fer', 'ferarri', 'fermait', 'ferment', 'fermetur', 'fern', 'fernando', 'fernseh', 'ferrari', 'ferri', 'fertigdress', 'fertigknoblauch', 'fertigsaucen', 'fess', 'fest', 'festiv', 'feststellen', 'feta', 'fetal', 'fetch', 'fett', 'fettig', 'fettuccin', 'fettuccini', 'fever', 'fewminut', 'fewminutelat', 'fewmonth', 'fewmonthago', 'fewtim', 'fewweek', 'fewweekago', 'fewyear', 'fez', 'ffl', 'fh', 'fianc', 'fiance', 'fiancé', 'fiasco', 'fiat', 'fiber', 'fibromyalgia', 'fibromyaltia', 'fiction', 'fictiti', 'fiddi', 'fide', 'fideo', 'field', 'fiend', 'fierc', 'fieri', 'fiesta', 'fife', 'fifth', 'fig', 'fight', 'fighter', 'figur', 'figureout', 'figureouthow', 'fiiz', 'fil', 'file', 'filet', 'filetmignon', 'filiberto', 'filipina', 'filipino', 'fill', 'filler', 'fillet', 'fillmor', 'fillup', 'film', 'filo', 'filter', 'filthi', 'finac', 'final', 'finali', 'financ', 'financi', 'finch', 'find', 'finda', 'finden', 'findet', 'fine', 'finedin', 'finess', 'fing', 'finger', 'fingerl', 'fingernail', 'fingertip', 'finir', 'finish', 'finnali', 'finnz', 'finsh', 'fiorr', 'fire', 'firearm', 'firebal', 'firecreek', 'fireeee', 'firefight', 'firefli', 'firehous', 'fireplac', 'firerock', 'firesid', 'fireski', 'fireston', 'firework', 'firm', 'firstbit', 'firstdat', 'firsthand', 'firstimpress', 'firstli', 'firsttim', 'firstvisit', 'firth', 'fischmuscheln', 'fish', 'fishbeef', 'fishbowl', 'fisher', 'fisherman', 'fishi', 'fishseafood', 'fishtaco', 'fist', 'fit', 'fitch', 'fiveguy', 'fivestar', 'fix', 'fixin', 'fixit', 'fixtur', 'fixwatch', 'fizzi', 'fk', 'fl', 'flabbergast', 'flaccid', 'flag', 'flagstaff', 'flair', 'flake', 'flakey', 'flaki', 'flamb', 'flame', 'flamenco', 'flamingo', 'flan', 'flank', 'flap', 'flapjack', 'flare', 'flash', 'flashi', 'flashlight', 'flat', 'flatbread', 'flatland', 'flatscreen', 'flatter', 'flatwearchopstick', 'flaumbay', 'flavor', 'flavorless', 'flavortextur', 'flavour', 'flavourless', 'flaw', 'flawless', 'flax', 'flay', 'flea', 'fleec', 'fleet', 'fleisch', 'fleischkäs', 'fleißig', 'fleme', 'flesh', 'fletcher', 'fleur', 'fleuri', 'fleurish', 'flex', 'flexer', 'flexibl', 'fli', 'flick', 'fließband', 'flight', 'flimsi', 'flinchi', 'fling', 'flinston', 'flip', 'flippin', 'flirt', 'float', 'floater', 'flock', 'flood', 'floor', 'floorboard', 'floorplan', 'flop', 'flora', 'floral', 'flore', 'florentin', 'floresc', 'floret', 'florida', 'florist', 'flot', 'flour', 'flouri', 'flourish', 'flourless', 'flourtortilla', 'flow', 'flower', 'flu', 'fluent', 'fluff', 'fluffi', 'fluffier', 'flughafen', 'fluid', 'fluke', 'fluoresc', 'flush', 'fluster', 'flyer', 'fmj', 'fn', 'foam', 'foami', 'fob', 'focaccia', 'focu', 'focus', 'focuson', 'fog', 'fogo', 'foi', 'foie', 'foiegra', 'foil', 'fold', 'folk', 'folklor', 'follow', 'followbi', 'followingweek', 'followup', 'folow', 'fond', 'fonda', 'fondont', 'fondu', 'fontina', 'foo', 'food', 'foodcourt', 'fooddrink', 'foodgasm', 'foodi', 'foodrestaur', 'foodservic', 'foofi', 'fool', 'foolin', 'foolish', 'foosia', 'foot', 'footag', 'footbal', 'footboard', 'footer', 'footlight', 'footmassag', 'footnot', 'footwork', 'forawhil', 'foray', 'forb', 'forbid', 'forc', 'ford', 'forearm', 'forego', 'forehead', 'foreign', 'foremost', 'foreplay', 'forese', 'foresight', 'forest', 'forev', 'forewarn', 'forexampl', 'forfeit', 'forg', 'forget', 'forgetabout', 'forgett', 'forgion', 'forgiv', 'forgo', 'forgot', 'fork', 'form', 'formal', 'format', 'formid', 'formula', 'fort', 'forth', 'forthosewho', 'fortun', 'forturantli', 'forum', 'forward', 'foss', 'foster', 'fot', 'foul', 'found', 'foundat', 'founder', 'fountain', 'fountainshow', 'foursom', 'fourstar', 'fourth', 'fowler', 'fox', 'foxcroft', 'foxx', 'fo人two', 'fr', 'fractionof', 'fragen', 'fragrant', 'frail', 'frame', 'fran', 'franc', 'francesco', 'franchement', 'franchis', 'franchise', 'franci', 'francoi', 'francé', 'franglai', 'frank', 'frankli', 'frantic', 'françai', 'frapachino', 'frat', 'fratelli', 'fratello', 'frau', 'fraud', 'fraudul', 'frauen', 'fraught', 'fray', 'frazzl', 'fraîch', 'freak', 'freakin', 'freakish', 'freakishli', 'fred', 'freddi', 'frederick', 'free', 'freeand', 'freebi', 'freedom', 'freeez', 'freeli', 'freeman', 'freemont', 'freepark', 'freestyl', 'freeway', 'freewifi', 'freez', 'freezer', 'fremont', 'fremontstreet', 'french', 'frenchfri', 'frenchonionsoup', 'frenchtoast', 'frendli', 'frenectomi', 'frequenc', 'frequent', 'frequentiertest', 'fresca', 'fresco', 'fresh', 'freshair', 'freshen', 'fresher', 'freshingredi', 'freshli', 'freshmozzarella', 'freshwat', 'freud', 'freudig', 'freunden', 'freundin', 'freundlcih', 'freundlich', 'fri', 'fricas', 'frick', 'fricken', 'frickin', 'friday', 'fridayeven', 'fridaynight', 'fridg', 'fridgefreez', 'frie', 'friedchicken', 'friedric', 'friel', 'friend', 'friendfellow', 'friendless', 'friendli', 'friendliest', 'friendlycustom', 'friendlysavvi', 'friendlystaff', 'frier', 'frieswer', 'frig', 'friggin', 'frighten', 'frill', 'fring', 'frisch', 'frischer', 'frisco', 'frise', 'friseé', 'frit', 'frite', 'frito', 'frittenbud', 'fritter', 'fritti', 'fritur', 'fritz', 'frizzi', 'frm', 'frog', 'frogger', 'froid', 'fromag', 'fromageri', 'fromand', 'fromcalifornia', 'frommer', 'fromscratch', 'fromto', 'fron', 'frontdesk', 'frontdoor', 'frontof', 'froot', 'frost', 'froth', 'frown', 'froyo', 'frozen', 'frozencustard', 'frsh', 'fruckin', 'frugal', 'fruit', 'fruiti', 'fruitnut', 'fruitsveggi', 'frustrat', 'frychicken', 'fryer', 'fryover', 'frypickl', 'fryric', 'fréquenter', 'fréquenté', 'früher', 'fspm', 'ft', 'fu', 'fuc', 'fuck', 'fucken', 'fudg', 'fudgi', 'fuel', 'fufil', 'fughedaboudid', 'fuk', 'fukuburg', 'fukuda', 'ful', 'fule', 'fulfil', 'fuller', 'fulli', 'fullsiz', 'fumbl', 'fun', 'function', 'funday', 'fundido', 'funfetti', 'fung', 'funhous', 'funinterest', 'funitur', 'funk', 'funki', 'funkier', 'funni', 'fur', 'furikak', 'furiou', 'furnac', 'furnish', 'furnitur', 'furth', 'furthermor', 'fusia', 'fusili', 'fusion', 'fuss', 'fussi', 'fut', 'futur', 'futureand', 'fuzzi', 'fyi', 'fève', 'fête', 'fühle', 'fühlt', 'für', 'fürchterlich', 'g', 'ga', 'gab', 'gabana', 'gabe', 'gabi', 'gabriel', 'gabriella', 'gadget', 'gadzook', 'gael', 'gaeng', 'gag', 'gaggl', 'gagner', 'gagnon', 'gai', 'gain', 'gal', 'galaxi', 'galbi', 'galett', 'gall', 'gallagh', 'gallant', 'gallardo', 'galleri', 'galleria', 'galley', 'gallo', 'gallon', 'gallup', 'galor', 'gambl', 'gambler', 'game', 'gamework', 'gamey', 'gamut', 'gan', 'gandul', 'gang', 'gangnam', 'gangster', 'ganz', 'ganzen', 'gap', 'gar', 'garag', 'garbag', 'garbanzo', 'garbl', 'garbonzo', 'gard', 'garden', 'garder', 'gardetto', 'gardin', 'gardino', 'gardot', 'gargantuan', 'gargonzola', 'gari', 'garlic', 'garlicbread', 'garlicherb', 'garlicki', 'garlicknot', 'garliclemonol', 'garlicsauc', 'garner', 'garnet', 'garnish', 'garrett', 'garth', 'gasca', 'gasket', 'gaskets', 'gasp', 'gasstat', 'gast', 'gasthau', 'gastonia', 'gastraum', 'gastro', 'gastronom', 'gastronomi', 'gastronomiekunst', 'gastronomiqu', 'gastropub', 'gate', 'gateway', 'gather', 'gattin', 'gaucho', 'gaudili', 'gaudin', 'gaug', 'gauntlet', 'gave', 'gawd', 'gawk', 'gay', 'gaze', 'gazillion', 'gazpacho', 'gb', 'gc', 'gd', 'ge', 'gear', 'gebacken', 'geboten', 'gedacht', 'gedankt', 'gee', 'geeez', 'geek', 'gees', 'geet', 'geez', 'gefragt', 'gefunden', 'gegend', 'gegenteil', 'gegenüb', 'geh', 'gehalten', 'gehe', 'geheg', 'geheimtipp', 'gehen', 'gehoben', 'geholfen', 'geht', 'gehören', 'gehört', 'geico', 'geisha', 'geklappt', 'gekostet', 'gel', 'gelangweilt', 'gelatin', 'gelatina', 'gelato', 'gelatolog', 'gelaxi', 'gelcolor', 'geld', 'gelegen', 'gelegenheit', 'gelish', 'gelmanicur', 'gem', 'gemacht', 'gemausert', 'gemischt', 'gemischten', 'gemixt', 'gemüs', 'gemütlich', 'gen', 'genannt', 'gender', 'gener', 'generalmanag', 'generos', 'geniu', 'genoa', 'genr', 'gent', 'genteel', 'gentil', 'gentl', 'gentleman', 'gentlemen', 'gentli', 'gentrif', 'gentrifi', 'genuin', 'genuinli', 'geometr', 'georg', 'georgetown', 'georgi', 'georgia', 'gepflegt', 'geplant', 'gerald', 'gerecht', 'gericht', 'gerichten', 'germain', 'german', 'germaphob', 'gern', 'gerrard', 'gerri', 'gerson', 'gertrud', 'gesagt', 'gesamt', 'geschenk', 'geschlossen', 'geschmack', 'geschmacklich', 'geschmackvol', 'geschmeckt', 'geschmort', 'geschnitten', 'geschrieben', 'geschäft', 'geschäftsleut', 'geschützt', 'gestimmt', 'gestur', 'get', 'getaway', 'getn', 'getridof', 'getrost', 'getränk', 'getränken', 'getränkeseitig', 'getto', 'gewechselt', 'gewesen', 'gewichtsangab', 'gewirbelt', 'gewährleistet', 'gewürz', 'gezaubert', 'geändert', 'gf', 'ghetto', 'ghost', 'giaccob', 'giada', 'gian', 'giancana', 'giani', 'giant', 'giardiniera', 'gibt', 'giddi', 'gift', 'giftcard', 'gifti', 'giftshop', 'gig', 'gigant', 'giid', 'gilbert', 'gilley', 'gillian', 'gilmor', 'gimmi', 'gimmick', 'gimmicki', 'gin', 'gingen', 'ginger', 'gingerlemonorang', 'ginorm', 'girl', 'girlfriend', 'girli', 'gita', 'giveaway', 'givezerostar', 'givré', 'givs', 'gl', 'gla', 'glad', 'gladli', 'glamor', 'glanc', 'glare', 'glass', 'glasswar', 'glaze', 'gleam', 'gleich', 'glen', 'glendal', 'glick', 'glider', 'glimps', 'glitch', 'glitter', 'glob', 'glori', 'glorifi', 'gloriou', 'gloss', 'glove', 'glow', 'glue', 'glut', 'glute', 'gluten', 'glutenfre', 'glutten', 'glutton', 'gluttoni', 'gluuteni', 'glück', 'gm', 'gmo', 'gn', 'gnc', 'gnocchi', 'gnocci', 'gnoochi', 'gnudi', 'go', 'goabov', 'goal', 'goat', 'goatchees', 'gob', 'goback', 'gobackagain', 'gobbl', 'gobern', 'gobi', 'goblet', 'gochujang', 'god', 'godaw', 'goddamn', 'goddess', 'godli', 'godownhil', 'godsend', 'godsgoddess', 'godzilla', 'goer', 'gofir', 'gogettr', 'goggl', 'gogo', 'goi', 'goier', 'goingbto', 'gold', 'golden', 'goldendoodl', 'goldi', 'golf', 'golfer', 'gomatei', 'gomez', 'gona', 'gonzalo', 'good', 'goodbett', 'goodbi', 'goodby', 'goodcheesesteak', 'goodi', 'goodlif', 'goodluck', 'gooey', 'goof', 'googl', 'gook', 'goong', 'gooood', 'goooood', 'goos', 'goosebump', 'gord', 'gordan', 'gordita', 'gordo', 'gordon', 'gordon20ramsay', 'goreg', 'goreng', 'gorg', 'gorganzola', 'gorgeou', 'gorgeous', 'gorgonzola', 'gorham', 'gosh', 'gosomewher', 'gosomewhereels', 'gospel', 'gossip', 'got', 'gothi', 'goto', 'gotta', 'gouda', 'goug', 'gourd', 'gourmandis', 'gourmet', 'gout', 'govern', 'gow', 'gown', 'gowrong', 'gowrongwith', 'goyemon', 'gozaimasu', 'goût', 'goûté', 'gr', 'gra', 'grab', 'grabba', 'grabbagreen', 'grabber', 'grace', 'graci', 'gracia', 'graciou', 'gracious', 'grad', 'grade', 'gradual', 'graduat', 'graffiti', 'grafiti', 'graham', 'grai', 'grail', 'grain', 'gramerci', 'grand', 'grandchild', 'granddaught', 'grandfath', 'grandkid', 'grandma', 'grandmoth', 'grandopen', 'grandpar', 'grandson', 'grang', 'granit', 'granni', 'granola', 'grant', 'granul', 'grape', 'grapefruit', 'graphic', 'grappl', 'grass', 'grassi', 'grate', 'grati', 'gratif', 'gratin', 'gratitud', 'gratuit', 'gratuiti', 'grave', 'gravel', 'gravesid', 'graveyard', 'gravi', 'gray', 'grayish', 'graylin', 'graz', 'graze', 'grcevich', 'greas', 'greasi', 'great', 'greatcustomerservic', 'greater', 'greatjob', 'greatli', 'greed', 'greedi', 'greek', 'greeksalad', 'greektown', 'green', 'greenbean', 'greenchil', 'greenchili', 'greener', 'greeneri', 'greenfield', 'greenhous', 'greenonion', 'greenr', 'greenspan', 'greentea', 'greenway', 'greenwhich', 'greet', 'greetbi', 'greetbuy', 'greetedtook', 'greeter', 'greg', 'gregori', 'gret', 'grey', 'greyston', 'griechenland', 'griechisch', 'grief', 'griffin', 'grigio', 'grill', 'grillchees', 'grillchicken', 'grillmast', 'grillonion', 'grillsoß', 'grillé', 'grimac', 'grimaidi', 'grimaldi', 'grimi', 'grin', 'grind', 'grinder', 'grindz', 'gringo', 'grip', 'gripe', 'gristl', 'gristli', 'grit', 'gritti', 'gritz', 'gro', 'grocer', 'groceri', 'grocerystor', 'groom', 'groomer', 'groovi', 'gross', 'grossen', 'grossli', 'grotesqu', 'grouchi', 'ground', 'groundbeef', 'group', 'grouper', 'groupon', 'grout', 'grouter', 'groutin', 'grove', 'grow', 'growler', 'grown', 'growth', 'growup', 'groß', 'große', 'großen', 'großer', 'großzügig', 'großzügigem', 'grrr', 'grrrrr', 'grub', 'grubbi', 'grubbin', 'grubhub', 'gruel', 'gruffi', 'grumbl', 'grumpi', 'grund', 'grung', 'grungi', 'gruntwork', 'gruyer', 'gruyèr', 'gruß', 'gs', 'gsa', 'gt', 'gta', 'gtaa', 'gu', 'guac', 'guacamol', 'guacchip', 'guarante', 'guard', 'guava', 'gucci', 'guedo', 'guess', 'guest', 'guestlist', 'guestsvisitor', 'guid', 'guidanc', 'guidelin', 'guido', 'guild', 'guilt', 'guilti', 'guin', 'guinea', 'guiness', 'guitar', 'guitarist', 'gulf', 'gulli', 'gulp', 'gum', 'gumbi', 'gumbo', 'gummi', 'gun', 'gunk', 'gunki', 'gunna', 'gunshot', 'gurney', 'guru', 'gust', 'gusto', 'gut', 'gutbürgerlich', 'gute', 'guten', 'guter', 'guy', 'guybehind', 'guyson', 'guywho', 'gvcc', 'gvr', 'gwartzman', 'gym', 'gymnast', 'gyoza', 'gypsi', 'gyro', 'gyrospizza', 'gyu', 'gäbe', 'gäste', 'général', 'généralement', 'généreus', 'gül', 'güzeldi', 'h', 'h12', 'h2', 'ha', 'haagen', 'hab', 'habanero', 'habe', 'haben', 'habenero', 'haberdasheri', 'habibi', 'habit', 'habitación', 'habitat', 'habituel', 'habitué', 'hacer', 'hacienda', 'hack', 'haddock', 'hadto', 'hae', 'hafta', 'haggi', 'hah', 'haha', 'hahaha', 'hahha', 'hai', 'haicut', 'hail', 'hailey', 'hair', 'hairblow', 'hairbybrittneylogan', 'haircolor', 'haircut', 'hairdryer', 'hairi', 'hairspray', 'hairstyl', 'hairstylecolor', 'hairstylist', 'hakata', 'hakka', 'hakkachines', 'hal', 'halal', 'halbweg', 'haley', 'half', 'halfanhour', 'halfhour', 'halfshel', 'halfway', 'halibut', 'hall', 'hallal', 'hallow', 'halloween', 'hallway', 'halten', 'halwah', 'ham', 'hamachi', 'hamam', 'hamburg', 'hamilton', 'hammer', 'hammi', 'hamswiss', 'hana', 'hand', 'handbag', 'handdown', 'handed', 'hander', 'handfulof', 'handgun', 'handi', 'handicap', 'handili', 'handl', 'handler', 'handmad', 'handout', 'handrail', 'handrol', 'handschlag', 'handshak', 'handsom', 'handwritten', 'handyman', 'hang', 'hanger', 'hangout', 'hangov', 'hangri', 'hangup', 'hank', 'hanki', 'hannah', 'hanni', 'haphazardli', 'hapless', 'happen', 'happi', 'happili', 'happyhour', 'happyhourspeci', 'happyhousewif', 'happyland', 'har', 'harass', 'hard', 'harder', 'hardest', 'hardli', 'hardlyani', 'hardscap', 'hardwood', 'hardwork', 'harem', 'harken', 'harkin', 'harley', 'harm', 'harmless', 'harmoni', 'harnest', 'harp', 'harrah', 'harri', 'harrisson', 'harsh', 'harshli', 'hartington', 'harvard', 'harvest', 'hash', 'hashbrown', 'hassl', 'hassleresearch', 'hast', 'hasti', 'hastili', 'hat', 'hate', 'hater', 'hatr', 'hatt', 'hatten', 'hau', 'haul', 'haunt', 'haupgang', 'hauptgang', 'hauptspeisen', 'hauswein', 'havana', 'havenoidea', 'havnt', 'haw', 'hawaii', 'hawaiian', 'hawaiiankorean', 'hawk', 'hawthorn', 'hayat', 'haymarket', 'hazard', 'hazelnut', 'hbf', 'hd', 'head', 'headach', 'headboard', 'headless', 'headlight', 'headlin', 'headphon', 'headscalp', 'heal', 'healer', 'health', 'healthcar', 'healthi', 'healthier', 'heap', 'hear', 'hearabout', 'heard', 'heart', 'heartbeat', 'heartburn', 'heartedli', 'heartfelt', 'hearthston', 'hearti', 'heat', 'heater', 'heath', 'heather', 'heaven', 'heavenli', 'heavi', 'heavili', 'hebrew', 'heck', 'hectic', 'hector', 'heed', 'heel', 'hefeweizen', 'hefti', 'height', 'heineken', 'heinz', 'heirloom', 'heißer', 'heißt', 'hek', 'helen', 'hell', 'hellllll', 'hello', 'helluva', 'helmet', 'help', 'helperbuss', 'helpful', 'hem', 'hemingway', 'hemispher', 'hen', 'henderson', 'hendersongreen', 'hendo', 'henna', 'hennessi', 'henri', 'hensley', 'herald', 'herb', 'herbal', 'herbi', 'herbivor', 'herenot', 'heretwic', 'heritag', 'hero', 'herren', 'herringbon', 'hershey', 'hervorragend', 'hervorragenden', 'hervorzuheben', 'herz', 'herzhaft', 'herzlich', 'hesap', 'hesh', 'hesit', 'heuer', 'heur', 'heuvo', 'hey', 'heya', 'heyman', 'hh', 'hi', 'hibachi', 'hibiscu', 'hiccup', 'hid', 'hidden', 'hiddengem', 'hide', 'hideous', 'hier', 'hierarchi', 'higer', 'high', 'highchair', 'highend', 'higher', 'highest', 'highexpect', 'highjack', 'highland', 'highli', 'highlight', 'highlyrecommend', 'highlyrecommendthisplac', 'highlysuggest', 'highpric', 'highqual', 'highrat', 'hight', 'hightli', 'hightlight', 'highway', 'hiho', 'hike', 'hiker', 'hil', 'hilari', 'hilfreich', 'hill', 'hillcrest', 'hillebrand', 'hillsid', 'hilt', 'hilton', 'himher', 'hin', 'hinausgeschlendert', 'hind', 'hinder', 'hinein', 'hing', 'hingehen', 'hingerichtet', 'hinojosa', 'hint', 'hintergründigem', 'hintof', 'hip', 'hiphop', 'hippi', 'hipster', 'hire', 'hiro', 'hispan', 'hiss', 'hissho', 'histor', 'histori', 'hit', 'hitchhik', 'hj', 'hk', 'hm', 'hmm', 'hmmmmm', 'ho', 'hoa', 'hoagi', 'hoard', 'hoars', 'hobbi', 'hobbykoch', 'hoc', 'hoch', 'hochpreisig', 'hochzulaufen', 'hockey', 'hodg', 'hodgepodg', 'hofbrauhau', 'hoff', 'hog', 'hogan', 'hogi', 'hogwart', 'hohem', 'hoist', 'hokem', 'hokey', 'hokkaido', 'hold', 'holder', 'holdtransferr', 'hole', 'holi', 'holiday', 'holist', 'hollandais', 'holli', 'hollywood', 'holstein', 'holt', 'holyfield', 'holyrood', 'homag', 'hombr', 'home', 'homebound', 'homeboy', 'homedepot', 'homefri', 'homeless', 'homemad', 'homeown', 'homer', 'homerun', 'homestyl', 'hometown', 'homewarranti', 'homework', 'homey', 'homi', 'homicid', 'homli', 'homogen', 'hon', 'honda', 'hondura', 'hone', 'honest', 'honesti', 'honestli', 'honey', 'honeycomb', 'honeymoon', 'hong', 'hongda', 'honk', 'honolua', 'honolulu', 'honor', 'honorari', 'hoo', 'hood', 'hoodi', 'hoof', 'hook', 'hookah', 'hooker', 'hookup', 'hoola', 'hoop', 'hooray', 'hoot', 'hooter', 'hootersesqu', 'hoover', 'hooverdam', 'hop', 'hope', 'hopia', 'hopp', 'hoppi', 'hoppin', 'hopr', 'hoprap', 'hoprapwhatev', 'hor', 'horchata', 'horiatiki', 'horizon', 'horlog', 'horn', 'horni', 'horrend', 'horribl', 'horriblecustomerservic', 'horrid', 'horrif', 'horrifi', 'horror', 'hors', 'horseback', 'horsepow', 'horseradish', 'horsesho', 'horton', 'horumon', 'hose', 'hospedamo', 'hospit', 'hospitali', 'hospitaliy', 'host', 'hostel', 'hostess', 'hostil', 'hot', 'hotcak', 'hotchocol', 'hotcold', 'hotdog', 'hotel', 'hotel32', 'hotelcasino', 'hotelscom', 'hoteltonighrcom', 'hothous', 'hotpot', 'hotsauc', 'hotspici', 'hotter', 'hottub', 'hotwat', 'hound', 'hour', 'hourif', 'hourlat', 'hourli', 'hourrevers', 'hourssh', 'hous', 'houseboba', 'household', 'housekeep', 'housem', 'houser', 'housewar', 'houston', 'houstonian', 'hover', 'howi', 'howmani', 'howmuch', 'hq', 'hr', 'hrh', 'hrlp', 'hsa', 'httpfineartamericacomfeaturedcherri', 'httplocalvegasdealscomcoffe', 'httpsmallhandfoodscomrecip', 'httpstaticpxyelpcombphotohxavt8xse4wmbzss', 'httpsyoutubei0vspewcmx4', 'httpwwwcbsnewscomnewsluxottica', 'httpwwwclevelandcomdiningindexssf201509playersonmadisontocloseochtml', 'httpwwwcpkcommenuappet', 'httpwwwdavidsteacom', 'httpwwwdxorg', 'httpwwwparislasvegascomcontentdamplvdiningupscalegordon20ramsay2014springdessert', 'httpwwwparislasvegascomcontentdamplvdiningupscalegordon20ramsaygordon20ramsaypari', 'httpwwwstevestrongmancom', 'httpwwwyelpcombizchina', 'httpwwwyelpcombizphotosf6rzdgytqfjs9sqc6bv81wselect', 'httpwwwyelpcombizphotosla', 'hub', 'hubbi', 'hubbl', 'hubbub', 'hubert', 'hudson', 'hue', 'huevo', 'huey', 'huff', 'huffi', 'huffman', 'hug', 'huge', 'hugefan', 'hugefanof', 'hugeport', 'hugeselect', 'hugh', 'huh', 'hulk', 'humain', 'human', 'humbl', 'humid', 'humidifi', 'humil', 'humili', 'humma', 'hummou', 'hummu', 'hummusguacamol', 'humong', 'humongotron', 'humor', 'humour', 'humu', 'humung', 'hung', 'hunger', 'hungeri', 'hungov', 'hungri', 'hungryhous', 'hunk', 'hunt', 'hunter', 'huntersvil', 'huntington', 'hurri', 'hurrican', 'hurt', 'husband', 'hush', 'hussong', 'hustl', 'hut', 'huuug', 'huuugggee', 'hvac', 'hwi', 'hyatt', 'hybrid', 'hyde', 'hyderabad', 'hydrat', 'hydrocar', 'hyena', 'hygien', 'hygienist', 'hype', 'hyper', 'hypertens', 'hypocrit', 'hypothermia', 'hypothes', 'hyundai', 'hyungneem', 'há', 'händchen', 'hätte', 'höher', 'i0', 'i10', 'i85', 'ian', 'ibarra', 'ibrahim', 'ibuprofen', 'ic', 'ice', 'iceberg', 'icecold', 'icecream', 'icedtea', 'iceeslurpeesnowpup', 'icetea', 'ich', 'ichiriki', 'ichiza', 'ici', 'iciou', 'icki', 'icon', 'icream', 'icu', 'id', 'idea', 'ideal', 'ident', 'identifi', 'idiot', 'idk', 'idol', 'ie', 'ifocu', 'ifu', 'ig', 'igi', 'ignor', 'ihalo', 'ihih', 'ihop', 'ihrem', 'ii', 'iiciou', 'iii', 'ika', 'ikamaki', 'ikamakifish', 'ikura', 'il', 'ill', 'illb', 'illeg', 'illi', 'illinoi', 'illiter', 'illus', 'illustr', 'im', 'imag', 'imagin', 'imax', 'imho', 'imit', 'immacul', 'immatur', 'immedi', 'immens', 'immer', 'immigr', 'immit', 'immitateur', 'immortel', 'immpecc', 'immun', 'imo', 'impact', 'impala', 'impasto', 'impati', 'impecc', 'imped', 'impend', 'imperson', 'implant', 'implement', 'impli', 'implicitli', 'impolit', 'imporov', 'import', 'importantli', 'imposs', 'impound', 'impress', 'impressedbi', 'impressedwith', 'imprint', 'impromptu', 'improp', 'improv', 'impur', 'in', 'inabl', 'inaccur', 'inaccuraci', 'inact', 'inaddit', 'inadequ', 'inadv', 'inappropri', 'inattent', 'inaugur', 'inauthent', 'inbetween', 'inc', 'inca', 'incap', 'incarn', 'incas', 'incent', 'incentiviz', 'incessantli', 'inch', 'incharlott', 'inchin', 'incid', 'incident', 'incisor', 'inclin', 'incluant', 'includ', 'inclus', 'incoat', 'incom', 'incompet', 'incomplet', 'inconceiv', 'inconclus', 'incongru', 'inconsider', 'inconsist', 'inconveni', 'incorpor', 'incorrect', 'incorrectli', 'increas', 'increasingli', 'incred', 'incredul', 'increment', 'increíbl', 'incrível', 'incur', 'indec', 'indecis', 'indefinit', 'independ', 'indi', 'india', 'indian', 'indianfood', 'indic', 'indico', 'indiffer', 'indigo', 'indish', 'individu', 'indo', 'indonesia', 'indoor', 'induc', 'inductor', 'indulg', 'industri', 'industrialmoderm', 'industriegebiet', 'ined', 'inevit', 'inexpens', 'infact', 'infam', 'infant', 'infarct', 'infect', 'inferior', 'infest', 'infiltr', 'infin', 'inflam', 'inflat', 'influenc', 'info', 'infomerci', 'inform', 'infrequ', 'infront', 'infus', 'ingeni', 'ingenu', 'ingest', 'ingredi', 'ingredientsmor', 'ingress', 'inhaberfamili', 'inhad', 'inhal', 'init', 'initi', 'initié', 'inject', 'injector', 'injera', 'injur', 'injuri', 'ink', 'inki', 'inkl', 'inklus', 'inland', 'inlaw', 'inmontr', 'inn', 'innard', 'innen', 'inner', 'innexpens', 'innoc', 'innocu', 'innout', 'innov', 'inordin', 'inout', 'inphoenix', 'inpittsburgh', 'input', 'inquir', 'inquiri', 'inred', 'insan', 'insati', 'insatisfact', 'insaugacom', 'inse', 'insert', 'insgesamt', 'insid', 'insideout', 'insight', 'insignific', 'insist', 'inspect', 'inspector', 'inspir', 'inspirieren', 'instabl', 'instagram', 'instal', 'instanc', 'instant', 'instantli', 'instead', 'insteadof', 'instil', 'institut', 'instruct', 'instructor', 'instrument', 'insuffici', 'insult', 'insur', 'insurancecompani', 'intak', 'intang', 'integr', 'integra', 'intel', 'intellectu', 'intellig', 'intend', 'intens', 'intensiv', 'intenstin', 'intent', 'inter', 'interac', 'interact', 'interessant', 'interest', 'interestedin', 'interestingli', 'interfac', 'interfer', 'interior', 'interject', 'interm', 'intern', 'international', 'internationalproducewin', 'internet', 'interpret', 'interrupt', 'intersect', 'intertwin', 'intervalomet', 'interven', 'interview', 'interviewe', 'intestin', 'inthey', 'intim', 'intimid', 'intoler', 'intoronto', 'intown', 'intox', 'intrest', 'intrigu', 'intro', 'introduc', 'introduct', 'introductori', 'intrud', 'intrus', 'intuit', 'intéress', 'intéressant', 'inutil', 'inutilesrib', 'invalu', 'invas', 'invega', 'invent', 'inventori', 'invest', 'investig', 'invigor', 'invis', 'invit', 'invoic', 'involv', 'inwhen', 'iol', 'ion', 'iowa', 'ip', 'ipa', 'ipad', 'iphon', 'ipod', 'ippudo', 'irat', 'ireland', 'iren', 'irepairca', 'irgendwann', 'irish', 'irishmen', 'irk', 'irma', 'iron', 'irrelev', 'irrespons', 'irrever', 'irrit', 'irv', 'irwin', 'isabel', 'ish', 'isl', 'island', 'isnt', 'isra', 'israel', 'isshin', 'issu', 'ist', 'istanbul', 'iswa', 'itali', 'italia', 'italian', 'italianbeef', 'italianfood', 'italiano', 'italianrestaur', 'italien', 'italienisch', 'italienischem', 'itch', 'item', 'itemupmarket', 'iter', 'ith', 'itif', 'itinerari', 'itne', 'itt', 'itti', 'iu', 'iv', 'ive', 'ivi', 'ivori', 'ixtapa', 'iz', 'izakaya', 'için', 'j', 'ja', 'jab', 'jabbawocke', 'jabbawockeez', 'jack', 'jackastor', 'jacket', 'jackfruit', 'jackhamm', 'jacki', 'jackpot', 'jackson', 'jacob', 'jacuzzi', 'jade', 'jador', 'jag', 'jagerschnitzel', 'jahr', 'jai', 'jail', 'jaim', 'jaipur', 'jajangmyeon', 'jake', 'jalapeno', 'jalapeño', 'jalbert', 'jalepeno', 'jalepeño', 'jam', 'jamai', 'jamaica', 'jamaican', 'jamb', 'jamba', 'jambalaya', 'jambon', 'jame', 'jameson', 'jami', 'jamjelli', 'jammern', 'jampreserf', 'jan', 'jane', 'januari', 'jap', 'japan', 'japanes', 'japanesecurri', 'japanesethaichines', 'japango', 'jar', 'jare', 'jarrito', 'jasmin', 'jason', 'jasonsd', 'java', 'jaw', 'jay', 'jazz', 'jazzblu', 'jbc', 'jbond', 'jc', 'jcp', 'jd', 'je', 'jealou', 'jean', 'jeanni', 'jed', 'jeden', 'jedenfal', 'jeder', 'jederzeit', 'jedesm', 'jedoch', 'jeep', 'jeesh', 'jeez', 'jefe', 'jeff', 'jefferi', 'jelli', 'jello', 'jem', 'jemima', 'jen', 'jenga', 'jenna', 'jenni', 'jennif', 'jeremi', 'jerk', 'jerkchicken', 'jerkey', 'jerki', 'jerom', 'jerri', 'jersey', 'jessi', 'jessica', 'jest', 'jesu', 'jet', 'jetsett', 'jetson', 'jewel', 'jeweleri', 'jewelleri', 'jewelri', 'jewelryaccessori', 'jewish', 'jewler', 'jicama', 'jiffi', 'jiga', 'jiggl', 'jim', 'jimi', 'jimmi', 'jinga', 'jingl', 'jipp', 'jitb', 'jjanga', 'jjim', 'jk', 'jm', 'jo', 'joan', 'joanna', 'joanni', 'job', 'joblif', 'jobot', 'jocelyn', 'joe', 'joel', 'joey', 'johan', 'john', 'johnni', 'johnson', 'join', 'joint', 'jojo', 'joke', 'joker', 'jokingli', 'joli', 'jolla', 'jolli', 'jon', 'jonathan', 'jone', 'joni', 'jonni', 'jordan', 'jorden', 'jorg', 'joseph', 'josh', 'josi', 'jots9yz0uvmebtt4isp3sw', 'jour', 'journal', 'journey', 'jovial', 'jowl', 'joy', 'joyrid', 'jp', 'jr', 'jsui', 'ju', 'juan', 'juana', 'jubile', 'judd', 'judg', 'judgement', 'judgment', 'jug', 'juggler', 'juic', 'juici', 'juicier', 'juke', 'jukebox', 'jule', 'juli', 'julia', 'jumbo', 'jumbotron', 'jump', 'jumpi', 'jumpin', 'junction', 'june', 'jungl', 'junior', 'junk', 'junkfood', 'junki', 'jusquaux', 'jusquà', 'just', 'justic', 'justif', 'justifi', 'justin', 'justli', 'justplain', 'jw', 'jy', 'jyo', 'jysk', 'jährlich', 'jétai', 'k', 'k3e397andzm0ebmowrehg', 'ka', 'kabab', 'kabano', 'kabob', 'kabocha', 'kaboom', 'kabuki', 'kachang', 'kachop', 'kaffe', 'kahlua', 'kahvaltı', 'kai', 'kaiser', 'kaki', 'kakiag', 'kaku', 'kala', 'kalamata', 'kalbi', 'kale', 'kaleigh', 'kalt', 'kam', 'kama', 'kamikaz', 'kamin', 'kamm', 'kanelo', 'kangaroo', 'kani', 'kaninchen', 'kann', 'kannapoli', 'kansa', 'kantin', 'kao', 'kaow', 'kaplan', 'kara', 'karaag', 'karaok', 'karben', 'kardash', 'kardashian', 'kare', 'karen', 'kareok', 'kari', 'karin', 'karmi', 'karok', 'kart', 'kartoffelscheiben', 'kase', 'kashuk', 'kass', 'kat', 'katana', 'katastroph', 'kate', 'kathi', 'kati', 'katsu', 'katsuya', 'katz', 'kaufen', 'kaum', 'kawaii', 'kawartha', 'kay', 'kayak', 'kayleigh', 'kaylor', 'kb', 'kbbq', 'kc', 'kealon', 'kebab', 'kee', 'keen', 'keep', 'keeper', 'keepsak', 'keeptrack', 'keepup', 'keffer', 'keg', 'kein', 'keinen', 'keinesweg', 'keisha', 'keith', 'keller', 'kelli', 'kellner', 'kelsey', 'ken', 'kendal', 'kendra', 'kendrick', 'kenmor', 'kennedi', 'kennel', 'kenni', 'keno', 'kensington', 'kent', 'kenya', 'kenyanna', 'kenzi', 'kept', 'kerastas', 'keratin', 'keri', 'kermit', 'ketchup', 'ketchupi', 'ketchupmustardonion', 'ketel', 'kettl', 'keurig', 'kevin', 'key', 'keychain', 'kfc', 'kfci', 'kgb', 'khale', 'khao', 'khinkali', 'khmer', 'kho', 'kia', 'kiara', 'kicho', 'kick', 'kickbox', 'kicker', 'kickin', 'kid', 'kiddi', 'kiddo', 'kidney', 'kidsfamili', 'kielbasa', 'kielburg', 'kierland', 'kijiji', 'kiki', 'kilcooli', 'kilkenni', 'kill', 'killer', 'killin', 'kilometr', 'kilt', 'kiltlift', 'kim', 'kimchi', 'kimchijigga', 'kimi', 'kimono', 'kimpton', 'kind', 'kinda', 'kinder', 'kindergarten', 'kindern', 'kindli', 'kindof', 'kine', 'king', 'kingdom', 'kingdufferin', 'kink', 'kinka', 'kinosaäl', 'kintaro', 'kinton', 'kiosk', 'kirin', 'kisra', 'kiss', 'kit', 'kitchen', 'kitchenett', 'kitchensink', 'kitschi', 'kitten', 'kitti', 'kiwali', 'kiwi', 'kişi', 'kj', 'klamotten', 'klass', 'klassisch', 'klatch', 'klau', 'klavierspiel', 'kleenex', 'klein', 'kleinen', 'kleinod', 'klumpen', 'km', 'kmart', 'kmbaaechfwhnwgfcihc2na', 'kn', 'knack', 'kneader', 'knee', 'kneip', 'knew', 'knick', 'knickknack', 'knife', 'knight', 'knit', 'knoblauchaioli', 'knock', 'knockoff', 'knot', 'know', 'knowexactli', 'knowexactlywhat', 'knowhow', 'knowledg', 'knowledgeableabout', 'knowledgebl', 'knowwhat', 'knowwhi', 'knuckl', 'kobe', 'koch', 'kocht', 'koffe', 'kofta', 'kohler', 'koi', 'kokomo', 'kolsch', 'kombin', 'komm', 'komman', 'kommen', 'kommt', 'komoboko', 'kompet', 'kompetent', 'komplett', 'komponenten', 'kong', 'konnten', 'konpa', 'kontakt', 'konzept', 'konzert', 'kooki', 'kool', 'koran', 'korea', 'korean', 'koreanbbq', 'koreanfood', 'koreanrestaur', 'koreatown', 'korma', 'koro', 'kosher', 'koval', 'kozlik', 'kraag', 'krabbenpast', 'krack', 'kraft', 'kratzig', 'krautsalat', 'kreme', 'kri', 'krispi', 'krissi', 'krista', 'kristen', 'kristi', 'kritiken', 'krolaa', 'kronprinzen', 'kroup', 'krulak', 'krump', 'krunch', 'ktnv', 'ktx', 'kua', 'kuchen', 'kudo', 'kultfaktor', 'kultiviert', 'kulturgut', 'kumamoto', 'kumquat', 'kunden', 'kundin', 'kungpao', 'kunn', 'kurtarıcı', 'kurz', 'kurzem', 'kushi', 'kutsu', 'kuy', 'kw', 'kyle', 'kyli', 'kytchen', 'kà', 'käse', 'käsefondu', 'kässpätzle', 'köchin', 'können', 'könnte', 'körbchen', 'köstlich', 'küche', 'kühl', 'l', 'la', 'lab', 'labad', 'label', 'labor', 'labyrinth', 'lacart', 'lace', 'lack', 'lackey', 'lacklust', 'lackof', 'lacma', 'lacquer', 'lacric', 'lactat', 'lacto', 'lactos', 'lad', 'ladder', 'laden', 'ladengeschäft', 'ladera', 'ladi', 'ladywho', 'lafe', 'laffa', 'lafit', 'lag', 'lage', 'lager', 'lagoon', 'lagrang', 'laid', 'laissent', 'lajolla', 'lake', 'lakesid', 'lakewood', 'lala', 'laloux', 'lamar', 'lamb', 'lambianc', 'lambo', 'lamborghini', 'lame', 'lamin', 'laminatetil', 'lamm', 'lamo', 'lamp', 'lan', 'lanc', 'land', 'landeten', 'landlord', 'landmark', 'landscap', 'lane', 'lang', 'langford', 'languag', 'languagecultur', 'lanski', 'lanzhou', 'lao', 'lap', 'lapaz', 'lapoint', 'lappert', 'laps', 'laptop', 'laptopfre', 'laquel', 'larb', 'lardo', 'larg', 'largegroup', 'largeparti', 'largeport', 'largeselect', 'lark', 'larri', 'larwrencevil', 'las20vega', 'lasagn', 'lasagna', 'laser', 'lash', 'lass', 'lassen', 'lassi', 'lassiett', 'last', 'lastli', 'lastminut', 'lastnight', 'lasttim', 'lastvisit', 'lastweek', 'lastweekend', 'lastyear', 'lasvega', 'lasvegaslp', 'latali', 'late', 'lateli', 'latenight', 'later', 'latethen', 'latin', 'latino', 'latk', 'latoya', 'latt', 'lattent', 'laugh', 'laughabl', 'laughter', 'launch', 'launder', 'laundri', 'laundromat', 'laura', 'lauren', 'laurenc', 'laut', 'lautr', 'lava', 'laval', 'lavend', 'lavish', 'law', 'lawd', 'lawn', 'lawrenc', 'lawrencevil', 'lawson', 'lawsordin', 'lawsuit', 'lawyer', 'lax', 'lay', 'layant', 'layaway', 'layback', 'layer', 'layout', 'layoutspac', 'layov', 'lazer', 'lazi', 'lb', 'lbe', 'lcbo', 'lcd', 'le', 'lead', 'leader', 'leaf', 'leagu', 'leah', 'leak', 'leaki', 'lean', 'leanna', 'leap', 'leari', 'learn', 'leas', 'leash', 'least', 'leather', 'leathercraft', 'leav', 'lebanes', 'lebanon', 'lebensmitteln', 'lech', 'lechon', 'lecker', 'leckeren', 'lectur', 'led', 'lederhosen', 'ledg', 'lee', 'leeav', 'leek', 'leeri', 'left', 'leftno', 'leftov', 'leg', 'legal', 'legend', 'legendari', 'legibl', 'legit', 'legitim', 'lego', 'leider', 'leinenkugel', 'leini', 'leinwand', 'leistung', 'leistungsverhältni', 'leisur', 'leith', 'lemon', 'lemonad', 'lemonaid', 'lemongrass', 'lemongrassi', 'lemoni', 'len', 'lend', 'lender', 'lendroit', 'length', 'lengthi', 'lengua', 'lenni', 'lensembl', 'lenta', 'lentend', 'lentil', 'lentilsoup', 'lentract', 'lentré', 'leo', 'lesle', 'lesli', 'lessexpens', 'lesson', 'lessthan', 'let', 'letalon', 'letdown', 'leticia', 'letter', 'letti', 'lettuc', 'letzten', 'letzter', 'leur', 'leut', 'level', 'lever', 'leverett', 'levi', 'lew', 'lewd', 'lewi', 'lewin', 'lexi', 'lextérieur', 'lexu', 'lg', 'lgo', 'lhabitud', 'lheur', 'lhoneurl', 'lhôte', 'li', 'liabil', 'liabl', 'liar', 'libat', 'liber', 'liberti', 'libevol', 'libr', 'librari', 'lice', 'licens', 'liciou', 'lick', 'licker', 'licketi', 'licoric', 'lid', 'lidl', 'lie', 'lieb', 'lieber', 'lieblingskneip', 'lieblingsläden', 'liegt', 'lieu', 'ließen', 'life', 'lifeguard', 'lifestyl', 'lifetim', 'lift', 'liftsmov', 'light', 'lighten', 'lighter', 'lightli', 'lightn', 'lightrail', 'lightweight', 'like', 'like30', 'liken', 'likewis', 'lil', 'lilac', 'lima', 'limb', 'limber', 'lime', 'limeaid', 'limeging', 'limey', 'limit', 'limitedli', 'limo', 'limoncello', 'limousin', 'limp', 'limpérial', 'limu', 'lincoln', 'linda', 'lindsey', 'lindstrom', 'line', 'linen', 'liner', 'lineup', 'linger', 'lingeri', 'linguin', 'linguini', 'link', 'linkliteratur', 'linner', 'linq', 'lion', 'lionel', 'lioness', 'lip', 'lipstick', 'liquid', 'liquor', 'lisa', 'list', 'listen', 'lit', 'lite', 'liter', 'literalment', 'literatur', 'litl', 'litter', 'littl', 'littlebit', 'littlegem', 'littlepricey', 'littleprici', 'littler', 'littlll', 'litttti', 'liu', 'live', 'livemus', 'liven', 'liver', 'livid', 'liz', 'lizard', 'lizel', 'llav', 'llc', 'lloy', 'lloyd', 'lm', 'lmao', 'lmfao', 'lo', 'load', 'loaf', 'loan', 'loaner', 'loath', 'lob', 'lobbi', 'lobbyist', 'lobe', 'lobster', 'lobsterbisqu', 'lobsterrol', 'loca', 'local', 'localbusi', 'locallyown', 'locanda', 'locat', 'locavor', 'loccas', 'loch', 'lock', 'lockabl', 'locker', 'lockerroom', 'locksmith', 'loco', 'lodg', 'loft', 'lofti', 'log', 'logan', 'loger', 'logic', 'logisch', 'logo', 'lohnt', 'loin', 'loiter', 'lokal', 'lokalen', 'lol', 'loll', 'lolli', 'lollipop', 'lollypop', 'loma', 'lombardi', 'lomein', 'lomi', 'london', 'lone', 'long', 'longer', 'longest', 'longev', 'longhorn', 'longleg', 'longlin', 'longterm', 'longtim', 'longwait', 'loo', 'look', 'lookforward', 'lookforwardto', 'looklik', 'lookout', 'looni', 'looong', 'looooong', 'looov', 'loop', 'loophol', 'loos', 'loosen', 'loov', 'lope', 'lopsid', 'lor', 'lora', 'lorain', 'lord', 'loreal', 'lorenz', 'lori', 'loriginalité', 'lorio', 'lorrain', 'losangel', 'lose', 'loser', 'loss', 'lost', 'lot', 'lotion', 'lotmor', 'lotof', 'lotoffun', 'lotteri', 'lotu', 'lou', 'loud', 'louder', 'loudli', 'loudspeak', 'loui', 'louisiana', 'louisianian', 'louissusan', 'loukmad', 'loung', 'lousi', 'love', 'loveand', 'lovecrumb', 'lover', 'lovethisplac', 'low', 'lowbal', 'lowdown', 'lower', 'lowpric', 'lox', 'loyal', 'loyalcustom', 'loyalti', 'lozeng', 'lp', 'lster', 'lu', 'lube', 'luc', 'luca', 'lucha', 'luci', 'luciano', 'lucid', 'luck', 'lucki', 'luckili', 'luckyenough', 'ludicr', 'luera', 'lug', 'lugar', 'luggag', 'lui', 'lujoso', 'luke', 'lukewarm', 'lululemon', 'lumberjack', 'lumin', 'lump', 'lumpia', 'luna', 'lunch', 'lunchabl', 'lunchbox', 'lunchbrunch', 'lunchdinn', 'lunchearli', 'luncheon', 'lunchspeci', 'lunchtim', 'lung', 'lupi', 'lupita', 'lure', 'lurou', 'luscious', 'lush', 'lusin', 'lust', 'luster', 'luv', 'lux', 'luxor', 'luxoticca', 'luxottica', 'luxuri', 'luxuriousnew', 'lv', 'lvac', 'lvc', 'ly', 'lyche', 'lynch', 'lynn', 'là', 'lädt', 'längerem', 'légume', 'lépoqu', 'lîle', 'm2', 'm3', 'ma', 'maaaaaan', 'mabu', 'mac', 'macadamia', 'macaron', 'macaroni', 'macaroon', 'macayo', 'macchees', 'macchiato', 'macey', 'macha', 'machen', 'machin', 'machina', 'machinevend', 'macht', 'maci', 'macker', 'mackerel', 'macnchees', 'macpro', 'macrobrew', 'macron', 'mad', 'madam', 'madden', 'maddi', 'madelein', 'madeout', 'maderehtml', 'madison', 'madonna', 'madreidra', 'maduro', 'maestro', 'mafia', 'mag', 'magarita', 'magazin', 'magda', 'maggiano', 'magic', 'magician', 'magicmag', 'magiqu', 'magnific', 'magnitud', 'magnolia', 'magnum', 'magurita', 'mahi', 'mahogani', 'mai', 'maid', 'mail', 'mailbox', 'mailer', 'main', 'maincours', 'mainfram', 'mainland', 'mainli', 'mainlin', 'mainlybecaus', 'mainreason', 'mainstay', 'mainstream', 'maintain', 'mainten', 'maison', 'maitra', 'majest', 'major', 'majorityof', 'make', 'makeanappoint', 'makeov', 'maker', 'makesens', 'makesur', 'makeup', 'makhani', 'maki', 'makin', 'makoto', 'mal', 'malai', 'malarkey', 'malay', 'malaysian', 'malbec', 'maldon', 'male', 'malfunct', 'malgré', 'malheureus', 'mali', 'malibu', 'malik', 'malissa', 'malkin', 'mall', 'malt', 'malvern', 'mam', 'mama', 'mamacita', 'mami', 'mamita', 'man', 'manag', 'manageri', 'managerown', 'managerwho', 'manahattan', 'manakish', 'manchen', 'manchmal', 'manchu', 'manchurian', 'mandalay', 'mandarin', 'mandat', 'mandatori', 'mandi', 'mandolin', 'mandu', 'maneuv', 'manger', 'mango', 'mangomango', 'manhattan', 'manhood', 'mani', 'maniac', 'manicur', 'manicurist', 'manikin', 'manila', 'manipedi', 'mankind', 'manli', 'mann', 'mannequin', 'manner', 'manni', 'manolo', 'manor', 'manqu', 'mansion', 'manual', 'manufactur', 'manychoic', 'manydiffer', 'manyopt', 'manyoth', 'manytim', 'manyyear', 'manzetti', 'mao', 'map', 'mapl', 'maplesyrup', 'mapo', 'mar', 'maragarita', 'marathon', 'maravilhoso', 'maravillosa', 'marazzi', 'marbl', 'marc', 'marca', 'marcella', 'march', 'marcher', 'marchmont', 'marché', 'marcu', 'marg', 'margarita', 'margherita', 'margret', 'mari', 'maria', 'marin', 'marinad', 'marinara', 'mario', 'marisol', 'marissa', 'marjo', 'mark', 'marker', 'market', 'marketplac', 'markham', 'markhamscarborough', 'markt', 'markup', 'marmalad', 'marni', 'marqu', 'marque', 'marrandino', 'marri', 'marriag', 'marriott', 'marrow', 'marsala', 'marsena', 'marsh', 'marshal', 'marshmallow', 'mart', 'marti', 'martial', 'martin', 'martina', 'martini', 'martinier', 'martino', 'marvel', 'marvista', 'maryland', 'masala', 'masaman', 'mascarpon', 'mash', 'masher', 'mashpotato', 'mashup', 'mask', 'mason', 'mass', 'massachusett', 'massag', 'massagereflexologywhatev', 'masseus', 'massiv', 'massivewhich', 'master', 'mastercard', 'masterchef', 'masteri', 'masterpiec', 'mastro', 'mat', 'mata', 'matador', 'match', 'matcha', 'matchbook', 'mate', 'materi', 'matern', 'math', 'mathieson', 'matienc', 'matin', 'matsuri', 'matt', 'matter', 'matterhorn', 'matthew', 'mattress', 'matur', 'matzah', 'matzo', 'matzoh', 'maudit', 'maui', 'maul', 'mauric', 'maurizio', 'mauvais', 'maw', 'max', 'maxim', 'maximalkapazität', 'maximum', 'maxwel', 'maxx', 'may', 'mayb', 'mayo', 'mayonnais', 'mayor', 'maz', 'mazada', 'mazda', 'maze', 'mba', 'mc', 'mcadam', 'mcbride', 'mccaffey', 'mccain', 'mccarren', 'mccarti', 'mcdonald', 'mcdoof', 'mcewan', 'mcgill', 'mcknight', 'mcmullan', 'mcramen', 'md', 'mdw', 'me820am', 'mead', 'meadow', 'meal', 'meali', 'mean', 'meander', 'meaning', 'meantim', 'measur', 'meat', 'meatbal', 'meati', 'meatloaf', 'meatpork', 'mecca', 'mechan', 'meck', 'mecklenburg', 'med', 'medal', 'medallion', 'medic', 'medicin', 'medina', 'mediocr', 'mediocrepoorli', 'medit', 'mediterranean', 'mediterraneangreek', 'medium', 'mediumrar', 'mediumwel', 'medley', 'mee', 'meech', 'meet', 'meetup', 'meg', 'mega', 'megaform', 'megan', 'megatron', 'meh', 'mehe', 'mehr', 'mehrmal', 'meilleur', 'mein', 'meinek', 'meinem', 'meinen', 'meiner', 'meint', 'meinung', 'meisten', 'mejor', 'mekong', 'mel', 'melancholi', 'melecia', 'melhor', 'melissa', 'mellow', 'melodi', 'melon', 'melt', 'meltdown', 'melti', 'meltin', 'member', 'membership', 'meme', 'memento', 'memo', 'memor', 'memorabilia', 'memorabillia', 'memori', 'memphi', 'men', 'menchi', 'mendi', 'mennonit', 'meno', 'menot', 'mensa', 'menswomen', 'mental', 'menthol', 'mention', 'mentor', 'menu', 'menuhard', 'menuitem', 'menuselect', 'meow', 'merc', 'merced', 'merch', 'merchandis', 'merchant', 'merci', 'mere', 'merengu', 'merg', 'meringu', 'merit', 'merlot', 'mermaid', 'merri', 'merz', 'mesa', 'mesh', 'mesmer', 'mess', 'messag', 'messaus', 'messeng', 'messestand', 'messi', 'messini', 'messup', 'mesures57pi', 'met', 'metal', 'metaphor', 'meter', 'meth', 'methink', 'method', 'meticul', 'metr', 'metro', 'metropolitan', 'metzger', 'meu', 'mex', 'mexcian', 'mexican', 'mexicana', 'mexicanfood', 'mexicano', 'mexicanrestaur', 'mexico', 'meyer', 'mezzetta', 'mgm', 'mgmgrand', 'mgmt', 'mgr', 'mi', 'mia', 'miami', 'mic', 'mich', 'michael', 'michel', 'michelada', 'michelin', 'michelle1009am', 'michelob', 'michgan', 'mickey', 'micki', 'micro', 'microbrew', 'microfib', 'microneedl', 'micropeel', 'microphon', 'microwav', 'mid', 'mida', 'midday', 'middl', 'middleburgparma', 'middleeastern', 'middleeasternfood', 'middleof', 'middleton', 'midi', 'midnight', 'midst', 'midval', 'midw', 'midway', 'midweek', 'midwest', 'midwestern', 'midwood', 'mieux', 'mif', 'mifflin', 'miga', 'mighti', 'mignon', 'mignonett', 'migrain', 'miguel', 'mike', 'mikey', 'mikroolaa', 'mild', 'mildli', 'mile', 'mileag', 'milf', 'militari', 'milk', 'milkier', 'milkshak', 'milktea', 'mill', 'millenni', 'miller', 'millier', 'millimet', 'million', 'milo', 'milpita', 'milwauke', 'mim', 'mimi', 'mimic', 'mimosa', 'min', 'minc', 'mincemeat', 'mind', 'mindblow', 'mindset', 'mineralwass', 'ming', 'mini', 'miniatur', 'minifridg', 'minim', 'minimalist', 'miniminiesspresso', 'minimum', 'minion', 'miniscul', 'minist', 'minitalia', 'minivan', 'minneapoli', 'minor', 'mint', 'minti', 'mintt', 'minu', 'minumum', 'minuscul', 'minut', 'minutelast', 'minutelat', 'minuten', 'mio', 'mir', 'miracl', 'miracul', 'mirag', 'miranda', 'mircopeel', 'mirror', 'misc', 'miscellan', 'miser', 'mishap', 'misheard', 'misinform', 'mislead', 'mismatch', 'miso', 'misogyni', 'misosoup', 'misplac', 'misquot', 'misrepres', 'misrepresent', 'miss', 'misshapen', 'mission', 'mississauga', 'mississippi', 'misspel', 'misswineohio', 'mist', 'mistak', 'mistaken', 'mistakenli', 'mister', 'misunderstand', 'misunderstood', 'misèrea', 'mit', 'mitarbeit', 'mitchel', 'mitnehmen', 'mittag', 'mittelmaß', 'mitten', 'mittlerweil', 'mitzunehman', 'mitzvah', 'mix', 'mixeddrink', 'mixer', 'mixto', 'mixtur', 'miyagi', 'miyuki', 'mize', 'mizestro', 'mizithra', 'mißtrauisch', 'mj', 'mjtgl', 'mlittl', 'mlk', 'mm', 'mma', 'mmm', 'mmmm', 'mmmmm', 'mmmmmm', 'mmmmmmmmmm', 'mmmmmmmmmmmeeeeeeeeaaaaaaaaatttttttt', 'mneh', 'mo', 'moar', 'mob', 'mobil', 'mobster', 'mocajet', 'mocha', 'mochaccino', 'mochi', 'mock', 'mocktail', 'moco', 'mod', 'mode', 'model', 'modem', 'moder', 'modern', 'modest', 'modestli', 'modif', 'modifi', 'modu', 'moe', 'mogadishu', 'mohawk', 'moi', 'moin', 'moinsen', 'moish', 'moison', 'moist', 'moistur', 'moiti', 'moitié', 'mojito', 'mojo', 'moki', 'molass', 'mold', 'moldi', 'mole', 'moli', 'molino', 'molis', 'molten', 'mom', 'momdoc', 'moment', 'momentan', 'momi', 'momma', 'mommi', 'momo', 'momocho', 'mon', 'mona', 'monaco', 'monarch', 'monarchi', 'monday', 'mondaynight', 'mondial', 'monetari', 'money', 'monger', 'mongolian', 'moni', 'monik', 'monitor', 'monkey', 'monocl', 'monogram', 'monopoli', 'monorail', 'monoton', 'monro', 'monroevil', 'monsieur', 'monster', 'monstros', 'mont', 'monta', 'montauk', 'monteal', 'montecarlo', 'month', 'monthago', 'monthli', 'montreal', 'montréal', 'montréalai', 'monument', 'moo', 'mood', 'moodi', 'moon', 'moosehead', 'mop', 'mope', 'moral', 'morceaux', 'mordecai', 'moreexpens', 'moreexpensivethan', 'morel', 'morelik', 'moreno', 'morethan', 'morgan', 'morgen', 'morn', 'morningearli', 'moron', 'morrissey', 'morsel', 'mortar', 'mortgag', 'morti', 'mortifi', 'morton', 'moscow', 'mose', 'mosqu', 'mosquito', 'mostacciolli', 'mostimport', 'mostimportantli', 'mostlik', 'mostlythai', 'mostpart', 'mostpeopl', 'mostpopular', 'mostrar', 'mostrec', 'motel', 'moth', 'mother', 'motherboard', 'motherinlaw', 'mothersday', 'mothership', 'motion', 'motiv', 'motley', 'moto', 'motor', 'motorcycl', 'motorist', 'motorway', 'mound', 'mount', 'mountain', 'mourn', 'mous', 'mouss', 'moussaka', 'moutab', 'mouth', 'mouthfeel', 'mouthful', 'mouthpiec', 'mouthwash', 'mouthwat', 'move', 'movement', 'mover', 'movi', 'mower', 'mozzarella', 'mozzerella', 'mp', 'mph', 'mr', 'ms', 'msg', 'msrp', 'mt', 'mtg', 'mth', 'much', 'muchmor', 'mucho', 'mud', 'muddi', 'muddl', 'muffig', 'muffin', 'mug', 'muggi', 'mugshot', 'muhammad', 'mui', 'muk', 'mule', 'muligtawnisp', 'mullet', 'multi', 'multicar', 'multicolor', 'multicours', 'multidimension', 'multipl', 'multipletim', 'multipoint', 'multipurpos', 'multitud', 'mum', 'mumbl', 'munch', 'munchi', 'munchkin', 'mundan', 'mundo', 'mung', 'municip', 'muoi', 'mural', 'murki', 'murphi', 'murray', 'muscheln', 'muscl', 'museum', 'mush', 'mushi', 'mushroom', 'music', 'musicgu', 'musician', 'musicien', 'musicplay', 'musicvideo', 'musik', 'musiqu', 'muskoka', 'muso', 'muss', 'mussel', 'musst', 'mustadmit', 'mustang', 'mustard', 'muster', 'musti', 'mustsay', 'muststop', 'musttri', 'musubi', 'mute', 'mutig', 'muttar', 'mutter', 'mutton', 'mutual', 'muuua', 'muy', 'muzak', 'muß', 'mvp', 'my4th', 'mybe', 'myerhoff', 'mykita', 'mykono', 'mysteri', 'mysti', 'mystic', 'mythic', 'myu', 'myvega', 'mächtig', 'mé', 'même', 'mì', 'möchte', 'möchten', 'mögen', 'n', 'n64', 'naan', 'nabeyaki', 'nach', 'nachdem', 'nachfragen', 'nachgefragt', 'nachgeschmack', 'nachgewogen', 'nachhinein', 'nachkommenden', 'nachmittag', 'nacho', 'nachtschwärmerzeiten', 'nacken', 'nada', 'nag', 'nai', 'nail', 'nailsalon', 'nailsens', 'nakamura', 'nake', 'nal', 'nala', 'nam', 'nama', 'namast', 'namecam', 'nameless', 'namen', 'namesak', 'nan', 'nana', 'nanci', 'nang', 'nap', 'napa', 'napervil', 'napkin', 'napl', 'napoleon', 'napolitan', 'narcissist', 'nari', 'narrow', 'nascar', 'nash', 'nashvil', 'nasi', 'nasti', 'nata', 'natali', 'natalia', 'nathan', 'nation', 'nativ', 'nattend', 'natur', 'naturalh', 'natürlich', 'naughti', 'nauseat', 'nauseou', 'navi', 'navig', 'nay', 'nazi', 'nba', 'nc', 'ncaa', 'nd', 'nduja', 'ne', 'neal', 'neapolitan', 'near', 'nearbi', 'nearest', 'nearli', 'neat', 'neatli', 'nebbiolo', 'nebenz', 'necess', 'necessari', 'necessarili', 'necessit', 'neck', 'necklac', 'neckshould', 'neckti', 'nectar', 'need', 'neededan', 'neededand', 'needl', 'needlesstosay', 'neg', 'negativereview', 'neglect', 'neglig', 'negoti', 'negroni', 'nehman', 'neic', 'neigbourhood', 'neighbor', 'neighborhood', 'neighborhoodish', 'neighborli', 'neighbourhood', 'neil', 'neiman', 'nelson', 'nem', 'nen', 'neon', 'neopolitan', 'nepali', 'nephew', 'nerd', 'nerv', 'nervou', 'nervousabout', 'ness', 'nestl', 'net', 'neta', 'netflix', 'nett', 'netten', 'nettl', 'network', 'networkingcustom', 'neu', 'neue', 'neuer', 'neugeboren', 'neuma', 'neurolog', 'neuropath', 'neuter', 'neutral', 'nevada', 'neverdisappoint', 'nevermind', 'nevi', 'nevr', 'new', 'newb', 'newbi', 'newborn', 'newcom', 'newfavorit', 'newington', 'newli', 'newmanag', 'newmarket', 'news', 'newspap', 'newsweek', 'newuniqu', 'newus', 'newyork', 'newyorknewyork', 'nextcar', 'nextday', 'nextdoor', 'nextmorn', 'nexttim', 'nextvisit', 'nh', 'nibbl', 'niblet', 'nice', 'nicelydecor', 'nicer', 'nicetouch', 'nich', 'nicht', 'nichtrauch', 'nick', 'nickel', 'nickelodeon', 'nicol', 'nicola', 'nie', 'niec', 'nielsen', 'nifti', 'nigeri', 'nigh', 'night', 'nightclub', 'nighter', 'nightli', 'nightlif', 'nightmar', 'nightmarish', 'nightsweekend', 'nighttim', 'nigiri', 'nike', 'nikki', 'nilli', 'niman', 'nimmt', 'nina', 'nineti', 'ninja', 'nintendo', 'niqu', 'nishikawa', 'nissan', 'nissian', 'nit', 'nite', 'nitpick', 'nitro', 'nitrogen', 'nitti', 'niveau', 'nix', 'nli', 'nm', 'no', 'noah', 'noapolog', 'nobl', 'noch', 'nochmal', 'nocomplaint', 'nod', 'noda', 'noddl', 'nodoubt', 'nofril', 'nog', 'noggin', 'noidea', 'noideawhat', 'noir', 'nois', 'noiselevel', 'noisett', 'noisi', 'nolong', 'nom', 'nomatt', 'nomatterwhat', 'nomin', 'nommé', 'non', 'nondescript', 'noneof', 'nonetheless', 'nonexist', 'nonrefund', 'nonsens', 'nonsmok', 'noob', 'noodl', 'noodlecat', 'noodlesoup', 'nook', 'noon', 'noooo', 'nooooo', 'nooooooooo', 'noor', 'nopal', 'nope', 'noproblem', 'nordstrom', 'noreason', 'nori', 'norm', 'normal', 'normalen', 'norman', 'norterra', 'north', 'northcarolina', 'northern', 'northlak', 'northscottsdal', 'northstar', 'northumbria', 'norwegian', 'nose', 'noseble', 'nosh', 'nostalg', 'nostrano', 'notabl', 'notam', 'notch', 'note', 'note37', 'notebook', 'noteworthi', 'notgowrong', 'noth', 'nothingels', 'nothingspeci', 'notic', 'notif', 'notifi', 'notion', 'noton', 'notoverli', 'notr', 'notsur', 'nou', 'nourish', 'nouveau', 'nov', 'nova', 'novak', 'novel', 'novelti', 'novemb', 'novic', 'novratan', 'nowaday', 'nowait', 'noxiou', 'npop', 'npr', 'ntb', 'nuanceless', 'nub', 'nude', 'nuestra', 'nuf', 'nuff', 'nugget', 'nuisanc', 'nuit', 'nuke', 'null', 'numb', 'number', 'numer', 'numero', 'numeroustim', 'numismat', 'nur', 'nurs', 'nursemed', 'nurseri', 'nust', 'nut', 'nutella', 'nutmagi', 'nutmeg', 'nutrit', 'nutriti', 'nutti', 'nutwlla', 'nv', 'nvp', 'nw', 'ny', 'nyc', 'nye', 'nyguyen', 'nyki', 'nyni', 'nyx', 'não', 'nähe', 'nämlich', 'nête', 'oak', 'oakland', 'oakley', 'oakmont', 'oasi', 'oat', 'oatmeal', 'ob', 'obedi', 'oberen', 'object', 'oblig', 'obliter', 'oblivi', 'obnoxi', 'obrien', 'obscen', 'obscur', 'obsequi', 'observ', 'obsess', 'obstacl', 'obtain', 'obviou', 'obvious', 'obviouslli', 'obwohl', 'obx', 'oc', 'ocatilla', 'occas', 'occasion', 'occasionsholidayscelebr', 'occup', 'occupi', 'occupé', 'occur', 'occurr', 'ocd', 'ocean', 'ocharley', 'oclock', 'oconn', 'oconnor', 'ocotillo', 'oct', 'octagon', 'octaviu', 'octob', 'octopu', 'octotillo', 'odc', 'odd', 'oddli', 'oden', 'oder', 'odi', 'odor', 'odysea', 'ofcours', 'ofenwarm', 'offal', 'offen', 'offenbar', 'offend', 'offenen', 'offens', 'offer', 'offert', 'offic', 'offici', 'offrir', 'offset', 'oft', 'often', 'oftown', 'og', 'oggi', 'ogl', 'oh', 'ohana', 'ohh', 'ohhh', 'ohhhh', 'ohio', 'ohjah', 'ohman', 'ohmi', 'ohwel', 'oignon', 'oil', 'oilchang', 'oili', 'oilier', 'oj', 'ok', 'okaayyyyyi', 'okay', 'okey', 'okinawa', 'okkervil', 'okra', 'oktoberfest', 'ola', 'olaplex', 'old', 'oldfashion', 'oldi', 'oldschool', 'oldskool', 'oldtown', 'ole', 'oliv', 'olivenholzbesteck', 'oliveoil', 'olli', 'olmst', 'olydeadlift', 'olymp', 'om', 'omaha', 'omakas', 'omb', 'omelet', 'omelett', 'omg', 'omggggggg', 'omgosh', 'omiss', 'omit', 'omlet', 'omlett', 'omni', 'omnia', 'omnivor', 'onceagain', 'oncom', 'ondrea', 'one', 'onec', 'onesalso', 'onesi', 'onestar', 'ongo', 'onich', 'onion', 'onioni', 'onionr', 'onionsoup', 'onki', 'onlin', 'onlycomplaint', 'onlydownsid', 'onlyreason', 'onlyth', 'onmonday', 'ono', 'onsit', 'ont', 'ontap', 'ontario', 'ontop', 'ontopof', 'onvac', 'onyelp', 'onzi', 'oo', 'ooey', 'ooh', 'oolong', 'ooma', 'oomf', 'ooo', 'oop', 'ooz', 'oozi', 'opa', 'open', 'open24', 'open24hour', 'oper', 'opera', 'operandi', 'opi', 'opiat', 'opinion', 'opportun', 'oppos', 'opposit', 'opt', 'optfor', 'optic', 'optim', 'optima', 'optimum', 'option', 'optometrist', 'oral', 'orang', 'orangead', 'orangechicken', 'orangejuic', 'orangensaft', 'oranyoth', 'orchard', 'orchestra', 'orchid', 'ordeal', 'order', 'orderli', 'ordert', 'ordinari', 'ordnung', 'ordr', 'ore', 'oregano', 'oregon', 'oren', 'oreo', 'organ', 'organisiert', 'orgeat', 'orgin', 'orida', 'orient', 'origin', 'originali', 'orlando', 'orlean', 'oropon', 'ort', 'ortho', 'orthodontist', 'orthoped', 'orzo', 'os', 'oscar', 'oso', 'ossington', 'osso', 'osé', 'otf', 'otherhand', 'otherreview', 'otherthan', 'otro', 'ottawa', 'otto', 'ou', 'oublié', 'ouch', 'ouff', 'ought', 'oui', 'ouin', 'ounc', 'out5', 'outback', 'outcom', 'outdat', 'outdoor', 'outdoormal', 'outdoorpatio', 'outdoors', 'outer', 'outfit', 'outgo', 'outhard', 'outing', 'outlet', 'outli', 'outlin', 'outlook', 'outnumb', 'outpick', 'outpost', 'outrag', 'outright', 'outrun', 'outsd', 'outsid', 'outskirt', 'outstand', 'outstandingli', 'outta', 'outward', 'outweigh', 'ouuhh', 'ouvert', 'ov', 'oval', 'oven', 'over', 'overabund', 'overal', 'overanhour', 'overbear', 'overbook', 'overcharg', 'overcom', 'overcook', 'overcrowd', 'overdo', 'overdon', 'overdos', 'overdu', 'overeat', 'overfil', 'overflow', 'overh', 'overhaul', 'overhead', 'overhear', 'overheard', 'overheat', 'overhyp', 'overindulg', 'overit', 'overjoy', 'overkil', 'overlap', 'overli', 'overload', 'overlook', 'overnight', 'overpay', 'overpow', 'overpoweringli', 'overpr', 'overpric', 'overprocess', 'overpronat', 'overr', 'overroast', 'overrun', 'overs', 'overse', 'oversea', 'overshadow', 'oversight', 'oversiz', 'overspend', 'overstaf', 'overstuff', 'overthink', 'overtip', 'overund', 'overus', 'overview', 'overwellm', 'overwhelm', 'overwork', 'ovo', 'ow', 'owe', 'owl', 'own', 'ownbusi', 'owner', 'ownerchef', 'ownerfound', 'ownermanag', 'ownermanagerstaff', 'owneroper', 'ownerown', 'ownership', 'ownershipmanag', 'oxid', 'oxnard', 'oxtail', 'oxygen', 'oyshi', 'oyst', 'oyster', 'oz', 'ozandra', 'ozgram', 'ozu', 'oä', 'où', 'p', 'p2', 'pa', 'paar', 'paav', 'pace', 'pachyderm', 'pacif', 'pacifi', 'pack', 'packag', 'packedsmallbor', 'packer', 'packet', 'pacman', 'paco', 'pad', 'paddi', 'padilla', 'padthai', 'paella', 'page', 'pagnang', 'pai', 'paid', 'paig', 'pain', 'painesvil', 'painless', 'painstakingli', 'paint', 'painter', 'pair', 'pajama', 'pak', 'pakistani', 'pakora', 'pal', 'palabok', 'palac', 'palacela', 'palai', 'palak', 'palat', 'palatschinken', 'palazo', 'palazzo', 'palc', 'pale', 'paleolith', 'palet', 'paletapopsicl', 'palett', 'pallet', 'pallett', 'palm', 'palmer', 'palo', 'paloma', 'palomino', 'palr', 'pam', 'pamper', 'pamphlet', 'pan', 'panang', 'pancak', 'pancer', 'pancetta', 'pancurak', 'panda', 'pandan', 'pandes', 'pane', 'paneer', 'panel', 'panera', 'pang', 'panic', 'panick', 'panini', 'pankcak', 'panki', 'panko', 'pankoora', 'panna', 'panné', 'panroast', 'pant', 'pao', 'papa', 'papaya', 'pape', 'paper', 'papersoap', 'paperwork', 'papiada', 'papier', 'pappadeaux', 'paprika', 'paprikash', 'paquet', 'par', 'para', 'parad', 'paradis', 'parador', 'paraleg', 'parallax', 'parallel', 'paramet', 'paraphernalia', 'parasit', 'parasol', 'paratha', 'parcel', 'parch', 'pardon', 'pardonnez', 'parent', 'parenthood', 'parfoi', 'pari', 'park', 'parkhau', 'parkinggarag', 'parkinglot', 'parkinson', 'parkn', 'parkpl', 'parkplatz', 'parkprom', 'parler', 'parlerai', 'parliament', 'parlor', 'parm', 'parma', 'parmesan', 'parmesean', 'parmi', 'parmigiana', 'parmigiano', 'parsley', 'partak', 'parti', 'partial', 'particip', 'particuallari', 'particular', 'particularli', 'particulièr', 'partier', 'partiesgirl', 'partit', 'partli', 'partner', 'partof', 'partridg', 'partyinggamblingsinn', 'pasadena', 'pasar', 'paso', 'pass', 'passabl', 'passag', 'passagieraufkomm', 'passant', 'passeng', 'passent', 'passer', 'passerbi', 'passez', 'passion', 'passionfruit', 'passon', 'passport', 'passt', 'passé', 'past', 'pasta', 'pastadish', 'pastel', 'pasteri', 'pasteur', 'pasti', 'pastor', 'pastrami', 'pastri', 'pastrycrumbl', 'pastsaturday', 'pastur', 'pat', 'patata', 'patch', 'pate', 'path', 'pathet', 'pati', 'patienc', 'patient', 'patientdoctor', 'patio', 'patisseri', 'patrick', 'patrik', 'patriot', 'patrol', 'patron', 'pattern', 'patterson', 'patti', 'pauciti', 'paul', 'paus', 'paver', 'pavilion', 'paw', 'pawn', 'pawnshop', 'pay', 'payard', 'payattent', 'paycash', 'paycheck', 'paygiv', 'payment', 'payn', 'payout', 'paypal', 'paypay', 'paysag', 'pb', 'pbjj', 'pbr', 'pc', 'pca', 'pcb', 'pcg', 'pcp', 'pd', 'pdx', 'pe', 'pea', 'peac', 'peach', 'peachymango', 'peak', 'peameal', 'peanut', 'peanutbutt', 'peanutsauc', 'pear', 'pearl', 'pearli', 'pearson', 'peaunut', 'pebbl', 'pecan', 'peck', 'peckish', 'pedal', 'peddl', 'pedestrian', 'pedi', 'pediatrician', 'pedicur', 'pedigre', 'pedimani', 'pedimo', 'pedir', 'pee', 'peed', 'peek', 'peel', 'peelham', 'peep', 'peer', 'peev', 'peg', 'pegado', 'peggi', 'pei', 'pen', 'penalti', 'pencil', 'pend', 'pendul', 'penguin', 'peni', 'penn', 'penni', 'pennsylvania', 'pens', 'pensk', 'pentagon', 'penthous', 'peopl', 'peoplewho', 'peoria', 'pep', 'pepe', 'pepefusili', 'peper', 'pepper', 'peppercorn', 'pepperi', 'peppermint', 'peppermintcooki', 'pepperocini', 'pepperoncini', 'pepperoni', 'pepsi', 'pepto', 'perceiv', 'percent', 'percept', 'perch', 'perdu', 'perfecli', 'perfect', 'perfection', 'perfectionist', 'perfectli', 'perfectlycook', 'perfecto', 'perfeeeeect', 'perfekt', 'perform', 'perfum', 'perfunctori', 'pergo', 'pergola', 'perimet', 'period', 'perk', 'perki', 'perkup', 'perm', 'perman', 'permanent', 'permet', 'permiss', 'permit', 'pero', 'perogi', 'perperson', 'perpetu', 'perplex', 'perri', 'perrot', 'persian', 'persimmon', 'persist', 'persisten', 'person', 'personalfavorit', 'personn', 'personnel', 'personwho', 'perspect', 'persuad', 'persuas', 'pertain', 'perturb', 'perus', 'peruvian', 'pescado', 'pescatarian', 'peski', 'pest', 'pester', 'pesto', 'pet', 'petal', 'pete', 'peter', 'petit', 'petrifi', 'petsmart', 'peu', 'peugeot', 'peut', 'peuvent', 'pf', 'pfefferrostbraten', 'pfeffersoss', 'pfeiffer', 'pfft', 'pfiferling', 'pfiferlingsoß', 'pflaumenkuchen', 'pg', 'pgh', 'ph', 'pha', 'pharmaci', 'pharmacist', 'phase', 'phd', 'phenomen', 'phil', 'philadelphia', 'philipp', 'philippin', 'philli', 'phillip', 'philosophi', 'philpott', 'pho', 'phobia', 'phoenician', 'phoenix', 'phoenixscottsdal', 'phonalysi', 'phonat', 'phone', 'phonecal', 'phoneinternet', 'phoni', 'phosphat', 'photo', 'photogen', 'photograph', 'photographi', 'photoshop', 'phrase', 'phsyiotherapist', 'phx', 'phyllo', 'physic', 'physician', 'physio', 'physiotherapeutisch', 'physiotherapi', 'phèm', 'pi', 'piano', 'piasano', 'pic', 'picanha', 'picard', 'picasso', 'picata', 'picazzo', 'piccadilli', 'piccata', 'pick', 'picki', 'pickl', 'pickout', 'pickup', 'picnic', 'pico', 'pictur', 'picturesqu', 'pide', 'pie', 'piec', 'pieceof', 'pieceofchicken', 'pieceofmeat', 'piedmontes', 'pieperfect', 'pier', 'pierc', 'pierogi', 'pig', 'pigeon', 'piggi', 'piglet', 'pilaf', 'pilat', 'pile', 'pilgrimag', 'pilgrimamed', 'pill', 'pillow', 'pillowi', 'pilzbürst', 'pima', 'pimento', 'pimiento', 'pin', 'pina', 'pinbal', 'pinch', 'pincher', 'pinchi', 'pine', 'pineappl', 'pinevil', 'ping', 'pink', 'pinkbox', 'pinki', 'pinnacl', 'pino', 'pinor', 'pinot', 'pint', 'pinter', 'pinterest', 'pinto', 'pintvil', 'pionear', 'piont', 'pip', 'pipe', 'piper', 'piphot', 'pirat', 'piripiri', 'piscina', 'pisco', 'piss', 'pissi', 'pistachio', 'pistahio', 'pistol', 'pit', 'pita', 'pitbul', 'pitch', 'pitcher', 'pitchfork', 'piti', 'pitlochri', 'pitta', 'pittsbugh', 'pittsburg', 'pittsburgh', 'pittsburgh3', 'pixel', 'pixi', 'pizza', 'pizzahut', 'pizzaiolo', 'pizzano', 'pizzen', 'pizzeria', 'pizzetta', 'pièc', 'piña', 'pj', 'pk4lqf4tukgdjewirpqga', 'pl', 'placard', 'place', 'place55', 'placement', 'placenta', 'placethat', 'plagu', 'plain', 'plainli', 'plan', 'plane', 'planet', 'plank', 'planner', 'planon', 'planspermit', 'plant', 'plantain', 'plaqu', 'plasma', 'plaster', 'plastic', 'plastiqu', 'plat', 'platano', 'plate', 'plateau', 'platesbowl', 'platform', 'platicwar', 'platinum', 'platt', 'platter', 'platterm', 'platz', 'play', 'playa', 'player', 'playground', 'playhous', 'playings', 'playlist', 'playoff', 'playroom', 'plaza', 'plea', 'plead', 'pleas', 'pleasant', 'pleasantli', 'pleasantlysurpris', 'pleasantsurpris', 'pleasantvil', 'pleasedwith', 'pleasepleas', 'pleaser', 'pleasur', 'pleat', 'plein', 'pleineservic', 'plenti', 'plentyof', 'plentyofpark', 'plentyofs', 'plethoraof', 'pli', 'plop', 'plot', 'plt', 'plu', 'plug', 'plum', 'plumb', 'plumber', 'plump', 'plung', 'plural', 'pluse', 'plush', 'plusieur', 'pm', 'pmba', 'pneumat', 'pneumonia', 'pneumoniabronch', 'po', 'poach', 'poachegg', 'poblano', 'pocket', 'pod', 'podg', 'podíamo', 'poem', 'poepl', 'pogo', 'point', 'pointer', 'pointi', 'pointscash', 'pointsdollar', 'pois', 'poison', 'poissonneri', 'poke', 'poker', 'pokerroom', 'poki', 'polar', 'polaroid', 'pole', 'polen', 'polenta', 'polic', 'policeman', 'polici', 'polish', 'polit', 'politician', 'polka', 'poll', 'pollack', 'polli', 'pollo', 'pollock', 'pollut', 'polo', 'pomegran', 'pomegrant', 'pomeroy', 'pomm', 'pommier', 'pomo', 'pomodoro', 'pompadour', 'pompou', 'pond', 'ponder', 'pong', 'poni', 'pooch', 'poodl', 'pool', 'poolarea', 'poollazi', 'poolparti', 'poolsid', 'pooltabl', 'poop', 'poopi', 'poor', 'poorcustomerservic', 'poori', 'poorli', 'poorman', 'poorservic', 'pop', 'popcorn', 'popey', 'popot', 'popov', 'poppa', 'popper', 'poppi', 'poprock', 'popsicl', 'popul', 'popular', 'por', 'pora', 'porch', 'poriton', 'pork', 'porkbelli', 'porkchop', 'porkgasm', 'porki', 'porksandwich', 'porridg', 'porsch', 'port', 'portabella', 'portabello', 'portebello', 'porter', 'porterhous', 'portfolio', 'portion', 'portionen', 'portions', 'portland', 'portobello', 'portofino', 'portrait', 'portugues', 'posar', 'pose', 'poseidon', 'poser', 'posh', 'posit', 'positivenot', 'positivereview', 'possess', 'possibl', 'possédé', 'post', 'post10pm', 'postag', 'postal', 'postcard', 'poster', 'postino', 'postmat', 'postnet', 'postur', 'pot', 'potato', 'potatofri', 'potatosalad', 'potenc', 'potent', 'potenti', 'pothol', 'potion', 'potpi', 'potstick', 'potter', 'potteri', 'potti', 'pouch', 'poulet', 'poulo', 'pound', 'pounder', 'pour', 'pout', 'poutain', 'poutin', 'powder', 'power', 'poz', 'pozol', 'pp', 'ppl', 'practic', 'practis', 'practition', 'prada', 'prairi', 'prais', 'praktikanten', 'pralin', 'pram', 'pranc', 'prassopita', 'pratiqu', 'prawn', 'pray', 'prayer', 'pre', 'preatti', 'preciou', 'precipit', 'precis', 'preclud', 'precook', 'predat', 'predesign', 'predict', 'preexist', 'prefac', 'prefect', 'prefer', 'preffer', 'preggo', 'pregnanc', 'pregnant', 'prei', 'preis', 'preisen', 'preisend', 'preisleistungsverhältni', 'premad', 'premier', 'premierhealth', 'premis', 'premium', 'prenataldeliveri', 'prendr', 'preoccup', 'preorder', 'prep', 'prepaid', 'prepar', 'preparedfresh', 'prepay', 'preposter', 'prepp', 'prerequisit', 'preschool', 'prescrib', 'prescript', 'presenc', 'present', 'preserv', 'preset', 'presetsth', 'preshow', 'presid', 'press', 'pressur', 'pressé', 'presti', 'prestigi', 'presto', 'presum', 'pretend', 'pretenti', 'pretti', 'prettti', 'prettycool', 'prettydarn', 'prettydec', 'prettygood', 'prettymuch', 'prettystandard', 'prettysur', 'pretzel', 'prev', 'preval', 'prevent', 'preview', 'previou', 'previous', 'previousreview', 'preço', 'pri', 'price', 'price1010', 'priceand', 'pricelin', 'priceport', 'pricer', 'prices899', 'pricetag', 'pricey', 'prici', 'prickli', 'pride', 'priest', 'prima', 'primanti', 'primari', 'primarili', 'prime', 'primerib', 'primetim', 'princ', 'princess', 'princip', 'principal', 'principaux', 'principl', 'print', 'printani', 'printer', 'prior', 'priorit', 'prioriti', 'prise', 'prison', 'prissi', 'pristin', 'priu', 'privaci', 'privat', 'privileg', 'prix', 'prize', 'pro', 'proactiv', 'prob', 'probabl', 'probar', 'probat', 'probe', 'problem', 'problemat', 'problèm', 'procedur', 'proceed', 'process', 'proclaim', 'procliv', 'procur', 'prod', 'prodigi', 'produc', 'produceproduct', 'product', 'produit', 'produkt', 'produziert', 'profan', 'profess', 'profession', 'professor', 'profil', 'profit', 'profiterol', 'profuct', 'profus', 'program', 'programm', 'progress', 'progresso', 'project', 'projector', 'prolong', 'prom', 'promenad', 'promettr', 'promin', 'promis', 'promo', 'promot', 'prompt', 'promptli', 'pron', 'prone', 'pronounc', 'proof', 'prop', 'proper', 'properli', 'properti', 'propertyaz', 'propertymanag', 'propon', 'proport', 'propr', 'proprietari', 'proprio', 'propriétair', 'prorat', 'prosciutto', 'prosecco', 'prosecut', 'prospect', 'prosper', 'prostituierenden', 'prostitut', 'protect', 'protectionist', 'protector', 'protein', 'protest', 'protocol', 'proud', 'proudli', 'provabl', 'prove', 'provenc', 'provencal', 'proverbi', 'provid', 'provient', 'provinc', 'provoc', 'provok', 'provolon', 'prowl', 'proxim', 'prozeder', 'pruitt', 'préfère', 'présent', 'présentat', 'présenté', 'ps', 'pss', 'psycholog', 'pt', 'pub', 'puberti', 'pubic', 'public', 'publicli', 'publikum', 'publish', 'puck', 'pucketeria', 'pud', 'pudd', 'puddingcak', 'puddl', 'puedo', 'puerto', 'puff', 'puffer', 'puffi', 'pug', 'pui', 'puisqu', 'puisquel', 'puke', 'pull', 'pullpork', 'pullporksandwich', 'puma', 'pumic', 'pump', 'pumpkin', 'pumpkini', 'pun', 'punch', 'punctual', 'punctuat', 'pungent', 'puni', 'punish', 'punjab', 'punjabi', 'punk', 'punkraugh', 'punkt', 'punni', 'punter', 'pup', 'pupil', 'puppi', 'purcel', 'purchas', 'purchaseand', 'purdi', 'pure', 'purg', 'purgatori', 'purpl', 'purpos', 'purs', 'pursu', 'puré', 'push', 'pushi', 'pushpin', 'put', 'puten', 'puttogeth', 'puzzl', 'pv', 'pvc', 'pwyc', 'pyramid', 'pão', 'pächter', 'pächterwechsel', 'q', 'qc', 'qnd', 'qq', 'qt', 'qtip', 'qua', 'quack', 'quad', 'quadrupl', 'quail', 'quaint', 'qualifi', 'qualiti', 'qualityingredi', 'qualityport', 'qualityquant', 'qualitytast', 'qualität', 'qualité', 'qualm', 'quan', 'quand', 'quant', 'quantiti', 'quantité', 'quantum', 'quart', 'quarter', 'quarterround', 'quartet', 'quartil', 'quartz', 'quartzit', 'quasi', 'quasiment', 'que', 'queasi', 'quebec', 'quebecian', 'queen', 'queijo', 'queja', 'quelqu', 'quelquun', 'quench', 'queri', 'quesa', 'quesadilla', 'queso', 'quest', 'question', 'questionn', 'queue', 'qui', 'quich', 'quick', 'quickbit', 'quicken', 'quicker', 'quicki', 'quickli', 'quicklybecom', 'quiet', 'quieter', 'quietli', 'quiktrip', 'quil', 'quilt', 'quinn', 'quinoa', 'quintessenti', 'quintupl', 'quio', 'quirk', 'quirki', 'quisimo', 'quit', 'quiteoften', 'quizno', 'quo', 'quoi', 'quoiqu', 'quon', 'quorn', 'quot', 'quun', 'quà', 'québec', 'québécism', 'québécoi', 'qx80', 'r', 'ra', 'rab', 'rabbit', 'rabe', 'rabid', 'rabot', 'raccoon', 'race', 'rachel', 'racism', 'racist', 'rack', 'racket', 'racquel', 'racquetbal', 'rad', 'radar', 'radiat', 'radic', 'radicchio', 'radio', 'radish', 'radiu', 'raffinierter', 'raffl', 'raft', 'rafter', 'rag', 'ragey', 'ragout', 'rahmschnitzel', 'rahmsoss', 'raid', 'rail', 'railroad', 'rain', 'raina', 'rainbow', 'rainbowtropicana', 'raindrop', 'rainfal', 'rainforest', 'raini', 'rais', 'raisin', 'raison', 'raisonn', 'raj', 'raleigh', 'ralph', 'ram', 'ramada', 'raman', 'rambl', 'rambuncti', 'ramekin', 'ramen', 'ramon', 'ramona', 'ramp', 'rampart', 'ramsay', 'ramsey', 'ran', 'ranch', 'ranchera', 'ranchero', 'rancid', 'rand', 'randi', 'randolph', 'random', 'randomli', 'rang', 'rangefrom', 'rangoon', 'rangé', 'rank', 'rant', 'rap', 'rapid', 'rapidli', 'rapini', 'rapper', 'rapport', 'raptur', 'rapunzel', 'raquetbal', 'rare', 'rariti', 'rasberri', 'rash', 'rasher', 'raspado', 'raspberri', 'raspotl', 'rat', 'ratchet', 'rate', 'ratherthan', 'ratio', 'ration', 'rattl', 'rattler', 'rattlesnak', 'rau', 'raul', 'raum', 'rave', 'raveabout', 'raven', 'ravereview', 'ravioli', 'raw', 'rawlin', 'ray', 'razno', 'razor', 'razzl', 'rb', 'rcm', 'rd', 'reach', 'reachabl', 'reachout', 'react', 'reaction', 'read', 'reader', 'readfbetweuenthceklyinoesu', 'readi', 'readili', 'real', 'realdeal', 'realis', 'realist', 'realistisch', 'realiti', 'realiz', 'reallllli', 'reallyenjoy', 'reallystandout', 'realm', 'realti', 'realtor', 'realwood', 'ream', 'reappear', 'rear', 'rearrang', 'reason', 'reasonablepric', 'reasonablypric', 'reasondont', 'reasonwhi', 'reassess', 'reassur', 'reassuringli', 'reastraunt', 'reataur', 'rebat', 'rebecca', 'reborn', 'rebrand', 'rebuild', 'rebuilt', 'rebut', 'recal', 'recap', 'reccomend', 'reccommend', 'recd', 'receipt', 'receiv', 'recent', 'recept', 'receptionbar', 'receptionist', 'recess', 'rechang', 'recheio', 'rechnung', 'recht', 'reciev', 'recin', 'recip', 'reckon', 'reckond', 'reclaim', 'reclin', 'recogn', 'recognit', 'recogniz', 'recomend', 'recomendo', 'recomiendo', 'recommand', 'recommend', 'reconfirm', 'reconnect', 'reconnu', 'reconsid', 'record', 'recov', 'recoveri', 'recreat', 'recruit', 'rectangl', 'rectangular', 'rectifi', 'recuper', 'recur', 'recycl', 'red', 'redd', 'redden', 'reddi', 'reddish', 'redeem', 'redesign', 'redhot', 'redicul', 'redo', 'redon', 'redondo', 'redsauc', 'reduc', 'reduct', 'redund', 'redvelvet', 'redwb', 'redwin', 'reel', 'rees', 'refer', 'referr', 'refil', 'refillscheck', 'refin', 'refkect', 'reflect', 'reflex', 'reflexolog', 'reform', 'refresh', 'refreshingli', 'refri', 'refriger', 'refuel', 'refund', 'refurb', 'refurbish', 'refus', 'refut', 'reg', 'regain', 'regal', 'regard', 'regardless', 'regel', 'regelfal', 'regenc', 'reggi', 'reggiano', 'regimen', 'regina', 'region', 'regist', 'registr', 'regret', 'regroup', 'regrow', 'regul', 'regular', 'regularbasi', 'regulari', 'regularli', 'rehab', 'rehabilitationcent', 'reheat', 'rehydr', 'rei', 'reichhaltig', 'reid', 'reign', 'reimburs', 'reimel', 'rein', 'reina', 'reincarn', 'reinforc', 'reinsert', 'reinvent', 'reiter', 'reizend', 'reject', 'rejoic', 'rejuven', 'rekey', 'reklam', 'rel', 'relat', 'relationship', 'relativ', 'relativesvisit', 'relax', 'relay', 'releas', 'relent', 'relentlessli', 'relev', 'reli', 'reliabl', 'relief', 'reliev', 'religi', 'relish', 'relishi', 'relleno', 'reload', 'reloc', 'reluct', 'reluctantli', 'rem', 'remad', 'remain', 'remaind', 'remak', 'remark', 'remarqué', 'remedi', 'rememb', 'remind', 'reminisc', 'remiss', 'remodel', 'remors', 'remot', 'remov', 'rempli', 'renaldo', 'renam', 'render', 'rendezv', 'rendit', 'rene', 'renew', 'renfrew', 'reno', 'renov', 'renown', 'rent', 'rental', 'rentalcar', 'renter', 'renu', 'reopen', 'reorder', 'rep', 'repa', 'repackag', 'repaint', 'repair', 'repairman', 'repassera', 'repay', 'repeat', 'repeatcustom', 'repeatedli', 'repel', 'repertoir', 'repetit', 'rephras', 'replac', 'replenish', 'repli', 'replic', 'replica', 'report', 'repositori', 'repouss', 'reprendr', 'repres', 'represent', 'repriev', 'reprimand', 'représent', 'repta', 'reptil', 'republ', 'repuls', 'repurpo', 'reput', 'request', 'requir', 'requisit', 'rerout', 'reschedul', 'rescu', 'reseal', 'research', 'resembl', 'resent', 'reserv', 'reservationget', 'reservationist', 'reservieren', 'reset', 'reshap', 'resid', 'residenti', 'residu', 'resign', 'resili', 'resist', 'resolut', 'resolv', 'resort', 'resortfe', 'resourc', 'respect', 'respi', 'respond', 'respons', 'ressemblait', 'ressi', 'rest', 'restart', 'restaur', 'restaurant', 'restaurantcom', 'restauranteur', 'restaurantnight', 'restaurantsestablish', 'restaurateur', 'restauraunt', 'restless', 'resto', 'restock', 'restof', 'restor', 'restrain', 'restrict', 'restroom', 'restructur', 'restuar', 'restur', 'resturaunt', 'resté', 'result', 'resurfac', 'resüme', 'ret', 'retail', 'retain', 'retch', 'rethink', 'retien', 'retina', 'retir', 'retourn', 'retract', 'retreat', 'retribut', 'retriev', 'retro', 'retrouv', 'return', 'reuben', 'reunit', 'reus', 'reusabl', 'revamp', 'reveal', 'reveil', 'revel', 'revenait', 'revenu', 'revers', 'revew', 'review', 'revis', 'revisit', 'revisé', 'revo', 'revoc', 'revolut', 'revu', 'reward', 'reword', 'rex', 'reyna', 'reynold', 'reçu', 'rf', 'rgb', 'rhineston', 'rhino', 'rhonda', 'rhubarb', 'rhubarbara', 'rhyme', 'ri', 'rib', 'ribbon', 'ribey', 'ribf', 'ribfest', 'rica', 'rican', 'ricardo', 'ricci', 'rice', 'ricecak', 'ricenoodl', 'rich', 'richard', 'richardson', 'richfield', 'richmond', 'richtigen', 'rick', 'ricketi', 'ricki', 'rickshaw', 'rico', 'ricotta', 'rid', 'ridden', 'riddl', 'ride', 'rider', 'ridg', 'ridicul', 'rie', 'rien', 'rigatoni', 'rigg', 'right', 'rightamount', 'rightamountof', 'rightaway', 'righteou', 'rightli', 'rightnext', 'rightnextdoor', 'rightnow', 'rigor', 'rigth', 'riley', 'rillet', 'rim', 'rind', 'rinderfiletsteifen', 'ring', 'rink', 'rins', 'rio', 'rioja', 'riot', 'rip', 'ripe', 'riper', 'ripington', 'ripley', 'ripoff', 'rippington', 'rise', 'riser', 'risk', 'riski', 'riso', 'risotto', 'rissa', 'ristorant', 'ristretto', 'rite', 'ritual', 'ritz', 'rival', 'rive', 'river', 'rivera', 'riverview', 'rivet', 'riz', 'rj', 'rkraman', 'rmm', 'rmt', 'rnr', 'ro', 'roach', 'road', 'roadhous', 'roadkil', 'roadway', 'roam', 'roar', 'roast', 'roastbeef', 'roaster', 'rob', 'robber', 'robbin', 'robe', 'robert', 'roberto', 'robin', 'robinson', 'robot', 'robuchon', 'robust', 'roc', 'rochett', 'rock', 'rockefel', 'rocker', 'rocket', 'rocki', 'rockin', 'rod', 'rode', 'rodeo', 'rodney', 'rodriguez', 'roe', 'roger', 'rohlin', 'roi', 'role', 'roll', 'rollatini', 'rollaway', 'roller', 'rollercoast', 'rollersk', 'rollin', 'rollov', 'rollsgril', 'rolodex', 'rom', 'roma', 'romagna', 'romain', 'roman', 'romanc', 'romano', 'romant', 'romov', 'rompop', 'ron', 'ronc', 'roncesval', 'ronci', 'rond', 'roni', 'ronsansval', 'rood', 'roof', 'rooftop', 'rooibo', 'rooki', 'room', 'room117a', 'roomatesist', 'roomi', 'roommat', 'roomw', 'roost', 'root', 'rootbeer', 'rooter', 'ropa', 'rope', 'roppongi', 'roquefort', 'rosa', 'rosalynn', 'rosarda', 'rosati', 'rosco', 'rose', 'roseann', 'rosemari', 'rosenstein', 'rosewat', 'rosi', 'rosita', 'ross', 'rosso', 'rostbraten', 'roster', 'rosti', 'rosè', 'rosé', 'rot', 'rotad', 'rotat', 'rote', 'roter', 'roti', 'rotisseri', 'roto', 'rotor', 'rotten', 'rotti', 'roubouchon', 'roug', 'rough', 'roughli', 'rouleau', 'roulett', 'round', 'rout', 'router', 'routin', 'roux', 'row', 'rowdi', 'roxann', 'roy', 'royal', 'royalti', 'rr', 'rs', 'rt', 'rta', 'rub', 'rubber', 'rubberband', 'rubberi', 'rubi', 'rubio', 'ruddddddd', 'rude', 'rudehurri', 'rudi', 'rudolph', 'rue', 'rueben', 'rug', 'ruhe', 'ruid', 'ruin', 'rule', 'rum', 'rumbi', 'rumbl', 'rumcok', 'rumor', 'rumour', 'rump', 'run', 'runaround', 'runaway', 'rundown', 'runner', 'runni', 'runningwalk', 'runout', 'runway', 'rural', 'rush', 'rusk', 'russ', 'russel', 'russian', 'russland', 'rust', 'rustic', 'rustik', 'rustl', 'rustler', 'rutabaga', 'rutabega', 'ruth', 'ruuuuuuuuuuuuud', 'rv', 'rwb', 'rx8', 'ryan', 'ryder', 'rye', 'ryerson', 'ryoji', 'ryu', 'régaler', 'région', 'résistanc', 'résumé', 'réussi', 'réé', 'rückenproblem', 'sa', 'saag', 'saal', 'saba', 'sabah', 'sabor', 'sachen', 'sack', 'sacramento', 'sacrific', 'sad', 'saddl', 'sadli', 'safak', 'safari', 'safe', 'safeti', 'safeway', 'saffron', 'sag', 'saganaki', 'sage', 'sago', 'saguaro', 'sahara', 'sahnig', 'sai', 'said', 'saidi', 'saidoh', 'saigon', 'sailer', 'saint', 'sak', 'sakana', 'sakanaya', 'sake', 'saki', 'sakitini', 'sakura', 'sal', 'sala', 'salad', 'saladbar', 'salam', 'salami', 'salari', 'salaryman', 'salat', 'salazar', 'salbitxada', 'salcido', 'sale', 'salem', 'salesman', 'salesperson', 'saleswoman', 'saliv', 'sall', 'salmon', 'salon', 'salonstylist', 'saloon', 'salsa', 'salsabar', 'salsachees', 'salsarita', 'salsasloppi', 'salt', 'saltado', 'salti', 'saltier', 'saltimbocca', 'saltwat', 'salud', 'salvag', 'salvator', 'salzig', 'sam', 'samantha', 'samaritan', 'sambalatt', 'sambuca', 'sambusa', 'sameday', 'sameth', 'samgyups', 'sami', 'sammi', 'sammich', 'samosa', 'sampl', 'sampler', 'samstag', 'samsung', 'samurai', 'san', 'sand', 'sandal', 'sandi', 'sandiego', 'sandwhich', 'sandwich', 'sandwichsoup', 'sandwish', 'sanfrancisco', 'sangri', 'sangria', 'sanit', 'sanitari', 'sansotei', 'santa', 'santan', 'sante', 'santi', 'santina', 'santo', 'santorini', 'santouka', 'santé', 'saporro', 'sapporo', 'saq', 'sarah', 'sarcasm', 'sarcast', 'sarno', 'sasami', 'sashi', 'sashimi', 'sass', 'sasseoir', 'sassi', 'sat', 'satan', 'satay', 'satellit', 'satiat', 'satin', 'satisfact', 'satisfactori', 'satisfi', 'satt', 'satur', 'saturday', 'saturdayafternoon', 'saturdayeven', 'saturdaymorn', 'saturdaynight', 'sauc', 'saucedough', 'sauceranch', 'saucesdress', 'sauci', 'saucisson', 'sauerkraut', 'sauna', 'sausag', 'saut', 'saute', 'sauté', 'sauvignon', 'savannah', 'save', 'saver', 'saveur', 'saviduski', 'savon', 'savor', 'savori', 'savour', 'savouri', 'savoy', 'savvi', 'saw', 'sawyer', 'sax', 'say', 'sayin', 'saäl', 'sbirthday', 'sbw', 'scabb', 'scaffold', 'scala', 'scald', 'scale', 'scallion', 'scallop', 'scalp', 'scam', 'scamm', 'scammer', 'scampi', 'scan', 'scandal', 'scanner', 'scape', 'scar', 'scaramouch', 'scarborough', 'scarc', 'scare', 'scarf', 'scari', 'scarlet', 'scatter', 'scavang', 'scaveng', 'scenario', 'scene', 'sceneri', 'scent', 'sceptic', 'schaff', 'schatzberg', 'schechuan', 'schedul', 'scheduleanappoint', 'scheinen', 'scheme', 'schieb', 'schlecht', 'schleusner', 'schlicht', 'schlimmst', 'schlitz', 'schmackhaft', 'schmear', 'schmeckt', 'schnazzi', 'schneider', 'schnell', 'schneller', 'schnellrestaur', 'schnitzel', 'schockotass', 'schofield', 'schon', 'school', 'schoolgirl', 'schritt', 'schtick', 'schwartz', 'schweinefleisch', 'schweinehaxen', 'schweinemedaillon', 'schwer', 'schwäbisch', 'schön', 'schöne', 'schönem', 'schönen', 'schöner', 'sciatica', 'scienc', 'scientist', 'scion', 'scissor', 'scoff', 'scoft', 'scold', 'scone', 'sconejam', 'scoop', 'scoot', 'scooter', 'scop', 'scope', 'score', 'scorpion', 'scorses', 'scotia', 'scotiabank', 'scotland', 'scott', 'scottdal', 'scottish', 'scottsdal', 'scottsdaleshea', 'scoundrel', 'scour', 'scout', 'scowl', 'scrambl', 'scrap', 'scrape', 'scraper', 'scratch', 'scratcher', 'scratchi', 'scream', 'screen', 'screenprint', 'screenshot', 'screw', 'screwup', 'scribbl', 'scrimp', 'script', 'scrub', 'scrumptiou', 'scrupul', 'sculleri', 'sculpin', 'sculpt', 'sculptur', 'scummi', 'scupper', 'scurr', 'sd', 'sdeli', 'sdm', 'se', 'sea', 'seabass', 'seaboard', 'seafood', 'seafoodi', 'seal', 'sealant', 'seam', 'seamless', 'seamstress', 'sean', 'sear', 'search', 'searsuck', 'seasalt', 'season', 'seat', 'seatingarea', 'seatright', 'seatrightaway', 'seattl', 'seaurchin', 'seawe', 'sec', 'seclud', 'second', 'secondch', 'secondfloor', 'secondli', 'secondtim', 'secondvisit', 'secret', 'secretli', 'section', 'secur', 'securityguard', 'sedan', 'sedari', 'sedona', 'see', 'seed', 'seedi', 'seek', 'seemingli', 'seemlik', 'seep', 'segment', 'segway', 'sehen', 'sehr', 'sei', 'seif', 'sein', 'seinem', 'seinfeld', 'seismic', 'seit', 'seitan', 'seiz', 'sel', 'selbst', 'seldom', 'select', 'self', 'selfish', 'sell', 'seller', 'selma', 'selten', 'selwyn', 'sema', 'semainebien', 'sembl', 'semblait', 'semblé', 'semi', 'seminar', 'semisweet', 'sen', 'senat', 'senateur', 'send', 'senior', 'senor', 'sens', 'sensat', 'senseof', 'sensibl', 'sensit', 'sensor', 'sensori', 'sensual', 'sentenc', 'sentiment', 'seo', 'seoul', 'separ', 'seper', 'sephora', 'sept', 'septemb', 'sequest', 'ser', 'seracha', 'seranno', 'seren', 'serena', 'serenad', 'serendip', 'serf', 'sergio', 'seri', 'serial', 'serious', 'serivc', 'serrano', 'serrat', 'serv', 'servant', 'servent', 'server', 'serverbartend', 'servercook', 'serversbuss', 'serveur', 'serveus', 'servi', 'servic', 'serviceambiancedecor', 'serviceambient', 'servicel', 'servicemanag', 'servicerep', 'serviceserv', 'servicet', 'serviert', 'sesam', 'session', 'set', 'seth', 'setless', 'settl', 'setup', 'seul', 'seulement', 'seven', 'seventi', 'sever', 'severaltim', 'sevic', 'sevich', 'sew', 'sewag', 'sewer', 'sex', 'sexi', 'sexual', 'sezairi', 'sf', 'sfl', 'sfort', 'sfrozen', 'sh', 'shabbi', 'shabu', 'shack', 'shade', 'shadi', 'shadow', 'shadyomet', 'shadysid', 'shafer', 'shake', 'shakedrink', 'shaker', 'shaki', 'shall', 'shallow', 'shame', 'shameless', 'shamelessli', 'shamika', 'shampoo', 'shane', 'shanghai', 'shank', 'shannon', 'shantel', 'shanti', 'shape', 'shaq', 'share', 'sharehotel', 'shari', 'shark', 'sharon', 'sharp', 'sharper', 'sharpli', 'sharwarma', 'shasta', 'shatter', 'shaun', 'shaunjayfederico', 'shave', 'shaw', 'shawarma', 'shawarmadon', 'shawerma', 'shawn', 'shayenn', 'shayn', 'shea', 'shed', 'sheena', 'sheer', 'sheesh', 'sheet', 'sheik', 'sheild', 'shelbi', 'shelf', 'shelfish', 'shell', 'shellac', 'shelley', 'shellfish', 'shellfishseafoodpasta', 'shelor', 'shelter', 'shelv', 'shelver', 'shenanigan', 'shenaniganri', 'shepherd', 'sheppard', 'sheralyn', 'sheraton', 'sherbert', 'sherbrook', 'sheriff', 'sherlock', 'sherri', 'sherwin', 'shi', 'shiatsu', 'shield', 'shiffler', 'shift', 'shih', 'shiitak', 'shilo', 'shime', 'shin', 'shine', 'shini', 'shinshengumi', 'shio', 'ship', 'shipment', 'shippedi', 'shirataki', 'shirley', 'shirt', 'shishito', 'shit', 'shite', 'shitti', 'shiver', 'shiy', 'shiz', 'shiznit', 'shiznitz', 'shlay', 'shlepp', 'shnitzel', 'shobu', 'shock', 'shocker', 'shockingli', 'shoddi', 'shoe', 'shoestr', 'shoku', 'shoo', 'shoot', 'shooter', 'shop', 'shopp', 'shopper', 'shoppingexperi', 'shopseateri', 'shore', 'shoreway', 'short', 'shortag', 'shortbread', 'shorten', 'shorter', 'shorthand', 'shortli', 'shortlyaft', 'shortrib', 'shortstaf', 'shot', 'shoulder', 'shout', 'shoutout', 'shove', 'shovel', 'showca', 'showcas', 'shower', 'showroom', 'showup', 'shoyu', 'shoyusoy', 'shred', 'shrimp', 'shrimpcocktail', 'shrimptempura', 'shrink', 'shroom', 'shrub', 'shrug', 'sht', 'shu', 'shuffl', 'shui', 'shure', 'shut', 'shutdown', 'shutter', 'shuttl', 'shwarma', 'si', 'siam', 'sibl', 'sich', 'sicher', 'sicherlich', 'sicht', 'sichtbar', 'sichuan', 'sicilian', 'sick', 'sickeningli', 'sicker', 'sickl', 'sideburn', 'sidedish', 'sidelin', 'sider', 'sidesalad', 'sidewalk', 'sie', 'siegel', 'sieht', 'sierra', 'siew', 'sigh', 'sight', 'sightse', 'sign', 'signag', 'signal', 'signatur', 'signer', 'signifi', 'signific', 'significantli', 'signit', 'signup', 'silder', 'silenc', 'silent', 'silk', 'silki', 'silli', 'silvana', 'silver', 'silverado', 'silverton', 'silverwar', 'sim', 'similair', 'similar', 'similarli', 'similiar', 'simluat', 'simmer', 'simmon', 'simpl', 'simplement', 'simpli', 'simplic', 'simplifi', 'simplist', 'simpson', 'simultan', 'sin', 'sinatra', 'sincer', 'sincerest', 'sinciti', 'sincèrement', 'sind', 'sing', 'singapor', 'singen', 'singer', 'singi', 'singl', 'sink', 'sinkgarbag', 'sinu', 'sinx', 'siopao', 'sip', 'sir', 'siri', 'sirloin', 'sister', 'sit', 'sitat', 'sitdown', 'site', 'sitoutsid', 'sitter', 'situat', 'situtat', 'situé', 'sitzen', 'sitzgelegenheiten', 'sitzplatzauswahl', 'sitzplätz', 'siu', 'sixt', 'size', 'sizzl', 'skate', 'skateboard', 'skater', 'skeptic', 'sketch', 'sketcher', 'sketchi', 'sketchpad', 'sketti', 'skew', 'skewer', 'skiddish', 'skill', 'skillet', 'skim', 'skimp', 'skimpi', 'skin', 'skincar', 'skinni', 'skinniest', 'skinnyfat', 'skip', 'skipthedishescom', 'skirt', 'skit', 'sky', 'skydom', 'skylight', 'skyris', 'skyrocket', 'skyway', 'sl', 'slab', 'slack', 'slam', 'slammer', 'slant', 'slap', 'slate', 'slather', 'slaw', 'sleazer', 'sleazi', 'sleek', 'sleep', 'sleepi', 'sleepov', 'sleev', 'slew', 'slice', 'slick', 'slide', 'slider', 'slidin', 'slight', 'slighti', 'slightli', 'slim', 'slimebal', 'slimi', 'slimm', 'slingin', 'slip', 'slipper', 'slipperi', 'sliver', 'slllooooowww', 'slogan', 'sloooooow', 'sloooow', 'slooowww', 'slop', 'sloppi', 'slot', 'slotmachin', 'slow', 'slowbehind', 'slowest', 'slowli', 'sludg', 'slug', 'slurp', 'slush', 'slushi', 'slut', 'slyman', 'sláint', 'smack', 'small', 'smallbit', 'smallpiec', 'smallplat', 'smallport', 'smalltalk', 'smarmi', 'smart', 'smash', 'smashburg', 'smear', 'smell', 'smelli', 'smelllik', 'smile', 'smiley', 'smirk', 'smith', 'smithsonian', 'smithwick', 'smog', 'smoke', 'smokehous', 'smokeless', 'smoker', 'smokesalmon', 'smokey', 'smoki', 'smokin', 'smooth', 'smoothi', 'smoothli', 'smor', 'smore', 'smother', 'smudg', 'smuggl', 'sn', 'snack', 'snackag', 'snadwhich', 'snafu', 'snag', 'snail', 'snake', 'snap', 'snapchat', 'snapp', 'snapper', 'snappi', 'snarf', 'snarki', 'snarl', 'snazzi', 'snd', 'sneak', 'sneaki', 'snhd', 'snicker', 'sniff', 'snip', 'snob', 'snobbi', 'snooti', 'snooz', 'snort', 'snoti', 'snotti', 'snottsdal', 'snow', 'snowboard', 'snowflak', 'snowi', 'snowsho', 'snowstorm', 'snoz', 'snuff', 'snug', 'so', 'soak', 'soap', 'soapbox', 'soapi', 'soar', 'soba', 'sober', 'sobieski', 'socal', 'soccer', 'sociabl', 'social', 'socialmedium', 'societi', 'sock', 'soda', 'sodium', 'sofa', 'sofar', 'sofortig', 'soft', 'softbal', 'soften', 'softi', 'softserv', 'softtangi', 'softun', 'sogar', 'soggi', 'soglad', 'soho', 'soi', 'soil', 'soir', 'soiré', 'soit', 'soji', 'sol', 'solar', 'sole', 'soleil', 'solicit', 'solid', 'solidifi', 'solitair', 'sollt', 'solo', 'solut', 'solv', 'somani', 'sombrero', 'somebodi', 'someday', 'someoneels', 'someonewho', 'someplac', 'somereason', 'somesortof', 'somethingdiffer', 'somethingels', 'somethingnew', 'somewer', 'somewhat', 'somewhereels', 'sommeli', 'sommer', 'somth', 'somuch', 'son', 'sondern', 'sonderwünsch', 'song', 'sonia', 'sonic', 'sonni', 'sonntag', 'sonor', 'sonora', 'sonoran', 'sonst', 'sonstigen', 'sont', 'soo', 'soon', 'sooner', 'sooo', 'soooo', 'sooooo', 'soooooo', 'sooooooo', 'soooooooo', 'soooooooooo', 'soooooooooooooo', 'soot', 'sooth', 'sooti', 'sop', 'sopa', 'sopaipilla', 'sopapilla', 'sophia', 'sophist', 'sophisticatedsexi', 'sophomor', 'sorbet', 'sorbetto', 'sore', 'sorgen', 'sorri', 'sorrow', 'sort', 'sortir', 'sortof', 'soso', 'sossaman', 'sou', 'souffl', 'soufflé', 'souffr', 'sougnh', 'soul', 'soulvaki', 'sound', 'soundlik', 'soundproof', 'soundtrack', 'soup', 'soupbas', 'soupi', 'soupnoodl', 'soupsalad', 'soupstew', 'sour', 'sourc', 'sourcream', 'sourdough', 'sourdoughfrench', 'souriant', 'soursoup', 'south', 'southbridg', 'southeast', 'southern', 'southpark', 'southpoint', 'southsid', 'southwest', 'southwestern', 'souveni', 'souvenir', 'souveniron', 'souvernir', 'souvin', 'souvlaki', 'soviet', 'soweit', 'sowohl', 'soy', 'soysauc', 'soße', 'soßen', 'sp', 'spa', 'space', 'spacecraft', 'spacey', 'spaciou', 'spade', 'spadina', 'spaetzl', 'spaghetti', 'spaghettini', 'spago', 'spair', 'spam', 'spamassag', 'spamasubi', 'span', 'spanish', 'spare', 'sparerib', 'spark', 'sparkl', 'sparkler', 'sparkley', 'sparkli', 'sparrow', 'spars', 'spartan', 'spasm', 'spass', 'spasso', 'spaß', 'speair', 'speak', 'speakeasi', 'speakenglish', 'speaker', 'spear', 'spec', 'special', 'specialev', 'specialist', 'speciallll', 'specialmemor', 'specialoccas', 'specialti', 'specif', 'specifi', 'speck', 'spectacl', 'spectacular', 'spectacularli', 'spectrum', 'speculoo', 'speech', 'speechless', 'speed', 'speedi', 'speedo', 'speedyfriendli', 'speis', 'speisekart', 'speiselok', 'speisen', 'spell', 'spencer', 'spend', 'spendi', 'sperm', 'spew', 'spezialität', 'speziel', 'spi', 'spice', 'spicey', 'spici', 'spicylevel', 'spicypowderi', 'spicytuna', 'spider', 'spiedini', 'spielen', 'spieß', 'spiffi', 'spiga', 'spigot', 'spill', 'spin', 'spinach', 'spinato', 'spinich', 'spinto', 'spirit', 'spiritu', 'spit', 'spite', 'spizzico', 'splash', 'spleen', 'splendid', 'split', 'splittabl', 'splurg', 'spoil', 'spoiler', 'spoke', 'spong', 'sponsor', 'spoon', 'spooner', 'sport', 'sportbal', 'sportbar', 'sportingev', 'spot', 'spotless', 'spotlight', 'spotti', 'spous', 'spout', 'spratt', 'sprawl', 'spray', 'spread', 'spreadabl', 'sprig', 'spring', 'springfield', 'springhil', 'springrol', 'springsumm', 'springtim', 'sprinkl', 'sprinkler', 'sprinter', 'sprite', 'spritz', 'sprout', 'spruce', 'spud', 'spunki', 'spur', 'spwhile', 'spärlich', 'spät', 'später', 'spätzle', 'sq', 'squab', 'squad', 'squaoval', 'squar', 'squarer', 'squash', 'squat', 'squaw', 'squeak', 'squeaki', 'squeal', 'squeege', 'squeez', 'squid', 'squint', 'squirmi', 'squirrel', 'squirt', 'squish', 'squishi', 'sriracha', 'srp', 'st', 'stab', 'stabl', 'stac', 'stacey', 'staci', 'stack', 'stadium', 'stadt', 'stadtteil', 'staf', 'staff', 'staffcashi', 'staffer', 'staffmanag', 'staffmemb', 'staffown', 'stag', 'stage', 'stagger', 'stain', 'stainless', 'stair', 'stairway', 'stale', 'stalk', 'stall', 'stallion', 'stamina', 'stammkunden', 'stamp', 'stamped', 'stan', 'stand', 'standalon', 'standard', 'standaround', 'standbi', 'standbuffet', 'standoffish', 'standout', 'standoutish', 'standup', 'stapl', 'stapley', 'star', 'starb', 'starbuck', 'starch', 'starchi', 'stare', 'stark', 'starr', 'starrat', 'start', 'starter', 'startl', 'startoff', 'startoffbi', 'starv', 'stat', 'state', 'statement', 'station', 'stationari', 'stationn', 'statisif', 'statist', 'statt', 'statu', 'stax', 'stay', 'stayat', 'stayaway', 'stayawayfrom', 'staycat', 'stayher', 'stayhereagain', 'std', 'steadi', 'steadili', 'steak', 'steakat', 'steakhous', 'steal', 'steam', 'steamer', 'steami', 'steel', 'steeler', 'steep', 'steer', 'stein', 'steiner', 'stella', 'stellar', 'stem', 'stench', 'step', 'stepford', 'stephani', 'stephen', 'stepup', 'stereotyp', 'steril', 'stern', 'sternerestaur', 'steve', 'steven', 'stevia', 'stew', 'stewart', 'sti', 'stick', 'stickaround', 'sticker', 'sticki', 'stickyric', 'stiff', 'stifl', 'stiletto', 'stilvollen', 'stimmt', 'stimmung', 'stimul', 'sting', 'stingi', 'stingray', 'stink', 'stinken', 'stinki', 'stinkin', 'stinkwe', 'stint', 'stipul', 'stir', 'stirfri', 'stl', 'stlawrenc', 'stock', 'stockbridg', 'stockbrisg', 'stockholm', 'stodgi', 'stoke', 'stoli', 'stolz', 'stomach', 'stomp', 'stone', 'stoner', 'stood', 'stool', 'stop', 'stopbi', 'stopper', 'storag', 'storagecoat', 'store', 'storefront', 'storey', 'stori', 'storm', 'stormi', 'storytel', 'stouffer', 'stout', 'stove', 'stow', 'straight', 'straighten', 'straightforward', 'strain', 'strainer', 'strait', 'strand', 'strang', 'stranger', 'stranglehold', 'strap', 'strat', 'strateg', 'strategi', 'stratospher', 'straw', 'strawberri', 'stray', 'straßenverkauf', 'streak', 'stream', 'street', 'streetpark', 'streetsvil', 'streisand', 'strength', 'strengthen', 'strep', 'stress', 'stretch', 'stretchi', 'stretchopen', 'strew', 'strewen', 'strict', 'strictli', 'strike', 'string', 'stringi', 'strip', 'stripe', 'stripmal', 'stripper', 'strive', 'stroke', 'stroll', 'stroller', 'strom', 'stromboli', 'strong', 'strongli', 'stronglyrecommend', 'strongman', 'strongsvil', 'structur', 'strudel', 'struggl', 'stu', 'stub', 'stubborn', 'stucco', 'stuck', 'stud', 'student', 'studenten', 'studi', 'studio', 'stuf', 'stuff', 'stuffi', 'stumbl', 'stumptown', 'stun', 'stund', 'stunningli', 'stunt', 'stupid', 'sturdi', 'stuttgart', 'style', 'stylish', 'stylist', 'styro', 'styrofoam', 'städten', 'stöbern', 'stöbert', 'störend', 'su', 'sua', 'suadero', 'sub', 'subcontractor', 'subdu', 'subhasi', 'subject', 'sublim', 'submiss', 'submit', 'subpar', 'subscrib', 'subscript', 'subsequ', 'subsid', 'substanc', 'substant', 'substanti', 'substitut', 'subterranean', 'subtl', 'subtleti', 'subtract', 'suburb', 'suburban', 'suburbanit', 'subway', 'succeed', 'success', 'succinct', 'succul', 'succulant', 'succumb', 'succè', 'sucha', 'suck', 'sucker', 'sucr', 'sucxz', 'sud', 'sudden', 'suddenli', 'sue', 'sued', 'suey', 'suffer', 'sufferfrom', 'suffic', 'suffl', 'suffoc', 'sugar', 'sugari', 'sugarless', 'sugarlip', 'suggest', 'sui', 'suicid', 'suina', 'suiss', 'suit', 'suitabl', 'suitcas', 'suiter', 'suivr', 'sujet', 'sukiyaki', 'sulfar', 'sum', 'sumac', 'sumida', 'summar', 'summari', 'summat', 'summer', 'summerlici', 'summerlin', 'summertim', 'sumo', 'sumomaya', 'sun', 'sunblock', 'suncoast', 'sunda', 'sunday', 'sundaybrunch', 'sundaymorn', 'sundaynight', 'sundri', 'sunflow', 'sunglass', 'sunlight', 'sunni', 'sunris', 'sunsat', 'sunscreen', 'sunset', 'sunshin', 'sup', 'super', 'superb', 'superbl', 'supercar', 'superclean', 'superconveni', 'supercut', 'superexcit', 'superfast', 'superfici', 'superfriendli', 'superhero', 'superior', 'supermarket', 'supermarkt', 'supernic', 'supersalti', 'supersed', 'supershuttl', 'superstar', 'supersweet', 'supervis', 'supervisor', 'superyummi', 'supos', 'supper', 'supplant', 'supplementsvitamin', 'suppli', 'support', 'supportloc', 'suppos', 'supposedli', 'suprem', 'suprisingli', 'supérieur', 'sur', 'surcharg', 'surcuit', 'sure', 'sureif', 'surf', 'surfac', 'surfer', 'surfset', 'surg', 'surgeon', 'surgeri', 'surli', 'surnommé', 'surpass', 'surpri', 'surpris', 'surprisingli', 'surpriz', 'surrend', 'surrog', 'surrond', 'surround', 'surtout', 'survey', 'surviv', 'survivor', 'susan', 'sushi', 'sushibar', 'sushijoint', 'sushimon', 'sushirol', 'sushisashimi', 'sushisashimijapanes', 'sushitto', 'suspect', 'suspend', 'suspens', 'suspici', 'sussex', 'sustain', 'susten', 'suuuuper', 'suuuuuper', 'suuuuuuuuck', 'suv', 'suya', 'suzi', 'svu', 'sw', 'swab', 'swag', 'swallow', 'swamp', 'swan', 'swani', 'swanki', 'swankiest', 'swap', 'swapmeet', 'swarm', 'swear', 'sweat', 'sweater', 'sweati', 'sweatshirt', 'swede', 'swedish', 'sweep', 'sweet', 'sweetbread', 'sweeten', 'sweetex', 'sweetheart', 'sweeti', 'sweetpotato', 'sweetpotatofri', 'sweetsavori', 'sweettea', 'sweettooth', 'swell', 'swelter', 'swenti', 'swerv', 'swift', 'swiftli', 'swig', 'swim', 'swimsuit', 'swindl', 'swing', 'swinger', 'swipe', 'swirl', 'swiss', 'switch', 'switzerland', 'swivel', 'swoon', 'swoop', 'swordfish', 'symmetr', 'symmetri', 'sympa', 'sympathet', 'sympathi', 'symptom', 'syndic', 'syndrom', 'synonym', 'synthet', 'syrah', 'syrup', 'syrupi', 'system', 'szechwan', 'szw', 'sécrire', 'sélection', 'sérieux', 'südlich', 'süssem', 't0', 'tab', 'tabasco', 'tabaz', 'tabbouleh', 'tabl', 'tablecloth', 'tablenext', 'tablesid', 'tablet', 'tablewait', 'tablier', 'tacki', 'tackl', 'taco', 'tacobel', 'tacosmexican', 'tact', 'tactic', 'tad', 'tag', 'tagliatel', 'tagsüber', 'tahini', 'tai', 'tail', 'tailgat', 'taillight', 'taint', 'tait', 'taiwan', 'taiwanes', 'taj', 'takeadvantageof', 'takeaway', 'takecareof', 'takeforev', 'takeout', 'taker', 'takin', 'tako', 'takoyaki', 'talal', 'tale', 'talent', 'talentueux', 'talk', 'talkabout', 'talki', 'tall', 'talon', 'tamago', 'tamal', 'tamarind', 'también', 'tamburitza', 'tame', 'tammi', 'tampon', 'tan', 'tanaka', 'tandem', 'tandi', 'tandoori', 'tandori', 'tang', 'tangi', 'tank', 'tanner', 'tantal', 'tanya', 'tanzi', 'tao', 'tap', 'tapa', 'tape', 'tapeworm', 'tapioca', 'tapiocapopp', 'tapwat', 'taquito', 'tar', 'tard', 'tardi', 'target', 'tarkari', 'tarnish', 'taro', 'tarragon', 'tart', 'tartar', 'tartin', 'taschen', 'tasha', 'task', 'tass', 'tast', 'tastebud', 'tasteless', 'tastelik', 'taster', 'tastetacular', 'tastey', 'tasti', 'tastic', 'tastier', 'tastingmenu', 'tastyspici', 'tastytastytasti', 'tat', 'tataki', 'tatar', 'tater', 'tatouag', 'tattoo', 'tatum', 'tava', 'tavern', 'taverna', 'tavsiy', 'tax', 'taxco', 'taxi', 'taxicab', 'taxidermist', 'tay', 'taylor', 'tb', 'tbc', 'tbh', 'tcb', 'tcbi', 'td', 'tdcanadatrust', 'tdk', 'te', 'tea', 'teach', 'teacher', 'teacup', 'teal', 'tealatt', 'team', 'teamwork', 'tear', 'teaspoon', 'tech', 'techi', 'technic', 'technician', 'technik', 'techniqu', 'techno', 'technolog', 'tect', 'ted', 'teddi', 'tee', 'teed', 'teen', 'teenag', 'teeni', 'teensi', 'teeter', 'teeth', 'tegacay', 'teil', 'teilchen', 'teilwei', 'teilweis', 'teilweiß', 'tek', 'telegrammstiel', 'telepath', 'telephon', 'teleport', 'televis', 'tell', 'tellement', 'teller', 'telmo', 'temp', 'temper', 'temperament', 'temperatur', 'templ', 'templat', 'templeton', 'tempo', 'tempora', 'temporari', 'temporarili', 'tempt', 'temptat', 'tempura', 'tenant', 'tend', 'tendanc', 'tendenc', 'tender', 'tenderli', 'tenderloan', 'tenderloin', 'tendon', 'tendto', 'tengo', 'tenminut', 'tenni', 'tens', 'tension', 'tent', 'tentacl', 'tepid', 'teppan', 'teppanyaki', 'tequeno', 'tequila', 'teriaki', 'teriff', 'teriyaki', 'term', 'termin', 'termit', 'termof', 'terra', 'terrac', 'terrarium', 'terrass', 'terri', 'terrianl', 'terribl', 'terriblecustomerservic', 'terrier', 'terrif', 'terrifi', 'terrin', 'territori', 'terriyaki', 'teryaki', 'tesco', 'tessaro', 'test', 'testessen', 'testi', 'testimoni', 'tetsu', 'teuer', 'tex', 'texa', 'text', 'textbook', 'textmessag', 'textur', 'tfl', 'tge', 'tgi', 'tgif', 'th', 'thai', 'thaicambodiankhm', 'thaifood', 'thailand', 'thailänder', 'thairestaur', 'thaitea', 'thaivietnames', 'thanaverag', 'thang', 'thanh', 'thank', 'thankgod', 'thankgood', 'thanksgiv', 'thankyouverymuch', 'thanmost', 'thannorm', 'thanx', 'that', 'thaï', 'theater', 'theaterbesuch', 'theatr', 'theft', 'theif', 'theme', 'themepark', 'thenproce', 'theori', 'ther', 'therapeut', 'therapi', 'therapist', 'theresa', 'thermostat', 'thesefolk', 'theseguy', 'thesepeopl', 'theyr', 'theyv', 'thi', 'thick', 'thicken', 'thickli', 'thieveri', 'thigh', 'thin', 'thincrust', 'thing', 'thingabout', 'thingi', 'thinh', 'think', 'thinli', 'thirdli', 'thirsti', 'thirteen', 'thirti', 'thisbusinessdoesnothaveamustard', 'thiscompani', 'thisestablish', 'thisloc', 'thisparticular', 'thispastweekend', 'thisplac', 'thisworld', 'tho', 'thoma', 'thompson', 'thorough', 'thoroughli', 'thoroughlyenjoy', 'thosewho', 'thou', 'thoughout', 'thought', 'thoughtless', 'thousand', 'thr', 'thread', 'threat', 'threaten', 'three', 'threediffer', 'threestar', 'threshold', 'thrift', 'thrifti', 'thrill', 'thrive', 'throat', 'throng', 'throw', 'throwback', 'throwrol', 'thsi', 'thu', 'thud', 'thuggish', 'thule', 'thumb', 'thumbup', 'thunderbird', 'thupka', 'thur', 'thursday', 'thursdaynight', 'thusfar', 'thx', 'thyme', 'thé', 'théâtre', 'ti', 'tibetan', 'tick', 'ticket', 'tickl', 'tide', 'tidey', 'tidi', 'tie', 'tier', 'tiergerecht', 'tiesto', 'tiev', 'tiff', 'tiffani', 'tig', 'tiger', 'tight', 'tighten', 'tikka', 'til', 'tilapia', 'tile', 'tilipia', 'till', 'tilt', 'tim', 'timbit', 'time', 'timefram', 'timeless', 'timelymann', 'timeplac', 'timer', 'timeshar', 'timet', 'timewhich', 'timur', 'tin', 'tina', 'ting', 'tinga', 'tingl', 'tingli', 'tini', 'tinsel', 'tint', 'tip', 'tipirneni', 'tipp', 'tipper', 'tipsi', 'tiramasu', 'tiramasui', 'tiramisu', 'tiramusu', 'tire', 'tirelessli', 'tirerot', 'tiroir', 'tirummsu', 'tisch', 'tissu', 'tit', 'titan', 'titil', 'titl', 'titter', 'titular', 'tivo', 'tivoli', 'tiziki', 'tj', 'tje', 'tk', 'tl', 'tldr', 'to', 'toast', 'toaster', 'toasti', 'tobacco', 'tod', 'today', 'todd', 'toddler', 'todo', 'toe', 'toenail', 'toesi', 'toff', 'toffe', 'tofrom', 'tofu', 'tofurkey', 'tofuw', 'toga', 'togo', 'toi', 'toilet', 'toiletri', 'token', 'tokyo', 'tolan', 'toledo', 'toler', 'toll', 'tom', 'tomatensupp', 'tomatillo', 'tomato', 'tomatoey', 'tomatosauc', 'tomatosoup', 'tommi', 'tomorrow', 'ton', 'tone', 'toner', 'tongu', 'toni', 'tonight', 'tonkines', 'tonkotsu', 'tonn', 'tonof', 'tonshabu', 'tonsil', 'toobad', 'toobusi', 'toofar', 'toohard', 'took', 'tool', 'toolong', 'tooloud', 'toomani', 'toomuch', 'toooo', 'toosalti', 'toosweet', 'tooth', 'toothach', 'toothbrush', 'toothpast', 'toothpick', 'top', 'topgun', 'topic', 'topless', 'topnotch', 'topp', 'toppingsingredi', 'toppl', 'tori', 'torito', 'tornado', 'toro', 'toronto', 'tororo', 'torrey', 'torront', 'torso', 'torta', 'tortellini', 'tortiglioni', 'tortilla', 'tortur', 'toss', 'tostada', 'toston', 'tot', 'total', 'totalbil', 'totalld', 'totallyworth', 'totsfri', 'touch', 'touchscreen', 'tough', 'toujour', 'tour', 'tourist', 'touristi', 'tournament', 'tourney', 'tout', 'tow', 'towel', 'tower', 'towi', 'town', 'towner', 'townhou', 'townhous', 'towni', 'townsquar', 'toxic', 'toy', 'toyota', 'tp', 'tpm', 'tr', 'trace', 'tracey', 'traci', 'track', 'tract', 'tractor', 'trade', 'trademark', 'tradeoff', 'trader', 'tradicion', 'tradit', 'traffic', 'tragic', 'trago', 'trail', 'trailer', 'train', 'traine', 'trainer', 'trainstat', 'tram', 'trampolin', 'tranc', 'tranni', 'tranquil', 'tranquilo', 'transact', 'transfer', 'transfix', 'transform', 'transit', 'translat', 'transmiss', 'transplant', 'transport', 'trap', 'trapez', 'trash', 'trashi', 'trasti', 'trattoria', 'traum', 'trauma', 'traumat', 'traumhaft', 'travel', 'traveloc', 'travelzoo', 'travers', 'travertin', 'travesti', 'travi', 'tray', 'tre', 'tread', 'treadmil', 'treasur', 'treat', 'treatment', 'tree', 'trek', 'tremblay', 'tremend', 'tremont', 'trench', 'trend', 'trendi', 'trentina', 'trepid', 'treppen', 'treue', 'trevor', 'trey', 'tri', 'triag', 'trial', 'triangl', 'tribe', 'tribut', 'trick', 'trickeri', 'tricki', 'trickl', 'trifecta', 'trigger', 'trilog', 'trim', 'triniti', 'trinken', 'trinkenarrogant', 'trinkgeld', 'trio', 'trip', 'tripe', 'tripl', 'trish', 'triumph', 'trivia', 'trivial', 'trivium', 'troop', 'trop', 'trophi', 'tropic', 'tropicana', 'tropicanapeco', 'trossach', 'trot', 'troubl', 'troubleshoot', 'troup', 'trout', 'trouv', 'trouver', 'trouvez', 'troy', 'tru', 'truc', 'truck', 'true', 'trueli', 'truffl', 'trufus', 'truli', 'trump', 'trunk', 'trust', 'trusti', 'trustworthi', 'truth', 'tryingwork', 'tryorder', 'trysomethingnew', 'tryst', 'trè', 'tsa', 'tshirt', 'tso', 'tsuro', 'tt', 'ttc', 'tu', 'tub', 'tubbi', 'tube', 'tuck', 'tuckaway', 'tucson', 'tue', 'tuesday', 'tuesdaynight', 'tuition', 'tuke', 'tulli', 'tumbler', 'tummi', 'tuna', 'tune', 'tuner', 'tuneup', 'tunnel', 'tupelo', 'turd', 'turf', 'turin', 'turkey', 'turkeyham', 'turkeysandwich', 'turkish', 'turn', 'turnaround', 'turnaway', 'turner', 'turninto', 'turnip', 'turnoff', 'turnout', 'turnov', 'turnpik', 'turnstil', 'turntabl', 'turon', 'turtl', 'tuscan', 'tuscani', 'tuscon', 'tutti', 'tux', 'tuxedo', 'tv', 'twa', 'twat', 'tweak', 'tweeker', 'tweet', 'twice', 'twilight', 'twin', 'twink', 'twinki', 'twirl', 'twist', 'twitter', 'twitti', 'twohour', 'twostar', 'twoweek', 'tyle', 'tyler', 'type', 'typeof', 'typic', 'typischen', 'tyson', 'tyvola', 'tzatziki', 'tzaziki', 'tzu', 'témoin', 'típico', 'türken', 'tütchen', 'u', 'u10', 'u2360', 'ube', 'uber', 'uberx', 'ubiquit', 'udder', 'udon', 'udupi', 'ufc', 'ugggggg', 'ugggh', 'ugh', 'ugli', 'uh', 'uhg', 'uhhh', 'uk', 'ulta', 'ulterior', 'ultim', 'ultra', 'ultrasound', 'um', 'uma', 'umami', 'umarmung', 'umbrella', 'umega', 'umenoya', 'umeshiso', 'umeshupineappl', 'umgeben', 'umgebung', 'umm', 'ummm', 'ummmm', 'ummmmmmm', 'umso', 'un', 'unabash', 'unabl', 'unaccept', 'unaccess', 'unaccommod', 'unafraid', 'unagi', 'unangemessen', 'unannounc', 'unapologet', 'unapp', 'unappet', 'unappetiz', 'unapproach', 'unassum', 'unattent', 'unattract', 'unaufmerksam', 'unauthent', 'unavail', 'unavoid', 'unawar', 'unbalanc', 'unbear', 'unbeat', 'unbedingt', 'unbeliev', 'unboth', 'uncal', 'uncar', 'uncc', 'unceremoni', 'unchang', 'uncl', 'unclean', 'unclear', 'unclog', 'uncloth', 'uncomfort', 'uncommon', 'uncook', 'uncouth', 'unctuou', 'und', 'undda', 'undecid', 'undeni', 'underag', 'underappreci', 'underappreciat', 'undercook', 'undercov', 'underdon', 'underdress', 'underestim', 'undergo', 'undergrad', 'underground', 'undergrown', 'undermin', 'underneath', 'underr', 'underst', 'understaf', 'understand', 'understandwhi', 'understat', 'understock', 'underton', 'underway', 'underwhelm', 'undesir', 'undisciplin', 'undistinguish', 'undivid', 'undoubtedli', 'undrink', 'une', 'unearthli', 'uneasi', 'uneat', 'uneduc', 'unemploy', 'unenrol', 'unenthusiast', 'uneven', 'unevenli', 'unexcept', 'unexcit', 'unexpect', 'unexpectedli', 'unfair', 'unfamiliar', 'unfavor', 'unfinish', 'unfit', 'unfold', 'unforgett', 'unforgiv', 'unfortun', 'unfortunatley', 'unfresh', 'unfreundlich', 'unfriendli', 'ungeeignet', 'ungenießbar', 'unger', 'unhappi', 'unhealthi', 'unheard', 'unheat', 'unhelp', 'unhook', 'uni', 'unicorn', 'unidentifi', 'uniform', 'uniformli', 'unimpress', 'uninform', 'uninspir', 'uninsur', 'uninterrupt', 'unintimid', 'union', 'uniqu', 'uniqueflavor', 'unisex', 'unit', 'univers', 'unknown', 'unleash', 'unlik', 'unlikeoth', 'unlimit', 'unload', 'unlock', 'unlv', 'unmatch', 'unmistak', 'unmittelbar', 'unnatur', 'unnecesari', 'unnecessari', 'unnecessarili', 'uno', 'unoccupi', 'unorgan', 'unorigin', 'unpleas', 'unplug', 'unprepar', 'unpretenti', 'unprofession', 'unprofessionel', 'unquestion', 'unravel', 'unreal', 'unreason', 'unreli', 'unremark', 'unrespons', 'unriv', 'unruli', 'unsaf', 'unsalt', 'unsalvag', 'unsanitari', 'unsatisfi', 'unsatisiy', 'unsauci', 'unschedul', 'unscrupul', 'unseal', 'unseason', 'unseasond', 'unseen', 'unser', 'unseren', 'unsettl', 'unsich', 'unsightli', 'unsit', 'unsolicit', 'unsolv', 'unspecifi', 'unspectacular', 'unstopp', 'unsuccess', 'unsur', 'unsurprisingli', 'unsweeten', 'unswept', 'unsympathet', 'unter', 'unteren', 'unterstützen', 'untest', 'until', 'untim', 'unto', 'untoast', 'untouch', 'untru', 'unumgänglich', 'unupholst', 'unus', 'unusu', 'unwarr', 'unwelcom', 'unwil', 'unwind', 'unwittingli', 'unwrap', 'unzufrieden', 'uoft', 'up', 'upbeat', 'upcharg', 'upcom', 'updat', 'updo', 'upfront', 'upgrad', 'uphold', 'upkeep', 'upload', 'uponarriv', 'upper', 'uppiti', 'upsal', 'upscal', 'upsel', 'upset', 'upsid', 'upsidedown', 'upsold', 'upstair', 'uptight', 'uptown', 'upward', 'ur', 'urban', 'urbana', 'urbanshoppingdistrict', 'urchinand', 'urg', 'urgenc', 'urgent', 'urig', 'urin', 'urself', 'ursprünglich', 'us', 'usa', 'usabl', 'usag', 'usb', 'use', 'useful', 'useless', 'uselessli', 'user', 'usher', 'usin', 'usp', 'usrefil', 'ust', 'ustensil', 'usual', 'usw', 'uswhen', 'ut', 'utah', 'utensil', 'util', 'utmost', 'utter', 'utterli', 'uttt', 'uv', 'uye', 'uzi', 'uä', 'v', 'v8', 'va', 'vacat', 'vacation', 'vaccin', 'vacuum', 'vagrant', 'vaihingenmöhringen', 'vaissel', 'val', 'vale', 'valentin', 'valentinespresid', 'valentino', 'valeri', 'valet', 'valid', 'vallarta', 'vallet', 'valley', 'valrhona', 'valu', 'valuabl', 'valv', 'valvona', 'vampir', 'vampiro', 'van', 'vancouv', 'vanderwa', 'vanessa', 'vangi', 'vanilla', 'vanish', 'vape', 'vapor', 'var', 'vari', 'variada', 'variat', 'varieti', 'varietyof', 'variété', 'varner', 'varnish', 'vase', 'vast', 'vastli', 'vatican', 'vaughan', 'vault', 'vaut', 'vcr', 'vdara', 'veal', 'vecchia', 'vee', 'veeeeri', 'veer', 'veg', 'vega', 'vegan', 'veganopt', 'veganvegetarian', 'vegas4select', 'vegashenderson', 'vegastrip', 'vege', 'veget', 'vegetarian', 'vegetarianvegan', 'vegeterian', 'veggi', 'veggieburg', 'veggiesmeat', 'vehicl', 'veil', 'vein', 'velveeta', 'velveti', 'vend', 'vendor', 'venetian', 'venetianpalazzo', 'venezulan', 'venir', 'venison', 'venna', 'venom', 'vent', 'ventano', 'venti', 'ventil', 'ventur', 'venu', 'ver', 'verabredet', 'verabschiedet', 'veramango', 'veranda', 'verbal', 'verbraten', 'verd', 'verdad', 'verdict', 'verführerisch', 'verg', 'vergessen', 'verhältni', 'verif', 'verifi', 'verit', 'verizon', 'verkennen', 'verlegenheit', 'verloren', 'vermicelli', 'vermillion', 'veronica', 'verr', 'verrrrrri', 'vers', 'versa', 'versatil', 'verschiedenen', 'version', 'versionof', 'versorgt', 'versteckt', 'versteh', 'verstehen', 'verströmt', 'versu', 'vertic', 'verwundert', 'verwöhnt', 'veryattent', 'verydisappoint', 'veryentertain', 'veryfriendli', 'verygener', 'veryhelp', 'verylimit', 'verynic', 'verypleas', 'verypleasedwith', 'veryprofession', 'veryreason', 'veryreasonablepric', 'veryrud', 'verytasti', 'verythorough', 'vestig', 'vet', 'veteran', 'vett', 'veux', 'veza', 'vfd', 'vi', 'viaj', 'vianca', 'viand', 'viatur', 'vibactra', 'vibe', 'vibranc', 'vibrant', 'vibrantli', 'vibrat', 'vic', 'vicari', 'vice', 'vichysoiss', 'vicin', 'vicious', 'vicki', 'victim', 'victoria', 'victorian', 'vidal', 'video', 'vieja', 'viel', 'vielem', 'viella', 'vielseitig', 'vien', 'vienna', 'viert', 'viet', 'vietnam', 'vietnames', 'vietthai', 'vietti', 'vieux', 'view', 'viewforth', 'vig', 'vigilado', 'vike', 'vill', 'villa', 'villag', 'vilniu', 'vin', 'vinaigrett', 'vinc', 'vincent', 'vinci', 'vindaloo', 'vine', 'vinegar', 'vinegarging', 'vinegari', 'vintag', 'vintner', 'vinyasa', 'vinyl', 'violat', 'violent', 'violin', 'vip', 'viper', 'virgin', 'virginia', 'virtual', 'virtuel', 'viru', 'visa', 'visibl', 'vision', 'visit', 'visita', 'visitor', 'vist', 'vista', 'vistaprint', 'visual', 'vita', 'vital', 'vitamin', 'vitello', 'vito', 'vittoria', 'viva', 'vivo', 'vivr', 'vlan', 'vocal', 'vocalist', 'vodka', 'vogel', 'vogelhäuschen', 'voic', 'voicemail', 'void', 'voila', 'voir', 'voit', 'volcano', 'voll', 'volleybal', 'volpi', 'volum', 'volunt', 'volvería', 'vom', 'vomit', 'von', 'voom', 'vor', 'vorallem', 'vorau', 'vorbei', 'vorbeischaun', 'vorbereitet', 'vorfreud', 'vorgegeben', 'vorhalt', 'vorher', 'vorspeis', 'vorspeisen', 'vorzug', 'vote', 'vou', 'vouch', 'voucher', 'vovomeena', 'vow', 'vraiment', 'vs', 'vsop', 'vu', 'vuitton', 'vw', 'vício', 'w', 'w117th', 'wa', 'waaaaaaaay', 'waaaay', 'waaah', 'waaay', 'waaayyy', 'waay', 'wach', 'wachstumsraten', 'wack', 'waffl', 'wafflewich', 'wag', 'wage', 'wager', 'wagon', 'wagu', 'wagyu', 'wah', 'wahlburg', 'wahoo', 'wahr', 'waint', 'waistlin', 'wait', 'waiter', 'waitersbartend', 'waiterserv', 'waiterswaitress', 'waiterwaitress', 'waitingroom', 'waitlist', 'waitress', 'waitressthai', 'waitron', 'waitstaff', 'waiv', 'waiver', 'wake', 'wakeup', 'walgreen', 'walk', 'walkaround', 'walkaway', 'walkdist', 'walker', 'walkercat', 'walki', 'walkingdist', 'walkinto', 'walkout', 'walkthrough', 'walkway', 'wall', 'wallac', 'wallet', 'walli', 'wallpap', 'walmart', 'walmartscostco', 'walnut', 'walsh', 'wana', 'wand', 'wander', 'wang', 'wanna', 'wannab', 'want', 'wappl', 'war', 'warcraft', 'ware', 'warehous', 'waren', 'warfield', 'wari', 'warm', 'warmli', 'warmth', 'warn', 'warrant', 'warranti', 'warrenti', 'warrior', 'wartezeiten', 'wasabi', 'wasam', 'waschmaschin', 'wash', 'washcloth', 'washer', 'washerdry', 'washington', 'washroom', 'wasser', 'wasstarv', 'wast', 'waster', 'watch', 'watcher', 'water', 'waterbrin', 'watercrest', 'waterdown', 'waterfal', 'waterfront', 'waterheat', 'wateri', 'watermelon', 'waterproof', 'watersh', 'watershow', 'waunake', 'wave', 'waver', 'waverley', 'waverli', 'wax', 'waxer', 'waxhaw', 'waxi', 'way', 'waygu', 'wayn', 'wayokayyy', 'waytoo', 'waytoomuch', 'wayyyi', 'wayyyyyi', 'wbacon', 'wbg', 'wblue', 'wceram', 'wchees', 'wea', 'weak', 'wealth', 'wealthi', 'weapon', 'wear', 'wearhous', 'weari', 'weather', 'weav', 'web', 'webpag', 'websit', 'wed', 'weddington', 'wedg', 'wedgi', 'wednesday', 'wee', 'weed', 'week', 'weekago', 'weekday', 'weekend', 'weekendnight', 'weeklat', 'weekli', 'weeknight', 'weekshould', 'weeni', 'weera', 'weezer', 'weft', 'weg', 'wegen', 'wei', 'weigh', 'weight', 'weightedmagnet', 'weil', 'wein', 'weird', 'weirdli', 'weiter', 'weiß', 'welch', 'welcom', 'welfar', 'well', 'wellesley', 'wellexecut', 'wellington', 'welllayout', 'wellmaintain', 'wellprepar', 'wellseason', 'wellstock', 'wellwel', 'wellworth', 'welt', 'weltweit', 'wen', 'wendi', 'wenig', 'wenigsten', 'wenn', 'werd', 'werden', 'werenearli', 'werent', 'weret', 'weshalb', 'wesllesli', 'west', 'westen', 'western', 'westgat', 'westin', 'westminst', 'westpark', 'westport', 'westsid', 'westworld', 'wet', 'wether', 'wetter', 'weve', 'wexford', 'wf', 'wfoster', 'wfri', 'wfrie', 'wh', 'whaaaaaat', 'whaaaaat', 'whack', 'whale', 'whammi', 'wharram', 'whataburg', 'whatev', 'whathappen', 'whatsoev', 'whatthey', 'whatttt', 'wheat', 'wheatgrass', 'wheel', 'wheelbarrow', 'wheelchair', 'wheeler', 'wheelhous', 'whelm', 'whet', 'whichev', 'whilst', 'whim', 'whine', 'whiner', 'whip', 'whipcream', 'whirl', 'whirlpool', 'whisk', 'whisker', 'whiskey', 'whisper', 'whistl', 'whitbi', 'white', 'whitechocol', 'whiteric', 'whitewin', 'whitney', 'whittl', 'whiz', 'whoa', 'wholefood', 'wholeprocess', 'wholesom', 'whomev', 'whoo', 'whoop', 'whop', 'whoppi', 'whoppin', 'whore', 'whsmith', 'wi', 'wiaa', 'wibk', 'wich', 'wichtig', 'wick', 'wickedli', 'wide', 'widen', 'widest', 'width', 'wie', 'wieder', 'wiederkomman', 'wield', 'wife', 'wifehood', 'wifi', 'wig', 'wiggl', 'wil', 'wilbur', 'wild', 'wildcat', 'wilder', 'wildfir', 'wildflow', 'wildlif', 'wiley', 'wili', 'wilkerson', 'will', 'willcontinu', 'willdefinit', 'willdefinitelycomeback', 'willdefinitelygoback', 'willdefinitelyreturn', 'wille', 'willi', 'william', 'willing', 'willingli', 'willingto', 'willkommen', 'willnev', 'willnevergoback', 'willneverreturn', 'willodal', 'wilson', 'wilt', 'wimpi', 'win', 'winchel', 'wind', 'windex', 'window', 'windowless', 'windowseat', 'windshield', 'windup', 'wine', 'wineb', 'wineburg', 'winecocktail', 'winelist', 'wineri', 'wineselect', 'wing', 'wingin', 'wingstop', 'wini', 'wink', 'winner', 'winter', 'winterlici', 'winwood', 'wipe', 'wir', 'wird', 'wire', 'wireless', 'wirklich', 'wirt', 'wisconsin', 'wisconsinit', 'wisdom', 'wise', 'wish', 'wishhhhhhhhhhhhh', 'wisp', 'wiss', 'wit', 'witch', 'withdraw', 'wither', 'withhold', 'withoutani', 'withwithout', 'witj', 'witt', 'witti', 'witz', 'wizardri', 'wla', 'wlentil', 'wnw', 'wo', 'wobbl', 'wobei', 'woch', 'wochen', 'wochenend', 'wohl', 'wohlschmeckend', 'wohngegenden', 'wok', 'woke', 'wolf', 'wolfgang', 'wollen', 'wollt', 'woman', 'womanwho', 'women', 'wonder', 'wonderful', 'wonderfulexperi', 'wonderhow', 'wonderland', 'wonderwoman', 'wonita', 'wonk', 'wonka', 'wonki', 'wont', 'wonton', 'woo', 'woochi', 'wood', 'woodbin', 'wooden', 'woodfir', 'woodlawn', 'woodman', 'woodquart', 'woodwork', 'woof', 'woohoo', 'woolen', 'woolli', 'wooohoooo', 'woooo', 'wooooo', 'woope', 'woot', 'woow', 'word', 'work', 'workabl', 'workahol', 'worker', 'workman', 'workmanship', 'workout', 'workoutintens', 'workplac', 'workshop', 'workspac', 'workstat', 'world', 'worldmark', 'worldview', 'worn', 'worri', 'worryabout', 'worst', 'worth', 'wortheveri', 'wortheverypenni', 'worthi', 'worthless', 'woulda', 'woulddefinit', 'woulddefinitelyrecommend', 'wouldhighli', 'wouldhighlyrecommend', 'wouldnt', 'wouldrath', 'wouldrecommend', 'wouldrecommendthisplac', 'woulnt', 'wound', 'wour', 'wout', 'wow', 'wowi', 'wowzer', 'wquinoa', 'wrap', 'wrapper', 'wreal', 'wreck', 'wrestl', 'wright', 'wrigley', 'wrinkl', 'wrist', 'wristband', 'write', 'writehom', 'writehomeabout', 'writer', 'writingli', 'wrong', 'ws', 'wshaken', 'wsm', 'wsop', 'wsweet', 'wtf', 'wtfexp', 'wth', 'wthe', 'wtip', 'wunderbar', 'wurd', 'wurden', 'wurst', 'wuss', 'wuxi', 'wwg', 'wwwadoreorganicinnovationscom', 'wwwbornandbraisedca', 'wwwi4vegascom', 'wyndridg', 'wynn', 'wynnencor', 'wyom', 'wächst', 'wählt', 'wäre', 'würde', 'würdig', 'x', 'xavier', 'xb', 'xd', 'xeo', 'xi', 'xiaoguo', 'xinyu', 'xl', 'xlb', 'xma', 'xo', 'xoxo', 'xpel', 'xplosion', 'xray', 'xs', 'xtreme', 'xu', 'xxx', 'xxxtra', 'y2', 'ya', 'yacht', 'yah', 'yahoo', 'yaki', 'yakisoba', 'yakitori', 'yall', 'yam', 'yama', 'yan', 'yang', 'yank', 'yard', 'yardhous', 'yasu', 'yay', 'yayyyyyyyyy', 'ye', 'yea', 'yeah', 'yeahhh', 'year', 'yearago', 'yearli', 'yearnow', 'yearold', 'yeast', 'yee', 'yell', 'yellat', 'yellow', 'yellowtail', 'yelp', 'yelper', 'yelperselit', 'yelpi', 'yelplif', 'yelpopen', 'yelpreview', 'yelpto', 'yen', 'yep', 'yesterday', 'yield', 'yike', 'yip', 'yippi', 'ymca', 'yo', 'yoga', 'yoghurt', 'yogi', 'yogurt', 'yogurtland', 'yokl', 'yolk', 'yong', 'yongeeglinton', 'york', 'yorkdal', 'yorker', 'yorki', 'yorkland', 'yorkshir', 'yorkvil', 'you', 'youll', 'young', 'youngin', 'youngladi', 'youngman', 'yourself', 'youthberri', 'youtub', 'youv', 'yr', 'yu', 'yucca', 'yuck', 'yucki', 'yuki', 'yukon', 'yum', 'yumm', 'yummer', 'yummi', 'yummm', 'yummmi', 'yummmmm', 'yummu', 'yumserv', 'yup', 'yuppi', 'yuuuum', 'yuyu', 'yuzu', 'yvett', 'yy4gicd4waugbj', 'z', 'zaatar', 'zach', 'zack', 'zahlen', 'zahra', 'zakkushi', 'zambelli', 'zang', 'zap', 'zarkana', 'zart', 'zaru', 'zaziki', 'zedek', 'zeichen', 'zeiss', 'zeit', 'zeller', 'zen', 'zendo', 'zentral', 'zeppelin', 'zeppoli', 'zero', 'zerostar', 'zesti', 'zeu', 'zhen', 'zhou', 'zia', 'ziegelei', 'ziel', 'zilch', 'zin', 'zinc', 'zing', 'zingi', 'zion', 'zip', 'ziplin', 'zippi', 'ziti', 'zoey', 'zoma', 'zombi', 'zone', 'zoo', 'zoom', 'zooman', 'zooza', 'zu', 'zucchini', 'zuckerkrust', 'zufrieden', 'zugerechnet', 'zugewiesen', 'zukunft', 'zum', 'zumba', 'zumind', 'zur', 'zuu', 'zuvorkommend', 'zuzu', 'zuzurechnen', 'zwar', 'zwei', 'zweifelten', 'zweistelligen', 'zwischen', 'zxoh3w4hcqrdainfpmdh', 'zäh', 'zählt', 'à', 'área', 'ça', 'çocuklar', 'çok', 'èm', 'également', 'élargi', 'élevé', 'éméché', 'époqu', 'éprouver', 'équipement', 'éric', 'étaient', 'était', 'étant', 'étion', 'étoil', 'été', 'être', 'ödedim', 'öffnungszeiten', 'öl', 'özellikl', 'übel', 'über', 'überbewertet', 'überforderten', 'überhaupt', 'übernachten', 'überraschen', 'überschaubar', 'übersichtlich', 'überwältigend', 'überwürzt', 'übrigen']\n"
     ]
    }
   ],
   "source": [
    "from sklearn.feature_extraction.text import TfidfVectorizer\n",
    "\n",
    "tfidf_vect = TfidfVectorizer(analyzer=clean_text)\n",
    "X_tfidf = tfidf_vect.fit_transform(lines_)\n",
    "print(X_tfidf.shape)\n",
    "print(tfidf_vect.get_feature_names())"
   ]
  },
  {
   "cell_type": "code",
   "execution_count": 48,
   "metadata": {},
   "outputs": [
    {
     "name": "stdout",
     "output_type": "stream",
     "text": [
      "(20, 605)\n",
      "['', '10', '100', '1145', '18', '1850', '2', '2017', '22', '250', '3rd', '4', '5', '500', '80', 'aaa', 'abel', 'ableto', 'acquaint', 'actual', 'address', 'adult', 'advis', 'afew', 'age', 'agenc', 'aioli', 'alfredo', 'amaz', 'americano', 'ami', 'angi', 'anhour', 'anold', 'anyway', 'approv', 'area', 'arugula', 'ask', 'aswel', 'attach', 'attend', 'attitud', 'avocado', 'awayfrom', 'awesom', 'babi', 'bacon', 'bad', 'bake', 'base', 'batch', 'beauti', 'beef', 'best', 'besti', 'better', 'betterthan', 'bfeastlak', 'biagio', 'big', 'biscuit', 'bitter', 'bland', 'blow', 'booti', 'boozi', 'brake', 'brandnew', 'breakfast', 'brilliant', 'bring', 'brunch', 'bumper', 'bun', 'burger', 'busi', 'cannot', 'car', 'careu', 'carneasada', 'carpetclean', 'case', 'cashier', 'cc', 'certif', 'chain', 'charg', 'charger', 'check', 'checkout', 'cheddarchees', 'cheesecak', 'chef', 'chemic', 'chicken', 'chip', 'chive', 'chocol', 'choos', 'clear', 'client', 'cloth', 'coffe', 'color', 'come', 'comeout', 'comfort', 'comfortfood', 'commentabout', 'compani', 'compar', 'complain', 'confit', 'confus', 'consid', 'cook', 'cooki', 'cornbeefhash', 'cornedbeef', 'corner', 'correct', 'correctli', 'cosmo', 'couldnot', 'coupleof', 'coupon', 'crazi', 'creditcard', 'crispi', 'culinari', 'custom', 'damag', 'david', 'day', 'dealwith', 'debat', 'decad', 'decent', 'decid', 'decor', 'deep', 'delici', 'demand', 'desk', 'di', 'diet', 'dinner', 'dirti', 'disappoint', 'disbelief', 'dish', 'disrupt', 'distract', 'dodg', 'dollar', 'donot', 'donotknow', 'donut', 'doubt', 'dozen', 'dri', 'drink', 'drive', 'drivethrough', 'drizzl', 'drop', 'dunkin', 'earli', 'earn', 'eat', 'egg', 'el', 'email', 'emiss', 'employe', 'endof', 'endup', 'energi', 'enjoy', 'enter', 'entitl', 'epicentr', 'error', 'etc', 'everytim', 'exact', 'excel', 'excitedabout', 'exist', 'experi', 'explain', 'extrem', 'facebook', 'famili', 'familyownbusi', 'fan', 'fanat', 'farm', 'father', 'favorit', 'fb', 'feel', 'feellik', 'fettuccin', 'fewyear', 'fill', 'final', 'find', 'fish', 'fix', 'flavorless', 'folk', 'food', 'forget', 'form', 'free', 'frenchtoast', 'fresh', 'freshli', 'fri', 'fridayeven', 'friend', 'friendli', 'fromscratch', 'frontdesk', 'frychicken', 'fryer', 'fun', 'funni', 'furikak', 'futur', 'garden', 'garlic', 'gentleman', 'ghost', 'glad', 'glaze', 'goat', 'goback', 'gold', 'good', 'goodluck', 'gordo', 'gowrong', 'grab', 'greasi', 'great', 'growup', 'guacamol', 'guess', 'guy', 'hamburg', 'hand', 'handmad', 'hangov', 'hard', 'hash', 'hassl', 'hate', 'hear', 'help', 'hesit', 'highlyrecommend', 'holi', 'holstein', 'home', 'honest', 'hook', 'horribl', 'hotel', 'hour', 'hous', 'husband', 'ice', 'id', 'ifu', 'ignor', 'inadv', 'initi', 'inlaw', 'insid', 'insist', 'interest', 'invega', 'irrespons', 'italian', 'italianfood', 'jambalaya', 'jm', 'joanna', 'job', 'joy', 'juici', 'justin', 'kealon', 'kinda', 'know', 'knowledg', 'knowwhi', 'kobe', 'kreme', 'krispi', 'ladi', 'landscap', 'larg', 'lasagna', 'late', 'latk', 'latt', 'leav', 'let', 'lid', 'lie', 'life', 'light', 'like', 'littl', 'littlebit', 'live', 'lo', 'lobbi', 'local', 'look', 'looklik', 'love', 'lukewarm', 'machin', 'mad', 'magnolia', 'mainten', 'makeanappoint', 'makesens', 'makesur', 'man', 'mayo', 'meal', 'meat', 'meet', 'menu', 'mind', 'modifi', 'mom', 'mostacciolli', 'mother', 'mouth', 'movi', 'multipl', 'mushi', 'mustsay', 'nation', 'natur', 'neat', 'need', 'neg', 'new', 'nextday', 'nexttim', 'nice', 'night', 'noneof', 'nori', 'notic', 'obvious', 'ofcours', 'offens', 'offer', 'oh', 'oilchang', 'ok', 'oliv', 'onlin', 'ontopof', 'onyelp', 'open', 'opinion', 'option', 'order', 'organ', 'outdoor', 'overal', 'overwhelm', 'owner', 'pain', 'pant', 'park', 'parmesan', 'pass', 'past', 'pathet', 'pay', 'pedestrian', 'peopl', 'pepe', 'perfectli', 'person', 'pick', 'pictur', 'pl', 'place', 'plu', 'point', 'polish', 'polit', 'poorservic', 'pop', 'popcorn', 'porkbelli', 'posit', 'positivereview', 'potato', 'premier', 'prettymuch', 'prettysur', 'price', 'print', 'probabl', 'product', 'profession', 'prompt', 'pron', 'pronounc', 'protect', 'proud', 'provid', 'pudd', 'pushi', 'qualiti', 'question', 'quick', 'quickli', 'raw', 'readi', 'realiz', 'reallyenjoy', 'reason', 'receiv', 'recent', 'refund', 'registr', 'regular', 'reliabl', 'reminisc', 'renew', 'repair', 'repres', 'reput', 'reserv', 'resist', 'respons', 'restaur', 'right', 'rim', 'rise', 'river', 'round', 'routin', 'run', 'sampl', 'satisfi', 'saturday', 'saturdaymorn', 'sauc', 'sausag', 'school', 'season', 'seat', 'second', 'secondli', 'send', 'serv', 'server', 'servic', 'shadi', 'shake', 'shantel', 'shepherd', 'shine', 'shop', 'short', 'showup', 'shuttl', 'sip', 'sirloin', 'sit', 'size', 'slice', 'small', 'smell', 'smile', 'smoke', 'soft', 'someonewho', 'somethingdiffer', 'somethingels', 'son', 'sound', 'southern', 'space', 'sparkl', 'spend', 'spici', 'spoon', 'spot', 'sprinkler', 'staff', 'standard', 'stapl', 'start', 'state', 'stayat', 'stop', 'stopbi', 'store', 'strong', 'stuff', 'style', 'summerlin', 'sun', 'sunni', 'super', 'superclean', 'supernic', 'support', 'suppos', 'sure', 'sushi', 'suspend', 'sweetpotatofri', 'syrup', 'system', 'tabl', 'taco', 'talk', 'tast', 'tasteless', 'tell', 'tempura', 'tenant', 'teriyaki', 'test', 'thank', 'theater', 'ther', 'thin', 'thing', 'think', 'thirdli', 'thisloc', 'thisplac', 'thorough', 'throw', 'tim', 'time', 'timeshar', 'tint', 'tire', 'toledo', 'tomato', 'tortilla', 'totallyworth', 'town', 'tri', 'trip', 'tubbi', 'underwhelm', 'unfortun', 'unhealthi', 'unlikeoth', 'urchinand', 'use', 'usual', 'valley', 'veal', 'ventur', 'veryreasonablepric', 'vin', 'visit', 'waffl', 'wait', 'walk', 'walkaway', 'wall', 'want', 'wast', 'way', 'wear', 'websit', 'week', 'weekday', 'weekend', 'welcom', 'win', 'window', 'winelist', 'wing', 'word', 'work', 'worri', 'worth', 'wouldhighlyrecommend', 'wouldrecommend', 'yam', 'yelper', 'yelpreview']\n"
     ]
    },
    {
     "data": {
      "text/html": [
       "<div>\n",
       "<style scoped>\n",
       "    .dataframe tbody tr th:only-of-type {\n",
       "        vertical-align: middle;\n",
       "    }\n",
       "\n",
       "    .dataframe tbody tr th {\n",
       "        vertical-align: top;\n",
       "    }\n",
       "\n",
       "    .dataframe thead th {\n",
       "        text-align: right;\n",
       "    }\n",
       "</style>\n",
       "<table border=\"1\" class=\"dataframe\">\n",
       "  <thead>\n",
       "    <tr style=\"text-align: right;\">\n",
       "      <th></th>\n",
       "      <th></th>\n",
       "      <th>10</th>\n",
       "      <th>100</th>\n",
       "      <th>1145</th>\n",
       "      <th>18</th>\n",
       "      <th>1850</th>\n",
       "      <th>2</th>\n",
       "      <th>2017</th>\n",
       "      <th>22</th>\n",
       "      <th>250</th>\n",
       "      <th>...</th>\n",
       "      <th>wing</th>\n",
       "      <th>word</th>\n",
       "      <th>work</th>\n",
       "      <th>worri</th>\n",
       "      <th>worth</th>\n",
       "      <th>wouldhighlyrecommend</th>\n",
       "      <th>wouldrecommend</th>\n",
       "      <th>yam</th>\n",
       "      <th>yelper</th>\n",
       "      <th>yelpreview</th>\n",
       "    </tr>\n",
       "  </thead>\n",
       "  <tbody>\n",
       "    <tr>\n",
       "      <th>0</th>\n",
       "      <td>0.031156</td>\n",
       "      <td>0.000000</td>\n",
       "      <td>0.000000</td>\n",
       "      <td>0.000000</td>\n",
       "      <td>0.000000</td>\n",
       "      <td>0.000000</td>\n",
       "      <td>0.091784</td>\n",
       "      <td>0.000000</td>\n",
       "      <td>0.000000</td>\n",
       "      <td>0.000000</td>\n",
       "      <td>...</td>\n",
       "      <td>0.00000</td>\n",
       "      <td>0.000000</td>\n",
       "      <td>0.000000</td>\n",
       "      <td>0.00000</td>\n",
       "      <td>0.000000</td>\n",
       "      <td>0.000000</td>\n",
       "      <td>0.000000</td>\n",
       "      <td>0.000000</td>\n",
       "      <td>0.00000</td>\n",
       "      <td>0.000000</td>\n",
       "    </tr>\n",
       "    <tr>\n",
       "      <th>1</th>\n",
       "      <td>0.050893</td>\n",
       "      <td>0.000000</td>\n",
       "      <td>0.000000</td>\n",
       "      <td>0.000000</td>\n",
       "      <td>0.000000</td>\n",
       "      <td>0.000000</td>\n",
       "      <td>0.000000</td>\n",
       "      <td>0.000000</td>\n",
       "      <td>0.000000</td>\n",
       "      <td>0.000000</td>\n",
       "      <td>...</td>\n",
       "      <td>0.00000</td>\n",
       "      <td>0.000000</td>\n",
       "      <td>0.000000</td>\n",
       "      <td>0.00000</td>\n",
       "      <td>0.000000</td>\n",
       "      <td>0.000000</td>\n",
       "      <td>0.000000</td>\n",
       "      <td>0.000000</td>\n",
       "      <td>0.00000</td>\n",
       "      <td>0.000000</td>\n",
       "    </tr>\n",
       "    <tr>\n",
       "      <th>2</th>\n",
       "      <td>0.042919</td>\n",
       "      <td>0.000000</td>\n",
       "      <td>0.000000</td>\n",
       "      <td>0.000000</td>\n",
       "      <td>0.000000</td>\n",
       "      <td>0.000000</td>\n",
       "      <td>0.000000</td>\n",
       "      <td>0.000000</td>\n",
       "      <td>0.000000</td>\n",
       "      <td>0.000000</td>\n",
       "      <td>...</td>\n",
       "      <td>0.00000</td>\n",
       "      <td>0.000000</td>\n",
       "      <td>0.000000</td>\n",
       "      <td>0.00000</td>\n",
       "      <td>0.000000</td>\n",
       "      <td>0.000000</td>\n",
       "      <td>0.000000</td>\n",
       "      <td>0.000000</td>\n",
       "      <td>0.00000</td>\n",
       "      <td>0.000000</td>\n",
       "    </tr>\n",
       "    <tr>\n",
       "      <th>3</th>\n",
       "      <td>0.040069</td>\n",
       "      <td>0.000000</td>\n",
       "      <td>0.000000</td>\n",
       "      <td>0.000000</td>\n",
       "      <td>0.000000</td>\n",
       "      <td>0.000000</td>\n",
       "      <td>0.000000</td>\n",
       "      <td>0.000000</td>\n",
       "      <td>0.000000</td>\n",
       "      <td>0.000000</td>\n",
       "      <td>...</td>\n",
       "      <td>0.00000</td>\n",
       "      <td>0.000000</td>\n",
       "      <td>0.000000</td>\n",
       "      <td>0.00000</td>\n",
       "      <td>0.000000</td>\n",
       "      <td>0.000000</td>\n",
       "      <td>0.000000</td>\n",
       "      <td>0.000000</td>\n",
       "      <td>0.00000</td>\n",
       "      <td>0.000000</td>\n",
       "    </tr>\n",
       "    <tr>\n",
       "      <th>4</th>\n",
       "      <td>0.042757</td>\n",
       "      <td>0.000000</td>\n",
       "      <td>0.000000</td>\n",
       "      <td>0.000000</td>\n",
       "      <td>0.000000</td>\n",
       "      <td>0.000000</td>\n",
       "      <td>0.000000</td>\n",
       "      <td>0.000000</td>\n",
       "      <td>0.000000</td>\n",
       "      <td>0.000000</td>\n",
       "      <td>...</td>\n",
       "      <td>0.00000</td>\n",
       "      <td>0.000000</td>\n",
       "      <td>0.104116</td>\n",
       "      <td>0.00000</td>\n",
       "      <td>0.000000</td>\n",
       "      <td>0.143294</td>\n",
       "      <td>0.000000</td>\n",
       "      <td>0.000000</td>\n",
       "      <td>0.00000</td>\n",
       "      <td>0.143294</td>\n",
       "    </tr>\n",
       "    <tr>\n",
       "      <th>5</th>\n",
       "      <td>0.104047</td>\n",
       "      <td>0.000000</td>\n",
       "      <td>0.000000</td>\n",
       "      <td>0.000000</td>\n",
       "      <td>0.000000</td>\n",
       "      <td>0.000000</td>\n",
       "      <td>0.000000</td>\n",
       "      <td>0.000000</td>\n",
       "      <td>0.000000</td>\n",
       "      <td>0.000000</td>\n",
       "      <td>...</td>\n",
       "      <td>0.00000</td>\n",
       "      <td>0.000000</td>\n",
       "      <td>0.000000</td>\n",
       "      <td>0.00000</td>\n",
       "      <td>0.000000</td>\n",
       "      <td>0.000000</td>\n",
       "      <td>0.000000</td>\n",
       "      <td>0.000000</td>\n",
       "      <td>0.00000</td>\n",
       "      <td>0.000000</td>\n",
       "    </tr>\n",
       "    <tr>\n",
       "      <th>6</th>\n",
       "      <td>0.058548</td>\n",
       "      <td>0.000000</td>\n",
       "      <td>0.000000</td>\n",
       "      <td>0.000000</td>\n",
       "      <td>0.000000</td>\n",
       "      <td>0.000000</td>\n",
       "      <td>0.000000</td>\n",
       "      <td>0.000000</td>\n",
       "      <td>0.000000</td>\n",
       "      <td>0.000000</td>\n",
       "      <td>...</td>\n",
       "      <td>0.00000</td>\n",
       "      <td>0.000000</td>\n",
       "      <td>0.000000</td>\n",
       "      <td>0.00000</td>\n",
       "      <td>0.000000</td>\n",
       "      <td>0.000000</td>\n",
       "      <td>0.000000</td>\n",
       "      <td>0.000000</td>\n",
       "      <td>0.00000</td>\n",
       "      <td>0.000000</td>\n",
       "    </tr>\n",
       "    <tr>\n",
       "      <th>7</th>\n",
       "      <td>0.012125</td>\n",
       "      <td>0.040634</td>\n",
       "      <td>0.000000</td>\n",
       "      <td>0.040634</td>\n",
       "      <td>0.000000</td>\n",
       "      <td>0.000000</td>\n",
       "      <td>0.035718</td>\n",
       "      <td>0.000000</td>\n",
       "      <td>0.000000</td>\n",
       "      <td>0.000000</td>\n",
       "      <td>...</td>\n",
       "      <td>0.00000</td>\n",
       "      <td>0.000000</td>\n",
       "      <td>0.000000</td>\n",
       "      <td>0.00000</td>\n",
       "      <td>0.040634</td>\n",
       "      <td>0.000000</td>\n",
       "      <td>0.000000</td>\n",
       "      <td>0.000000</td>\n",
       "      <td>0.00000</td>\n",
       "      <td>0.000000</td>\n",
       "    </tr>\n",
       "    <tr>\n",
       "      <th>8</th>\n",
       "      <td>0.076370</td>\n",
       "      <td>0.000000</td>\n",
       "      <td>0.000000</td>\n",
       "      <td>0.000000</td>\n",
       "      <td>0.000000</td>\n",
       "      <td>0.000000</td>\n",
       "      <td>0.000000</td>\n",
       "      <td>0.000000</td>\n",
       "      <td>0.000000</td>\n",
       "      <td>0.000000</td>\n",
       "      <td>...</td>\n",
       "      <td>0.00000</td>\n",
       "      <td>0.000000</td>\n",
       "      <td>0.000000</td>\n",
       "      <td>0.00000</td>\n",
       "      <td>0.000000</td>\n",
       "      <td>0.000000</td>\n",
       "      <td>0.000000</td>\n",
       "      <td>0.000000</td>\n",
       "      <td>0.00000</td>\n",
       "      <td>0.000000</td>\n",
       "    </tr>\n",
       "    <tr>\n",
       "      <th>9</th>\n",
       "      <td>0.052828</td>\n",
       "      <td>0.000000</td>\n",
       "      <td>0.000000</td>\n",
       "      <td>0.000000</td>\n",
       "      <td>0.000000</td>\n",
       "      <td>0.000000</td>\n",
       "      <td>0.000000</td>\n",
       "      <td>0.000000</td>\n",
       "      <td>0.000000</td>\n",
       "      <td>0.000000</td>\n",
       "      <td>...</td>\n",
       "      <td>0.00000</td>\n",
       "      <td>0.000000</td>\n",
       "      <td>0.000000</td>\n",
       "      <td>0.00000</td>\n",
       "      <td>0.000000</td>\n",
       "      <td>0.000000</td>\n",
       "      <td>0.000000</td>\n",
       "      <td>0.000000</td>\n",
       "      <td>0.00000</td>\n",
       "      <td>0.000000</td>\n",
       "    </tr>\n",
       "    <tr>\n",
       "      <th>10</th>\n",
       "      <td>0.025592</td>\n",
       "      <td>0.000000</td>\n",
       "      <td>0.085767</td>\n",
       "      <td>0.000000</td>\n",
       "      <td>0.000000</td>\n",
       "      <td>0.000000</td>\n",
       "      <td>0.000000</td>\n",
       "      <td>0.000000</td>\n",
       "      <td>0.000000</td>\n",
       "      <td>0.085767</td>\n",
       "      <td>...</td>\n",
       "      <td>0.00000</td>\n",
       "      <td>0.000000</td>\n",
       "      <td>0.000000</td>\n",
       "      <td>0.00000</td>\n",
       "      <td>0.000000</td>\n",
       "      <td>0.000000</td>\n",
       "      <td>0.000000</td>\n",
       "      <td>0.000000</td>\n",
       "      <td>0.00000</td>\n",
       "      <td>0.000000</td>\n",
       "    </tr>\n",
       "    <tr>\n",
       "      <th>11</th>\n",
       "      <td>0.034777</td>\n",
       "      <td>0.000000</td>\n",
       "      <td>0.000000</td>\n",
       "      <td>0.000000</td>\n",
       "      <td>0.000000</td>\n",
       "      <td>0.000000</td>\n",
       "      <td>0.000000</td>\n",
       "      <td>0.000000</td>\n",
       "      <td>0.000000</td>\n",
       "      <td>0.000000</td>\n",
       "      <td>...</td>\n",
       "      <td>0.00000</td>\n",
       "      <td>0.000000</td>\n",
       "      <td>0.000000</td>\n",
       "      <td>0.00000</td>\n",
       "      <td>0.000000</td>\n",
       "      <td>0.000000</td>\n",
       "      <td>0.000000</td>\n",
       "      <td>0.000000</td>\n",
       "      <td>0.11655</td>\n",
       "      <td>0.000000</td>\n",
       "    </tr>\n",
       "    <tr>\n",
       "      <th>12</th>\n",
       "      <td>0.027246</td>\n",
       "      <td>0.000000</td>\n",
       "      <td>0.000000</td>\n",
       "      <td>0.000000</td>\n",
       "      <td>0.000000</td>\n",
       "      <td>0.000000</td>\n",
       "      <td>0.000000</td>\n",
       "      <td>0.000000</td>\n",
       "      <td>0.000000</td>\n",
       "      <td>0.000000</td>\n",
       "      <td>...</td>\n",
       "      <td>0.09131</td>\n",
       "      <td>0.000000</td>\n",
       "      <td>0.000000</td>\n",
       "      <td>0.09131</td>\n",
       "      <td>0.000000</td>\n",
       "      <td>0.000000</td>\n",
       "      <td>0.000000</td>\n",
       "      <td>0.000000</td>\n",
       "      <td>0.00000</td>\n",
       "      <td>0.000000</td>\n",
       "    </tr>\n",
       "    <tr>\n",
       "      <th>13</th>\n",
       "      <td>0.060749</td>\n",
       "      <td>0.000000</td>\n",
       "      <td>0.000000</td>\n",
       "      <td>0.000000</td>\n",
       "      <td>0.000000</td>\n",
       "      <td>0.000000</td>\n",
       "      <td>0.000000</td>\n",
       "      <td>0.203594</td>\n",
       "      <td>0.203594</td>\n",
       "      <td>0.000000</td>\n",
       "      <td>...</td>\n",
       "      <td>0.00000</td>\n",
       "      <td>0.000000</td>\n",
       "      <td>0.000000</td>\n",
       "      <td>0.00000</td>\n",
       "      <td>0.000000</td>\n",
       "      <td>0.000000</td>\n",
       "      <td>0.000000</td>\n",
       "      <td>0.000000</td>\n",
       "      <td>0.00000</td>\n",
       "      <td>0.000000</td>\n",
       "    </tr>\n",
       "    <tr>\n",
       "      <th>14</th>\n",
       "      <td>0.072716</td>\n",
       "      <td>0.000000</td>\n",
       "      <td>0.000000</td>\n",
       "      <td>0.000000</td>\n",
       "      <td>0.000000</td>\n",
       "      <td>0.000000</td>\n",
       "      <td>0.000000</td>\n",
       "      <td>0.000000</td>\n",
       "      <td>0.000000</td>\n",
       "      <td>0.000000</td>\n",
       "      <td>...</td>\n",
       "      <td>0.00000</td>\n",
       "      <td>0.000000</td>\n",
       "      <td>0.177071</td>\n",
       "      <td>0.00000</td>\n",
       "      <td>0.000000</td>\n",
       "      <td>0.000000</td>\n",
       "      <td>0.000000</td>\n",
       "      <td>0.000000</td>\n",
       "      <td>0.00000</td>\n",
       "      <td>0.000000</td>\n",
       "    </tr>\n",
       "    <tr>\n",
       "      <th>15</th>\n",
       "      <td>0.032733</td>\n",
       "      <td>0.000000</td>\n",
       "      <td>0.000000</td>\n",
       "      <td>0.000000</td>\n",
       "      <td>0.109699</td>\n",
       "      <td>0.109699</td>\n",
       "      <td>0.000000</td>\n",
       "      <td>0.000000</td>\n",
       "      <td>0.000000</td>\n",
       "      <td>0.000000</td>\n",
       "      <td>...</td>\n",
       "      <td>0.00000</td>\n",
       "      <td>0.000000</td>\n",
       "      <td>0.000000</td>\n",
       "      <td>0.00000</td>\n",
       "      <td>0.000000</td>\n",
       "      <td>0.000000</td>\n",
       "      <td>0.000000</td>\n",
       "      <td>0.109699</td>\n",
       "      <td>0.00000</td>\n",
       "      <td>0.000000</td>\n",
       "    </tr>\n",
       "    <tr>\n",
       "      <th>16</th>\n",
       "      <td>0.032551</td>\n",
       "      <td>0.000000</td>\n",
       "      <td>0.000000</td>\n",
       "      <td>0.000000</td>\n",
       "      <td>0.000000</td>\n",
       "      <td>0.000000</td>\n",
       "      <td>0.000000</td>\n",
       "      <td>0.000000</td>\n",
       "      <td>0.000000</td>\n",
       "      <td>0.000000</td>\n",
       "      <td>...</td>\n",
       "      <td>0.00000</td>\n",
       "      <td>0.000000</td>\n",
       "      <td>0.079263</td>\n",
       "      <td>0.00000</td>\n",
       "      <td>0.000000</td>\n",
       "      <td>0.000000</td>\n",
       "      <td>0.109089</td>\n",
       "      <td>0.000000</td>\n",
       "      <td>0.00000</td>\n",
       "      <td>0.000000</td>\n",
       "    </tr>\n",
       "    <tr>\n",
       "      <th>17</th>\n",
       "      <td>0.030089</td>\n",
       "      <td>0.000000</td>\n",
       "      <td>0.000000</td>\n",
       "      <td>0.000000</td>\n",
       "      <td>0.000000</td>\n",
       "      <td>0.000000</td>\n",
       "      <td>0.000000</td>\n",
       "      <td>0.000000</td>\n",
       "      <td>0.000000</td>\n",
       "      <td>0.000000</td>\n",
       "      <td>...</td>\n",
       "      <td>0.00000</td>\n",
       "      <td>0.000000</td>\n",
       "      <td>0.000000</td>\n",
       "      <td>0.00000</td>\n",
       "      <td>0.000000</td>\n",
       "      <td>0.000000</td>\n",
       "      <td>0.000000</td>\n",
       "      <td>0.000000</td>\n",
       "      <td>0.00000</td>\n",
       "      <td>0.000000</td>\n",
       "    </tr>\n",
       "    <tr>\n",
       "      <th>18</th>\n",
       "      <td>0.018444</td>\n",
       "      <td>0.000000</td>\n",
       "      <td>0.000000</td>\n",
       "      <td>0.000000</td>\n",
       "      <td>0.000000</td>\n",
       "      <td>0.000000</td>\n",
       "      <td>0.000000</td>\n",
       "      <td>0.000000</td>\n",
       "      <td>0.000000</td>\n",
       "      <td>0.000000</td>\n",
       "      <td>...</td>\n",
       "      <td>0.00000</td>\n",
       "      <td>0.000000</td>\n",
       "      <td>0.000000</td>\n",
       "      <td>0.00000</td>\n",
       "      <td>0.000000</td>\n",
       "      <td>0.000000</td>\n",
       "      <td>0.000000</td>\n",
       "      <td>0.000000</td>\n",
       "      <td>0.00000</td>\n",
       "      <td>0.000000</td>\n",
       "    </tr>\n",
       "    <tr>\n",
       "      <th>19</th>\n",
       "      <td>0.024717</td>\n",
       "      <td>0.000000</td>\n",
       "      <td>0.000000</td>\n",
       "      <td>0.000000</td>\n",
       "      <td>0.000000</td>\n",
       "      <td>0.000000</td>\n",
       "      <td>0.000000</td>\n",
       "      <td>0.000000</td>\n",
       "      <td>0.000000</td>\n",
       "      <td>0.000000</td>\n",
       "      <td>...</td>\n",
       "      <td>0.00000</td>\n",
       "      <td>0.082835</td>\n",
       "      <td>0.060187</td>\n",
       "      <td>0.00000</td>\n",
       "      <td>0.000000</td>\n",
       "      <td>0.000000</td>\n",
       "      <td>0.000000</td>\n",
       "      <td>0.000000</td>\n",
       "      <td>0.00000</td>\n",
       "      <td>0.000000</td>\n",
       "    </tr>\n",
       "  </tbody>\n",
       "</table>\n",
       "<p>20 rows × 605 columns</p>\n",
       "</div>"
      ],
      "text/plain": [
       "                    10       100      1145        18      1850         2  \\\n",
       "0   0.031156  0.000000  0.000000  0.000000  0.000000  0.000000  0.091784   \n",
       "1   0.050893  0.000000  0.000000  0.000000  0.000000  0.000000  0.000000   \n",
       "2   0.042919  0.000000  0.000000  0.000000  0.000000  0.000000  0.000000   \n",
       "3   0.040069  0.000000  0.000000  0.000000  0.000000  0.000000  0.000000   \n",
       "4   0.042757  0.000000  0.000000  0.000000  0.000000  0.000000  0.000000   \n",
       "5   0.104047  0.000000  0.000000  0.000000  0.000000  0.000000  0.000000   \n",
       "6   0.058548  0.000000  0.000000  0.000000  0.000000  0.000000  0.000000   \n",
       "7   0.012125  0.040634  0.000000  0.040634  0.000000  0.000000  0.035718   \n",
       "8   0.076370  0.000000  0.000000  0.000000  0.000000  0.000000  0.000000   \n",
       "9   0.052828  0.000000  0.000000  0.000000  0.000000  0.000000  0.000000   \n",
       "10  0.025592  0.000000  0.085767  0.000000  0.000000  0.000000  0.000000   \n",
       "11  0.034777  0.000000  0.000000  0.000000  0.000000  0.000000  0.000000   \n",
       "12  0.027246  0.000000  0.000000  0.000000  0.000000  0.000000  0.000000   \n",
       "13  0.060749  0.000000  0.000000  0.000000  0.000000  0.000000  0.000000   \n",
       "14  0.072716  0.000000  0.000000  0.000000  0.000000  0.000000  0.000000   \n",
       "15  0.032733  0.000000  0.000000  0.000000  0.109699  0.109699  0.000000   \n",
       "16  0.032551  0.000000  0.000000  0.000000  0.000000  0.000000  0.000000   \n",
       "17  0.030089  0.000000  0.000000  0.000000  0.000000  0.000000  0.000000   \n",
       "18  0.018444  0.000000  0.000000  0.000000  0.000000  0.000000  0.000000   \n",
       "19  0.024717  0.000000  0.000000  0.000000  0.000000  0.000000  0.000000   \n",
       "\n",
       "        2017        22       250     ...         wing      word      work  \\\n",
       "0   0.000000  0.000000  0.000000     ...      0.00000  0.000000  0.000000   \n",
       "1   0.000000  0.000000  0.000000     ...      0.00000  0.000000  0.000000   \n",
       "2   0.000000  0.000000  0.000000     ...      0.00000  0.000000  0.000000   \n",
       "3   0.000000  0.000000  0.000000     ...      0.00000  0.000000  0.000000   \n",
       "4   0.000000  0.000000  0.000000     ...      0.00000  0.000000  0.104116   \n",
       "5   0.000000  0.000000  0.000000     ...      0.00000  0.000000  0.000000   \n",
       "6   0.000000  0.000000  0.000000     ...      0.00000  0.000000  0.000000   \n",
       "7   0.000000  0.000000  0.000000     ...      0.00000  0.000000  0.000000   \n",
       "8   0.000000  0.000000  0.000000     ...      0.00000  0.000000  0.000000   \n",
       "9   0.000000  0.000000  0.000000     ...      0.00000  0.000000  0.000000   \n",
       "10  0.000000  0.000000  0.085767     ...      0.00000  0.000000  0.000000   \n",
       "11  0.000000  0.000000  0.000000     ...      0.00000  0.000000  0.000000   \n",
       "12  0.000000  0.000000  0.000000     ...      0.09131  0.000000  0.000000   \n",
       "13  0.203594  0.203594  0.000000     ...      0.00000  0.000000  0.000000   \n",
       "14  0.000000  0.000000  0.000000     ...      0.00000  0.000000  0.177071   \n",
       "15  0.000000  0.000000  0.000000     ...      0.00000  0.000000  0.000000   \n",
       "16  0.000000  0.000000  0.000000     ...      0.00000  0.000000  0.079263   \n",
       "17  0.000000  0.000000  0.000000     ...      0.00000  0.000000  0.000000   \n",
       "18  0.000000  0.000000  0.000000     ...      0.00000  0.000000  0.000000   \n",
       "19  0.000000  0.000000  0.000000     ...      0.00000  0.082835  0.060187   \n",
       "\n",
       "      worri     worth  wouldhighlyrecommend  wouldrecommend       yam  \\\n",
       "0   0.00000  0.000000              0.000000        0.000000  0.000000   \n",
       "1   0.00000  0.000000              0.000000        0.000000  0.000000   \n",
       "2   0.00000  0.000000              0.000000        0.000000  0.000000   \n",
       "3   0.00000  0.000000              0.000000        0.000000  0.000000   \n",
       "4   0.00000  0.000000              0.143294        0.000000  0.000000   \n",
       "5   0.00000  0.000000              0.000000        0.000000  0.000000   \n",
       "6   0.00000  0.000000              0.000000        0.000000  0.000000   \n",
       "7   0.00000  0.040634              0.000000        0.000000  0.000000   \n",
       "8   0.00000  0.000000              0.000000        0.000000  0.000000   \n",
       "9   0.00000  0.000000              0.000000        0.000000  0.000000   \n",
       "10  0.00000  0.000000              0.000000        0.000000  0.000000   \n",
       "11  0.00000  0.000000              0.000000        0.000000  0.000000   \n",
       "12  0.09131  0.000000              0.000000        0.000000  0.000000   \n",
       "13  0.00000  0.000000              0.000000        0.000000  0.000000   \n",
       "14  0.00000  0.000000              0.000000        0.000000  0.000000   \n",
       "15  0.00000  0.000000              0.000000        0.000000  0.109699   \n",
       "16  0.00000  0.000000              0.000000        0.109089  0.000000   \n",
       "17  0.00000  0.000000              0.000000        0.000000  0.000000   \n",
       "18  0.00000  0.000000              0.000000        0.000000  0.000000   \n",
       "19  0.00000  0.000000              0.000000        0.000000  0.000000   \n",
       "\n",
       "     yelper  yelpreview  \n",
       "0   0.00000    0.000000  \n",
       "1   0.00000    0.000000  \n",
       "2   0.00000    0.000000  \n",
       "3   0.00000    0.000000  \n",
       "4   0.00000    0.143294  \n",
       "5   0.00000    0.000000  \n",
       "6   0.00000    0.000000  \n",
       "7   0.00000    0.000000  \n",
       "8   0.00000    0.000000  \n",
       "9   0.00000    0.000000  \n",
       "10  0.00000    0.000000  \n",
       "11  0.11655    0.000000  \n",
       "12  0.00000    0.000000  \n",
       "13  0.00000    0.000000  \n",
       "14  0.00000    0.000000  \n",
       "15  0.00000    0.000000  \n",
       "16  0.00000    0.000000  \n",
       "17  0.00000    0.000000  \n",
       "18  0.00000    0.000000  \n",
       "19  0.00000    0.000000  \n",
       "\n",
       "[20 rows x 605 columns]"
      ]
     },
     "execution_count": 48,
     "metadata": {},
     "output_type": "execute_result"
    }
   ],
   "source": [
    "data_sample = lines_[0:20]\n",
    "\n",
    "tfidf_vect_sample = TfidfVectorizer(analyzer=clean_text)\n",
    "X_tfidf_sample = tfidf_vect_sample.fit_transform(data_sample)\n",
    "print(X_tfidf_sample.shape)\n",
    "print(tfidf_vect_sample.get_feature_names())\n",
    "\n",
    "X_tfidf_df = pd.DataFrame(X_tfidf_sample.toarray())\n",
    "X_tfidf_df.columns = tfidf_vect_sample.get_feature_names()\n",
    "X_tfidf_df"
   ]
  },
  {
   "cell_type": "code",
   "execution_count": 49,
   "metadata": {},
   "outputs": [],
   "source": [
    "from collections import defaultdict\n",
    "dict_series = [0]*len(lines_)\n",
    "i = 0\n",
    "for rev in lines_:\n",
    "    fq= defaultdict(int)\n",
    "    for w in rev.split():\n",
    "        fq[w] += 1\n",
    "    dict_series[i] = fq\n",
    "    i += 1"
   ]
  },
  {
   "cell_type": "code",
   "execution_count": 50,
   "metadata": {},
   "outputs": [
    {
     "data": {
      "text/plain": [
       "defaultdict(int,\n",
       "            {'-PRON-': 2,\n",
       "             'beer': 1,\n",
       "             'bomb': 1,\n",
       "             'bonus': 1,\n",
       "             'chandler': 1,\n",
       "             'definitely': 1,\n",
       "             'delicious': 1,\n",
       "             'dinner': 1,\n",
       "             'great': 1,\n",
       "             'italian_food': 1,\n",
       "             'key': 1,\n",
       "             'list': 1,\n",
       "             'low': 1,\n",
       "             'muffins': 1,\n",
       "             'pepperoni': 1,\n",
       "             'pitcher': 1,\n",
       "             'place': 1,\n",
       "             'reasonably_price': 1,\n",
       "             'serve': 1,\n",
       "             'vibe': 1})"
      ]
     },
     "execution_count": 50,
     "metadata": {},
     "output_type": "execute_result"
    }
   ],
   "source": [
    "fq"
   ]
  },
  {
   "cell_type": "code",
   "execution_count": 51,
   "metadata": {},
   "outputs": [
    {
     "data": {
      "text/plain": [
       "[defaultdict(int,\n",
       "             {\"'s\": 2,\n",
       "              '-PRON-': 11,\n",
       "              '2': 1,\n",
       "              'a_few': 1,\n",
       "              'amy': 1,\n",
       "              'baby': 1,\n",
       "              'bfeastlake': 1,\n",
       "              'biagio': 2,\n",
       "              'big': 1,\n",
       "              'can_not': 1,\n",
       "              'come': 1,\n",
       "              'compare': 1,\n",
       "              'delicious': 1,\n",
       "              'do_not': 2,\n",
       "              'donut': 6,\n",
       "              'dozen': 1,\n",
       "              'drive': 1,\n",
       "              'dunkin': 1,\n",
       "              'eat': 1,\n",
       "              'family': 1,\n",
       "              'fan': 1,\n",
       "              'fix': 1,\n",
       "              'fresh': 2,\n",
       "              'funny': 1,\n",
       "              'good': 2,\n",
       "              'joy': 1,\n",
       "              'kreme': 1,\n",
       "              'krispy': 2,\n",
       "              'lovely': 1,\n",
       "              'man': 1,\n",
       "              'none_of': 1,\n",
       "              'place': 1,\n",
       "              'resist': 1,\n",
       "              'river': 1,\n",
       "              'someone_who': 1,\n",
       "              'sound': 1,\n",
       "              'suppose': 1,\n",
       "              'talk': 1,\n",
       "              'taste': 1,\n",
       "              'think': 1,\n",
       "              'totally_worth': 1,\n",
       "              'tubby': 1,\n",
       "              'unfortunately': 1,\n",
       "              'way': 1,\n",
       "              'week': 1}),\n",
       " defaultdict(int,\n",
       "             {\"'s\": 1,\n",
       "              '-PRON-': 7,\n",
       "              'busy': 1,\n",
       "              'can_not': 1,\n",
       "              'chicken': 2,\n",
       "              'come': 2,\n",
       "              'comfort_food': 1,\n",
       "              'delicious': 1,\n",
       "              'favorite': 1,\n",
       "              'food': 1,\n",
       "              'go_wrong': 1,\n",
       "              'great': 1,\n",
       "              'hangover': 1,\n",
       "              'lo': 2,\n",
       "              'menu': 1,\n",
       "              'ok': 1,\n",
       "              'people': 1,\n",
       "              'place': 1,\n",
       "              'routine': 1,\n",
       "              'saturday_morning': 1,\n",
       "              'service': 1,\n",
       "              'southern': 1,\n",
       "              'staple': 1,\n",
       "              'style': 1,\n",
       "              'thing': 1,\n",
       "              'totally_worth': 1,\n",
       "              'try': 1,\n",
       "              'visit': 1,\n",
       "              'waffle': 2,\n",
       "              'weekend': 1}),\n",
       " defaultdict(int,\n",
       "             {\"'s\": 1,\n",
       "              '-PRON-': 8,\n",
       "              '80': 1,\n",
       "              'angie': 1,\n",
       "              'area': 2,\n",
       "              'attitude': 1,\n",
       "              'away_from': 1,\n",
       "              'check': 1,\n",
       "              'cookie': 1,\n",
       "              'coupon': 1,\n",
       "              'deep': 1,\n",
       "              'do_not': 1,\n",
       "              'drive_through': 1,\n",
       "              'energy': 1,\n",
       "              'every_time': 2,\n",
       "              'find': 1,\n",
       "              'food': 2,\n",
       "              'forget': 1,\n",
       "              'free': 1,\n",
       "              'fryer': 1,\n",
       "              'good': 1,\n",
       "              'grab': 1,\n",
       "              'jm': 1,\n",
       "              'kealon': 1,\n",
       "              'look': 2,\n",
       "              'on_yelp': 1,\n",
       "              'option': 2,\n",
       "              'personality': 1,\n",
       "              'positive': 1,\n",
       "              'smile': 1,\n",
       "              'sparkle': 1,\n",
       "              'stop': 2,\n",
       "              'stop_by': 1,\n",
       "              'this_location': 1,\n",
       "              'welcome': 1}),\n",
       " defaultdict(int,\n",
       "             {'-PRON-': 13,\n",
       "              'beautiful': 1,\n",
       "              'biscuit': 1,\n",
       "              'brunch': 1,\n",
       "              'busy': 1,\n",
       "              'cashier': 1,\n",
       "              'come_out': 1,\n",
       "              'confused': 2,\n",
       "              'confusing': 1,\n",
       "              'disappointing': 1,\n",
       "              'do_not': 1,\n",
       "              'employee': 1,\n",
       "              'end_up': 1,\n",
       "              'excited_about': 1,\n",
       "              'explain': 1,\n",
       "              'flavorless': 1,\n",
       "              'fun': 1,\n",
       "              'help': 1,\n",
       "              'interesting': 1,\n",
       "              'kinda': 1,\n",
       "              'latte': 1,\n",
       "              'lukewarm': 1,\n",
       "              'make_sense': 1,\n",
       "              'new': 1,\n",
       "              'obviously': 1,\n",
       "              'order': 3,\n",
       "              'plus': 1,\n",
       "              'probably': 1,\n",
       "              'saturday_morning': 1,\n",
       "              'seat': 1,\n",
       "              'shepherds': 1,\n",
       "              'sound': 1,\n",
       "              'space': 1,\n",
       "              'tenant': 1,\n",
       "              'underwhelm': 1,\n",
       "              'wait': 1,\n",
       "              'way': 1}),\n",
       " defaultdict(int,\n",
       "             {'-PRON-': 10,\n",
       "              'abel': 1,\n",
       "              'address': 1,\n",
       "              'an_old': 1,\n",
       "              'awesome': 1,\n",
       "              'base': 1,\n",
       "              'choose': 1,\n",
       "              'david': 2,\n",
       "              'exist': 1,\n",
       "              'future': 1,\n",
       "              'gentleman': 1,\n",
       "              'hesitate': 1,\n",
       "              'home': 1,\n",
       "              'knowledgeable': 1,\n",
       "              'landscape': 1,\n",
       "              'lighting': 1,\n",
       "              'live': 1,\n",
       "              'modify': 1,\n",
       "              'outdoor': 1,\n",
       "              'professional': 1,\n",
       "              'question': 1,\n",
       "              'recently': 1,\n",
       "              'repair': 2,\n",
       "              'responsive': 1,\n",
       "              'sprinkler': 2,\n",
       "              'system': 1,\n",
       "              'tim': 2,\n",
       "              'use': 1,\n",
       "              'work': 1,\n",
       "              'would_highly_recommend': 1,\n",
       "              'yelp_review': 1}),\n",
       " defaultdict(int,\n",
       "             {'-PRON-': 1,\n",
       "              'better_than': 1,\n",
       "              'big': 1,\n",
       "              'chain': 1,\n",
       "              'favorite': 1,\n",
       "              'fry_chicken': 1,\n",
       "              'national': 1,\n",
       "              'place': 1,\n",
       "              'probably': 1,\n",
       "              'valley': 1,\n",
       "              'way': 1}),\n",
       " defaultdict(int,\n",
       "             {'-PRON-': 9,\n",
       "              'americano': 1,\n",
       "              'bitter': 1,\n",
       "              'couple_of': 1,\n",
       "              'debate': 1,\n",
       "              'drink': 1,\n",
       "              'extremely': 1,\n",
       "              'great': 1,\n",
       "              'iced': 1,\n",
       "              'like': 1,\n",
       "              'order': 2,\n",
       "              'second': 2,\n",
       "              'sip': 1,\n",
       "              'staff': 1,\n",
       "              'strong': 1,\n",
       "              'sure': 1,\n",
       "              'this_place': 1,\n",
       "              'throw': 1,\n",
       "              'try': 1}),\n",
       " defaultdict(int,\n",
       "             {'$_500': 1,\n",
       "              \"'s\": 3,\n",
       "              '-PRON-': 53,\n",
       "              '10': 1,\n",
       "              '11:45': 1,\n",
       "              '2': 1,\n",
       "              '3rd': 1,\n",
       "              '4': 1,\n",
       "              'aaa': 5,\n",
       "              'advise': 1,\n",
       "              'agency': 1,\n",
       "              'an_hour': 1,\n",
       "              'approve': 1,\n",
       "              'ask': 3,\n",
       "              'brake': 1,\n",
       "              'bring': 3,\n",
       "              'car': 10,\n",
       "              'case': 1,\n",
       "              'certificate': 3,\n",
       "              'charge': 1,\n",
       "              'check_out': 1,\n",
       "              'come': 1,\n",
       "              'correct': 1,\n",
       "              'correctly': 1,\n",
       "              'could_not': 2,\n",
       "              'coupon': 1,\n",
       "              'day': 2,\n",
       "              'do_not': 2,\n",
       "              'drive': 1,\n",
       "              'emission': 9,\n",
       "              'end_of': 1,\n",
       "              'enter': 2,\n",
       "              'error': 1,\n",
       "              'fill': 1,\n",
       "              'find': 1,\n",
       "              'form': 1,\n",
       "              'friday_evening': 1,\n",
       "              'guess': 1,\n",
       "              'hand': 1,\n",
       "              'hassle': 1,\n",
       "              'help': 1,\n",
       "              'home': 1,\n",
       "              'hook': 1,\n",
       "              'hour': 1,\n",
       "              'initially': 1,\n",
       "              'insist': 1,\n",
       "              'machine': 1,\n",
       "              'make_an_appointment': 1,\n",
       "              'multiple': 1,\n",
       "              'need': 2,\n",
       "              'new': 1,\n",
       "              'next_day': 1,\n",
       "              'notice': 1,\n",
       "              'oil_change': 2,\n",
       "              'online': 1,\n",
       "              'pass': 1,\n",
       "              'pay': 1,\n",
       "              'pick': 1,\n",
       "              'point': 1,\n",
       "              'poor_service': 1,\n",
       "              'print': 1,\n",
       "              'ready': 1,\n",
       "              'realize': 1,\n",
       "              'refund': 1,\n",
       "              'registration': 3,\n",
       "              'renew': 2,\n",
       "              'repair': 2,\n",
       "              'round': 2,\n",
       "              'run': 1,\n",
       "              'saturday': 1,\n",
       "              'shop': 1,\n",
       "              'shuttle': 3,\n",
       "              'son': 2,\n",
       "              'state': 4,\n",
       "              'tell': 3,\n",
       "              'test': 4,\n",
       "              'think': 1,\n",
       "              'trip': 2,\n",
       "              'try': 2,\n",
       "              'vin': 1,\n",
       "              'waiting': 1,\n",
       "              'website': 2,\n",
       "              'worth': 1}),\n",
       " defaultdict(int,\n",
       "             {'-PRON-': 3,\n",
       "              'bad': 1,\n",
       "              'baked': 1,\n",
       "              'damage': 1,\n",
       "              'good_luck': 1,\n",
       "              'lid': 1,\n",
       "              'mostacciolli': 1,\n",
       "              'obviously': 1,\n",
       "              'offer': 1,\n",
       "              'open': 1,\n",
       "              'order': 3,\n",
       "              'overwhelming': 1,\n",
       "              'send': 1,\n",
       "              'smell': 1}),\n",
       " defaultdict(int,\n",
       "             {'-PRON-': 3,\n",
       "              'amazing': 1,\n",
       "              'as_well': 1,\n",
       "              'cheesecake': 1,\n",
       "              'chicken': 1,\n",
       "              'chocolate': 2,\n",
       "              'dish': 1,\n",
       "              'eat': 1,\n",
       "              'fish': 1,\n",
       "              'food': 1,\n",
       "              'fun': 1,\n",
       "              'good': 3,\n",
       "              'husband': 1,\n",
       "              'in_vegas': 1,\n",
       "              'jambalaya': 2,\n",
       "              'love': 2,\n",
       "              'neat': 1,\n",
       "              'restaurant': 1,\n",
       "              'service': 1,\n",
       "              'shop': 1,\n",
       "              'store': 1,\n",
       "              'style': 1,\n",
       "              'super': 1,\n",
       "              'super_clean': 1,\n",
       "              'table': 1,\n",
       "              'tasting': 1,\n",
       "              'thing': 1,\n",
       "              'waffle': 1})]"
      ]
     },
     "execution_count": 51,
     "metadata": {},
     "output_type": "execute_result"
    }
   ],
   "source": [
    "# https://programminghistorian.org/en/lessons/counting-frequencies\n",
    "dict_series[0:10]"
   ]
  },
  {
   "cell_type": "code",
   "execution_count": 52,
   "metadata": {},
   "outputs": [],
   "source": [
    "def wordListToFreqDict(wordlist):\n",
    "    wordfreq = [wordlist.count(p) for p in wordlist]\n",
    "    return dict(zip(wordlist,wordfreq))\n",
    "\n",
    "review_series = [wordListToFreqDict(wordstring.split()) for wordstring in lines_]"
   ]
  },
  {
   "cell_type": "code",
   "execution_count": 53,
   "metadata": {},
   "outputs": [
    {
     "data": {
      "text/plain": [
       "[{\"'s\": 2,\n",
       "  '-PRON-': 11,\n",
       "  '2': 1,\n",
       "  'a_few': 1,\n",
       "  'amy': 1,\n",
       "  'baby': 1,\n",
       "  'bfeastlake': 1,\n",
       "  'biagio': 2,\n",
       "  'big': 1,\n",
       "  'can_not': 1,\n",
       "  'come': 1,\n",
       "  'compare': 1,\n",
       "  'delicious': 1,\n",
       "  'do_not': 2,\n",
       "  'donut': 6,\n",
       "  'dozen': 1,\n",
       "  'drive': 1,\n",
       "  'dunkin': 1,\n",
       "  'eat': 1,\n",
       "  'family': 1,\n",
       "  'fan': 1,\n",
       "  'fix': 1,\n",
       "  'fresh': 2,\n",
       "  'funny': 1,\n",
       "  'good': 2,\n",
       "  'joy': 1,\n",
       "  'kreme': 1,\n",
       "  'krispy': 2,\n",
       "  'lovely': 1,\n",
       "  'man': 1,\n",
       "  'none_of': 1,\n",
       "  'place': 1,\n",
       "  'resist': 1,\n",
       "  'river': 1,\n",
       "  'someone_who': 1,\n",
       "  'sound': 1,\n",
       "  'suppose': 1,\n",
       "  'talk': 1,\n",
       "  'taste': 1,\n",
       "  'think': 1,\n",
       "  'totally_worth': 1,\n",
       "  'tubby': 1,\n",
       "  'unfortunately': 1,\n",
       "  'way': 1,\n",
       "  'week': 1},\n",
       " {\"'s\": 1,\n",
       "  '-PRON-': 7,\n",
       "  'busy': 1,\n",
       "  'can_not': 1,\n",
       "  'chicken': 2,\n",
       "  'come': 2,\n",
       "  'comfort_food': 1,\n",
       "  'delicious': 1,\n",
       "  'favorite': 1,\n",
       "  'food': 1,\n",
       "  'go_wrong': 1,\n",
       "  'great': 1,\n",
       "  'hangover': 1,\n",
       "  'lo': 2,\n",
       "  'menu': 1,\n",
       "  'ok': 1,\n",
       "  'people': 1,\n",
       "  'place': 1,\n",
       "  'routine': 1,\n",
       "  'saturday_morning': 1,\n",
       "  'service': 1,\n",
       "  'southern': 1,\n",
       "  'staple': 1,\n",
       "  'style': 1,\n",
       "  'thing': 1,\n",
       "  'totally_worth': 1,\n",
       "  'try': 1,\n",
       "  'visit': 1,\n",
       "  'waffle': 2,\n",
       "  'weekend': 1},\n",
       " {\"'s\": 1,\n",
       "  '-PRON-': 8,\n",
       "  '80': 1,\n",
       "  'angie': 1,\n",
       "  'area': 2,\n",
       "  'attitude': 1,\n",
       "  'away_from': 1,\n",
       "  'check': 1,\n",
       "  'cookie': 1,\n",
       "  'coupon': 1,\n",
       "  'deep': 1,\n",
       "  'do_not': 1,\n",
       "  'drive_through': 1,\n",
       "  'energy': 1,\n",
       "  'every_time': 2,\n",
       "  'find': 1,\n",
       "  'food': 2,\n",
       "  'forget': 1,\n",
       "  'free': 1,\n",
       "  'fryer': 1,\n",
       "  'good': 1,\n",
       "  'grab': 1,\n",
       "  'jm': 1,\n",
       "  'kealon': 1,\n",
       "  'look': 2,\n",
       "  'on_yelp': 1,\n",
       "  'option': 2,\n",
       "  'personality': 1,\n",
       "  'positive': 1,\n",
       "  'smile': 1,\n",
       "  'sparkle': 1,\n",
       "  'stop': 2,\n",
       "  'stop_by': 1,\n",
       "  'this_location': 1,\n",
       "  'welcome': 1},\n",
       " {'-PRON-': 13,\n",
       "  'beautiful': 1,\n",
       "  'biscuit': 1,\n",
       "  'brunch': 1,\n",
       "  'busy': 1,\n",
       "  'cashier': 1,\n",
       "  'come_out': 1,\n",
       "  'confused': 2,\n",
       "  'confusing': 1,\n",
       "  'disappointing': 1,\n",
       "  'do_not': 1,\n",
       "  'employee': 1,\n",
       "  'end_up': 1,\n",
       "  'excited_about': 1,\n",
       "  'explain': 1,\n",
       "  'flavorless': 1,\n",
       "  'fun': 1,\n",
       "  'help': 1,\n",
       "  'interesting': 1,\n",
       "  'kinda': 1,\n",
       "  'latte': 1,\n",
       "  'lukewarm': 1,\n",
       "  'make_sense': 1,\n",
       "  'new': 1,\n",
       "  'obviously': 1,\n",
       "  'order': 3,\n",
       "  'plus': 1,\n",
       "  'probably': 1,\n",
       "  'saturday_morning': 1,\n",
       "  'seat': 1,\n",
       "  'shepherds': 1,\n",
       "  'sound': 1,\n",
       "  'space': 1,\n",
       "  'tenant': 1,\n",
       "  'underwhelm': 1,\n",
       "  'wait': 1,\n",
       "  'way': 1},\n",
       " {'-PRON-': 10,\n",
       "  'abel': 1,\n",
       "  'address': 1,\n",
       "  'an_old': 1,\n",
       "  'awesome': 1,\n",
       "  'base': 1,\n",
       "  'choose': 1,\n",
       "  'david': 2,\n",
       "  'exist': 1,\n",
       "  'future': 1,\n",
       "  'gentleman': 1,\n",
       "  'hesitate': 1,\n",
       "  'home': 1,\n",
       "  'knowledgeable': 1,\n",
       "  'landscape': 1,\n",
       "  'lighting': 1,\n",
       "  'live': 1,\n",
       "  'modify': 1,\n",
       "  'outdoor': 1,\n",
       "  'professional': 1,\n",
       "  'question': 1,\n",
       "  'recently': 1,\n",
       "  'repair': 2,\n",
       "  'responsive': 1,\n",
       "  'sprinkler': 2,\n",
       "  'system': 1,\n",
       "  'tim': 2,\n",
       "  'use': 1,\n",
       "  'work': 1,\n",
       "  'would_highly_recommend': 1,\n",
       "  'yelp_review': 1}]"
      ]
     },
     "execution_count": 53,
     "metadata": {},
     "output_type": "execute_result"
    }
   ],
   "source": [
    "review_series[0:5]"
   ]
  },
  {
   "cell_type": "code",
   "execution_count": 54,
   "metadata": {},
   "outputs": [],
   "source": [
    "# find a way to remove words which are not specific to restaurants\n",
    "# idea: pick a business category which has very less similarity to \n",
    "        # restaurants and remove those words from our word lists"
   ]
  },
  {
   "cell_type": "code",
   "execution_count": 55,
   "metadata": {},
   "outputs": [],
   "source": [
    "# Aggregating businesses by combined reviews will help in identifying similar restaurants.\n",
    "    # can use this for recommending new restaurants\n",
    "    # can also use this in identifying similar users (i.e similar restaurants liked by diff users)\n",
    "# Aggregating user's by combining reviews will help in identifying similar restaurants.\n",
    "    # we will get some sort of score\n",
    "# probably could use that for users\n",
    "\n"
   ]
  },
  {
   "cell_type": "code",
   "execution_count": 56,
   "metadata": {},
   "outputs": [
    {
     "name": "stdout",
     "output_type": "stream",
     "text": [
      "finally\n"
     ]
    }
   ],
   "source": [
    "### Spell checking\n",
    "### english words has a max of two repeated letters consecutively\n",
    "def reduce_lengthening(text):\n",
    "    pattern = re.compile(r\"(.)\\1{2,}\")\n",
    "    return pattern.sub(r\"\\1\\1\", text)\n",
    "\n",
    "print(reduce_lengthening( \"finallllllly\" ))"
   ]
  },
  {
   "cell_type": "code",
   "execution_count": 57,
   "metadata": {},
   "outputs": [
    {
     "ename": "IndentationError",
     "evalue": "expected an indented block (tree.py, line 37)",
     "output_type": "error",
     "traceback": [
      "Traceback \u001b[0;36m(most recent call last)\u001b[0m:\n",
      "  File \u001b[1;32m\"/anaconda3/lib/python3.6/site-packages/IPython/core/interactiveshell.py\"\u001b[0m, line \u001b[1;32m2910\u001b[0m, in \u001b[1;35mrun_code\u001b[0m\n    exec(code_obj, self.user_global_ns, self.user_ns)\n",
      "  File \u001b[1;32m\"<ipython-input-57-1e7b493cf37b>\"\u001b[0m, line \u001b[1;32m6\u001b[0m, in \u001b[1;35m<module>\u001b[0m\n    from pattern3.en import spelling, suggest\n",
      "  File \u001b[1;32m\"/anaconda3/lib/python3.6/site-packages/pattern3/text/en/__init__.py\"\u001b[0m, line \u001b[1;32m22\u001b[0m, in \u001b[1;35m<module>\u001b[0m\n    from pattern3.text import (\n",
      "\u001b[0;36m  File \u001b[0;32m\"/anaconda3/lib/python3.6/site-packages/pattern3/text/__init__.py\"\u001b[0;36m, line \u001b[0;32m28\u001b[0;36m, in \u001b[0;35m<module>\u001b[0;36m\u001b[0m\n\u001b[0;31m    from pattern3.text.tree import Tree, Text, Sentence, Slice, Chunk, PNPChunk, Chink, Word, table\u001b[0m\n",
      "\u001b[0;36m  File \u001b[0;32m\"/anaconda3/lib/python3.6/site-packages/pattern3/text/tree.py\"\u001b[0;36m, line \u001b[0;32m37\u001b[0m\n\u001b[0;31m    except:\u001b[0m\n\u001b[0m         ^\u001b[0m\n\u001b[0;31mIndentationError\u001b[0m\u001b[0;31m:\u001b[0m expected an indented block\n"
     ]
    }
   ],
   "source": [
    "#MODULE = '/Users/rajeshpothamsetty/Downloads/pattern-master/pattern'\n",
    "#import sys\n",
    "#if MODULE not in sys.path: sys.path.append(MODULE)\n",
    "#import pattern\n",
    "\n",
    "from pattern3.en import spelling, suggest\n",
    "\n",
    "word = \"amazzziiing\"\n",
    "word_wlf = reduce_lengthening(word) #calling function defined above\n",
    "print(word_wlf) #word lengthening isn't being able to fix it completely\n",
    "\n",
    "correct_word = suggest(word_wlf) \n",
    "print(correct_word)"
   ]
  },
  {
   "cell_type": "code",
   "execution_count": 58,
   "metadata": {},
   "outputs": [],
   "source": [
    "from textblob import TextBlob\n",
    "from textblob import Word\n",
    "\n",
    "temp_textblob = TextBlob(x_temp)\n",
    "#print(temp_textblob.correct())"
   ]
  },
  {
   "cell_type": "code",
   "execution_count": 59,
   "metadata": {},
   "outputs": [
    {
     "data": {
      "text/plain": [
       "TextBlob(\"-PRON- hear facebook -PRON- good tact place in began -PRON- finally try -PRON- -PRON- friendly employee -PRON- order 4 care aside tact -PRON- -PRON- -PRON- do not come guacamole -PRON- handmade gorilla -PRON- good care aside meat bland juice tact pretty much tactless dry -PRON- think 100 sure -PRON- -PRON- cook big batch let -PRON- sit unlike other tact place $ 2.50 tact decent price size -PRON- price better season freshly cook care aside meat guacamole pipe 's faces el gordon -PRON- cook meat -PRON- order big batch\n",
       "\")"
      ]
     },
     "execution_count": 59,
     "metadata": {},
     "output_type": "execute_result"
    }
   ],
   "source": [
    "temp_correct = temp_textblob.correct()\n",
    "temp_correct"
   ]
  },
  {
   "cell_type": "code",
   "execution_count": 60,
   "metadata": {},
   "outputs": [
    {
     "data": {
      "text/plain": [
       "['pron',\n",
       " 'hear',\n",
       " 'facebook',\n",
       " 'pron',\n",
       " 'good',\n",
       " 'tact',\n",
       " 'place',\n",
       " 'began',\n",
       " 'pron',\n",
       " 'final',\n",
       " 'tri',\n",
       " 'pron',\n",
       " 'pron',\n",
       " 'friendli',\n",
       " 'employe',\n",
       " 'pron',\n",
       " 'order',\n",
       " '4',\n",
       " 'care',\n",
       " 'asid',\n",
       " 'tact',\n",
       " 'pron',\n",
       " 'pron',\n",
       " 'pron',\n",
       " 'come',\n",
       " 'guacamol',\n",
       " 'pron',\n",
       " 'handmad',\n",
       " 'gorilla',\n",
       " 'pron',\n",
       " 'good',\n",
       " 'care',\n",
       " 'asid',\n",
       " 'meat',\n",
       " 'bland',\n",
       " 'juic',\n",
       " 'tact',\n",
       " 'pretti',\n",
       " 'much',\n",
       " 'tactless',\n",
       " 'dri',\n",
       " 'pron',\n",
       " 'think',\n",
       " '100',\n",
       " 'sure',\n",
       " 'pron',\n",
       " 'pron',\n",
       " 'cook',\n",
       " 'big',\n",
       " 'batch',\n",
       " 'let',\n",
       " 'pron',\n",
       " 'sit',\n",
       " 'unlik',\n",
       " 'tact',\n",
       " 'place',\n",
       " '250',\n",
       " 'tact',\n",
       " 'decent',\n",
       " 'price',\n",
       " 'size',\n",
       " 'pron',\n",
       " 'price',\n",
       " 'better',\n",
       " 'season',\n",
       " 'freshli',\n",
       " 'cook',\n",
       " 'care',\n",
       " 'asid',\n",
       " 'meat',\n",
       " 'guacamol',\n",
       " 'pipe',\n",
       " 'face',\n",
       " 'el',\n",
       " 'gordon',\n",
       " 'pron',\n",
       " 'cook',\n",
       " 'meat',\n",
       " 'pron',\n",
       " 'order',\n",
       " 'big',\n",
       " 'batch',\n",
       " '']"
      ]
     },
     "execution_count": 60,
     "metadata": {},
     "output_type": "execute_result"
    }
   ],
   "source": [
    "clean_text(temp_correct) #removes 'e' from arrive; why?"
   ]
  },
  {
   "cell_type": "code",
   "execution_count": 61,
   "metadata": {},
   "outputs": [
    {
     "data": {
      "text/plain": [
       "TextBlob(\"reserve\")"
      ]
     },
     "execution_count": 61,
     "metadata": {},
     "output_type": "execute_result"
    }
   ],
   "source": [
    "TextBlob('reserv').correct()"
   ]
  },
  {
   "cell_type": "code",
   "execution_count": 62,
   "metadata": {},
   "outputs": [
    {
     "data": {
      "text/plain": [
       "TextBlob(\"arrive\")"
      ]
     },
     "execution_count": 62,
     "metadata": {},
     "output_type": "execute_result"
    }
   ],
   "source": [
    "TextBlob('arriv').correct()"
   ]
  },
  {
   "cell_type": "code",
   "execution_count": 63,
   "metadata": {},
   "outputs": [],
   "source": [
    "## Pyspark Basics\n",
    "## https://www.dezyre.com/apache-spark-tutorial/pyspark-tutorial"
   ]
  },
  {
   "cell_type": "code",
   "execution_count": 15,
   "metadata": {},
   "outputs": [],
   "source": [
    "from operator import add\n",
    "from pyspark.ml.feature import RegexTokenizer, CountVectorizer\n",
    "from pyspark.ml.feature import StopWordsRemover, VectorAssembler\n",
    "from pyspark.ml.feature import Word2Vec, Word2VecModel\n",
    "from pyspark.ml.feature import IDF\n",
    "from pyspark.ml import Pipeline, PipelineModel\n",
    "\n",
    "from pyspark.sql.functions import *\n",
    "from pyspark.sql.types import *\n",
    "\n",
    "import folium\n",
    "import html"
   ]
  },
  {
   "cell_type": "code",
   "execution_count": 16,
   "metadata": {},
   "outputs": [],
   "source": [
    "data_path = '/Volumes/Transcend/dataset/'\n",
    "model_path = '/Volumes/Transcend/MDS_Yelp/model/'\n",
    "outout_path = '/Volumes/Transcend/MDS_Yelp/output/'"
   ]
  },
  {
   "cell_type": "code",
   "execution_count": 17,
   "metadata": {},
   "outputs": [
    {
     "name": "stdout",
     "output_type": "stream",
     "text": [
      "root\n",
      " |-- business_id: string (nullable = true)\n",
      " |-- business_name: string (nullable = true)\n",
      " |-- neighborhood: string (nullable = true)\n",
      " |-- address: string (nullable = true)\n",
      " |-- city: string (nullable = true)\n",
      " |-- state: string (nullable = true)\n",
      " |-- postal_code: string (nullable = true)\n",
      " |-- latitude: double (nullable = true)\n",
      " |-- longitude: double (nullable = true)\n",
      " |-- stars: double (nullable = true)\n",
      " |-- review_count: long (nullable = true)\n",
      " |-- categories: array (nullable = true)\n",
      " |    |-- element: string (containsNull = true)\n",
      "\n"
     ]
    }
   ],
   "source": [
    "business_df = spark.read.parquet(data_path + 'business-small.parquet')\n",
    "business_df.printSchema()"
   ]
  },
  {
   "cell_type": "code",
   "execution_count": 18,
   "metadata": {},
   "outputs": [
    {
     "name": "stdout",
     "output_type": "stream",
     "text": [
      "root\n",
      " |-- user_id: string (nullable = true)\n",
      " |-- user_name: string (nullable = true)\n",
      " |-- review_count: long (nullable = true)\n",
      " |-- yelping_since: string (nullable = true)\n",
      " |-- useful: long (nullable = true)\n",
      " |-- funny: long (nullable = true)\n",
      " |-- cool: long (nullable = true)\n",
      " |-- fans: long (nullable = true)\n",
      " |-- average_stars: double (nullable = true)\n",
      "\n"
     ]
    }
   ],
   "source": [
    "user_df = spark.read.parquet(data_path + 'user-small.parquet')\n",
    "user_df.printSchema()"
   ]
  },
  {
   "cell_type": "code",
   "execution_count": 19,
   "metadata": {},
   "outputs": [
    {
     "name": "stdout",
     "output_type": "stream",
     "text": [
      "root\n",
      " |-- review_id: string (nullable = true)\n",
      " |-- user_id: string (nullable = true)\n",
      " |-- business_id: string (nullable = true)\n",
      " |-- stars: long (nullable = true)\n",
      " |-- review_date: string (nullable = true)\n",
      " |-- review_text: string (nullable = true)\n",
      " |-- useful: long (nullable = true)\n",
      " |-- funny: long (nullable = true)\n",
      " |-- cool: long (nullable = true)\n",
      "\n"
     ]
    }
   ],
   "source": [
    "review_df = spark.read.parquet(data_path + 'review-small.parquet')\n",
    "review_df.printSchema()"
   ]
  },
  {
   "cell_type": "code",
   "execution_count": 20,
   "metadata": {},
   "outputs": [
    {
     "name": "stdout",
     "output_type": "stream",
     "text": [
      "+--------------------+--------------------+\n",
      "|             user_id|         review_text|\n",
      "+--------------------+--------------------+\n",
      "|u0LXt3Uea_GidxRW1...|Who would have gu...|\n",
      "|u0LXt3Uea_GidxRW1...|Not bad!! Love th...|\n",
      "|u0LXt3Uea_GidxRW1...|This is currently...|\n",
      "+--------------------+--------------------+\n",
      "only showing top 3 rows\n",
      "\n"
     ]
    }
   ],
   "source": [
    "# create SQL view for later queries\n",
    "review_df.createOrReplaceTempView(\"reviews\")\n",
    "\n",
    "# create review text dataframe\n",
    "reviews_text = spark.sql(\"SELECT user_id, review_text FROM reviews\")\n",
    "reviews_text.show(3)"
   ]
  },
  {
   "cell_type": "code",
   "execution_count": 21,
   "metadata": {},
   "outputs": [
    {
     "data": {
      "text/plain": [
       "73041"
      ]
     },
     "execution_count": 21,
     "metadata": {},
     "output_type": "execute_result"
    }
   ],
   "source": [
    "# concatenate all reviews per restuarant\n",
    "\n",
    "reviews_text_rdd = reviews_text.rdd\n",
    "reviews_by_user_rdd = reviews_text_rdd.map(tuple).reduceByKey(add)  \n",
    "reviews_by_user_df = spark.createDataFrame(reviews_by_user_rdd)\n",
    "reviews_by_user_df = reviews_by_user_df \\\n",
    "                            .withColumnRenamed('_1', 'user_id') \\\n",
    "                            .withColumnRenamed('_2', 'text')\n",
    "reviews_by_user_df.count()"
   ]
  },
  {
   "cell_type": "code",
   "execution_count": 22,
   "metadata": {},
   "outputs": [
    {
     "data": {
      "text/plain": [
       "Row(user_id='nOTl4aPC4tKHK35T3bNauQ', text='I give up on this place! I have gotten burritos and other things from this place on several occasions and it\\'s always been sub-par. Bland food, overcooked, sometimes burnt (nachos). As a result, I haven\\'t bothered going or ordering from there in well over a year. Well, today I had a craving for Mexican and since Toronto has a huge lack of Mexican restaurant choices and because I\\'m busy working at home, my husband and myself decided to order from BarBurrito\\'s delivery. I should also mention that if you go to justeat.ca BarBurrito charges $7 delivery. Orderit.ca has no charge. Don\\'t know if that\\'s the ordering website or the restaurant, but it\\'s a tip for anyone who decides to order from this place.  So I went ahead and placed the order...only to have it be \"rejected\" by BarBurrito, because they are busy right now. This restaurant is listed on two different food ordering sites, but they won\\'t deliver if they don\\'t feel inclined?? SERIOUSLY!   So I have learned my lesson. Don\\'t give places second, or even third chances. And this place...don\\'t even give it a first chance. Not worth it at ALL.I think I may have been let down by this place because of all the rave reviews. But the fact is, I\\'ve eaten here twice and neither time was spectacular.   My expectations of a breakfast place are cheap prices, good food (because eggs are hard to mess up), fast turnover and service. This place has prices on the high end of breakfast place, on weekends they are very crowded and it will take some time to be seated and the food is alright.   The last time I went, I was with my husband and we went in the door to a huge crowd. There was no wait to be seated sign, but we guessed correctly and waited. Problem is that you pay and wait in the same place, which meant people were coming and going in a very small area. It was chaos for awhile. Finally we were seated outside at a picnic table and told that other people may be seated with us at the table, because they lacked space.   The waitress took some time to arrive and by then we were ready to give our order. I ordered eggs and bacon and toast. We also each ordered fruit smoothies. I asked for mine without banana. The waitress came back a few minutes later and said with a straight face, \"The guys back there put like three bananas in your smoothie!\"   It took me a minute to realize she was joking....heh....  We played several rounds of Scrabble on an iphone because the food was taking quite awhile and it finally came out. Our drinks were no where to be seen. We had to ask twice for them. By then we were almost done the food!  The food was alright, but I usually go to places like Egg Smart and for the cost, they give you way more food, for a better price and honestly, I think it tastes way better. These famous \"Boom frites\" are just thick, cut potatoes and they give you one slice of toast!   Anyway, if you\\'re in the area and really want some breakfast, it\\'s not terrible, but I think you can do way better!   Oh, and I disagree that it\\'s a good place for a group. Unless you want to wait forever...or make a group by joining another couple at their picnic table!Sometimes it feels SO good to be SO bad...for you. I have been dying to try out an actual poutinerie for a long time and it did not disappoint. I\\'ve been twice now. Once I had the basic poutine and once I had the pulled pork poutine. Both are good, but I really love that pulled pork poutine. The BBQ sauce they have has just a touch of sweetness and it really compliments the fries and cheese curds. A large poutine is more than enough for two people and I liked the little restaurant space with the 80s glam rock playing and quirky pictures on the walls. I guess my only criticism is that they need more seating. Both times I\\'ve been we got lucky and managed to snag seats as someone was leaving, but it\\'s gross out on the street and this summer anyway, it\\'s been SO hot outside. They don\\'t have space for more seats, so this isn\\'t really something they can easily fix, but maybe something to keep in mind for future establishments? Anyway, if you want a very unhealthy treat, it\\'s a go!While I really enjoyed the noodles, their signature pork buns, which seemed to be something everyone orders and raves about, I did not like at all. The pork was pure fat and while it wasn\\'t gristly, it was SO greasy, the grease positively dripped all over your hands. It was hugely unappetizing. I couldn\\'t taste the cucumbers and didn\\'t see any evidence of scallions. It was basically just pure fat, wrapped in a bland \"bun\". So I guess if you enjoy really fatty, greasy appetizers, this is the right deal. (Really, I can\\'t stress enough how fatty the pork was...it was purely, white, greasy fat! Either change the name of the dish to pork fat buns, or please add some actual pork!)  The noodles however, were quite good and I liked the flavour combinations. I had the dan dan noodles, which is spicy pork, dried scallops and peanuts. I enjoyed that you could really taste the peanuts. I was a little disappointed that the pork was ground pork, instead of shredded pork. It made the dish seem cheaper and less inspired.   I liked the atmosphere, but the seating is at long tables and so you share the space with whoever they place next to you. The seats are long benches, so if you\\'re in the middle of the bench, you have to lift your leg over...I saw guys struggling to do this...now imagine being a girl, wearing a skirt and having to do this. No graceful way to go about that!  To be honest, this place just didn\\'t blow me away enough to make a conscious effort to return. It certainly wasn\\'t terrible, but it wasn\\'t really good either.We booked a reservation at Smith for Summerlicious. One of the major problems was finding it though. Almost every one in our party either didn\\'t see it initially (it\\'s sort of nondescript looking), or weren\\'t sure which door/staircase was the proper one to get inside.  Once inside though, it\\'s an eclectic blend of vintage meets white-washed industrial. If you didn\\'t know that was a style, neither did I, but it totally works. There was a great blend of music in the background...it was a mix, probably an employee just made it, but it was great mood music. I want that mix CD!  My brother had called several weeks ago to make a reservation and somehow they didn\\'t have it. Apparently it\\'s an answering service for reservations and they say they call you back if they can\\'t accommodate you. He never received a call back, so the assumption was that the reservation was alright. Unfortunately, as I said, there was no reservation. The staff apologized profusely though and luckily there was space and they set up a table for us right away.  We ordered from the drink menu and I will say that they drinks are very expensive. The wine is what you would expect and the mixed drink (at least the one I had, the Smith Lemonade) was fantastic, but it was also $12, which is steep even for Toronto bar standards.  As I said, we ordered from the Summerlicious menu. I have heard many comments online that people are feeling disillusioned with Summerlicious because so many restaurants give you the cheapest options and it\\'s not worth the cost. This was NOT the case with Smith at all. There were several great options to choose from and the food was excellent. I had the curried carrot soup, which was spicy but great. Every one else in my party also enjoyed their various appetizers. My main course was a Georgian Bay whitefish, which was done perfectly, just crispy enough on the outside and flaky on the inside. The pork chops were also raved about. There was also a risotto, which two of the three people who ordered it really enjoyed. You can\\'t take that last guy (brother again) too seriously, since he\\'s a very picky eater.  The desserts were all good, however the fudge ice cream, is really just chocolate ice cream, nothing special. The lemon curd tasted like lemon pie filling and was delicious and the bread pudding was heavenly! Seriously, it was SO good.  I think everyone left feeling really satisfied.  It did take a long time to get the food. This wasn\\'t a problem for us, since we were there to converse and I understand that great food may take some time, but if you are really hungry, or looking for a quicker meal, this isn\\'t the right choice. Basically it lost of star because of the lost reservation and lack of visibility from the street. Also, we weren\\'t thrilled with the washrooms. Besides the fact that they are co-ed, which is a little weird, there is one, large sink and a foot peddle to operate it. Since only one person can step on it at a time, you have to wait for that person to finish, before you can wash your hands, which starts to cause a bit of a back-up if more than two people are in the washroom. Also, the hand dryers were weak/not working.  That said, I wouldn\\'t let a slightly annoying bathroom stop me from coming here! This is a nice, little place!Okay, so my rating has gone down from the first time I went here.   I came again, with my family, for my birthday, at the beginning of October. Even though we had a reservation, our table wasn\\'t ready. We were finally seated and the waiter introduced himself...and then disappeared. Came back ten minutes later and took drink orders and then disappeared for 15 minutes...this continued the entire time. Our dinner took A LONG time. It took forever for our drinks to be served and even longer for our food to come out. Then when the food came out, we got two plates and then waited five minutes for one more plate...then waited another five minutes for another plate. It took our group 15 minutes just for us all to receive the food! Obviously we couldn\\'t eat until everyone had been served and the food was getting cold at that point.  Oh, the best part?? Someone mentioned it was my birthday and the waiter said, \"Oh, so you\\'re a January baby,\" indicating to when I was conceived...to my parents. Yes...thank you sir. I would really like to be reminded of my parents\\' doing it, right before dinner...because that\\'s completely appropriate.   So yes, the service this time was TERRIBLE!   BUT, everyone enjoyed their food and thought it was really good, so there ya have it. Service hit or miss, but food is good.Poor Hero Burger is getting a lot of flack from people. I\\'ve never had anything but good experiences here. I think the burgers here are heads and tails above many other gourmet burger places, mainly because the diversity of toppings.   I like the fries here, but they\\'re nothing special. Same with the poutine, same with the onion rings (I;ve tried em all). But those burgers are good! No word of a lie!  I think the prices are pretty standard for these types of burger places and service has always been fine for me.  They have a great coke machine...which I know sounds super weird, but you choose your drink...and then can choose the flavour. For example...if I want Fanta, I select that and can then choose any number of Fanta flavours. I always go with a diet cherry coke...where else does that even exist in Canada???! (I\\'ll tell you actually. You can get that at Licks, but they get really confused when you ask for diet coke, instead of regular...they make it themselves).   Criticisms of the small location are valid. This place is very small and cramped. Not nice to eat in...or even to wait. But it is what it is. They have a mounted flat screen for people to watch and they\\'ve done what can can in a super small space.I went here with my husband and another couple as the start to our double date night. I reserved a table on the Wednesday before and I\\'m glad I did, but even still we were originally seats in a less than ideal table. I spoke to the hostess and a manager came out and graciously moved us, which was very nice of them, because apparently many people call and reserve specific seats!   I have walked by this restaurant a million times and never known it was there. It is directly on Bloor, but in a small \"mall\" which houses The Japanese Foundation and some other businesses. The restaurant is on the second floor and there are no readily visible signs on the street, so you would never think to just walk into this place...maybe that\\'s the point!   The decor of the restaurant is really lovely. They have a huge, stain glass ceiling and dark wooden furniture and Art Nouveau decor. The bathrooms are large, individually sectioned off stall, with white and black tiles everywhere and large, vintage, French ads on the walls.   Two of our party ordered from the Winterlicious menu, one ordered from the regular menu and I ordered from their regular Prix Fixe menu, which they have available all the time and is $7 more than the Winterlicious.   They were also offering some Winterlicious cocktails...I had three (the same one) and they were excellent.   Our appetizers included two salads, which looked great and (according to the orderes) were. My husband ordered the onion soup from the Winterlicious menu and it was great and I ordered the mushroom soup from the prix fixe and it was excellent!  The main courses included steak from the regular menu, which were ordered with steak frites. The steak was a nice cut of meat, prepared exactly as asked and the steak frites were served with a garlic aioli (which we all tried) and was really good!  The lasagna and pork belly were ordered from the Winterlicious menu. Lasagna came in a rounded dish, where it had been baked and was on the smaller side, but satisfying within a three course meal. My husband had the pork belly from the Winterlicious menu and I tried that. The sauce on it and the tenderness of the pork were really nice.   I had the pistachio chicken, which was a huge dish! The chicken breast was served on top of another cut of chicken, but in dark meat. Both had pistachios on top and delicious sauces drizzled along the bottom of the plate and a few apple slices as garnish. I couldn\\'t finish two pieces of chicken and I stuck mostly with the white meat, but it was a nice option to have to two and I tried the dark and it was really excellent as well!   The reason I chose the prix fixe menu over the Winterlicious, was because of the dessert. The Winterlicious had the pistachio chicken as a main and the onion soup was an option for the appetizer, but the desserts set the prix fixe apart. On the Winterlicious menu the option was a rhubarb crumble, or chocolate mousse. Neither of which I really cared for, although I tried it from my husband and it was good. On the prix fixe menu you have a choice of creme brule (which I have heard good things about) and a sticky toffee cake. I asked the waitress what she recommended and she said the sticky toffee, because it was such a lovely, winter dessert. I had been set on the creme brule, but you know what....brules are a dime a dozen. How many places have sticky, toffee cake?   I was NOT disappointed. The cake was amazing! It was a small, singular bundt cake, topped with a toffee crisp and a small scoop of caramel ice cream and surrounded on the plate with warm, caramel. It was decadent and delicious.   Finally I\\'ll mention that our server was lovely and attentive and not a single person in our party were disappointed in any way. We all left very happy and satisfied.   This place is a little on the pricier end (would have been less so except for the three drinks myself and my friend had and the beers that the guys had), but it\\'s great for a nice night out, or a romantic date.   I will definitely come back some time in the future.We went here after dinner, simply for drinks. I wanted a cocktail and my sister recommended this place.   Good choice mon soeur!   This cute little bar has nice, clean decor, with some interesting touches, such as a large, metal cross on one wall, that I was a big fan of.   The service was great and the drinks were a good size and were excellent. My husband had scotch and said it was very smooth (that\\'s more a comment on what they offer, as opposed to bar tending), but my sister and my cocktails were great. They are about average price for cocktails, but the size makes it feel more worth it ($10 for our 3 oz drinks), in large martini glasses.   We didn\\'t have food here, but I would be interested in coming back some time and giving it a try!I went here for the first time yesterday night to celebrate something with my family. Several members of my family have been to this place before for Summerlicious and really enjoyed it.   A nice atmosphere and excellent service, everyone ordered a variety of different dishes, many of which I tasted. I myself had a chicken salad and thought it was very good. My sister\\'s pasta dish was amazing though! Our waiter never rushed us out and was quick to refill water and bread and clear dishes, etc. That with an arm brace on!   Prices are a little high, which is why I didn\\'t give this place five stars...I know those amazing places exist out there with great food AND great prices, but this was a nice evening out.I had a craving for Mexican and came here (ie. Yelp) to figure out what we could do, because there is a very real lack of good Mexican food in Toronto. This place had some good reviews and wasn\\'t too far away from us, so off we went.  Parking in Leaside can be pretty brutal, but we finally found a space and luckily, street parking is free.   The restaurant is tacky, stereotypical, but cozy and we were quickly greeted and seated.   The menu has basic Mexican fare, burritos, fajitas, tacos, with your choice of meat. Nothing too outside of the box, but that\\'s not necessarily a bad thing.   We ordered the guacamole to start and I ordered a chicken enchilada and my husband ordered the chimichanga.   The guacamole is very delicious and creamy, but we had to ask for more nachos and even then it felt like not enough. We were really loading up the chips with the guacamole!   The food came out and the was served with rice, a salad (sort of Italian dressing with feta and tomatoes) and refried beans. The salad was pretty generic and the rice was bland, but the actual main courses were great and the refried beans helped with the spice (I\\'m a wimp).   The appetizer and our main courses came to $30 and we were VERY full.   Service was good and food was good and it wasn\\'t too expensive. It wasn\\'t perfect, but we\\'ll totally be back!Never eaten at this place before, but it\\'s always crowded and I decided that must mean something. I was running errands and hadn\\'t eaten the whole day, so decided to finally give this place a shot. I ordered a chicken sandwich and iced tea.  The iced tea doesn\\'t appear to be iced tea. It was a dark reddish colour and tasted like very watered down pomegranate juice. It was inedible. It was super gross. I was thinking that maybe they made a mistake, but I can\\'t see on the menu anything else it might be and the girl who took my order, poured the drink and gave it to me SAID it was iced tea. Sooooo ew.   Sandwich was alright, but just alright. The \"aroma sauce\" which is a garlic mayo of sorts was good and the roasted red peppers and mozzerella on the sandwich were good. The bread was good, but the chicken was the sort of cheap, crappy chicken you find at Subway, where it\\'s a sort of compressed chicken-like white meat, with fake grill marks on it. It had no taste and really took away from the overall sandwich.   There are soups, salads and of course hot beverages served at this place as well, so I\\'m not writing it off just yet, but this was not a good first impression.Solid soup place...has an ever-so-slightly sketchy vibe to it...you order your soup and the woman disappears into the back...usually closes the sliding window so you can\\'t see back there and then eventually emerges with your soup. Also seems to sell a selection of Jamaican movies in DVD from a glass case...sort of random.  Generous with the veggies, less so with dumplings, but all the soups have great flavour and are decently sized for the price. I wish they would offer some bread or crackers for the soup...would be a nice, easy add-on. But this place is what it is and doesn\\'t bother with the bells and whistles. Really deserves a 3.5 stars. The red bean is my fav by far.I would be more inclined to give this place 3-1/2 stars, but since that\\'s not possible, I\\'m rounding down.   I went here for Sunday lunch with a group for Winterlicious. For $15 we got a choice of appetizer, entree and dessert.   We arrived first and our table was waiting for us. The restaurant was not busy at that point and our waiter was very attentive with water and the wine menu.  Once our party finally arrived we all ordered. I had their Chipotle Sweet Potato & Goat Cheese Dip, which was average. The salads looked much better and got better reviews. Same with the soup. The dip was literally a dollap of dip at the side of the plate with some crostinis on the other end and 1 piece of pickled cauliflower and a few slices of onion in the middle. The dip was good, the pickled cauliflower alright. It was nice when all combined on the crostini (pickled veggies, dip on top of crostini).   I had originally wanted to order the double pork slider, but I saw it arrive at someone else\\'s table and it was literally just the one, single mini pork sandwich, with a few thinly cut fries at the side. It looked good, but it was appetizer size, IF THAT. The chicken sandwich was more reasonably sized, so I ordered that. It was good. I really liked the bread. The macaroni was also more reasonably sized. I sampled it and it was fine. Didn\\'t blow me away.   Dessert was the highlight of the meal for everyone I think. Some people ordered the mousse, which I thought was fine, but the people who ordered it loved, so there you have it. My husband loved his apple terrine, which I tried and was good. I liked the flavour of my creme brule very much, but the top was over toasted and had hardened to the consistency of a thin, hard candy. It was hard to break with my spoon and got stuck in my teeth.   The service was consistently good, so no complaints there. None of us had wine with our lunch (although some had other drinks), so I can\\'t comment there.   This is a tapas bar, so I expect sizes to be small. BUT when sizes are small I expect them to be priced accordingly and/or to be in sharable portions. They gave the prices of each dish if you were to purchased them individually. These would all be hard to share and wouldn\\'t really be worth it. They are nice as a Winterlicious meal, but I\\'m not sure this would be my first choice to go back to.I am surprised at the people complaining about the service, because we found the service to be fine. Especially given how busy and cramped it was. There were no tables, but they got us seats at the bar. The music was maybe a little loud, but I enjoyed the 90s throwback that was happening. The place looks like a dive, it\\'s a total hole in the wall, with no signs to speak of, but I liked the weird atmosphere of weird, old \"ghetto blasters\" on the walls and pics of Arnold in Terminator. It\\'s random, just go with it... But the food....OH the FOOD! We were told that the squash poutine was a must have, so I ordered that and the bulgogi cheese steak, while my friend ordered the poutine and the mackerel. The mackerel was served first. It arrived raw, on a platter and a torch was taken to it to sear the outside and that was it. My friend allowed me a bite and it was so fresh tasting, with a delicious marinade. Next came by bulgogi sandwich. Fresh, delicious bread and amazing bulgogi. Was very pleased. Finally the \"poutines\" arrived. I should say that it was not what we were expecting. I assumed it would be squash on top of fries. But in fact the squash was the fries. THey were lightly fried and covered in a variety of sauce \"gravies\" and scallions and some other stuff that I could neither make out, nor even see clearly (dim lighting). It doesn\\'t matter okay....this stuff was HEAVEN! Both my friend and I took a bite and looked at each other...and proclaimed our new favourite food.  Other people in our party got the wings, which looked amazing and they said they were and The Loosey, which was also proclaimed as delicious. So basically there were no wrong moves. The drink menu was very adventurous...more so than we were, because we didn\\'t take the plunge, although it was fun sitting at the bar and watching the bartender creating them. And splitting the bill for my friend with two others (her birthday), my two \"tapas\" and a generic alcoholic beverage came to just under $30. The prices are extremely reasonable...and honestly once you try this stuff...I mean, I don\\'t want to give them any ideas, but I would have paid more for that fine, fine food. I will be back. Need me some more of that poutine!Our friends got the groupon for four people and took us along. I\\'m very pleased we went! Having never had Ethiopian food before, we were curious, but wary. The deal really helped us dive in. It included two appetizers, four main courses and two desserts. We started with two appetizers, one I wasn\\'t a huge fan of (a \"salad\" with a strong vinegar taste and jalapenos, which I found too strong, although other people in my group really liked it). The other appetizer was similar to an Indian samosa (similar name too, but I can\\'t remember exactly what it was called). They were stuff with lentils and had a flaky shell. They were DELICIOUS. BUT, their appetizers were only made for three people, so there were only three of them! Seems silly when you offer a four person deal.  We each ordered a different main course and they brought them on one large platter, so we could all share. We ordered two vegetarian options, one of lentils and one of chickpeas and one of chicken and one of beef. Basically, the meals are more sauces than anything and they are served with injera, which are sort of bland, cold, bread-like stuff, which comes rolled up. They\\'re nothing special, but they\\'re only used as a sort of utensil, because you use it to scoop up the food. The food was delicious! I especially liked the chickpea dish. Every one of us ended up liking a different dish the best! Worked out well. I personally found the beef dish very tough though.  Once we were stuff with the food, we ordered two desserts. We especially liked the cheesecake (which is obviously not Ethiopian).  We asked if they had any Ethiopian coffees and they said yes. THey showed us the beans, as they were being roasted. Then they came back out with a sort of stone earthenware kettle and some small cups. The coffee was so rich, it was almost like chocolate. They also served it with a large basket of popcorn, which was just perfectly prepared. It was such a nice after dinner snack! I would totally come here just to order the coffee!  It would have been a very expensive dinner without the groupon, so I\\'m not sure I would make this a regularly destination, but as I said, the coffee was fantastic and it\\'s a fun thing to try, especially with friends. Make sure they\\'re good ones, that you don\\'t mind getting messy in front of!A little on the pricey end for baked goods, but the baked goods are GOOD. Also their coffee products are great. The set up is annoying (order your desserts on one side and coffee and food on another side), but the service is good and overall they do a good job.My sister told me that Origin was well known for their delicious brunches, so we made a trip there to see if this was the case.  Origin is pretty new in our area and is very large, but nicely decorated. My only comment would be the washrooms, which feature communal sinks, the kind you find in elementary schools, where you step on the thing at the bottom and water comes out all around. Besides not being very effective to quickly wash hands, it\\'s also wasteful if you\\'re the only one there. Strange concept. Throw back, but not necessarily one wants to remember during their brunch.   Now onto the important part...the food and service. Service started out alright and then immediately got very slow. It took some time to get our drink orders and then took a LONG time to get our actual orders.  I ordered their French toast, my sister ordered tostada and my husband skipped brunch and ordered a meal they offered of a burger, fries covered in some chorizo and sauce and a float. I also ordered a side of bacon...and was told that they were out of bacon...which meant any orders that would have come with bacon were out entirely, or would be served without bacon. I\\'m sorry but a brunch restaurant without bacon? Even the waitress admitted it was ridiculous. We also shared a plate of buscuits with their preserves. These were delicious. Apparently my meal was the one that took the longest. The others got their food and we still waited for five minutes before mine came out. Who knew it would take so long to put a couple of pieces of bread on a plate and cover them with blueberry preserves? My sister said her tostada was quite good. My French toast was nothing special. The toast was \"fancy\", rounded pieces, on top of each other with whipped cream and blueberries in between. The \"maple\" which was supposed to be on the plate (maple syrup I\\'m guessing) was barely present. Tasted like something I could have created with some ease. My husband\\'s dish was the best by far. His burger was juicy and this fries were great. The float was a little silly...this big, meaty burger and fries covered in more meat...paired with a cream soda float in pink and white layers. (Not insulting, we just got a laugh).  Nothing was cheap and then we had to wait a long time again to get our bill and pay. This was all strange because the restaurant was not particularly busy. Because the brunch itself didn\\'t blow me away, food shortages and service, I\\'m not sure if I would bother with brunch again. Oliver and Bonicini in the actual mall has a much better brunch. I might try this again for lunch or dinner though.Well, we decided on a whim that we wanted Mexican food and we called around to some places that were highly rated and no seats were available. One of my favs, Chimichanga\\'s, has disappeared, so we got to a point where we were just calling around to see WHO could take us. Finally...La Revolucion answered!  We walked in and were greeted with....a dishwasher, sitting in the middle of the floor. Sort of strange...maybe some kitchen renos? We walked to meet our friends and their table and were informed that the reservations were not made, or were forgotten and the waitress had had to kick out a single guy from the table and he was eating at the bar. Maybe he was lucky, because the table was SO sticky underneath that my shoes were sticking to the ground. I mean STICKING!  She took our drink orders and then gave us our drinks and walked away. It took us another 15 minutes before we could place our order. Around the table we ordered two burritos, one plate of tacos and one quesadilla and guacamole bites (which is basically nachos and guac).   The guac came out fast, and was quite good, but we then waited for almost forty minutes for our food!  Burritos were a bit bland. Needs some sauce in, or on top. Quesadillas were the same...nothing special. The tacos got favorable reviews, but again, nothing to write home about.   The back area houses a sort of club-like atmosphere, which is described in blogto as: \"...dark textured walls and ambient lighting, it is the opposite of its cocina counterpart. Records adorn the walls and instruments lay strewn about, giving it a relaxed basement rec-room vibe...July will see live music on Thursdays and Fridays with open jam Tuesdays. Flamenco Saturdays are in the works...\"  When we were there (on a Saturday) there was a sign out front for a \"dance party\". The lights were down in the back, with a sort of laser light show and early 90s hip hop music was playing. There were about three, older guys there, just hanging out, drinking. It seemed totally out of place. The music didn\\'t match, certainly wasn\\'t flamenco and that\\'s a weird rec room vibe...if that\\'s even something you would want in a restaurant.  I think this place has potential. People in the area like it and it has a nice vibe to it...or would, had we had better service and less stickiness and washers sitting around. I feel like the space is just not being utilized and that\\'s a shame.   I WOULD have giving this place two stars, but the extra star was a result of the sangria, which is their \"secret recipe\" and were amazing. I had two actually.  Anyway, if I was in the area, I might stop in again, as everything was fine, but I don\\'t think I\\'ll be making any special trips to go there in the future. Don\\'t think I\\'ll be going for any dance parties!Went for lunch with a friend who told me that she has had consistently good food here on prior occasions.   My first thought though was that the restaurant was freezing cold inside, but the atmosphere was nice and the waitress was lovely.  She told us the soup of the day, which was potato garlic and said it could be ordered as a side dish. My friend ordered the salad and the soup and I ordered the calamari sandwich and soup as the side. The sandwich had some great aioli on it and the calamari was nicely done, however I wasn\\'t a huge fan of the bun it was in. It had a sort of sweet taste you might enjoy as a french toast, but not with something savoury and some of the calamari was a little tough. THat said, the sauces covered the taste from the bread and the texture was good and overall it was tasty.  The soup I found to have too much black pepper mixed in. The waitress asked and I mentioned and she brought back a small container with grated parmesan cheese and suggested I mix some in, because it cuts the pepper taste.   She was right! It really helped the soup. She said she does this with soups here all the time...which I\\'m not sure if a very complimentary review of the soups.  My friend said her salad was great and she liked the pepper, but agreed the cheese in the soup made it better.   So while everything was overall A-Okay, it wasn\\'t fantastic. It\\'s solid though and I would go back and try something else another time.I can\\'t figure out why this place has so many good reviews. That was why we chose to order from this place and it was a BIG mistake. My husband called and placed the order and we got a call back saying they had taken down his credit card number incorrectly. Then they called back a few minutes later because they needed directions to our place.  We proceeded to get three more calls from a driver asking us where to go. The confusing thing was that he would ask, but then either carry on a conversation on another phone, or with someone who was with him, instead of listening. Then he would ask for my husband to repeat himself. This happened at least twice every call, for three calls.   Turns out they took the address down completely wrong. Big surprise, considering their listening skills.   We finally got our food and they had screwed up the order and given us a wrong sushi roll. Either way the sushi was among the worst we have tasted. It was a mixture of bland and salty! Basically it was terrible.   On a side note, their dragon rolls are actually unagi rolls. Dragon rolls are called dragon rolls (at EVERY other sushi place) because they have avocado on top, making them green. It is very strange that these guys have decided that that\\'s not the way they want to go.   So yeah, terrible service and bad food...you can bet we won\\'t be bothering with this place again EVER!This place is a bit of an adventure...at least for me. I\\'ve never had charcuterie before and I\\'m not generally a big meat eater, so this was a little out of the box. That said, I like trying to be adventurous and trying new things, so when are visiting friends suggested we give it a go, we went for it. Dinner service is open at 6pm, so we agreed we\\'d arrive at 6pm. We got there at about 6:15....there was already a HUGE wait for a table, but we managed to wrangle seats at the bar.   The four of us ordered a bunch of dishes to split between ourselves. We tried the charcuterie (sort of a platter of assorted sliced meats and pâté), horse tar tar, roasted bone marrow, pork carnitas tacos, tongue on brioche and the foie gras and nutella for dessert.   The dishes came out staggered, so we got to sit around chatting and enjoying ourselves and our cocktails. The charcuterie came out first. It was assorted sliced meats arranged on a wood plank and served with bread. It was actually really nice. Next was the horse tar tar. This was a stretch for me. I don\\'t generally like to eat animals that I LIKE. The people I was with convinced me to try a small bit and I must say, it tasted pretty good, but on principle, I just have trouble with it. Sorry! I hate being one of those people who doesn\\'t have a problem killing the \"ugly\" animals, but doesn\\'t want the cute ones to die...but I am.   Next was the bone marrow, which was....well let\\'s just say I had to keep telling myself not to think about what I was eating. Basically, it\\'s a big bone and the marrow is of course in the middle and has been cooked so that it\\'s almost the consistency of warm butter...pretty fatty and oily looking. You scoop it out with a spoon and put it on bread. It\\'s actually delicious, but feels like you\\'re eating something you shouldn\\'t, purely for health reasons if nothing else! It feels like eating pure fat....tastes as good I suppose.   We had the tongue on brioche, which I was only okay with. The tongue was sliced and presented as a sort of Montreal smoked meat. We were told to open it up and eat it like an open faced sandwich. This made it easier to split certainly. The meat itself was very tender and the brioche was great, but the meat had a horseradish (I think) sauce, which was a bit overpowering.   Finally we had the tacos, which was probably the more \"normal\" thing we had. I actually thought those were my favorite. Wish it was one of the more exciting things, but nope. Those tacos were excellent.   The foie gras with nutella was also delicious. It was served on a banana bread, over a nutella spread...but the fois gras was superflous. It didn\\'t add any taste and was overpowered but the nutella and basically didn\\'t add anything to the dish. Could have been served without. Clearly just added to SAY it was there.   So what\\'s the overall opinion? Well, the restaurant is too small. It\\'s REALLY small, but popular. Wish it was in a bigger location. Sitting at the bar was kind of interesting, because all the cooking was done behind the bar, but that was a small workspace and it got hot, because the oven, dishwasher, stove top and so forth were always turned up very hight. Impressive how they work in such a space though.  Overall the food was very good. SOMEONE knows what they are doing. However, it is quite a pricey place and as I said, sometimes the flavours overpower the meat, or the meat just isn\\'t even necessary. Sometimes you\\'re paying extra for fancy meat dishes that don\\'t even need the meat, or where you can\\'t TASTE the meat.   Those are the only criticisms, but I wouldn\\'t let that keep you from trying this place...but only if you\\'re willing to go out on a limb a bit and as something different. This isn\\'t a go-to place, but it\\'s a fun place to have gone to!   Oh...PS - They don\\'t accept credit cards. Only debit or cash.I have been craving schnitzel for a LONG time, so on the night of my birthday, my husband and I decided to come here. Cafe Polonez was in a great little area, with lots of nice, little shops surrounding it and High Park, of course.   The restaurant is clean and trendy looking and we took a seat, against the wall, in the back. We ordered the platter for two. Since we had never been, it felt like a good idea to try it ALL out. GREAT idea! We were delivered a platter of food that included two schnitzels, two cabbage rolls, 6 perogies and some other sides. Everything was great, but the schnitzel and cabbage rolls in particular were excellent! I ordered two gravies to go with the schnitzel, expecting two, little Swiss Chalet-sized gravies, but instead we got two, huge bowls of gravy. Needless to say, one bowl would have been more than enough for 2 people. They were only $1 apiece, so not the end of the world.   Plenty of food for two people and a great sampler platter to see what they have and what you like.  Service was fast and good and everything was excellent. Totally recommend it and I\\'ll be back. Just thinking about it is making me salivate!Okay, I have only ever ordered food from Sushi One, never been to the actual restaurant. I\\'ve had pretty mixed service in terms of delivery time, but they usually tell you when you order the approximate time of delivery.   Anyway, ordering aside, we keep ordering from Sushi One because the food is consistently good.   We have been ordering from them for years and they switched management some time ago (over a year I think at this point). At first we weren\\'t so sure. The food quality sort of lacked, but they\\'ve picked it up and I think the food is great again.   Yeah, so no complaints. Yummy sushi if you\\'re in the North York area. Win-win!So, below is is original review, which was accompanies by 4 stars, however I\\'ve decided to revise it.   As I said below, when I went to Moroco, it was expensive, but very delicious for a treat. So I decided that I wanted to have my birthday dessert there. I called up to make a reservation for about 10 people. I was informed that for groups of over ten, there is a requirement that every person spends $48!   I kept the reservation for a day to see how many people were actually going to confirm coming out, but since everyone confirmed, I had to call back and cancel my reservation, because I do not want my guests to be obliged to spend $50 on dessert, after we have already had dinner! The girl on the phone said that it usually worked out, because once people had dessert and a drink, it worked out to be enough. As I said below, let\\'s round up and say dessert is $20...so she\\'s saying their drinks are $28!??!   I have wanted to go to Moroco for my birthday since the summer, but that was before I realized how pretentious they are! No thanks! Chocolate is great there, but only go with a couple of people, otherwise you\\'ll have to pay the price!  * * * * *  (Original reviews: Oh my gosh, this place is to DIE for. It\\'s also crazy expensive! This isn\\'t a \"daily treat during the work day\" place, it\\'s a \"I\\'m celebrating something and want a very special treat\" place. Deserts are around the $18/person range.  That said, the atmosphere was amazing. The place is all in black and white and looks/feels very trendy. The desserts though....WOW. Amazing! Chocolate fondue that is heavenly!   Anyway, I\\'ve decided that this is where I want to go for my birthday dinner. Forget conventional dinner. I want a sampler platter of desserts and no sharing and no judgment!)I actually think this restaurant deserves a 3-1/2, but that\\'s not possible. The food is good and the atmosphere is good, but it\\'s quite expensive for what you get (especially for drinks) and I found that the service was mediocre.   We had quite a large group, so we got a variety of pizzas and split them. This was tricky because the pizzas were all divided into four pieces each. Even though we said we were splitting them all, no one seemed to think to split them up a bit more.   They were also quite slow with the service, especially taking our order initially.   But, as I said, the pizzas we ordered were very good. Some stranger combinations were a big hit, like the pear pizza, which worked a bit like a dessert.   The atmosphere is nice, I especially like the basement. So overall if you\\'re looking for a nice night out, I would go for it. If you\\'re looking to just find a good place to eat on a whim, or just because, maybe not.Okay, I left a perfectly good, little pub because my sister swore that she knew people who got food poisoning from it, to come here...and get food poisoning.   NOW, I just want to state that I cannot CONFIRM that it was this place that gave it to me, but let\\'s just say that I had only eaten finger foods at a bridal shower prior to coming here and shortly after dinner I got sick in the middle of a concert. Super fun AND convenient!  The service was good and this is why this place got the extra star. The guy was truly nice and the service quite fast.   You wouldn\\'t think the food would make you sick, because it was very bland.  Tasted like something I could have made myself very easily. I ordered the chicken burrito and I found it was quite dry. THey didn\\'t include any sour cream or guacamole, even on the side, so it was just rice and beans and chicken.   The atmosphere was cute enough, so perhaps as a place to go after work for drinks, but be wary.Went in on a whim and was not disappointed. I had the ODB and my husband had the poutine. Poutine was good...had pulled chicken on it and was tasty, although not entirely unique tasting, but that\\'s fine for this type of place. I had the ODB and it was AMAZE-BALLS! The chicken was a huge portion, on a full waffle. The waffle was the perfect blend of sweetness, with just a bit of syrup and the chicken was crispy and great and so tender it just flaked apart. It had a great sauce on top and the slight kick, blended with the sweetness of the waffle, was a great mix. Portion size was good, food was delicious. Came with a little cup of potato salad...liked the peas, nice touch and the potato salad was a refreshing touch for the whole dish. Still thinking about it hours later....thinking and thinking....*sigh*When deciding where to go to Valentine\\'s Day dinner, we decided to try something a little different and have an \"experience\" , instead of just dinner. So we made reservations at O. Noir. Overall, it was a good time and a good laugh.   One recommendation: Maybe don\\'t wear your BEST clothes to this place, as there is a very really possibility that you will drop food on yourself.   THE WAY IT WORKS: For those of you who don\\'t know - You enter into a lounge with brick walls and dim lights. You pre-order your meal and can order drinks from the bar there. THen you are introduced to your waiter(ess), who is visually impaired, and are led into a pitch black room and seated at your table.   And it IS pitch black. You can\\'t see your hand in front of your face. Your eyes never adjust and there is a sort of entrance way into the room, so you never even get light from the door when someone enters the room.   You are then served your food and have to go about the task of trying to eat it, while blind. This is a challenge, because you can\\'t see the food and because even when you THINK you\\'ve finally speared a veggie, for example, when you bring the fork to your mouth, you realized you\\'ve lost it somewhere along the way. Usually into your lap.   This is DEFINITELY an experience, does an interesting job at raising awareness, but here are my issues with this place: The food was good, but not great. This becomes more apparent when you can\\'t even see the presentation of the food and are reliant entirely on taste. It needs to taste GREAT. This was distinctly forgettable food.   I would have liked to see the room we were in at the end of the meal. YES, I know this would require everyone eating at the same time, no new people entering, but I was a little sketched out about never seeing where I was. Basically, you could be in dirty, dank basement storage room and you\\'d never know!   Finally, it\\'s very expensive!   I found that I liked it to try once and say I\\'ve done it, but it\\'s gimmicky and that doesn\\'t translate well into a place that will become a go-to favorite. Once is enough for me!We were in the area and absolutely starving and I had a craving for pub fare, so this seemed to fit the bill, especially because it\\'s had a few good reviews, but I found it only so-so.   Decor: Another reviewer mentions that the decor seems to be missing something and I agree. It\\'s boring. The booths had gaps where the seat meets with the wooden bench part that holds the seat part up. Hard to describe, but looks cheap and crappy, like they\\'re broken. Our table was very unbalanced and the waitress came and stuck a coaster under it so it would stop rocking. It\\'s small and very cramped.   Food: Selection was pretty standard pub fare, but a bit on the expensive side. I ordered a chicken curry dish and when they asked if I wanted it to be spicy or mild I asked for it to be mild. Either their mild is just VERY spicy and I would hate to try their actual spicy, or they made a mistake. The curry comes with the chicken in sauce, rice and a sort of fried crisp, which was nice. The rice was bland however...or the spice from the curry killed my tastebuds.  My husband chose a burger, which was overall very good, although they charged him two dollars each for bacon and cheese on the burger, which is expensive when your burger is already $15. Not sure the bacon added anything, but the cheese, I\\'ll admit was really good on this burger.   Atmosphere and Service: Service was fine. BUT, since this seems to be a trend...or the gods are intent on making me detest children while eating out, we had another loud, rude child/negligent parent situation (see post on Malaysian place). Another situation where children were screaming and running around and parents were sitting off, by themselves, ignoring them, while the rest of the people in the restaurant had to suffer. The group of older individuals across from us kept leaning over to make comments to us and the two ladies nearby grumbled under their breath.   Once again, this was a problem that could easily have been solved by the restaurant. The kids were part of a party and were in a party room, which is adjacent, but separate from the rest of the dining room. This room had doors on it...which CLOSE, but were propped wide open. All the waitress had to do was go and quietly shut the doors. That\\'s it! Problem solved.   We were getting annoyed and so we didn\\'t bother ordering dessert. Too bad, because they actually looked great. The group across from us ordered a few and were commenting on how good they were.  So yeah...I actually would have given this pub 2 stars even without the screaming kid, but if the screaming kid had not been a problem, we probably would have stayed for dessert and who knows, maybe these guys would be getting 3+ stars. That said, it just didn\\'t do it for me. Overpriced, for only okay food and poor atmosphere.I am just perplexed by the good reviews of this place. Granted there are only 4 as I am writing this, but still they seemed pretty consistent.   We have driven by this place a million times and never given it a second glance, but based on the reviews, off we went to give it a try.  First impressions were pretty good. We were seated right away in a large booth. The restaurant was clean and modern looking, although covered in Halloween decorations, despite it being November 10.   Menu looked pretty good, with lots of selection. The front of the menu is the desserts, which seem to be why most people come here. But we wanted dinner as well. I ordered the shrimp wonton soup and my husband ordered chicken and mushrooms with rice.   We both ordered drinks. I ordered a tea and my husband ordered a mango smoothie.   My drink came out...then my soup came out...neither of my husbands orders came. It took another fifteen minutes for his food to come and his drink came after that! No apologies for the wait.   My soup was pretty basic. The noodles had no taste and a sticky texture. It was bland overall, but not terrible. My drink was good, but small, given the $6 price tag for a tea.   My husbands dish was just gross. The chicken were little balls that looked like chicken fetuses. Maybe they were?? Filled with bones, making them very difficult to eat. The taste was bland and salty.   His drink was good, but the straw didn\\'t reach to the bottom of the glass...which wasn\\'t a glass at all, but a wine decanter. He couldn\\'t reach his drink about half-way through and had to borrow my straw.  We finished our meals and started waiting...and waiting and waiting. No one had come to check and see how our meals were and we had to flag someone down to clear the dishes. A girl finally came to go it and did so without looking, or asking if there was anything else she could get for us, or if we wanted refills.   We REALLY wanted to give this place the benefit of the doubt, so we decided to stick it out and order dessert, since it seemed to be what this place was all about.   We flagged someone down and ordered mixed fruit on a waffle. The presentation of the dish was certainly nice, but it\\'s pretty generic. It\\'s a basic belgian waffle with vanilla ice cream, strawberries, bananas and some melon balls and cool whip whipped cream on top and a sort of Aunt Jemima syrup.   It was pretty good, but nothing special.  Once we finished we flagged someone down to get our bill. He said yes and left...and never came back. We saw his give other people bills and get food...he basically completely forgot about us. We waited for 15 minutes. We started looking around to figure out what happened and noticed that the wait staff were just chilling in the back of the restaurant. One girl was staring aimlessly at the ceiling. Two others were holding hands and swinging their arms in time to the music. Two guys were back there chatting away...it was actually weird.   Finally, we managed to flag down yet a DIFFERENT waitress...this was number 6 (one seated us, one took our order, one cleared the dishes, one took the dessert order and one went to get our bill...apparently, and now this one) and asked her to get our bill. She finally did. We paid...we left a tip (we try hard not be be jerks, even if the service is poor) and left...never to return.   So yeah, bland food, generic desserts and TERRIBLE service = not worth it.   One another note, another review says, \"If you\\'re into young asian girls (and guys), this is the place to hang out.\" I KNOW this person meant nothing by this comment, but I swear there is some creepy dude who has done a Google search of \"Places where young Asian girls and boys hang out\" and found this place based on that review...so you know...probably some creepers hanging around as well. Just sayin\\'! (*Note: This comment, as creepy as it was, had no baring on my review).Well, from what I can see from other peoples\\' reviews, this place has been getting a bad rap because of service. Since I have been several times and never had a bad experience, I can only give my review of this place based on what I have experienced.   That said, it seems like so many people have experienced bad service, that even I am wary of this place now. I have never been during \"peak\" hours, which may account for more attentive service.  As mentioned, I have been to this restaurant several times and really enjoyed myself. I love Mexican food and there doesn\\'t seem to be enough good Mexican restaurants around, so I get excited when I find one with food I enjoy.  I have had their nachos, two types of tacos and a burrito at this place and enjoyed all of them. When I went with a girlfriend, we were advised to get two taco plates and share them, since they give you a few, small tacos on each plate. We did this and really enjoyed both dishes.   The nachos were also great, having been piled high with toppings, not just your grated cheese and some tomatoes.   Drinks were also good. I guess my one criticism would be the price, which I do think is a little high given that Mexican food is quite cheap to produce. I am guessing that the extra cost goes towards the atmosphere, which is trendy...but I gave this same review to another Mexican restaurant I went to in Florida and it looked like someone\\'s kitchen, so I guess it\\'s all in the eye of the beholder.This place does burgers. It does them lots and it does them well. And it does them in about a million combos. Try something different. Just go for it. You will be pleasantly surprised. If you\\'re not...please don\\'t blame me!  Nothing crazy to report. Food was good, service was good. Yum.This is a really good find! It\\'s a small, little restaurant with sort of demented decor, but the food is excellent.   I went with my sister and husband and we were sat down in the small space. Ethiopian is eaten with your hands, so I went to the bathroom to wash my hands. The bathroom is upstairs where there is another upper part of the restaurant and a small bar.   The bathroom was clean, although I did notice a cockroach trap in the corner. I want to specify that the washroom was perfectly clean and I never saw any bugs. It was mildly disconcerting, but you\\'d probably be hard pressed to find any restaurant in downtown without a stray roach SOMEWHERE kicking around in it. Let\\'s just be real!  Anyway, myself and my sister ordered a combo dish of a small portion of all of their veggie options, for two. My husband ordered their \"special\",which was a chicken dish, served with a whole, hard boiled egg.  Our meals arrived and my sister and my meal, was served on a large platter, with spoonfuls of the various dishes all around and a small salad in the middle. Certain parts were better than others, but that\\'s probably a personal preference and nothing was bad. Just good and GOODER (yeah, I KNOW it\\'s not a word).  The prices were also extremely reasonable. The portions of injera (the flat bread you eat the food with) were large and we were given 2 pieces each. That\\'s ALL you would need, but if you\\'re REALLY hungry, the food is served on a large piece of it, so you can literally eat your plate.   Those are the good things. Now onto the not so good things.  The service was a little lacking. We ordered their special coffee at the beginning of the meal, as requested in the menu, only to be told they were not serving it anymore that day. We were there at around 8:30 and the restaurant closes at 11pm, according to their website. Why was it no longer being served??  Our waitress seemed sort of displeased with us being there in general. She was not very friendly. She avoided eye contact with us most of the night, which made it really hard to get her attention to get the bill and to pay.   My sister and I were sitting across from each other and when our food was served our injera was on one plate. I asked if I could have another plate, to put my injera on and I got the dirtiest look you could imagine and the waitress turned on her heel without a word. She did get us a plate though.   Normally, this type of service would be a real turn-off, but honestly the food was so damn good and the prices so damn good, I\\'m not even going to let it deter me!   I WILL be back Ethiopian House Waitress! You can\\'t keep me away!A friend and I were looking for a place to eat before a show at the Lower Ossington Theatre. We wanted Lobretto Pizza, but the girl on the phone there said that at 6:30 we wouldn\\'t have a problem getting a table and that turned out to be a lie, so we popped in a couple doors down to this place.  We glanced at the menu and it seemed alright, so we went for it. The host warned us that we needed to like meat and he was not kidding. Everything on the menu had meat.  The menu consists of a lot of pub faire, but at hugely inflated prices. The atmosphere, unlike what you would expect from a \"tavern\" was not dark and cozy, but white and as my friend described \"sort of like a 1950s bathroom\". It had white tile walls and white floors and a sort of mirrored panel across the walls...so yeah a bit bathroom-like. I guess to make it \"saintly\"?   My friend ordered their sandwich of the day, which was a BLT and fries. I have recently given up beef, which limited my choices considerably, so I got the fried chicken. I should mention that the menu includes exactly ZERO explanation of what any of the dishes are. The fried chicken simply says, \"fried chicken\". It did not explain that this came with mashed potatoes and sautéed spinach (or kale??) with it. Potatoes were good, but had big chunks of bacon in them. That should probably be mentioned, since if anyone doesn\\'t eat pork, I don\\'t think it would occur to them to ask the waiter(ess) if their fried chicken includes bacon.   Food was alright. I liked my friend\\'s sandwich better than my dish and her fries were good.  My meal was exactly as it said. No bells and whistles. I sort of felt like for $20 that chicken should have had some twist to it, or something special, but not really. It was chicken, much like you might receive from KFC, but marginally better (less greasy and salty).   The spinach was VERY salty tasting.   Service was good and everyone there was very nice. Overall it\\'s a fine place, but nothing special and I think they charge too much for average food, with nothing special about it. Whenever I go back to the area, I\\'m going to try something else. I feel like it\\'s not worth a second try, though it was fine for one try.I was in an in-service in this area today. When lunch time rolled around my colleagues all started exclaiming about Johnny\\'s. I had never been and they were anxious for me to try it out.  When we drove up to it I recognized it from driving by, but had never been in. The lineup encouraged me that I was at a good place.  Service was fast and friendly. I got a cheeseburger and onion rings. They gave me a number and when I was called up, I chose what to put on my burger.   Now, let\\'s get down to the nitty gritty.  First of all, the toppings are VERY limited. Onions or sautéed onions, pickles, tomato, ketchup, mayo, mustard, relish...I didn\\'t even see lettuce, unless it was hiding in the back.   The burger was large, but nothing special. It wasn\\'t like some fantastic, juicy, seasoned meat or anything. Just a basic burger.   The bun was too soft and got soggy really fast. I mean SOGGY! It had a weird sweetness to it that I wasn\\'t a huge fan of. The onion rings were your basic frozen onion rings...same with the fries. They weren\\'t hand-battered, or homemade...just standard fare.   Honestly, NOTHING about this place warranted the rave reviews from my colleagues and the only thing I could glean from hearing them talk, was that this place has been around Scarborough forever and it\\'s just a staple. You go here based on tradition.   Well, sadly that\\'s not enough of a reason for me to give this a good review. It\\'s also not enough of a reason for me to bother recommending this place. Unless this place has some near and dear meaning in your heart, Hero Burger makes a WAY better burger. I guess if you want your burger made with \"love and memories\" come to this place. I want my burger made with juicy meat, lots of veggies and some sort of mayo-based sauce! If you cannot deliver, I am not interested. Johnny\\'s did not deliver for me on this one!  (PS- If you are the type of person who reads reviews, you\\'ll see one of two camps here...people who love this place based on landmark status and people who haven\\'t been coming here since they were young and therefore are not big fans. Basically THIS \"PS\" could be the review!)I really wanted to be blown away by this place and it WAS good, but it wasn\\'t the best grilled cheese EVER good. Perhaps my expectations were high, seeing as this place has been featured on shows and is number one for grilled cheese on BlogTO.   I had the Grilled Motzy and my husband had the Black Jack. We also had soup, which was tomato and pretty basic.   Both of our sandwiches were good. I\\'d say my husband\\'s was a little more sophisticated in taste. Mine felt like the pesto really overwhelmed any other flavours. It wasn\\'t unpleasant, but I WAS wanting a grilled cheese.   The sandwiches are served in baskets, with some ripple chips and a slice of pickle...really good pickles actually. Chips are just chips. If these guys want to take things up a notch they should charge a dollar or two extra and consider creating a more interesting/homemade side dish. What??! I don\\'t know, I haven\\'t thought that far ahead. People will pay extra for good and creative side dishes that really add to meals though, right??  Oh and in response to people who were commenting that the sandwiches are really greasy, I didn;t find that at all! There was no grease gathering at the bottom of the paper in the basket and my fingers stayed relatively clean! Maybe they changed?? Or maybe some people are nuts...I mean it IS grilled cheese, it\\'s not ....umm.....lettuce.   I wasn\\'t willing to leave without trying ONE last item...but we were full. I ordered a sandwich that\\'s name I don\\'t remember, but it was basically cheese, bacon and mushrooms. The to go sandwiches are in plastic boxes with lids. Great if you want to bring it to work the next day, or something.  In our case I split the sandwich in half and served it with my own soup the next day for dinner. This was definitely more of a traditional grilled cheese, but again, I found the bacon to be a little overpowering. Still good...my soup was heads and tails better though.   Not sure I would bother with the soup here again. I liked everything I had, but nothing compared with the lobster grilled cheese I had the Joey\\'s. The flavours were perfect in that sandwich!  THere are a lot of other options to try and everything was very good. I think that if you\\'re in the area and want a sandwich that costs the same as Subway, but is more creative and more delicious, this is a great choice!   Oh....they only take cash BTW! Make sure you come prepared.Okay, this is not some fine, dinning establishment. This is a diner. Not only that, but apparently it\\'s a 24 hour diner, so that\\'s pretty frigging awesome. Good to know. Those come in handy.  As a diner, it\\'s food was perfectly acceptable and actually very good. The service was excellent! Prices were decent. I don\\'t know what else you need!  I came for lunch with a ground of friends. We wanted drinks, we wanted food, some wanted breakfast food (they have all day breakfast...also awesome) and this fit the bill perfectly.   Our waitress was very sweet and accommodating and fast with the food and drinks. She split up all our bills for us, with no problem (so many places it\\'s like the biggest deal ever).   Everyone enjoyed their food and we certainly got a variety of it. All large portions. Drinks were good, so no complaints there!   The atmosphere is...well let\\'s call it quaint. It has some dated decor and paintings on the wall of a sort of olden-days train station. It\\'s a diner, so it is what it is!  Only criticism of this place is that it only takes cash. They have an ATM in the front, but be prepared.   Otherwise, I would totally come back to this place! They made one mean grilled cheese!This place was recommended to be by other shop keepers in the area, so I went to check it out. First off the staff is SO nice and accommodating. When you walk in, it honestly doesn\\'t look like much and the baked goods look sort of generic and plain. Don\\'t be fooled.  They are very willing to let you try out pieces of their baked goods and you will not be disappointed. I ended up going twice in two days. The first time on the recommendation I picked up a few cookies. They were so good that the next day when I had to go back to the area to return something, I went back again and got some other stuff. Everything I have had there I have really enjoyed. I tried a caramel cookie (sort of shortbread-y, but with a subtle caramel flavour) and just about died!  I ended up bringing home way more than I should and I wasn\\'t the only one. Other patrons are clearly regulars and they were all doing the same thing. Don\\'t be shy! Go on in and say hello and try something out!I sort of want to give this place 3-1/2 stars, but oh well.   This weird little nook, way down on Sheppard, is barely noticeable if you drive by. I\\'ve gotten their take out a few times and also eaten in once.   I\\'ve had their chicken shwarma and falafel pitas and sampled some other dishes. Generally, I find the portions quite large and the food quite good, but it\\'s a bit of a crap shoot with the chicken shwarma. I\\'ve had it a couple of times where it has been very good and another time I thought the meat was chewy, fatty and full of gristle. It\\'s being cut off of a big hunk on a spit, so I guess you get whatever comes off at that time.   The service has always been great and very pleasant.We went here for Summerlicious. For $25 we got an appetizer, main course and dessert. I had tiger shrimp as an appetizer. It came with a delicious peanut sauce. This was the same for the chicken. They were actually very good. My sister had spring rolls and she said they were alright, nothing special. We all got pad thai, however my sister got the vegetarian pad thai, while myself and my husband got the chicken pad thai. It was good, but pretty comparable to pad thai I\\'ve had....well, just about everywhere. The desserts were also alright. There was a special on drinks. Their signature Tiger beers were only $4 and they had excellent margaritas for $6. That was probably my favorite part of the meal. The service was good and the atmosphere was nice, but overall I felt like the food wasn\\'t special enough to warrant the $25 price tag.Really this deserves a 3-1/2 star rating, but we\\'ll just go with this and I\\'ll explain.  So I have been hearing about Pizzeria Libretto for ages and dying to try it and I finally got my chance. We went all out, so I\\'ll go through the stuff I sampled.  We shared an arugula salad with walnuts and pears. Not a huge salad, given the $9 price tag, but was a really good salad. We also tried the ricotta gnocchi fritti. This was disappointing. They basically looked and tasted like tator tots with a sour cream and chive \"sauce\". I don\\'t know where the ricotta comes into play, but these were nothing special, a small portion and not great in general.   NOW for the reason people come to this place. The pizzas. I had the Libretto Margherita (which is $4 more than the regular margherita, presumably because they use buffalo mozzarella, or so it is alluded to on the menu). My husband got the house-made sausage pizza.  These pizzas were excellent. Both reminiscent of what you might find in Italy, very thin, but with perfect crust. I usually go with the margherita, because it\\'s classic and not too many bells and whistles, but I had a piece of my husband\\'s and it was excellent! I\\'m not usually a sausage fan (no pun intended), but this was really good.   Finally, we split their sfingi, which is basically donut holes in cinnamon-sugar and with a strawberry sauce, caramel sauce or lemon sauce to dip them in. The donuts were nothing special. Honestly, I\\'ve had better at Tim Horton\\'s. The sauces added a little something, but not enough to make this something I would order again. The lemon was good, husband liked the strawberry...the caramel, which you would think would be great with donuts, tasted burnt...to the point where it was inedible.   So basically, if you come for the pizza, you\\'re good to go. This place does that really well..everything else...skip it. There are so many awesome little places in the area, I would just get the pizza and go get dessert somewhere else.   That said, because this place IS a pizzeria, I give it 4 stars, because they do the thing they\\'re supposed to, well!You have to go to something like Medieval Times with an open-mind and a sense of fun. Also you HAVE to go with a group. This isn\\'t even something to do with a couple...although I did see it happening.   I went with my loud, boisterous family/friends. There were 8 of us in total.   The last time I went to Medieval Time was in grade 4, so what better time to go, than for your 30th birthday. We bought drinks in advance. Drink prices were average for a bar, although the mixed drinks were particularly delicious. The cups are kind of fun and you can keep them. The whole place reminded me of something you would find in Vegas, with the whole entrance room decorated with medieval flags and armour.   We were finally called in for dinner. Now, I want to preface this by saying that dinner is nothing special. You kind of go for the whole, goofy experience, not really the fine cuisine. You get tomato bisque, garlic bread, half of a chicken, a few potato wedges and a small thing of ribs and then an apple pastry for dessert. Everything is served separately, not all together, so you\\'re eating everything one at a time. They are served to you by your \"wenches\". That said, while nothing was particularly impressive, nothing was bad either. You don\\'t get cutlery, so you pick at everything with your fingers. However, they give you wetnaps and a hot towel at the end. My sister ordered the vegetarian meal and they gave her a veggie shish-kabob, which she said was quite good.   Drinks are water or pepsi, or the drinks you order at the bar.  Now, onto the show. We cheered and yelled like crazy people the entire time. We picked fights with other \"teams\" (people cheering for other knights) and they picked fights back. We laughed and cheered and jeered at the knights. The show consists of some horse tricks, a falcon flying over you and of course the knights battling. Everything is exceedingly cheesy and you just have to enjoy it for what it is.   Anyway, this was a cheesy, good time. I would do this again in an instant...but only with the right crowd.  PS - Our knight won! We think it was because we cheered loudest.')"
      ]
     },
     "execution_count": 22,
     "metadata": {},
     "output_type": "execute_result"
    }
   ],
   "source": [
    "reviews_by_user_df.head()"
   ]
  },
  {
   "cell_type": "code",
   "execution_count": 23,
   "metadata": {},
   "outputs": [
    {
     "name": "stdout",
     "output_type": "stream",
     "text": [
      "+--------------------+--------------------+\n",
      "|             user_id|                text|\n",
      "+--------------------+--------------------+\n",
      "|nOTl4aPC4tKHK35T3...|I give up on this...|\n",
      "|Aj2IZibnWlSD1wWdq...|Love this place m...|\n",
      "|6KM2pWFcsHYf4Nr9c...|Phenomenal brunch...|\n",
      "+--------------------+--------------------+\n",
      "only showing top 3 rows\n",
      "\n"
     ]
    }
   ],
   "source": [
    "reviews_by_user_df.show(3)"
   ]
  },
  {
   "cell_type": "code",
   "execution_count": 24,
   "metadata": {},
   "outputs": [
    {
     "name": "stdout",
     "output_type": "stream",
     "text": [
      "Text: [Hi, I, heard, about, Spark] => \n",
      "Vector: [-0.011087720049545169,-0.04713543206453324,-0.030747681856155396]\n",
      "\n",
      "Text: [I, wish, Java, could, use, case, classes] => \n",
      "Vector: [0.02089989078896386,0.025788720164980204,-0.029980793063129695]\n",
      "\n",
      "Text: [Logistic, regression, models, are, neat] => \n",
      "Vector: [0.03326573260128498,0.010403224825859071,-0.04281422272324562]\n",
      "\n"
     ]
    }
   ],
   "source": [
    "## Example of using Word2vec\n",
    "from pyspark.ml.feature import Word2Vec\n",
    "\n",
    "# Input data: Each row is a bag of words from a sentence or document.\n",
    "documentDF = spark.createDataFrame([\n",
    "    (\"Hi I heard about Spark\".split(\" \"), ),\n",
    "    (\"I wish Java could use case classes\".split(\" \"), ),\n",
    "    (\"Logistic regression models are neat\".split(\" \"), )\n",
    "], [\"text\"])\n",
    "\n",
    "# Learn a mapping from words to Vectors.\n",
    "word2Vec = Word2Vec(vectorSize=3, minCount=0, inputCol=\"text\", outputCol=\"result\")\n",
    "model = word2Vec.fit(documentDF)\n",
    "\n",
    "result = model.transform(documentDF)\n",
    "for row in result.collect():\n",
    "    text, vector = row\n",
    "    print(\"Text: [%s] => \\nVector: %s\\n\" % (\", \".join(text), str(vector)))"
   ]
  },
  {
   "cell_type": "code",
   "execution_count": 25,
   "metadata": {},
   "outputs": [],
   "source": [
    "## https://spark.apache.org/docs/latest/api/python/pyspark.ml.html#pyspark.ml.feature.Word2Vec\n",
    "\n",
    "## The minimum number of times a token must appear to be included in the word2vec model's vocabulary\""
   ]
  },
  {
   "cell_type": "markdown",
   "metadata": {},
   "source": [
    "Tuning of vectorSize and minCount required in word2vec model training."
   ]
  },
  {
   "cell_type": "code",
   "execution_count": 76,
   "metadata": {},
   "outputs": [],
   "source": [
    "%%time\n",
    "\n",
    "# create text processing pipeline -- this a lengthy resource-intensive process\n",
    "# Build the pipeline \n",
    "regexTokenizer = RegexTokenizer(gaps = False, pattern = '\\w+', inputCol = 'text', outputCol = 'token')\n",
    "stopWordsRemover = StopWordsRemover(inputCol = 'token', outputCol = 'nostopwrd')\n",
    "countVectorizer = CountVectorizer(inputCol=\"nostopwrd\", outputCol=\"rawFeature\")\n",
    "iDF = IDF(inputCol=\"rawFeature\", outputCol=\"idf_vec\")\n",
    "word2Vec = Word2Vec(vectorSize = 100, minCount = 5, inputCol = 'nostopwrd', outputCol = 'word_vec', seed=123)\n",
    "vectorAssembler = VectorAssembler(inputCols=['idf_vec', 'word_vec'], outputCol='comb_vec')\n",
    "pipeline = Pipeline(stages=[regexTokenizer, stopWordsRemover, countVectorizer, iDF, word2Vec, vectorAssembler])\n",
    "\n",
    "# fit the model\n",
    "pipeline_mdl = pipeline.fit(reviews_by_user_df)\n",
    "\n",
    "#save the pipeline model\n",
    "pipeline_mdl.write().overwrite().save(model_path + 'pipe_txt')"
   ]
  },
  {
   "cell_type": "code",
   "execution_count": 26,
   "metadata": {},
   "outputs": [],
   "source": [
    "# load the text transformation pipeline trained model\n",
    "pipeline_mdl = PipelineModel.load(model_path + 'pipe_txt')"
   ]
  },
  {
   "cell_type": "code",
   "execution_count": 27,
   "metadata": {},
   "outputs": [],
   "source": [
    "# transform the review data\n",
    "reviews_by_user_trf_df = pipeline_mdl.transform(reviews_by_user_df)"
   ]
  },
  {
   "cell_type": "code",
   "execution_count": 28,
   "metadata": {},
   "outputs": [
    {
     "name": "stdout",
     "output_type": "stream",
     "text": [
      "+--------------------+--------------------+--------------------+--------------------+--------------------+\n",
      "|                text|           nostopwrd|             idf_vec|            word_vec|            comb_vec|\n",
      "+--------------------+--------------------+--------------------+--------------------+--------------------+\n",
      "|I give up on this...|[give, place, got...|(128365,[0,1,2,3,...|[-0.0374168294159...|(128465,[0,1,2,3,...|\n",
      "|Love this place m...|[love, place, mak...|(128365,[0,1,2,3,...|[-0.0216792637887...|(128465,[0,1,2,3,...|\n",
      "|Phenomenal brunch...|[phenomenal, brun...|(128365,[0,1,2,3,...|[-0.0473526970104...|(128465,[0,1,2,3,...|\n",
      "|A born and bred T...|[born, bred, toro...|(128365,[0,1,2,3,...|[-0.0298230579082...|(128465,[0,1,2,3,...|\n",
      "|We really enjoyed...|[really, enjoyed,...|(128365,[0,1,2,3,...|[-0.0115986177697...|(128465,[0,1,2,3,...|\n",
      "|I was pretty unim...|[pretty, unimpres...|(128365,[0,1,2,3,...|[-0.0381316097274...|(128465,[0,1,2,3,...|\n",
      "|I have never done...|[never, done, one...|(128365,[2,6,11,1...|[-0.0256846508636...|(128465,[2,6,11,1...|\n",
      "|Seven Lives serve...|[seven, lives, se...|(128365,[0,1,2,3,...|[-0.0140019047037...|(128465,[0,1,2,3,...|\n",
      "|This is the best ...|[best, indian, fo...|(128365,[0,15,24,...|[-0.0584768957037...|(128465,[0,15,24,...|\n",
      "|Good ramen but ha...|[good, ramen, bet...|(128365,[1,9,10,1...|[0.07983644855474...|(128465,[1,9,10,1...|\n",
      "+--------------------+--------------------+--------------------+--------------------+--------------------+\n",
      "only showing top 10 rows\n",
      "\n"
     ]
    }
   ],
   "source": [
    "# show the transformed review data\n",
    "reviews_by_user_trf_df.select( 'text', 'nostopwrd', 'idf_vec', 'word_vec', 'comb_vec').show(10)"
   ]
  },
  {
   "cell_type": "code",
   "execution_count": 35,
   "metadata": {},
   "outputs": [
    {
     "name": "stdout",
     "output_type": "stream",
     "text": [
      "+--------------------+\n",
      "|           nostopwrd|\n",
      "+--------------------+\n",
      "|[give, place, got...|\n",
      "|[love, place, mak...|\n",
      "|[phenomenal, brun...|\n",
      "|[born, bred, toro...|\n",
      "|[really, enjoyed,...|\n",
      "|[pretty, unimpres...|\n",
      "|[never, done, one...|\n",
      "|[seven, lives, se...|\n",
      "|[best, indian, fo...|\n",
      "|[good, ramen, bet...|\n",
      "+--------------------+\n",
      "only showing top 10 rows\n",
      "\n"
     ]
    }
   ],
   "source": [
    "reviews_by_user_trf_df.select( 'nostopwrd').show(10)"
   ]
  },
  {
   "cell_type": "code",
   "execution_count": 36,
   "metadata": {},
   "outputs": [
    {
     "name": "stdout",
     "output_type": "stream",
     "text": [
      "root\n",
      " |-- user_id: string (nullable = true)\n",
      " |-- text: string (nullable = true)\n",
      " |-- token: array (nullable = true)\n",
      " |    |-- element: string (containsNull = true)\n",
      " |-- nostopwrd: array (nullable = true)\n",
      " |    |-- element: string (containsNull = true)\n",
      " |-- rawFeature: vector (nullable = true)\n",
      " |-- idf_vec: vector (nullable = true)\n",
      " |-- word_vec: vector (nullable = true)\n",
      " |-- comb_vec: vector (nullable = true)\n",
      "\n"
     ]
    }
   ],
   "source": [
    "reviews_by_user_trf_df.printSchema()"
   ]
  },
  {
   "cell_type": "code",
   "execution_count": 37,
   "metadata": {},
   "outputs": [
    {
     "data": {
      "text/plain": [
       "pyspark.ml.feature.IDF"
      ]
     },
     "execution_count": 37,
     "metadata": {},
     "output_type": "execute_result"
    }
   ],
   "source": [
    "type(iDF)"
   ]
  },
  {
   "cell_type": "code",
   "execution_count": 38,
   "metadata": {},
   "outputs": [],
   "source": [
    "def CosineSim(vec1, vec2): \n",
    "    return np.dot(vec1, vec2) / np.sqrt(np.dot(vec1, vec1)) / np.sqrt(np.dot(vec2, vec2))"
   ]
  },
  {
   "cell_type": "code",
   "execution_count": 39,
   "metadata": {},
   "outputs": [],
   "source": [
    "all_user_vecs = reviews_by_user_trf_df.select('user_id', 'word_vec').rdd.map(lambda x: (x[0], x[1])).collect()"
   ]
  },
  {
   "cell_type": "code",
   "execution_count": 40,
   "metadata": {},
   "outputs": [
    {
     "data": {
      "text/plain": [
       "list"
      ]
     },
     "execution_count": 40,
     "metadata": {},
     "output_type": "execute_result"
    }
   ],
   "source": [
    "type(all_user_vecs)"
   ]
  },
  {
   "cell_type": "code",
   "execution_count": 58,
   "metadata": {},
   "outputs": [
    {
     "data": {
      "text/plain": [
       "0.8652645262685584"
      ]
     },
     "execution_count": 58,
     "metadata": {},
     "output_type": "execute_result"
    }
   ],
   "source": [
    "CosineSim(all_user_vecs[0][1], all_user_vecs[1][1])"
   ]
  },
  {
   "cell_type": "code",
   "execution_count": 41,
   "metadata": {},
   "outputs": [
    {
     "data": {
      "text/plain": [
       "('nOTl4aPC4tKHK35T3bNauQ',\n",
       " DenseVector([-0.0374, -0.0827, -0.0607, 0.0706, 0.0262, -0.0358, -0.0004, -0.009, -0.0103, -0.0207, -0.0211, -0.0439, -0.0347, 0.0174, -0.0089, -0.0437, -0.0669, -0.0098, -0.0301, -0.0068, -0.0761, -0.0492, 0.0009, 0.0052, 0.0626, -0.0469, -0.0064, -0.0302, -0.0117, 0.0336, 0.0578, 0.0054, 0.0243, -0.0307, -0.0272, -0.0705, 0.0969, 0.0265, -0.0284, -0.0408, -0.0362, -0.0576, -0.0311, 0.0778, 0.0081, -0.0428, -0.048, 0.0279, -0.0118, 0.014, 0.0095, -0.0122, -0.0123, -0.0328, -0.0584, 0.0126, 0.0096, 0.0456, 0.0413, 0.0209, -0.0138, -0.0004, 0.0237, -0.0566, -0.0347, 0.0297, 0.0447, 0.0419, -0.0252, 0.0758, 0.0014, -0.0045, 0.0094, 0.0375, 0.0088, -0.0188, -0.0655, 0.0098, -0.0166, 0.0423, 0.001, -0.0137, -0.0024, -0.0112, -0.0131, -0.0028, 0.0135, 0.0187, -0.0107, 0.0014, -0.0016, -0.0062, -0.0262, 0.0269, -0.0136, -0.0092, -0.0441, 0.0108, -0.0502, 0.025]))"
      ]
     },
     "execution_count": 41,
     "metadata": {},
     "output_type": "execute_result"
    }
   ],
   "source": [
    "all_user_vecs[0]\n",
    "# user_id = 'nOTl4aPC4tKHK35T3bNauQ'\n",
    "# DenseVector() - vector respresentation of all the reviews of User"
   ]
  },
  {
   "cell_type": "code",
   "execution_count": 42,
   "metadata": {},
   "outputs": [
    {
     "data": {
      "text/plain": [
       "('QBac9-Ii6jR-yLsQ5MVTHg',\n",
       " DenseVector([-0.0437, -0.0333, -0.1018, 0.1128, 0.019, -0.04, -0.0025, -0.0092, 0.008, -0.0077, -0.009, -0.0322, 0.0118, -0.0193, 0.0048, -0.0507, -0.0476, 0.0128, -0.0378, 0.0069, -0.0707, -0.0564, 0.0284, 0.0181, 0.0311, -0.0848, -0.0189, -0.0515, -0.013, 0.0437, 0.0362, 0.0224, 0.0427, -0.0589, -0.0502, -0.0365, 0.0593, 0.0084, 0.014, -0.0671, -0.0321, -0.0356, -0.029, 0.0449, 0.0081, -0.0594, -0.0594, 0.0502, 0.0344, -0.0147, -0.0015, -0.0193, -0.0214, -0.0669, -0.0962, 0.0036, 0.0078, 0.015, 0.0491, 0.0059, -0.0501, 0.007, -0.0012, -0.055, -0.0339, 0.0223, 0.0317, 0.049, -0.0275, 0.0699, 0.0057, -0.017, -0.0013, 0.07, 0.0291, -0.0336, -0.0062, 0.0489, -0.0555, 0.0313, 0.0281, -0.0541, 0.0052, 0.0096, -0.0326, -0.0045, 0.0374, 0.0177, 0.0256, 0.0323, 0.0159, -0.053, -0.0328, 0.0331, 0.015, -0.0199, -0.0616, -0.0037, -0.038, 0.02]))"
      ]
     },
     "execution_count": 42,
     "metadata": {},
     "output_type": "execute_result"
    }
   ],
   "source": [
    "all_user_vecs[30]"
   ]
  },
  {
   "cell_type": "code",
   "execution_count": null,
   "metadata": {},
   "outputs": [],
   "source": [
    "# To do consider only if the USer had minm. number of reviews\n",
    "# Tuning VectorSize and minCount\n",
    "# maybe removing non-restaurant related words..."
   ]
  },
  {
   "cell_type": "code",
   "execution_count": 68,
   "metadata": {},
   "outputs": [],
   "source": [
    "def getSimilarUsers(b_ids, sim_user_limit=10):\n",
    "    \n",
    "    schema = StructType([   \n",
    "                            StructField(\"user_id\", StringType(), True)\n",
    "                            ,StructField(\"score\", IntegerType(), True)\n",
    "                            ,StructField(\"input_user_id\", StringType(), True)\n",
    "                        ])\n",
    "    \n",
    "    similar_user_df = spark.createDataFrame([], schema)\n",
    "    \n",
    "    for b_id in b_ids:\n",
    "        \n",
    "        input_vec = [(r[1]) for r in all_user_vecs if r[0] == b_id][0]\n",
    "        \n",
    "        similar_user_rdd = sc.parallelize((i[0], float(CosineSim(input_vec, i[1]))) for i in all_user_vecs)\n",
    "        \n",
    "        similar_user_df = spark.createDataFrame(similar_user_rdd) \\\n",
    "            .withColumnRenamed('_1', 'user_id') \\\n",
    "            .withColumnRenamed('_2', 'score') \\\n",
    "            .orderBy(\"score\", ascending = False)\n",
    "            \n",
    "        similar_user_df = similar_user_df.dropna()    \n",
    "        similar_user_df = similar_user_df.filter(col(\"user_id\") != b_id).limit(sim_user_limit)\n",
    "        similar_user_df = similar_user_df.withColumn('input_user_id', lit(b_id))\n",
    "        \n",
    "        similar_user_df = similar_user_df \\\n",
    "                                    .union(similar_user_df)\n",
    "        \n",
    "    \n",
    "    return similar_user_df"
   ]
  },
  {
   "cell_type": "code",
   "execution_count": 69,
   "metadata": {},
   "outputs": [],
   "source": [
    "def getUserDetails(in_bus):\n",
    "    \n",
    "    a = in_bus.alias(\"a\")\n",
    "    b = user_df.alias(\"b\")\n",
    "    \n",
    "    return a.join(b, col(\"a.user_id\") == col(\"b.user_id\"), 'inner') \\\n",
    "             .select([col('a.'+xx) for xx in a.columns] + [col('b.user_id'), col('b.user_name'),col('b.review_count')])"
   ]
  },
  {
   "cell_type": "code",
   "execution_count": 70,
   "metadata": {},
   "outputs": [
    {
     "name": "stdout",
     "output_type": "stream",
     "text": [
      "\n",
      "input user details:\n",
      "+----------------------+---------+------------+\n",
      "|user_id               |user_name|review_count|\n",
      "+----------------------+---------+------------+\n",
      "|nOTl4aPC4tKHK35T3bNauQ|Katherine|148         |\n",
      "|QBac9-Ii6jR-yLsQ5MVTHg|Alex     |13          |\n",
      "+----------------------+---------+------------+\n",
      "\n"
     ]
    },
    {
     "name": "stderr",
     "output_type": "stream",
     "text": [
      "/anaconda3/lib/python3.6/site-packages/ipykernel_launcher.py:2: RuntimeWarning: invalid value encountered in double_scalars\n",
      "  \n"
     ]
    },
    {
     "name": "stdout",
     "output_type": "stream",
     "text": [
      "Top 10 similar Users for each input restaurant are:\"\n"
     ]
    },
    {
     "data": {
      "text/html": [
       "<div>\n",
       "<style scoped>\n",
       "    .dataframe tbody tr th:only-of-type {\n",
       "        vertical-align: middle;\n",
       "    }\n",
       "\n",
       "    .dataframe tbody tr th {\n",
       "        vertical-align: top;\n",
       "    }\n",
       "\n",
       "    .dataframe thead th {\n",
       "        text-align: right;\n",
       "    }\n",
       "</style>\n",
       "<table border=\"1\" class=\"dataframe\">\n",
       "  <thead>\n",
       "    <tr style=\"text-align: right;\">\n",
       "      <th></th>\n",
       "      <th>input_user_id</th>\n",
       "      <th>user_id</th>\n",
       "      <th>user_name</th>\n",
       "      <th>score</th>\n",
       "      <th>review_count</th>\n",
       "    </tr>\n",
       "  </thead>\n",
       "  <tbody>\n",
       "    <tr>\n",
       "      <th>0</th>\n",
       "      <td>QBac9-Ii6jR-yLsQ5MVTHg</td>\n",
       "      <td>MpN81tQOL86GaFse-_tTRQ</td>\n",
       "      <td>Amy</td>\n",
       "      <td>0.913263</td>\n",
       "      <td>46</td>\n",
       "    </tr>\n",
       "    <tr>\n",
       "      <th>1</th>\n",
       "      <td>QBac9-Ii6jR-yLsQ5MVTHg</td>\n",
       "      <td>MpN81tQOL86GaFse-_tTRQ</td>\n",
       "      <td>Amy</td>\n",
       "      <td>0.913263</td>\n",
       "      <td>46</td>\n",
       "    </tr>\n",
       "    <tr>\n",
       "      <th>2</th>\n",
       "      <td>QBac9-Ii6jR-yLsQ5MVTHg</td>\n",
       "      <td>bPUpO-bP6BmAGvSwPyDsng</td>\n",
       "      <td>Michael</td>\n",
       "      <td>0.905848</td>\n",
       "      <td>142</td>\n",
       "    </tr>\n",
       "    <tr>\n",
       "      <th>3</th>\n",
       "      <td>QBac9-Ii6jR-yLsQ5MVTHg</td>\n",
       "      <td>bPUpO-bP6BmAGvSwPyDsng</td>\n",
       "      <td>Michael</td>\n",
       "      <td>0.905848</td>\n",
       "      <td>142</td>\n",
       "    </tr>\n",
       "    <tr>\n",
       "      <th>4</th>\n",
       "      <td>QBac9-Ii6jR-yLsQ5MVTHg</td>\n",
       "      <td>zkKv10FEw-iWJBHvK0mGfA</td>\n",
       "      <td>Paul</td>\n",
       "      <td>0.903733</td>\n",
       "      <td>55</td>\n",
       "    </tr>\n",
       "    <tr>\n",
       "      <th>5</th>\n",
       "      <td>QBac9-Ii6jR-yLsQ5MVTHg</td>\n",
       "      <td>zkKv10FEw-iWJBHvK0mGfA</td>\n",
       "      <td>Paul</td>\n",
       "      <td>0.903733</td>\n",
       "      <td>55</td>\n",
       "    </tr>\n",
       "    <tr>\n",
       "      <th>6</th>\n",
       "      <td>QBac9-Ii6jR-yLsQ5MVTHg</td>\n",
       "      <td>eV5usRjY2cDqNKVv8wXroA</td>\n",
       "      <td>Sam</td>\n",
       "      <td>0.905077</td>\n",
       "      <td>105</td>\n",
       "    </tr>\n",
       "    <tr>\n",
       "      <th>7</th>\n",
       "      <td>QBac9-Ii6jR-yLsQ5MVTHg</td>\n",
       "      <td>eV5usRjY2cDqNKVv8wXroA</td>\n",
       "      <td>Sam</td>\n",
       "      <td>0.905077</td>\n",
       "      <td>105</td>\n",
       "    </tr>\n",
       "    <tr>\n",
       "      <th>8</th>\n",
       "      <td>QBac9-Ii6jR-yLsQ5MVTHg</td>\n",
       "      <td>xcBcIMVWEx1p7V8ACaeHpQ</td>\n",
       "      <td>Rick</td>\n",
       "      <td>0.918668</td>\n",
       "      <td>83</td>\n",
       "    </tr>\n",
       "    <tr>\n",
       "      <th>9</th>\n",
       "      <td>QBac9-Ii6jR-yLsQ5MVTHg</td>\n",
       "      <td>xcBcIMVWEx1p7V8ACaeHpQ</td>\n",
       "      <td>Rick</td>\n",
       "      <td>0.918668</td>\n",
       "      <td>83</td>\n",
       "    </tr>\n",
       "    <tr>\n",
       "      <th>10</th>\n",
       "      <td>QBac9-Ii6jR-yLsQ5MVTHg</td>\n",
       "      <td>_IR48ok0ZkPMWJ2PlRCk0A</td>\n",
       "      <td>Michael</td>\n",
       "      <td>0.907098</td>\n",
       "      <td>82</td>\n",
       "    </tr>\n",
       "    <tr>\n",
       "      <th>11</th>\n",
       "      <td>QBac9-Ii6jR-yLsQ5MVTHg</td>\n",
       "      <td>_IR48ok0ZkPMWJ2PlRCk0A</td>\n",
       "      <td>Michael</td>\n",
       "      <td>0.907098</td>\n",
       "      <td>82</td>\n",
       "    </tr>\n",
       "    <tr>\n",
       "      <th>12</th>\n",
       "      <td>QBac9-Ii6jR-yLsQ5MVTHg</td>\n",
       "      <td>J5Eb7LhJaOa20k0ppcOCOg</td>\n",
       "      <td>Alek</td>\n",
       "      <td>0.907664</td>\n",
       "      <td>34</td>\n",
       "    </tr>\n",
       "    <tr>\n",
       "      <th>13</th>\n",
       "      <td>QBac9-Ii6jR-yLsQ5MVTHg</td>\n",
       "      <td>J5Eb7LhJaOa20k0ppcOCOg</td>\n",
       "      <td>Alek</td>\n",
       "      <td>0.907664</td>\n",
       "      <td>34</td>\n",
       "    </tr>\n",
       "    <tr>\n",
       "      <th>14</th>\n",
       "      <td>QBac9-Ii6jR-yLsQ5MVTHg</td>\n",
       "      <td>cNhHuEQMIpLH_qc9qGz67A</td>\n",
       "      <td>Jay</td>\n",
       "      <td>0.910774</td>\n",
       "      <td>57</td>\n",
       "    </tr>\n",
       "    <tr>\n",
       "      <th>15</th>\n",
       "      <td>QBac9-Ii6jR-yLsQ5MVTHg</td>\n",
       "      <td>cNhHuEQMIpLH_qc9qGz67A</td>\n",
       "      <td>Jay</td>\n",
       "      <td>0.910774</td>\n",
       "      <td>57</td>\n",
       "    </tr>\n",
       "    <tr>\n",
       "      <th>16</th>\n",
       "      <td>QBac9-Ii6jR-yLsQ5MVTHg</td>\n",
       "      <td>g5W7s0n19gvT1Ujy_ITJog</td>\n",
       "      <td>Bria</td>\n",
       "      <td>0.907846</td>\n",
       "      <td>73</td>\n",
       "    </tr>\n",
       "    <tr>\n",
       "      <th>17</th>\n",
       "      <td>QBac9-Ii6jR-yLsQ5MVTHg</td>\n",
       "      <td>g5W7s0n19gvT1Ujy_ITJog</td>\n",
       "      <td>Bria</td>\n",
       "      <td>0.907846</td>\n",
       "      <td>73</td>\n",
       "    </tr>\n",
       "    <tr>\n",
       "      <th>18</th>\n",
       "      <td>QBac9-Ii6jR-yLsQ5MVTHg</td>\n",
       "      <td>kw-YtOKPXrRB2a9wRZlmzQ</td>\n",
       "      <td>Jimmy</td>\n",
       "      <td>0.915453</td>\n",
       "      <td>101</td>\n",
       "    </tr>\n",
       "    <tr>\n",
       "      <th>19</th>\n",
       "      <td>QBac9-Ii6jR-yLsQ5MVTHg</td>\n",
       "      <td>kw-YtOKPXrRB2a9wRZlmzQ</td>\n",
       "      <td>Jimmy</td>\n",
       "      <td>0.915453</td>\n",
       "      <td>101</td>\n",
       "    </tr>\n",
       "  </tbody>\n",
       "</table>\n",
       "</div>"
      ],
      "text/plain": [
       "             input_user_id                 user_id user_name     score  \\\n",
       "0   QBac9-Ii6jR-yLsQ5MVTHg  MpN81tQOL86GaFse-_tTRQ       Amy  0.913263   \n",
       "1   QBac9-Ii6jR-yLsQ5MVTHg  MpN81tQOL86GaFse-_tTRQ       Amy  0.913263   \n",
       "2   QBac9-Ii6jR-yLsQ5MVTHg  bPUpO-bP6BmAGvSwPyDsng   Michael  0.905848   \n",
       "3   QBac9-Ii6jR-yLsQ5MVTHg  bPUpO-bP6BmAGvSwPyDsng   Michael  0.905848   \n",
       "4   QBac9-Ii6jR-yLsQ5MVTHg  zkKv10FEw-iWJBHvK0mGfA      Paul  0.903733   \n",
       "5   QBac9-Ii6jR-yLsQ5MVTHg  zkKv10FEw-iWJBHvK0mGfA      Paul  0.903733   \n",
       "6   QBac9-Ii6jR-yLsQ5MVTHg  eV5usRjY2cDqNKVv8wXroA       Sam  0.905077   \n",
       "7   QBac9-Ii6jR-yLsQ5MVTHg  eV5usRjY2cDqNKVv8wXroA       Sam  0.905077   \n",
       "8   QBac9-Ii6jR-yLsQ5MVTHg  xcBcIMVWEx1p7V8ACaeHpQ      Rick  0.918668   \n",
       "9   QBac9-Ii6jR-yLsQ5MVTHg  xcBcIMVWEx1p7V8ACaeHpQ      Rick  0.918668   \n",
       "10  QBac9-Ii6jR-yLsQ5MVTHg  _IR48ok0ZkPMWJ2PlRCk0A   Michael  0.907098   \n",
       "11  QBac9-Ii6jR-yLsQ5MVTHg  _IR48ok0ZkPMWJ2PlRCk0A   Michael  0.907098   \n",
       "12  QBac9-Ii6jR-yLsQ5MVTHg  J5Eb7LhJaOa20k0ppcOCOg      Alek  0.907664   \n",
       "13  QBac9-Ii6jR-yLsQ5MVTHg  J5Eb7LhJaOa20k0ppcOCOg      Alek  0.907664   \n",
       "14  QBac9-Ii6jR-yLsQ5MVTHg  cNhHuEQMIpLH_qc9qGz67A       Jay  0.910774   \n",
       "15  QBac9-Ii6jR-yLsQ5MVTHg  cNhHuEQMIpLH_qc9qGz67A       Jay  0.910774   \n",
       "16  QBac9-Ii6jR-yLsQ5MVTHg  g5W7s0n19gvT1Ujy_ITJog      Bria  0.907846   \n",
       "17  QBac9-Ii6jR-yLsQ5MVTHg  g5W7s0n19gvT1Ujy_ITJog      Bria  0.907846   \n",
       "18  QBac9-Ii6jR-yLsQ5MVTHg  kw-YtOKPXrRB2a9wRZlmzQ     Jimmy  0.915453   \n",
       "19  QBac9-Ii6jR-yLsQ5MVTHg  kw-YtOKPXrRB2a9wRZlmzQ     Jimmy  0.915453   \n",
       "\n",
       "    review_count  \n",
       "0             46  \n",
       "1             46  \n",
       "2            142  \n",
       "3            142  \n",
       "4             55  \n",
       "5             55  \n",
       "6            105  \n",
       "7            105  \n",
       "8             83  \n",
       "9             83  \n",
       "10            82  \n",
       "11            82  \n",
       "12            34  \n",
       "13            34  \n",
       "14            57  \n",
       "15            57  \n",
       "16            73  \n",
       "17            73  \n",
       "18           101  \n",
       "19           101  "
      ]
     },
     "execution_count": 70,
     "metadata": {},
     "output_type": "execute_result"
    }
   ],
   "source": [
    "# test with two restaurants\n",
    "\n",
    "uids = ['nOTl4aPC4tKHK35T3bNauQ', 'QBac9-Ii6jR-yLsQ5MVTHg']\n",
    "\n",
    "print('\\ninput user details:')\n",
    "user_df.select('user_id','user_name', 'review_count') \\\n",
    "    .filter(user_df.user_id.isin(uids) == True).show(truncate=False)\n",
    "    \n",
    "# get top 10 similar business\n",
    "sim_users = getUserDetails(getSimilarUsers(uids))\n",
    "\n",
    "print('Top 10 similar Users for each input restaurant are:\"')\n",
    "sim_users.select('input_user_id', 'a.user_id', 'user_name', 'score','review_count').toPandas()"
   ]
  },
  {
   "cell_type": "code",
   "execution_count": 54,
   "metadata": {},
   "outputs": [
    {
     "name": "stderr",
     "output_type": "stream",
     "text": [
      "/anaconda3/lib/python3.6/site-packages/ipykernel_launcher.py:2: RuntimeWarning: invalid value encountered in double_scalars\n",
      "  \n"
     ]
    },
    {
     "data": {
      "text/plain": [
       "DataFrame[user_id: string, score: double, input_user_id: string]"
      ]
     },
     "execution_count": 54,
     "metadata": {},
     "output_type": "execute_result"
    }
   ],
   "source": [
    "getSimilarUsers(uids)"
   ]
  },
  {
   "cell_type": "code",
   "execution_count": 71,
   "metadata": {},
   "outputs": [
    {
     "name": "stderr",
     "output_type": "stream",
     "text": [
      "/anaconda3/lib/python3.6/site-packages/ipykernel_launcher.py:2: RuntimeWarning: invalid value encountered in double_scalars\n",
      "  \n"
     ]
    },
    {
     "data": {
      "text/plain": [
       "[Row(user_id='xcBcIMVWEx1p7V8ACaeHpQ', score=0.9186675960618101, input_user_id='QBac9-Ii6jR-yLsQ5MVTHg'),\n",
       " Row(user_id='kw-YtOKPXrRB2a9wRZlmzQ', score=0.9154528761077289, input_user_id='QBac9-Ii6jR-yLsQ5MVTHg'),\n",
       " Row(user_id='MpN81tQOL86GaFse-_tTRQ', score=0.913263481576842, input_user_id='QBac9-Ii6jR-yLsQ5MVTHg'),\n",
       " Row(user_id='cNhHuEQMIpLH_qc9qGz67A', score=0.9107741561512877, input_user_id='QBac9-Ii6jR-yLsQ5MVTHg'),\n",
       " Row(user_id='g5W7s0n19gvT1Ujy_ITJog', score=0.9078462909984318, input_user_id='QBac9-Ii6jR-yLsQ5MVTHg'),\n",
       " Row(user_id='J5Eb7LhJaOa20k0ppcOCOg', score=0.9076639247312002, input_user_id='QBac9-Ii6jR-yLsQ5MVTHg'),\n",
       " Row(user_id='_IR48ok0ZkPMWJ2PlRCk0A', score=0.9070984934892682, input_user_id='QBac9-Ii6jR-yLsQ5MVTHg'),\n",
       " Row(user_id='bPUpO-bP6BmAGvSwPyDsng', score=0.9058483330903827, input_user_id='QBac9-Ii6jR-yLsQ5MVTHg'),\n",
       " Row(user_id='eV5usRjY2cDqNKVv8wXroA', score=0.9050774344012574, input_user_id='QBac9-Ii6jR-yLsQ5MVTHg'),\n",
       " Row(user_id='zkKv10FEw-iWJBHvK0mGfA', score=0.9037325430059482, input_user_id='QBac9-Ii6jR-yLsQ5MVTHg'),\n",
       " Row(user_id='xcBcIMVWEx1p7V8ACaeHpQ', score=0.9186675960618101, input_user_id='QBac9-Ii6jR-yLsQ5MVTHg'),\n",
       " Row(user_id='kw-YtOKPXrRB2a9wRZlmzQ', score=0.9154528761077289, input_user_id='QBac9-Ii6jR-yLsQ5MVTHg'),\n",
       " Row(user_id='MpN81tQOL86GaFse-_tTRQ', score=0.913263481576842, input_user_id='QBac9-Ii6jR-yLsQ5MVTHg'),\n",
       " Row(user_id='cNhHuEQMIpLH_qc9qGz67A', score=0.9107741561512877, input_user_id='QBac9-Ii6jR-yLsQ5MVTHg'),\n",
       " Row(user_id='g5W7s0n19gvT1Ujy_ITJog', score=0.9078462909984318, input_user_id='QBac9-Ii6jR-yLsQ5MVTHg'),\n",
       " Row(user_id='J5Eb7LhJaOa20k0ppcOCOg', score=0.9076639247312002, input_user_id='QBac9-Ii6jR-yLsQ5MVTHg'),\n",
       " Row(user_id='_IR48ok0ZkPMWJ2PlRCk0A', score=0.9070984934892682, input_user_id='QBac9-Ii6jR-yLsQ5MVTHg'),\n",
       " Row(user_id='bPUpO-bP6BmAGvSwPyDsng', score=0.9058483330903827, input_user_id='QBac9-Ii6jR-yLsQ5MVTHg'),\n",
       " Row(user_id='eV5usRjY2cDqNKVv8wXroA', score=0.9050774344012574, input_user_id='QBac9-Ii6jR-yLsQ5MVTHg'),\n",
       " Row(user_id='zkKv10FEw-iWJBHvK0mGfA', score=0.9037325430059482, input_user_id='QBac9-Ii6jR-yLsQ5MVTHg')]"
      ]
     },
     "execution_count": 71,
     "metadata": {},
     "output_type": "execute_result"
    }
   ],
   "source": [
    "getSimilarUsers(uids).head(20)"
   ]
  },
  {
   "cell_type": "code",
   "execution_count": 59,
   "metadata": {},
   "outputs": [],
   "source": [
    "schema = StructType([   \n",
    "                        StructField(\"user_id\", StringType(), True)\n",
    "                        ,StructField(\"score\", IntegerType(), True)\n",
    "                        ,StructField(\"input_user_id\", StringType(), True)\n",
    "                    ])\n",
    "\n",
    "similar_user_df = spark.createDataFrame([], schema)"
   ]
  },
  {
   "cell_type": "code",
   "execution_count": null,
   "metadata": {},
   "outputs": [
    {
     "name": "stdout",
     "output_type": "stream",
     "text": [
      "nOTl4aPC4tKHK35T3bNauQ\n"
     ]
    },
    {
     "name": "stderr",
     "output_type": "stream",
     "text": [
      "/anaconda3/lib/python3.6/site-packages/ipykernel_launcher.py:2: RuntimeWarning: invalid value encountered in double_scalars\n",
      "  \n"
     ]
    },
    {
     "name": "stdout",
     "output_type": "stream",
     "text": [
      "-------------------------------------\n",
      "[Row(user_id='uO1w3qNo21c1bVHHFTYW0w', score=0.9722554149044773, input_user_id='nOTl4aPC4tKHK35T3bNauQ'), Row(user_id='myrcQ3h2G04Gv-ANG_oqrg', score=0.9713812297786633, input_user_id='nOTl4aPC4tKHK35T3bNauQ'), Row(user_id='VVm-TFCpi9M1-k8ED0l1eA', score=0.9710125785824025, input_user_id='nOTl4aPC4tKHK35T3bNauQ'), Row(user_id='v1nRL_f2EQs7fjh_m0TdQQ', score=0.9691872614413708, input_user_id='nOTl4aPC4tKHK35T3bNauQ'), Row(user_id='vJGLEHyhCs9V-5fAe-xx3w', score=0.9686216169669871, input_user_id='nOTl4aPC4tKHK35T3bNauQ'), Row(user_id='PGx4HvY5joEeqXzam6tO7A', score=0.9658080239271866, input_user_id='nOTl4aPC4tKHK35T3bNauQ'), Row(user_id='USUw_VT31ygQ9JkEc6nPsg', score=0.9653626156916343, input_user_id='nOTl4aPC4tKHK35T3bNauQ'), Row(user_id='yL60onlTh1BmJKVLli_K3g', score=0.9646044155730369, input_user_id='nOTl4aPC4tKHK35T3bNauQ'), Row(user_id='n4usc2DF4pd9fdi2wLDloQ', score=0.9645918982625399, input_user_id='nOTl4aPC4tKHK35T3bNauQ'), Row(user_id='ZBllYKrFzaI0I7v6Wl26Wg', score=0.9639987177918352, input_user_id='nOTl4aPC4tKHK35T3bNauQ')]\n",
      "-------------------------------------\n",
      "QBac9-Ii6jR-yLsQ5MVTHg\n",
      "-------------------------------------\n",
      "[Row(user_id='xcBcIMVWEx1p7V8ACaeHpQ', score=0.9186675960618101, input_user_id='QBac9-Ii6jR-yLsQ5MVTHg'), Row(user_id='kw-YtOKPXrRB2a9wRZlmzQ', score=0.9154528761077289, input_user_id='QBac9-Ii6jR-yLsQ5MVTHg'), Row(user_id='MpN81tQOL86GaFse-_tTRQ', score=0.913263481576842, input_user_id='QBac9-Ii6jR-yLsQ5MVTHg'), Row(user_id='cNhHuEQMIpLH_qc9qGz67A', score=0.9107741561512877, input_user_id='QBac9-Ii6jR-yLsQ5MVTHg'), Row(user_id='g5W7s0n19gvT1Ujy_ITJog', score=0.9078462909984318, input_user_id='QBac9-Ii6jR-yLsQ5MVTHg'), Row(user_id='J5Eb7LhJaOa20k0ppcOCOg', score=0.9076639247312002, input_user_id='QBac9-Ii6jR-yLsQ5MVTHg'), Row(user_id='_IR48ok0ZkPMWJ2PlRCk0A', score=0.9070984934892682, input_user_id='QBac9-Ii6jR-yLsQ5MVTHg'), Row(user_id='bPUpO-bP6BmAGvSwPyDsng', score=0.9058483330903827, input_user_id='QBac9-Ii6jR-yLsQ5MVTHg'), Row(user_id='eV5usRjY2cDqNKVv8wXroA', score=0.9050774344012574, input_user_id='QBac9-Ii6jR-yLsQ5MVTHg'), Row(user_id='zkKv10FEw-iWJBHvK0mGfA', score=0.9037325430059482, input_user_id='QBac9-Ii6jR-yLsQ5MVTHg')]\n",
      "-------------------------------------\n"
     ]
    }
   ],
   "source": [
    "sim_user_limit = 10\n",
    "\n",
    "for b_id in uids:\n",
    "    print(b_id)\n",
    "    input_vec = [(r[1]) for r in all_user_vecs if r[0] == b_id][0]\n",
    "    #input_vec = reviews_by_business_trf_df.select('word_vec')\\\n",
    "                #.filter(reviews_by_business_trf_df['business_id'] == b_id)\\\n",
    "                #.collect()[0][0]\n",
    "\n",
    "    similar_user_rdd = sc.parallelize((i[0], float(CosineSim(input_vec, i[1]))) for i in all_user_vecs)\n",
    "\n",
    "    similar_user_df = spark.createDataFrame(similar_user_rdd) \\\n",
    "        .withColumnRenamed('_1', 'user_id') \\\n",
    "        .withColumnRenamed('_2', 'score') \\\n",
    "        .orderBy(\"score\", ascending = False)\n",
    "    similar_user_df = similar_user_df.dropna()\n",
    "    #.where(isnan(col(\"a\")))\n",
    "    similar_user_df = similar_user_df.filter(col(\"user_id\") != b_id).limit(sim_user_limit)\n",
    "    similar_user_df = similar_user_df.withColumn('input_user_id', lit(b_id))\n",
    "\n",
    "    similar_user_df = similar_user_df \\\n",
    "                                .union(similar_user_df)\n",
    "\n",
    "    print(\"-------------------------------------\")\n",
    "    print(similar_user_df.take(10))\n",
    "    print(\"-------------------------------------\")"
   ]
  },
  {
   "cell_type": "code",
   "execution_count": 62,
   "metadata": {},
   "outputs": [
    {
     "data": {
      "text/plain": [
       "ParallelCollectionRDD[499] at parallelize at PythonRDD.scala:184"
      ]
     },
     "execution_count": 62,
     "metadata": {},
     "output_type": "execute_result"
    }
   ],
   "source": [
    "similar_user_rdd"
   ]
  },
  {
   "cell_type": "code",
   "execution_count": 73,
   "metadata": {},
   "outputs": [
    {
     "name": "stdout",
     "output_type": "stream",
     "text": [
      "[Row(user_id='xcBcIMVWEx1p7V8ACaeHpQ', score=0.9186675960618101, input_user_id='QBac9-Ii6jR-yLsQ5MVTHg'), Row(user_id='kw-YtOKPXrRB2a9wRZlmzQ', score=0.9154528761077289, input_user_id='QBac9-Ii6jR-yLsQ5MVTHg'), Row(user_id='MpN81tQOL86GaFse-_tTRQ', score=0.913263481576842, input_user_id='QBac9-Ii6jR-yLsQ5MVTHg'), Row(user_id='cNhHuEQMIpLH_qc9qGz67A', score=0.9107741561512877, input_user_id='QBac9-Ii6jR-yLsQ5MVTHg'), Row(user_id='g5W7s0n19gvT1Ujy_ITJog', score=0.9078462909984318, input_user_id='QBac9-Ii6jR-yLsQ5MVTHg'), Row(user_id='J5Eb7LhJaOa20k0ppcOCOg', score=0.9076639247312002, input_user_id='QBac9-Ii6jR-yLsQ5MVTHg'), Row(user_id='_IR48ok0ZkPMWJ2PlRCk0A', score=0.9070984934892682, input_user_id='QBac9-Ii6jR-yLsQ5MVTHg'), Row(user_id='bPUpO-bP6BmAGvSwPyDsng', score=0.9058483330903827, input_user_id='QBac9-Ii6jR-yLsQ5MVTHg'), Row(user_id='eV5usRjY2cDqNKVv8wXroA', score=0.9050774344012574, input_user_id='QBac9-Ii6jR-yLsQ5MVTHg'), Row(user_id='zkKv10FEw-iWJBHvK0mGfA', score=0.9037325430059482, input_user_id='QBac9-Ii6jR-yLsQ5MVTHg'), Row(user_id='xcBcIMVWEx1p7V8ACaeHpQ', score=0.9186675960618101, input_user_id='QBac9-Ii6jR-yLsQ5MVTHg'), Row(user_id='kw-YtOKPXrRB2a9wRZlmzQ', score=0.9154528761077289, input_user_id='QBac9-Ii6jR-yLsQ5MVTHg'), Row(user_id='MpN81tQOL86GaFse-_tTRQ', score=0.913263481576842, input_user_id='QBac9-Ii6jR-yLsQ5MVTHg'), Row(user_id='cNhHuEQMIpLH_qc9qGz67A', score=0.9107741561512877, input_user_id='QBac9-Ii6jR-yLsQ5MVTHg'), Row(user_id='g5W7s0n19gvT1Ujy_ITJog', score=0.9078462909984318, input_user_id='QBac9-Ii6jR-yLsQ5MVTHg'), Row(user_id='J5Eb7LhJaOa20k0ppcOCOg', score=0.9076639247312002, input_user_id='QBac9-Ii6jR-yLsQ5MVTHg'), Row(user_id='_IR48ok0ZkPMWJ2PlRCk0A', score=0.9070984934892682, input_user_id='QBac9-Ii6jR-yLsQ5MVTHg'), Row(user_id='bPUpO-bP6BmAGvSwPyDsng', score=0.9058483330903827, input_user_id='QBac9-Ii6jR-yLsQ5MVTHg'), Row(user_id='eV5usRjY2cDqNKVv8wXroA', score=0.9050774344012574, input_user_id='QBac9-Ii6jR-yLsQ5MVTHg'), Row(user_id='zkKv10FEw-iWJBHvK0mGfA', score=0.9037325430059482, input_user_id='QBac9-Ii6jR-yLsQ5MVTHg')]\n"
     ]
    }
   ],
   "source": [
    "print(similar_user_df.take(100))"
   ]
  },
  {
   "cell_type": "code",
   "execution_count": null,
   "metadata": {},
   "outputs": [],
   "source": []
  }
 ],
 "metadata": {
  "kernelspec": {
   "display_name": "Python 3",
   "language": "python",
   "name": "python3"
  },
  "language_info": {
   "codemirror_mode": {
    "name": "ipython",
    "version": 3
   },
   "file_extension": ".py",
   "mimetype": "text/x-python",
   "name": "python",
   "nbconvert_exporter": "python",
   "pygments_lexer": "ipython3",
   "version": "3.6.4"
  },
  "varInspector": {
   "cols": {
    "lenName": 16,
    "lenType": 16,
    "lenVar": 40
   },
   "kernels_config": {
    "python": {
     "delete_cmd_postfix": "",
     "delete_cmd_prefix": "del ",
     "library": "var_list.py",
     "varRefreshCmd": "print(var_dic_list())"
    },
    "r": {
     "delete_cmd_postfix": ") ",
     "delete_cmd_prefix": "rm(",
     "library": "var_list.r",
     "varRefreshCmd": "cat(var_dic_list()) "
    }
   },
   "types_to_exclude": [
    "module",
    "function",
    "builtin_function_or_method",
    "instance",
    "_Feature"
   ],
   "window_display": false
  }
 },
 "nbformat": 4,
 "nbformat_minor": 2
}
